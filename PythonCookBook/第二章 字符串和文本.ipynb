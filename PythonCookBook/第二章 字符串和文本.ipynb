{
 "cells": [
  {
   "cell_type": "markdown",
   "metadata": {},
   "source": [
    "## 第二章 字符串和文本\n",
    "#### 针对任意多的分隔符拆分字符串"
   ]
  },
  {
   "cell_type": "code",
   "execution_count": 6,
   "metadata": {},
   "outputs": [
    {
     "data": {
      "text/plain": [
       "['asd', 'fdf', 'gh', 'fgh']"
      ]
     },
     "execution_count": 6,
     "metadata": {},
     "output_type": "execute_result"
    }
   ],
   "source": [
    "line = 'asd\"fdf/gh;fgh'\n",
    "import re\n",
    "re.split(r'[\"/;]',line)"
   ]
  },
  {
   "cell_type": "markdown",
   "metadata": {},
   "source": [
    "#### 在字符串的开头或者结尾做文本匹配"
   ]
  },
  {
   "cell_type": "code",
   "execution_count": 11,
   "metadata": {},
   "outputs": [
    {
     "data": {
      "text/plain": [
       "<_sre.SRE_Match object; span=(0, 5), match='http:'>"
      ]
     },
     "execution_count": 11,
     "metadata": {},
     "output_type": "execute_result"
    }
   ],
   "source": [
    "filename = 'hello.py'\n",
    "filename.startswith('hello')\n",
    "filename.endswith('.py')\n",
    "\n",
    "import re\n",
    "url = 'http://www.python.org'\n",
    "re.match('http:|https:|ftp:',url)"
   ]
  },
  {
   "cell_type": "markdown",
   "metadata": {},
   "source": [
    "#### 利用Shell通配符做字符串匹配"
   ]
  },
  {
   "cell_type": "code",
   "execution_count": 18,
   "metadata": {},
   "outputs": [
    {
     "data": {
      "text/plain": [
       "False"
      ]
     },
     "execution_count": 18,
     "metadata": {},
     "output_type": "execute_result"
    }
   ],
   "source": [
    "from fnmatch import fnmatch,fnmatchcase\n",
    "\n",
    "fnmatch('foo.txt','*.txt')\n",
    "fnmatch('foo.txt','?oo.txt')\n",
    "fnmatch('Dat45.csv','Dat[0-9]*')\n",
    "\n",
    "# MAC False Windows True\n",
    "fnmatch('foo.txt','*.TXT')\n",
    "# MAC False Windows False\n",
    "fnmatchcase('foo.txt','*.TXT')"
   ]
  },
  {
   "cell_type": "markdown",
   "metadata": {},
   "source": [
    "* fnmatch所完成的匹配操作有点介乎于简单的字符串方法和全功能的正则表达式之间"
   ]
  },
  {
   "cell_type": "markdown",
   "metadata": {},
   "source": [
    "#### 文本模式的匹配和查找\n",
    "* 简单的 startswith endwith find"
   ]
  },
  {
   "cell_type": "code",
   "execution_count": 19,
   "metadata": {},
   "outputs": [
    {
     "data": {
      "text/plain": [
       "6"
      ]
     },
     "execution_count": 19,
     "metadata": {},
     "output_type": "execute_result"
    }
   ],
   "source": [
    "test = 'Hello world!'\n",
    "test.find('wo')"
   ]
  },
  {
   "cell_type": "markdown",
   "metadata": {},
   "source": [
    "* 复杂一些的 re"
   ]
  },
  {
   "cell_type": "code",
   "execution_count": 5,
   "metadata": {},
   "outputs": [
    {
     "name": "stdout",
     "output_type": "stream",
     "text": [
      "no\n",
      "no\n"
     ]
    }
   ],
   "source": [
    "text1 = '10/30/2017'\n",
    "text2 = 'Oct 30, 2017'\n",
    "\n",
    "import re\n",
    "if re.match(r'\\d+/\\d+/\\d+',text1):\n",
    "    print('yes')\n",
    "else:\n",
    "    print('no')\n",
    "\n",
    "if re.match(r'\\d+/\\d+/\\d+',text2):\n",
    "    print('yes')\n",
    "else:\n",
    "    print('no')"
   ]
  },
  {
   "cell_type": "markdown",
   "metadata": {},
   "source": [
    "* 如果打算对同一种模式做多次匹配"
   ]
  },
  {
   "cell_type": "code",
   "execution_count": 12,
   "metadata": {},
   "outputs": [
    {
     "name": "stdout",
     "output_type": "stream",
     "text": [
      "no\n",
      "no\n"
     ]
    }
   ],
   "source": [
    "datepat = re.compile(r'\\d+/\\d+/\\d+')\n",
    "\n",
    "text1 = 'a10/30/2017a10/30/2017'\n",
    "if datepat.match(text1):\n",
    "    print('yes')\n",
    "else:\n",
    "    print('no')\n",
    "\n",
    "if datepat.match(text2):\n",
    "    print('yes')\n",
    "else:\n",
    "    print('no')"
   ]
  },
  {
   "cell_type": "markdown",
   "metadata": {},
   "source": [
    "* match()方法总是尝试在字符串的开头找匹配项,如果想针对整个文本搜索出所有的匹配项,那么应该视图findall()方法"
   ]
  },
  {
   "cell_type": "code",
   "execution_count": 13,
   "metadata": {},
   "outputs": [
    {
     "data": {
      "text/plain": [
       "['10/30/2017', '10/30/2017']"
      ]
     },
     "execution_count": 13,
     "metadata": {},
     "output_type": "execute_result"
    }
   ],
   "source": [
    "datepat.findall(text1)"
   ]
  },
  {
   "cell_type": "markdown",
   "metadata": {},
   "source": [
    "* 引入捕获组"
   ]
  },
  {
   "cell_type": "code",
   "execution_count": 20,
   "metadata": {},
   "outputs": [
    {
     "data": {
      "text/plain": [
       "('10', '31', '2017')"
      ]
     },
     "execution_count": 20,
     "metadata": {},
     "output_type": "execute_result"
    }
   ],
   "source": [
    "datepat = re.compile(r'(\\d+)/(\\d+)/(\\d+)')\n",
    "m = datepat.match('10/31/2017')\n",
    "m.group(0)\n",
    "m.group(3)\n",
    "m.groups()"
   ]
  },
  {
   "cell_type": "code",
   "execution_count": 24,
   "metadata": {},
   "outputs": [
    {
     "name": "stdout",
     "output_type": "stream",
     "text": [
      "2017-11-31\n",
      "2013-03-13\n"
     ]
    }
   ],
   "source": [
    "text = 'Today is 11/31/2017.PyCon starts 03/13/2013'\n",
    "datepat.findall(text)\n",
    "\n",
    "for month, day, year in datepat.findall(text):\n",
    "    print('{}-{}-{}'.format(year, month, day))"
   ]
  },
  {
   "cell_type": "markdown",
   "metadata": {},
   "source": [
    "#### 查找和替换文本\n",
    "* 简单的可以使用str.replace()"
   ]
  },
  {
   "cell_type": "code",
   "execution_count": 30,
   "metadata": {},
   "outputs": [
    {
     "data": {
      "text/plain": [
       "'Hi world!'"
      ]
     },
     "execution_count": 30,
     "metadata": {},
     "output_type": "execute_result"
    }
   ],
   "source": [
    "text = 'Hello world!'\n",
    "\n",
    "text.replace('Hello','Hi')"
   ]
  },
  {
   "cell_type": "markdown",
   "metadata": {},
   "source": [
    "* 复杂的模式使用re.sub()"
   ]
  },
  {
   "cell_type": "code",
   "execution_count": 33,
   "metadata": {},
   "outputs": [
    {
     "data": {
      "text/plain": [
       "'Today is 2017-11-31.PyCon starts 2013-03-13'"
      ]
     },
     "execution_count": 33,
     "metadata": {},
     "output_type": "execute_result"
    }
   ],
   "source": [
    "text = 'Today is 11/31/2017.PyCon starts 03/13/2013'\n",
    "\n",
    "import re\n",
    "re.sub(r'(\\d+)/(\\d+)/(\\d+)',r'\\3-\\1-\\2',text)"
   ]
  },
  {
   "cell_type": "markdown",
   "metadata": {},
   "source": [
    "* 对于更复杂的情况,可以指定一个替换回调函数"
   ]
  },
  {
   "cell_type": "code",
   "execution_count": 37,
   "metadata": {},
   "outputs": [
    {
     "data": {
      "text/plain": [
       "'Today is 31 Nov 2017.PyCon starts 13 Mar 2013'"
      ]
     },
     "execution_count": 37,
     "metadata": {},
     "output_type": "execute_result"
    }
   ],
   "source": [
    "from calendar import month_abbr\n",
    "def change_date(m):\n",
    "    mon_name = month_abbr[int(m.group(1))]\n",
    "    return '{} {} {}'.format(m.group(2),mon_name,m.group(3))\n",
    "\n",
    "datepat.sub(change_date,text)"
   ]
  },
  {
   "cell_type": "markdown",
   "metadata": {},
   "source": [
    "#### 以不区分大小写的方式对文本做查找和替换"
   ]
  },
  {
   "cell_type": "code",
   "execution_count": 44,
   "metadata": {},
   "outputs": [
    {
     "data": {
      "text/plain": [
       "'UPDATE snake, lower snake, Mixed snake'"
      ]
     },
     "execution_count": 44,
     "metadata": {},
     "output_type": "execute_result"
    }
   ],
   "source": [
    "text = 'UPDATE PYTHON, lower python, Mixed Python'\n",
    "\n",
    "import re\n",
    "re.findall('python',text)\n",
    "re.sub('python', 'snake', text, flags=re.IGNORECASE)"
   ]
  },
  {
   "cell_type": "markdown",
   "metadata": {},
   "source": [
    "* 运行后我们发现有一些小瑕疵,就是替换后的文本大小写跟之前的不一样,为了修正这个问题需要用到一个support function"
   ]
  },
  {
   "cell_type": "code",
   "execution_count": 49,
   "metadata": {},
   "outputs": [
    {
     "data": {
      "text/plain": [
       "'UPDATE SNAKE, lower snake, Mixed Snake'"
      ]
     },
     "execution_count": 49,
     "metadata": {},
     "output_type": "execute_result"
    }
   ],
   "source": [
    "def matchcase(word):\n",
    "    def replace(m):\n",
    "        text = m.group()\n",
    "        if text.isupper():\n",
    "            return word.upper()\n",
    "        elif text.islower():\n",
    "            return word.lower()\n",
    "        elif text[0].isupper:\n",
    "            return word.capitalize()\n",
    "        else:\n",
    "            return word\n",
    "    return replace\n",
    "\n",
    "re.sub('python', matchcase('snake'), text, flags=re.IGNORECASE)"
   ]
  },
  {
   "cell_type": "markdown",
   "metadata": {},
   "source": [
    "#### 定义实现最短匹配的正则表达式"
   ]
  },
  {
   "cell_type": "code",
   "execution_count": 52,
   "metadata": {},
   "outputs": [
    {
     "data": {
      "text/plain": [
       "['world\" One \"dream']"
      ]
     },
     "execution_count": 52,
     "metadata": {},
     "output_type": "execute_result"
    }
   ],
   "source": [
    "str_pat = re.compile(r'\\\"(.*)\\\"')\n",
    "text1 = 'Hello \"world\"~'\n",
    "str_pat.findall(text1)\n",
    "\n",
    "text2 = 'One \"world\" One \"dream\"'\n",
    "str_pat.findall(text2)"
   ]
  },
  {
   "cell_type": "markdown",
   "metadata": {},
   "source": [
    "* 操作符在正则表达式采用的是贪心策略,所以匹配过程是基于最长的可能匹配进行的"
   ]
  },
  {
   "cell_type": "code",
   "execution_count": 54,
   "metadata": {},
   "outputs": [
    {
     "data": {
      "text/plain": [
       "['world', 'dream']"
      ]
     },
     "execution_count": 54,
     "metadata": {},
     "output_type": "execute_result"
    }
   ],
   "source": [
    "str_pat = re.compile(r'\\\"(.*?)\\\"')\n",
    "\n",
    "text2 = 'One \"world\" One \"dream\"'\n",
    "str_pat.findall(text2)"
   ]
  },
  {
   "cell_type": "markdown",
   "metadata": {},
   "source": [
    "#### Unicode 文本统一表示为规范形式"
   ]
  },
  {
   "cell_type": "code",
   "execution_count": 61,
   "metadata": {},
   "outputs": [
    {
     "name": "stdout",
     "output_type": "stream",
     "text": [
      "What's your ñame What's your ñame\n"
     ]
    },
    {
     "data": {
      "text/plain": [
       "False"
      ]
     },
     "execution_count": 61,
     "metadata": {},
     "output_type": "execute_result"
    }
   ],
   "source": [
    "s1 = 'What\\'s your \\u00f1ame'\n",
    "s2 = 'What\\'s your n\\u0303ame'\n",
    "print(s1,s2)\n",
    "s1 == s2"
   ]
  },
  {
   "cell_type": "markdown",
   "metadata": {},
   "source": [
    "* 这里的'name'以两种形式呈现 第一种使用全组成形式  第二种使用字母+符号组成\n",
    "* 为了将文本统一,可以通过unicodedata模块"
   ]
  },
  {
   "cell_type": "code",
   "execution_count": 66,
   "metadata": {},
   "outputs": [
    {
     "data": {
      "text/plain": [
       "True"
      ]
     },
     "execution_count": 66,
     "metadata": {},
     "output_type": "execute_result"
    }
   ],
   "source": [
    "import unicodedata\n",
    "t1 = unicodedata.normalize('NFC',s1)\n",
    "t2 = unicodedata.normalize('NFC',s2)\n",
    "t1 == t2\n",
    "\n",
    "t1 = unicodedata.normalize('NFD',s1)\n",
    "t2 = unicodedata.normalize('NFD',s2)\n",
    "t1 == t2"
   ]
  },
  {
   "cell_type": "markdown",
   "metadata": {},
   "source": [
    "#### 从字符串中去掉不需要的字符\n",
    "* 字符串两头的字符使用 strip() lstrip() rstrip()\n",
    "* 字符串中的字符 replace()\n",
    "#### 对齐字符串\n",
    "* ljust() rjust() center()\n",
    "* format()"
   ]
  },
  {
   "cell_type": "code",
   "execution_count": 74,
   "metadata": {},
   "outputs": [
    {
     "data": {
      "text/plain": [
       "'     Hello     world'"
      ]
     },
     "execution_count": 74,
     "metadata": {},
     "output_type": "execute_result"
    }
   ],
   "source": [
    "text = 'Hello world'\n",
    "format(text,'>20')\n",
    "format(text,'<20')\n",
    "format(text,'^20')\n",
    "\n",
    "'{:>10s}{:>10s}'.format('Hello','world')"
   ]
  },
  {
   "cell_type": "markdown",
   "metadata": {},
   "source": [
    "#### 字符串连接及合并"
   ]
  },
  {
   "cell_type": "code",
   "execution_count": 80,
   "metadata": {},
   "outputs": [
    {
     "data": {
      "text/plain": [
       "'hello world'"
      ]
     },
     "execution_count": 80,
     "metadata": {},
     "output_type": "execute_result"
    }
   ],
   "source": [
    "parts = ['Is','Beijing','Not','Shanghai?']\n",
    "' '.join(parts)\n",
    "','.join(parts)\n",
    "\n",
    "a = 'hello'\n",
    "b = 'world'\n",
    "a + b\n",
    "'{} {}'.format(a,b)"
   ]
  },
  {
   "cell_type": "code",
   "execution_count": 83,
   "metadata": {},
   "outputs": [
    {
     "name": "stdout",
     "output_type": "stream",
     "text": [
      "hello:world\n",
      "hello:world\n",
      "hello:world\n"
     ]
    }
   ],
   "source": [
    "print(a + ':' + b)     #Ugly\n",
    "print(':'.join([a,b])) #Still Ugly\n",
    "print(a, b, sep=':')   #Better"
   ]
  },
  {
   "cell_type": "markdown",
   "metadata": {},
   "source": [
    "#### 给字符串中的变量名做插值处理"
   ]
  },
  {
   "cell_type": "code",
   "execution_count": 86,
   "metadata": {},
   "outputs": [
    {
     "data": {
      "text/plain": [
       "'JackMa has 88 messages.'"
      ]
     },
     "execution_count": 86,
     "metadata": {},
     "output_type": "execute_result"
    }
   ],
   "source": [
    "s = '{name} has {n} messages.'\n",
    "s.format(name = 'JackMa',n=88)"
   ]
  },
  {
   "cell_type": "markdown",
   "metadata": {},
   "source": [
    "* 另一种方式是 如果被替换的值确实能在变量中找到 则可以使用format_map()和vars()联合起来使用"
   ]
  },
  {
   "cell_type": "code",
   "execution_count": 98,
   "metadata": {},
   "outputs": [
    {
     "data": {
      "text/plain": [
       "'TomMa has 66 messages.'"
      ]
     },
     "execution_count": 98,
     "metadata": {},
     "output_type": "execute_result"
    }
   ],
   "source": [
    "name = 'TomMa'\n",
    "n = 66\n",
    "s.format_map(vars())"
   ]
  },
  {
   "cell_type": "markdown",
   "metadata": {},
   "source": [
    "* 不过format和format_map都无法优雅地处理缺少某个值的情况"
   ]
  },
  {
   "cell_type": "code",
   "execution_count": 99,
   "metadata": {},
   "outputs": [
    {
     "ename": "KeyError",
     "evalue": "'n'",
     "output_type": "error",
     "traceback": [
      "\u001b[0;31m-------------------------------------------------------------\u001b[0m",
      "\u001b[0;31mKeyError\u001b[0m                    Traceback (most recent call last)",
      "\u001b[0;32m<ipython-input-99-2873c0c279ce>\u001b[0m in \u001b[0;36m<module>\u001b[0;34m()\u001b[0m\n\u001b[0;32m----> 1\u001b[0;31m \u001b[0ms\u001b[0m\u001b[0;34m.\u001b[0m\u001b[0mformat\u001b[0m\u001b[0;34m(\u001b[0m\u001b[0mname\u001b[0m\u001b[0;34m=\u001b[0m\u001b[0;34m'Koera'\u001b[0m\u001b[0;34m)\u001b[0m\u001b[0;34m\u001b[0m\u001b[0m\n\u001b[0m",
      "\u001b[0;31mKeyError\u001b[0m: 'n'"
     ]
    }
   ],
   "source": [
    "s.format(name='Koera')"
   ]
  },
  {
   "cell_type": "markdown",
   "metadata": {},
   "source": [
    "* 避免这种情况的一种方法是单独定义一个带有__missing__()方法的字典类"
   ]
  },
  {
   "cell_type": "code",
   "execution_count": 100,
   "metadata": {},
   "outputs": [
    {
     "data": {
      "text/plain": [
       "'TomMa has {n} messages.'"
      ]
     },
     "execution_count": 100,
     "metadata": {},
     "output_type": "execute_result"
    }
   ],
   "source": [
    "class safesub(dict):\n",
    "    def __missing__(self,key):\n",
    "        return '{' + key + '}'\n",
    "\n",
    "del n\n",
    "s.format_map(safesub(vars()))"
   ]
  },
  {
   "cell_type": "markdown",
   "metadata": {},
   "source": [
    "#### 以固定的列数重新格式化文本"
   ]
  },
  {
   "cell_type": "code",
   "execution_count": 114,
   "metadata": {},
   "outputs": [
    {
     "name": "stdout",
     "output_type": "stream",
     "text": [
      "    The Zen of Python, by Tim Peters  Beautiful is better than ugly.\n",
      "Explicit is better than implicit. Simple is better than complex.\n",
      "Complex is better than complicated. Flat is better than nested. Sparse\n",
      "is better than dense. Readability counts. Special cases aren't special\n",
      "enough to break the rules. Although practicality beats purity. Errors\n",
      "should never pass silently. Unless explicitly silenced. In the face of\n",
      "ambiguity, refuse the temptation to guess. There should be one-- and\n",
      "preferably only one --obvious way to do it. Although that way may not\n",
      "be obvious at first unless you're Dutch. Now is better than never.\n",
      "Although never is often better than *right* now. If the implementation\n",
      "is hard to explain, it's a bad idea. If the implementation is easy to\n",
      "explain, it may be a good idea. Namespaces are one honking great idea\n",
      "-- let's do more of those!\n",
      "--------------------------------------------------------------------------------\n",
      "The Zen of Python, by Tim Peters  Beautiful is better than ugly.\n",
      "    Explicit is better than implicit. Simple is better than complex.\n",
      "    Complex is better than complicated. Flat is better than nested.\n",
      "    Sparse is better than dense. Readability counts. Special cases\n",
      "    aren't special enough to break the rules. Although practicality\n",
      "    beats purity. Errors should never pass silently. Unless explicitly\n",
      "    silenced. In the face of ambiguity, refuse the temptation to\n",
      "    guess. There should be one-- and preferably only one --obvious way\n",
      "    to do it. Although that way may not be obvious at first unless\n",
      "    you're Dutch. Now is better than never. Although never is often\n",
      "    better than *right* now. If the implementation is hard to explain,\n",
      "    it's a bad idea. If the implementation is easy to explain, it may\n",
      "    be a good idea. Namespaces are one honking great idea -- let's do\n",
      "    more of those!\n"
     ]
    }
   ],
   "source": [
    "with open('test.txt','r') as f:\n",
    "    s = f.read()\n",
    "\n",
    "import textwrap\n",
    "print(textwrap.fill(s,70,initial_indent='    '))\n",
    "print('-'*80)\n",
    "print(textwrap.fill(s,70,subsequent_indent='    '))"
   ]
  },
  {
   "cell_type": "code",
   "execution_count": 117,
   "metadata": {},
   "outputs": [
    {
     "data": {
      "text/plain": [
       "61"
      ]
     },
     "execution_count": 117,
     "metadata": {},
     "output_type": "execute_result"
    }
   ],
   "source": [
    "import os\n",
    "os.get_terminal_size().columns"
   ]
  },
  {
   "cell_type": "markdown",
   "metadata": {},
   "source": [
    "#### 在文本中处理HTML和XML实体"
   ]
  },
  {
   "cell_type": "code",
   "execution_count": 121,
   "metadata": {},
   "outputs": [
    {
     "name": "stdout",
     "output_type": "stream",
     "text": [
      "Elements are written as \"<tag>text</tag>\"\n",
      "Elements are written as &quot;&lt;tag&gt;text&lt;/tag&gt;&quot;\n",
      "Elements are written as \"&lt;tag&gt;text&lt;/tag&gt;\"\n"
     ]
    }
   ],
   "source": [
    "s = 'Elements are written as \"<tag>text</tag>\"'\n",
    "\n",
    "import html\n",
    "print(s)\n",
    "print(html.escape(s))\n",
    "print(html.escape(s,quote=False))\n"
   ]
  },
  {
   "cell_type": "code",
   "execution_count": null,
   "metadata": {},
   "outputs": [],
   "source": []
  }
 ],
 "metadata": {
  "kernelspec": {
   "display_name": "Python 3",
   "language": "python",
   "name": "python3"
  },
  "language_info": {
   "codemirror_mode": {
    "name": "ipython",
    "version": 3
   },
   "file_extension": ".py",
   "mimetype": "text/x-python",
   "name": "python",
   "nbconvert_exporter": "python",
   "pygments_lexer": "ipython3",
   "version": "3.5.2"
  }
 },
 "nbformat": 4,
 "nbformat_minor": 2
}

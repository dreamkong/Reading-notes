{
 "cells": [
  {
   "cell_type": "markdown",
   "metadata": {},
   "source": [
    "### 构造程序逻辑"
   ]
  },
  {
   "cell_type": "markdown",
   "metadata": {},
   "source": [
    "#### 经典例子"
   ]
  },
  {
   "cell_type": "markdown",
   "metadata": {},
   "source": [
    "* 1 寻找水仙花数"
   ]
  },
  {
   "cell_type": "code",
   "execution_count": 4,
   "metadata": {},
   "outputs": [
    {
     "name": "stdout",
     "output_type": "stream",
     "text": [
      "153\n",
      "370\n",
      "371\n",
      "407\n"
     ]
    }
   ],
   "source": [
    "'''\n",
    "寻找水仙花数\n",
    "\n",
    "author: dk\n",
    "'''\n",
    "for n in range(100, 1000):\n",
    "    low = n % 10\n",
    "    mid = n // 10 % 10\n",
    "    high = n // 100\n",
    "    if low ** 3 + mid ** 3 + high ** 3 == n:\n",
    "        print(n)"
   ]
  },
  {
   "cell_type": "code",
   "execution_count": 2,
   "metadata": {},
   "outputs": [
    {
     "data": {
      "text/plain": [
       "0.3000000000000007"
      ]
     },
     "execution_count": 2,
     "metadata": {},
     "output_type": "execute_result"
    }
   ],
   "source": [
    "12.3 % 2"
   ]
  },
  {
   "cell_type": "markdown",
   "metadata": {},
   "source": [
    "* 2 正整数的翻转"
   ]
  },
  {
   "cell_type": "code",
   "execution_count": 2,
   "metadata": {},
   "outputs": [
    {
     "name": "stdout",
     "output_type": "stream",
     "text": [
      "请输入一个正整数：1234\n",
      "4321\n"
     ]
    }
   ],
   "source": [
    "'''\n",
    "正整数的翻转\n",
    "\n",
    "author: dk\n",
    "'''\n",
    "revered_num = 0\n",
    "try:\n",
    "    n = int(input('请输入一个正整数：'))\n",
    "    while n > 0:\n",
    "        temp = n % 10\n",
    "        revered_num = revered_num * 10 + temp\n",
    "        n //= 10\n",
    "    print(revered_num)\n",
    "except:\n",
    "    print('输入数据不合法')"
   ]
  },
  {
   "cell_type": "markdown",
   "metadata": {},
   "source": [
    "* 3 百钱白鸡问题\n",
    "> **说明**：百钱百鸡是我国古代数学家[张丘建](https://baike.baidu.com/item/%E5%BC%A0%E4%B8%98%E5%BB%BA/10246238)在《算经》一书中提出的数学问题：鸡翁一值钱五，鸡母一值钱三，鸡雏三值钱一。百钱买百鸡，问鸡翁、鸡母、鸡雏各几何？翻译成现代文是：公鸡5元一只，母鸡3元一只，小鸡1元三只，用100块钱买一百只鸡，问公鸡、母鸡、小鸡各有多少只？"
   ]
  },
  {
   "cell_type": "code",
   "execution_count": 3,
   "metadata": {},
   "outputs": [
    {
     "name": "stdout",
     "output_type": "stream",
     "text": [
      "公鸡：0母鸡：25小鸡：75\n",
      "公鸡：4母鸡：18小鸡：78\n",
      "公鸡：8母鸡：11小鸡：81\n",
      "公鸡：12母鸡：4小鸡：84\n"
     ]
    }
   ],
   "source": [
    "'''\n",
    "百钱白鸡问题\n",
    "\n",
    "author: dk\n",
    "'''\n",
    "for i in range(101):\n",
    "    for j in range(101):\n",
    "        if i * 5 + j * 3 + (100 - i - j) / 3 == 100:\n",
    "            print('公鸡：{}母鸡：{}小鸡：{}'.format(i, j, 100 - i - j))"
   ]
  },
  {
   "cell_type": "markdown",
   "metadata": {},
   "source": [
    "* 4 CRAPS赌博游戏\n",
    "> **说明**：CRAPS又称花旗骰，是美国拉斯维加斯非常受欢迎的一种的桌上赌博游戏。该游戏使用两粒骰子，玩家通过摇两粒骰子获得点数进行游戏。简单的规则是：玩家第一次摇骰子如果摇出了7点或11点，玩家胜；玩家第一次如果摇出2点、3点或12点，庄家胜；其他点数玩家继续摇骰子，如果玩家摇出了7点，庄家胜；如果玩家摇出了第一次摇的点数，玩家胜；其他点数，玩家继续要骰子，直到分出胜负。"
   ]
  },
  {
   "cell_type": "code",
   "execution_count": 4,
   "metadata": {},
   "outputs": [
    {
     "name": "stdout",
     "output_type": "stream",
     "text": [
      "您当前资产为： 1000\n",
      "请下注：888\n",
      "玩家摇出了9点\n",
      "玩家摇出了9点\n",
      "玩家胜利\n",
      "您当前资产为： 1888\n",
      "请下注：1\n",
      "玩家摇出了5点\n",
      "玩家摇出了10点\n",
      "玩家摇出了7点\n",
      "庄家胜利\n",
      "您当前资产为： 1887\n",
      "请下注：2\n",
      "玩家摇出了2点\n",
      "庄家胜利\n",
      "您当前资产为： 1885\n",
      "请下注：999\n",
      "玩家摇出了5点\n",
      "玩家摇出了10点\n",
      "玩家摇出了12点\n",
      "玩家摇出了4点\n",
      "玩家摇出了8点\n",
      "玩家摇出了5点\n",
      "玩家胜利\n",
      "您当前资产为： 2884\n",
      "请下注：8\n",
      "玩家摇出了12点\n",
      "庄家胜利\n",
      "您当前资产为： 2876\n",
      "请下注：9\n",
      "玩家摇出了6点\n",
      "玩家摇出了10点\n",
      "玩家摇出了9点\n",
      "玩家摇出了5点\n",
      "玩家摇出了7点\n",
      "庄家胜利\n",
      "您当前资产为： 2867\n",
      "请下注：6\n",
      "玩家摇出了8点\n",
      "玩家摇出了4点\n",
      "玩家摇出了8点\n",
      "玩家胜利\n",
      "您当前资产为： 2873\n",
      "请下注：1\n",
      "玩家摇出了12点\n",
      "庄家胜利\n",
      "您当前资产为： 2872\n",
      "请下注：2\n",
      "玩家摇出了10点\n",
      "玩家摇出了7点\n",
      "庄家胜利\n",
      "您当前资产为： 2870\n",
      "请下注：3\n",
      "玩家摇出了8点\n",
      "玩家摇出了8点\n",
      "玩家胜利\n",
      "您当前资产为： 2873\n",
      "请下注：4\n",
      "玩家摇出了7点\n",
      "玩家胜利\n",
      "您当前资产为： 2877\n",
      "请下注：5\n",
      "玩家摇出了11点\n",
      "玩家胜利\n",
      "您当前资产为： 2882\n",
      "请下注：4\n",
      "玩家摇出了3点\n",
      "庄家胜利\n",
      "您当前资产为： 2878\n",
      "请下注：5\n",
      "玩家摇出了3点\n",
      "庄家胜利\n",
      "您当前资产为： 2873\n",
      "请下注：999\n",
      "玩家摇出了7点\n",
      "玩家胜利\n",
      "您当前资产为： 3872\n",
      "请下注：3\n",
      "玩家摇出了7点\n",
      "玩家胜利\n",
      "您当前资产为： 3875\n",
      "请下注：1999\n",
      "玩家摇出了7点\n",
      "玩家胜利\n",
      "您当前资产为： 5874\n",
      "请下注：888\n",
      "玩家摇出了7点\n",
      "玩家胜利\n",
      "您当前资产为： 6762\n",
      "请下注：3\n",
      "玩家摇出了6点\n",
      "玩家摇出了4点\n",
      "玩家摇出了4点\n",
      "玩家摇出了7点\n",
      "庄家胜利\n",
      "您当前资产为： 6759\n",
      "请下注：2\n",
      "玩家摇出了6点\n",
      "玩家摇出了5点\n",
      "玩家摇出了11点\n",
      "玩家摇出了9点\n",
      "玩家摇出了10点\n",
      "玩家摇出了6点\n",
      "玩家胜利\n",
      "您当前资产为： 6761\n",
      "请下注：6666\n",
      "玩家摇出了8点\n",
      "玩家摇出了4点\n",
      "玩家摇出了8点\n",
      "玩家胜利\n",
      "您当前资产为： 13427\n",
      "请下注：13333\n",
      "玩家摇出了2点\n",
      "庄家胜利\n",
      "您当前资产为： 94\n",
      "请下注：88\n",
      "玩家摇出了7点\n",
      "玩家胜利\n",
      "您当前资产为： 182\n",
      "请下注：99\n",
      "玩家摇出了6点\n",
      "玩家摇出了4点\n",
      "玩家摇出了6点\n",
      "玩家胜利\n",
      "您当前资产为： 281\n",
      "请下注：999\n",
      "请下注：8\n",
      "玩家摇出了6点\n",
      "玩家摇出了5点\n",
      "玩家摇出了9点\n",
      "玩家摇出了9点\n",
      "玩家摇出了10点\n",
      "玩家摇出了4点\n",
      "玩家摇出了10点\n",
      "玩家摇出了6点\n",
      "玩家胜利\n",
      "您当前资产为： 289\n",
      "请下注：288\n",
      "玩家摇出了7点\n",
      "玩家胜利\n",
      "您当前资产为： 577\n",
      "请下注：577\n",
      "玩家摇出了7点\n",
      "玩家胜利\n",
      "您当前资产为： 1154\n",
      "请下注：1154\n",
      "玩家摇出了5点\n",
      "玩家摇出了7点\n",
      "庄家胜利\n",
      "你破产了， 游戏结束\n"
     ]
    }
   ],
   "source": [
    "'''\n",
    "Craps赌博游戏\n",
    "我们设定玩家开始游戏时有1000元的赌注\n",
    "游戏结束的条件是玩家输光所有的赌注\n",
    "\n",
    "author: dk\n",
    "'''\n",
    "import random\n",
    "\n",
    "money = 1000\n",
    "while money > 0:\n",
    "    print('您当前资产为：', money)\n",
    "    needs_go_on = False\n",
    "    while True:\n",
    "        debt = int(input('请下注：'))\n",
    "        if 0 < debt <= money:\n",
    "            break\n",
    "    first = random.randint(1, 6) + random.randint(1, 6)\n",
    "    print('玩家摇出了{}点'.format(first))\n",
    "    if first == 7 or first == 11:\n",
    "        print('玩家胜利')\n",
    "        money += debt\n",
    "    elif first == 2 or first == 3 or first == 12:\n",
    "        print('庄家胜利')\n",
    "        money -= debt\n",
    "    else:\n",
    "        needs_go_on = True\n",
    "    while needs_go_on:\n",
    "        needs_go_on = False\n",
    "        current = random.randint(1, 6) + random.randint(1, 6)\n",
    "        print('玩家摇出了{}点'.format(current))\n",
    "        if current == 7:\n",
    "            print('庄家胜利')\n",
    "            money -= debt\n",
    "        elif current == first:\n",
    "            print('玩家胜利')\n",
    "            money += debt\n",
    "        else:\n",
    "            needs_go_on = True\n",
    "print('你破产了， 游戏结束')"
   ]
  },
  {
   "cell_type": "markdown",
   "metadata": {},
   "source": [
    "#### 有用的练习"
   ]
  },
  {
   "cell_type": "markdown",
   "metadata": {},
   "source": [
    "* 1 生成斐波那契数列的前20个数\n",
    "> **说明**：斐波那契数列（Fibonacci sequence），又称黄金分割数列，是意大利数学家莱昂纳多·斐波那契（Leonardoda Fibonacci）在《计算之书》中提出一个在理想假设条件下兔子成长率的问题而引入的数列，所以这个数列也被戏称为&quot;兔子数列&quot;。斐波那契数列的特点是数列的前两个数都是1，从第三个数开始，每个数都是它前面两个数的和，形如：1, 1, 2, 3, 5, 8, 13, 21, 34, 55, 89, 144, ...。斐波那契数列在现代物理、准晶体结构、化学等领域都有直接的应用。"
   ]
  },
  {
   "cell_type": "code",
   "execution_count": 15,
   "metadata": {},
   "outputs": [
    {
     "name": "stdout",
     "output_type": "stream",
     "text": [
      "1\n",
      "1\n",
      "2\n",
      "3\n",
      "5\n",
      "8\n",
      "13\n",
      "21\n",
      "34\n",
      "55\n",
      "89\n",
      "144\n",
      "233\n",
      "377\n",
      "610\n",
      "987\n",
      "1597\n",
      "2584\n",
      "4181\n",
      "6765\n",
      "1 1 2 3 5 8 13 21 34 55 89 144 233 377 610 987 1597 2584 4181 6765 "
     ]
    }
   ],
   "source": [
    "'''\n",
    "生成斐波那契数列的前20个数\n",
    "\n",
    "author: dk\n",
    "'''\n",
    "def func(n):\n",
    "    if n == 0 or n == 1:\n",
    "        return 1\n",
    "    return func(n - 1) + func(n - 2)\n",
    "\n",
    "for i in range(20):\n",
    "    print(func(i))\n",
    "    \n",
    "    \n",
    "a = 0\n",
    "b = 1\n",
    "for _ in range(20):\n",
    "    a, b = b, a + b\n",
    "    print(a, end=' ')"
   ]
  },
  {
   "cell_type": "markdown",
   "metadata": {},
   "source": [
    "* 2 找出10000以内的**完美数**\n",
    "> **说明**：完美数又称为完全数或完备数，它的所有的真因子（即除了自身以外的因子）的和（即因子函数）恰好等于它本身。例如：6（$6=1+2+3$）和28（$28=1+2+4+7+14$）就是完美数。完美数有很多神奇的特性，有兴趣的可以自行了解。"
   ]
  },
  {
   "cell_type": "code",
   "execution_count": 31,
   "metadata": {},
   "outputs": [
    {
     "name": "stdout",
     "output_type": "stream",
     "text": [
      "1 6 28 496 8128 "
     ]
    }
   ],
   "source": [
    "'''\n",
    "找出10000以内的完美数\n",
    "\n",
    "author: dk\n",
    "'''\n",
    "import math\n",
    "\n",
    "for n in range(1, 10001):\n",
    "    sqrt = int(math.sqrt(n))\n",
    "    res = 1\n",
    "    for i in range(2, sqrt + 1):\n",
    "        if n % i == 0:\n",
    "            res += i\n",
    "            if n // i != i:\n",
    "                res += n // i\n",
    "    if res == n:\n",
    "        print(n, end=' ')"
   ]
  },
  {
   "cell_type": "markdown",
   "metadata": {},
   "source": [
    "* 3 输出**100以内所有的素数**\n",
    "> **说明**：素数指的是只能被1和自身整除的正整数（不包括1）。"
   ]
  },
  {
   "cell_type": "code",
   "execution_count": 19,
   "metadata": {},
   "outputs": [
    {
     "name": "stdout",
     "output_type": "stream",
     "text": [
      "2 3 5 7 11 13 17 19 23 29 31 37 41 43 47 53 59 61 67 71 73 79 83 89 97 "
     ]
    }
   ],
   "source": [
    "'''\n",
    "输出100以内所有的素数\n",
    "\n",
    "author: dk\n",
    "'''\n",
    "import math\n",
    "\n",
    "for n in range(2, 101):\n",
    "    sqrt = int(math.sqrt(n))\n",
    "    for i in range(2, sqrt + 1):\n",
    "        if n % i == 0:\n",
    "            break\n",
    "    else:\n",
    "        print(n, end=' ')"
   ]
  },
  {
   "cell_type": "code",
   "execution_count": null,
   "metadata": {},
   "outputs": [],
   "source": []
  }
 ],
 "metadata": {
  "kernelspec": {
   "display_name": "Python 3",
   "language": "python",
   "name": "python3"
  },
  "language_info": {
   "codemirror_mode": {
    "name": "ipython",
    "version": 3
   },
   "file_extension": ".py",
   "mimetype": "text/x-python",
   "name": "python",
   "nbconvert_exporter": "python",
   "pygments_lexer": "ipython3",
   "version": "3.7.4"
  }
 },
 "nbformat": 4,
 "nbformat_minor": 2
}

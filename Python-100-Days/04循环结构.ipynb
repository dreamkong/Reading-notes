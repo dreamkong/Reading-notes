{
 "cells": [
  {
   "cell_type": "markdown",
   "metadata": {},
   "source": [
    "### 循环结构"
   ]
  },
  {
   "cell_type": "markdown",
   "metadata": {},
   "source": [
    "#### for-in循环"
   ]
  },
  {
   "cell_type": "code",
   "execution_count": 1,
   "metadata": {},
   "outputs": [
    {
     "name": "stdout",
     "output_type": "stream",
     "text": [
      "5050\n"
     ]
    }
   ],
   "source": [
    "'''\n",
    "for循环实现1~100求和\n",
    "\n",
    "author: dk\n",
    "'''\n",
    "sum = 0\n",
    "for i in range(1, 101):\n",
    "    sum += i\n",
    "print(sum)"
   ]
  },
  {
   "cell_type": "code",
   "execution_count": 4,
   "metadata": {},
   "outputs": [
    {
     "name": "stdout",
     "output_type": "stream",
     "text": [
      "2550\n",
      "2550\n"
     ]
    }
   ],
   "source": [
    "'''\n",
    "用for循环实现1~100之间的偶数和\n",
    "\n",
    "author: dk\n",
    "'''\n",
    "sum = 0\n",
    "for i in range(2, 101, 2):\n",
    "    sum += i\n",
    "print(sum)\n",
    "\n",
    "sum = 0\n",
    "for i in range(1, 101):\n",
    "    if i % 2 == 0:\n",
    "        sum += i\n",
    "print(sum)"
   ]
  },
  {
   "cell_type": "markdown",
   "metadata": {},
   "source": [
    "#### while循环"
   ]
  },
  {
   "cell_type": "code",
   "execution_count": 17,
   "metadata": {},
   "outputs": [
    {
     "name": "stdout",
     "output_type": "stream",
     "text": [
      "请输入猜测数字：50\n",
      "猜大了\n",
      "请输入猜测数字：25\n",
      "猜大了\n",
      "请输入猜测数字：13\n",
      "猜大了\n",
      "请输入猜测数字：6\n",
      "猜小了\n",
      "请输入猜测数字：8\n",
      "猜小了\n",
      "请输入猜测数字：10\n",
      "猜对了\n",
      "总共猜了6次\n"
     ]
    }
   ],
   "source": [
    "'''\n",
    "用while循环实现1~100的随机数的猜数游戏\n",
    "\n",
    "author: dk\n",
    "'''\n",
    "import random\n",
    "\n",
    "res = random.randint(1, 100)\n",
    "count = 0\n",
    "while True:\n",
    "    count += 1\n",
    "    try:\n",
    "        n = float(input('请输入猜测数字：'))\n",
    "        if n == res:\n",
    "            print('猜对了')\n",
    "            break\n",
    "        elif n > res:\n",
    "            print('猜大了')\n",
    "        else:\n",
    "            print('猜小了')\n",
    "    except:\n",
    "        print('输入数据不合法')\n",
    "print('总共猜了{}次'.format(count)) "
   ]
  },
  {
   "cell_type": "code",
   "execution_count": 16,
   "metadata": {},
   "outputs": [
    {
     "name": "stdout",
     "output_type": "stream",
     "text": [
      "1\n",
      "1\n",
      "100\n",
      "1\n",
      "1\n",
      "100\n",
      "100\n",
      "1\n",
      "100\n",
      "1\n",
      "100\n",
      "100\n",
      "100\n",
      "100\n",
      "100\n",
      "1\n",
      "100\n",
      "1\n"
     ]
    }
   ],
   "source": [
    "import random\n",
    "\n",
    "for i in range(1000):\n",
    "    res = random.randint(1, 100)\n",
    "    if res == 1 or res == 100:\n",
    "        print(res)"
   ]
  },
  {
   "cell_type": "markdown",
   "metadata": {},
   "source": [
    "#### 练习题"
   ]
  },
  {
   "cell_type": "markdown",
   "metadata": {},
   "source": [
    "* 练习1：九九乘法表"
   ]
  },
  {
   "cell_type": "code",
   "execution_count": 31,
   "metadata": {},
   "outputs": [
    {
     "name": "stdout",
     "output_type": "stream",
     "text": [
      "1 * 1 =  1  \n",
      "1 * 2 =  2  2 * 2 =  4  \n",
      "1 * 3 =  3  2 * 3 =  6  3 * 3 =  9  \n",
      "1 * 4 =  4  2 * 4 =  8  3 * 4 = 12  4 * 4 = 16  \n",
      "1 * 5 =  5  2 * 5 = 10  3 * 5 = 15  4 * 5 = 20  5 * 5 = 25  \n",
      "1 * 6 =  6  2 * 6 = 12  3 * 6 = 18  4 * 6 = 24  5 * 6 = 30  6 * 6 = 36  \n",
      "1 * 7 =  7  2 * 7 = 14  3 * 7 = 21  4 * 7 = 28  5 * 7 = 35  6 * 7 = 42  7 * 7 = 49  \n",
      "1 * 8 =  8  2 * 8 = 16  3 * 8 = 24  4 * 8 = 32  5 * 8 = 40  6 * 8 = 48  7 * 8 = 56  8 * 8 = 64  \n",
      "1 * 9 =  9  2 * 9 = 18  3 * 9 = 27  4 * 9 = 36  5 * 9 = 45  6 * 9 = 54  7 * 9 = 63  8 * 9 = 72  9 * 9 = 81  \n"
     ]
    }
   ],
   "source": [
    "'''\n",
    "九九乘法表\n",
    "\n",
    "author: dk\n",
    "'''\n",
    "for i in range(1, 10):\n",
    "    for j in range(1, i + 1):\n",
    "        print('{} * {} = {:2d}'.format(j, i, i * j), end='  ')\n",
    "    print()"
   ]
  },
  {
   "cell_type": "markdown",
   "metadata": {},
   "source": [
    "* 练习2：输入一个正整数判断是不是素数\n",
    "> 素数是只能被1和它本身整除的大于1的整数"
   ]
  },
  {
   "cell_type": "code",
   "execution_count": 36,
   "metadata": {},
   "outputs": [
    {
     "name": "stdout",
     "output_type": "stream",
     "text": [
      "请输入一个正整数：65\n",
      "是素数\n"
     ]
    }
   ],
   "source": [
    "'''\n",
    "输入一个正整数判断是不是素数\n",
    "\n",
    "author: dk\n",
    "'''\n",
    "import math\n",
    "\n",
    "try:\n",
    "    n = int(input('请输入一个正整数：'))\n",
    "    if n >= 2:\n",
    "        s = int(math.sqrt(n))\n",
    "        for i in range(2 , s + 1):\n",
    "            if n % s == 0:\n",
    "                print('不是素数')\n",
    "                break\n",
    "        else:\n",
    "            print('是素数')\n",
    "    else:\n",
    "        print('不是素数')\n",
    "except:\n",
    "    print('输入数据不合法')"
   ]
  },
  {
   "cell_type": "markdown",
   "metadata": {},
   "source": [
    "* 练习3：输入两个正整数，计算它们的最大公约数和最小公倍数"
   ]
  },
  {
   "cell_type": "code",
   "execution_count": 37,
   "metadata": {},
   "outputs": [
    {
     "name": "stdout",
     "output_type": "stream",
     "text": [
      "请输入x：23\n",
      "请输入y：34\n",
      "最小公倍数： 1\n",
      "最大公约数： 782\n"
     ]
    }
   ],
   "source": [
    "'''\n",
    "输入两个正整数，计算它们的最大公约数和最小公倍数\n",
    "\n",
    "author: dk\n",
    "'''\n",
    "try:\n",
    "    x = int(input('请输入x：'))\n",
    "    y = int(input('请输入y：'))\n",
    "    if x > y:\n",
    "        x, y = y, x\n",
    "    for i in range(x, 0, -1):\n",
    "        if y % i == 0 and x % i == 0:\n",
    "            print('最小公倍数：', i)\n",
    "            print('最大公约数：', x * y // i)\n",
    "except:\n",
    "    print('输入数据不合法')"
   ]
  },
  {
   "cell_type": "markdown",
   "metadata": {},
   "source": [
    "* 练习3：打印如下所示的三角形"
   ]
  },
  {
   "cell_type": "markdown",
   "metadata": {},
   "source": [
    "```\n",
    "*\n",
    "**\n",
    "***\n",
    "****\n",
    "*****\n",
    "```"
   ]
  },
  {
   "cell_type": "code",
   "execution_count": 39,
   "metadata": {},
   "outputs": [
    {
     "name": "stdout",
     "output_type": "stream",
     "text": [
      "*\n",
      "**\n",
      "***\n",
      "****\n",
      "*****\n"
     ]
    }
   ],
   "source": [
    "'''\n",
    "打印三角形\n",
    "\n",
    "author: dk\n",
    "'''\n",
    "for i in range(1, 6):\n",
    "    print('*' * i)"
   ]
  },
  {
   "cell_type": "markdown",
   "metadata": {},
   "source": [
    "```\n",
    "    *\n",
    "   **\n",
    "  ***\n",
    " ****\n",
    "*****\n",
    "```"
   ]
  },
  {
   "cell_type": "code",
   "execution_count": 40,
   "metadata": {},
   "outputs": [
    {
     "name": "stdout",
     "output_type": "stream",
     "text": [
      "    *\n",
      "   **\n",
      "  ***\n",
      " ****\n",
      "*****\n"
     ]
    }
   ],
   "source": [
    "for i in range(1, 6):\n",
    "    print(' ' * (5 - i) + '*' * i)"
   ]
  },
  {
   "cell_type": "markdown",
   "metadata": {},
   "source": [
    "```\n",
    "    *\n",
    "   ***\n",
    "  *****\n",
    " *******\n",
    "*********\n",
    "```"
   ]
  },
  {
   "cell_type": "code",
   "execution_count": 48,
   "metadata": {},
   "outputs": [
    {
     "name": "stdout",
     "output_type": "stream",
     "text": [
      "    *\n",
      "   ***\n",
      "  *****\n",
      " *******\n",
      "*********\n"
     ]
    }
   ],
   "source": [
    "for i in range(5):\n",
    "    for j in range(1, 6):\n",
    "        if 5 - i - j <= 0:\n",
    "            print('*', end='')\n",
    "        else:\n",
    "            print(' ', end='')\n",
    "    print('*' * i, end='')\n",
    "    print()"
   ]
  },
  {
   "cell_type": "code",
   "execution_count": null,
   "metadata": {},
   "outputs": [],
   "source": []
  }
 ],
 "metadata": {
  "kernelspec": {
   "display_name": "Python 3",
   "language": "python",
   "name": "python3"
  },
  "language_info": {
   "codemirror_mode": {
    "name": "ipython",
    "version": 3
   },
   "file_extension": ".py",
   "mimetype": "text/x-python",
   "name": "python",
   "nbconvert_exporter": "python",
   "pygments_lexer": "ipython3",
   "version": "3.7.4"
  }
 },
 "nbformat": 4,
 "nbformat_minor": 2
}

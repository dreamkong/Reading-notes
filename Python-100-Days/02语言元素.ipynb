{
 "cells": [
  {
   "cell_type": "markdown",
   "metadata": {},
   "source": [
    "### 指令和程序"
   ]
  },
  {
   "cell_type": "markdown",
   "metadata": {},
   "source": [
    "#### 计算机硬件\n",
    "* 运算器\n",
    "* 控制器\n",
    "* 存储器\n",
    "* 输入设备\n",
    "* 输出设备"
   ]
  },
  {
   "cell_type": "markdown",
   "metadata": {},
   "source": [
    "#### 冯诺依曼结构"
   ]
  },
  {
   "cell_type": "markdown",
   "metadata": {},
   "source": [
    "* 将存储设备和中央处理器分开\n",
    "* 将数据以二进制方式编码"
   ]
  },
  {
   "cell_type": "markdown",
   "metadata": {},
   "source": [
    "### 变量和类型"
   ]
  },
  {
   "cell_type": "markdown",
   "metadata": {},
   "source": [
    "* 整型\n",
    "* 浮点型 123.456 1.23456e2\n",
    "* 字符串型\n",
    "* 布尔型\n",
    "* 复数型 3+2j"
   ]
  },
  {
   "cell_type": "markdown",
   "metadata": {},
   "source": [
    "#### 变量命名"
   ]
  },
  {
   "cell_type": "markdown",
   "metadata": {},
   "source": [
    "* 硬性规则\n",
    "    * 变量由字母、数字、下划线构成，数字不能开头\n",
    "    * 大小写敏感\n",
    "    * 不能跟关键字和系统保留字冲突\n",
    "    \n",
    "* PEP8要求\n",
    "    * 用小写字母拼写，多个单词使用下划线连接\n",
    "    * 受保护的实例属性用单下划线开头\n",
    "    * 私有的实例属性用两个下划线开头"
   ]
  },
  {
   "cell_type": "markdown",
   "metadata": {},
   "source": [
    "#### 变量的使用"
   ]
  },
  {
   "cell_type": "code",
   "execution_count": 1,
   "metadata": {},
   "outputs": [
    {
     "name": "stdout",
     "output_type": "stream",
     "text": [
      "579\n"
     ]
    }
   ],
   "source": [
    "a = 123\n",
    "b = 456\n",
    "print(a + b)"
   ]
  },
  {
   "cell_type": "code",
   "execution_count": 2,
   "metadata": {},
   "outputs": [
    {
     "name": "stdout",
     "output_type": "stream",
     "text": [
      "<class 'int'>\n",
      "<class 'float'>\n",
      "<class 'str'>\n",
      "<class 'bool'>\n",
      "<class 'complex'>\n"
     ]
    }
   ],
   "source": [
    "a = 111\n",
    "b = 12.34\n",
    "c = 'hello'\n",
    "d = True\n",
    "e = 1 + 2j\n",
    "\n",
    "print(type(a))\n",
    "print(type(b))\n",
    "print(type(c))\n",
    "print(type(d))\n",
    "print(type(e))"
   ]
  },
  {
   "cell_type": "markdown",
   "metadata": {},
   "source": [
    "* `int()` 将一个数值或字符串转换为整数，可以指定进制\n",
    "* `float()`将一个数值或字符串转换为浮点数\n",
    "* `str()`将指定对象转换为字符串形式，可以指定编码\n",
    "* `chr()`将整数转换为编码对应的字符串（一个字符）\n",
    "* `ord()`将字符串（一个字符）转换为对应的编码（整数）"
   ]
  },
  {
   "cell_type": "code",
   "execution_count": 3,
   "metadata": {},
   "outputs": [
    {
     "data": {
      "text/plain": [
       "1.0"
      ]
     },
     "execution_count": 3,
     "metadata": {},
     "output_type": "execute_result"
    }
   ],
   "source": [
    "float(1)"
   ]
  },
  {
   "cell_type": "markdown",
   "metadata": {},
   "source": [
    "#### 运算符"
   ]
  },
  {
   "cell_type": "markdown",
   "metadata": {},
   "source": [
    "| 运算符                                                       | 描述                           |\n",
    "| ------------------------------------------------------------ | ------------------------------ |\n",
    "| `[]` `[:]`                                                   | 下标，切片                     |\n",
    "| `**`                                                         | 指数                           |\n",
    "| `~` `+` `-`                                                  | 按位取反, 正负号               |\n",
    "| `*` `/` `%` `//`                                             | 乘，除，模，整除               |\n",
    "| `+` `-`                                                      | 加，减                         |\n",
    "| `>>` `<<`                                                    | 右移，左移                     |\n",
    "| `&`                                                          | 按位与                         |\n",
    "| `^` `\\|`                                                      | 按位异或，按位或               |\n",
    "| `<=` `<` `>` `>=`                                            | 小于等于，小于，大于，大于等于 |\n",
    "| `==` `!=`                                                    | 等于，不等于                   |\n",
    "| `is`  `is not`                                               | 身份运算符                     |\n",
    "| `in` `not in`                                                | 成员运算符                     |\n",
    "| `not` `or` `and`                                             | 逻辑运算符                     |\n",
    "| `=` `+=` `-=` `*=` `/=` `%=` `//=` `**=` `&=` `|=` `^=` `>>=` `<<=` | （复合）赋值运算符             |"
   ]
  },
  {
   "cell_type": "code",
   "execution_count": 8,
   "metadata": {},
   "outputs": [
    {
     "data": {
      "text/plain": [
       "1"
      ]
     },
     "execution_count": 8,
     "metadata": {},
     "output_type": "execute_result"
    }
   ],
   "source": [
    "3 >> 1"
   ]
  },
  {
   "cell_type": "markdown",
   "metadata": {},
   "source": [
    "#### 练习题"
   ]
  },
  {
   "cell_type": "markdown",
   "metadata": {},
   "source": [
    "* 练习1：华氏温度转摄氏温度\n",
    "\n",
    ">提示：华氏温度到摄氏温度的转换公式为：C=(F - 32) \\ 1.8"
   ]
  },
  {
   "cell_type": "code",
   "execution_count": 10,
   "metadata": {},
   "outputs": [
    {
     "name": "stdout",
     "output_type": "stream",
     "text": [
      "请输入华氏温度：1113.222\n",
      "摄氏温度为： 600.6788888888889\n"
     ]
    }
   ],
   "source": [
    "'''\n",
    "华氏温度转摄氏温度\n",
    "\n",
    "author: dk\n",
    "'''\n",
    "f = input('请输入华氏温度：')\n",
    "try:\n",
    "    f = float(f)\n",
    "    c = (f - 32) / 1.8\n",
    "    print('摄氏温度为：', c)\n",
    "except:\n",
    "    print('输入数据不合法')"
   ]
  },
  {
   "cell_type": "markdown",
   "metadata": {},
   "source": [
    "* 练习2：输入圆的半径计算周长和面积"
   ]
  },
  {
   "cell_type": "code",
   "execution_count": 11,
   "metadata": {},
   "outputs": [
    {
     "name": "stdout",
     "output_type": "stream",
     "text": [
      "请输入圆的半径：2232\n",
      "圆的周长为： 14024.069605624836\n",
      "圆的面积为： 15650861.679877317\n"
     ]
    }
   ],
   "source": [
    "'''\n",
    "输入半径计算圆的周长和面积\n",
    "\n",
    "author: dk\n",
    "'''\n",
    "import math\n",
    "\n",
    "r = input('请输入圆的半径：')\n",
    "try:\n",
    "    r = float(r)\n",
    "    print('圆的周长为：', 2 * math.pi * r)\n",
    "    print('圆的面积为：', math.pi * r * r)\n",
    "except:\n",
    "    print('输入数据不合法')"
   ]
  },
  {
   "cell_type": "markdown",
   "metadata": {},
   "source": [
    "* 练习3：输入年份判断是不是闰年"
   ]
  },
  {
   "cell_type": "code",
   "execution_count": 19,
   "metadata": {},
   "outputs": [
    {
     "name": "stdout",
     "output_type": "stream",
     "text": [
      "请输入年份：2020\n",
      "2020 是闰年\n"
     ]
    }
   ],
   "source": [
    "'''\n",
    "输入年份判断是不是闰年\n",
    "\n",
    "author: dk\n",
    "'''\n",
    "y = input('请输入年份：')\n",
    "try:\n",
    "    y = int(y)\n",
    "    if y % 400 == 0 or (y % 4 == 0 and y % 100 != 0):\n",
    "        print(y, '是闰年')\n",
    "    else:\n",
    "        print(y, '不是闰年')\n",
    "except:\n",
    "    print('输入数据不合法')"
   ]
  },
  {
   "cell_type": "code",
   "execution_count": null,
   "metadata": {},
   "outputs": [],
   "source": []
  }
 ],
 "metadata": {
  "kernelspec": {
   "display_name": "Python 3",
   "language": "python",
   "name": "python3"
  },
  "language_info": {
   "codemirror_mode": {
    "name": "ipython",
    "version": 3
   },
   "file_extension": ".py",
   "mimetype": "text/x-python",
   "name": "python",
   "nbconvert_exporter": "python",
   "pygments_lexer": "ipython3",
   "version": "3.7.4"
  }
 },
 "nbformat": 4,
 "nbformat_minor": 2
}

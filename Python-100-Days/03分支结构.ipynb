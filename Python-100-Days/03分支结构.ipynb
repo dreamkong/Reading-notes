{
 "cells": [
  {
   "cell_type": "markdown",
   "metadata": {},
   "source": [
    "### 分支结构"
   ]
  },
  {
   "cell_type": "markdown",
   "metadata": {},
   "source": [
    "#### if语句的使用"
   ]
  },
  {
   "cell_type": "code",
   "execution_count": 1,
   "metadata": {},
   "outputs": [
    {
     "name": "stdout",
     "output_type": "stream",
     "text": [
      "请输入用户名：admin\n",
      "请输入密码：admin\n",
      "登录成功\n"
     ]
    }
   ],
   "source": [
    "'''\n",
    "用户身份验证\n",
    "\n",
    "author: dk\n",
    "'''\n",
    "\n",
    "username = input('请输入用户名：')\n",
    "password = input('请输入密码：')\n",
    "if username == 'admin' and password == 'admin':\n",
    "    print('登录成功')\n",
    "else:\n",
    "    print('登录失败')"
   ]
  },
  {
   "cell_type": "markdown",
   "metadata": {},
   "source": [
    "#### 练习题"
   ]
  },
  {
   "cell_type": "markdown",
   "metadata": {},
   "source": [
    "* 练习1：英制单位英寸与公制单位厘米互换"
   ]
  },
  {
   "cell_type": "code",
   "execution_count": 5,
   "metadata": {},
   "outputs": [
    {
     "name": "stdout",
     "output_type": "stream",
     "text": [
      "请输入长度：100\n",
      "请输入单位：cm\n",
      "100.000000厘米 = 39.370079英寸\n"
     ]
    }
   ],
   "source": [
    "'''\n",
    "英制单位英寸与公制单位厘米互换\n",
    "\n",
    "author: dk\n",
    "'''\n",
    "value = input('请输入长度：')\n",
    "unit = input('请输入单位：')\n",
    "\n",
    "try:\n",
    "    value = float(value)\n",
    "    if unit == 'in' or unit == '英寸':\n",
    "        print('%f英寸 = %f厘米' % (value, value * 2.54))\n",
    "    elif unit == 'cm' or unit == '厘米':\n",
    "        print('%f厘米 = %f英寸' % (value, value / 2.54))\n",
    "    else:\n",
    "        print('请输入有效单位')\n",
    "except:\n",
    "    print('输入数据不合法')"
   ]
  },
  {
   "cell_type": "markdown",
   "metadata": {},
   "source": [
    "* 将百分制成绩转换为等级制成绩"
   ]
  },
  {
   "cell_type": "code",
   "execution_count": 9,
   "metadata": {},
   "outputs": [
    {
     "name": "stdout",
     "output_type": "stream",
     "text": [
      "请输入成绩：59\n",
      "百分制成绩为：59.000000， 转换为等级制成绩为：E\n"
     ]
    }
   ],
   "source": [
    "'''\n",
    "将百分制成绩转换为等级制成绩\n",
    "\n",
    "author: dk\n",
    "'''\n",
    "score = input('请输入成绩：')\n",
    "try:\n",
    "    score = float(score)\n",
    "    if score >= 90:\n",
    "        grade = 'A'\n",
    "    elif score >= 80:\n",
    "        grade = 'B'\n",
    "    elif score >= 70:\n",
    "        grade = 'C'\n",
    "    elif score >= 60:\n",
    "        grade = 'D'\n",
    "    else:\n",
    "        grade = 'E'\n",
    "    print('百分制成绩为：%f， 转换为等级制成绩为：%s' % (score, grade))\n",
    "except:\n",
    "    print('输入数据不合法')"
   ]
  },
  {
   "cell_type": "markdown",
   "metadata": {},
   "source": [
    "* 练习3：输入三条边长，如果可以构成三角形的话就计算周长和面积"
   ]
  },
  {
   "cell_type": "code",
   "execution_count": 12,
   "metadata": {},
   "outputs": [
    {
     "name": "stdout",
     "output_type": "stream",
     "text": [
      "a = 3\n",
      "b = 4\n",
      "c = 5\n",
      "可以构成三角形\n",
      "三角形的周长为： 12.0\n",
      "三角形的面积为： 6.0\n"
     ]
    }
   ],
   "source": [
    "'''\n",
    "输入三条边长，如果可以构成三角形的话就计算周长和面积\n",
    "\n",
    "author: dk\n",
    "'''\n",
    "a = input('a = ')\n",
    "b = input('b = ')\n",
    "c = input('c = ')\n",
    "try:\n",
    "    a = float(a)\n",
    "    b = float(b)\n",
    "    c = float(c)\n",
    "    if a + b > c and a + c > b and b + c > a:\n",
    "        print('可以构成三角形')\n",
    "        print('三角形的周长为：', a + b + c)\n",
    "        s = (a + b + c) / 2\n",
    "        area = (s * (s - a) * (s - b) * (s - c)) ** 0.5\n",
    "        print('三角形的面积为：', area)\n",
    "    else:\n",
    "        print('无法构成三角形')\n",
    "except:\n",
    "    print('输入数据不合法')"
   ]
  },
  {
   "cell_type": "code",
   "execution_count": null,
   "metadata": {},
   "outputs": [],
   "source": []
  }
 ],
 "metadata": {
  "kernelspec": {
   "display_name": "Python 3",
   "language": "python",
   "name": "python3"
  },
  "language_info": {
   "codemirror_mode": {
    "name": "ipython",
    "version": 3
   },
   "file_extension": ".py",
   "mimetype": "text/x-python",
   "name": "python",
   "nbconvert_exporter": "python",
   "pygments_lexer": "ipython3",
   "version": "3.7.4"
  }
 },
 "nbformat": 4,
 "nbformat_minor": 2
}

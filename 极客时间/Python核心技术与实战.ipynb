{
 "cells": [
  {
   "cell_type": "code",
   "execution_count": 1,
   "metadata": {},
   "outputs": [
    {
     "data": {
      "text/plain": [
       "40"
      ]
     },
     "execution_count": 1,
     "metadata": {},
     "output_type": "execute_result"
    }
   ],
   "source": [
    "l = []\n",
    "l.__sizeof__()"
   ]
  },
  {
   "cell_type": "code",
   "execution_count": 4,
   "metadata": {},
   "outputs": [
    {
     "data": {
      "text/plain": [
       "24"
      ]
     },
     "execution_count": 4,
     "metadata": {},
     "output_type": "execute_result"
    }
   ],
   "source": [
    "t = ()\n",
    "t.__sizeof__()"
   ]
  },
  {
   "cell_type": "code",
   "execution_count": 7,
   "metadata": {},
   "outputs": [
    {
     "data": {
      "text/plain": [
       "72"
      ]
     },
     "execution_count": 7,
     "metadata": {},
     "output_type": "execute_result"
    }
   ],
   "source": [
    "l.append('1234567890')\n",
    "l.__sizeof__()"
   ]
  },
  {
   "cell_type": "code",
   "execution_count": 16,
   "metadata": {},
   "outputs": [
    {
     "name": "stdout",
     "output_type": "stream",
     "text": [
      "53.5 ns ± 2.05 ns per loop (mean ± std. dev. of 7 runs, 10000000 loops each)\n"
     ]
    }
   ],
   "source": [
    "timeit l = [1, 2, 3, 4, 5]"
   ]
  },
  {
   "cell_type": "code",
   "execution_count": 17,
   "metadata": {},
   "outputs": [
    {
     "name": "stdout",
     "output_type": "stream",
     "text": [
      "12.4 ns ± 0.112 ns per loop (mean ± std. dev. of 7 runs, 100000000 loops each)\n"
     ]
    }
   ],
   "source": [
    "timeit t = (1, 2, 3, 4, 5)"
   ]
  },
  {
   "cell_type": "code",
   "execution_count": 21,
   "metadata": {},
   "outputs": [
    {
     "name": "stdout",
     "output_type": "stream",
     "text": [
      "7.73 ns ± 0.185 ns per loop (mean ± std. dev. of 7 runs, 100000000 loops each)\n"
     ]
    }
   ],
   "source": [
    "timeit \"a = [1, 2, 3] b = a[1]\""
   ]
  },
  {
   "cell_type": "code",
   "execution_count": 22,
   "metadata": {},
   "outputs": [
    {
     "name": "stdout",
     "output_type": "stream",
     "text": [
      "7.59 ns ± 0.0502 ns per loop (mean ± std. dev. of 7 runs, 100000000 loops each)\n"
     ]
    }
   ],
   "source": [
    "timeit \"c = (1, 2, 3) d = c[2]\""
   ]
  },
  {
   "cell_type": "code",
   "execution_count": 32,
   "metadata": {},
   "outputs": [
    {
     "name": "stdout",
     "output_type": "stream",
     "text": [
      "88.9 ns ± 1.76 ns per loop (mean ± std. dev. of 7 runs, 10000000 loops each)\n"
     ]
    }
   ],
   "source": [
    "timeit d = {'name': 'jason', 'age': 20, 'gender': 'male'}"
   ]
  },
  {
   "cell_type": "code",
   "execution_count": 33,
   "metadata": {},
   "outputs": [
    {
     "name": "stdout",
     "output_type": "stream",
     "text": [
      "274 ns ± 6.33 ns per loop (mean ± std. dev. of 7 runs, 1000000 loops each)\n"
     ]
    }
   ],
   "source": [
    "timeit d = dict({'name': 'jason', 'age': 20, 'gender': 'male'})"
   ]
  },
  {
   "cell_type": "code",
   "execution_count": 29,
   "metadata": {},
   "outputs": [
    {
     "data": {
      "text/plain": [
       "2"
      ]
     },
     "execution_count": 29,
     "metadata": {},
     "output_type": "execute_result"
    }
   ],
   "source": [
    "1+1"
   ]
  },
  {
   "cell_type": "code",
   "execution_count": 57,
   "metadata": {},
   "outputs": [
    {
     "name": "stdout",
     "output_type": "stream",
     "text": [
      "297 ms ± 5.66 ms per loop (mean ± std. dev. of 7 runs, 1 loop each)\n"
     ]
    }
   ],
   "source": [
    "%%timeit\n",
    "s = ''\n",
    "for n in range(1000000):\n",
    "    s += str(n)"
   ]
  },
  {
   "cell_type": "code",
   "execution_count": 56,
   "metadata": {},
   "outputs": [
    {
     "name": "stdout",
     "output_type": "stream",
     "text": [
      "274 ms ± 18.2 ms per loop (mean ± std. dev. of 7 runs, 1 loop each)\n"
     ]
    }
   ],
   "source": [
    "%%timeit\n",
    "l = []\n",
    "for n in range(1000000):\n",
    "    l.append(str(n))\n",
    "s = ' '.join(l)"
   ]
  },
  {
   "cell_type": "code",
   "execution_count": 58,
   "metadata": {},
   "outputs": [
    {
     "name": "stdout",
     "output_type": "stream",
     "text": [
      "50.3 ns ± 0.212 ns per loop (mean ± std. dev. of 7 runs, 10000000 loops each)\n"
     ]
    }
   ],
   "source": [
    "%%timeit\n",
    "l = [1,2,3,4,5]"
   ]
  },
  {
   "cell_type": "code",
   "execution_count": 60,
   "metadata": {},
   "outputs": [
    {
     "name": "stdout",
     "output_type": "stream",
     "text": [
      "14.5 ns ± 0.762 ns per loop (mean ± std. dev. of 7 runs, 100000000 loops each)\n"
     ]
    }
   ],
   "source": [
    "%%timeit\n",
    "t = (1,2,3,4,5)"
   ]
  },
  {
   "cell_type": "code",
   "execution_count": 61,
   "metadata": {},
   "outputs": [],
   "source": [
    "s = '''I have a dream that my four little children will one day live in a nation where they will not be judged by the color of their skin but by the content of their character. I have a dream today.\n",
    "\n",
    "I have a dream that one day down in Alabama, with its vicious racists, . . . one day right there in Alabama little black boys and black girls will be able to join hands with little white boys and white girls as sisters and brothers. I have a dream today.\n",
    "\n",
    "I have a dream that one day every valley shall be exalted, every hill and mountain shall be made low, the rough places will be made plain, and the crooked places will be made straight, and the glory of the Lord shall be revealed, and all flesh shall see it together.\n",
    "\n",
    "This is our hope. . . With this faith we will be able to hew out of the mountain of despair a stone of hope. With this faith we will be able to transform the jangling discords of our nation into a beautiful symphony of brotherhood. With this faith we will be able to work together, to pray together, to struggle together, to go to jail together, to stand up for freedom together, knowing that we will be free one day. . . .\n",
    "\n",
    "And when this happens, and when we allow freedom ring, when we let it ring from every village and every hamlet, from every state and every city, we will be able to speed up that day when all of God's children, black men and white men, Jews and Gentiles, Protestants and Catholics, will be able to join hands and sing in the words of the old Negro spiritual: \"Free at last! Free at last! Thank God Almighty, we are free at last!\"'''"
   ]
  },
  {
   "cell_type": "code",
   "execution_count": 89,
   "metadata": {},
   "outputs": [
    {
     "data": {
      "text/plain": [
       "[('and', 15),\n",
       " ('be', 13),\n",
       " ('will', 11),\n",
       " ('to', 11),\n",
       " ('the', 10),\n",
       " ('of', 10),\n",
       " ('a', 8),\n",
       " ('we', 8),\n",
       " ('day', 6),\n",
       " ('able', 6),\n",
       " ('every', 6),\n",
       " ('have', 5),\n",
       " ('dream', 5),\n",
       " ('that', 5),\n",
       " ('one', 5),\n",
       " ('with', 5),\n",
       " ('together', 5),\n",
       " ('in', 4),\n",
       " ('shall', 4),\n",
       " ('this', 4),\n",
       " ('free', 4),\n",
       " ('when', 4),\n",
       " ('i', 3),\n",
       " ('little', 3),\n",
       " ('black', 3),\n",
       " ('white', 3),\n",
       " ('made', 3),\n",
       " ('faith', 3),\n",
       " ('at', 3),\n",
       " ('last', 3),\n",
       " ('children', 2),\n",
       " ('nation', 2),\n",
       " ('by', 2),\n",
       " ('their', 2),\n",
       " ('todayi', 2),\n",
       " ('alabama', 2),\n",
       " ('boys', 2),\n",
       " ('girls', 2),\n",
       " ('join', 2),\n",
       " ('hands', 2),\n",
       " ('mountain', 2),\n",
       " ('places', 2),\n",
       " ('all', 2),\n",
       " ('it', 2),\n",
       " ('our', 2),\n",
       " ('hope', 2),\n",
       " ('up', 2),\n",
       " ('freedom', 2),\n",
       " ('ring', 2),\n",
       " ('from', 2),\n",
       " ('men', 2),\n",
       " ('my', 1),\n",
       " ('four', 1),\n",
       " ('live', 1),\n",
       " ('where', 1),\n",
       " ('they', 1),\n",
       " ('not', 1),\n",
       " ('judged', 1),\n",
       " ('color', 1),\n",
       " ('skin', 1),\n",
       " ('but', 1),\n",
       " ('content', 1),\n",
       " ('character', 1),\n",
       " ('down', 1),\n",
       " ('its', 1),\n",
       " ('vicious', 1),\n",
       " ('racists', 1),\n",
       " ('right', 1),\n",
       " ('there', 1),\n",
       " ('as', 1),\n",
       " ('sisters', 1),\n",
       " ('brothers', 1),\n",
       " ('valley', 1),\n",
       " ('exalted', 1),\n",
       " ('hill', 1),\n",
       " ('low', 1),\n",
       " ('rough', 1),\n",
       " ('plain', 1),\n",
       " ('crooked', 1),\n",
       " ('straight', 1),\n",
       " ('glory', 1),\n",
       " ('lord', 1),\n",
       " ('revealed', 1),\n",
       " ('flesh', 1),\n",
       " ('see', 1),\n",
       " ('togetherthis', 1),\n",
       " ('is', 1),\n",
       " ('hew', 1),\n",
       " ('out', 1),\n",
       " ('despair', 1),\n",
       " ('stone', 1),\n",
       " ('transform', 1),\n",
       " ('jangling', 1),\n",
       " ('discords', 1),\n",
       " ('into', 1),\n",
       " ('beautiful', 1),\n",
       " ('symphony', 1),\n",
       " ('brotherhood', 1),\n",
       " ('work', 1),\n",
       " ('pray', 1),\n",
       " ('struggle', 1),\n",
       " ('go', 1),\n",
       " ('jail', 1),\n",
       " ('stand', 1),\n",
       " ('for', 1),\n",
       " ('knowing', 1),\n",
       " ('happens', 1),\n",
       " ('allow', 1),\n",
       " ('let', 1),\n",
       " ('village', 1),\n",
       " ('hamlet', 1),\n",
       " ('state', 1),\n",
       " ('city', 1),\n",
       " ('speed', 1),\n",
       " ('gods', 1),\n",
       " ('jews', 1),\n",
       " ('gentiles', 1),\n",
       " ('protestants', 1),\n",
       " ('catholics', 1),\n",
       " ('sing', 1),\n",
       " ('words', 1),\n",
       " ('old', 1),\n",
       " ('negro', 1),\n",
       " ('spiritual', 1),\n",
       " ('thank', 1),\n",
       " ('god', 1),\n",
       " ('almighty', 1),\n",
       " ('are', 1)]"
      ]
     },
     "execution_count": 89,
     "metadata": {},
     "output_type": "execute_result"
    }
   ],
   "source": [
    "import re \n",
    "\n",
    "def parse(text):\n",
    "    # 使用正则去掉标点符号和换行符\n",
    "    text = re.sub(r'[^\\w ]', '', text)\n",
    "    \n",
    "    # 转为小写\n",
    "    text = text.lower()\n",
    "    \n",
    "    # 生成所有单词的列表\n",
    "    word_list = text.split()\n",
    "    \n",
    "    # 去除空白单词\n",
    "    word_list = filter(None, word_list)\n",
    "    \n",
    "    # 生成单词和词频的字典\n",
    "    word_cnt = {}\n",
    "    for word in word_list:\n",
    "        if word not in word_cnt:\n",
    "            word_cnt[word] = 1\n",
    "        else:\n",
    "            word_cnt[word] += 1\n",
    "    \n",
    "    # 按词频排序\n",
    "    sorted_word_cnt = sorted(word_cnt.items(), key=lambda x:x[1], reverse=True)\n",
    "    \n",
    "    return sorted_word_cnt\n",
    "\n",
    "word_and_freq = parse(s)\n",
    "word_and_freq"
   ]
  },
  {
   "cell_type": "code",
   "execution_count": 90,
   "metadata": {},
   "outputs": [
    {
     "data": {
      "text/plain": [
       "[6, 7, 8, 9]"
      ]
     },
     "execution_count": 90,
     "metadata": {},
     "output_type": "execute_result"
    }
   ],
   "source": [
    "# expression for item in iterable if condition\n",
    "y = [i for i in range(10) if i > 5]\n",
    "y"
   ]
  },
  {
   "cell_type": "code",
   "execution_count": 94,
   "metadata": {},
   "outputs": [
    {
     "data": {
      "text/plain": [
       "['gg', 'gg', 'gg', 'gg', 'gg', 'gg', 6, 7, 8, 9]"
      ]
     },
     "execution_count": 94,
     "metadata": {},
     "output_type": "execute_result"
    }
   ],
   "source": [
    "# expression1 if condition else expression2 for item in iterable\n",
    "x = [i if i > 5 else 'gg' for i in range(10)]\n",
    "x"
   ]
  },
  {
   "cell_type": "code",
   "execution_count": 106,
   "metadata": {},
   "outputs": [
    {
     "data": {
      "text/plain": [
       "[{'name': 'jason', 'dob': '2000-01-01', 'gender': 'male'},\n",
       " {'name': 'mike', 'dob': '1999-01-01', 'gender': 'male'},\n",
       " {'name': 'nancy', 'dob': '2001-02-01', 'gender': 'female'}]"
      ]
     },
     "execution_count": 106,
     "metadata": {},
     "output_type": "execute_result"
    }
   ],
   "source": [
    "attributes = ['name', 'dob', 'gender']\n",
    "values = [['jason', '2000-01-01', 'male'], \n",
    "['mike', '1999-01-01', 'male'],\n",
    "['nancy', '2001-02-01', 'female']\n",
    "]\n",
    "\n",
    "res = [{attributes[0]:v[0], attributes[1]:v[1], attributes[2]:v[2]} for v in values]\n",
    "res"
   ]
  },
  {
   "cell_type": "code",
   "execution_count": 109,
   "metadata": {},
   "outputs": [
    {
     "data": {
      "text/plain": [
       "[{'name': 'jason', 'dob': '2000-01-01', 'gender': 'male'},\n",
       " {'name': 'mike', 'dob': '1999-01-01', 'gender': 'male'},\n",
       " {'name': 'nancy', 'dob': '2001-02-01', 'gender': 'female'}]"
      ]
     },
     "execution_count": 109,
     "metadata": {},
     "output_type": "execute_result"
    }
   ],
   "source": [
    "res2 = [{a:v[i] for i, a in enumerate(attributes)} for v in values]\n",
    "res2"
   ]
  },
  {
   "cell_type": "code",
   "execution_count": 111,
   "metadata": {},
   "outputs": [
    {
     "data": {
      "text/plain": [
       "[{'name': 'jason', 'dob': '2000-01-01', 'gender': 'male'},\n",
       " {'name': 'mike', 'dob': '1999-01-01', 'gender': 'male'},\n",
       " {'name': 'nancy', 'dob': '2001-02-01', 'gender': 'female'}]"
      ]
     },
     "execution_count": 111,
     "metadata": {},
     "output_type": "execute_result"
    }
   ],
   "source": [
    "res3 = [dict(zip(attributes, v)) for v in values]\n",
    "res3"
   ]
  },
  {
   "cell_type": "code",
   "execution_count": 115,
   "metadata": {},
   "outputs": [
    {
     "data": {
      "text/plain": [
       "[{'name': 'jason', 'dob': '2000-01-01', 'gender': 'male'},\n",
       " {'name': 'mike', 'dob': '1999-01-01', 'gender': 'male'},\n",
       " {'name': 'nancy', 'dob': '2001-02-01', 'gender': 'female'}]"
      ]
     },
     "execution_count": 115,
     "metadata": {},
     "output_type": "execute_result"
    }
   ],
   "source": [
    "res4 = []\n",
    "for v in values:\n",
    "    d = {}\n",
    "    for i, a in enumerate(attributes):\n",
    "        d[a] = v[i]\n",
    "    res4.append(d)\n",
    "res4"
   ]
  },
  {
   "cell_type": "code",
   "execution_count": 117,
   "metadata": {},
   "outputs": [
    {
     "data": {
      "text/plain": [
       "3628800"
      ]
     },
     "execution_count": 117,
     "metadata": {},
     "output_type": "execute_result"
    }
   ],
   "source": [
    "# 嵌套函数\n",
    "def factorial(input):\n",
    "    if not isinstance(input, int):\n",
    "        raise Exception('input must be an integer.')\n",
    "    if input < 0:\n",
    "        raise Exception('input must be greater or equal to 0')\n",
    "        \n",
    "    def inner_factorial(input):\n",
    "        if input <= 1:\n",
    "            return 1\n",
    "        return input * inner_factorial(input-1)\n",
    "    return inner_factorial(input)\n",
    "\n",
    "factorial(10)"
   ]
  },
  {
   "cell_type": "code",
   "execution_count": 120,
   "metadata": {},
   "outputs": [
    {
     "data": {
      "text/plain": [
       "55"
      ]
     },
     "execution_count": 120,
     "metadata": {},
     "output_type": "execute_result"
    }
   ],
   "source": [
    "def fib(input):\n",
    "    if not isinstance(input, int):\n",
    "        raise Exception('input must be an integer.')\n",
    "    if input <= 0:\n",
    "        raise Exception('input must be greater 0')\n",
    "        \n",
    "    def inner_fib(input):\n",
    "        if input <= 2:\n",
    "            return 1\n",
    "        return inner_fib(input-1) + inner_fib(input-2)\n",
    "    return inner_fib(input)\n",
    "fib(10)"
   ]
  },
  {
   "cell_type": "code",
   "execution_count": 128,
   "metadata": {},
   "outputs": [
    {
     "ename": "UnboundLocalError",
     "evalue": "local variable 'MAX_VALUE' referenced before assignment",
     "output_type": "error",
     "traceback": [
      "\u001b[0;31m---------------------------------------------------------------------------\u001b[0m",
      "\u001b[0;31mUnboundLocalError\u001b[0m                         Traceback (most recent call last)",
      "\u001b[0;32m<ipython-input-128-4dd880ce110e>\u001b[0m in \u001b[0;36m<module>\u001b[0;34m\u001b[0m\n\u001b[1;32m      4\u001b[0m     \u001b[0mMAX_VALUE\u001b[0m \u001b[0;34m+=\u001b[0m \u001b[0;36m1\u001b[0m\u001b[0;34m\u001b[0m\u001b[0;34m\u001b[0m\u001b[0m\n\u001b[1;32m      5\u001b[0m \u001b[0;34m\u001b[0m\u001b[0m\n\u001b[0;32m----> 6\u001b[0;31m \u001b[0mfoo\u001b[0m\u001b[0;34m(\u001b[0m\u001b[0;34m)\u001b[0m\u001b[0;34m\u001b[0m\u001b[0;34m\u001b[0m\u001b[0m\n\u001b[0m",
      "\u001b[0;32m<ipython-input-128-4dd880ce110e>\u001b[0m in \u001b[0;36mfoo\u001b[0;34m()\u001b[0m\n\u001b[1;32m      2\u001b[0m \u001b[0mMAX_VALUE\u001b[0m \u001b[0;34m=\u001b[0m \u001b[0;36m10\u001b[0m\u001b[0;34m\u001b[0m\u001b[0;34m\u001b[0m\u001b[0m\n\u001b[1;32m      3\u001b[0m \u001b[0;32mdef\u001b[0m \u001b[0mfoo\u001b[0m\u001b[0;34m(\u001b[0m\u001b[0;34m)\u001b[0m\u001b[0;34m:\u001b[0m\u001b[0;34m\u001b[0m\u001b[0;34m\u001b[0m\u001b[0m\n\u001b[0;32m----> 4\u001b[0;31m     \u001b[0mMAX_VALUE\u001b[0m \u001b[0;34m+=\u001b[0m \u001b[0;36m1\u001b[0m\u001b[0;34m\u001b[0m\u001b[0;34m\u001b[0m\u001b[0m\n\u001b[0m\u001b[1;32m      5\u001b[0m \u001b[0;34m\u001b[0m\u001b[0m\n\u001b[1;32m      6\u001b[0m \u001b[0mfoo\u001b[0m\u001b[0;34m(\u001b[0m\u001b[0;34m)\u001b[0m\u001b[0;34m\u001b[0m\u001b[0;34m\u001b[0m\u001b[0m\n",
      "\u001b[0;31mUnboundLocalError\u001b[0m: local variable 'MAX_VALUE' referenced before assignment"
     ]
    }
   ],
   "source": [
    "# 在函数内部直接操作全局变量会报本地未声明变量错误\n",
    "MAX_VALUE = 10\n",
    "def foo():\n",
    "    MAX_VALUE += 1\n",
    "    \n",
    "foo()"
   ]
  },
  {
   "cell_type": "code",
   "execution_count": 129,
   "metadata": {},
   "outputs": [
    {
     "name": "stdout",
     "output_type": "stream",
     "text": [
      "11\n"
     ]
    }
   ],
   "source": [
    "# 在函数内部使用global声明 就可以在函数内部操作全局变量\n",
    "def foo():\n",
    "    global MAX_VALUE\n",
    "    MAX_VALUE += 1\n",
    "    \n",
    "foo()\n",
    "print(MAX_VALUE)"
   ]
  },
  {
   "cell_type": "code",
   "execution_count": 130,
   "metadata": {},
   "outputs": [
    {
     "name": "stdout",
     "output_type": "stream",
     "text": [
      "11\n"
     ]
    }
   ],
   "source": [
    "# 在函数内部声明与全局变量相同名字的immutable局部变量，改变其值不会影响全局变量的值\n",
    "def foo():\n",
    "    MAX_VALUE = 1\n",
    "    MAX_VALUE += 1\n",
    "\n",
    "foo()\n",
    "print(MAX_VALUE)"
   ]
  },
  {
   "cell_type": "code",
   "execution_count": 132,
   "metadata": {},
   "outputs": [
    {
     "name": "stdout",
     "output_type": "stream",
     "text": [
      "[100, 98, 89, 59]\n"
     ]
    }
   ],
   "source": [
    "# 在函数内部声明与全局变量相同名字的mutable局部变量，改变其值会影响全局变量的值且不需要使用global声明直接就可以使用修改，\n",
    "# 因为Python传参传的都是引用，即变量的地址\n",
    "LIST_POINT = [100, 98, 89]\n",
    "def foo():\n",
    "    LIST_POINT.append(59)\n",
    "\n",
    "foo()\n",
    "print(LIST_POINT)"
   ]
  },
  {
   "cell_type": "code",
   "execution_count": 134,
   "metadata": {},
   "outputs": [
    {
     "name": "stdout",
     "output_type": "stream",
     "text": [
      "inner: nonlocal\n",
      "outer: local\n",
      "inner: nonlocal\n",
      "outer: nonlocal\n"
     ]
    }
   ],
   "source": [
    "# 对于嵌套函数来说，内部函数可以访问外部函数定义的变量，但是无法修改，若要修改，必须加上nonlocal声明\n",
    "def outer():\n",
    "    x = 'local'\n",
    "    def inner():\n",
    "        x = 'nonlocal'\n",
    "        print('inner:', x)\n",
    "    inner()\n",
    "    print('outer:', x)\n",
    "outer()\n",
    "\n",
    "def outer():\n",
    "    x = 'local'\n",
    "    def inner():\n",
    "        nonlocal x\n",
    "        x = 'nonlocal'\n",
    "        print('inner:', x)\n",
    "    inner()\n",
    "    print('outer:', x)\n",
    "outer()"
   ]
  },
  {
   "cell_type": "code",
   "execution_count": 136,
   "metadata": {},
   "outputs": [
    {
     "data": {
      "text/plain": [
       "<function __main__.nth_power.<locals>.exponent_of(base)>"
      ]
     },
     "execution_count": 136,
     "metadata": {},
     "output_type": "execute_result"
    }
   ],
   "source": [
    "# 闭包\n",
    "def nth_power(exponent):\n",
    "    def exponent_of(base):\n",
    "        return base ** exponent\n",
    "    return exponent_of\n",
    "\n",
    "square = nth_power(2)\n",
    "square"
   ]
  },
  {
   "cell_type": "code",
   "execution_count": 137,
   "metadata": {},
   "outputs": [
    {
     "data": {
      "text/plain": [
       "<function __main__.nth_power.<locals>.exponent_of(base)>"
      ]
     },
     "execution_count": 137,
     "metadata": {},
     "output_type": "execute_result"
    }
   ],
   "source": [
    "cube = nth_power(3)\n",
    "cube"
   ]
  },
  {
   "cell_type": "code",
   "execution_count": 138,
   "metadata": {},
   "outputs": [
    {
     "data": {
      "text/plain": [
       "4"
      ]
     },
     "execution_count": 138,
     "metadata": {},
     "output_type": "execute_result"
    }
   ],
   "source": [
    "square(2)"
   ]
  },
  {
   "cell_type": "code",
   "execution_count": 139,
   "metadata": {},
   "outputs": [
    {
     "data": {
      "text/plain": [
       "8"
      ]
     },
     "execution_count": 139,
     "metadata": {},
     "output_type": "execute_result"
    }
   ],
   "source": [
    "cube(2)"
   ]
  },
  {
   "cell_type": "code",
   "execution_count": 145,
   "metadata": {},
   "outputs": [
    {
     "data": {
      "text/plain": [
       "[0, 1, 4, 9, 16, 25, 36, 49, 64, 81]"
      ]
     },
     "execution_count": 145,
     "metadata": {},
     "output_type": "execute_result"
    }
   ],
   "source": [
    "# 匿名函数\n",
    "[(lambda x: x**2)(i) for i in range(10)]"
   ]
  },
  {
   "cell_type": "code",
   "execution_count": 146,
   "metadata": {},
   "outputs": [
    {
     "data": {
      "text/plain": [
       "[0, 1, 4, 9, 16, 25, 36, 49, 64, 81]"
      ]
     },
     "execution_count": 146,
     "metadata": {},
     "output_type": "execute_result"
    }
   ],
   "source": [
    "def square(x):\n",
    "    return x ** 2\n",
    "[square(i) for i in range(10)]"
   ]
  },
  {
   "cell_type": "code",
   "execution_count": 148,
   "metadata": {},
   "outputs": [
    {
     "data": {
      "text/plain": [
       "[(1, 20), (2, -1), (3, 0), (9, 10)]"
      ]
     },
     "execution_count": 148,
     "metadata": {},
     "output_type": "execute_result"
    }
   ],
   "source": [
    "l = [(1, 20), (3, 0), (9, 10), (2, -1)]\n",
    "l.sort()\n",
    "l"
   ]
  },
  {
   "cell_type": "code",
   "execution_count": 150,
   "metadata": {},
   "outputs": [
    {
     "data": {
      "text/plain": [
       "[(2, -1), (3, 0), (9, 10), (1, 20)]"
      ]
     },
     "execution_count": 150,
     "metadata": {},
     "output_type": "execute_result"
    }
   ],
   "source": [
    "l.sort(key=lambda x: x[1])\n",
    "l"
   ]
  },
  {
   "cell_type": "markdown",
   "metadata": {},
   "source": [
    "* lambda是一个表达式（expression），并不是一个语句（statement）\n",
    "* lambda的主体只有一行的简单表达式，并不能扩展成一个多行的代码块"
   ]
  },
  {
   "cell_type": "code",
   "execution_count": 152,
   "metadata": {},
   "outputs": [
    {
     "data": {
      "text/plain": [
       "[1, 4, 9, 16, 25]"
      ]
     },
     "execution_count": 152,
     "metadata": {},
     "output_type": "execute_result"
    }
   ],
   "source": [
    "list(map(lambda x: x**2, [1, 2, 3, 4, 5]))"
   ]
  },
  {
   "cell_type": "code",
   "execution_count": 153,
   "metadata": {},
   "outputs": [
    {
     "name": "stdout",
     "output_type": "stream",
     "text": [
      "being pressed\n",
      "being pressed\n",
      "being pressed\n",
      "being pressed\n"
     ]
    }
   ],
   "source": [
    "from tkinter import Button, mainloop\n",
    "\n",
    "button = Button(text='This is a button',\n",
    "               command=lambda: print('being pressed'))\n",
    "button.pack()\n",
    "mainloop()"
   ]
  },
  {
   "cell_type": "code",
   "execution_count": 5,
   "metadata": {},
   "outputs": [
    {
     "data": {
      "text/plain": [
       "True"
      ]
     },
     "execution_count": 5,
     "metadata": {},
     "output_type": "execute_result"
    }
   ],
   "source": [
    "func = lambda x: x\n",
    "func(None) == None"
   ]
  },
  {
   "cell_type": "code",
   "execution_count": 7,
   "metadata": {},
   "outputs": [],
   "source": [
    "filter?"
   ]
  },
  {
   "cell_type": "code",
   "execution_count": 8,
   "metadata": {},
   "outputs": [
    {
     "data": {
      "text/plain": [
       "[1, 2, 3, 4]"
      ]
     },
     "execution_count": 8,
     "metadata": {},
     "output_type": "execute_result"
    }
   ],
   "source": [
    "l = list(range(1, 5))\n",
    "l"
   ]
  },
  {
   "cell_type": "code",
   "execution_count": 10,
   "metadata": {},
   "outputs": [
    {
     "data": {
      "text/plain": [
       "24"
      ]
     },
     "execution_count": 10,
     "metadata": {},
     "output_type": "execute_result"
    }
   ],
   "source": [
    "from functools import reduce\n",
    "product = reduce(lambda x, y: x * y, l)\n",
    "product"
   ]
  },
  {
   "cell_type": "code",
   "execution_count": 14,
   "metadata": {},
   "outputs": [
    {
     "data": {
      "text/plain": [
       "[('ben', 30), ('mike', 10), ('lucy', 2)]"
      ]
     },
     "execution_count": 14,
     "metadata": {},
     "output_type": "execute_result"
    }
   ],
   "source": [
    "# 字典根据值由高到低排序\n",
    "d = {'mike': 10, 'lucy': 2, 'ben': 30}\n",
    "sorted(d.items(), key=lambda x: x[1], reverse=True)"
   ]
  },
  {
   "cell_type": "code",
   "execution_count": 21,
   "metadata": {},
   "outputs": [],
   "source": [
    "def test(d):\n",
    "    if d <= 0:\n",
    "        return 0\n",
    "    start = 10**(d-1)\n",
    "    end = start*10-1\n",
    "    n = 0\n",
    "    while start <= end:\n",
    "        if '0' in str(start):\n",
    "            n += 1\n",
    "        start += 1\n",
    "    return n"
   ]
  },
  {
   "cell_type": "code",
   "execution_count": 22,
   "metadata": {},
   "outputs": [
    {
     "data": {
      "text/plain": [
       "9"
      ]
     },
     "execution_count": 22,
     "metadata": {},
     "output_type": "execute_result"
    }
   ],
   "source": [
    "test(2)"
   ]
  },
  {
   "cell_type": "code",
   "execution_count": 23,
   "metadata": {},
   "outputs": [],
   "source": [
    "# if(digitCount<=0)\n",
    "#     return 0;\n",
    "# int start = Math.pow(10, d-1)\n",
    "# int end = start * 10 - 1\n",
    "# int n = 0\n",
    "# while(start <= end){\n",
    "#     if(Integer.toString(start).contains('0')){\n",
    "#         n += 1\n",
    "#     }\n",
    "#     start += 1\n",
    "# }\n",
    "# return n\n"
   ]
  },
  {
   "cell_type": "code",
   "execution_count": 24,
   "metadata": {},
   "outputs": [
    {
     "name": "stdout",
     "output_type": "stream",
     "text": [
      "from H\n",
      "[<class '__main__.F'>, <class '__main__.D'>, <class '__main__.B'>, <class '__main__.E'>, <class '__main__.C'>, <class '__main__.H'>, <class '__main__.A'>, <class 'object'>]\n"
     ]
    }
   ],
   "source": [
    "class A:\n",
    "    # def test(self):\n",
    "    # print('from A')\n",
    "    pass\n",
    "class B(A):\n",
    "    # def test(self):\n",
    "    # print('from B')\n",
    "    pass\n",
    "class C(A):\n",
    "    # def test(self):\n",
    "    # print('from C')\n",
    "    pass\n",
    "\n",
    "class D(B):\n",
    "    # def test(self):\n",
    "    # print('from D')\n",
    "    pass\n",
    "\n",
    "class E(C):\n",
    "    # def test(self):\n",
    "    # print('from E')\n",
    "    pass\n",
    "\n",
    "class H(A):\n",
    "    def test(self):\n",
    "        print('from H')\n",
    "        pass\n",
    "class F(D,E,H):\n",
    "    # def test(self):\n",
    "    # print('from F')\n",
    "    pass\n",
    "f=F()\n",
    "f.test()\n",
    "print(F.mro())"
   ]
  },
  {
   "cell_type": "code",
   "execution_count": 22,
   "metadata": {},
   "outputs": [],
   "source": [
    "# 简易版搜索引擎基类\n",
    "class SearchEngineBase:\n",
    "    def __init__(self):\n",
    "        pass\n",
    "    \n",
    "    def add_corpus(self, file_path):\n",
    "        with open(file_path) as fin:\n",
    "            text = fin.read()\n",
    "        self.process_corpus(file_path, text)\n",
    "        \n",
    "    def process_corpus(self, id, text):\n",
    "        raise Exception('process_corpus not implemented.')\n",
    "        \n",
    "    def search(self, query):\n",
    "        raise Exception('search not implemented.')\n",
    "        \n",
    "\n",
    "def main(search_engine):\n",
    "    for file_path in ['1.txt', '2.txt', '3.txt', '4.txt', '5.txt']:\n",
    "        search_engine.add_corpus(file_path)\n",
    "    while True:\n",
    "        query = input()\n",
    "        if query == 'q':\n",
    "            break\n",
    "        results = search_engine.search(query)\n",
    "        print('found {} result(s)'.format(len(results)))\n",
    "        for result in results:\n",
    "            print(result)"
   ]
  },
  {
   "cell_type": "code",
   "execution_count": 23,
   "metadata": {},
   "outputs": [
    {
     "name": "stdout",
     "output_type": "stream",
     "text": [
      "dream\n",
      "found 3 result(s)\n",
      "1.txt\n",
      "2.txt\n",
      "3.txt\n",
      "a\n",
      "found 5 result(s)\n",
      "1.txt\n",
      "2.txt\n",
      "3.txt\n",
      "4.txt\n",
      "5.txt\n",
      "I\n",
      "found 3 result(s)\n",
      "1.txt\n",
      "2.txt\n",
      "3.txt\n",
      "little\n",
      "found 2 result(s)\n",
      "1.txt\n",
      "2.txt\n",
      "q\n"
     ]
    }
   ],
   "source": [
    "# 简单实现搜索引擎\n",
    "class SimpleEngine(SearchEngineBase):\n",
    "    def __init__(self):\n",
    "        super().__init__()\n",
    "        self.__id_to_texts = {}\n",
    "        \n",
    "    def process_corpus(self, id, text):\n",
    "        self.__id_to_texts[id] = text\n",
    "        \n",
    "    def search(self, query):\n",
    "        res = []\n",
    "        for id, content in self.__id_to_texts.items():\n",
    "            if query in content:\n",
    "                res.append(id)\n",
    "        return res\n",
    "    \n",
    "    \n",
    "search_engine = SimpleEngine()\n",
    "main(search_engine)"
   ]
  },
  {
   "cell_type": "code",
   "execution_count": 24,
   "metadata": {},
   "outputs": [
    {
     "name": "stdout",
     "output_type": "stream",
     "text": [
      "dream\n",
      "found 3 result(s)\n",
      "1.txt\n",
      "2.txt\n",
      "3.txt\n",
      "dream a\n",
      "found 3 result(s)\n",
      "1.txt\n",
      "2.txt\n",
      "3.txt\n",
      "judged skin\n",
      "found 1 result(s)\n",
      "1.txt\n",
      "q\n"
     ]
    }
   ],
   "source": [
    "# Bag of word搜索模型\n",
    "import re\n",
    "\n",
    "class BOWSearch(SearchEngineBase):\n",
    "    def __init__(self):\n",
    "        super().__init__()\n",
    "        self.__id_to_words = {}\n",
    "        \n",
    "    def process_corpus(self, id, text):\n",
    "        self.__id_to_words[id] = self.parse_text_to_words(text)\n",
    "        \n",
    "    def search(self, query):\n",
    "        query_words = self.parse_text_to_words(query)\n",
    "        results = []\n",
    "        for id, words in self.__id_to_words.items():\n",
    "            if self.query_match(query_words, words):\n",
    "                results.append(id)\n",
    "        return results\n",
    "    \n",
    "    @staticmethod\n",
    "    def parse_text_to_words(text):\n",
    "        return set(re.sub(r'[^\\w ]', ' ', text).lower().split())\n",
    "\n",
    "    @staticmethod\n",
    "    def query_match(query_words, words):\n",
    "        for query_word in query_words:\n",
    "            if query_word not in words:\n",
    "                return False\n",
    "        return True\n",
    "    \n",
    "        \n",
    "search_engine = BOWSearch()\n",
    "main(search_engine)"
   ]
  },
  {
   "cell_type": "code",
   "execution_count": null,
   "metadata": {},
   "outputs": [
    {
     "name": "stdout",
     "output_type": "stream",
     "text": [
      "dreamkong \n",
      "found 0 result(s)\n",
      "dream\n",
      "found 5 result(s)\n",
      "1.txt\n",
      "1.txt\n",
      "2.txt\n",
      "2.txt\n",
      "3.txt\n"
     ]
    }
   ],
   "source": [
    "import re\n",
    "\n",
    "class BOWInvertedIndexEngine(SearchEngineBase):\n",
    "    def __init__(self):\n",
    "        super().__init__()\n",
    "        self.inverted_index = {}\n",
    "        \n",
    "    def process_corpus(self, id, text):\n",
    "        words = self.parse_text_to_words(text)\n",
    "        for word in words:\n",
    "            if word not in self.inverted_index:\n",
    "                self.inverted_index[word] = []\n",
    "            self.inverted_index[word].append(id)\n",
    "            \n",
    "    def search(self, query):\n",
    "        query_words = list(self.parse_text_to_words(query))\n",
    "        query_words_index = list()\n",
    "        for query_word in query_words:\n",
    "            query_words_index.append(0)\n",
    "            \n",
    "        # 如果某一个查询单词的倒序索引为空，我们就立刻返回\n",
    "        for query_word in query_words:\n",
    "            if query_word not in self.inverted_index:\n",
    "                return []\n",
    "            \n",
    "        result = []\n",
    "        while True:\n",
    "            # 首先，获得当前状态下所有倒序索引的index\n",
    "            current_ids = []\n",
    "            \n",
    "            for idx, query_word in enumerate(query_words):\n",
    "                current_index = query_words_index[idx]\n",
    "                current_inverted_list = self.inverted_index[query_word]\n",
    "                \n",
    "                # 已经遍历到了某一个倒序索引的末尾，结束search\n",
    "                if current_index >= len(current_inverted_list):\n",
    "                    return result\n",
    "                \n",
    "                current_ids.append(current_inverted_list[current_index])\n",
    "                \n",
    "            # 然后，如果current_ids的所有元素都一样，那么表明这个单词在这个元素对应的文档中出现了\n",
    "            if all(x == current_ids[0] for x in current_ids):\n",
    "                result.append(current_ids[0])\n",
    "                query_words_index = [x + 1 for x in query_words_index]\n",
    "                continue\n",
    "            \n",
    "            # 如果不是，我们就把最小的元素加一\n",
    "            min_val = min(current_ids)\n",
    "            min_val_pos = current_ids.index(min_val)\n",
    "            query_words_index[min_val_pos] += 1\n",
    "            \n",
    "            \n",
    "    @staticmethod\n",
    "    def parse_text_to_words(text):\n",
    "        text = re.sub(r'^\\w ', '', text)\n",
    "        text = text.lower()\n",
    "        word_list = text.split()\n",
    "        word_list = filter(None, word_list)\n",
    "        return word_list\n",
    "        \n",
    "        \n",
    "search_engine = BOWInvertedIndexEngine()\n",
    "main(search_engine)"
   ]
  },
  {
   "cell_type": "code",
   "execution_count": 1,
   "metadata": {},
   "outputs": [
    {
     "name": "stdout",
     "output_type": "stream",
     "text": [
      "4496078256\n",
      "4496078256\n"
     ]
    }
   ],
   "source": [
    "a = 1\n",
    "b = 1\n",
    "print(id(a))\n",
    "print(id(b))"
   ]
  },
  {
   "cell_type": "code",
   "execution_count": 2,
   "metadata": {},
   "outputs": [
    {
     "data": {
      "text/plain": [
       "True"
      ]
     },
     "execution_count": 2,
     "metadata": {},
     "output_type": "execute_result"
    }
   ],
   "source": [
    "a == b"
   ]
  },
  {
   "cell_type": "code",
   "execution_count": 3,
   "metadata": {},
   "outputs": [
    {
     "data": {
      "text/plain": [
       "True"
      ]
     },
     "execution_count": 3,
     "metadata": {},
     "output_type": "execute_result"
    }
   ],
   "source": [
    "a is b"
   ]
  },
  {
   "cell_type": "code",
   "execution_count": 4,
   "metadata": {},
   "outputs": [
    {
     "name": "stdout",
     "output_type": "stream",
     "text": [
      "4496078064\n",
      "4496078064\n"
     ]
    }
   ],
   "source": [
    "c = -5\n",
    "d = -5\n",
    "print(id(c))\n",
    "print(id(d))"
   ]
  },
  {
   "cell_type": "code",
   "execution_count": 5,
   "metadata": {},
   "outputs": [
    {
     "data": {
      "text/plain": [
       "True"
      ]
     },
     "execution_count": 5,
     "metadata": {},
     "output_type": "execute_result"
    }
   ],
   "source": [
    "a == b"
   ]
  },
  {
   "cell_type": "code",
   "execution_count": 6,
   "metadata": {},
   "outputs": [
    {
     "data": {
      "text/plain": [
       "True"
      ]
     },
     "execution_count": 6,
     "metadata": {},
     "output_type": "execute_result"
    }
   ],
   "source": [
    "a is b"
   ]
  },
  {
   "cell_type": "code",
   "execution_count": 7,
   "metadata": {},
   "outputs": [
    {
     "name": "stdout",
     "output_type": "stream",
     "text": [
      "4535546064\n",
      "4535546480\n"
     ]
    }
   ],
   "source": [
    "e = -6\n",
    "f = -6\n",
    "print(id(e))\n",
    "print(id(f))"
   ]
  },
  {
   "cell_type": "code",
   "execution_count": 8,
   "metadata": {},
   "outputs": [
    {
     "data": {
      "text/plain": [
       "True"
      ]
     },
     "execution_count": 8,
     "metadata": {},
     "output_type": "execute_result"
    }
   ],
   "source": [
    "e == f"
   ]
  },
  {
   "cell_type": "code",
   "execution_count": 9,
   "metadata": {},
   "outputs": [
    {
     "data": {
      "text/plain": [
       "False"
      ]
     },
     "execution_count": 9,
     "metadata": {},
     "output_type": "execute_result"
    }
   ],
   "source": [
    "e is f"
   ]
  },
  {
   "cell_type": "code",
   "execution_count": 10,
   "metadata": {},
   "outputs": [
    {
     "name": "stdout",
     "output_type": "stream",
     "text": [
      "4535546800\n",
      "4535546736\n"
     ]
    }
   ],
   "source": [
    "g = 257\n",
    "h = 257\n",
    "print(id(g))\n",
    "print(id(h))"
   ]
  },
  {
   "cell_type": "code",
   "execution_count": 11,
   "metadata": {},
   "outputs": [
    {
     "data": {
      "text/plain": [
       "True"
      ]
     },
     "execution_count": 11,
     "metadata": {},
     "output_type": "execute_result"
    }
   ],
   "source": [
    "g == h"
   ]
  },
  {
   "cell_type": "code",
   "execution_count": 12,
   "metadata": {},
   "outputs": [
    {
     "data": {
      "text/plain": [
       "False"
      ]
     },
     "execution_count": 12,
     "metadata": {},
     "output_type": "execute_result"
    }
   ],
   "source": [
    "g is h"
   ]
  },
  {
   "cell_type": "markdown",
   "metadata": {},
   "source": [
    "### 每次你试图创建一个-5到256范围内的整型数字时，Python都会从这个数组中返回相对应的引用，而不是重新开辟一块新的内存空间。\n",
    "* 比较操作符'=='表示比较对象间的值是否相等，而'is'表示比较对象的标识是否相等，即它们是否指向同一个内存地址。\n",
    "* 比较操作符'is'效率优于'=='，因为'is'操作符无法被重载，执行'is'操作只是简单的获取对象的ID，并进行比较；而'=='操作符则会递归地遍历对象的所有值，并逐一比较。\n",
    "* 浅拷贝中的元素，是原对象中子对象的引用，因此，如果原对象中的元素是可变的，改变其也会影响拷贝后的对象，存在一定的副作用。\n",
    "* 深度拷贝则会递归地拷贝原对象中的每一个子对象，因此拷贝后的对象和原对象互不相关。另外，深度拷贝中会维护一个字典，记录已经拷贝的对象及其ID，来提高效率并防止无限递归的发生。"
   ]
  },
  {
   "cell_type": "code",
   "execution_count": 13,
   "metadata": {},
   "outputs": [
    {
     "data": {
      "text/plain": [
       "[1, [...]]"
      ]
     },
     "execution_count": 13,
     "metadata": {},
     "output_type": "execute_result"
    }
   ],
   "source": [
    "import copy\n",
    "\n",
    "x = [1]\n",
    "x.append(x)\n",
    "x"
   ]
  },
  {
   "cell_type": "code",
   "execution_count": 14,
   "metadata": {},
   "outputs": [
    {
     "data": {
      "text/plain": [
       "[1, [...]]"
      ]
     },
     "execution_count": 14,
     "metadata": {},
     "output_type": "execute_result"
    }
   ],
   "source": [
    "y = copy.deepcopy(x)\n",
    "y"
   ]
  },
  {
   "cell_type": "code",
   "execution_count": 15,
   "metadata": {},
   "outputs": [
    {
     "ename": "RecursionError",
     "evalue": "maximum recursion depth exceeded in comparison",
     "output_type": "error",
     "traceback": [
      "\u001b[0;31m---------------------------------------------------------------------------\u001b[0m",
      "\u001b[0;31mRecursionError\u001b[0m                            Traceback (most recent call last)",
      "\u001b[0;32m<ipython-input-15-9cfbd892cdaa>\u001b[0m in \u001b[0;36m<module>\u001b[0;34m\u001b[0m\n\u001b[0;32m----> 1\u001b[0;31m \u001b[0mx\u001b[0m \u001b[0;34m==\u001b[0m \u001b[0my\u001b[0m\u001b[0;34m\u001b[0m\u001b[0;34m\u001b[0m\u001b[0m\n\u001b[0m",
      "\u001b[0;31mRecursionError\u001b[0m: maximum recursion depth exceeded in comparison"
     ]
    }
   ],
   "source": [
    "x == y"
   ]
  },
  {
   "cell_type": "markdown",
   "metadata": {},
   "source": [
    "* 变量的赋值，只是表示让变量指向了某个对象，并不表示拷贝对象给变量；而一个对象，可以被多个变量所指向。\n",
    "* 可变对象（列表，字典，集合等等）的改变，会影响所有指向该对象的变量。\n",
    "* 对于不可变对象（字符串，整型，元祖等等），所有指向该对象的变量的值总是一样的，也不会改变。但是通过某些操作（+=等等）更新不可变对象的值时，会返回一个新的对象。\n",
    "* 变量可以被删除，但是对象无法被删除。"
   ]
  },
  {
   "cell_type": "markdown",
   "metadata": {},
   "source": [
    "> “Remember that arguments are passed by assignment in Python. Since assignment just creates references to objects, there’s no alias between an argument name in the caller and callee, and so no call-by-reference per Se.”\n",
    "\n",
    "准确地说，Python的参数传递是赋值传递 （pass by assignment），或者叫作对象的引用传递（pass by object reference）。Python里所有的数据类型都是对象，所以参数传递时，只是让新变量与原变量指向相同的对象而已，并不存在值传递或是引用传递一说。"
   ]
  },
  {
   "cell_type": "code",
   "execution_count": 18,
   "metadata": {},
   "outputs": [],
   "source": [
    "l1 = [1, 2, 3]\n",
    "l2 = [1, 2, 3]\n",
    "l3 = l2"
   ]
  },
  {
   "cell_type": "code",
   "execution_count": 19,
   "metadata": {},
   "outputs": [
    {
     "name": "stdout",
     "output_type": "stream",
     "text": [
      "4535591496\n",
      "4538564424\n",
      "4538564424\n"
     ]
    }
   ],
   "source": [
    "print(id(l1))\n",
    "print(id(l2))\n",
    "print(id(l3))"
   ]
  },
  {
   "cell_type": "code",
   "execution_count": 20,
   "metadata": {},
   "outputs": [
    {
     "name": "stdout",
     "output_type": "stream",
     "text": [
      "{'a': 10, 'b': 20}\n"
     ]
    }
   ],
   "source": [
    "def func(d):\n",
    "    d['a'] = 10\n",
    "    d['b'] = 20\n",
    "    \n",
    "d = {'a': 1, 'b': 2}\n",
    "func(d)\n",
    "print(d)"
   ]
  },
  {
   "cell_type": "code",
   "execution_count": 21,
   "metadata": {},
   "outputs": [
    {
     "name": "stdout",
     "output_type": "stream",
     "text": [
      "this is decorator.\n",
      "hello world.\n"
     ]
    }
   ],
   "source": [
    "# 简单装饰器\n",
    "def my_decorator(func):\n",
    "    def wrapper():\n",
    "        print('this is decorator.')\n",
    "        func()\n",
    "    return wrapper\n",
    "\n",
    "def greet():\n",
    "    print('hello world.')\n",
    "\n",
    "greet = my_decorator(greet)\n",
    "greet()"
   ]
  },
  {
   "cell_type": "code",
   "execution_count": 22,
   "metadata": {},
   "outputs": [
    {
     "name": "stdout",
     "output_type": "stream",
     "text": [
      "this is decorator.\n",
      "just so so\n"
     ]
    }
   ],
   "source": [
    "# 更优雅的表示\n",
    "@my_decorator\n",
    "def greet():\n",
    "    print('just so so')\n",
    "    \n",
    "greet()"
   ]
  },
  {
   "cell_type": "code",
   "execution_count": 24,
   "metadata": {},
   "outputs": [
    {
     "name": "stdout",
     "output_type": "stream",
     "text": [
      "wrapper of decorator\n",
      "to be No.1\n"
     ]
    }
   ],
   "source": [
    "# 带参数的装饰器\n",
    "def my_decorator(func):\n",
    "    def wrapper(*args, **kwargs):\n",
    "        print('wrapper of decorator')\n",
    "        func(*args, **kwargs)\n",
    "    return wrapper\n",
    "\n",
    "@my_decorator\n",
    "def greet(message):\n",
    "    print(message)\n",
    "    \n",
    "    \n",
    "greet('to be No.1')"
   ]
  },
  {
   "cell_type": "code",
   "execution_count": 25,
   "metadata": {},
   "outputs": [
    {
     "name": "stdout",
     "output_type": "stream",
     "text": [
      "wrapper of decorator\n",
      "first of all\n",
      "wrapper of decorator\n",
      "first of all\n",
      "wrapper of decorator\n",
      "first of all\n",
      "wrapper of decorator\n",
      "first of all\n",
      "wrapper of decorator\n",
      "first of all\n",
      "wrapper of decorator\n",
      "first of all\n",
      "wrapper of decorator\n",
      "first of all\n",
      "wrapper of decorator\n",
      "first of all\n",
      "wrapper of decorator\n",
      "first of all\n",
      "wrapper of decorator\n",
      "first of all\n"
     ]
    }
   ],
   "source": [
    "# 带自定义参数的装饰器\n",
    "def repeat(num):\n",
    "    def my_decorator(func):\n",
    "        def wrapper(*args, **kwargs):\n",
    "            for i in range(num):\n",
    "                print('wrapper of decorator')\n",
    "                func(*args, **kwargs)\n",
    "        return wrapper\n",
    "    return my_decorator\n",
    "\n",
    "@repeat(10)\n",
    "def greet(message):\n",
    "    print(message)\n",
    "    \n",
    "    \n",
    "greet('first of all')"
   ]
  },
  {
   "cell_type": "code",
   "execution_count": 26,
   "metadata": {},
   "outputs": [
    {
     "data": {
      "text/plain": [
       "'wrapper'"
      ]
     },
     "execution_count": 26,
     "metadata": {},
     "output_type": "execute_result"
    }
   ],
   "source": [
    "greet.__name__"
   ]
  },
  {
   "cell_type": "code",
   "execution_count": 27,
   "metadata": {},
   "outputs": [
    {
     "name": "stdout",
     "output_type": "stream",
     "text": [
      "Help on function wrapper in module __main__:\n",
      "\n",
      "wrapper(*args, **kwargs)\n",
      "\n"
     ]
    }
   ],
   "source": [
    "help(greet)"
   ]
  },
  {
   "cell_type": "markdown",
   "metadata": {},
   "source": [
    "你会发现，greet()函数被装饰以后，它的元信息变了。元信息告诉我们“它不再是以前的那个greet()函数，而是被wrapper()函数取代了”。\n",
    "\n",
    "为了解决这个问题，我们通常使用内置的装饰器@functools.wrap，它会帮助保留原函数的元信息（也就是将原函数的元信息，拷贝到对应的装饰器函数里）。"
   ]
  },
  {
   "cell_type": "code",
   "execution_count": 29,
   "metadata": {},
   "outputs": [
    {
     "name": "stdout",
     "output_type": "stream",
     "text": [
      "wrapper of decorator\n",
      "it's my life\n"
     ]
    }
   ],
   "source": [
    "import functools\n",
    "\n",
    "def my_decorator(func):\n",
    "    @functools.wraps(func)\n",
    "    def wrapper(*args, **kwargs):\n",
    "        print('wrapper of decorator')\n",
    "        func(*args, **kwargs)\n",
    "    return wrapper\n",
    "\n",
    "\n",
    "@my_decorator\n",
    "def greet(message):\n",
    "    print(message)\n",
    "    \n",
    "greet('it\\'s my life')"
   ]
  },
  {
   "cell_type": "code",
   "execution_count": 30,
   "metadata": {},
   "outputs": [
    {
     "data": {
      "text/plain": [
       "'greet'"
      ]
     },
     "execution_count": 30,
     "metadata": {},
     "output_type": "execute_result"
    }
   ],
   "source": [
    "greet.__name__"
   ]
  },
  {
   "cell_type": "code",
   "execution_count": 31,
   "metadata": {},
   "outputs": [
    {
     "name": "stdout",
     "output_type": "stream",
     "text": [
      "Help on function greet in module __main__:\n",
      "\n",
      "greet(message)\n",
      "\n"
     ]
    }
   ],
   "source": [
    "help(greet)"
   ]
  },
  {
   "cell_type": "markdown",
   "metadata": {},
   "source": [
    "### 类装饰器\n",
    "前面我们主要讲了函数作为装饰器的用法，实际上，类也可以作为装饰器。类装饰器主要依赖于函数__call_()，每当你调用一个类的示例时，函数__call__()就会被执行一次。"
   ]
  },
  {
   "cell_type": "code",
   "execution_count": 32,
   "metadata": {},
   "outputs": [
    {
     "name": "stdout",
     "output_type": "stream",
     "text": [
      "num of class is: 1\n",
      "太多的理由， 太多的借口\n"
     ]
    }
   ],
   "source": [
    "class Count:\n",
    "    \n",
    "    def __init__(self, func):\n",
    "        self.func = func\n",
    "        self.num_calls = 0\n",
    "        \n",
    "    def __call__(self, *args, **kwargs):\n",
    "        self.num_calls += 1\n",
    "        print('num of class is: {}'.format(self.num_calls))\n",
    "        return self.func(*args, **kwargs)\n",
    "    \n",
    "    \n",
    "@Count\n",
    "def greet(message):\n",
    "    print(message)\n",
    "    \n",
    "greet('太多的理由， 太多的借口')"
   ]
  },
  {
   "cell_type": "code",
   "execution_count": 33,
   "metadata": {},
   "outputs": [
    {
     "name": "stdout",
     "output_type": "stream",
     "text": [
      "num of class is: 2\n",
      "为了爱情我也背叛了所有\n"
     ]
    }
   ],
   "source": [
    "greet('为了爱情我也背叛了所有')"
   ]
  },
  {
   "cell_type": "code",
   "execution_count": 35,
   "metadata": {},
   "outputs": [
    {
     "name": "stdout",
     "output_type": "stream",
     "text": [
      "excute decorator1\n",
      "excute decorator2\n",
      "hello world.\n"
     ]
    }
   ],
   "source": [
    "# 装饰器嵌套\n",
    "import functools\n",
    "\n",
    "def my_decorator1(func):\n",
    "    @functools.wraps(func)\n",
    "    def wrapper(*args, **kwargs):\n",
    "        print('excute decorator1')\n",
    "        func(*args, **kwargs)\n",
    "    return wrapper\n",
    "\n",
    "def my_decorator2(func):\n",
    "    @functools.wraps(func)\n",
    "    def wrapper(*args, **kwargs):\n",
    "        print('excute decorator2')\n",
    "        func(*args, **kwargs)\n",
    "    return wrapper\n",
    "\n",
    "\n",
    "@my_decorator1\n",
    "@my_decorator2\n",
    "def greet(message):\n",
    "    print(message)\n",
    "    \n",
    "    \n",
    "greet('hello world.')"
   ]
  },
  {
   "cell_type": "code",
   "execution_count": null,
   "metadata": {},
   "outputs": [],
   "source": [
    "# 装饰器用法实例\n",
    "# 身份认证\n",
    "import functools\n",
    "\n",
    "def authenicate(func):\n",
    "    @functools.wraps(func)\n",
    "    def wrapper(*args, **kwargs):\n",
    "        request = args[0]\n",
    "        if check_user_logged_in(request):\n",
    "            # 如果用户处于登录状态\n",
    "            return func(*args, **kwargs)\n",
    "        else:\n",
    "            raise Exception('Authenication failed!')\n",
    "        return wrapper\n",
    "    \n",
    "    \n",
    "@authenicate\n",
    "def post_comment(request, ...):\n",
    "    ..."
   ]
  },
  {
   "cell_type": "code",
   "execution_count": 1,
   "metadata": {},
   "outputs": [
    {
     "name": "stdout",
     "output_type": "stream",
     "text": [
      "calculate_similarity took 20.142227999713214 ms.\n"
     ]
    }
   ],
   "source": [
    "# 日志记录\n",
    "import time\n",
    "import functools\n",
    "\n",
    "def log_excution_time(func):\n",
    "    @functools.wraps(func)\n",
    "    def wrapper(*args, **kwargs):\n",
    "        start = time.perf_counter()\n",
    "        res = func(*args, **kwargs)\n",
    "        end = time.perf_counter()\n",
    "        print('{} took {} ms.'.format(func.__name__, (end - start) * 1000))\n",
    "        return res\n",
    "    return wrapper\n",
    "\n",
    "\n",
    "@log_excution_time\n",
    "def calculate_similarity(items):\n",
    "    for i in range(items):\n",
    "        pass\n",
    "    \n",
    "\n",
    "calculate_similarity(999999)"
   ]
  },
  {
   "cell_type": "code",
   "execution_count": null,
   "metadata": {},
   "outputs": [],
   "source": [
    "# 输入合理性检查\n",
    "import functools\n",
    "\n",
    "def validation_check(func):\n",
    "    @functools.wraps(func)\n",
    "    def wrapper(*args, **kwargs):\n",
    "        # 检查合理性输入\n",
    "        pass\n",
    "    \n",
    "@validation_check\n",
    "def neural_networking_training(param1, param2, ...):\n",
    "    ..."
   ]
  },
  {
   "cell_type": "markdown",
   "metadata": {},
   "source": [
    "**所谓的装饰器，其实就是通过装饰器函数，来修改原函数的一些功能，使得原函数不需要修改。**"
   ]
  },
  {
   "cell_type": "code",
   "execution_count": 3,
   "metadata": {},
   "outputs": [
    {
     "data": {
      "text/plain": [
       "{1, 2, 3, 4, 5}"
      ]
     },
     "execution_count": 3,
     "metadata": {},
     "output_type": "execute_result"
    }
   ],
   "source": [
    "s = set([1, 1, 2, 3, 4, 5])\n",
    "s"
   ]
  },
  {
   "cell_type": "code",
   "execution_count": 5,
   "metadata": {},
   "outputs": [
    {
     "name": "stdout",
     "output_type": "stream",
     "text": [
      "1\n",
      "2\n",
      "3\n",
      "4\n",
      "5\n"
     ]
    }
   ],
   "source": [
    "for i in s:\n",
    "    print(i)"
   ]
  },
  {
   "cell_type": "code",
   "execution_count": 6,
   "metadata": {},
   "outputs": [
    {
     "name": "stdout",
     "output_type": "stream",
     "text": [
      "1234 is iterable? False\n",
      "1234 is iterable? True\n",
      "[1, 2, 3, 4] is iterable? True\n",
      "{1, 2, 3, 4} is iterable? True\n",
      "{1: 1, 2: 2, 3: 3, 4: 4} is iterable? True\n",
      "(1, 2, 3, 4) is iterable? True\n"
     ]
    }
   ],
   "source": [
    "# 可迭代对象\n",
    "def is_iterable(param):\n",
    "    try:\n",
    "        iter(param)\n",
    "        return True\n",
    "    except TypeError:\n",
    "        return False\n",
    "    \n",
    "    \n",
    "params = [\n",
    "    1234,\n",
    "    '1234',\n",
    "    [1, 2, 3, 4],\n",
    "    set([1, 2, 3, 4]),\n",
    "    {1:1, 2:2, 3:3, 4:4},\n",
    "    (1, 2, 3, 4)\n",
    "]\n",
    "\n",
    "for param in params:\n",
    "    print('{} is iterable? {}'.format(param, is_iterable(param)))"
   ]
  },
  {
   "cell_type": "code",
   "execution_count": 8,
   "metadata": {},
   "outputs": [
    {
     "name": "stdout",
     "output_type": "stream",
     "text": [
      "initing iterator memory used: 18.21875 MB\n",
      "after iterator initiated memory used: 150.8984375 MB\n",
      "4999999950000000\n",
      "after sum called memory used: 496.2421875 MB\n",
      "CPU times: user 9.07 s, sys: 11.9 s, total: 21 s\n",
      "Wall time: 27.2 s\n"
     ]
    }
   ],
   "source": [
    "import os\n",
    "import psutil\n",
    "\n",
    "# 显示当前python程序占用的内存大小\n",
    "def show_memory_info(hint):\n",
    "    pid = os.getpid()\n",
    "    p = psutil.Process(pid)\n",
    "    \n",
    "    info = p.memory_full_info()\n",
    "    memory = info.uss / 1024 / 1024\n",
    "    print('{} memory used: {} MB'.format(hint, memory))\n",
    "    \n",
    "    \n",
    "def test_iterator():\n",
    "    show_memory_info('initing iterator')\n",
    "    list_1 = [i for i in range(100000000)]\n",
    "    show_memory_info('after iterator initiated')\n",
    "    print(sum(list_1))\n",
    "    show_memory_info('after sum called')\n",
    "    \n",
    "    \n",
    "def test_generator():\n",
    "    show_memory_info('initing iterator')\n",
    "    list_2 = (i for i in range(100000000))\n",
    "    show_memory_info('after generator initiated')\n",
    "    print(sum(list_2))\n",
    "    show_memory_info('after sum called')\n",
    "    \n",
    "    \n",
    "%time test_iterator()"
   ]
  },
  {
   "cell_type": "code",
   "execution_count": 9,
   "metadata": {},
   "outputs": [
    {
     "name": "stdout",
     "output_type": "stream",
     "text": [
      "initing iterator memory used: 18.03125 MB\n",
      "after generator initiated memory used: 18.04296875 MB\n",
      "4999999950000000\n",
      "after sum called memory used: 18.30078125 MB\n",
      "CPU times: user 7.1 s, sys: 46.9 ms, total: 7.15 s\n",
      "Wall time: 7.62 s\n"
     ]
    }
   ],
   "source": [
    "%time test_generator()"
   ]
  },
  {
   "cell_type": "code",
   "execution_count": 10,
   "metadata": {},
   "outputs": [
    {
     "name": "stdout",
     "output_type": "stream",
     "text": [
      "[2, 5, 9]\n"
     ]
    }
   ],
   "source": [
    "# 问题：给定一个 list 和一个指定数字，求这个数字在 list 中的位置\n",
    "\n",
    "# 常规做法\n",
    "def index_normal(L, target):\n",
    "    result = []\n",
    "    for i, num in enumerate(L):\n",
    "        if num == target:\n",
    "            result.append(i)\n",
    "    return result\n",
    "\n",
    "print(index_normal([1, 6, 2, 4, 5, 2, 8, 6, 3, 2], 2))"
   ]
  },
  {
   "cell_type": "code",
   "execution_count": 11,
   "metadata": {},
   "outputs": [
    {
     "name": "stdout",
     "output_type": "stream",
     "text": [
      "[2, 5, 9]\n"
     ]
    }
   ],
   "source": [
    "# 迭代器\n",
    "def index_generator(L, target):\n",
    "    for i, num in enumerate(L):\n",
    "        if num == target:\n",
    "            yield i\n",
    "            \n",
    "print(list(index_generator([1, 6, 2, 4, 5, 2, 8, 6, 3, 2], 2)))"
   ]
  },
  {
   "cell_type": "code",
   "execution_count": 12,
   "metadata": {},
   "outputs": [
    {
     "name": "stdout",
     "output_type": "stream",
     "text": [
      "True\n",
      "False\n"
     ]
    }
   ],
   "source": [
    "def is_subsequence(a, b):\n",
    "    b = iter(b)\n",
    "    return all(i in b for i in a)\n",
    "\n",
    "print(is_subsequence([1, 3, 5], [1, 2, 3, 4, 5]))\n",
    "print(is_subsequence([1, 4, 3], [1, 2, 3, 4, 5]))"
   ]
  },
  {
   "cell_type": "code",
   "execution_count": 13,
   "metadata": {},
   "outputs": [
    {
     "name": "stdout",
     "output_type": "stream",
     "text": [
      "crawling url_1\n",
      "OK url_1\n",
      "crawling url_2\n",
      "OK url_2\n",
      "crawling url_3\n",
      "OK url_3\n",
      "crawling url_4\n",
      "OK url_4\n",
      "CPU times: user 4.81 ms, sys: 2.7 ms, total: 7.51 ms\n",
      "Wall time: 10 s\n"
     ]
    }
   ],
   "source": [
    "# 协程\n",
    "import time\n",
    "\n",
    "def craw_page(url):\n",
    "    print('crawling {}'.format(url))\n",
    "    sleep_time = int(url.split('_')[-1])\n",
    "    time.sleep(sleep_time)\n",
    "    print('OK {}'.format(url))\n",
    "    \n",
    "    \n",
    "def main(urls):\n",
    "    for url in urls:\n",
    "        craw_page(url)\n",
    "        \n",
    "        \n",
    "%time main(['url_1', 'url_2', 'url_3', 'url_4'])"
   ]
  },
  {
   "cell_type": "code",
   "execution_count": 4,
   "metadata": {},
   "outputs": [
    {
     "name": "stdout",
     "output_type": "stream",
     "text": [
      "Collecting nest_asyncio\n",
      "  Using cached https://files.pythonhosted.org/packages/81/f3/e59eb5fa5c41c7e6ae9741ed18534dbfae15ad29040a3927396678934b28/nest_asyncio-1.2.0-py3-none-any.whl\n",
      "Installing collected packages: nest-asyncio\n",
      "Successfully installed nest-asyncio-1.2.0\n"
     ]
    }
   ],
   "source": [
    "!pip install nest_asyncio"
   ]
  },
  {
   "cell_type": "code",
   "execution_count": 4,
   "metadata": {},
   "outputs": [
    {
     "name": "stdout",
     "output_type": "stream",
     "text": [
      "crawling url_1\n",
      "OK url_1\n",
      "crawling url_2\n",
      "OK url_2\n",
      "crawling url_3\n",
      "OK url_3\n",
      "crawling url_4\n",
      "OK url_4\n",
      "CPU times: user 4.88 ms, sys: 4.18 ms, total: 9.06 ms\n",
      "Wall time: 10 s\n"
     ]
    }
   ],
   "source": [
    "import asyncio\n",
    "import nest_asyncio\n",
    "\n",
    "nest_asyncio.apply()\n",
    "\n",
    "async def crawl_page(url):\n",
    "    print('crawling {}'.format(url))\n",
    "    sleep_time = int(url.split('_')[-1])\n",
    "    await asyncio.sleep(sleep_time)\n",
    "    print('OK {}'.format(url))\n",
    "\n",
    "async def main(urls):\n",
    "    for url in urls:\n",
    "        await crawl_page(url)\n",
    "\n",
    "%time asyncio.run(main(['url_1', 'url_2', 'url_3', 'url_4']))"
   ]
  },
  {
   "cell_type": "code",
   "execution_count": 6,
   "metadata": {},
   "outputs": [
    {
     "name": "stdout",
     "output_type": "stream",
     "text": [
      "<coroutine object crawl_page at 0x10b452440>\n"
     ]
    },
    {
     "name": "stderr",
     "output_type": "stream",
     "text": [
      "/anaconda3/lib/python3.7/site-packages/ipykernel_launcher.py:1: RuntimeWarning: coroutine 'crawl_page' was never awaited\n",
      "  \"\"\"Entry point for launching an IPython kernel.\n",
      "RuntimeWarning: Enable tracemalloc to get the object allocation traceback\n"
     ]
    }
   ],
   "source": [
    "print(crawl_page(''))"
   ]
  },
  {
   "cell_type": "code",
   "execution_count": 3,
   "metadata": {},
   "outputs": [
    {
     "name": "stdout",
     "output_type": "stream",
     "text": [
      "crawling url_1\n",
      "crawling url_2\n",
      "crawling url_3\n",
      "crawling url_4\n",
      "OK url_1\n",
      "OK url_2\n",
      "OK url_3\n",
      "OK url_4\n",
      "CPU times: user 4.48 ms, sys: 1.98 ms, total: 6.45 ms\n",
      "Wall time: 4 s\n"
     ]
    }
   ],
   "source": [
    "import asyncio\n",
    "\n",
    "async def crawl_page(url):\n",
    "    print('crawling {}'.format(url))\n",
    "    sleep_time = int(url.split('_')[-1])\n",
    "    await asyncio.sleep(sleep_time)\n",
    "    print('OK {}'.format(url))\n",
    "\n",
    "async def main(urls):\n",
    "    tasks = [asyncio.create_task(crawl_page(url)) for url in urls]\n",
    "    for task in tasks:\n",
    "        await task\n",
    "\n",
    "%time asyncio.run(main(['url_1', 'url_2', 'url_3', 'url_4']))"
   ]
  },
  {
   "cell_type": "code",
   "execution_count": 6,
   "metadata": {},
   "outputs": [
    {
     "name": "stdout",
     "output_type": "stream",
     "text": [
      "crawling url_1\n",
      "crawling url_2\n",
      "crawling url_3\n",
      "crawling url_4\n",
      "OK url_1\n",
      "OK url_2\n",
      "OK url_3\n",
      "OK url_4\n",
      "CPU times: user 6.17 ms, sys: 2.65 ms, total: 8.82 ms\n",
      "Wall time: 4.01 s\n"
     ]
    }
   ],
   "source": [
    "import asyncio\n",
    "\n",
    "async def crawl_page(url):\n",
    "    print('crawling {}'.format(url))\n",
    "    sleep_time = int(url.split('_')[-1])\n",
    "    await asyncio.sleep(sleep_time)\n",
    "    print('OK {}'.format(url))\n",
    "    \n",
    "async def main(urls):\n",
    "    tasks = [asyncio.create_task(crawl_page(url)) for url in urls]\n",
    "    await asyncio.gather(*tasks)\n",
    "    \n",
    "%time asyncio.run(main(['url_1', 'url_2', 'url_3', 'url_4']))"
   ]
  },
  {
   "cell_type": "code",
   "execution_count": 8,
   "metadata": {},
   "outputs": [
    {
     "name": "stdout",
     "output_type": "stream",
     "text": [
      "before await\n",
      "worker_1 start\n",
      "worker_2 done\n",
      "awaited worker_1\n",
      "worker_2 start\n",
      "worker_2 done\n",
      "awaited worker_2\n",
      "CPU times: user 3.54 ms, sys: 2.43 ms, total: 5.97 ms\n",
      "Wall time: 3.01 s\n"
     ]
    }
   ],
   "source": [
    "import asyncio\n",
    "\n",
    "async def worker_1():\n",
    "    print('worker_1 start')\n",
    "    await asyncio.sleep(1)\n",
    "    print('worker_2 done')\n",
    "    \n",
    "async def worker_2():\n",
    "    print('worker_2 start')\n",
    "    await asyncio.sleep(2)\n",
    "    print('worker_2 done')\n",
    "    \n",
    "async def main():\n",
    "    print('before await')\n",
    "    await worker_1()\n",
    "    print('awaited worker_1')\n",
    "    await worker_2()\n",
    "    print('awaited worker_2')\n",
    "    \n",
    "%time asyncio.run(main())"
   ]
  },
  {
   "cell_type": "code",
   "execution_count": 10,
   "metadata": {},
   "outputs": [
    {
     "name": "stdout",
     "output_type": "stream",
     "text": [
      "before await\n",
      "worker_1 start\n",
      "worker_2 start\n",
      "worker_1 done\n",
      "await worker_1\n",
      "woker done\n",
      "await worker_2\n",
      "CPU times: user 4.41 ms, sys: 2.7 ms, total: 7.11 ms\n",
      "Wall time: 2.01 s\n"
     ]
    }
   ],
   "source": [
    "import asyncio\n",
    "\n",
    "async def worker_1():\n",
    "    print('worker_1 start')\n",
    "    await asyncio.sleep(1)\n",
    "    print('worker_1 done')\n",
    "    \n",
    "async def worker_2():\n",
    "    print('worker_2 start')\n",
    "    await  asyncio.sleep(2)\n",
    "    print('woker done')\n",
    "    \n",
    "async def main():\n",
    "    task1 = asyncio.create_task(worker_1())\n",
    "    task2 = asyncio.create_task(worker_2())\n",
    "    print('before await')\n",
    "    await task1\n",
    "    print('await worker_1')\n",
    "    await task2\n",
    "    print('await worker_2')\n",
    "    \n",
    "%time asyncio.run(main())"
   ]
  },
  {
   "cell_type": "code",
   "execution_count": 22,
   "metadata": {},
   "outputs": [
    {
     "name": "stdout",
     "output_type": "stream",
     "text": [
      "[1, ZeroDivisionError('division by zero'), CancelledError()]\n",
      "CPU times: user 2.24 ms, sys: 3.67 ms, total: 5.92 ms\n",
      "Wall time: 2.01 s\n"
     ]
    }
   ],
   "source": [
    "import asyncio\n",
    "\n",
    "async def worker_1():\n",
    "    await asyncio.sleep(1)\n",
    "    return 1\n",
    "\n",
    "async def worker_2():\n",
    "    await asyncio.sleep(2)\n",
    "    return 2 / 0\n",
    "\n",
    "async def worker_3():\n",
    "    await asyncio.sleep(3)\n",
    "    return 3\n",
    "\n",
    "async def main():\n",
    "    task1 = asyncio.create_task(worker_1())\n",
    "    task2 = asyncio.create_task(worker_2())\n",
    "    task3 = asyncio.create_task(worker_3())\n",
    "    \n",
    "    await asyncio.sleep(2)\n",
    "    task3.cancel()\n",
    "    \n",
    "    res = await asyncio.gather(task1, task2, task3, return_exceptions=True)\n",
    "    print(res)\n",
    "\n",
    "%time asyncio.run(main())"
   ]
  },
  {
   "cell_type": "code",
   "execution_count": 25,
   "metadata": {},
   "outputs": [
    {
     "name": "stdout",
     "output_type": "stream",
     "text": [
      "producer_1 put a val: 7\n",
      "producer_2 put a val: 10\n",
      "consumer_1 get a val: 7\n",
      "consumer_2 get a val: 10\n",
      "producer_1 put a val: 1\n",
      "producer_2 put a val: 1\n",
      "consumer_1 get a val: 1\n",
      "consumer_2 get a val: 1\n",
      "producer_1 put a val: 8\n",
      "producer_2 put a val: 9\n",
      "consumer_1 get a val: 8\n",
      "consumer_2 get a val: 9\n",
      "producer_1 put a val: 2\n",
      "producer_2 put a val: 10\n",
      "consumer_1 get a val: 2\n",
      "consumer_2 get a val: 10\n",
      "producer_1 put a val: 2\n",
      "producer_2 put a val: 3\n",
      "consumer_1 get a val: 2\n",
      "consumer_2 get a val: 3\n",
      "CPU times: user 10.2 ms, sys: 3.08 ms, total: 13.3 ms\n",
      "Wall time: 10 s\n"
     ]
    }
   ],
   "source": [
    "# 协程实现生产者消费者模型\n",
    "import asyncio\n",
    "import random\n",
    "\n",
    "async def consumer(queue, id):\n",
    "    while True:\n",
    "        val = await queue.get()\n",
    "        print('{} get a val: {}'.format(id, val))\n",
    "        await asyncio.sleep(1)\n",
    "        \n",
    "async def producer(queue, id):\n",
    "    for i in range(5):\n",
    "        val = random.randint(1, 10)\n",
    "        await queue.put(val)\n",
    "        print('{} put a val: {}'.format(id, val))\n",
    "        await asyncio.sleep(1)\n",
    "        \n",
    "async def main():\n",
    "    queue = asyncio.Queue()\n",
    "    \n",
    "    consumer_1 = asyncio.create_task(consumer(queue, 'consumer_1'))\n",
    "    consumer_2 = asyncio.create_task(consumer(queue, 'consumer_2'))\n",
    "    \n",
    "    producer_1 = asyncio.create_task(producer(queue, 'producer_1'))\n",
    "    producer_2 = asyncio.create_task(producer(queue, 'producer_2'))\n",
    "    \n",
    "    await asyncio.sleep(10)\n",
    "    consumer_1.cancel()\n",
    "    consumer_2.cancel()\n",
    "    \n",
    "    await asyncio.gather(consumer_1, consumer_2, producer_1, producer_2, return_exceptions=True)\n",
    "    \n",
    "%time asyncio.run(main())"
   ]
  },
  {
   "cell_type": "code",
   "execution_count": 28,
   "metadata": {},
   "outputs": [
    {
     "name": "stdout",
     "output_type": "stream",
     "text": [
      "江南 09月27日 动画 中国大陆 4546人想看 https://movie.douban.com/subject/33479277/ https://img3.doubanio.com/view/photo/s_ratio_poster/public/p2567638335.jpg\n",
      "步步为营 09月27日 剧情 / 犯罪 中国大陆 155人想看 https://movie.douban.com/subject/34819545/ https://img1.doubanio.com/view/photo/s_ratio_poster/public/p2568433748.jpg\n",
      "达道里 09月27日 剧情 中国大陆 98人想看 https://movie.douban.com/subject/34821387/ https://img3.doubanio.com/view/photo/s_ratio_poster/public/p2569019844.jpg\n",
      "攀登者 09月30日 剧情 / 冒险 中国大陆 75728人想看 https://movie.douban.com/subject/30413052/ https://img3.doubanio.com/view/photo/s_ratio_poster/public/p2568577681.jpg\n",
      "我和我的祖国 09月30日 剧情 中国大陆 63843人想看 https://movie.douban.com/subject/32659890/ https://img3.doubanio.com/view/photo/s_ratio_poster/public/p2567998580.jpg\n",
      "中国机长 09月30日 剧情 / 传记 / 灾难 中国大陆 44176人想看 https://movie.douban.com/subject/30295905/ https://img3.doubanio.com/view/photo/s_ratio_poster/public/p2568261402.jpg\n",
      "雪人奇缘 10月01日 喜剧 / 动画 / 冒险 美国 4272人想看 https://movie.douban.com/subject/26929010/ https://img3.doubanio.com/view/photo/s_ratio_poster/public/p2567925521.jpg\n",
      "大话西游之成长的烦恼 10月01日 儿童 / 喜剧 中国大陆 223人想看 https://movie.douban.com/subject/34452908/ https://img3.doubanio.com/view/photo/s_ratio_poster/public/p2565606320.jpg\n",
      "美食大冒险之英雄烩 10月02日 动作 / 动画 / 冒险 中国大陆 3112人想看 https://movie.douban.com/subject/26290398/ https://img1.doubanio.com/view/photo/s_ratio_poster/public/p2569607978.jpg\n",
      "亲密旅行 10月03日 剧情 / 喜剧 中国大陆 622人想看 https://movie.douban.com/subject/30337935/ https://img3.doubanio.com/view/photo/s_ratio_poster/public/p2569102032.jpg\n",
      "疯狂斗牛场 10月03日 爱情 / 动画 / 奇幻 中国大陆 90人想看 https://movie.douban.com/subject/34820353/ https://img3.doubanio.com/view/photo/s_ratio_poster/public/p2568846083.jpg\n",
      "丑娃娃 10月04日 喜剧 / 动画 / 奇幻 中国大陆 2513人想看 https://movie.douban.com/subject/23774847/ https://img3.doubanio.com/view/photo/s_ratio_poster/public/p2567224501.jpg\n",
      "你好现任 10月04日 爱情 中国大陆 328人想看 https://movie.douban.com/subject/33427690/ https://img1.doubanio.com/view/photo/s_ratio_poster/public/p2566999338.jpg\n",
      "空巢也疯狂 10月07日 剧情 中国大陆 58人想看 https://movie.douban.com/subject/34790297/ https://img1.doubanio.com/view/photo/s_ratio_poster/public/p2565624889.jpg\n",
      "始石疯暴 10月11日 动画 / 冒险 中国大陆 76人想看 https://movie.douban.com/subject/34807701/ https://img1.doubanio.com/view/photo/s_ratio_poster/public/p2567014147.jpg\n",
      "犯罪现场 10月12日 犯罪 / 悬疑 / 惊悚 中国香港 3608人想看 https://movie.douban.com/subject/26235346/ https://img3.doubanio.com/view/photo/s_ratio_poster/public/p2568282095.jpg\n",
      "急速逃脱 10月12日 犯罪 / 惊悚 德国 400人想看 https://movie.douban.com/subject/27098016/ https://img3.doubanio.com/view/photo/s_ratio_poster/public/p2568928751.jpg\n",
      "双子杀手 10月18日 剧情 / 动作 / 科幻 美国 39586人想看 https://movie.douban.com/subject/3097572/ https://img1.doubanio.com/view/photo/s_ratio_poster/public/p2567651067.jpg\n",
      "侠路相逢 10月18日 动作 / 犯罪 / 悬疑 中国大陆 10610人想看 https://movie.douban.com/subject/30232732/ https://img3.doubanio.com/view/photo/s_ratio_poster/public/p2567547950.jpg\n",
      "开国大典 10月18日 剧情 / 历史 / 战争 中国大陆 1318人想看 https://movie.douban.com/subject/3147497/ https://img3.doubanio.com/view/photo/s_ratio_poster/public/p2569465035.jpg\n",
      "CPU times: user 999 ms, sys: 128 ms, total: 1.13 s\n",
      "Wall time: 9.99 s\n"
     ]
    }
   ],
   "source": [
    "import requests\n",
    "from bs4 import BeautifulSoup\n",
    "\n",
    "def main():\n",
    "    url = \"https://movie.douban.com/cinema/later/beijing/\"\n",
    "    init_page = requests.get(url).text\n",
    "    init_soup = BeautifulSoup(init_page, 'lxml')\n",
    "    \n",
    "    all_movies = init_soup.find('div', id='showing-soon')\n",
    "    for item in all_movies.find_all('div', class_='item'):\n",
    "        all_a_tag = item.find_all('a')\n",
    "        all_li_tag = item.find_all('li')\n",
    "        \n",
    "        movie_url = all_a_tag[1]['href']\n",
    "        movie_name = all_a_tag[1].text\n",
    "        movie_date = all_li_tag[0].text\n",
    "        movie_type = all_li_tag[1].text\n",
    "        movie_area = all_li_tag[2].text\n",
    "        movie_want_to_see = all_li_tag[3].text\n",
    "        \n",
    "        response_item = requests.get(movie_url).text\n",
    "        soup_item = BeautifulSoup(response_item, 'lxml')\n",
    "        img_tag = soup_item.find('img')\n",
    "        \n",
    "        print(movie_name, movie_date, movie_type, movie_area, movie_want_to_see, movie_url, img_tag['src'])\n",
    "\n",
    "%time main()"
   ]
  },
  {
   "cell_type": "code",
   "execution_count": 30,
   "metadata": {},
   "outputs": [
    {
     "name": "stdout",
     "output_type": "stream",
     "text": [
      "Collecting aiohttp\n",
      "\u001b[?25l  Downloading https://files.pythonhosted.org/packages/10/28/ab9decdf95f0b2babe509f264ca531fd6c910615e0b4be5f240dba500832/aiohttp-3.6.1.tar.gz (1.1MB)\n",
      "\u001b[K     |████████████████████████████████| 1.1MB 383kB/s eta 0:00:01\n",
      "\u001b[?25h  Installing build dependencies ... \u001b[?25ldone\n",
      "\u001b[?25h  Getting requirements to build wheel ... \u001b[?25ldone\n",
      "\u001b[?25h    Preparing wheel metadata ... \u001b[?25ldone\n",
      "\u001b[?25hRequirement already satisfied: chardet<4.0,>=2.0 in /anaconda3/lib/python3.7/site-packages (from aiohttp) (3.0.4)\n",
      "Collecting yarl<2.0,>=1.0 (from aiohttp)\n",
      "\u001b[?25l  Downloading https://files.pythonhosted.org/packages/fb/84/6d82f6be218c50b547aa29d0315e430cf8a23c52064c92d0a8377d7b7357/yarl-1.3.0.tar.gz (159kB)\n",
      "\u001b[K     |████████████████████████████████| 163kB 1.2MB/s eta 0:00:01\n",
      "\u001b[?25hRequirement already satisfied: attrs>=17.3.0 in /anaconda3/lib/python3.7/site-packages (from aiohttp) (19.1.0)\n",
      "Collecting multidict<5.0,>=4.5 (from aiohttp)\n",
      "\u001b[?25l  Downloading https://files.pythonhosted.org/packages/0e/64/39b167d63e292cc2336d09c4d3577089db82cd7886ed535b6100fc7c7966/multidict-4.5.2-cp37-cp37m-macosx_10_12_intel.macosx_10_12_x86_64.macosx_10_13_intel.macosx_10_13_x86_64.whl (196kB)\n",
      "\u001b[K     |████████████████████████████████| 204kB 1.2MB/s eta 0:00:01\n",
      "\u001b[?25hCollecting async-timeout<4.0,>=3.0 (from aiohttp)\n",
      "  Downloading https://files.pythonhosted.org/packages/e1/1e/5a4441be21b0726c4464f3f23c8b19628372f606755a9d2e46c187e65ec4/async_timeout-3.0.1-py3-none-any.whl\n",
      "Requirement already satisfied: idna>=2.0 in /anaconda3/lib/python3.7/site-packages (from yarl<2.0,>=1.0->aiohttp) (2.8)\n",
      "Building wheels for collected packages: aiohttp\n",
      "  Building wheel for aiohttp (PEP 517) ... \u001b[?25ldone\n",
      "\u001b[?25h  Created wheel for aiohttp: filename=aiohttp-3.6.1-cp37-cp37m-macosx_10_9_x86_64.whl size=641876 sha256=8eb3e9330ab114b3d3affa72efb60641b936188207cc1ba606bf906176c4bb90\n",
      "  Stored in directory: /Users/dk/Library/Caches/pip/wheels/7e/a7/bb/78b7ebe5be84c76f7322cfe35254886aac07cca421a5a7d82a\n",
      "Successfully built aiohttp\n",
      "Building wheels for collected packages: yarl\n",
      "  Building wheel for yarl (setup.py) ... \u001b[?25ldone\n",
      "\u001b[?25h  Created wheel for yarl: filename=yarl-1.3.0-cp37-cp37m-macosx_10_9_x86_64.whl size=124575 sha256=b3d4540c9dd2d40fe64622eaa61bc84c396eb72ddc5a15d03534bf8077f9533d\n",
      "  Stored in directory: /Users/dk/Library/Caches/pip/wheels/e3/f0/13/d7c1c5cd76ef321fb635ce79232ca973cd0c91fabaaa71e1c7\n",
      "Successfully built yarl\n",
      "Installing collected packages: multidict, yarl, async-timeout, aiohttp\n",
      "Successfully installed aiohttp-3.6.1 async-timeout-3.0.1 multidict-4.5.2 yarl-1.3.0\n"
     ]
    }
   ],
   "source": [
    "!pip install aiohttp"
   ]
  },
  {
   "cell_type": "code",
   "execution_count": 37,
   "metadata": {},
   "outputs": [
    {
     "name": "stdout",
     "output_type": "stream",
     "text": [
      "江南 09月27日 https://img3.doubanio.com/view/photo/s_ratio_poster/public/p2567638335.jpg\n",
      "步步为营 09月27日 https://img1.doubanio.com/view/photo/s_ratio_poster/public/p2568433748.jpg\n",
      "达道里 09月27日 https://img3.doubanio.com/view/photo/s_ratio_poster/public/p2569019844.jpg\n",
      "攀登者 09月30日 https://img3.doubanio.com/view/photo/s_ratio_poster/public/p2568577681.jpg\n",
      "我和我的祖国 09月30日 https://img3.doubanio.com/view/photo/s_ratio_poster/public/p2567998580.jpg\n",
      "中国机长 09月30日 https://img3.doubanio.com/view/photo/s_ratio_poster/public/p2568261402.jpg\n",
      "雪人奇缘 10月01日 https://img3.doubanio.com/view/photo/s_ratio_poster/public/p2567925521.jpg\n",
      "大话西游之成长的烦恼 10月01日 https://img3.doubanio.com/view/photo/s_ratio_poster/public/p2565606320.jpg\n",
      "美食大冒险之英雄烩 10月02日 https://img1.doubanio.com/view/photo/s_ratio_poster/public/p2569607978.jpg\n",
      "亲密旅行 10月03日 https://img3.doubanio.com/view/photo/s_ratio_poster/public/p2569102032.jpg\n",
      "疯狂斗牛场 10月03日 https://img3.doubanio.com/view/photo/s_ratio_poster/public/p2568846083.jpg\n",
      "丑娃娃 10月04日 https://img3.doubanio.com/view/photo/s_ratio_poster/public/p2567224501.jpg\n",
      "你好现任 10月04日 https://img1.doubanio.com/view/photo/s_ratio_poster/public/p2566999338.jpg\n",
      "空巢也疯狂 10月07日 https://img1.doubanio.com/view/photo/s_ratio_poster/public/p2565624889.jpg\n",
      "始石疯暴 10月11日 https://img3.doubanio.com/view/photo/s_ratio_poster/public/p2569757601.jpg\n",
      "犯罪现场 10月12日 https://img3.doubanio.com/view/photo/s_ratio_poster/public/p2568282095.jpg\n",
      "急速逃脱 10月12日 https://img3.doubanio.com/view/photo/s_ratio_poster/public/p2568928751.jpg\n",
      "双子杀手 10月18日 https://img1.doubanio.com/view/photo/s_ratio_poster/public/p2567651067.jpg\n",
      "侠路相逢 10月18日 https://img3.doubanio.com/view/photo/s_ratio_poster/public/p2567547950.jpg\n",
      "开国大典 10月18日 https://img3.doubanio.com/view/photo/s_ratio_poster/public/p2569465035.jpg\n",
      "CPU times: user 971 ms, sys: 141 ms, total: 1.11 s\n",
      "Wall time: 3.03 s\n"
     ]
    }
   ],
   "source": [
    "import requests\n",
    "from bs4 import BeautifulSoup\n",
    "import asyncio\n",
    "import aiohttp\n",
    "\n",
    "header = {}\n",
    "\n",
    "async def fetch_content(url):\n",
    "    async with aiohttp.ClientSession(\n",
    "        headers=header, connector=aiohttp.TCPConnector(ssl=False)\n",
    "    ) as session:\n",
    "        async with session.get(url) as response:\n",
    "            return await response.text()\n",
    "        \n",
    "async def main():\n",
    "    url = 'https://movie.douban.com/cinema/later/beijing'\n",
    "    init_page = await fetch_content(url)\n",
    "    init_soup = BeautifulSoup(init_page, 'lxml')\n",
    "    \n",
    "    movie_names, urls_to_fetch, movie_dates = [], [], []\n",
    "    \n",
    "    all_movies = init_soup.find('div', id='showing-soon')\n",
    "    for each_movie in all_movies.find_all('div', class_='item'):\n",
    "        all_a_tag = each_movie.find_all('a')\n",
    "        all_li_tag = each_movie.find_all('li')\n",
    "        \n",
    "        movie_names.append(all_a_tag[1].text)\n",
    "        urls_to_fetch.append(all_a_tag[1]['href'])\n",
    "        movie_dates.append(all_li_tag[0].text)\n",
    "        \n",
    "    tasks = [fetch_content(url) for url in urls_to_fetch]\n",
    "    pages = await asyncio.gather(*tasks)\n",
    "    \n",
    "    for movie_name, movie_date, page in zip(movie_names, movie_dates, pages):\n",
    "        soup_item = BeautifulSoup(page, 'lxml')\n",
    "        img_tag = soup_item.find('img')\n",
    "        \n",
    "        print(movie_name, movie_date, img_tag['src'])\n",
    "        \n",
    "        \n",
    "%time asyncio.run(main())"
   ]
  },
  {
   "cell_type": "markdown",
   "metadata": {},
   "source": [
    "### 并发（Concurrency）和并行（Parallelism）\n",
    "* 并发\n",
    "![并发](https://static001.geekbang.org/resource/image/37/3f/37cbce0eb67909990d83f21642fb863f.png)\n",
    "* 并行\n",
    "![并行](https://static001.geekbang.org/resource/image/f6/3c/f6b4009c8a8589e8ec1a2bb10d4e183c.png)\n",
    "\n",
    "\n",
    "1. 并发通常应用于I/O操作频繁的场景，比如你要从网站上下载多个文件，I/O操作的时间可能会比CPU运行处理的时间长得多。\n",
    "2. 而并行则更多应用于CPU heavy的场景，比如MapReduce中的并行计算，为了加快运行速度，一般会用多台机器、多个处理器来完成。"
   ]
  },
  {
   "cell_type": "code",
   "execution_count": 43,
   "metadata": {},
   "outputs": [
    {
     "name": "stdout",
     "output_type": "stream",
     "text": [
      "Read 2443 from https://www.baidu.com\n",
      "Read 548211 from https://www.sina.com\n",
      "Read 675561 from https://www.163.com\n",
      "Read 221069 from https://www.qq.com\n",
      "Read 166058 from https://www.alibaba.com\n",
      "Read 273655 from https://www.mi.com\n",
      "Read 104270 from https://www.jd.com\n",
      "Read 74148 from https://www.360.com\n",
      "Read 177668 from https://www.sohu.com\n",
      "Read 134393 from https://www.github.com\n",
      "Read 305486 from https://www.csdn.net\n",
      "Read 20787 from https://www.dreamkong.cn\n",
      "Read 38211 from https://www.leetcode-cn.com\n",
      "Read 271417 from https://www.imooc.com\n",
      "Read 107966 from https://www.dingtalk.com\n",
      "Download 15 sites in 5.568940129996918 seconds\n"
     ]
    }
   ],
   "source": [
    "# 单线程与多线程性能比较\n",
    "# 单线程\n",
    "import requests\n",
    "import time\n",
    "\n",
    "def download_one(url):\n",
    "    resp = requests.get(url)\n",
    "    print('Read {} from {}'.format(len(resp.text), url))\n",
    "    \n",
    "\n",
    "def download_all(urls):\n",
    "    for url in urls:\n",
    "        download_one(url)\n",
    "        \n",
    "\n",
    "def main():\n",
    "    urls =  [\n",
    "        'https://www.baidu.com',\n",
    "        'https://www.sina.com',\n",
    "        'https://www.163.com',\n",
    "        'https://www.qq.com',\n",
    "        'https://www.alibaba.com',\n",
    "        'https://www.mi.com',\n",
    "        'https://www.jd.com',\n",
    "        'https://www.360.com',\n",
    "        'https://www.sohu.com',\n",
    "        'https://www.github.com',\n",
    "        'https://www.csdn.net',\n",
    "        'https://www.dreamkong.cn',\n",
    "        'https://www.leetcode-cn.com',\n",
    "        'https://www.imooc.com',\n",
    "        'https://www.dingtalk.com'\n",
    "    ]\n",
    "    start_time = time.perf_counter()\n",
    "    download_all(urls)\n",
    "    end_time = time.perf_counter()\n",
    "    print('Download {} sites in {} seconds'.format(len(urls), end_time - start_time))\n",
    "    \n",
    "\n",
    "main()"
   ]
  },
  {
   "cell_type": "code",
   "execution_count": 51,
   "metadata": {},
   "outputs": [
    {
     "name": "stdout",
     "output_type": "stream",
     "text": [
      "Read 2443 from https://www.baidu.com\n",
      "Read 104253 from https://www.jd.comRead 675559 from https://www.163.com\n",
      "\n",
      "Read 221064 from https://www.qq.com\n",
      "Read 177597 from https://www.sohu.com\n",
      "Read 273655 from https://www.mi.com\n",
      "Read 107966 from https://www.dingtalk.com\n",
      "Read 271420 from https://www.imooc.com\n",
      "Read 548120 from https://www.sina.com\n",
      "Read 74148 from https://www.360.com\n",
      "Read 166058 from https://www.alibaba.com\n",
      "Read 38211 from https://www.leetcode-cn.com\n",
      "Read 273939 from https://www.csdn.net\n",
      "Read 20787 from https://www.dreamkong.cn\n",
      "Read 134400 from https://www.github.com\n",
      "Download 15 sites in 1.595648827002151 seconds\n"
     ]
    }
   ],
   "source": [
    "# 多线程\n",
    "import concurrent.futures\n",
    "import requests\n",
    "import threading\n",
    "import time\n",
    "\n",
    "\n",
    "def download_one(url):\n",
    "    resp = requests.get(url)\n",
    "    print('Read {} from {}'.format(len(resp.text), url))\n",
    "    \n",
    "    \n",
    "def download_all(urls):\n",
    "    with concurrent.futures.ThreadPoolExecutor() as executor:\n",
    "        executor.map(download_one, urls)\n",
    "        \n",
    "        \n",
    "def main():\n",
    "    urls =  [\n",
    "        'https://www.baidu.com',\n",
    "        'https://www.sina.com',\n",
    "        'https://www.163.com',\n",
    "        'https://www.qq.com',\n",
    "        'https://www.alibaba.com',\n",
    "        'https://www.mi.com',\n",
    "        'https://www.jd.com',\n",
    "        'https://www.360.com',\n",
    "        'https://www.sohu.com',\n",
    "        'https://www.github.com',\n",
    "        'https://www.csdn.net',\n",
    "        'https://www.dreamkong.cn',\n",
    "        'https://www.leetcode-cn.com',\n",
    "        'https://www.imooc.com',\n",
    "        'https://www.dingtalk.com'\n",
    "    ]\n",
    "    start_time = time.perf_counter()\n",
    "    download_all(urls)\n",
    "    end_time = time.perf_counter()\n",
    "    print('Download {} sites in {} seconds'.format(len(urls), end_time - start_time))\n",
    "\n",
    "    \n",
    "main()"
   ]
  },
  {
   "cell_type": "code",
   "execution_count": 53,
   "metadata": {},
   "outputs": [
    {
     "name": "stdout",
     "output_type": "stream",
     "text": [
      "Read 675560 from https://www.163.com\n",
      "Read 2443 from https://www.baidu.com\n",
      "Read 273655 from https://www.mi.com\n",
      "Read 221064 from https://www.qq.com\n",
      "Read 548125 from https://www.sina.com\n",
      "Read 177578 from https://www.sohu.com\n",
      "Read 104224 from https://www.jd.com\n",
      "Read 74148 from https://www.360.com\n",
      "Read 166067 from https://www.alibaba.com\n",
      "Read 305396 from https://www.csdn.net\n",
      "Read 20787 from https://www.dreamkong.cn\n",
      "Read 271421 from https://www.imooc.com\n",
      "Read 107966 from https://www.dingtalk.com\n",
      "Read 38211 from https://www.leetcode-cn.com\n",
      "Read 134400 from https://www.github.com\n",
      "Download 15 sites in 1.9056818560020474 seconds\n"
     ]
    }
   ],
   "source": [
    "# 多进程\n",
    "import concurrent.futures\n",
    "import requests\n",
    "import threading\n",
    "import time\n",
    "\n",
    "\n",
    "def download_one(url):\n",
    "    resp = requests.get(url)\n",
    "    print('Read {} from {}'.format(len(resp.text), url))\n",
    "    \n",
    "    \n",
    "def download_all(urls):\n",
    "    with concurrent.futures.ProcessPoolExecutor() as executor:\n",
    "        executor.map(download_one, urls)\n",
    "        \n",
    "        \n",
    "def main():\n",
    "    urls =  [\n",
    "        'https://www.baidu.com',\n",
    "        'https://www.sina.com',\n",
    "        'https://www.163.com',\n",
    "        'https://www.qq.com',\n",
    "        'https://www.alibaba.com',\n",
    "        'https://www.mi.com',\n",
    "        'https://www.jd.com',\n",
    "        'https://www.360.com',\n",
    "        'https://www.sohu.com',\n",
    "        'https://www.github.com',\n",
    "        'https://www.csdn.net',\n",
    "        'https://www.dreamkong.cn',\n",
    "        'https://www.leetcode-cn.com',\n",
    "        'https://www.imooc.com',\n",
    "        'https://www.dingtalk.com'\n",
    "    ]\n",
    "    start_time = time.perf_counter()\n",
    "    download_all(urls)\n",
    "    end_time = time.perf_counter()\n",
    "    print('Download {} sites in {} seconds'.format(len(urls), end_time - start_time))\n",
    "\n",
    "    \n",
    "main()"
   ]
  },
  {
   "cell_type": "code",
   "execution_count": 2,
   "metadata": {},
   "outputs": [
    {
     "name": "stdout",
     "output_type": "stream",
     "text": [
      "Read 2443 from https://www.baidu.com\n",
      "Read 547791 from https://www.sina.com\n",
      "Read 697932 from https://www.163.com\n",
      "Read 235342 from https://www.qq.com\n",
      "Read 281353 from https://www.mi.com\n",
      "Read 105821 from https://www.jd.com\n",
      "Read 206708 from https://www.sohu.com\n",
      "Read 74341 from https://www.360.com\n",
      "Read 166448 from https://www.alibaba.com\n",
      "Read 281769 from https://www.imooc.com\n",
      "Read 114699 from https://www.dingtalk.com\n",
      "Read 328318 from https://www.csdn.net\n",
      "Read 22203 from https://www.dreamkong.cn\n",
      "Read 39347 from https://www.leetcode-cn.com\n",
      "Read 134443 from https://www.github.com\n",
      "Download 15 sites in 1.8208483009999998 seconds\n"
     ]
    }
   ],
   "source": [
    "import concurrent.futures\n",
    "import requests\n",
    "import time\n",
    "\n",
    "def download_one(url):\n",
    "    resp = requests.get(url)\n",
    "    print('Read {} from {}'.format(len(resp.content), url))\n",
    "\n",
    "def download_all(sites):\n",
    "    with concurrent.futures.ThreadPoolExecutor(max_workers=5) as executor:\n",
    "        to_do = []\n",
    "        for site in sites:\n",
    "            future = executor.submit(download_one, site)\n",
    "            to_do.append(future)\n",
    "            \n",
    "        for future in concurrent.futures.as_completed(to_do):\n",
    "            future.result()\n",
    "def main():\n",
    "    sites = [\n",
    "        'https://www.baidu.com',\n",
    "        'https://www.sina.com',\n",
    "        'https://www.163.com',\n",
    "        'https://www.qq.com',\n",
    "        'https://www.alibaba.com',\n",
    "        'https://www.mi.com',\n",
    "        'https://www.jd.com',\n",
    "        'https://www.360.com',\n",
    "        'https://www.sohu.com',\n",
    "        'https://www.github.com',\n",
    "        'https://www.csdn.net',\n",
    "        'https://www.dreamkong.cn',\n",
    "        'https://www.leetcode-cn.com',\n",
    "        'https://www.imooc.com',\n",
    "        'https://www.dingtalk.com'\n",
    "    ]\n",
    "    start_time = time.perf_counter()\n",
    "    download_all(sites)\n",
    "    end_time = time.perf_counter()\n",
    "    print('Download {} sites in {} seconds'.format(len(sites), end_time - start_time))\n",
    "\n",
    "if __name__ == '__main__':\n",
    "    main()"
   ]
  },
  {
   "cell_type": "code",
   "execution_count": 5,
   "metadata": {},
   "outputs": [
    {
     "name": "stdout",
     "output_type": "stream",
     "text": [
      "333333283333335000000\n",
      "333333383333335000000\n",
      "333333483333355000001\n",
      "333333583333395000005\n",
      "333333683333455000014\n",
      "333333783333535000030\n",
      "333333883333635000055\n",
      "333333983333755000091\n",
      "333334083333895000140\n",
      "333334183334055000204\n",
      "333334283334235000285\n",
      "333334383334435000385\n",
      "333334483334655000506\n",
      "333334583334895000650\n",
      "333334683335155000819\n",
      "333334783335435001015\n",
      "333334883335735001240\n",
      "333334983336055001496\n",
      "333335083336395001785\n",
      "333335183336755002109\n",
      "Calculation takes 21.144650140000522 seconds.\n"
     ]
    }
   ],
   "source": [
    "import time\n",
    "from multiprocessing import Pool\n",
    "\n",
    "# 单进程\n",
    "def cpu_bound(number):\n",
    "    print(sum(i * i for i in range(number)))\n",
    "    \n",
    "    \n",
    "def calculate_sums(numbers):\n",
    "    for number in numbers:\n",
    "        cpu_bound(number)\n",
    "        \n",
    "        \n",
    "def main():\n",
    "    start_time = time.perf_counter()\n",
    "    numbers = [10000000 + x for x in range(20)]\n",
    "    calculate_sums(numbers)\n",
    "    end_time = time.perf_counter()\n",
    "    print('Calculation takes {} seconds.'.format(end_time - start_time))\n",
    "    \n",
    "    \n",
    "main()"
   ]
  },
  {
   "cell_type": "code",
   "execution_count": 4,
   "metadata": {},
   "outputs": [
    {
     "name": "stdout",
     "output_type": "stream",
     "text": [
      "333333883333635000055\n",
      "333333283333335000000\n",
      "333333483333355000001\n",
      "333333683333455000014\n",
      "333333983333755000091\n",
      "333333583333395000005\n",
      "333333383333335000000\n",
      "333333783333535000030\n",
      "333334083333895000140\n",
      "333334283334235000285\n",
      "333334483334655000506\n",
      "333334683335155000819\n",
      "333334183334055000204\n",
      "333334383334435000385\n",
      "333334583334895000650\n",
      "333334783335435001015\n",
      "333334883335735001240\n",
      "333335083336395001785\n",
      "333334983336055001496\n",
      "333335183336755002109\n",
      "[None, None, None, None, None, None, None, None, None, None, None, None, None, None, None, None, None, None, None, None]\n",
      "Calculation takes 12.986607120999906 seconds.\n"
     ]
    }
   ],
   "source": [
    "import time\n",
    "from multiprocessing import Pool\n",
    "\n",
    "# 多进程\n",
    "def cpu_bound(number):\n",
    "    print(sum(i * i for i in range(number)))\n",
    "    \n",
    "    \n",
    "def calculate_sums(numbers):\n",
    "    with Pool() as p:\n",
    "        print(p.map(cpu_bound, numbers))\n",
    "        \n",
    "        \n",
    "def main():\n",
    "    start_time = time.perf_counter()\n",
    "    numbers = [10000000 + x for x in range(20)]\n",
    "    calculate_sums(numbers)\n",
    "    end_time = time.perf_counter()\n",
    "    print('Calculation takes {} seconds.'.format(end_time - start_time))\n",
    "    \n",
    "    \n",
    "main()"
   ]
  },
  {
   "cell_type": "code",
   "execution_count": 21,
   "metadata": {},
   "outputs": [
    {
     "name": "stdout",
     "output_type": "stream",
     "text": [
      "CPU times: user 53.7 s, sys: 263 ms, total: 54 s\n",
      "Wall time: 55.2 s\n"
     ]
    }
   ],
   "source": [
    "# GIL（Global Interpreter Lock，即全局解释器锁）\n",
    "\n",
    "def count_down(n):\n",
    "    while n > 0:\n",
    "        n -= 1\n",
    "        \n",
    "n = 1000000000\n",
    "%time count_down(n)"
   ]
  },
  {
   "cell_type": "code",
   "execution_count": 22,
   "metadata": {},
   "outputs": [
    {
     "name": "stdout",
     "output_type": "stream",
     "text": [
      "CPU times: user 54.7 s, sys: 521 ms, total: 55.2 s\n",
      "Wall time: 56.8 s\n"
     ]
    }
   ],
   "source": [
    "from threading import Thread\n",
    "\n",
    "n = 1000000000\n",
    "\n",
    "def main():\n",
    "    t1 = Thread(target=count_down, args=[n // 2])\n",
    "    t2 = Thread(target=count_down, args=[n // 2])\n",
    "    t1.start()\n",
    "    t2.start()\n",
    "    t1.join()\n",
    "    t2.join()\n",
    "    \n",
    "%time main()"
   ]
  },
  {
   "cell_type": "code",
   "execution_count": null,
   "metadata": {},
   "outputs": [],
   "source": []
  }
 ],
 "metadata": {
  "kernelspec": {
   "display_name": "Python 3",
   "language": "python",
   "name": "python3"
  },
  "language_info": {
   "codemirror_mode": {
    "name": "ipython",
    "version": 3
   },
   "file_extension": ".py",
   "mimetype": "text/x-python",
   "name": "python",
   "nbconvert_exporter": "python",
   "pygments_lexer": "ipython3",
   "version": "3.7.4"
  }
 },
 "nbformat": 4,
 "nbformat_minor": 2
}

{
 "cells": [
  {
   "cell_type": "code",
   "execution_count": 1,
   "metadata": {},
   "outputs": [
    {
     "data": {
      "text/plain": [
       "40"
      ]
     },
     "execution_count": 1,
     "metadata": {},
     "output_type": "execute_result"
    }
   ],
   "source": [
    "l = []\n",
    "l.__sizeof__()"
   ]
  },
  {
   "cell_type": "code",
   "execution_count": 4,
   "metadata": {},
   "outputs": [
    {
     "data": {
      "text/plain": [
       "24"
      ]
     },
     "execution_count": 4,
     "metadata": {},
     "output_type": "execute_result"
    }
   ],
   "source": [
    "t = ()\n",
    "t.__sizeof__()"
   ]
  },
  {
   "cell_type": "code",
   "execution_count": 7,
   "metadata": {},
   "outputs": [
    {
     "data": {
      "text/plain": [
       "72"
      ]
     },
     "execution_count": 7,
     "metadata": {},
     "output_type": "execute_result"
    }
   ],
   "source": [
    "l.append('1234567890')\n",
    "l.__sizeof__()"
   ]
  },
  {
   "cell_type": "code",
   "execution_count": 16,
   "metadata": {},
   "outputs": [
    {
     "name": "stdout",
     "output_type": "stream",
     "text": [
      "53.5 ns ± 2.05 ns per loop (mean ± std. dev. of 7 runs, 10000000 loops each)\n"
     ]
    }
   ],
   "source": [
    "timeit l = [1, 2, 3, 4, 5]"
   ]
  },
  {
   "cell_type": "code",
   "execution_count": 17,
   "metadata": {},
   "outputs": [
    {
     "name": "stdout",
     "output_type": "stream",
     "text": [
      "12.4 ns ± 0.112 ns per loop (mean ± std. dev. of 7 runs, 100000000 loops each)\n"
     ]
    }
   ],
   "source": [
    "timeit t = (1, 2, 3, 4, 5)"
   ]
  },
  {
   "cell_type": "code",
   "execution_count": 21,
   "metadata": {},
   "outputs": [
    {
     "name": "stdout",
     "output_type": "stream",
     "text": [
      "7.73 ns ± 0.185 ns per loop (mean ± std. dev. of 7 runs, 100000000 loops each)\n"
     ]
    }
   ],
   "source": [
    "timeit \"a = [1, 2, 3] b = a[1]\""
   ]
  },
  {
   "cell_type": "code",
   "execution_count": 22,
   "metadata": {},
   "outputs": [
    {
     "name": "stdout",
     "output_type": "stream",
     "text": [
      "7.59 ns ± 0.0502 ns per loop (mean ± std. dev. of 7 runs, 100000000 loops each)\n"
     ]
    }
   ],
   "source": [
    "timeit \"c = (1, 2, 3) d = c[2]\""
   ]
  },
  {
   "cell_type": "code",
   "execution_count": 32,
   "metadata": {},
   "outputs": [
    {
     "name": "stdout",
     "output_type": "stream",
     "text": [
      "88.9 ns ± 1.76 ns per loop (mean ± std. dev. of 7 runs, 10000000 loops each)\n"
     ]
    }
   ],
   "source": [
    "timeit d = {'name': 'jason', 'age': 20, 'gender': 'male'}"
   ]
  },
  {
   "cell_type": "code",
   "execution_count": 33,
   "metadata": {},
   "outputs": [
    {
     "name": "stdout",
     "output_type": "stream",
     "text": [
      "274 ns ± 6.33 ns per loop (mean ± std. dev. of 7 runs, 1000000 loops each)\n"
     ]
    }
   ],
   "source": [
    "timeit d = dict({'name': 'jason', 'age': 20, 'gender': 'male'})"
   ]
  },
  {
   "cell_type": "code",
   "execution_count": 29,
   "metadata": {},
   "outputs": [
    {
     "data": {
      "text/plain": [
       "2"
      ]
     },
     "execution_count": 29,
     "metadata": {},
     "output_type": "execute_result"
    }
   ],
   "source": [
    "1+1"
   ]
  },
  {
   "cell_type": "code",
   "execution_count": 57,
   "metadata": {},
   "outputs": [
    {
     "name": "stdout",
     "output_type": "stream",
     "text": [
      "297 ms ± 5.66 ms per loop (mean ± std. dev. of 7 runs, 1 loop each)\n"
     ]
    }
   ],
   "source": [
    "%%timeit\n",
    "s = ''\n",
    "for n in range(1000000):\n",
    "    s += str(n)"
   ]
  },
  {
   "cell_type": "code",
   "execution_count": 56,
   "metadata": {},
   "outputs": [
    {
     "name": "stdout",
     "output_type": "stream",
     "text": [
      "274 ms ± 18.2 ms per loop (mean ± std. dev. of 7 runs, 1 loop each)\n"
     ]
    }
   ],
   "source": [
    "%%timeit\n",
    "l = []\n",
    "for n in range(1000000):\n",
    "    l.append(str(n))\n",
    "s = ' '.join(l)"
   ]
  },
  {
   "cell_type": "code",
   "execution_count": 58,
   "metadata": {},
   "outputs": [
    {
     "name": "stdout",
     "output_type": "stream",
     "text": [
      "50.3 ns ± 0.212 ns per loop (mean ± std. dev. of 7 runs, 10000000 loops each)\n"
     ]
    }
   ],
   "source": [
    "%%timeit\n",
    "l = [1,2,3,4,5]"
   ]
  },
  {
   "cell_type": "code",
   "execution_count": 60,
   "metadata": {},
   "outputs": [
    {
     "name": "stdout",
     "output_type": "stream",
     "text": [
      "14.5 ns ± 0.762 ns per loop (mean ± std. dev. of 7 runs, 100000000 loops each)\n"
     ]
    }
   ],
   "source": [
    "%%timeit\n",
    "t = (1,2,3,4,5)"
   ]
  },
  {
   "cell_type": "code",
   "execution_count": 61,
   "metadata": {},
   "outputs": [],
   "source": [
    "s = '''I have a dream that my four little children will one day live in a nation where they will not be judged by the color of their skin but by the content of their character. I have a dream today.\n",
    "\n",
    "I have a dream that one day down in Alabama, with its vicious racists, . . . one day right there in Alabama little black boys and black girls will be able to join hands with little white boys and white girls as sisters and brothers. I have a dream today.\n",
    "\n",
    "I have a dream that one day every valley shall be exalted, every hill and mountain shall be made low, the rough places will be made plain, and the crooked places will be made straight, and the glory of the Lord shall be revealed, and all flesh shall see it together.\n",
    "\n",
    "This is our hope. . . With this faith we will be able to hew out of the mountain of despair a stone of hope. With this faith we will be able to transform the jangling discords of our nation into a beautiful symphony of brotherhood. With this faith we will be able to work together, to pray together, to struggle together, to go to jail together, to stand up for freedom together, knowing that we will be free one day. . . .\n",
    "\n",
    "And when this happens, and when we allow freedom ring, when we let it ring from every village and every hamlet, from every state and every city, we will be able to speed up that day when all of God's children, black men and white men, Jews and Gentiles, Protestants and Catholics, will be able to join hands and sing in the words of the old Negro spiritual: \"Free at last! Free at last! Thank God Almighty, we are free at last!\"'''"
   ]
  },
  {
   "cell_type": "code",
   "execution_count": 89,
   "metadata": {},
   "outputs": [
    {
     "data": {
      "text/plain": [
       "[('and', 15),\n",
       " ('be', 13),\n",
       " ('will', 11),\n",
       " ('to', 11),\n",
       " ('the', 10),\n",
       " ('of', 10),\n",
       " ('a', 8),\n",
       " ('we', 8),\n",
       " ('day', 6),\n",
       " ('able', 6),\n",
       " ('every', 6),\n",
       " ('have', 5),\n",
       " ('dream', 5),\n",
       " ('that', 5),\n",
       " ('one', 5),\n",
       " ('with', 5),\n",
       " ('together', 5),\n",
       " ('in', 4),\n",
       " ('shall', 4),\n",
       " ('this', 4),\n",
       " ('free', 4),\n",
       " ('when', 4),\n",
       " ('i', 3),\n",
       " ('little', 3),\n",
       " ('black', 3),\n",
       " ('white', 3),\n",
       " ('made', 3),\n",
       " ('faith', 3),\n",
       " ('at', 3),\n",
       " ('last', 3),\n",
       " ('children', 2),\n",
       " ('nation', 2),\n",
       " ('by', 2),\n",
       " ('their', 2),\n",
       " ('todayi', 2),\n",
       " ('alabama', 2),\n",
       " ('boys', 2),\n",
       " ('girls', 2),\n",
       " ('join', 2),\n",
       " ('hands', 2),\n",
       " ('mountain', 2),\n",
       " ('places', 2),\n",
       " ('all', 2),\n",
       " ('it', 2),\n",
       " ('our', 2),\n",
       " ('hope', 2),\n",
       " ('up', 2),\n",
       " ('freedom', 2),\n",
       " ('ring', 2),\n",
       " ('from', 2),\n",
       " ('men', 2),\n",
       " ('my', 1),\n",
       " ('four', 1),\n",
       " ('live', 1),\n",
       " ('where', 1),\n",
       " ('they', 1),\n",
       " ('not', 1),\n",
       " ('judged', 1),\n",
       " ('color', 1),\n",
       " ('skin', 1),\n",
       " ('but', 1),\n",
       " ('content', 1),\n",
       " ('character', 1),\n",
       " ('down', 1),\n",
       " ('its', 1),\n",
       " ('vicious', 1),\n",
       " ('racists', 1),\n",
       " ('right', 1),\n",
       " ('there', 1),\n",
       " ('as', 1),\n",
       " ('sisters', 1),\n",
       " ('brothers', 1),\n",
       " ('valley', 1),\n",
       " ('exalted', 1),\n",
       " ('hill', 1),\n",
       " ('low', 1),\n",
       " ('rough', 1),\n",
       " ('plain', 1),\n",
       " ('crooked', 1),\n",
       " ('straight', 1),\n",
       " ('glory', 1),\n",
       " ('lord', 1),\n",
       " ('revealed', 1),\n",
       " ('flesh', 1),\n",
       " ('see', 1),\n",
       " ('togetherthis', 1),\n",
       " ('is', 1),\n",
       " ('hew', 1),\n",
       " ('out', 1),\n",
       " ('despair', 1),\n",
       " ('stone', 1),\n",
       " ('transform', 1),\n",
       " ('jangling', 1),\n",
       " ('discords', 1),\n",
       " ('into', 1),\n",
       " ('beautiful', 1),\n",
       " ('symphony', 1),\n",
       " ('brotherhood', 1),\n",
       " ('work', 1),\n",
       " ('pray', 1),\n",
       " ('struggle', 1),\n",
       " ('go', 1),\n",
       " ('jail', 1),\n",
       " ('stand', 1),\n",
       " ('for', 1),\n",
       " ('knowing', 1),\n",
       " ('happens', 1),\n",
       " ('allow', 1),\n",
       " ('let', 1),\n",
       " ('village', 1),\n",
       " ('hamlet', 1),\n",
       " ('state', 1),\n",
       " ('city', 1),\n",
       " ('speed', 1),\n",
       " ('gods', 1),\n",
       " ('jews', 1),\n",
       " ('gentiles', 1),\n",
       " ('protestants', 1),\n",
       " ('catholics', 1),\n",
       " ('sing', 1),\n",
       " ('words', 1),\n",
       " ('old', 1),\n",
       " ('negro', 1),\n",
       " ('spiritual', 1),\n",
       " ('thank', 1),\n",
       " ('god', 1),\n",
       " ('almighty', 1),\n",
       " ('are', 1)]"
      ]
     },
     "execution_count": 89,
     "metadata": {},
     "output_type": "execute_result"
    }
   ],
   "source": [
    "import re \n",
    "\n",
    "def parse(text):\n",
    "    # 使用正则去掉标点符号和换行符\n",
    "    text = re.sub(r'[^\\w ]', '', text)\n",
    "    \n",
    "    # 转为小写\n",
    "    text = text.lower()\n",
    "    \n",
    "    # 生成所有单词的列表\n",
    "    word_list = text.split()\n",
    "    \n",
    "    # 去除空白单词\n",
    "    word_list = filter(None, word_list)\n",
    "    \n",
    "    # 生成单词和词频的字典\n",
    "    word_cnt = {}\n",
    "    for word in word_list:\n",
    "        if word not in word_cnt:\n",
    "            word_cnt[word] = 1\n",
    "        else:\n",
    "            word_cnt[word] += 1\n",
    "    \n",
    "    # 按词频排序\n",
    "    sorted_word_cnt = sorted(word_cnt.items(), key=lambda x:x[1], reverse=True)\n",
    "    \n",
    "    return sorted_word_cnt\n",
    "\n",
    "word_and_freq = parse(s)\n",
    "word_and_freq"
   ]
  },
  {
   "cell_type": "code",
   "execution_count": 90,
   "metadata": {},
   "outputs": [
    {
     "data": {
      "text/plain": [
       "[6, 7, 8, 9]"
      ]
     },
     "execution_count": 90,
     "metadata": {},
     "output_type": "execute_result"
    }
   ],
   "source": [
    "# expression for item in iterable if condition\n",
    "y = [i for i in range(10) if i > 5]\n",
    "y"
   ]
  },
  {
   "cell_type": "code",
   "execution_count": 94,
   "metadata": {},
   "outputs": [
    {
     "data": {
      "text/plain": [
       "['gg', 'gg', 'gg', 'gg', 'gg', 'gg', 6, 7, 8, 9]"
      ]
     },
     "execution_count": 94,
     "metadata": {},
     "output_type": "execute_result"
    }
   ],
   "source": [
    "# expression1 if condition else expression2 for item in iterable\n",
    "x = [i if i > 5 else 'gg' for i in range(10)]\n",
    "x"
   ]
  },
  {
   "cell_type": "code",
   "execution_count": 106,
   "metadata": {},
   "outputs": [
    {
     "data": {
      "text/plain": [
       "[{'name': 'jason', 'dob': '2000-01-01', 'gender': 'male'},\n",
       " {'name': 'mike', 'dob': '1999-01-01', 'gender': 'male'},\n",
       " {'name': 'nancy', 'dob': '2001-02-01', 'gender': 'female'}]"
      ]
     },
     "execution_count": 106,
     "metadata": {},
     "output_type": "execute_result"
    }
   ],
   "source": [
    "attributes = ['name', 'dob', 'gender']\n",
    "values = [['jason', '2000-01-01', 'male'], \n",
    "['mike', '1999-01-01', 'male'],\n",
    "['nancy', '2001-02-01', 'female']\n",
    "]\n",
    "\n",
    "res = [{attributes[0]:v[0], attributes[1]:v[1], attributes[2]:v[2]} for v in values]\n",
    "res"
   ]
  },
  {
   "cell_type": "code",
   "execution_count": 109,
   "metadata": {},
   "outputs": [
    {
     "data": {
      "text/plain": [
       "[{'name': 'jason', 'dob': '2000-01-01', 'gender': 'male'},\n",
       " {'name': 'mike', 'dob': '1999-01-01', 'gender': 'male'},\n",
       " {'name': 'nancy', 'dob': '2001-02-01', 'gender': 'female'}]"
      ]
     },
     "execution_count": 109,
     "metadata": {},
     "output_type": "execute_result"
    }
   ],
   "source": [
    "res2 = [{a:v[i] for i, a in enumerate(attributes)} for v in values]\n",
    "res2"
   ]
  },
  {
   "cell_type": "code",
   "execution_count": 111,
   "metadata": {},
   "outputs": [
    {
     "data": {
      "text/plain": [
       "[{'name': 'jason', 'dob': '2000-01-01', 'gender': 'male'},\n",
       " {'name': 'mike', 'dob': '1999-01-01', 'gender': 'male'},\n",
       " {'name': 'nancy', 'dob': '2001-02-01', 'gender': 'female'}]"
      ]
     },
     "execution_count": 111,
     "metadata": {},
     "output_type": "execute_result"
    }
   ],
   "source": [
    "res3 = [dict(zip(attributes, v)) for v in values]\n",
    "res3"
   ]
  },
  {
   "cell_type": "code",
   "execution_count": 115,
   "metadata": {},
   "outputs": [
    {
     "data": {
      "text/plain": [
       "[{'name': 'jason', 'dob': '2000-01-01', 'gender': 'male'},\n",
       " {'name': 'mike', 'dob': '1999-01-01', 'gender': 'male'},\n",
       " {'name': 'nancy', 'dob': '2001-02-01', 'gender': 'female'}]"
      ]
     },
     "execution_count": 115,
     "metadata": {},
     "output_type": "execute_result"
    }
   ],
   "source": [
    "res4 = []\n",
    "for v in values:\n",
    "    d = {}\n",
    "    for i, a in enumerate(attributes):\n",
    "        d[a] = v[i]\n",
    "    res4.append(d)\n",
    "res4"
   ]
  },
  {
   "cell_type": "code",
   "execution_count": null,
   "metadata": {},
   "outputs": [],
   "source": []
  }
 ],
 "metadata": {
  "kernelspec": {
   "display_name": "Python 3",
   "language": "python",
   "name": "python3"
  },
  "language_info": {
   "codemirror_mode": {
    "name": "ipython",
    "version": 3
   },
   "file_extension": ".py",
   "mimetype": "text/x-python",
   "name": "python",
   "nbconvert_exporter": "python",
   "pygments_lexer": "ipython3",
   "version": "3.6.8"
  }
 },
 "nbformat": 4,
 "nbformat_minor": 2
}

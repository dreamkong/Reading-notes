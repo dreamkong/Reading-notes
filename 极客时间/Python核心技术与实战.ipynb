{
 "cells": [
  {
   "cell_type": "code",
   "execution_count": 1,
   "metadata": {},
   "outputs": [
    {
     "data": {
      "text/plain": [
       "40"
      ]
     },
     "execution_count": 1,
     "metadata": {},
     "output_type": "execute_result"
    }
   ],
   "source": [
    "l = []\n",
    "l.__sizeof__()"
   ]
  },
  {
   "cell_type": "code",
   "execution_count": 4,
   "metadata": {},
   "outputs": [
    {
     "data": {
      "text/plain": [
       "24"
      ]
     },
     "execution_count": 4,
     "metadata": {},
     "output_type": "execute_result"
    }
   ],
   "source": [
    "t = ()\n",
    "t.__sizeof__()"
   ]
  },
  {
   "cell_type": "code",
   "execution_count": 7,
   "metadata": {},
   "outputs": [
    {
     "data": {
      "text/plain": [
       "72"
      ]
     },
     "execution_count": 7,
     "metadata": {},
     "output_type": "execute_result"
    }
   ],
   "source": [
    "l.append('1234567890')\n",
    "l.__sizeof__()"
   ]
  },
  {
   "cell_type": "code",
   "execution_count": 16,
   "metadata": {},
   "outputs": [
    {
     "name": "stdout",
     "output_type": "stream",
     "text": [
      "53.5 ns ± 2.05 ns per loop (mean ± std. dev. of 7 runs, 10000000 loops each)\n"
     ]
    }
   ],
   "source": [
    "timeit l = [1, 2, 3, 4, 5]"
   ]
  },
  {
   "cell_type": "code",
   "execution_count": 17,
   "metadata": {},
   "outputs": [
    {
     "name": "stdout",
     "output_type": "stream",
     "text": [
      "12.4 ns ± 0.112 ns per loop (mean ± std. dev. of 7 runs, 100000000 loops each)\n"
     ]
    }
   ],
   "source": [
    "timeit t = (1, 2, 3, 4, 5)"
   ]
  },
  {
   "cell_type": "code",
   "execution_count": 21,
   "metadata": {},
   "outputs": [
    {
     "name": "stdout",
     "output_type": "stream",
     "text": [
      "7.73 ns ± 0.185 ns per loop (mean ± std. dev. of 7 runs, 100000000 loops each)\n"
     ]
    }
   ],
   "source": [
    "timeit \"a = [1, 2, 3] b = a[1]\""
   ]
  },
  {
   "cell_type": "code",
   "execution_count": 22,
   "metadata": {},
   "outputs": [
    {
     "name": "stdout",
     "output_type": "stream",
     "text": [
      "7.59 ns ± 0.0502 ns per loop (mean ± std. dev. of 7 runs, 100000000 loops each)\n"
     ]
    }
   ],
   "source": [
    "timeit \"c = (1, 2, 3) d = c[2]\""
   ]
  },
  {
   "cell_type": "code",
   "execution_count": 32,
   "metadata": {},
   "outputs": [
    {
     "name": "stdout",
     "output_type": "stream",
     "text": [
      "88.9 ns ± 1.76 ns per loop (mean ± std. dev. of 7 runs, 10000000 loops each)\n"
     ]
    }
   ],
   "source": [
    "timeit d = {'name': 'jason', 'age': 20, 'gender': 'male'}"
   ]
  },
  {
   "cell_type": "code",
   "execution_count": 33,
   "metadata": {},
   "outputs": [
    {
     "name": "stdout",
     "output_type": "stream",
     "text": [
      "274 ns ± 6.33 ns per loop (mean ± std. dev. of 7 runs, 1000000 loops each)\n"
     ]
    }
   ],
   "source": [
    "timeit d = dict({'name': 'jason', 'age': 20, 'gender': 'male'})"
   ]
  },
  {
   "cell_type": "code",
   "execution_count": 29,
   "metadata": {},
   "outputs": [
    {
     "data": {
      "text/plain": [
       "2"
      ]
     },
     "execution_count": 29,
     "metadata": {},
     "output_type": "execute_result"
    }
   ],
   "source": [
    "1+1"
   ]
  },
  {
   "cell_type": "code",
   "execution_count": 57,
   "metadata": {},
   "outputs": [
    {
     "name": "stdout",
     "output_type": "stream",
     "text": [
      "297 ms ± 5.66 ms per loop (mean ± std. dev. of 7 runs, 1 loop each)\n"
     ]
    }
   ],
   "source": [
    "%%timeit\n",
    "s = ''\n",
    "for n in range(1000000):\n",
    "    s += str(n)"
   ]
  },
  {
   "cell_type": "code",
   "execution_count": 56,
   "metadata": {},
   "outputs": [
    {
     "name": "stdout",
     "output_type": "stream",
     "text": [
      "274 ms ± 18.2 ms per loop (mean ± std. dev. of 7 runs, 1 loop each)\n"
     ]
    }
   ],
   "source": [
    "%%timeit\n",
    "l = []\n",
    "for n in range(1000000):\n",
    "    l.append(str(n))\n",
    "s = ' '.join(l)"
   ]
  },
  {
   "cell_type": "code",
   "execution_count": 58,
   "metadata": {},
   "outputs": [
    {
     "name": "stdout",
     "output_type": "stream",
     "text": [
      "50.3 ns ± 0.212 ns per loop (mean ± std. dev. of 7 runs, 10000000 loops each)\n"
     ]
    }
   ],
   "source": [
    "%%timeit\n",
    "l = [1,2,3,4,5]"
   ]
  },
  {
   "cell_type": "code",
   "execution_count": 60,
   "metadata": {},
   "outputs": [
    {
     "name": "stdout",
     "output_type": "stream",
     "text": [
      "14.5 ns ± 0.762 ns per loop (mean ± std. dev. of 7 runs, 100000000 loops each)\n"
     ]
    }
   ],
   "source": [
    "%%timeit\n",
    "t = (1,2,3,4,5)"
   ]
  },
  {
   "cell_type": "code",
   "execution_count": 61,
   "metadata": {},
   "outputs": [],
   "source": [
    "s = '''I have a dream that my four little children will one day live in a nation where they will not be judged by the color of their skin but by the content of their character. I have a dream today.\n",
    "\n",
    "I have a dream that one day down in Alabama, with its vicious racists, . . . one day right there in Alabama little black boys and black girls will be able to join hands with little white boys and white girls as sisters and brothers. I have a dream today.\n",
    "\n",
    "I have a dream that one day every valley shall be exalted, every hill and mountain shall be made low, the rough places will be made plain, and the crooked places will be made straight, and the glory of the Lord shall be revealed, and all flesh shall see it together.\n",
    "\n",
    "This is our hope. . . With this faith we will be able to hew out of the mountain of despair a stone of hope. With this faith we will be able to transform the jangling discords of our nation into a beautiful symphony of brotherhood. With this faith we will be able to work together, to pray together, to struggle together, to go to jail together, to stand up for freedom together, knowing that we will be free one day. . . .\n",
    "\n",
    "And when this happens, and when we allow freedom ring, when we let it ring from every village and every hamlet, from every state and every city, we will be able to speed up that day when all of God's children, black men and white men, Jews and Gentiles, Protestants and Catholics, will be able to join hands and sing in the words of the old Negro spiritual: \"Free at last! Free at last! Thank God Almighty, we are free at last!\"'''"
   ]
  },
  {
   "cell_type": "code",
   "execution_count": 89,
   "metadata": {},
   "outputs": [
    {
     "data": {
      "text/plain": [
       "[('and', 15),\n",
       " ('be', 13),\n",
       " ('will', 11),\n",
       " ('to', 11),\n",
       " ('the', 10),\n",
       " ('of', 10),\n",
       " ('a', 8),\n",
       " ('we', 8),\n",
       " ('day', 6),\n",
       " ('able', 6),\n",
       " ('every', 6),\n",
       " ('have', 5),\n",
       " ('dream', 5),\n",
       " ('that', 5),\n",
       " ('one', 5),\n",
       " ('with', 5),\n",
       " ('together', 5),\n",
       " ('in', 4),\n",
       " ('shall', 4),\n",
       " ('this', 4),\n",
       " ('free', 4),\n",
       " ('when', 4),\n",
       " ('i', 3),\n",
       " ('little', 3),\n",
       " ('black', 3),\n",
       " ('white', 3),\n",
       " ('made', 3),\n",
       " ('faith', 3),\n",
       " ('at', 3),\n",
       " ('last', 3),\n",
       " ('children', 2),\n",
       " ('nation', 2),\n",
       " ('by', 2),\n",
       " ('their', 2),\n",
       " ('todayi', 2),\n",
       " ('alabama', 2),\n",
       " ('boys', 2),\n",
       " ('girls', 2),\n",
       " ('join', 2),\n",
       " ('hands', 2),\n",
       " ('mountain', 2),\n",
       " ('places', 2),\n",
       " ('all', 2),\n",
       " ('it', 2),\n",
       " ('our', 2),\n",
       " ('hope', 2),\n",
       " ('up', 2),\n",
       " ('freedom', 2),\n",
       " ('ring', 2),\n",
       " ('from', 2),\n",
       " ('men', 2),\n",
       " ('my', 1),\n",
       " ('four', 1),\n",
       " ('live', 1),\n",
       " ('where', 1),\n",
       " ('they', 1),\n",
       " ('not', 1),\n",
       " ('judged', 1),\n",
       " ('color', 1),\n",
       " ('skin', 1),\n",
       " ('but', 1),\n",
       " ('content', 1),\n",
       " ('character', 1),\n",
       " ('down', 1),\n",
       " ('its', 1),\n",
       " ('vicious', 1),\n",
       " ('racists', 1),\n",
       " ('right', 1),\n",
       " ('there', 1),\n",
       " ('as', 1),\n",
       " ('sisters', 1),\n",
       " ('brothers', 1),\n",
       " ('valley', 1),\n",
       " ('exalted', 1),\n",
       " ('hill', 1),\n",
       " ('low', 1),\n",
       " ('rough', 1),\n",
       " ('plain', 1),\n",
       " ('crooked', 1),\n",
       " ('straight', 1),\n",
       " ('glory', 1),\n",
       " ('lord', 1),\n",
       " ('revealed', 1),\n",
       " ('flesh', 1),\n",
       " ('see', 1),\n",
       " ('togetherthis', 1),\n",
       " ('is', 1),\n",
       " ('hew', 1),\n",
       " ('out', 1),\n",
       " ('despair', 1),\n",
       " ('stone', 1),\n",
       " ('transform', 1),\n",
       " ('jangling', 1),\n",
       " ('discords', 1),\n",
       " ('into', 1),\n",
       " ('beautiful', 1),\n",
       " ('symphony', 1),\n",
       " ('brotherhood', 1),\n",
       " ('work', 1),\n",
       " ('pray', 1),\n",
       " ('struggle', 1),\n",
       " ('go', 1),\n",
       " ('jail', 1),\n",
       " ('stand', 1),\n",
       " ('for', 1),\n",
       " ('knowing', 1),\n",
       " ('happens', 1),\n",
       " ('allow', 1),\n",
       " ('let', 1),\n",
       " ('village', 1),\n",
       " ('hamlet', 1),\n",
       " ('state', 1),\n",
       " ('city', 1),\n",
       " ('speed', 1),\n",
       " ('gods', 1),\n",
       " ('jews', 1),\n",
       " ('gentiles', 1),\n",
       " ('protestants', 1),\n",
       " ('catholics', 1),\n",
       " ('sing', 1),\n",
       " ('words', 1),\n",
       " ('old', 1),\n",
       " ('negro', 1),\n",
       " ('spiritual', 1),\n",
       " ('thank', 1),\n",
       " ('god', 1),\n",
       " ('almighty', 1),\n",
       " ('are', 1)]"
      ]
     },
     "execution_count": 89,
     "metadata": {},
     "output_type": "execute_result"
    }
   ],
   "source": [
    "import re \n",
    "\n",
    "def parse(text):\n",
    "    # 使用正则去掉标点符号和换行符\n",
    "    text = re.sub(r'[^\\w ]', '', text)\n",
    "    \n",
    "    # 转为小写\n",
    "    text = text.lower()\n",
    "    \n",
    "    # 生成所有单词的列表\n",
    "    word_list = text.split()\n",
    "    \n",
    "    # 去除空白单词\n",
    "    word_list = filter(None, word_list)\n",
    "    \n",
    "    # 生成单词和词频的字典\n",
    "    word_cnt = {}\n",
    "    for word in word_list:\n",
    "        if word not in word_cnt:\n",
    "            word_cnt[word] = 1\n",
    "        else:\n",
    "            word_cnt[word] += 1\n",
    "    \n",
    "    # 按词频排序\n",
    "    sorted_word_cnt = sorted(word_cnt.items(), key=lambda x:x[1], reverse=True)\n",
    "    \n",
    "    return sorted_word_cnt\n",
    "\n",
    "word_and_freq = parse(s)\n",
    "word_and_freq"
   ]
  },
  {
   "cell_type": "code",
   "execution_count": 90,
   "metadata": {},
   "outputs": [
    {
     "data": {
      "text/plain": [
       "[6, 7, 8, 9]"
      ]
     },
     "execution_count": 90,
     "metadata": {},
     "output_type": "execute_result"
    }
   ],
   "source": [
    "# expression for item in iterable if condition\n",
    "y = [i for i in range(10) if i > 5]\n",
    "y"
   ]
  },
  {
   "cell_type": "code",
   "execution_count": 94,
   "metadata": {},
   "outputs": [
    {
     "data": {
      "text/plain": [
       "['gg', 'gg', 'gg', 'gg', 'gg', 'gg', 6, 7, 8, 9]"
      ]
     },
     "execution_count": 94,
     "metadata": {},
     "output_type": "execute_result"
    }
   ],
   "source": [
    "# expression1 if condition else expression2 for item in iterable\n",
    "x = [i if i > 5 else 'gg' for i in range(10)]\n",
    "x"
   ]
  },
  {
   "cell_type": "code",
   "execution_count": 106,
   "metadata": {},
   "outputs": [
    {
     "data": {
      "text/plain": [
       "[{'name': 'jason', 'dob': '2000-01-01', 'gender': 'male'},\n",
       " {'name': 'mike', 'dob': '1999-01-01', 'gender': 'male'},\n",
       " {'name': 'nancy', 'dob': '2001-02-01', 'gender': 'female'}]"
      ]
     },
     "execution_count": 106,
     "metadata": {},
     "output_type": "execute_result"
    }
   ],
   "source": [
    "attributes = ['name', 'dob', 'gender']\n",
    "values = [['jason', '2000-01-01', 'male'], \n",
    "['mike', '1999-01-01', 'male'],\n",
    "['nancy', '2001-02-01', 'female']\n",
    "]\n",
    "\n",
    "res = [{attributes[0]:v[0], attributes[1]:v[1], attributes[2]:v[2]} for v in values]\n",
    "res"
   ]
  },
  {
   "cell_type": "code",
   "execution_count": 109,
   "metadata": {},
   "outputs": [
    {
     "data": {
      "text/plain": [
       "[{'name': 'jason', 'dob': '2000-01-01', 'gender': 'male'},\n",
       " {'name': 'mike', 'dob': '1999-01-01', 'gender': 'male'},\n",
       " {'name': 'nancy', 'dob': '2001-02-01', 'gender': 'female'}]"
      ]
     },
     "execution_count": 109,
     "metadata": {},
     "output_type": "execute_result"
    }
   ],
   "source": [
    "res2 = [{a:v[i] for i, a in enumerate(attributes)} for v in values]\n",
    "res2"
   ]
  },
  {
   "cell_type": "code",
   "execution_count": 111,
   "metadata": {},
   "outputs": [
    {
     "data": {
      "text/plain": [
       "[{'name': 'jason', 'dob': '2000-01-01', 'gender': 'male'},\n",
       " {'name': 'mike', 'dob': '1999-01-01', 'gender': 'male'},\n",
       " {'name': 'nancy', 'dob': '2001-02-01', 'gender': 'female'}]"
      ]
     },
     "execution_count": 111,
     "metadata": {},
     "output_type": "execute_result"
    }
   ],
   "source": [
    "res3 = [dict(zip(attributes, v)) for v in values]\n",
    "res3"
   ]
  },
  {
   "cell_type": "code",
   "execution_count": 115,
   "metadata": {},
   "outputs": [
    {
     "data": {
      "text/plain": [
       "[{'name': 'jason', 'dob': '2000-01-01', 'gender': 'male'},\n",
       " {'name': 'mike', 'dob': '1999-01-01', 'gender': 'male'},\n",
       " {'name': 'nancy', 'dob': '2001-02-01', 'gender': 'female'}]"
      ]
     },
     "execution_count": 115,
     "metadata": {},
     "output_type": "execute_result"
    }
   ],
   "source": [
    "res4 = []\n",
    "for v in values:\n",
    "    d = {}\n",
    "    for i, a in enumerate(attributes):\n",
    "        d[a] = v[i]\n",
    "    res4.append(d)\n",
    "res4"
   ]
  },
  {
   "cell_type": "code",
   "execution_count": 117,
   "metadata": {},
   "outputs": [
    {
     "data": {
      "text/plain": [
       "3628800"
      ]
     },
     "execution_count": 117,
     "metadata": {},
     "output_type": "execute_result"
    }
   ],
   "source": [
    "# 嵌套函数\n",
    "def factorial(input):\n",
    "    if not isinstance(input, int):\n",
    "        raise Exception('input must be an integer.')\n",
    "    if input < 0:\n",
    "        raise Exception('input must be greater or equal to 0')\n",
    "        \n",
    "    def inner_factorial(input):\n",
    "        if input <= 1:\n",
    "            return 1\n",
    "        return input * inner_factorial(input-1)\n",
    "    return inner_factorial(input)\n",
    "\n",
    "factorial(10)"
   ]
  },
  {
   "cell_type": "code",
   "execution_count": 120,
   "metadata": {},
   "outputs": [
    {
     "data": {
      "text/plain": [
       "55"
      ]
     },
     "execution_count": 120,
     "metadata": {},
     "output_type": "execute_result"
    }
   ],
   "source": [
    "def fib(input):\n",
    "    if not isinstance(input, int):\n",
    "        raise Exception('input must be an integer.')\n",
    "    if input <= 0:\n",
    "        raise Exception('input must be greater 0')\n",
    "        \n",
    "    def inner_fib(input):\n",
    "        if input <= 2:\n",
    "            return 1\n",
    "        return inner_fib(input-1) + inner_fib(input-2)\n",
    "    return inner_fib(input)\n",
    "fib(10)"
   ]
  },
  {
   "cell_type": "code",
   "execution_count": 128,
   "metadata": {},
   "outputs": [
    {
     "ename": "UnboundLocalError",
     "evalue": "local variable 'MAX_VALUE' referenced before assignment",
     "output_type": "error",
     "traceback": [
      "\u001b[0;31m---------------------------------------------------------------------------\u001b[0m",
      "\u001b[0;31mUnboundLocalError\u001b[0m                         Traceback (most recent call last)",
      "\u001b[0;32m<ipython-input-128-4dd880ce110e>\u001b[0m in \u001b[0;36m<module>\u001b[0;34m\u001b[0m\n\u001b[1;32m      4\u001b[0m     \u001b[0mMAX_VALUE\u001b[0m \u001b[0;34m+=\u001b[0m \u001b[0;36m1\u001b[0m\u001b[0;34m\u001b[0m\u001b[0;34m\u001b[0m\u001b[0m\n\u001b[1;32m      5\u001b[0m \u001b[0;34m\u001b[0m\u001b[0m\n\u001b[0;32m----> 6\u001b[0;31m \u001b[0mfoo\u001b[0m\u001b[0;34m(\u001b[0m\u001b[0;34m)\u001b[0m\u001b[0;34m\u001b[0m\u001b[0;34m\u001b[0m\u001b[0m\n\u001b[0m",
      "\u001b[0;32m<ipython-input-128-4dd880ce110e>\u001b[0m in \u001b[0;36mfoo\u001b[0;34m()\u001b[0m\n\u001b[1;32m      2\u001b[0m \u001b[0mMAX_VALUE\u001b[0m \u001b[0;34m=\u001b[0m \u001b[0;36m10\u001b[0m\u001b[0;34m\u001b[0m\u001b[0;34m\u001b[0m\u001b[0m\n\u001b[1;32m      3\u001b[0m \u001b[0;32mdef\u001b[0m \u001b[0mfoo\u001b[0m\u001b[0;34m(\u001b[0m\u001b[0;34m)\u001b[0m\u001b[0;34m:\u001b[0m\u001b[0;34m\u001b[0m\u001b[0;34m\u001b[0m\u001b[0m\n\u001b[0;32m----> 4\u001b[0;31m     \u001b[0mMAX_VALUE\u001b[0m \u001b[0;34m+=\u001b[0m \u001b[0;36m1\u001b[0m\u001b[0;34m\u001b[0m\u001b[0;34m\u001b[0m\u001b[0m\n\u001b[0m\u001b[1;32m      5\u001b[0m \u001b[0;34m\u001b[0m\u001b[0m\n\u001b[1;32m      6\u001b[0m \u001b[0mfoo\u001b[0m\u001b[0;34m(\u001b[0m\u001b[0;34m)\u001b[0m\u001b[0;34m\u001b[0m\u001b[0;34m\u001b[0m\u001b[0m\n",
      "\u001b[0;31mUnboundLocalError\u001b[0m: local variable 'MAX_VALUE' referenced before assignment"
     ]
    }
   ],
   "source": [
    "# 在函数内部直接操作全局变量会报本地未声明变量错误\n",
    "MAX_VALUE = 10\n",
    "def foo():\n",
    "    MAX_VALUE += 1\n",
    "    \n",
    "foo()"
   ]
  },
  {
   "cell_type": "code",
   "execution_count": 129,
   "metadata": {},
   "outputs": [
    {
     "name": "stdout",
     "output_type": "stream",
     "text": [
      "11\n"
     ]
    }
   ],
   "source": [
    "# 在函数内部使用global声明 就可以在函数内部操作全局变量\n",
    "def foo():\n",
    "    global MAX_VALUE\n",
    "    MAX_VALUE += 1\n",
    "    \n",
    "foo()\n",
    "print(MAX_VALUE)"
   ]
  },
  {
   "cell_type": "code",
   "execution_count": 130,
   "metadata": {},
   "outputs": [
    {
     "name": "stdout",
     "output_type": "stream",
     "text": [
      "11\n"
     ]
    }
   ],
   "source": [
    "# 在函数内部声明与全局变量相同名字的immutable局部变量，改变其值不会影响全局变量的值\n",
    "def foo():\n",
    "    MAX_VALUE = 1\n",
    "    MAX_VALUE += 1\n",
    "\n",
    "foo()\n",
    "print(MAX_VALUE)"
   ]
  },
  {
   "cell_type": "code",
   "execution_count": 132,
   "metadata": {},
   "outputs": [
    {
     "name": "stdout",
     "output_type": "stream",
     "text": [
      "[100, 98, 89, 59]\n"
     ]
    }
   ],
   "source": [
    "# 在函数内部声明与全局变量相同名字的mutable局部变量，改变其值会影响全局变量的值且不需要使用global声明直接就可以使用修改，\n",
    "# 因为Python传参传的都是引用，即变量的地址\n",
    "LIST_POINT = [100, 98, 89]\n",
    "def foo():\n",
    "    LIST_POINT.append(59)\n",
    "\n",
    "foo()\n",
    "print(LIST_POINT)"
   ]
  },
  {
   "cell_type": "code",
   "execution_count": 134,
   "metadata": {},
   "outputs": [
    {
     "name": "stdout",
     "output_type": "stream",
     "text": [
      "inner: nonlocal\n",
      "outer: local\n",
      "inner: nonlocal\n",
      "outer: nonlocal\n"
     ]
    }
   ],
   "source": [
    "# 对于嵌套函数来说，内部函数可以访问外部函数定义的变量，但是无法修改，若要修改，必须加上nonlocal声明\n",
    "def outer():\n",
    "    x = 'local'\n",
    "    def inner():\n",
    "        x = 'nonlocal'\n",
    "        print('inner:', x)\n",
    "    inner()\n",
    "    print('outer:', x)\n",
    "outer()\n",
    "\n",
    "def outer():\n",
    "    x = 'local'\n",
    "    def inner():\n",
    "        nonlocal x\n",
    "        x = 'nonlocal'\n",
    "        print('inner:', x)\n",
    "    inner()\n",
    "    print('outer:', x)\n",
    "outer()"
   ]
  },
  {
   "cell_type": "code",
   "execution_count": 136,
   "metadata": {},
   "outputs": [
    {
     "data": {
      "text/plain": [
       "<function __main__.nth_power.<locals>.exponent_of(base)>"
      ]
     },
     "execution_count": 136,
     "metadata": {},
     "output_type": "execute_result"
    }
   ],
   "source": [
    "# 闭包\n",
    "def nth_power(exponent):\n",
    "    def exponent_of(base):\n",
    "        return base ** exponent\n",
    "    return exponent_of\n",
    "\n",
    "square = nth_power(2)\n",
    "square"
   ]
  },
  {
   "cell_type": "code",
   "execution_count": 137,
   "metadata": {},
   "outputs": [
    {
     "data": {
      "text/plain": [
       "<function __main__.nth_power.<locals>.exponent_of(base)>"
      ]
     },
     "execution_count": 137,
     "metadata": {},
     "output_type": "execute_result"
    }
   ],
   "source": [
    "cube = nth_power(3)\n",
    "cube"
   ]
  },
  {
   "cell_type": "code",
   "execution_count": 138,
   "metadata": {},
   "outputs": [
    {
     "data": {
      "text/plain": [
       "4"
      ]
     },
     "execution_count": 138,
     "metadata": {},
     "output_type": "execute_result"
    }
   ],
   "source": [
    "square(2)"
   ]
  },
  {
   "cell_type": "code",
   "execution_count": 139,
   "metadata": {},
   "outputs": [
    {
     "data": {
      "text/plain": [
       "8"
      ]
     },
     "execution_count": 139,
     "metadata": {},
     "output_type": "execute_result"
    }
   ],
   "source": [
    "cube(2)"
   ]
  },
  {
   "cell_type": "code",
   "execution_count": 145,
   "metadata": {},
   "outputs": [
    {
     "data": {
      "text/plain": [
       "[0, 1, 4, 9, 16, 25, 36, 49, 64, 81]"
      ]
     },
     "execution_count": 145,
     "metadata": {},
     "output_type": "execute_result"
    }
   ],
   "source": [
    "# 匿名函数\n",
    "[(lambda x: x**2)(i) for i in range(10)]"
   ]
  },
  {
   "cell_type": "code",
   "execution_count": 146,
   "metadata": {},
   "outputs": [
    {
     "data": {
      "text/plain": [
       "[0, 1, 4, 9, 16, 25, 36, 49, 64, 81]"
      ]
     },
     "execution_count": 146,
     "metadata": {},
     "output_type": "execute_result"
    }
   ],
   "source": [
    "def square(x):\n",
    "    return x ** 2\n",
    "[square(i) for i in range(10)]"
   ]
  },
  {
   "cell_type": "code",
   "execution_count": 148,
   "metadata": {},
   "outputs": [
    {
     "data": {
      "text/plain": [
       "[(1, 20), (2, -1), (3, 0), (9, 10)]"
      ]
     },
     "execution_count": 148,
     "metadata": {},
     "output_type": "execute_result"
    }
   ],
   "source": [
    "l = [(1, 20), (3, 0), (9, 10), (2, -1)]\n",
    "l.sort()\n",
    "l"
   ]
  },
  {
   "cell_type": "code",
   "execution_count": 150,
   "metadata": {},
   "outputs": [
    {
     "data": {
      "text/plain": [
       "[(2, -1), (3, 0), (9, 10), (1, 20)]"
      ]
     },
     "execution_count": 150,
     "metadata": {},
     "output_type": "execute_result"
    }
   ],
   "source": [
    "l.sort(key=lambda x: x[1])\n",
    "l"
   ]
  },
  {
   "cell_type": "markdown",
   "metadata": {},
   "source": [
    "* lambda是一个表达式（expression），并不是一个语句（statement）\n",
    "* lambda的主体只有一行的简单表达式，并不能扩展成一个多行的代码块"
   ]
  },
  {
   "cell_type": "code",
   "execution_count": 152,
   "metadata": {},
   "outputs": [
    {
     "data": {
      "text/plain": [
       "[1, 4, 9, 16, 25]"
      ]
     },
     "execution_count": 152,
     "metadata": {},
     "output_type": "execute_result"
    }
   ],
   "source": [
    "list(map(lambda x: x**2, [1, 2, 3, 4, 5]))"
   ]
  },
  {
   "cell_type": "code",
   "execution_count": 153,
   "metadata": {},
   "outputs": [
    {
     "name": "stdout",
     "output_type": "stream",
     "text": [
      "being pressed\n",
      "being pressed\n",
      "being pressed\n",
      "being pressed\n"
     ]
    }
   ],
   "source": [
    "from tkinter import Button, mainloop\n",
    "\n",
    "button = Button(text='This is a button',\n",
    "               command=lambda: print('being pressed'))\n",
    "button.pack()\n",
    "mainloop()"
   ]
  },
  {
   "cell_type": "code",
   "execution_count": 5,
   "metadata": {},
   "outputs": [
    {
     "data": {
      "text/plain": [
       "True"
      ]
     },
     "execution_count": 5,
     "metadata": {},
     "output_type": "execute_result"
    }
   ],
   "source": [
    "func = lambda x: x\n",
    "func(None) == None"
   ]
  },
  {
   "cell_type": "code",
   "execution_count": 7,
   "metadata": {},
   "outputs": [],
   "source": [
    "filter?"
   ]
  },
  {
   "cell_type": "code",
   "execution_count": 8,
   "metadata": {},
   "outputs": [
    {
     "data": {
      "text/plain": [
       "[1, 2, 3, 4]"
      ]
     },
     "execution_count": 8,
     "metadata": {},
     "output_type": "execute_result"
    }
   ],
   "source": [
    "l = list(range(1, 5))\n",
    "l"
   ]
  },
  {
   "cell_type": "code",
   "execution_count": 10,
   "metadata": {},
   "outputs": [
    {
     "data": {
      "text/plain": [
       "24"
      ]
     },
     "execution_count": 10,
     "metadata": {},
     "output_type": "execute_result"
    }
   ],
   "source": [
    "from functools import reduce\n",
    "product = reduce(lambda x, y: x * y, l)\n",
    "product"
   ]
  },
  {
   "cell_type": "code",
   "execution_count": 14,
   "metadata": {},
   "outputs": [
    {
     "data": {
      "text/plain": [
       "[('ben', 30), ('mike', 10), ('lucy', 2)]"
      ]
     },
     "execution_count": 14,
     "metadata": {},
     "output_type": "execute_result"
    }
   ],
   "source": [
    "# 字典根据值由高到低排序\n",
    "d = {'mike': 10, 'lucy': 2, 'ben': 30}\n",
    "sorted(d.items(), key=lambda x: x[1], reverse=True)"
   ]
  },
  {
   "cell_type": "code",
   "execution_count": 21,
   "metadata": {},
   "outputs": [],
   "source": [
    "def test(d):\n",
    "    if d <= 0:\n",
    "        return 0\n",
    "    start = 10**(d-1)\n",
    "    end = start*10-1\n",
    "    n = 0\n",
    "    while start <= end:\n",
    "        if '0' in str(start):\n",
    "            n += 1\n",
    "        start += 1\n",
    "    return n"
   ]
  },
  {
   "cell_type": "code",
   "execution_count": 22,
   "metadata": {},
   "outputs": [
    {
     "data": {
      "text/plain": [
       "9"
      ]
     },
     "execution_count": 22,
     "metadata": {},
     "output_type": "execute_result"
    }
   ],
   "source": [
    "test(2)"
   ]
  },
  {
   "cell_type": "code",
   "execution_count": 23,
   "metadata": {},
   "outputs": [],
   "source": [
    "# if(digitCount<=0)\n",
    "#     return 0;\n",
    "# int start = Math.pow(10, d-1)\n",
    "# int end = start * 10 - 1\n",
    "# int n = 0\n",
    "# while(start <= end){\n",
    "#     if(Integer.toString(start).contains('0')){\n",
    "#         n += 1\n",
    "#     }\n",
    "#     start += 1\n",
    "# }\n",
    "# return n\n"
   ]
  },
  {
   "cell_type": "code",
   "execution_count": 24,
   "metadata": {},
   "outputs": [
    {
     "name": "stdout",
     "output_type": "stream",
     "text": [
      "from H\n",
      "[<class '__main__.F'>, <class '__main__.D'>, <class '__main__.B'>, <class '__main__.E'>, <class '__main__.C'>, <class '__main__.H'>, <class '__main__.A'>, <class 'object'>]\n"
     ]
    }
   ],
   "source": [
    "class A:\n",
    "    # def test(self):\n",
    "    # print('from A')\n",
    "    pass\n",
    "class B(A):\n",
    "    # def test(self):\n",
    "    # print('from B')\n",
    "    pass\n",
    "class C(A):\n",
    "    # def test(self):\n",
    "    # print('from C')\n",
    "    pass\n",
    "\n",
    "class D(B):\n",
    "    # def test(self):\n",
    "    # print('from D')\n",
    "    pass\n",
    "\n",
    "class E(C):\n",
    "    # def test(self):\n",
    "    # print('from E')\n",
    "    pass\n",
    "\n",
    "class H(A):\n",
    "    def test(self):\n",
    "        print('from H')\n",
    "        pass\n",
    "class F(D,E,H):\n",
    "    # def test(self):\n",
    "    # print('from F')\n",
    "    pass\n",
    "f=F()\n",
    "f.test()\n",
    "print(F.mro())"
   ]
  },
  {
   "cell_type": "code",
   "execution_count": 22,
   "metadata": {},
   "outputs": [],
   "source": [
    "# 简易版搜索引擎基类\n",
    "class SearchEngineBase:\n",
    "    def __init__(self):\n",
    "        pass\n",
    "    \n",
    "    def add_corpus(self, file_path):\n",
    "        with open(file_path) as fin:\n",
    "            text = fin.read()\n",
    "        self.process_corpus(file_path, text)\n",
    "        \n",
    "    def process_corpus(self, id, text):\n",
    "        raise Exception('process_corpus not implemented.')\n",
    "        \n",
    "    def search(self, query):\n",
    "        raise Exception('search not implemented.')\n",
    "        \n",
    "\n",
    "def main(search_engine):\n",
    "    for file_path in ['1.txt', '2.txt', '3.txt', '4.txt', '5.txt']:\n",
    "        search_engine.add_corpus(file_path)\n",
    "    while True:\n",
    "        query = input()\n",
    "        if query == 'q':\n",
    "            break\n",
    "        results = search_engine.search(query)\n",
    "        print('found {} result(s)'.format(len(results)))\n",
    "        for result in results:\n",
    "            print(result)"
   ]
  },
  {
   "cell_type": "code",
   "execution_count": 23,
   "metadata": {},
   "outputs": [
    {
     "name": "stdout",
     "output_type": "stream",
     "text": [
      "dream\n",
      "found 3 result(s)\n",
      "1.txt\n",
      "2.txt\n",
      "3.txt\n",
      "a\n",
      "found 5 result(s)\n",
      "1.txt\n",
      "2.txt\n",
      "3.txt\n",
      "4.txt\n",
      "5.txt\n",
      "I\n",
      "found 3 result(s)\n",
      "1.txt\n",
      "2.txt\n",
      "3.txt\n",
      "little\n",
      "found 2 result(s)\n",
      "1.txt\n",
      "2.txt\n",
      "q\n"
     ]
    }
   ],
   "source": [
    "# 简单实现搜索引擎\n",
    "class SimpleEngine(SearchEngineBase):\n",
    "    def __init__(self):\n",
    "        super().__init__()\n",
    "        self.__id_to_texts = {}\n",
    "        \n",
    "    def process_corpus(self, id, text):\n",
    "        self.__id_to_texts[id] = text\n",
    "        \n",
    "    def search(self, query):\n",
    "        res = []\n",
    "        for id, content in self.__id_to_texts.items():\n",
    "            if query in content:\n",
    "                res.append(id)\n",
    "        return res\n",
    "    \n",
    "    \n",
    "search_engine = SimpleEngine()\n",
    "main(search_engine)"
   ]
  },
  {
   "cell_type": "code",
   "execution_count": 24,
   "metadata": {},
   "outputs": [
    {
     "name": "stdout",
     "output_type": "stream",
     "text": [
      "dream\n",
      "found 3 result(s)\n",
      "1.txt\n",
      "2.txt\n",
      "3.txt\n",
      "dream a\n",
      "found 3 result(s)\n",
      "1.txt\n",
      "2.txt\n",
      "3.txt\n",
      "judged skin\n",
      "found 1 result(s)\n",
      "1.txt\n",
      "q\n"
     ]
    }
   ],
   "source": [
    "# Bag of word搜索模型\n",
    "import re\n",
    "\n",
    "class BOWSearch(SearchEngineBase):\n",
    "    def __init__(self):\n",
    "        super().__init__()\n",
    "        self.__id_to_words = {}\n",
    "        \n",
    "    def process_corpus(self, id, text):\n",
    "        self.__id_to_words[id] = self.parse_text_to_words(text)\n",
    "        \n",
    "    def search(self, query):\n",
    "        query_words = self.parse_text_to_words(query)\n",
    "        results = []\n",
    "        for id, words in self.__id_to_words.items():\n",
    "            if self.query_match(query_words, words):\n",
    "                results.append(id)\n",
    "        return results\n",
    "    \n",
    "    @staticmethod\n",
    "    def parse_text_to_words(text):\n",
    "        return set(re.sub(r'[^\\w ]', ' ', text).lower().split())\n",
    "\n",
    "    @staticmethod\n",
    "    def query_match(query_words, words):\n",
    "        for query_word in query_words:\n",
    "            if query_word not in words:\n",
    "                return False\n",
    "        return True\n",
    "    \n",
    "        \n",
    "search_engine = BOWSearch()\n",
    "main(search_engine)"
   ]
  },
  {
   "cell_type": "code",
   "execution_count": null,
   "metadata": {},
   "outputs": [
    {
     "name": "stdout",
     "output_type": "stream",
     "text": [
      "dreamkong \n",
      "found 0 result(s)\n",
      "dream\n",
      "found 5 result(s)\n",
      "1.txt\n",
      "1.txt\n",
      "2.txt\n",
      "2.txt\n",
      "3.txt\n"
     ]
    }
   ],
   "source": [
    "import re\n",
    "\n",
    "class BOWInvertedIndexEngine(SearchEngineBase):\n",
    "    def __init__(self):\n",
    "        super().__init__()\n",
    "        self.inverted_index = {}\n",
    "        \n",
    "    def process_corpus(self, id, text):\n",
    "        words = self.parse_text_to_words(text)\n",
    "        for word in words:\n",
    "            if word not in self.inverted_index:\n",
    "                self.inverted_index[word] = []\n",
    "            self.inverted_index[word].append(id)\n",
    "            \n",
    "    def search(self, query):\n",
    "        query_words = list(self.parse_text_to_words(query))\n",
    "        query_words_index = list()\n",
    "        for query_word in query_words:\n",
    "            query_words_index.append(0)\n",
    "            \n",
    "        # 如果某一个查询单词的倒序索引为空，我们就立刻返回\n",
    "        for query_word in query_words:\n",
    "            if query_word not in self.inverted_index:\n",
    "                return []\n",
    "            \n",
    "        result = []\n",
    "        while True:\n",
    "            # 首先，获得当前状态下所有倒序索引的index\n",
    "            current_ids = []\n",
    "            \n",
    "            for idx, query_word in enumerate(query_words):\n",
    "                current_index = query_words_index[idx]\n",
    "                current_inverted_list = self.inverted_index[query_word]\n",
    "                \n",
    "                # 已经遍历到了某一个倒序索引的末尾，结束search\n",
    "                if current_index >= len(current_inverted_list):\n",
    "                    return result\n",
    "                \n",
    "                current_ids.append(current_inverted_list[current_index])\n",
    "                \n",
    "            # 然后，如果current_ids的所有元素都一样，那么表明这个单词在这个元素对应的文档中出现了\n",
    "            if all(x == current_ids[0] for x in current_ids):\n",
    "                result.append(current_ids[0])\n",
    "                query_words_index = [x + 1 for x in query_words_index]\n",
    "                continue\n",
    "            \n",
    "            # 如果不是，我们就把最小的元素加一\n",
    "            min_val = min(current_ids)\n",
    "            min_val_pos = current_ids.index(min_val)\n",
    "            query_words_index[min_val_pos] += 1\n",
    "            \n",
    "            \n",
    "    @staticmethod\n",
    "    def parse_text_to_words(text):\n",
    "        text = re.sub(r'^\\w ', '', text)\n",
    "        text = text.lower()\n",
    "        word_list = text.split()\n",
    "        word_list = filter(None, word_list)\n",
    "        return word_list\n",
    "        \n",
    "        \n",
    "search_engine = BOWInvertedIndexEngine()\n",
    "main(search_engine)"
   ]
  },
  {
   "cell_type": "code",
   "execution_count": null,
   "metadata": {},
   "outputs": [],
   "source": []
  }
 ],
 "metadata": {
  "kernelspec": {
   "display_name": "Python 3",
   "language": "python",
   "name": "python3"
  },
  "language_info": {
   "codemirror_mode": {
    "name": "ipython",
    "version": 3
   },
   "file_extension": ".py",
   "mimetype": "text/x-python",
   "name": "python",
   "nbconvert_exporter": "python",
   "pygments_lexer": "ipython3",
   "version": "3.6.8"
  }
 },
 "nbformat": 4,
 "nbformat_minor": 2
}

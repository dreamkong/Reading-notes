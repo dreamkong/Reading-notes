{
 "cells": [
  {
   "cell_type": "code",
   "execution_count": 1,
   "metadata": {},
   "outputs": [
    {
     "name": "stdout",
     "output_type": "stream",
     "text": [
      "3\n"
     ]
    }
   ],
   "source": [
    "chinese_zodiac = \"猴鸡狗猪鼠牛虎兔龙蛇马羊\"\n",
    "year = 2019\n",
    "print(year % 12)"
   ]
  },
  {
   "cell_type": "code",
   "execution_count": 2,
   "metadata": {},
   "outputs": [
    {
     "name": "stdout",
     "output_type": "stream",
     "text": [
      "猪\n"
     ]
    }
   ],
   "source": [
    "print(chinese_zodiac[year % 12])"
   ]
  },
  {
   "cell_type": "code",
   "execution_count": 4,
   "metadata": {},
   "outputs": [
    {
     "name": "stdout",
     "output_type": "stream",
     "text": [
      "True\n"
     ]
    }
   ],
   "source": [
    "print('猪' in chinese_zodiac)"
   ]
  },
  {
   "cell_type": "code",
   "execution_count": 3,
   "metadata": {},
   "outputs": [
    {
     "name": "stdout",
     "output_type": "stream",
     "text": [
      "处女座\n"
     ]
    }
   ],
   "source": [
    "zodiac = ('摩羯座', '水瓶座', '双鱼座', '白羊座', '金牛座', '双子座', \n",
    "          '巨蟹座', '狮子座', '处女座', '天秤座', '天蝎座', '射手座')\n",
    "zodiac_days = ((1, 20), (2, 19), (3, 21), (4, 21), (5, 21), (6, 22), \n",
    "               (7, 23), (8, 23), (9, 23), (10, 23), (11, 23), (12, 23))\n",
    "month, day = 9, 2\n",
    "zodiac_day = filter(lambda x: x <= (month, day), zodiac_days)\n",
    "print(zodiac[len(list(zodiac_day))])"
   ]
  },
  {
   "cell_type": "code",
   "execution_count": 20,
   "metadata": {},
   "outputs": [
    {
     "name": "stdout",
     "output_type": "stream",
     "text": [
      "['abc', 'xyz', 'edf']\n",
      "['abc', 'edf']\n"
     ]
    }
   ],
   "source": [
    "a_list = ['abc', 'xyz']\n",
    "a_list.append('edf')\n",
    "print(a_list)\n",
    "a_list.remove('xyz')\n",
    "print(a_list)"
   ]
  },
  {
   "cell_type": "code",
   "execution_count": 21,
   "metadata": {},
   "outputs": [
    {
     "name": "stdout",
     "output_type": "stream",
     "text": [
      "请输入出生年份2019\n",
      "猪年大吉\n"
     ]
    }
   ],
   "source": [
    "year = int(input(\"请输入出生年份\"))\n",
    "if chinese_zodiac[year % 12] == \"猪\":\n",
    "    print(\"猪年大吉\")"
   ]
  },
  {
   "cell_type": "code",
   "execution_count": 22,
   "metadata": {},
   "outputs": [
    {
     "name": "stdout",
     "output_type": "stream",
     "text": [
      "猴\n",
      "鸡\n",
      "狗\n",
      "猪\n",
      "鼠\n",
      "牛\n",
      "虎\n",
      "兔\n",
      "龙\n",
      "蛇\n",
      "马\n",
      "羊\n"
     ]
    }
   ],
   "source": [
    "for cz in chinese_zodiac:\n",
    "    print(cz)"
   ]
  },
  {
   "cell_type": "code",
   "execution_count": 25,
   "metadata": {},
   "outputs": [
    {
     "name": "stdout",
     "output_type": "stream",
     "text": [
      "1\n",
      "2\n",
      "3\n",
      "4\n",
      "5\n",
      "6\n",
      "7\n",
      "8\n",
      "9\n",
      "10\n",
      "11\n",
      "12\n"
     ]
    }
   ],
   "source": [
    "for i in range(1, 13):\n",
    "    print(i)"
   ]
  },
  {
   "cell_type": "code",
   "execution_count": 27,
   "metadata": {},
   "outputs": [
    {
     "name": "stdout",
     "output_type": "stream",
     "text": [
      "1\n",
      "2\n",
      "3\n",
      "4\n",
      "5\n",
      "6\n",
      "7\n",
      "8\n",
      "9\n",
      "10\n"
     ]
    }
   ],
   "source": [
    "num = 1\n",
    "while True:\n",
    "    print(num)\n",
    "    if num >= 10:\n",
    "        break\n",
    "    num += 1"
   ]
  },
  {
   "cell_type": "code",
   "execution_count": 36,
   "metadata": {},
   "outputs": [
    {
     "name": "stdout",
     "output_type": "stream",
     "text": [
      "请输入月日，使用空格分离:12 24\n",
      "摩羯座\n"
     ]
    }
   ],
   "source": [
    "month, day = (int(i) for i in input('请输入月日，使用空格分离:').strip().split())\n",
    "for zd in range(len(zodiac_days)):\n",
    "    if (month, day) <= zodiac_days[zd]:\n",
    "        print(zodiac[zd])\n",
    "        break\n",
    "    elif month == 12 and day > 23:\n",
    "        print(zodiac[0])\n",
    "        break"
   ]
  },
  {
   "cell_type": "code",
   "execution_count": 6,
   "metadata": {},
   "outputs": [
    {
     "name": "stdout",
     "output_type": "stream",
     "text": [
      "请输入月日，使用空格分离:1 13\n",
      "摩羯座\n"
     ]
    }
   ],
   "source": [
    "month, day = (int(i) for i in input('请输入月日，使用空格分离:').strip().split())\n",
    "n = 0\n",
    "while (month, day) > zodiac_days[n]:\n",
    "    print(n)\n",
    "    if month == 12 and day > 23:\n",
    "        break\n",
    "    n += 1\n",
    "print(zodiac[n])"
   ]
  },
  {
   "cell_type": "code",
   "execution_count": 7,
   "metadata": {},
   "outputs": [
    {
     "data": {
      "text/plain": [
       "dict"
      ]
     },
     "execution_count": 7,
     "metadata": {},
     "output_type": "execute_result"
    }
   ],
   "source": [
    "dict1 = {}\n",
    "type(dict1)"
   ]
  },
  {
   "cell_type": "code",
   "execution_count": 12,
   "metadata": {},
   "outputs": [
    {
     "data": {
      "text/plain": [
       "dict"
      ]
     },
     "execution_count": 12,
     "metadata": {},
     "output_type": "execute_result"
    }
   ],
   "source": [
    "dict2 = {}\n",
    "type(dict2)"
   ]
  },
  {
   "cell_type": "code",
   "execution_count": 10,
   "metadata": {},
   "outputs": [
    {
     "data": {
      "text/plain": [
       "set()"
      ]
     },
     "execution_count": 10,
     "metadata": {},
     "output_type": "execute_result"
    }
   ],
   "source": [
    "set1 = set()\n",
    "set1"
   ]
  },
  {
   "cell_type": "code",
   "execution_count": 11,
   "metadata": {},
   "outputs": [
    {
     "data": {
      "text/plain": [
       "set"
      ]
     },
     "execution_count": 11,
     "metadata": {},
     "output_type": "execute_result"
    }
   ],
   "source": [
    "type(set1)"
   ]
  },
  {
   "cell_type": "code",
   "execution_count": 13,
   "metadata": {},
   "outputs": [
    {
     "name": "stdout",
     "output_type": "stream",
     "text": [
      "It's a test file.\n"
     ]
    }
   ],
   "source": [
    "with open('test.txt', 'r') as f:\n",
    "    print(f.read())"
   ]
  },
  {
   "cell_type": "code",
   "execution_count": 25,
   "metadata": {},
   "outputs": [
    {
     "name": "stdout",
     "output_type": "stream",
     "text": [
      "True\n",
      "rewrite file\n",
      "12\n",
      "[]\n",
      "0\n",
      "['rewrite file']\n"
     ]
    }
   ],
   "source": [
    "with open('test.txt', 'w+') as f:\n",
    "    f.write('rewrite file')\n",
    "with open('test.txt', 'r') as f:\n",
    "    print(f.readable())\n",
    "    print(f.readline())\n",
    "    # 已读完游标到文件尾部 所以什么也没有\n",
    "    print(f.tell())\n",
    "    print(f.readlines())\n",
    "    # 将游标置于文件首部 再次读取\n",
    "    f.seek(0)\n",
    "    print(f.tell())\n",
    "    print(f.readlines())"
   ]
  },
  {
   "cell_type": "code",
   "execution_count": 26,
   "metadata": {},
   "outputs": [
    {
     "name": "stdout",
     "output_type": "stream",
     "text": [
      "division by zero\n"
     ]
    }
   ],
   "source": [
    "try:\n",
    "    1/0\n",
    "except Exception as e:\n",
    "    print(e)"
   ]
  },
  {
   "cell_type": "code",
   "execution_count": 28,
   "metadata": {},
   "outputs": [
    {
     "data": {
      "text/plain": [
       "<list_iterator at 0x10ec1b908>"
      ]
     },
     "execution_count": 28,
     "metadata": {},
     "output_type": "execute_result"
    }
   ],
   "source": [
    "list1 = [1, 2, 3]\n",
    "it = iter(list1)\n",
    "it"
   ]
  },
  {
   "cell_type": "code",
   "execution_count": 29,
   "metadata": {},
   "outputs": [
    {
     "data": {
      "text/plain": [
       "1"
      ]
     },
     "execution_count": 29,
     "metadata": {},
     "output_type": "execute_result"
    }
   ],
   "source": [
    "next(it)"
   ]
  },
  {
   "cell_type": "code",
   "execution_count": 33,
   "metadata": {},
   "outputs": [
    {
     "data": {
      "text/plain": [
       "list_iterator"
      ]
     },
     "execution_count": 33,
     "metadata": {},
     "output_type": "execute_result"
    }
   ],
   "source": [
    "type(it)"
   ]
  },
  {
   "cell_type": "code",
   "execution_count": 43,
   "metadata": {},
   "outputs": [],
   "source": [
    "def myrange(start, end, step):\n",
    "    x = start\n",
    "    while x < end:\n",
    "        yield x\n",
    "        x += step"
   ]
  },
  {
   "cell_type": "code",
   "execution_count": 44,
   "metadata": {},
   "outputs": [
    {
     "data": {
      "text/plain": [
       "function"
      ]
     },
     "execution_count": 44,
     "metadata": {},
     "output_type": "execute_result"
    }
   ],
   "source": [
    "type(myrange)"
   ]
  },
  {
   "cell_type": "code",
   "execution_count": 47,
   "metadata": {},
   "outputs": [
    {
     "data": {
      "text/plain": [
       "generator"
      ]
     },
     "execution_count": 47,
     "metadata": {},
     "output_type": "execute_result"
    }
   ],
   "source": [
    "r = myrange(0, 1, 0.5)\n",
    "type(r)"
   ]
  },
  {
   "cell_type": "code",
   "execution_count": 45,
   "metadata": {},
   "outputs": [
    {
     "name": "stdout",
     "output_type": "stream",
     "text": [
      "0\n",
      "0.5\n",
      "1.0\n",
      "1.5\n",
      "2.0\n",
      "2.5\n",
      "3.0\n",
      "3.5\n",
      "4.0\n",
      "4.5\n",
      "5.0\n",
      "5.5\n",
      "6.0\n",
      "6.5\n",
      "7.0\n",
      "7.5\n",
      "8.0\n",
      "8.5\n",
      "9.0\n",
      "9.5\n"
     ]
    }
   ],
   "source": [
    "for i in myrange(0, 10, 0.5):\n",
    "    print(i)"
   ]
  },
  {
   "cell_type": "code",
   "execution_count": 50,
   "metadata": {},
   "outputs": [
    {
     "data": {
      "text/plain": [
       "range"
      ]
     },
     "execution_count": 50,
     "metadata": {},
     "output_type": "execute_result"
    }
   ],
   "source": [
    "r = range(10)\n",
    "type(r)"
   ]
  },
  {
   "cell_type": "code",
   "execution_count": 51,
   "metadata": {},
   "outputs": [
    {
     "name": "stdout",
     "output_type": "stream",
     "text": [
      "['rewrite', 'file', 'one', 'two']\n"
     ]
    }
   ],
   "source": [
    "with open('test.txt', 'r') as f:\n",
    "    list_text = []\n",
    "    for row in f:\n",
    "        list_text.extend(row.strip().split())\n",
    "print(list_text)"
   ]
  },
  {
   "cell_type": "code",
   "execution_count": 52,
   "metadata": {},
   "outputs": [
    {
     "data": {
      "text/plain": [
       "<function __main__.<lambda>()>"
      ]
     },
     "execution_count": 52,
     "metadata": {},
     "output_type": "execute_result"
    }
   ],
   "source": [
    "lambda :True"
   ]
  },
  {
   "cell_type": "code",
   "execution_count": 56,
   "metadata": {},
   "outputs": [
    {
     "data": {
      "text/plain": [
       "<function __main__.<lambda>(x, y)>"
      ]
     },
     "execution_count": 56,
     "metadata": {},
     "output_type": "execute_result"
    }
   ],
   "source": [
    "func = lambda x, y: x + y\n",
    "func"
   ]
  },
  {
   "cell_type": "code",
   "execution_count": 54,
   "metadata": {},
   "outputs": [
    {
     "data": {
      "text/plain": [
       "function"
      ]
     },
     "execution_count": 54,
     "metadata": {},
     "output_type": "execute_result"
    }
   ],
   "source": [
    "type(func)"
   ]
  },
  {
   "cell_type": "code",
   "execution_count": 55,
   "metadata": {},
   "outputs": [
    {
     "data": {
      "text/plain": [
       "100"
      ]
     },
     "execution_count": 55,
     "metadata": {},
     "output_type": "execute_result"
    }
   ],
   "source": [
    "func(1, 99)"
   ]
  },
  {
   "cell_type": "code",
   "execution_count": 57,
   "metadata": {},
   "outputs": [
    {
     "data": {
      "text/plain": [
       "[3, 4, 5]"
      ]
     },
     "execution_count": 57,
     "metadata": {},
     "output_type": "execute_result"
    }
   ],
   "source": [
    "a = [1, 2, 3, 4, 5]\n",
    "list(filter(lambda x: x > 2, a))"
   ]
  },
  {
   "cell_type": "code",
   "execution_count": 58,
   "metadata": {},
   "outputs": [
    {
     "data": {
      "text/plain": [
       "[11, 12, 13, 14, 15]"
      ]
     },
     "execution_count": 58,
     "metadata": {},
     "output_type": "execute_result"
    }
   ],
   "source": [
    "list(map(lambda x: x + 10, a))"
   ]
  },
  {
   "cell_type": "code",
   "execution_count": 59,
   "metadata": {},
   "outputs": [
    {
     "data": {
      "text/plain": [
       "15"
      ]
     },
     "execution_count": 59,
     "metadata": {},
     "output_type": "execute_result"
    }
   ],
   "source": [
    "from functools import reduce\n",
    "reduce(lambda x, y: x + y, a)"
   ]
  },
  {
   "cell_type": "code",
   "execution_count": 61,
   "metadata": {},
   "outputs": [
    {
     "data": {
      "text/plain": [
       "[(1, 4), (2, 5), (3, 6)]"
      ]
     },
     "execution_count": 61,
     "metadata": {},
     "output_type": "execute_result"
    }
   ],
   "source": [
    "list(zip((1,2,3), (4,5,6)))"
   ]
  },
  {
   "cell_type": "code",
   "execution_count": 62,
   "metadata": {},
   "outputs": [
    {
     "data": {
      "text/plain": [
       "{1: 'haha', 2: 'hehe'}"
      ]
     },
     "execution_count": 62,
     "metadata": {},
     "output_type": "execute_result"
    }
   ],
   "source": [
    "d = {1:'haha', 2:'hehe'}\n",
    "d"
   ]
  },
  {
   "cell_type": "code",
   "execution_count": 63,
   "metadata": {},
   "outputs": [
    {
     "data": {
      "text/plain": [
       "{'haha': 1, 'hehe': 2}"
      ]
     },
     "execution_count": 63,
     "metadata": {},
     "output_type": "execute_result"
    }
   ],
   "source": [
    "dict(zip(d.values(), d.keys()))"
   ]
  },
  {
   "cell_type": "code",
   "execution_count": 67,
   "metadata": {},
   "outputs": [
    {
     "name": "stdout",
     "output_type": "stream",
     "text": [
      "1\n",
      "2\n",
      "3\n",
      "4\n",
      "5\n"
     ]
    }
   ],
   "source": [
    "def counter():\n",
    "    cnt = [0]\n",
    "    def add_one():\n",
    "        cnt[0] += 1\n",
    "        return cnt[0]\n",
    "    return add_one\n",
    "\n",
    "num1 = counter()\n",
    "print(num1())\n",
    "print(num1())\n",
    "print(num1())\n",
    "print(num1())\n",
    "print(num1())"
   ]
  },
  {
   "cell_type": "code",
   "execution_count": 68,
   "metadata": {},
   "outputs": [
    {
     "data": {
      "text/plain": [
       "35"
      ]
     },
     "execution_count": 68,
     "metadata": {},
     "output_type": "execute_result"
    }
   ],
   "source": [
    "def a_line(a, b):\n",
    "    def arg_y(x):\n",
    "        return a * x + b\n",
    "    return arg_y\n",
    "\n",
    "line1 = a_line(3, 5)\n",
    "line1(10)"
   ]
  },
  {
   "cell_type": "code",
   "execution_count": 70,
   "metadata": {},
   "outputs": [
    {
     "data": {
      "text/plain": [
       "65"
      ]
     },
     "execution_count": 70,
     "metadata": {},
     "output_type": "execute_result"
    }
   ],
   "source": [
    "line1(20)"
   ]
  },
  {
   "cell_type": "code",
   "execution_count": 71,
   "metadata": {},
   "outputs": [
    {
     "name": "stdout",
     "output_type": "stream",
     "text": [
      "运行时间：3.0003292560577393秒\n"
     ]
    }
   ],
   "source": [
    "# 装饰器\n",
    "import time\n",
    "def timer(func):\n",
    "    def wrapper():\n",
    "        start = time.time()\n",
    "        func()\n",
    "        end = time.time()\n",
    "        print('运行时间：{}秒'.format(end-start))\n",
    "    return wrapper\n",
    "\n",
    "@timer\n",
    "def i_can_sleep():\n",
    "    time.sleep(3)\n",
    "    \n",
    "i_can_sleep()"
   ]
  },
  {
   "cell_type": "code",
   "execution_count": 72,
   "metadata": {},
   "outputs": [
    {
     "name": "stdout",
     "output_type": "stream",
     "text": [
      "start\n",
      "3\n",
      "end\n"
     ]
    }
   ],
   "source": [
    "def tips(func):\n",
    "    def wrapper(a, b):\n",
    "        print('start')\n",
    "        func(a, b)\n",
    "        print('end')\n",
    "    return wrapper\n",
    "\n",
    "@tips\n",
    "def add(a, b):\n",
    "    print(a + b)\n",
    "    \n",
    "add(1, 2)"
   ]
  },
  {
   "cell_type": "code",
   "execution_count": 78,
   "metadata": {},
   "outputs": [
    {
     "name": "stdout",
     "output_type": "stream",
     "text": [
      "start add add_module\n",
      "3\n",
      "end\n",
      "start sub sub_module\n",
      "2\n",
      "end\n"
     ]
    }
   ],
   "source": [
    "def new_tips(argv):\n",
    "    def tips(func):\n",
    "        def wrapper(a, b):\n",
    "            print('start {} {}'.format(func.__name__, argv))\n",
    "            func(a, b)\n",
    "            print('end')\n",
    "        return wrapper\n",
    "    return tips\n",
    "\n",
    "@new_tips('add_module')\n",
    "def add(a, b):\n",
    "    print(a + b)\n",
    "    \n",
    "    \n",
    "@new_tips('sub_module')\n",
    "def sub(a, b):\n",
    "    print(a - b)\n",
    "    \n",
    "add(1, 2)\n",
    "sub(3, 1)"
   ]
  },
  {
   "cell_type": "code",
   "execution_count": 79,
   "metadata": {},
   "outputs": [
    {
     "name": "stdout",
     "output_type": "stream",
     "text": [
      "start add add_module\n",
      "101\n",
      "end\n"
     ]
    }
   ],
   "source": [
    "a = add(100, 1)\n",
    "a"
   ]
  },
  {
   "cell_type": "code",
   "execution_count": 81,
   "metadata": {},
   "outputs": [
    {
     "data": {
      "text/plain": [
       "'wrapper'"
      ]
     },
     "execution_count": 81,
     "metadata": {},
     "output_type": "execute_result"
    }
   ],
   "source": [
    "add.__name__"
   ]
  },
  {
   "cell_type": "code",
   "execution_count": 84,
   "metadata": {},
   "outputs": [],
   "source": [
    "from functools import wraps\n",
    "\n",
    "def new_tips(argv):\n",
    "    def tips(func):\n",
    "        @wraps(func)\n",
    "        def wrapper(*args, **kwargs):\n",
    "            print('start {} {}'.format(func.__name__, argv))\n",
    "            func(*args, **kwargs)\n",
    "            print('end')\n",
    "        return wrapper\n",
    "    return tips\n",
    "\n",
    "@new_tips('add_module')\n",
    "def add(a, b):\n",
    "    print(a + b)"
   ]
  },
  {
   "cell_type": "code",
   "execution_count": 85,
   "metadata": {},
   "outputs": [
    {
     "data": {
      "text/plain": [
       "'add'"
      ]
     },
     "execution_count": 85,
     "metadata": {},
     "output_type": "execute_result"
    }
   ],
   "source": [
    "add.__name__"
   ]
  },
  {
   "cell_type": "code",
   "execution_count": 4,
   "metadata": {},
   "outputs": [
    {
     "name": "stdout",
     "output_type": "stream",
     "text": [
      "tom:100\n",
      "jerry:999\n",
      "R.M.B:100\n"
     ]
    }
   ],
   "source": [
    "class Player:\n",
    "    '''玩家类'''\n",
    "    def __init__(self, name, hp, occu):\n",
    "        self.__name = name\n",
    "        self.hp = hp\n",
    "        self.occu = occu\n",
    "        \n",
    "    def print_player_info(self):\n",
    "        print('{}:{}'.format(self.__name, self.hp))\n",
    "        \n",
    "    def update_name(self, name):\n",
    "        self.__name = name\n",
    "        \n",
    "tom = Player('tom', 100, 'war')\n",
    "jerry = Player('jerry', 999, 'monster')\n",
    "\n",
    "tom.print_player_info()\n",
    "jerry.print_player_info()\n",
    "\n",
    "tom.update_name('R.M.B')\n",
    "tom.print_player_info()"
   ]
  },
  {
   "cell_type": "code",
   "execution_count": 33,
   "metadata": {},
   "outputs": [],
   "source": [
    "class Monster:\n",
    "    '''怪物类'''\n",
    "    def __init__(self, hp):\n",
    "        self.hp = hp\n",
    "        \n",
    "    def run(self):\n",
    "        print('移动到某个位置')\n",
    "        \n",
    "    def whoami(self):\n",
    "        print('我是怪物')\n",
    "\n",
    "\n",
    "class Animals(Monster):\n",
    "    '''普通怪物'''\n",
    "    pass\n",
    "#     def __init__(self, hp=10):\n",
    "#         super().__init__(hp)\n",
    "    \n",
    "    \n",
    "class Boss(Monster):\n",
    "    '''Boss'''\n",
    "    def whoami(self):\n",
    "        print('我是Boss 我怕谁')"
   ]
  },
  {
   "cell_type": "code",
   "execution_count": 34,
   "metadata": {},
   "outputs": [
    {
     "name": "stdout",
     "output_type": "stream",
     "text": [
      "200\n",
      "移动到某个位置\n"
     ]
    }
   ],
   "source": [
    "a1 = Monster(200)\n",
    "print(a1.hp)\n",
    "a1.run()"
   ]
  },
  {
   "cell_type": "code",
   "execution_count": 35,
   "metadata": {},
   "outputs": [
    {
     "name": "stdout",
     "output_type": "stream",
     "text": [
      "1\n",
      "移动到某个位置\n"
     ]
    }
   ],
   "source": [
    "a2 = Animals(1)\n",
    "print(a2.hp)\n",
    "a2.run()"
   ]
  },
  {
   "cell_type": "code",
   "execution_count": 36,
   "metadata": {},
   "outputs": [
    {
     "name": "stdout",
     "output_type": "stream",
     "text": [
      "我是Boss 我怕谁\n"
     ]
    }
   ],
   "source": [
    "a3 = Boss(8888)\n",
    "a3.whoami()"
   ]
  },
  {
   "cell_type": "code",
   "execution_count": 37,
   "metadata": {},
   "outputs": [
    {
     "data": {
      "text/plain": [
       "True"
      ]
     },
     "execution_count": 37,
     "metadata": {},
     "output_type": "execute_result"
    }
   ],
   "source": [
    "isinstance(a3, Monster)"
   ]
  },
  {
   "cell_type": "code",
   "execution_count": 38,
   "metadata": {},
   "outputs": [
    {
     "data": {
      "text/plain": [
       "True"
      ]
     },
     "execution_count": 38,
     "metadata": {},
     "output_type": "execute_result"
    }
   ],
   "source": [
    "isinstance(a2, Animals)"
   ]
  },
  {
   "cell_type": "code",
   "execution_count": 39,
   "metadata": {},
   "outputs": [
    {
     "data": {
      "text/plain": [
       "True"
      ]
     },
     "execution_count": 39,
     "metadata": {},
     "output_type": "execute_result"
    }
   ],
   "source": [
    "isinstance(a1, Monster)"
   ]
  },
  {
   "cell_type": "code",
   "execution_count": 40,
   "metadata": {},
   "outputs": [
    {
     "data": {
      "text/plain": [
       "False"
      ]
     },
     "execution_count": 40,
     "metadata": {},
     "output_type": "execute_result"
    }
   ],
   "source": [
    "isinstance(a1, Animals)"
   ]
  },
  {
   "cell_type": "code",
   "execution_count": 51,
   "metadata": {},
   "outputs": [
    {
     "name": "stdout",
     "output_type": "stream",
     "text": [
      "run\n",
      "Test is running\n",
      "no error\n"
     ]
    }
   ],
   "source": [
    "# 自定义with语句\n",
    "class Testwith():\n",
    "    def __enter__(self):\n",
    "        print('run')\n",
    "        \n",
    "    def __exit__(self, exc_type, exc_val, exc_tb):\n",
    "        if exc_tb is None:\n",
    "            print('no error')\n",
    "        else:\n",
    "            print('has error %s'% exc_tb)\n",
    "        \n",
    "with Testwith():\n",
    "    print('Test is running')"
   ]
  },
  {
   "cell_type": "code",
   "execution_count": 52,
   "metadata": {},
   "outputs": [
    {
     "name": "stdout",
     "output_type": "stream",
     "text": [
      "run\n",
      "Test is running\n",
      "has error <traceback object at 0x10e58aa08>\n"
     ]
    },
    {
     "ename": "NameError",
     "evalue": "testNameError",
     "output_type": "error",
     "traceback": [
      "\u001b[0;31m---------------------------------------------------------------------------\u001b[0m",
      "\u001b[0;31mNameError\u001b[0m                                 Traceback (most recent call last)",
      "\u001b[0;32m<ipython-input-52-935fc9a0dcb6>\u001b[0m in \u001b[0;36m<module>\u001b[0;34m\u001b[0m\n\u001b[1;32m      1\u001b[0m \u001b[0;32mwith\u001b[0m \u001b[0mTestwith\u001b[0m\u001b[0;34m(\u001b[0m\u001b[0;34m)\u001b[0m\u001b[0;34m:\u001b[0m\u001b[0;34m\u001b[0m\u001b[0;34m\u001b[0m\u001b[0m\n\u001b[1;32m      2\u001b[0m     \u001b[0mprint\u001b[0m\u001b[0;34m(\u001b[0m\u001b[0;34m'Test is running'\u001b[0m\u001b[0;34m)\u001b[0m\u001b[0;34m\u001b[0m\u001b[0;34m\u001b[0m\u001b[0m\n\u001b[0;32m----> 3\u001b[0;31m     \u001b[0;32mraise\u001b[0m \u001b[0mNameError\u001b[0m\u001b[0;34m(\u001b[0m\u001b[0;34m'testNameError'\u001b[0m\u001b[0;34m)\u001b[0m\u001b[0;34m\u001b[0m\u001b[0;34m\u001b[0m\u001b[0m\n\u001b[0m",
      "\u001b[0;31mNameError\u001b[0m: testNameError"
     ]
    }
   ],
   "source": [
    "with Testwith():\n",
    "    print('Test is running')\n",
    "    raise NameError('testNameError')"
   ]
  },
  {
   "cell_type": "code",
   "execution_count": 70,
   "metadata": {},
   "outputs": [
    {
     "name": "stdout",
     "output_type": "stream",
     "text": [
      "Thread-80 Thread-81start!\n",
      "Thread-82 1, 2\n",
      "start!Thread-83\n",
      "2, 3Thread-84MainThread  start!\n",
      "4, 5\n",
      "\n",
      " start!\n",
      "3, 4\n",
      " start!\n",
      "5, 6\n",
      "end\n"
     ]
    }
   ],
   "source": [
    "import threading\n",
    "\n",
    "# 多线程\n",
    "def my_thread(arg1, arg2):\n",
    "    print(threading.current_thread().getName(), 'start!')\n",
    "    print('%s, %s' % (arg1, arg2))\n",
    "    \n",
    "for i in range(1, 6):\n",
    "    t1 = threading.Thread(target=my_thread, args=(i, i+1))\n",
    "    t1.start()\n",
    "    \n",
    "print(threading.current_thread().getName(), 'end')"
   ]
  },
  {
   "cell_type": "code",
   "execution_count": 75,
   "metadata": {},
   "outputs": [
    {
     "name": "stdout",
     "output_type": "stream",
     "text": [
      "Thread-101 start!\n",
      "1, 2\n",
      "Thread-102 start!\n",
      "2, 3\n",
      "Thread-103 start!\n",
      "3, 4\n",
      "Thread-104 start!\n",
      "4, 5\n",
      "Thread-105 start!\n",
      "5, 6\n",
      "MainThread end\n"
     ]
    }
   ],
   "source": [
    "for i in range(1, 6):\n",
    "    t1 = threading.Thread(target=my_thread, args=(i, i+1))\n",
    "    t1.start()\n",
    "    # MainThread最后执行\n",
    "    t1.join()\n",
    "    \n",
    "print(threading.current_thread().getName(), 'end')"
   ]
  },
  {
   "cell_type": "code",
   "execution_count": 74,
   "metadata": {},
   "outputs": [
    {
     "name": "stdout",
     "output_type": "stream",
     "text": [
      "Thread-100 start\n",
      "run\n",
      "Thread-100 end\n"
     ]
    }
   ],
   "source": [
    "class MyThread(threading.Thread):\n",
    "    def run(self):\n",
    "        print(threading.current_thread().getName(), 'start')\n",
    "        print('run')\n",
    "        print(threading.current_thread().getName(), 'end')\n",
    "\n",
    "\n",
    "t1 = MyThread()\n",
    "t1.start()"
   ]
  },
  {
   "cell_type": "code",
   "execution_count": 77,
   "metadata": {},
   "outputs": [
    {
     "data": {
      "text/plain": [
       "1"
      ]
     },
     "execution_count": 77,
     "metadata": {},
     "output_type": "execute_result"
    }
   ],
   "source": [
    "import queue\n",
    "\n",
    "q = queue.Queue()\n",
    "q.put(1)\n",
    "q.put(2)\n",
    "q.put(3)\n",
    "q.get()"
   ]
  },
  {
   "cell_type": "code",
   "execution_count": 78,
   "metadata": {},
   "outputs": [
    {
     "data": {
      "text/plain": [
       "2"
      ]
     },
     "execution_count": 78,
     "metadata": {},
     "output_type": "execute_result"
    }
   ],
   "source": [
    "q.get()"
   ]
  },
  {
   "cell_type": "code",
   "execution_count": 1,
   "metadata": {},
   "outputs": [],
   "source": [
    "# 生产者与消费者\n",
    "from threading import Thread, current_thread\n",
    "from queue import Queue\n",
    "import random\n",
    "import time\n",
    "\n",
    "queue = Queue(5)\n",
    "\n",
    "class ProducterThread(Thread):\n",
    "    '''生产者'''\n",
    "    def run(self):\n",
    "        name = current_thread().getName()\n",
    "        nums = range(100)\n",
    "        global queue\n",
    "        while True:\n",
    "            num = random.choice(nums)\n",
    "            queue.put(num)\n",
    "            print('生产者{} 生产了数据{}'.format(name, num))\n",
    "            t = random.randint(1, 3)\n",
    "            time.sleep(t)\n",
    "            print('生产者{} 睡眠了{} 秒'.format(name, t))\n",
    "            \n",
    "            \n",
    "class CustomerThread(Thread):\n",
    "    '''消费者'''\n",
    "    def run(self):\n",
    "        name = current_thread().getName()\n",
    "        global queue\n",
    "        while True:\n",
    "            num = queue.get()\n",
    "            queue.task_done()\n",
    "            print('消费者{} 消费了数据{}'.format(name, num))\n",
    "            t = random.randint(1, 5)\n",
    "            time.sleep(t)\n",
    "            print('消费者{} 睡眠了{} 秒'.format(name, t))\n",
    "        "
   ]
  },
  {
   "cell_type": "code",
   "execution_count": 2,
   "metadata": {},
   "outputs": [
    {
     "name": "stdout",
     "output_type": "stream",
     "text": [
      "生产者Thread-4 生产了数据17\n",
      "消费者Thread-5 消费了数据17\n",
      "生产者Thread-4 睡眠了3 秒\n",
      "生产者Thread-4 生产了数据62\n",
      "消费者Thread-5 睡眠了4 秒\n",
      "消费者Thread-5 消费了数据62\n",
      "生产者Thread-4 睡眠了2 秒\n",
      "生产者Thread-4 生产了数据4\n",
      "生产者Thread-4 睡眠了1 秒\n",
      "生产者Thread-4 生产了数据74\n",
      "消费者Thread-5 睡眠了5 秒\n",
      "消费者Thread-5 消费了数据4\n",
      "生产者Thread-4 睡眠了3 秒\n",
      "生产者Thread-4 生产了数据45\n",
      "消费者Thread-5 睡眠了1 秒\n",
      "消费者Thread-5 消费了数据74\n",
      "生产者Thread-4 睡眠了3 秒\n",
      "生产者Thread-4 生产了数据39\n",
      "消费者Thread-5 睡眠了2 秒\n",
      "消费者Thread-5 消费了数据45\n",
      "生产者Thread-4 睡眠了2 秒\n",
      "生产者Thread-4 生产了数据14\n",
      "消费者Thread-5 睡眠了4 秒\n",
      "消费者Thread-5 消费了数据39\n",
      "生产者Thread-4 睡眠了3 秒\n",
      "生产者Thread-4 生产了数据0\n",
      "消费者Thread-5 睡眠了2 秒生产者Thread-4 睡眠了1 秒\n",
      "生产者Thread-4 生产了数据55\n",
      "\n",
      "消费者Thread-5 消费了数据14\n",
      "生产者Thread-4 睡眠了3 秒\n",
      "生产者Thread-4 生产了数据81\n",
      "生产者Thread-4 睡眠了1 秒\n",
      "生产者Thread-4 生产了数据80\n",
      "消费者Thread-5 睡眠了5 秒\n",
      "消费者Thread-5 消费了数据0\n",
      "生产者Thread-4 睡眠了2 秒\n",
      "生产者Thread-4 生产了数据58\n",
      "消费者Thread-5 睡眠了2 秒\n",
      "消费者Thread-5 消费了数据55\n",
      "生产者Thread-4 睡眠了3 秒\n",
      "生产者Thread-4 生产了数据53\n",
      "消费者Thread-5 睡眠了4 秒\n",
      "消费者Thread-5 消费了数据81\n",
      "消费者Thread-5 睡眠了1 秒\n",
      "消费者Thread-5 消费了数据80\n",
      "生产者Thread-4 睡眠了3 秒\n",
      "生产者Thread-4 生产了数据23\n",
      "消费者Thread-5 睡眠了2 秒\n",
      "消费者Thread-5 消费了数据58\n",
      "生产者Thread-4 睡眠了3 秒\n",
      "生产者Thread-4 生产了数据76\n",
      "消费者Thread-5 睡眠了3 秒\n",
      "消费者Thread-5 消费了数据53\n",
      "生产者Thread-4 睡眠了2 秒\n",
      "生产者Thread-4 生产了数据21\n",
      "生产者Thread-4 睡眠了1 秒\n",
      "生产者Thread-4 生产了数据37\n",
      "消费者Thread-5 睡眠了3 秒\n",
      "消费者Thread-5 消费了数据23\n",
      "生产者Thread-4 睡眠了3 秒\n",
      "生产者Thread-4 生产了数据54\n",
      "生产者Thread-4 睡眠了2 秒\n",
      "生产者Thread-4 生产了数据94\n",
      "消费者Thread-5 睡眠了5 秒\n",
      "消费者Thread-5 消费了数据76\n",
      "生产者Thread-4 睡眠了2 秒\n",
      "生产者Thread-4 生产了数据27\n",
      "消费者Thread-5 睡眠了2 秒\n",
      "消费者Thread-5 消费了数据21\n",
      "生产者Thread-4 睡眠了3 秒\n",
      "生产者Thread-4 生产了数据82\n",
      "生产者Thread-4 睡眠了3 秒\n",
      "消费者Thread-5 睡眠了5 秒\n",
      "消费者Thread-5 消费了数据37\n",
      "生产者Thread-4 生产了数据89\n"
     ]
    }
   ],
   "source": [
    "producter = ProducterThread()\n",
    "producter.start()\n",
    "customer = CustomerThread()\n",
    "customer.start()"
   ]
  },
  {
   "cell_type": "code",
   "execution_count": 1,
   "metadata": {},
   "outputs": [
    {
     "data": {
      "text/plain": [
       "<_sre.SRE_Match object; span=(0, 10), match='2018-08-08'>"
      ]
     },
     "execution_count": 1,
     "metadata": {},
     "output_type": "execute_result"
    }
   ],
   "source": [
    "# python标准库\n",
    "# re\n",
    "import re\n",
    "s = '2018-08-08'\n",
    "regex = re.compile(r'(\\d+)-(\\d+)-(\\d+)')\n",
    "# match从头匹配\n",
    "res = regex.match(s)\n",
    "res"
   ]
  },
  {
   "cell_type": "code",
   "execution_count": 2,
   "metadata": {},
   "outputs": [
    {
     "data": {
      "text/plain": [
       "'2018-08-08'"
      ]
     },
     "execution_count": 2,
     "metadata": {},
     "output_type": "execute_result"
    }
   ],
   "source": [
    "res.group()"
   ]
  },
  {
   "cell_type": "code",
   "execution_count": 3,
   "metadata": {},
   "outputs": [
    {
     "data": {
      "text/plain": [
       "('2018', '08', '08')"
      ]
     },
     "execution_count": 3,
     "metadata": {},
     "output_type": "execute_result"
    }
   ],
   "source": [
    "res.groups()"
   ]
  },
  {
   "cell_type": "code",
   "execution_count": 5,
   "metadata": {},
   "outputs": [
    {
     "data": {
      "text/plain": [
       "tuple"
      ]
     },
     "execution_count": 5,
     "metadata": {},
     "output_type": "execute_result"
    }
   ],
   "source": [
    "type(res.groups())"
   ]
  },
  {
   "cell_type": "code",
   "execution_count": 6,
   "metadata": {},
   "outputs": [
    {
     "name": "stdout",
     "output_type": "stream",
     "text": [
      "2018 08 08\n"
     ]
    }
   ],
   "source": [
    "year, month, day = res.groups()\n",
    "print(year, month, day)"
   ]
  },
  {
   "cell_type": "code",
   "execution_count": 7,
   "metadata": {},
   "outputs": [
    {
     "data": {
      "text/plain": [
       "'2018'"
      ]
     },
     "execution_count": 7,
     "metadata": {},
     "output_type": "execute_result"
    }
   ],
   "source": [
    "res.group(1)"
   ]
  },
  {
   "cell_type": "code",
   "execution_count": 8,
   "metadata": {},
   "outputs": [
    {
     "data": {
      "text/plain": [
       "str"
      ]
     },
     "execution_count": 8,
     "metadata": {},
     "output_type": "execute_result"
    }
   ],
   "source": [
    "type(res.group(1))"
   ]
  },
  {
   "cell_type": "code",
   "execution_count": 13,
   "metadata": {},
   "outputs": [
    {
     "data": {
      "text/plain": [
       "<_sre.SRE_Match object; span=(3, 13), match='2018-08-08'>"
      ]
     },
     "execution_count": 13,
     "metadata": {},
     "output_type": "execute_result"
    }
   ],
   "source": [
    "# search搜索\n",
    "s = 'aaa2018-08-08bbb'\n",
    "res = regex.search(s)\n",
    "res"
   ]
  },
  {
   "cell_type": "code",
   "execution_count": 14,
   "metadata": {},
   "outputs": [
    {
     "data": {
      "text/plain": [
       "('2018', '08', '08')"
      ]
     },
     "execution_count": 14,
     "metadata": {},
     "output_type": "execute_result"
    }
   ],
   "source": [
    "res.groups()"
   ]
  },
  {
   "cell_type": "code",
   "execution_count": 16,
   "metadata": {},
   "outputs": [
    {
     "data": {
      "text/plain": [
       "'aaa我是替换后的字符串bbb'"
      ]
     },
     "execution_count": 16,
     "metadata": {},
     "output_type": "execute_result"
    }
   ],
   "source": [
    "# sub替换字符串\n",
    "res = regex.sub('我是替换后的字符串', s)\n",
    "res"
   ]
  },
  {
   "cell_type": "code",
   "execution_count": 17,
   "metadata": {},
   "outputs": [
    {
     "name": "stdout",
     "output_type": "stream",
     "text": [
      "1567736509.184439\n"
     ]
    }
   ],
   "source": [
    "# 时间\n",
    "import time\n",
    "print(time.time())"
   ]
  },
  {
   "cell_type": "code",
   "execution_count": 18,
   "metadata": {},
   "outputs": [
    {
     "data": {
      "text/plain": [
       "time.struct_time(tm_year=2019, tm_mon=9, tm_mday=6, tm_hour=10, tm_min=21, tm_sec=56, tm_wday=4, tm_yday=249, tm_isdst=0)"
      ]
     },
     "execution_count": 18,
     "metadata": {},
     "output_type": "execute_result"
    }
   ],
   "source": [
    "time.localtime()"
   ]
  },
  {
   "cell_type": "code",
   "execution_count": 25,
   "metadata": {},
   "outputs": [
    {
     "data": {
      "text/plain": [
       "'2019-09-06 10:24:56'"
      ]
     },
     "execution_count": 25,
     "metadata": {},
     "output_type": "execute_result"
    }
   ],
   "source": [
    "time.strftime('%Y-%m-%d %H:%M:%S')"
   ]
  },
  {
   "cell_type": "code",
   "execution_count": 24,
   "metadata": {},
   "outputs": [
    {
     "data": {
      "text/plain": [
       "time.struct_time(tm_year=2008, tm_mon=8, tm_mday=8, tm_hour=12, tm_min=13, tm_sec=14, tm_wday=4, tm_yday=221, tm_isdst=-1)"
      ]
     },
     "execution_count": 24,
     "metadata": {},
     "output_type": "execute_result"
    }
   ],
   "source": [
    "time.strptime('2008-08-08 12:13:14', '%Y-%m-%d %H:%M:%S')"
   ]
  },
  {
   "cell_type": "code",
   "execution_count": 23,
   "metadata": {},
   "outputs": [],
   "source": [
    "time.strptime?"
   ]
  },
  {
   "cell_type": "code",
   "execution_count": 26,
   "metadata": {},
   "outputs": [
    {
     "data": {
      "text/plain": [
       "datetime.datetime(2019, 9, 6, 10, 25, 29, 638673)"
      ]
     },
     "execution_count": 26,
     "metadata": {},
     "output_type": "execute_result"
    }
   ],
   "source": [
    "# datetime一般用作时间加减计算\n",
    "import datetime\n",
    "datetime.datetime.now()"
   ]
  },
  {
   "cell_type": "code",
   "execution_count": 30,
   "metadata": {},
   "outputs": [
    {
     "name": "stdout",
     "output_type": "stream",
     "text": [
      "当前时间： 2019-09-06 10:28:01.182719\n",
      "10分钟后的时间： 2019-09-06 10:38:01.182977\n"
     ]
    }
   ],
   "source": [
    "# 计算10分钟后的时间\n",
    "print('当前时间：', datetime.datetime.now())\n",
    "new_time = datetime.timedelta(minutes=10)\n",
    "print('10分钟后的时间：', datetime.datetime.now() + new_time)"
   ]
  },
  {
   "cell_type": "code",
   "execution_count": 32,
   "metadata": {},
   "outputs": [
    {
     "name": "stdout",
     "output_type": "stream",
     "text": [
      "2\n",
      "4\n",
      "1\n",
      "5\n",
      "5\n",
      "4\n",
      "1\n",
      "3\n",
      "4\n",
      "3\n"
     ]
    }
   ],
   "source": [
    "# random随机数\n",
    "import random\n",
    "for i in range(10):\n",
    "    print(random.randint(1, 5))"
   ]
  },
  {
   "cell_type": "code",
   "execution_count": 34,
   "metadata": {},
   "outputs": [
    {
     "data": {
      "text/plain": [
       "'/Users/dk/Desktop/Git/Reading-notes/极客时间'"
      ]
     },
     "execution_count": 34,
     "metadata": {},
     "output_type": "execute_result"
    }
   ],
   "source": [
    "# 文件操作\n",
    "import os\n",
    "os.path.abspath('.')"
   ]
  },
  {
   "cell_type": "code",
   "execution_count": 35,
   "metadata": {},
   "outputs": [
    {
     "data": {
      "text/plain": [
       "True"
      ]
     },
     "execution_count": 35,
     "metadata": {},
     "output_type": "execute_result"
    }
   ],
   "source": [
    "os.path.exists('/Users')"
   ]
  },
  {
   "cell_type": "code",
   "execution_count": 37,
   "metadata": {},
   "outputs": [
    {
     "data": {
      "text/plain": [
       "True"
      ]
     },
     "execution_count": 37,
     "metadata": {},
     "output_type": "execute_result"
    }
   ],
   "source": [
    "os.path.isdir('/Users')"
   ]
  },
  {
   "cell_type": "code",
   "execution_count": 38,
   "metadata": {},
   "outputs": [
    {
     "data": {
      "text/plain": [
       "'/Users/a/b/c'"
      ]
     },
     "execution_count": 38,
     "metadata": {},
     "output_type": "execute_result"
    }
   ],
   "source": [
    "os.path.join('/Users', 'a/b/c')"
   ]
  },
  {
   "cell_type": "code",
   "execution_count": 49,
   "metadata": {},
   "outputs": [
    {
     "data": {
      "text/plain": [
       "['.keystone_install_lock',\n",
       " 'com.apple.launchd.3xGV7uEmSi',\n",
       " 'powerlog',\n",
       " 'com.apple.launchd.62Qy9cdUIc',\n",
       " 'android-dk',\n",
       " 'nemu-gles-vpipe',\n",
       " 'com.sogou.inputmethod',\n",
       " 'mongodb-27017.sock',\n",
       " '.nemu-dk-ipc',\n",
       " 'nemu-audio-vpipe']"
      ]
     },
     "execution_count": 49,
     "metadata": {},
     "output_type": "execute_result"
    }
   ],
   "source": [
    "os.listdir('/tmp')"
   ]
  },
  {
   "cell_type": "code",
   "execution_count": 43,
   "metadata": {},
   "outputs": [
    {
     "data": {
      "text/plain": [
       "PosixPath('/Users/dk/Desktop/Git/Reading-notes/极客时间')"
      ]
     },
     "execution_count": 43,
     "metadata": {},
     "output_type": "execute_result"
    }
   ],
   "source": [
    "from pathlib import Path\n",
    "p = Path('.')\n",
    "p.resolve()"
   ]
  },
  {
   "cell_type": "code",
   "execution_count": 45,
   "metadata": {},
   "outputs": [
    {
     "data": {
      "text/plain": [
       "True"
      ]
     },
     "execution_count": 45,
     "metadata": {},
     "output_type": "execute_result"
    }
   ],
   "source": [
    "p.is_dir()"
   ]
  },
  {
   "cell_type": "code",
   "execution_count": 51,
   "metadata": {},
   "outputs": [],
   "source": [
    "p1 = Path('/tmp/a/b/c')\n",
    "Path.mkdir(p1, parents=True)"
   ]
  },
  {
   "cell_type": "code",
   "execution_count": 52,
   "metadata": {},
   "outputs": [
    {
     "data": {
      "text/plain": [
       "['.keystone_install_lock',\n",
       " 'com.apple.launchd.3xGV7uEmSi',\n",
       " 'powerlog',\n",
       " 'com.apple.launchd.62Qy9cdUIc',\n",
       " 'android-dk',\n",
       " 'nemu-gles-vpipe',\n",
       " 'a',\n",
       " 'com.sogou.inputmethod',\n",
       " 'mongodb-27017.sock',\n",
       " '.nemu-dk-ipc',\n",
       " 'nemu-audio-vpipe']"
      ]
     },
     "execution_count": 52,
     "metadata": {},
     "output_type": "execute_result"
    }
   ],
   "source": [
    "os.listdir('/tmp')"
   ]
  },
  {
   "cell_type": "code",
   "execution_count": null,
   "metadata": {},
   "outputs": [],
   "source": []
  }
 ],
 "metadata": {
  "kernelspec": {
   "display_name": "Python 3",
   "language": "python",
   "name": "python3"
  },
  "language_info": {
   "codemirror_mode": {
    "name": "ipython",
    "version": 3
   },
   "file_extension": ".py",
   "mimetype": "text/x-python",
   "name": "python",
   "nbconvert_exporter": "python",
   "pygments_lexer": "ipython3",
   "version": "3.6.8"
  }
 },
 "nbformat": 4,
 "nbformat_minor": 2
}

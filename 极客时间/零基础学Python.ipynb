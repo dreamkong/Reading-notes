{
 "cells": [
  {
   "cell_type": "code",
   "execution_count": 1,
   "metadata": {},
   "outputs": [
    {
     "name": "stdout",
     "output_type": "stream",
     "text": [
      "3\n"
     ]
    }
   ],
   "source": [
    "chinese_zodiac = \"猴鸡狗猪鼠牛虎兔龙蛇马羊\"\n",
    "year = 2019\n",
    "print(year % 12)"
   ]
  },
  {
   "cell_type": "code",
   "execution_count": 2,
   "metadata": {},
   "outputs": [
    {
     "name": "stdout",
     "output_type": "stream",
     "text": [
      "猪\n"
     ]
    }
   ],
   "source": [
    "print(chinese_zodiac[year % 12])"
   ]
  },
  {
   "cell_type": "code",
   "execution_count": 4,
   "metadata": {},
   "outputs": [
    {
     "name": "stdout",
     "output_type": "stream",
     "text": [
      "True\n"
     ]
    }
   ],
   "source": [
    "print('猪' in chinese_zodiac)"
   ]
  },
  {
   "cell_type": "code",
   "execution_count": 3,
   "metadata": {},
   "outputs": [
    {
     "name": "stdout",
     "output_type": "stream",
     "text": [
      "处女座\n"
     ]
    }
   ],
   "source": [
    "zodiac = ('摩羯座', '水瓶座', '双鱼座', '白羊座', '金牛座', '双子座', \n",
    "          '巨蟹座', '狮子座', '处女座', '天秤座', '天蝎座', '射手座')\n",
    "zodiac_days = ((1, 20), (2, 19), (3, 21), (4, 21), (5, 21), (6, 22), \n",
    "               (7, 23), (8, 23), (9, 23), (10, 23), (11, 23), (12, 23))\n",
    "month, day = 9, 2\n",
    "zodiac_day = filter(lambda x: x <= (month, day), zodiac_days)\n",
    "print(zodiac[len(list(zodiac_day))])"
   ]
  },
  {
   "cell_type": "code",
   "execution_count": 20,
   "metadata": {},
   "outputs": [
    {
     "name": "stdout",
     "output_type": "stream",
     "text": [
      "['abc', 'xyz', 'edf']\n",
      "['abc', 'edf']\n"
     ]
    }
   ],
   "source": [
    "a_list = ['abc', 'xyz']\n",
    "a_list.append('edf')\n",
    "print(a_list)\n",
    "a_list.remove('xyz')\n",
    "print(a_list)"
   ]
  },
  {
   "cell_type": "code",
   "execution_count": 21,
   "metadata": {},
   "outputs": [
    {
     "name": "stdout",
     "output_type": "stream",
     "text": [
      "请输入出生年份2019\n",
      "猪年大吉\n"
     ]
    }
   ],
   "source": [
    "year = int(input(\"请输入出生年份\"))\n",
    "if chinese_zodiac[year % 12] == \"猪\":\n",
    "    print(\"猪年大吉\")"
   ]
  },
  {
   "cell_type": "code",
   "execution_count": 22,
   "metadata": {},
   "outputs": [
    {
     "name": "stdout",
     "output_type": "stream",
     "text": [
      "猴\n",
      "鸡\n",
      "狗\n",
      "猪\n",
      "鼠\n",
      "牛\n",
      "虎\n",
      "兔\n",
      "龙\n",
      "蛇\n",
      "马\n",
      "羊\n"
     ]
    }
   ],
   "source": [
    "for cz in chinese_zodiac:\n",
    "    print(cz)"
   ]
  },
  {
   "cell_type": "code",
   "execution_count": 25,
   "metadata": {},
   "outputs": [
    {
     "name": "stdout",
     "output_type": "stream",
     "text": [
      "1\n",
      "2\n",
      "3\n",
      "4\n",
      "5\n",
      "6\n",
      "7\n",
      "8\n",
      "9\n",
      "10\n",
      "11\n",
      "12\n"
     ]
    }
   ],
   "source": [
    "for i in range(1, 13):\n",
    "    print(i)"
   ]
  },
  {
   "cell_type": "code",
   "execution_count": 27,
   "metadata": {},
   "outputs": [
    {
     "name": "stdout",
     "output_type": "stream",
     "text": [
      "1\n",
      "2\n",
      "3\n",
      "4\n",
      "5\n",
      "6\n",
      "7\n",
      "8\n",
      "9\n",
      "10\n"
     ]
    }
   ],
   "source": [
    "num = 1\n",
    "while True:\n",
    "    print(num)\n",
    "    if num >= 10:\n",
    "        break\n",
    "    num += 1"
   ]
  },
  {
   "cell_type": "code",
   "execution_count": 36,
   "metadata": {},
   "outputs": [
    {
     "name": "stdout",
     "output_type": "stream",
     "text": [
      "请输入月日，使用空格分离:12 24\n",
      "摩羯座\n"
     ]
    }
   ],
   "source": [
    "month, day = (int(i) for i in input('请输入月日，使用空格分离:').strip().split())\n",
    "for zd in range(len(zodiac_days)):\n",
    "    if (month, day) <= zodiac_days[zd]:\n",
    "        print(zodiac[zd])\n",
    "        break\n",
    "    elif month == 12 and day > 23:\n",
    "        print(zodiac[0])\n",
    "        break"
   ]
  },
  {
   "cell_type": "code",
   "execution_count": 6,
   "metadata": {},
   "outputs": [
    {
     "name": "stdout",
     "output_type": "stream",
     "text": [
      "请输入月日，使用空格分离:1 13\n",
      "摩羯座\n"
     ]
    }
   ],
   "source": [
    "month, day = (int(i) for i in input('请输入月日，使用空格分离:').strip().split())\n",
    "n = 0\n",
    "while (month, day) > zodiac_days[n]:\n",
    "    print(n)\n",
    "    if month == 12 and day > 23:\n",
    "        break\n",
    "    n += 1\n",
    "print(zodiac[n])"
   ]
  },
  {
   "cell_type": "code",
   "execution_count": 7,
   "metadata": {},
   "outputs": [
    {
     "data": {
      "text/plain": [
       "dict"
      ]
     },
     "execution_count": 7,
     "metadata": {},
     "output_type": "execute_result"
    }
   ],
   "source": [
    "dict1 = {}\n",
    "type(dict1)"
   ]
  },
  {
   "cell_type": "code",
   "execution_count": 12,
   "metadata": {},
   "outputs": [
    {
     "data": {
      "text/plain": [
       "dict"
      ]
     },
     "execution_count": 12,
     "metadata": {},
     "output_type": "execute_result"
    }
   ],
   "source": [
    "dict2 = {}\n",
    "type(dict2)"
   ]
  },
  {
   "cell_type": "code",
   "execution_count": 10,
   "metadata": {},
   "outputs": [
    {
     "data": {
      "text/plain": [
       "set()"
      ]
     },
     "execution_count": 10,
     "metadata": {},
     "output_type": "execute_result"
    }
   ],
   "source": [
    "set1 = set()\n",
    "set1"
   ]
  },
  {
   "cell_type": "code",
   "execution_count": 11,
   "metadata": {},
   "outputs": [
    {
     "data": {
      "text/plain": [
       "set"
      ]
     },
     "execution_count": 11,
     "metadata": {},
     "output_type": "execute_result"
    }
   ],
   "source": [
    "type(set1)"
   ]
  },
  {
   "cell_type": "code",
   "execution_count": 13,
   "metadata": {},
   "outputs": [
    {
     "name": "stdout",
     "output_type": "stream",
     "text": [
      "It's a test file.\n"
     ]
    }
   ],
   "source": [
    "with open('test.txt', 'r') as f:\n",
    "    print(f.read())"
   ]
  },
  {
   "cell_type": "code",
   "execution_count": 25,
   "metadata": {},
   "outputs": [
    {
     "name": "stdout",
     "output_type": "stream",
     "text": [
      "True\n",
      "rewrite file\n",
      "12\n",
      "[]\n",
      "0\n",
      "['rewrite file']\n"
     ]
    }
   ],
   "source": [
    "with open('test.txt', 'w+') as f:\n",
    "    f.write('rewrite file')\n",
    "with open('test.txt', 'r') as f:\n",
    "    print(f.readable())\n",
    "    print(f.readline())\n",
    "    # 已读完游标到文件尾部 所以什么也没有\n",
    "    print(f.tell())\n",
    "    print(f.readlines())\n",
    "    # 将游标置于文件首部 再次读取\n",
    "    f.seek(0)\n",
    "    print(f.tell())\n",
    "    print(f.readlines())"
   ]
  },
  {
   "cell_type": "code",
   "execution_count": 26,
   "metadata": {},
   "outputs": [
    {
     "name": "stdout",
     "output_type": "stream",
     "text": [
      "division by zero\n"
     ]
    }
   ],
   "source": [
    "try:\n",
    "    1/0\n",
    "except Exception as e:\n",
    "    print(e)"
   ]
  },
  {
   "cell_type": "code",
   "execution_count": 28,
   "metadata": {},
   "outputs": [
    {
     "data": {
      "text/plain": [
       "<list_iterator at 0x10ec1b908>"
      ]
     },
     "execution_count": 28,
     "metadata": {},
     "output_type": "execute_result"
    }
   ],
   "source": [
    "list1 = [1, 2, 3]\n",
    "it = iter(list1)\n",
    "it"
   ]
  },
  {
   "cell_type": "code",
   "execution_count": 29,
   "metadata": {},
   "outputs": [
    {
     "data": {
      "text/plain": [
       "1"
      ]
     },
     "execution_count": 29,
     "metadata": {},
     "output_type": "execute_result"
    }
   ],
   "source": [
    "next(it)"
   ]
  },
  {
   "cell_type": "code",
   "execution_count": 33,
   "metadata": {},
   "outputs": [
    {
     "data": {
      "text/plain": [
       "list_iterator"
      ]
     },
     "execution_count": 33,
     "metadata": {},
     "output_type": "execute_result"
    }
   ],
   "source": [
    "type(it)"
   ]
  },
  {
   "cell_type": "code",
   "execution_count": 43,
   "metadata": {},
   "outputs": [],
   "source": [
    "def myrange(start, end, step):\n",
    "    x = start\n",
    "    while x < end:\n",
    "        yield x\n",
    "        x += step"
   ]
  },
  {
   "cell_type": "code",
   "execution_count": 44,
   "metadata": {},
   "outputs": [
    {
     "data": {
      "text/plain": [
       "function"
      ]
     },
     "execution_count": 44,
     "metadata": {},
     "output_type": "execute_result"
    }
   ],
   "source": [
    "type(myrange)"
   ]
  },
  {
   "cell_type": "code",
   "execution_count": 47,
   "metadata": {},
   "outputs": [
    {
     "data": {
      "text/plain": [
       "generator"
      ]
     },
     "execution_count": 47,
     "metadata": {},
     "output_type": "execute_result"
    }
   ],
   "source": [
    "r = myrange(0, 1, 0.5)\n",
    "type(r)"
   ]
  },
  {
   "cell_type": "code",
   "execution_count": 45,
   "metadata": {},
   "outputs": [
    {
     "name": "stdout",
     "output_type": "stream",
     "text": [
      "0\n",
      "0.5\n",
      "1.0\n",
      "1.5\n",
      "2.0\n",
      "2.5\n",
      "3.0\n",
      "3.5\n",
      "4.0\n",
      "4.5\n",
      "5.0\n",
      "5.5\n",
      "6.0\n",
      "6.5\n",
      "7.0\n",
      "7.5\n",
      "8.0\n",
      "8.5\n",
      "9.0\n",
      "9.5\n"
     ]
    }
   ],
   "source": [
    "for i in myrange(0, 10, 0.5):\n",
    "    print(i)"
   ]
  },
  {
   "cell_type": "code",
   "execution_count": 50,
   "metadata": {},
   "outputs": [
    {
     "data": {
      "text/plain": [
       "range"
      ]
     },
     "execution_count": 50,
     "metadata": {},
     "output_type": "execute_result"
    }
   ],
   "source": [
    "r = range(10)\n",
    "type(r)"
   ]
  },
  {
   "cell_type": "code",
   "execution_count": 51,
   "metadata": {},
   "outputs": [
    {
     "name": "stdout",
     "output_type": "stream",
     "text": [
      "['rewrite', 'file', 'one', 'two']\n"
     ]
    }
   ],
   "source": [
    "with open('test.txt', 'r') as f:\n",
    "    list_text = []\n",
    "    for row in f:\n",
    "        list_text.extend(row.strip().split())\n",
    "print(list_text)"
   ]
  },
  {
   "cell_type": "code",
   "execution_count": 52,
   "metadata": {},
   "outputs": [
    {
     "data": {
      "text/plain": [
       "<function __main__.<lambda>()>"
      ]
     },
     "execution_count": 52,
     "metadata": {},
     "output_type": "execute_result"
    }
   ],
   "source": [
    "lambda :True"
   ]
  },
  {
   "cell_type": "code",
   "execution_count": 56,
   "metadata": {},
   "outputs": [
    {
     "data": {
      "text/plain": [
       "<function __main__.<lambda>(x, y)>"
      ]
     },
     "execution_count": 56,
     "metadata": {},
     "output_type": "execute_result"
    }
   ],
   "source": [
    "func = lambda x, y: x + y\n",
    "func"
   ]
  },
  {
   "cell_type": "code",
   "execution_count": 54,
   "metadata": {},
   "outputs": [
    {
     "data": {
      "text/plain": [
       "function"
      ]
     },
     "execution_count": 54,
     "metadata": {},
     "output_type": "execute_result"
    }
   ],
   "source": [
    "type(func)"
   ]
  },
  {
   "cell_type": "code",
   "execution_count": 55,
   "metadata": {},
   "outputs": [
    {
     "data": {
      "text/plain": [
       "100"
      ]
     },
     "execution_count": 55,
     "metadata": {},
     "output_type": "execute_result"
    }
   ],
   "source": [
    "func(1, 99)"
   ]
  },
  {
   "cell_type": "code",
   "execution_count": 57,
   "metadata": {},
   "outputs": [
    {
     "data": {
      "text/plain": [
       "[3, 4, 5]"
      ]
     },
     "execution_count": 57,
     "metadata": {},
     "output_type": "execute_result"
    }
   ],
   "source": [
    "a = [1, 2, 3, 4, 5]\n",
    "list(filter(lambda x: x > 2, a))"
   ]
  },
  {
   "cell_type": "code",
   "execution_count": 58,
   "metadata": {},
   "outputs": [
    {
     "data": {
      "text/plain": [
       "[11, 12, 13, 14, 15]"
      ]
     },
     "execution_count": 58,
     "metadata": {},
     "output_type": "execute_result"
    }
   ],
   "source": [
    "list(map(lambda x: x + 10, a))"
   ]
  },
  {
   "cell_type": "code",
   "execution_count": 59,
   "metadata": {},
   "outputs": [
    {
     "data": {
      "text/plain": [
       "15"
      ]
     },
     "execution_count": 59,
     "metadata": {},
     "output_type": "execute_result"
    }
   ],
   "source": [
    "from functools import reduce\n",
    "reduce(lambda x, y: x + y, a)"
   ]
  },
  {
   "cell_type": "code",
   "execution_count": 61,
   "metadata": {},
   "outputs": [
    {
     "data": {
      "text/plain": [
       "[(1, 4), (2, 5), (3, 6)]"
      ]
     },
     "execution_count": 61,
     "metadata": {},
     "output_type": "execute_result"
    }
   ],
   "source": [
    "list(zip((1,2,3), (4,5,6)))"
   ]
  },
  {
   "cell_type": "code",
   "execution_count": 62,
   "metadata": {},
   "outputs": [
    {
     "data": {
      "text/plain": [
       "{1: 'haha', 2: 'hehe'}"
      ]
     },
     "execution_count": 62,
     "metadata": {},
     "output_type": "execute_result"
    }
   ],
   "source": [
    "d = {1:'haha', 2:'hehe'}\n",
    "d"
   ]
  },
  {
   "cell_type": "code",
   "execution_count": 63,
   "metadata": {},
   "outputs": [
    {
     "data": {
      "text/plain": [
       "{'haha': 1, 'hehe': 2}"
      ]
     },
     "execution_count": 63,
     "metadata": {},
     "output_type": "execute_result"
    }
   ],
   "source": [
    "dict(zip(d.values(), d.keys()))"
   ]
  },
  {
   "cell_type": "code",
   "execution_count": 67,
   "metadata": {},
   "outputs": [
    {
     "name": "stdout",
     "output_type": "stream",
     "text": [
      "1\n",
      "2\n",
      "3\n",
      "4\n",
      "5\n"
     ]
    }
   ],
   "source": [
    "def counter():\n",
    "    cnt = [0]\n",
    "    def add_one():\n",
    "        cnt[0] += 1\n",
    "        return cnt[0]\n",
    "    return add_one\n",
    "\n",
    "num1 = counter()\n",
    "print(num1())\n",
    "print(num1())\n",
    "print(num1())\n",
    "print(num1())\n",
    "print(num1())"
   ]
  },
  {
   "cell_type": "code",
   "execution_count": 68,
   "metadata": {},
   "outputs": [
    {
     "data": {
      "text/plain": [
       "35"
      ]
     },
     "execution_count": 68,
     "metadata": {},
     "output_type": "execute_result"
    }
   ],
   "source": [
    "def a_line(a, b):\n",
    "    def arg_y(x):\n",
    "        return a * x + b\n",
    "    return arg_y\n",
    "\n",
    "line1 = a_line(3, 5)\n",
    "line1(10)"
   ]
  },
  {
   "cell_type": "code",
   "execution_count": 70,
   "metadata": {},
   "outputs": [
    {
     "data": {
      "text/plain": [
       "65"
      ]
     },
     "execution_count": 70,
     "metadata": {},
     "output_type": "execute_result"
    }
   ],
   "source": [
    "line1(20)"
   ]
  },
  {
   "cell_type": "code",
   "execution_count": 71,
   "metadata": {},
   "outputs": [
    {
     "name": "stdout",
     "output_type": "stream",
     "text": [
      "运行时间：3.0003292560577393秒\n"
     ]
    }
   ],
   "source": [
    "# 装饰器\n",
    "import time\n",
    "def timer(func):\n",
    "    def wrapper():\n",
    "        start = time.time()\n",
    "        func()\n",
    "        end = time.time()\n",
    "        print('运行时间：{}秒'.format(end-start))\n",
    "    return wrapper\n",
    "\n",
    "@timer\n",
    "def i_can_sleep():\n",
    "    time.sleep(3)\n",
    "    \n",
    "i_can_sleep()"
   ]
  },
  {
   "cell_type": "code",
   "execution_count": 72,
   "metadata": {},
   "outputs": [
    {
     "name": "stdout",
     "output_type": "stream",
     "text": [
      "start\n",
      "3\n",
      "end\n"
     ]
    }
   ],
   "source": [
    "def tips(func):\n",
    "    def wrapper(a, b):\n",
    "        print('start')\n",
    "        func(a, b)\n",
    "        print('end')\n",
    "    return wrapper\n",
    "\n",
    "@tips\n",
    "def add(a, b):\n",
    "    print(a + b)\n",
    "    \n",
    "add(1, 2)"
   ]
  },
  {
   "cell_type": "code",
   "execution_count": 78,
   "metadata": {},
   "outputs": [
    {
     "name": "stdout",
     "output_type": "stream",
     "text": [
      "start add add_module\n",
      "3\n",
      "end\n",
      "start sub sub_module\n",
      "2\n",
      "end\n"
     ]
    }
   ],
   "source": [
    "def new_tips(argv):\n",
    "    def tips(func):\n",
    "        def wrapper(a, b):\n",
    "            print('start {} {}'.format(func.__name__, argv))\n",
    "            func(a, b)\n",
    "            print('end')\n",
    "        return wrapper\n",
    "    return tips\n",
    "\n",
    "@new_tips('add_module')\n",
    "def add(a, b):\n",
    "    print(a + b)\n",
    "    \n",
    "    \n",
    "@new_tips('sub_module')\n",
    "def sub(a, b):\n",
    "    print(a - b)\n",
    "    \n",
    "add(1, 2)\n",
    "sub(3, 1)"
   ]
  },
  {
   "cell_type": "code",
   "execution_count": 79,
   "metadata": {},
   "outputs": [
    {
     "name": "stdout",
     "output_type": "stream",
     "text": [
      "start add add_module\n",
      "101\n",
      "end\n"
     ]
    }
   ],
   "source": [
    "a = add(100, 1)\n",
    "a"
   ]
  },
  {
   "cell_type": "code",
   "execution_count": 81,
   "metadata": {},
   "outputs": [
    {
     "data": {
      "text/plain": [
       "'wrapper'"
      ]
     },
     "execution_count": 81,
     "metadata": {},
     "output_type": "execute_result"
    }
   ],
   "source": [
    "add.__name__"
   ]
  },
  {
   "cell_type": "code",
   "execution_count": 84,
   "metadata": {},
   "outputs": [],
   "source": [
    "from functools import wraps\n",
    "\n",
    "def new_tips(argv):\n",
    "    def tips(func):\n",
    "        @wraps(func)\n",
    "        def wrapper(*args, **kwargs):\n",
    "            print('start {} {}'.format(func.__name__, argv))\n",
    "            func(*args, **kwargs)\n",
    "            print('end')\n",
    "        return wrapper\n",
    "    return tips\n",
    "\n",
    "@new_tips('add_module')\n",
    "def add(a, b):\n",
    "    print(a + b)"
   ]
  },
  {
   "cell_type": "code",
   "execution_count": 85,
   "metadata": {},
   "outputs": [
    {
     "data": {
      "text/plain": [
       "'add'"
      ]
     },
     "execution_count": 85,
     "metadata": {},
     "output_type": "execute_result"
    }
   ],
   "source": [
    "add.__name__"
   ]
  },
  {
   "cell_type": "code",
   "execution_count": 4,
   "metadata": {},
   "outputs": [
    {
     "name": "stdout",
     "output_type": "stream",
     "text": [
      "tom:100\n",
      "jerry:999\n",
      "R.M.B:100\n"
     ]
    }
   ],
   "source": [
    "class Player:\n",
    "    '''玩家类'''\n",
    "    def __init__(self, name, hp, occu):\n",
    "        self.__name = name\n",
    "        self.hp = hp\n",
    "        self.occu = occu\n",
    "        \n",
    "    def print_player_info(self):\n",
    "        print('{}:{}'.format(self.__name, self.hp))\n",
    "        \n",
    "    def update_name(self, name):\n",
    "        self.__name = name\n",
    "        \n",
    "tom = Player('tom', 100, 'war')\n",
    "jerry = Player('jerry', 999, 'monster')\n",
    "\n",
    "tom.print_player_info()\n",
    "jerry.print_player_info()\n",
    "\n",
    "tom.update_name('R.M.B')\n",
    "tom.print_player_info()"
   ]
  },
  {
   "cell_type": "code",
   "execution_count": 33,
   "metadata": {},
   "outputs": [],
   "source": [
    "class Monster:\n",
    "    '''怪物类'''\n",
    "    def __init__(self, hp):\n",
    "        self.hp = hp\n",
    "        \n",
    "    def run(self):\n",
    "        print('移动到某个位置')\n",
    "        \n",
    "    def whoami(self):\n",
    "        print('我是怪物')\n",
    "\n",
    "\n",
    "class Animals(Monster):\n",
    "    '''普通怪物'''\n",
    "    pass\n",
    "#     def __init__(self, hp=10):\n",
    "#         super().__init__(hp)\n",
    "    \n",
    "    \n",
    "class Boss(Monster):\n",
    "    '''Boss'''\n",
    "    def whoami(self):\n",
    "        print('我是Boss 我怕谁')"
   ]
  },
  {
   "cell_type": "code",
   "execution_count": 34,
   "metadata": {},
   "outputs": [
    {
     "name": "stdout",
     "output_type": "stream",
     "text": [
      "200\n",
      "移动到某个位置\n"
     ]
    }
   ],
   "source": [
    "a1 = Monster(200)\n",
    "print(a1.hp)\n",
    "a1.run()"
   ]
  },
  {
   "cell_type": "code",
   "execution_count": 35,
   "metadata": {},
   "outputs": [
    {
     "name": "stdout",
     "output_type": "stream",
     "text": [
      "1\n",
      "移动到某个位置\n"
     ]
    }
   ],
   "source": [
    "a2 = Animals(1)\n",
    "print(a2.hp)\n",
    "a2.run()"
   ]
  },
  {
   "cell_type": "code",
   "execution_count": 36,
   "metadata": {},
   "outputs": [
    {
     "name": "stdout",
     "output_type": "stream",
     "text": [
      "我是Boss 我怕谁\n"
     ]
    }
   ],
   "source": [
    "a3 = Boss(8888)\n",
    "a3.whoami()"
   ]
  },
  {
   "cell_type": "code",
   "execution_count": 37,
   "metadata": {},
   "outputs": [
    {
     "data": {
      "text/plain": [
       "True"
      ]
     },
     "execution_count": 37,
     "metadata": {},
     "output_type": "execute_result"
    }
   ],
   "source": [
    "isinstance(a3, Monster)"
   ]
  },
  {
   "cell_type": "code",
   "execution_count": 38,
   "metadata": {},
   "outputs": [
    {
     "data": {
      "text/plain": [
       "True"
      ]
     },
     "execution_count": 38,
     "metadata": {},
     "output_type": "execute_result"
    }
   ],
   "source": [
    "isinstance(a2, Animals)"
   ]
  },
  {
   "cell_type": "code",
   "execution_count": 39,
   "metadata": {},
   "outputs": [
    {
     "data": {
      "text/plain": [
       "True"
      ]
     },
     "execution_count": 39,
     "metadata": {},
     "output_type": "execute_result"
    }
   ],
   "source": [
    "isinstance(a1, Monster)"
   ]
  },
  {
   "cell_type": "code",
   "execution_count": 40,
   "metadata": {},
   "outputs": [
    {
     "data": {
      "text/plain": [
       "False"
      ]
     },
     "execution_count": 40,
     "metadata": {},
     "output_type": "execute_result"
    }
   ],
   "source": [
    "isinstance(a1, Animals)"
   ]
  },
  {
   "cell_type": "code",
   "execution_count": 51,
   "metadata": {},
   "outputs": [
    {
     "name": "stdout",
     "output_type": "stream",
     "text": [
      "run\n",
      "Test is running\n",
      "no error\n"
     ]
    }
   ],
   "source": [
    "# 自定义with语句\n",
    "class Testwith():\n",
    "    def __enter__(self):\n",
    "        print('run')\n",
    "        \n",
    "    def __exit__(self, exc_type, exc_val, exc_tb):\n",
    "        if exc_tb is None:\n",
    "            print('no error')\n",
    "        else:\n",
    "            print('has error %s'% exc_tb)\n",
    "        \n",
    "with Testwith():\n",
    "    print('Test is running')"
   ]
  },
  {
   "cell_type": "code",
   "execution_count": 52,
   "metadata": {},
   "outputs": [
    {
     "name": "stdout",
     "output_type": "stream",
     "text": [
      "run\n",
      "Test is running\n",
      "has error <traceback object at 0x10e58aa08>\n"
     ]
    },
    {
     "ename": "NameError",
     "evalue": "testNameError",
     "output_type": "error",
     "traceback": [
      "\u001b[0;31m---------------------------------------------------------------------------\u001b[0m",
      "\u001b[0;31mNameError\u001b[0m                                 Traceback (most recent call last)",
      "\u001b[0;32m<ipython-input-52-935fc9a0dcb6>\u001b[0m in \u001b[0;36m<module>\u001b[0;34m\u001b[0m\n\u001b[1;32m      1\u001b[0m \u001b[0;32mwith\u001b[0m \u001b[0mTestwith\u001b[0m\u001b[0;34m(\u001b[0m\u001b[0;34m)\u001b[0m\u001b[0;34m:\u001b[0m\u001b[0;34m\u001b[0m\u001b[0;34m\u001b[0m\u001b[0m\n\u001b[1;32m      2\u001b[0m     \u001b[0mprint\u001b[0m\u001b[0;34m(\u001b[0m\u001b[0;34m'Test is running'\u001b[0m\u001b[0;34m)\u001b[0m\u001b[0;34m\u001b[0m\u001b[0;34m\u001b[0m\u001b[0m\n\u001b[0;32m----> 3\u001b[0;31m     \u001b[0;32mraise\u001b[0m \u001b[0mNameError\u001b[0m\u001b[0;34m(\u001b[0m\u001b[0;34m'testNameError'\u001b[0m\u001b[0;34m)\u001b[0m\u001b[0;34m\u001b[0m\u001b[0;34m\u001b[0m\u001b[0m\n\u001b[0m",
      "\u001b[0;31mNameError\u001b[0m: testNameError"
     ]
    }
   ],
   "source": [
    "with Testwith():\n",
    "    print('Test is running')\n",
    "    raise NameError('testNameError')"
   ]
  },
  {
   "cell_type": "code",
   "execution_count": 70,
   "metadata": {},
   "outputs": [
    {
     "name": "stdout",
     "output_type": "stream",
     "text": [
      "Thread-80 Thread-81start!\n",
      "Thread-82 1, 2\n",
      "start!Thread-83\n",
      "2, 3Thread-84MainThread  start!\n",
      "4, 5\n",
      "\n",
      " start!\n",
      "3, 4\n",
      " start!\n",
      "5, 6\n",
      "end\n"
     ]
    }
   ],
   "source": [
    "import threading\n",
    "\n",
    "# 多线程\n",
    "def my_thread(arg1, arg2):\n",
    "    print(threading.current_thread().getName(), 'start!')\n",
    "    print('%s, %s' % (arg1, arg2))\n",
    "    \n",
    "for i in range(1, 6):\n",
    "    t1 = threading.Thread(target=my_thread, args=(i, i+1))\n",
    "    t1.start()\n",
    "    \n",
    "print(threading.current_thread().getName(), 'end')"
   ]
  },
  {
   "cell_type": "code",
   "execution_count": 75,
   "metadata": {},
   "outputs": [
    {
     "name": "stdout",
     "output_type": "stream",
     "text": [
      "Thread-101 start!\n",
      "1, 2\n",
      "Thread-102 start!\n",
      "2, 3\n",
      "Thread-103 start!\n",
      "3, 4\n",
      "Thread-104 start!\n",
      "4, 5\n",
      "Thread-105 start!\n",
      "5, 6\n",
      "MainThread end\n"
     ]
    }
   ],
   "source": [
    "for i in range(1, 6):\n",
    "    t1 = threading.Thread(target=my_thread, args=(i, i+1))\n",
    "    t1.start()\n",
    "    # MainThread最后执行\n",
    "    t1.join()\n",
    "    \n",
    "print(threading.current_thread().getName(), 'end')"
   ]
  },
  {
   "cell_type": "code",
   "execution_count": 74,
   "metadata": {},
   "outputs": [
    {
     "name": "stdout",
     "output_type": "stream",
     "text": [
      "Thread-100 start\n",
      "run\n",
      "Thread-100 end\n"
     ]
    }
   ],
   "source": [
    "class MyThread(threading.Thread):\n",
    "    def run(self):\n",
    "        print(threading.current_thread().getName(), 'start')\n",
    "        print('run')\n",
    "        print(threading.current_thread().getName(), 'end')\n",
    "\n",
    "\n",
    "t1 = MyThread()\n",
    "t1.start()"
   ]
  },
  {
   "cell_type": "code",
   "execution_count": 77,
   "metadata": {},
   "outputs": [
    {
     "data": {
      "text/plain": [
       "1"
      ]
     },
     "execution_count": 77,
     "metadata": {},
     "output_type": "execute_result"
    }
   ],
   "source": [
    "import queue\n",
    "\n",
    "q = queue.Queue()\n",
    "q.put(1)\n",
    "q.put(2)\n",
    "q.put(3)\n",
    "q.get()"
   ]
  },
  {
   "cell_type": "code",
   "execution_count": 78,
   "metadata": {},
   "outputs": [
    {
     "data": {
      "text/plain": [
       "2"
      ]
     },
     "execution_count": 78,
     "metadata": {},
     "output_type": "execute_result"
    }
   ],
   "source": [
    "q.get()"
   ]
  },
  {
   "cell_type": "code",
   "execution_count": 1,
   "metadata": {},
   "outputs": [],
   "source": [
    "# 生产者与消费者\n",
    "from threading import Thread, current_thread\n",
    "from queue import Queue\n",
    "import random\n",
    "import time\n",
    "\n",
    "queue = Queue(5)\n",
    "\n",
    "class ProducterThread(Thread):\n",
    "    '''生产者'''\n",
    "    def run(self):\n",
    "        name = current_thread().getName()\n",
    "        nums = range(100)\n",
    "        global queue\n",
    "        while True:\n",
    "            num = random.choice(nums)\n",
    "            queue.put(num)\n",
    "            print('生产者{} 生产了数据{}'.format(name, num))\n",
    "            t = random.randint(1, 3)\n",
    "            time.sleep(t)\n",
    "            print('生产者{} 睡眠了{} 秒'.format(name, t))\n",
    "            \n",
    "            \n",
    "class CustomerThread(Thread):\n",
    "    '''消费者'''\n",
    "    def run(self):\n",
    "        name = current_thread().getName()\n",
    "        global queue\n",
    "        while True:\n",
    "            num = queue.get()\n",
    "            queue.task_done()\n",
    "            print('消费者{} 消费了数据{}'.format(name, num))\n",
    "            t = random.randint(1, 5)\n",
    "            time.sleep(t)\n",
    "            print('消费者{} 睡眠了{} 秒'.format(name, t))\n",
    "        "
   ]
  },
  {
   "cell_type": "code",
   "execution_count": 2,
   "metadata": {},
   "outputs": [
    {
     "name": "stdout",
     "output_type": "stream",
     "text": [
      "生产者Thread-4 生产了数据17\n",
      "消费者Thread-5 消费了数据17\n",
      "生产者Thread-4 睡眠了3 秒\n",
      "生产者Thread-4 生产了数据62\n",
      "消费者Thread-5 睡眠了4 秒\n",
      "消费者Thread-5 消费了数据62\n",
      "生产者Thread-4 睡眠了2 秒\n",
      "生产者Thread-4 生产了数据4\n",
      "生产者Thread-4 睡眠了1 秒\n",
      "生产者Thread-4 生产了数据74\n",
      "消费者Thread-5 睡眠了5 秒\n",
      "消费者Thread-5 消费了数据4\n",
      "生产者Thread-4 睡眠了3 秒\n",
      "生产者Thread-4 生产了数据45\n",
      "消费者Thread-5 睡眠了1 秒\n",
      "消费者Thread-5 消费了数据74\n",
      "生产者Thread-4 睡眠了3 秒\n",
      "生产者Thread-4 生产了数据39\n",
      "消费者Thread-5 睡眠了2 秒\n",
      "消费者Thread-5 消费了数据45\n",
      "生产者Thread-4 睡眠了2 秒\n",
      "生产者Thread-4 生产了数据14\n",
      "消费者Thread-5 睡眠了4 秒\n",
      "消费者Thread-5 消费了数据39\n",
      "生产者Thread-4 睡眠了3 秒\n",
      "生产者Thread-4 生产了数据0\n",
      "消费者Thread-5 睡眠了2 秒生产者Thread-4 睡眠了1 秒\n",
      "生产者Thread-4 生产了数据55\n",
      "\n",
      "消费者Thread-5 消费了数据14\n",
      "生产者Thread-4 睡眠了3 秒\n",
      "生产者Thread-4 生产了数据81\n",
      "生产者Thread-4 睡眠了1 秒\n",
      "生产者Thread-4 生产了数据80\n",
      "消费者Thread-5 睡眠了5 秒\n",
      "消费者Thread-5 消费了数据0\n",
      "生产者Thread-4 睡眠了2 秒\n",
      "生产者Thread-4 生产了数据58\n",
      "消费者Thread-5 睡眠了2 秒\n",
      "消费者Thread-5 消费了数据55\n",
      "生产者Thread-4 睡眠了3 秒\n",
      "生产者Thread-4 生产了数据53\n",
      "消费者Thread-5 睡眠了4 秒\n",
      "消费者Thread-5 消费了数据81\n",
      "消费者Thread-5 睡眠了1 秒\n",
      "消费者Thread-5 消费了数据80\n",
      "生产者Thread-4 睡眠了3 秒\n",
      "生产者Thread-4 生产了数据23\n",
      "消费者Thread-5 睡眠了2 秒\n",
      "消费者Thread-5 消费了数据58\n",
      "生产者Thread-4 睡眠了3 秒\n",
      "生产者Thread-4 生产了数据76\n",
      "消费者Thread-5 睡眠了3 秒\n",
      "消费者Thread-5 消费了数据53\n",
      "生产者Thread-4 睡眠了2 秒\n",
      "生产者Thread-4 生产了数据21\n",
      "生产者Thread-4 睡眠了1 秒\n",
      "生产者Thread-4 生产了数据37\n",
      "消费者Thread-5 睡眠了3 秒\n",
      "消费者Thread-5 消费了数据23\n",
      "生产者Thread-4 睡眠了3 秒\n",
      "生产者Thread-4 生产了数据54\n",
      "生产者Thread-4 睡眠了2 秒\n",
      "生产者Thread-4 生产了数据94\n",
      "消费者Thread-5 睡眠了5 秒\n",
      "消费者Thread-5 消费了数据76\n",
      "生产者Thread-4 睡眠了2 秒\n",
      "生产者Thread-4 生产了数据27\n",
      "消费者Thread-5 睡眠了2 秒\n",
      "消费者Thread-5 消费了数据21\n",
      "生产者Thread-4 睡眠了3 秒\n",
      "生产者Thread-4 生产了数据82\n",
      "生产者Thread-4 睡眠了3 秒\n",
      "消费者Thread-5 睡眠了5 秒\n",
      "消费者Thread-5 消费了数据37\n",
      "生产者Thread-4 生产了数据89\n"
     ]
    }
   ],
   "source": [
    "producter = ProducterThread()\n",
    "producter.start()\n",
    "customer = CustomerThread()\n",
    "customer.start()"
   ]
  },
  {
   "cell_type": "code",
   "execution_count": 1,
   "metadata": {},
   "outputs": [
    {
     "data": {
      "text/plain": [
       "<_sre.SRE_Match object; span=(0, 10), match='2018-08-08'>"
      ]
     },
     "execution_count": 1,
     "metadata": {},
     "output_type": "execute_result"
    }
   ],
   "source": [
    "# python标准库\n",
    "# re\n",
    "import re\n",
    "s = '2018-08-08'\n",
    "regex = re.compile(r'(\\d+)-(\\d+)-(\\d+)')\n",
    "# match从头匹配\n",
    "res = regex.match(s)\n",
    "res"
   ]
  },
  {
   "cell_type": "code",
   "execution_count": 2,
   "metadata": {},
   "outputs": [
    {
     "data": {
      "text/plain": [
       "'2018-08-08'"
      ]
     },
     "execution_count": 2,
     "metadata": {},
     "output_type": "execute_result"
    }
   ],
   "source": [
    "res.group()"
   ]
  },
  {
   "cell_type": "code",
   "execution_count": 3,
   "metadata": {},
   "outputs": [
    {
     "data": {
      "text/plain": [
       "('2018', '08', '08')"
      ]
     },
     "execution_count": 3,
     "metadata": {},
     "output_type": "execute_result"
    }
   ],
   "source": [
    "res.groups()"
   ]
  },
  {
   "cell_type": "code",
   "execution_count": 5,
   "metadata": {},
   "outputs": [
    {
     "data": {
      "text/plain": [
       "tuple"
      ]
     },
     "execution_count": 5,
     "metadata": {},
     "output_type": "execute_result"
    }
   ],
   "source": [
    "type(res.groups())"
   ]
  },
  {
   "cell_type": "code",
   "execution_count": 6,
   "metadata": {},
   "outputs": [
    {
     "name": "stdout",
     "output_type": "stream",
     "text": [
      "2018 08 08\n"
     ]
    }
   ],
   "source": [
    "year, month, day = res.groups()\n",
    "print(year, month, day)"
   ]
  },
  {
   "cell_type": "code",
   "execution_count": 7,
   "metadata": {},
   "outputs": [
    {
     "data": {
      "text/plain": [
       "'2018'"
      ]
     },
     "execution_count": 7,
     "metadata": {},
     "output_type": "execute_result"
    }
   ],
   "source": [
    "res.group(1)"
   ]
  },
  {
   "cell_type": "code",
   "execution_count": 8,
   "metadata": {},
   "outputs": [
    {
     "data": {
      "text/plain": [
       "str"
      ]
     },
     "execution_count": 8,
     "metadata": {},
     "output_type": "execute_result"
    }
   ],
   "source": [
    "type(res.group(1))"
   ]
  },
  {
   "cell_type": "code",
   "execution_count": 13,
   "metadata": {},
   "outputs": [
    {
     "data": {
      "text/plain": [
       "<_sre.SRE_Match object; span=(3, 13), match='2018-08-08'>"
      ]
     },
     "execution_count": 13,
     "metadata": {},
     "output_type": "execute_result"
    }
   ],
   "source": [
    "# search搜索\n",
    "s = 'aaa2018-08-08bbb'\n",
    "res = regex.search(s)\n",
    "res"
   ]
  },
  {
   "cell_type": "code",
   "execution_count": 14,
   "metadata": {},
   "outputs": [
    {
     "data": {
      "text/plain": [
       "('2018', '08', '08')"
      ]
     },
     "execution_count": 14,
     "metadata": {},
     "output_type": "execute_result"
    }
   ],
   "source": [
    "res.groups()"
   ]
  },
  {
   "cell_type": "code",
   "execution_count": 16,
   "metadata": {},
   "outputs": [
    {
     "data": {
      "text/plain": [
       "'aaa我是替换后的字符串bbb'"
      ]
     },
     "execution_count": 16,
     "metadata": {},
     "output_type": "execute_result"
    }
   ],
   "source": [
    "# sub替换字符串\n",
    "res = regex.sub('我是替换后的字符串', s)\n",
    "res"
   ]
  },
  {
   "cell_type": "code",
   "execution_count": 17,
   "metadata": {},
   "outputs": [
    {
     "name": "stdout",
     "output_type": "stream",
     "text": [
      "1567736509.184439\n"
     ]
    }
   ],
   "source": [
    "# 时间\n",
    "import time\n",
    "print(time.time())"
   ]
  },
  {
   "cell_type": "code",
   "execution_count": 18,
   "metadata": {},
   "outputs": [
    {
     "data": {
      "text/plain": [
       "time.struct_time(tm_year=2019, tm_mon=9, tm_mday=6, tm_hour=10, tm_min=21, tm_sec=56, tm_wday=4, tm_yday=249, tm_isdst=0)"
      ]
     },
     "execution_count": 18,
     "metadata": {},
     "output_type": "execute_result"
    }
   ],
   "source": [
    "time.localtime()"
   ]
  },
  {
   "cell_type": "code",
   "execution_count": 25,
   "metadata": {},
   "outputs": [
    {
     "data": {
      "text/plain": [
       "'2019-09-06 10:24:56'"
      ]
     },
     "execution_count": 25,
     "metadata": {},
     "output_type": "execute_result"
    }
   ],
   "source": [
    "time.strftime('%Y-%m-%d %H:%M:%S')"
   ]
  },
  {
   "cell_type": "code",
   "execution_count": 24,
   "metadata": {},
   "outputs": [
    {
     "data": {
      "text/plain": [
       "time.struct_time(tm_year=2008, tm_mon=8, tm_mday=8, tm_hour=12, tm_min=13, tm_sec=14, tm_wday=4, tm_yday=221, tm_isdst=-1)"
      ]
     },
     "execution_count": 24,
     "metadata": {},
     "output_type": "execute_result"
    }
   ],
   "source": [
    "time.strptime('2008-08-08 12:13:14', '%Y-%m-%d %H:%M:%S')"
   ]
  },
  {
   "cell_type": "code",
   "execution_count": 23,
   "metadata": {},
   "outputs": [],
   "source": [
    "time.strptime?"
   ]
  },
  {
   "cell_type": "code",
   "execution_count": 26,
   "metadata": {},
   "outputs": [
    {
     "data": {
      "text/plain": [
       "datetime.datetime(2019, 9, 6, 10, 25, 29, 638673)"
      ]
     },
     "execution_count": 26,
     "metadata": {},
     "output_type": "execute_result"
    }
   ],
   "source": [
    "# datetime一般用作时间加减计算\n",
    "import datetime\n",
    "datetime.datetime.now()"
   ]
  },
  {
   "cell_type": "code",
   "execution_count": 30,
   "metadata": {},
   "outputs": [
    {
     "name": "stdout",
     "output_type": "stream",
     "text": [
      "当前时间： 2019-09-06 10:28:01.182719\n",
      "10分钟后的时间： 2019-09-06 10:38:01.182977\n"
     ]
    }
   ],
   "source": [
    "# 计算10分钟后的时间\n",
    "print('当前时间：', datetime.datetime.now())\n",
    "new_time = datetime.timedelta(minutes=10)\n",
    "print('10分钟后的时间：', datetime.datetime.now() + new_time)"
   ]
  },
  {
   "cell_type": "code",
   "execution_count": 32,
   "metadata": {},
   "outputs": [
    {
     "name": "stdout",
     "output_type": "stream",
     "text": [
      "2\n",
      "4\n",
      "1\n",
      "5\n",
      "5\n",
      "4\n",
      "1\n",
      "3\n",
      "4\n",
      "3\n"
     ]
    }
   ],
   "source": [
    "# random随机数\n",
    "import random\n",
    "for i in range(10):\n",
    "    print(random.randint(1, 5))"
   ]
  },
  {
   "cell_type": "code",
   "execution_count": 34,
   "metadata": {},
   "outputs": [
    {
     "data": {
      "text/plain": [
       "'/Users/dk/Desktop/Git/Reading-notes/极客时间'"
      ]
     },
     "execution_count": 34,
     "metadata": {},
     "output_type": "execute_result"
    }
   ],
   "source": [
    "# 文件操作\n",
    "import os\n",
    "os.path.abspath('.')"
   ]
  },
  {
   "cell_type": "code",
   "execution_count": 35,
   "metadata": {},
   "outputs": [
    {
     "data": {
      "text/plain": [
       "True"
      ]
     },
     "execution_count": 35,
     "metadata": {},
     "output_type": "execute_result"
    }
   ],
   "source": [
    "os.path.exists('/Users')"
   ]
  },
  {
   "cell_type": "code",
   "execution_count": 37,
   "metadata": {},
   "outputs": [
    {
     "data": {
      "text/plain": [
       "True"
      ]
     },
     "execution_count": 37,
     "metadata": {},
     "output_type": "execute_result"
    }
   ],
   "source": [
    "os.path.isdir('/Users')"
   ]
  },
  {
   "cell_type": "code",
   "execution_count": 38,
   "metadata": {},
   "outputs": [
    {
     "data": {
      "text/plain": [
       "'/Users/a/b/c'"
      ]
     },
     "execution_count": 38,
     "metadata": {},
     "output_type": "execute_result"
    }
   ],
   "source": [
    "os.path.join('/Users', 'a/b/c')"
   ]
  },
  {
   "cell_type": "code",
   "execution_count": 49,
   "metadata": {},
   "outputs": [
    {
     "data": {
      "text/plain": [
       "['.keystone_install_lock',\n",
       " 'com.apple.launchd.3xGV7uEmSi',\n",
       " 'powerlog',\n",
       " 'com.apple.launchd.62Qy9cdUIc',\n",
       " 'android-dk',\n",
       " 'nemu-gles-vpipe',\n",
       " 'com.sogou.inputmethod',\n",
       " 'mongodb-27017.sock',\n",
       " '.nemu-dk-ipc',\n",
       " 'nemu-audio-vpipe']"
      ]
     },
     "execution_count": 49,
     "metadata": {},
     "output_type": "execute_result"
    }
   ],
   "source": [
    "os.listdir('/tmp')"
   ]
  },
  {
   "cell_type": "code",
   "execution_count": 43,
   "metadata": {},
   "outputs": [
    {
     "data": {
      "text/plain": [
       "PosixPath('/Users/dk/Desktop/Git/Reading-notes/极客时间')"
      ]
     },
     "execution_count": 43,
     "metadata": {},
     "output_type": "execute_result"
    }
   ],
   "source": [
    "from pathlib import Path\n",
    "p = Path('.')\n",
    "p.resolve()"
   ]
  },
  {
   "cell_type": "code",
   "execution_count": 45,
   "metadata": {},
   "outputs": [
    {
     "data": {
      "text/plain": [
       "True"
      ]
     },
     "execution_count": 45,
     "metadata": {},
     "output_type": "execute_result"
    }
   ],
   "source": [
    "p.is_dir()"
   ]
  },
  {
   "cell_type": "code",
   "execution_count": 51,
   "metadata": {},
   "outputs": [],
   "source": [
    "p1 = Path('/tmp/a/b/c')\n",
    "Path.mkdir(p1, parents=True)"
   ]
  },
  {
   "cell_type": "code",
   "execution_count": 52,
   "metadata": {},
   "outputs": [
    {
     "data": {
      "text/plain": [
       "['.keystone_install_lock',\n",
       " 'com.apple.launchd.3xGV7uEmSi',\n",
       " 'powerlog',\n",
       " 'com.apple.launchd.62Qy9cdUIc',\n",
       " 'android-dk',\n",
       " 'nemu-gles-vpipe',\n",
       " 'a',\n",
       " 'com.sogou.inputmethod',\n",
       " 'mongodb-27017.sock',\n",
       " '.nemu-dk-ipc',\n",
       " 'nemu-audio-vpipe']"
      ]
     },
     "execution_count": 52,
     "metadata": {},
     "output_type": "execute_result"
    }
   ],
   "source": [
    "os.listdir('/tmp')"
   ]
  },
  {
   "cell_type": "code",
   "execution_count": 54,
   "metadata": {},
   "outputs": [
    {
     "data": {
      "text/plain": [
       "array([1, 2, 4])"
      ]
     },
     "execution_count": 54,
     "metadata": {},
     "output_type": "execute_result"
    }
   ],
   "source": [
    "# numpy 用于高性能科学计算和数据分析，是常用的高级数据分析库的基础包\n",
    "import numpy as np\n",
    "\n",
    "arr1 = np.array([1, 2, 4])\n",
    "arr1"
   ]
  },
  {
   "cell_type": "code",
   "execution_count": 55,
   "metadata": {},
   "outputs": [
    {
     "data": {
      "text/plain": [
       "dtype('int64')"
      ]
     },
     "execution_count": 55,
     "metadata": {},
     "output_type": "execute_result"
    }
   ],
   "source": [
    "arr1.dtype"
   ]
  },
  {
   "cell_type": "code",
   "execution_count": 56,
   "metadata": {},
   "outputs": [
    {
     "data": {
      "text/plain": [
       "dtype('float64')"
      ]
     },
     "execution_count": 56,
     "metadata": {},
     "output_type": "execute_result"
    }
   ],
   "source": [
    "arr2 = np.array([1.3, 3.1, 4.3])\n",
    "arr2.dtype"
   ]
  },
  {
   "cell_type": "code",
   "execution_count": 57,
   "metadata": {},
   "outputs": [
    {
     "data": {
      "text/plain": [
       "array([2.3, 5.1, 8.3])"
      ]
     },
     "execution_count": 57,
     "metadata": {},
     "output_type": "execute_result"
    }
   ],
   "source": [
    "arr1 + arr2"
   ]
  },
  {
   "cell_type": "code",
   "execution_count": 58,
   "metadata": {},
   "outputs": [
    {
     "data": {
      "text/plain": [
       "array([13., 31., 43.])"
      ]
     },
     "execution_count": 58,
     "metadata": {},
     "output_type": "execute_result"
    }
   ],
   "source": [
    "arr2 * 10"
   ]
  },
  {
   "cell_type": "code",
   "execution_count": 62,
   "metadata": {},
   "outputs": [
    {
     "data": {
      "text/plain": [
       "[[1, 2, 3], [4, 5, 6.6]]"
      ]
     },
     "execution_count": 62,
     "metadata": {},
     "output_type": "execute_result"
    }
   ],
   "source": [
    "data = [[1, 2, 3], [4, 5, 6.6]]\n",
    "data"
   ]
  },
  {
   "cell_type": "code",
   "execution_count": 63,
   "metadata": {},
   "outputs": [
    {
     "data": {
      "text/plain": [
       "array([[1. , 2. , 3. ],\n",
       "       [4. , 5. , 6.6]])"
      ]
     },
     "execution_count": 63,
     "metadata": {},
     "output_type": "execute_result"
    }
   ],
   "source": [
    "arr3 = np.array(data)\n",
    "arr3"
   ]
  },
  {
   "cell_type": "code",
   "execution_count": 64,
   "metadata": {},
   "outputs": [
    {
     "data": {
      "text/plain": [
       "dtype('float64')"
      ]
     },
     "execution_count": 64,
     "metadata": {},
     "output_type": "execute_result"
    }
   ],
   "source": [
    "arr3.dtype"
   ]
  },
  {
   "cell_type": "code",
   "execution_count": 66,
   "metadata": {},
   "outputs": [
    {
     "data": {
      "text/plain": [
       "array([0., 0., 0., 0., 0., 0., 0., 0., 0., 0.])"
      ]
     },
     "execution_count": 66,
     "metadata": {},
     "output_type": "execute_result"
    }
   ],
   "source": [
    "np.zeros(10)"
   ]
  },
  {
   "cell_type": "code",
   "execution_count": 67,
   "metadata": {},
   "outputs": [
    {
     "data": {
      "text/plain": [
       "array([[0., 0., 0., 0., 0.],\n",
       "       [0., 0., 0., 0., 0.],\n",
       "       [0., 0., 0., 0., 0.]])"
      ]
     },
     "execution_count": 67,
     "metadata": {},
     "output_type": "execute_result"
    }
   ],
   "source": [
    "np.zeros([3,5])"
   ]
  },
  {
   "cell_type": "code",
   "execution_count": 68,
   "metadata": {},
   "outputs": [
    {
     "data": {
      "text/plain": [
       "array([[0., 0., 0.],\n",
       "       [0., 0., 0.],\n",
       "       [0., 0., 0.],\n",
       "       [0., 0., 0.],\n",
       "       [0., 0., 0.],\n",
       "       [0., 0., 0.],\n",
       "       [0., 0., 0.],\n",
       "       [0., 0., 0.],\n",
       "       [0., 0., 0.],\n",
       "       [0., 0., 0.]])"
      ]
     },
     "execution_count": 68,
     "metadata": {},
     "output_type": "execute_result"
    }
   ],
   "source": [
    "np.zeros((10,3))"
   ]
  },
  {
   "cell_type": "code",
   "execution_count": 69,
   "metadata": {},
   "outputs": [
    {
     "data": {
      "text/plain": [
       "array([1., 1., 1., 1., 1., 1., 1., 1., 1., 1.])"
      ]
     },
     "execution_count": 69,
     "metadata": {},
     "output_type": "execute_result"
    }
   ],
   "source": [
    "np.ones(10)"
   ]
  },
  {
   "cell_type": "code",
   "execution_count": 70,
   "metadata": {},
   "outputs": [
    {
     "data": {
      "text/plain": [
       "array([[4.51774098e-037, 6.82465630e-067],\n",
       "       [1.27958000e+165, 1.10952331e-047]])"
      ]
     },
     "execution_count": 70,
     "metadata": {},
     "output_type": "execute_result"
    }
   ],
   "source": [
    "# 随机值\n",
    "np.empty((2,2))"
   ]
  },
  {
   "cell_type": "code",
   "execution_count": 73,
   "metadata": {},
   "outputs": [
    {
     "data": {
      "text/plain": [
       "array([0, 1, 2, 3, 4, 5, 6, 7, 8, 9])"
      ]
     },
     "execution_count": 73,
     "metadata": {},
     "output_type": "execute_result"
    }
   ],
   "source": [
    "arr4 = np.arange(10)\n",
    "arr4"
   ]
  },
  {
   "cell_type": "code",
   "execution_count": 75,
   "metadata": {},
   "outputs": [
    {
     "data": {
      "text/plain": [
       "array([4])"
      ]
     },
     "execution_count": 75,
     "metadata": {},
     "output_type": "execute_result"
    }
   ],
   "source": [
    "arr4[4:5]"
   ]
  },
  {
   "cell_type": "code",
   "execution_count": 76,
   "metadata": {},
   "outputs": [
    {
     "data": {
      "text/plain": [
       "numpy.ndarray"
      ]
     },
     "execution_count": 76,
     "metadata": {},
     "output_type": "execute_result"
    }
   ],
   "source": [
    "type(arr4[4:5])"
   ]
  },
  {
   "cell_type": "code",
   "execution_count": 78,
   "metadata": {},
   "outputs": [
    {
     "data": {
      "text/plain": [
       "4"
      ]
     },
     "execution_count": 78,
     "metadata": {},
     "output_type": "execute_result"
    }
   ],
   "source": [
    "arr4[4]"
   ]
  },
  {
   "cell_type": "code",
   "execution_count": 84,
   "metadata": {},
   "outputs": [
    {
     "data": {
      "text/plain": [
       "array([5, 6, 7])"
      ]
     },
     "execution_count": 84,
     "metadata": {},
     "output_type": "execute_result"
    }
   ],
   "source": [
    "arr_slice = arr4[5:8]\n",
    "arr_slice"
   ]
  },
  {
   "cell_type": "code",
   "execution_count": 85,
   "metadata": {},
   "outputs": [],
   "source": [
    "arr_slice[0] = 99"
   ]
  },
  {
   "cell_type": "code",
   "execution_count": 86,
   "metadata": {},
   "outputs": [
    {
     "data": {
      "text/plain": [
       "array([ 0,  1,  2,  3,  4, 99,  6,  7,  8,  9])"
      ]
     },
     "execution_count": 86,
     "metadata": {},
     "output_type": "execute_result"
    }
   ],
   "source": [
    "arr4"
   ]
  },
  {
   "cell_type": "code",
   "execution_count": 88,
   "metadata": {},
   "outputs": [
    {
     "data": {
      "text/plain": [
       "0    4\n",
       "1    5\n",
       "2    6\n",
       "3   -7\n",
       "dtype: int64"
      ]
     },
     "execution_count": 88,
     "metadata": {},
     "output_type": "execute_result"
    }
   ],
   "source": [
    "# pandas\n",
    "import pandas as pd\n",
    "\n",
    "obj = pd.Series([4, 5, 6, -7])\n",
    "obj"
   ]
  },
  {
   "cell_type": "code",
   "execution_count": 92,
   "metadata": {},
   "outputs": [
    {
     "data": {
      "text/plain": [
       "RangeIndex(start=0, stop=4, step=1)"
      ]
     },
     "execution_count": 92,
     "metadata": {},
     "output_type": "execute_result"
    }
   ],
   "source": [
    "obj.index"
   ]
  },
  {
   "cell_type": "code",
   "execution_count": 90,
   "metadata": {},
   "outputs": [
    {
     "data": {
      "text/plain": [
       "array([ 4,  5,  6, -7])"
      ]
     },
     "execution_count": 90,
     "metadata": {},
     "output_type": "execute_result"
    }
   ],
   "source": [
    "obj.values"
   ]
  },
  {
   "cell_type": "code",
   "execution_count": 94,
   "metadata": {},
   "outputs": [
    {
     "data": {
      "text/plain": [
       "f     3\n",
       "g     4\n",
       "7     7\n",
       "hh    6\n",
       "dtype: int64"
      ]
     },
     "execution_count": 94,
     "metadata": {},
     "output_type": "execute_result"
    }
   ],
   "source": [
    "obj2 = pd.Series([3, 4, 7, 6], index=['f', 'g', 7, 'hh'])\n",
    "obj2"
   ]
  },
  {
   "cell_type": "code",
   "execution_count": 95,
   "metadata": {},
   "outputs": [
    {
     "data": {
      "text/plain": [
       "7"
      ]
     },
     "execution_count": 95,
     "metadata": {},
     "output_type": "execute_result"
    }
   ],
   "source": [
    "obj2[7]"
   ]
  },
  {
   "cell_type": "code",
   "execution_count": 97,
   "metadata": {},
   "outputs": [
    {
     "data": {
      "text/plain": [
       "3"
      ]
     },
     "execution_count": 97,
     "metadata": {},
     "output_type": "execute_result"
    }
   ],
   "source": [
    "obj2['f']"
   ]
  },
  {
   "cell_type": "code",
   "execution_count": 98,
   "metadata": {},
   "outputs": [
    {
     "ename": "KeyError",
     "evalue": "'a'",
     "output_type": "error",
     "traceback": [
      "\u001b[0;31m---------------------------------------------------------------------------\u001b[0m",
      "\u001b[0;31mTypeError\u001b[0m                                 Traceback (most recent call last)",
      "\u001b[0;32m/anaconda3/lib/python3.6/site-packages/pandas/core/indexes/base.py\u001b[0m in \u001b[0;36mget_value\u001b[0;34m(self, series, key)\u001b[0m\n\u001b[1;32m   3123\u001b[0m             \u001b[0;32mtry\u001b[0m\u001b[0;34m:\u001b[0m\u001b[0;34m\u001b[0m\u001b[0;34m\u001b[0m\u001b[0m\n\u001b[0;32m-> 3124\u001b[0;31m                 \u001b[0;32mreturn\u001b[0m \u001b[0mlibindex\u001b[0m\u001b[0;34m.\u001b[0m\u001b[0mget_value_box\u001b[0m\u001b[0;34m(\u001b[0m\u001b[0ms\u001b[0m\u001b[0;34m,\u001b[0m \u001b[0mkey\u001b[0m\u001b[0;34m)\u001b[0m\u001b[0;34m\u001b[0m\u001b[0;34m\u001b[0m\u001b[0m\n\u001b[0m\u001b[1;32m   3125\u001b[0m             \u001b[0;32mexcept\u001b[0m \u001b[0mIndexError\u001b[0m\u001b[0;34m:\u001b[0m\u001b[0;34m\u001b[0m\u001b[0;34m\u001b[0m\u001b[0m\n",
      "\u001b[0;32mpandas/_libs/index.pyx\u001b[0m in \u001b[0;36mpandas._libs.index.get_value_box\u001b[0;34m()\u001b[0m\n",
      "\u001b[0;32mpandas/_libs/index.pyx\u001b[0m in \u001b[0;36mpandas._libs.index.get_value_box\u001b[0;34m()\u001b[0m\n",
      "\u001b[0;31mTypeError\u001b[0m: 'str' object cannot be interpreted as an integer",
      "\nDuring handling of the above exception, another exception occurred:\n",
      "\u001b[0;31mKeyError\u001b[0m                                  Traceback (most recent call last)",
      "\u001b[0;32m<ipython-input-98-2bef8d0bd18e>\u001b[0m in \u001b[0;36m<module>\u001b[0;34m\u001b[0m\n\u001b[0;32m----> 1\u001b[0;31m \u001b[0mobj2\u001b[0m\u001b[0;34m[\u001b[0m\u001b[0;34m'a'\u001b[0m\u001b[0;34m]\u001b[0m\u001b[0;34m\u001b[0m\u001b[0;34m\u001b[0m\u001b[0m\n\u001b[0m",
      "\u001b[0;32m/anaconda3/lib/python3.6/site-packages/pandas/core/series.py\u001b[0m in \u001b[0;36m__getitem__\u001b[0;34m(self, key)\u001b[0m\n\u001b[1;32m    765\u001b[0m         \u001b[0mkey\u001b[0m \u001b[0;34m=\u001b[0m \u001b[0mcom\u001b[0m\u001b[0;34m.\u001b[0m\u001b[0m_apply_if_callable\u001b[0m\u001b[0;34m(\u001b[0m\u001b[0mkey\u001b[0m\u001b[0;34m,\u001b[0m \u001b[0mself\u001b[0m\u001b[0;34m)\u001b[0m\u001b[0;34m\u001b[0m\u001b[0;34m\u001b[0m\u001b[0m\n\u001b[1;32m    766\u001b[0m         \u001b[0;32mtry\u001b[0m\u001b[0;34m:\u001b[0m\u001b[0;34m\u001b[0m\u001b[0;34m\u001b[0m\u001b[0m\n\u001b[0;32m--> 767\u001b[0;31m             \u001b[0mresult\u001b[0m \u001b[0;34m=\u001b[0m \u001b[0mself\u001b[0m\u001b[0;34m.\u001b[0m\u001b[0mindex\u001b[0m\u001b[0;34m.\u001b[0m\u001b[0mget_value\u001b[0m\u001b[0;34m(\u001b[0m\u001b[0mself\u001b[0m\u001b[0;34m,\u001b[0m \u001b[0mkey\u001b[0m\u001b[0;34m)\u001b[0m\u001b[0;34m\u001b[0m\u001b[0;34m\u001b[0m\u001b[0m\n\u001b[0m\u001b[1;32m    768\u001b[0m \u001b[0;34m\u001b[0m\u001b[0m\n\u001b[1;32m    769\u001b[0m             \u001b[0;32mif\u001b[0m \u001b[0;32mnot\u001b[0m \u001b[0mis_scalar\u001b[0m\u001b[0;34m(\u001b[0m\u001b[0mresult\u001b[0m\u001b[0;34m)\u001b[0m\u001b[0;34m:\u001b[0m\u001b[0;34m\u001b[0m\u001b[0;34m\u001b[0m\u001b[0m\n",
      "\u001b[0;32m/anaconda3/lib/python3.6/site-packages/pandas/core/indexes/base.py\u001b[0m in \u001b[0;36mget_value\u001b[0;34m(self, series, key)\u001b[0m\n\u001b[1;32m   3130\u001b[0m                     \u001b[0;32mraise\u001b[0m \u001b[0mInvalidIndexError\u001b[0m\u001b[0;34m(\u001b[0m\u001b[0mkey\u001b[0m\u001b[0;34m)\u001b[0m\u001b[0;34m\u001b[0m\u001b[0;34m\u001b[0m\u001b[0m\n\u001b[1;32m   3131\u001b[0m                 \u001b[0;32melse\u001b[0m\u001b[0;34m:\u001b[0m\u001b[0;34m\u001b[0m\u001b[0;34m\u001b[0m\u001b[0m\n\u001b[0;32m-> 3132\u001b[0;31m                     \u001b[0;32mraise\u001b[0m \u001b[0me1\u001b[0m\u001b[0;34m\u001b[0m\u001b[0;34m\u001b[0m\u001b[0m\n\u001b[0m\u001b[1;32m   3133\u001b[0m             \u001b[0;32mexcept\u001b[0m \u001b[0mException\u001b[0m\u001b[0;34m:\u001b[0m  \u001b[0;31m# pragma: no cover\u001b[0m\u001b[0;34m\u001b[0m\u001b[0;34m\u001b[0m\u001b[0m\n\u001b[1;32m   3134\u001b[0m                 \u001b[0;32mraise\u001b[0m \u001b[0me1\u001b[0m\u001b[0;34m\u001b[0m\u001b[0;34m\u001b[0m\u001b[0m\n",
      "\u001b[0;32m/anaconda3/lib/python3.6/site-packages/pandas/core/indexes/base.py\u001b[0m in \u001b[0;36mget_value\u001b[0;34m(self, series, key)\u001b[0m\n\u001b[1;32m   3116\u001b[0m         \u001b[0;32mtry\u001b[0m\u001b[0;34m:\u001b[0m\u001b[0;34m\u001b[0m\u001b[0;34m\u001b[0m\u001b[0m\n\u001b[1;32m   3117\u001b[0m             return self._engine.get_value(s, k,\n\u001b[0;32m-> 3118\u001b[0;31m                                           tz=getattr(series.dtype, 'tz', None))\n\u001b[0m\u001b[1;32m   3119\u001b[0m         \u001b[0;32mexcept\u001b[0m \u001b[0mKeyError\u001b[0m \u001b[0;32mas\u001b[0m \u001b[0me1\u001b[0m\u001b[0;34m:\u001b[0m\u001b[0;34m\u001b[0m\u001b[0;34m\u001b[0m\u001b[0m\n\u001b[1;32m   3120\u001b[0m             \u001b[0;32mif\u001b[0m \u001b[0mlen\u001b[0m\u001b[0;34m(\u001b[0m\u001b[0mself\u001b[0m\u001b[0;34m)\u001b[0m \u001b[0;34m>\u001b[0m \u001b[0;36m0\u001b[0m \u001b[0;32mand\u001b[0m \u001b[0mself\u001b[0m\u001b[0;34m.\u001b[0m\u001b[0minferred_type\u001b[0m \u001b[0;32min\u001b[0m \u001b[0;34m[\u001b[0m\u001b[0;34m'integer'\u001b[0m\u001b[0;34m,\u001b[0m \u001b[0;34m'boolean'\u001b[0m\u001b[0;34m]\u001b[0m\u001b[0;34m:\u001b[0m\u001b[0;34m\u001b[0m\u001b[0;34m\u001b[0m\u001b[0m\n",
      "\u001b[0;32mpandas/_libs/index.pyx\u001b[0m in \u001b[0;36mpandas._libs.index.IndexEngine.get_value\u001b[0;34m()\u001b[0m\n",
      "\u001b[0;32mpandas/_libs/index.pyx\u001b[0m in \u001b[0;36mpandas._libs.index.IndexEngine.get_value\u001b[0;34m()\u001b[0m\n",
      "\u001b[0;32mpandas/_libs/index.pyx\u001b[0m in \u001b[0;36mpandas._libs.index.IndexEngine.get_loc\u001b[0;34m()\u001b[0m\n",
      "\u001b[0;32mpandas/_libs/hashtable_class_helper.pxi\u001b[0m in \u001b[0;36mpandas._libs.hashtable.PyObjectHashTable.get_item\u001b[0;34m()\u001b[0m\n",
      "\u001b[0;32mpandas/_libs/hashtable_class_helper.pxi\u001b[0m in \u001b[0;36mpandas._libs.hashtable.PyObjectHashTable.get_item\u001b[0;34m()\u001b[0m\n",
      "\u001b[0;31mKeyError\u001b[0m: 'a'"
     ]
    }
   ],
   "source": [
    "obj2['a']"
   ]
  },
  {
   "cell_type": "code",
   "execution_count": 99,
   "metadata": {},
   "outputs": [
    {
     "data": {
      "text/plain": [
       "bj    55000\n",
       "sh     6600\n",
       "gz    77000\n",
       "sz    99441\n",
       "dtype: int64"
      ]
     },
     "execution_count": 99,
     "metadata": {},
     "output_type": "execute_result"
    }
   ],
   "source": [
    "sdata = {'bj': 55000, 'sh': 6600, 'gz':77000, 'sz':99441}\n",
    "obj3 = pd.Series(sdata)\n",
    "obj3"
   ]
  },
  {
   "cell_type": "code",
   "execution_count": 102,
   "metadata": {},
   "outputs": [
    {
     "data": {
      "text/html": [
       "<div>\n",
       "<style scoped>\n",
       "    .dataframe tbody tr th:only-of-type {\n",
       "        vertical-align: middle;\n",
       "    }\n",
       "\n",
       "    .dataframe tbody tr th {\n",
       "        vertical-align: top;\n",
       "    }\n",
       "\n",
       "    .dataframe thead th {\n",
       "        text-align: right;\n",
       "    }\n",
       "</style>\n",
       "<table border=\"1\" class=\"dataframe\">\n",
       "  <thead>\n",
       "    <tr style=\"text-align: right;\">\n",
       "      <th></th>\n",
       "      <th>city</th>\n",
       "      <th>year</th>\n",
       "      <th>pop</th>\n",
       "    </tr>\n",
       "  </thead>\n",
       "  <tbody>\n",
       "    <tr>\n",
       "      <th>0</th>\n",
       "      <td>sh</td>\n",
       "      <td>17</td>\n",
       "      <td>1</td>\n",
       "    </tr>\n",
       "    <tr>\n",
       "      <th>1</th>\n",
       "      <td>sz</td>\n",
       "      <td>18</td>\n",
       "      <td>2</td>\n",
       "    </tr>\n",
       "    <tr>\n",
       "      <th>2</th>\n",
       "      <td>gz</td>\n",
       "      <td>19</td>\n",
       "      <td>1</td>\n",
       "    </tr>\n",
       "    <tr>\n",
       "      <th>3</th>\n",
       "      <td>bj</td>\n",
       "      <td>19</td>\n",
       "      <td>2</td>\n",
       "    </tr>\n",
       "  </tbody>\n",
       "</table>\n",
       "</div>"
      ],
      "text/plain": [
       "  city  year  pop\n",
       "0   sh    17    1\n",
       "1   sz    18    2\n",
       "2   gz    19    1\n",
       "3   bj    19    2"
      ]
     },
     "execution_count": 102,
     "metadata": {},
     "output_type": "execute_result"
    }
   ],
   "source": [
    "data = {'city': ['sh', 'sz', 'gz', 'bj'],\n",
    "       'year': [17, 18, 19, 19],\n",
    "       'pop': [1, 2, 1, 2]}\n",
    "frame = pd.DataFrame(data)\n",
    "frame"
   ]
  },
  {
   "cell_type": "code",
   "execution_count": 105,
   "metadata": {},
   "outputs": [
    {
     "data": {
      "text/html": [
       "<div>\n",
       "<style scoped>\n",
       "    .dataframe tbody tr th:only-of-type {\n",
       "        vertical-align: middle;\n",
       "    }\n",
       "\n",
       "    .dataframe tbody tr th {\n",
       "        vertical-align: top;\n",
       "    }\n",
       "\n",
       "    .dataframe thead th {\n",
       "        text-align: right;\n",
       "    }\n",
       "</style>\n",
       "<table border=\"1\" class=\"dataframe\">\n",
       "  <thead>\n",
       "    <tr style=\"text-align: right;\">\n",
       "      <th></th>\n",
       "      <th>year</th>\n",
       "      <th>city</th>\n",
       "      <th>pop</th>\n",
       "    </tr>\n",
       "  </thead>\n",
       "  <tbody>\n",
       "    <tr>\n",
       "      <th>0</th>\n",
       "      <td>17</td>\n",
       "      <td>sh</td>\n",
       "      <td>1</td>\n",
       "    </tr>\n",
       "    <tr>\n",
       "      <th>1</th>\n",
       "      <td>18</td>\n",
       "      <td>sz</td>\n",
       "      <td>2</td>\n",
       "    </tr>\n",
       "    <tr>\n",
       "      <th>2</th>\n",
       "      <td>19</td>\n",
       "      <td>gz</td>\n",
       "      <td>1</td>\n",
       "    </tr>\n",
       "    <tr>\n",
       "      <th>3</th>\n",
       "      <td>19</td>\n",
       "      <td>bj</td>\n",
       "      <td>2</td>\n",
       "    </tr>\n",
       "  </tbody>\n",
       "</table>\n",
       "</div>"
      ],
      "text/plain": [
       "   year city  pop\n",
       "0    17   sh    1\n",
       "1    18   sz    2\n",
       "2    19   gz    1\n",
       "3    19   bj    2"
      ]
     },
     "execution_count": 105,
     "metadata": {},
     "output_type": "execute_result"
    }
   ],
   "source": [
    "# 排序\n",
    "frame2 = pd.DataFrame(data, columns=['year', 'city', 'pop'])\n",
    "frame2"
   ]
  },
  {
   "cell_type": "code",
   "execution_count": 106,
   "metadata": {},
   "outputs": [
    {
     "data": {
      "text/html": [
       "<div>\n",
       "<style scoped>\n",
       "    .dataframe tbody tr th:only-of-type {\n",
       "        vertical-align: middle;\n",
       "    }\n",
       "\n",
       "    .dataframe tbody tr th {\n",
       "        vertical-align: top;\n",
       "    }\n",
       "\n",
       "    .dataframe thead th {\n",
       "        text-align: right;\n",
       "    }\n",
       "</style>\n",
       "<table border=\"1\" class=\"dataframe\">\n",
       "  <thead>\n",
       "    <tr style=\"text-align: right;\">\n",
       "      <th></th>\n",
       "      <th>year</th>\n",
       "      <th>city</th>\n",
       "      <th>pop</th>\n",
       "      <th>new</th>\n",
       "    </tr>\n",
       "  </thead>\n",
       "  <tbody>\n",
       "    <tr>\n",
       "      <th>0</th>\n",
       "      <td>17</td>\n",
       "      <td>sh</td>\n",
       "      <td>1</td>\n",
       "      <td>100</td>\n",
       "    </tr>\n",
       "    <tr>\n",
       "      <th>1</th>\n",
       "      <td>18</td>\n",
       "      <td>sz</td>\n",
       "      <td>2</td>\n",
       "      <td>100</td>\n",
       "    </tr>\n",
       "    <tr>\n",
       "      <th>2</th>\n",
       "      <td>19</td>\n",
       "      <td>gz</td>\n",
       "      <td>1</td>\n",
       "      <td>100</td>\n",
       "    </tr>\n",
       "    <tr>\n",
       "      <th>3</th>\n",
       "      <td>19</td>\n",
       "      <td>bj</td>\n",
       "      <td>2</td>\n",
       "      <td>100</td>\n",
       "    </tr>\n",
       "  </tbody>\n",
       "</table>\n",
       "</div>"
      ],
      "text/plain": [
       "   year city  pop  new\n",
       "0    17   sh    1  100\n",
       "1    18   sz    2  100\n",
       "2    19   gz    1  100\n",
       "3    19   bj    2  100"
      ]
     },
     "execution_count": 106,
     "metadata": {},
     "output_type": "execute_result"
    }
   ],
   "source": [
    "frame2['new'] = 100\n",
    "frame2"
   ]
  },
  {
   "cell_type": "code",
   "execution_count": 107,
   "metadata": {},
   "outputs": [
    {
     "data": {
      "text/html": [
       "<div>\n",
       "<style scoped>\n",
       "    .dataframe tbody tr th:only-of-type {\n",
       "        vertical-align: middle;\n",
       "    }\n",
       "\n",
       "    .dataframe tbody tr th {\n",
       "        vertical-align: top;\n",
       "    }\n",
       "\n",
       "    .dataframe thead th {\n",
       "        text-align: right;\n",
       "    }\n",
       "</style>\n",
       "<table border=\"1\" class=\"dataframe\">\n",
       "  <thead>\n",
       "    <tr style=\"text-align: right;\">\n",
       "      <th></th>\n",
       "      <th>year</th>\n",
       "      <th>city</th>\n",
       "      <th>pop</th>\n",
       "      <th>new</th>\n",
       "      <th>old</th>\n",
       "    </tr>\n",
       "  </thead>\n",
       "  <tbody>\n",
       "    <tr>\n",
       "      <th>0</th>\n",
       "      <td>17</td>\n",
       "      <td>sh</td>\n",
       "      <td>1</td>\n",
       "      <td>100</td>\n",
       "      <td>1</td>\n",
       "    </tr>\n",
       "    <tr>\n",
       "      <th>1</th>\n",
       "      <td>18</td>\n",
       "      <td>sz</td>\n",
       "      <td>2</td>\n",
       "      <td>100</td>\n",
       "      <td>2</td>\n",
       "    </tr>\n",
       "    <tr>\n",
       "      <th>2</th>\n",
       "      <td>19</td>\n",
       "      <td>gz</td>\n",
       "      <td>1</td>\n",
       "      <td>100</td>\n",
       "      <td>3</td>\n",
       "    </tr>\n",
       "    <tr>\n",
       "      <th>3</th>\n",
       "      <td>19</td>\n",
       "      <td>bj</td>\n",
       "      <td>2</td>\n",
       "      <td>100</td>\n",
       "      <td>5</td>\n",
       "    </tr>\n",
       "  </tbody>\n",
       "</table>\n",
       "</div>"
      ],
      "text/plain": [
       "   year city  pop  new  old\n",
       "0    17   sh    1  100    1\n",
       "1    18   sz    2  100    2\n",
       "2    19   gz    1  100    3\n",
       "3    19   bj    2  100    5"
      ]
     },
     "execution_count": 107,
     "metadata": {},
     "output_type": "execute_result"
    }
   ],
   "source": [
    "frame2['old'] = [1, 2, 3, 5]\n",
    "frame2"
   ]
  },
  {
   "cell_type": "code",
   "execution_count": 108,
   "metadata": {},
   "outputs": [
    {
     "data": {
      "text/html": [
       "<div>\n",
       "<style scoped>\n",
       "    .dataframe tbody tr th:only-of-type {\n",
       "        vertical-align: middle;\n",
       "    }\n",
       "\n",
       "    .dataframe tbody tr th {\n",
       "        vertical-align: top;\n",
       "    }\n",
       "\n",
       "    .dataframe thead th {\n",
       "        text-align: right;\n",
       "    }\n",
       "</style>\n",
       "<table border=\"1\" class=\"dataframe\">\n",
       "  <thead>\n",
       "    <tr style=\"text-align: right;\">\n",
       "      <th></th>\n",
       "      <th>year</th>\n",
       "      <th>city</th>\n",
       "      <th>pop</th>\n",
       "      <th>new</th>\n",
       "      <th>old</th>\n",
       "      <th>cap</th>\n",
       "    </tr>\n",
       "  </thead>\n",
       "  <tbody>\n",
       "    <tr>\n",
       "      <th>0</th>\n",
       "      <td>17</td>\n",
       "      <td>sh</td>\n",
       "      <td>1</td>\n",
       "      <td>100</td>\n",
       "      <td>1</td>\n",
       "      <td>False</td>\n",
       "    </tr>\n",
       "    <tr>\n",
       "      <th>1</th>\n",
       "      <td>18</td>\n",
       "      <td>sz</td>\n",
       "      <td>2</td>\n",
       "      <td>100</td>\n",
       "      <td>2</td>\n",
       "      <td>False</td>\n",
       "    </tr>\n",
       "    <tr>\n",
       "      <th>2</th>\n",
       "      <td>19</td>\n",
       "      <td>gz</td>\n",
       "      <td>1</td>\n",
       "      <td>100</td>\n",
       "      <td>3</td>\n",
       "      <td>False</td>\n",
       "    </tr>\n",
       "    <tr>\n",
       "      <th>3</th>\n",
       "      <td>19</td>\n",
       "      <td>bj</td>\n",
       "      <td>2</td>\n",
       "      <td>100</td>\n",
       "      <td>5</td>\n",
       "      <td>True</td>\n",
       "    </tr>\n",
       "  </tbody>\n",
       "</table>\n",
       "</div>"
      ],
      "text/plain": [
       "   year city  pop  new  old    cap\n",
       "0    17   sh    1  100    1  False\n",
       "1    18   sz    2  100    2  False\n",
       "2    19   gz    1  100    3  False\n",
       "3    19   bj    2  100    5   True"
      ]
     },
     "execution_count": 108,
     "metadata": {},
     "output_type": "execute_result"
    }
   ],
   "source": [
    "frame2['cap'] = frame2.city == 'bj'\n",
    "frame2"
   ]
  },
  {
   "cell_type": "code",
   "execution_count": 109,
   "metadata": {},
   "outputs": [
    {
     "data": {
      "text/html": [
       "<div>\n",
       "<style scoped>\n",
       "    .dataframe tbody tr th:only-of-type {\n",
       "        vertical-align: middle;\n",
       "    }\n",
       "\n",
       "    .dataframe tbody tr th {\n",
       "        vertical-align: top;\n",
       "    }\n",
       "\n",
       "    .dataframe thead th {\n",
       "        text-align: right;\n",
       "    }\n",
       "</style>\n",
       "<table border=\"1\" class=\"dataframe\">\n",
       "  <thead>\n",
       "    <tr style=\"text-align: right;\">\n",
       "      <th></th>\n",
       "      <th>0</th>\n",
       "      <th>1</th>\n",
       "      <th>2</th>\n",
       "      <th>3</th>\n",
       "    </tr>\n",
       "  </thead>\n",
       "  <tbody>\n",
       "    <tr>\n",
       "      <th>year</th>\n",
       "      <td>17</td>\n",
       "      <td>18</td>\n",
       "      <td>19</td>\n",
       "      <td>19</td>\n",
       "    </tr>\n",
       "    <tr>\n",
       "      <th>city</th>\n",
       "      <td>sh</td>\n",
       "      <td>sz</td>\n",
       "      <td>gz</td>\n",
       "      <td>bj</td>\n",
       "    </tr>\n",
       "    <tr>\n",
       "      <th>pop</th>\n",
       "      <td>1</td>\n",
       "      <td>2</td>\n",
       "      <td>1</td>\n",
       "      <td>2</td>\n",
       "    </tr>\n",
       "    <tr>\n",
       "      <th>new</th>\n",
       "      <td>100</td>\n",
       "      <td>100</td>\n",
       "      <td>100</td>\n",
       "      <td>100</td>\n",
       "    </tr>\n",
       "    <tr>\n",
       "      <th>old</th>\n",
       "      <td>1</td>\n",
       "      <td>2</td>\n",
       "      <td>3</td>\n",
       "      <td>5</td>\n",
       "    </tr>\n",
       "    <tr>\n",
       "      <th>cap</th>\n",
       "      <td>False</td>\n",
       "      <td>False</td>\n",
       "      <td>False</td>\n",
       "      <td>True</td>\n",
       "    </tr>\n",
       "  </tbody>\n",
       "</table>\n",
       "</div>"
      ],
      "text/plain": [
       "          0      1      2     3\n",
       "year     17     18     19    19\n",
       "city     sh     sz     gz    bj\n",
       "pop       1      2      1     2\n",
       "new     100    100    100   100\n",
       "old       1      2      3     5\n",
       "cap   False  False  False  True"
      ]
     },
     "execution_count": 109,
     "metadata": {},
     "output_type": "execute_result"
    }
   ],
   "source": [
    "# 转置\n",
    "frame2.T"
   ]
  },
  {
   "cell_type": "code",
   "execution_count": 110,
   "metadata": {},
   "outputs": [
    {
     "data": {
      "text/plain": [
       "a     4.3\n",
       "x     2.3\n",
       "d     1.0\n",
       "df    5.0\n",
       "dtype: float64"
      ]
     },
     "execution_count": 110,
     "metadata": {},
     "output_type": "execute_result"
    }
   ],
   "source": [
    "obj4 = pd.Series([4.3, 2.3, 1, 5], index=['a', 'x', 'd', 'df'])\n",
    "obj4"
   ]
  },
  {
   "cell_type": "code",
   "execution_count": 111,
   "metadata": {},
   "outputs": [
    {
     "data": {
      "text/plain": [
       "1   NaN\n",
       "3   NaN\n",
       "5   NaN\n",
       "7   NaN\n",
       "dtype: float64"
      ]
     },
     "execution_count": 111,
     "metadata": {},
     "output_type": "execute_result"
    }
   ],
   "source": [
    "obj5 = obj4.reindex([1, 3, 5, 7])\n",
    "obj5"
   ]
  },
  {
   "cell_type": "code",
   "execution_count": 112,
   "metadata": {},
   "outputs": [
    {
     "data": {
      "text/plain": [
       "1    0.0\n",
       "3    0.0\n",
       "5    0.0\n",
       "7    0.0\n",
       "dtype: float64"
      ]
     },
     "execution_count": 112,
     "metadata": {},
     "output_type": "execute_result"
    }
   ],
   "source": [
    "obj6 = obj4.reindex([1, 3, 5, 7], fill_value=0)\n",
    "obj6"
   ]
  },
  {
   "cell_type": "code",
   "execution_count": 113,
   "metadata": {},
   "outputs": [
    {
     "data": {
      "text/plain": [
       "x     2.3\n",
       "a     4.3\n",
       "d     1.0\n",
       "df    5.0\n",
       "dtype: float64"
      ]
     },
     "execution_count": 113,
     "metadata": {},
     "output_type": "execute_result"
    }
   ],
   "source": [
    "obj7 = obj4.reindex(['x', 'a', 'd', 'df'])\n",
    "obj7"
   ]
  },
  {
   "cell_type": "code",
   "execution_count": 114,
   "metadata": {},
   "outputs": [
    {
     "data": {
      "text/plain": [
       "0      blue\n",
       "2    purple\n",
       "4    yellow\n",
       "dtype: object"
      ]
     },
     "execution_count": 114,
     "metadata": {},
     "output_type": "execute_result"
    }
   ],
   "source": [
    "obj8 = pd.Series(['blue', 'purple', 'yellow'], index=(0, 2, 4))\n",
    "obj8"
   ]
  },
  {
   "cell_type": "code",
   "execution_count": 115,
   "metadata": {},
   "outputs": [
    {
     "data": {
      "text/plain": [
       "0      blue\n",
       "1       NaN\n",
       "2    purple\n",
       "3       NaN\n",
       "4    yellow\n",
       "5       NaN\n",
       "dtype: object"
      ]
     },
     "execution_count": 115,
     "metadata": {},
     "output_type": "execute_result"
    }
   ],
   "source": [
    "obj8.reindex(range(6))"
   ]
  },
  {
   "cell_type": "code",
   "execution_count": 117,
   "metadata": {},
   "outputs": [
    {
     "data": {
      "text/plain": [
       "0      blue\n",
       "1    purple\n",
       "2    purple\n",
       "3    yellow\n",
       "4    yellow\n",
       "5       NaN\n",
       "dtype: object"
      ]
     },
     "execution_count": 117,
     "metadata": {},
     "output_type": "execute_result"
    }
   ],
   "source": [
    "# 使用下面的值补充缺失值\n",
    "obj8.reindex(range(6), method='bfill')"
   ]
  },
  {
   "cell_type": "code",
   "execution_count": 118,
   "metadata": {},
   "outputs": [
    {
     "data": {
      "text/plain": [
       "0    1.0\n",
       "1    NaN\n",
       "2    3.0\n",
       "dtype: float64"
      ]
     },
     "execution_count": 118,
     "metadata": {},
     "output_type": "execute_result"
    }
   ],
   "source": [
    "from numpy import nan as NA\n",
    "\n",
    "data = pd.Series([1, NA, 3])\n",
    "data"
   ]
  },
  {
   "cell_type": "code",
   "execution_count": 119,
   "metadata": {},
   "outputs": [
    {
     "data": {
      "text/plain": [
       "0    1.0\n",
       "2    3.0\n",
       "dtype: float64"
      ]
     },
     "execution_count": 119,
     "metadata": {},
     "output_type": "execute_result"
    }
   ],
   "source": [
    "# 删除缺失值\n",
    "data.dropna()"
   ]
  },
  {
   "cell_type": "code",
   "execution_count": 120,
   "metadata": {},
   "outputs": [
    {
     "data": {
      "text/html": [
       "<div>\n",
       "<style scoped>\n",
       "    .dataframe tbody tr th:only-of-type {\n",
       "        vertical-align: middle;\n",
       "    }\n",
       "\n",
       "    .dataframe tbody tr th {\n",
       "        vertical-align: top;\n",
       "    }\n",
       "\n",
       "    .dataframe thead th {\n",
       "        text-align: right;\n",
       "    }\n",
       "</style>\n",
       "<table border=\"1\" class=\"dataframe\">\n",
       "  <thead>\n",
       "    <tr style=\"text-align: right;\">\n",
       "      <th></th>\n",
       "      <th>0</th>\n",
       "      <th>1</th>\n",
       "      <th>2</th>\n",
       "    </tr>\n",
       "  </thead>\n",
       "  <tbody>\n",
       "    <tr>\n",
       "      <th>0</th>\n",
       "      <td>1.0</td>\n",
       "      <td>6.5</td>\n",
       "      <td>3.0</td>\n",
       "    </tr>\n",
       "    <tr>\n",
       "      <th>1</th>\n",
       "      <td>1.0</td>\n",
       "      <td>NaN</td>\n",
       "      <td>NaN</td>\n",
       "    </tr>\n",
       "    <tr>\n",
       "      <th>2</th>\n",
       "      <td>NaN</td>\n",
       "      <td>NaN</td>\n",
       "      <td>NaN</td>\n",
       "    </tr>\n",
       "  </tbody>\n",
       "</table>\n",
       "</div>"
      ],
      "text/plain": [
       "     0    1    2\n",
       "0  1.0  6.5  3.0\n",
       "1  1.0  NaN  NaN\n",
       "2  NaN  NaN  NaN"
      ]
     },
     "execution_count": 120,
     "metadata": {},
     "output_type": "execute_result"
    }
   ],
   "source": [
    "data2 = pd.DataFrame([[1, 6.5, 3], [1, NA, NA], [NA, NA, NA]])\n",
    "data2"
   ]
  },
  {
   "cell_type": "code",
   "execution_count": 121,
   "metadata": {},
   "outputs": [
    {
     "data": {
      "text/html": [
       "<div>\n",
       "<style scoped>\n",
       "    .dataframe tbody tr th:only-of-type {\n",
       "        vertical-align: middle;\n",
       "    }\n",
       "\n",
       "    .dataframe tbody tr th {\n",
       "        vertical-align: top;\n",
       "    }\n",
       "\n",
       "    .dataframe thead th {\n",
       "        text-align: right;\n",
       "    }\n",
       "</style>\n",
       "<table border=\"1\" class=\"dataframe\">\n",
       "  <thead>\n",
       "    <tr style=\"text-align: right;\">\n",
       "      <th></th>\n",
       "      <th>0</th>\n",
       "      <th>1</th>\n",
       "      <th>2</th>\n",
       "    </tr>\n",
       "  </thead>\n",
       "  <tbody>\n",
       "    <tr>\n",
       "      <th>0</th>\n",
       "      <td>1.0</td>\n",
       "      <td>6.5</td>\n",
       "      <td>3.0</td>\n",
       "    </tr>\n",
       "    <tr>\n",
       "      <th>1</th>\n",
       "      <td>1.0</td>\n",
       "      <td>NaN</td>\n",
       "      <td>NaN</td>\n",
       "    </tr>\n",
       "  </tbody>\n",
       "</table>\n",
       "</div>"
      ],
      "text/plain": [
       "     0    1    2\n",
       "0  1.0  6.5  3.0\n",
       "1  1.0  NaN  NaN"
      ]
     },
     "execution_count": 121,
     "metadata": {},
     "output_type": "execute_result"
    }
   ],
   "source": [
    "data2.dropna(how='all')"
   ]
  },
  {
   "cell_type": "code",
   "execution_count": 122,
   "metadata": {},
   "outputs": [
    {
     "data": {
      "text/html": [
       "<div>\n",
       "<style scoped>\n",
       "    .dataframe tbody tr th:only-of-type {\n",
       "        vertical-align: middle;\n",
       "    }\n",
       "\n",
       "    .dataframe tbody tr th {\n",
       "        vertical-align: top;\n",
       "    }\n",
       "\n",
       "    .dataframe thead th {\n",
       "        text-align: right;\n",
       "    }\n",
       "</style>\n",
       "<table border=\"1\" class=\"dataframe\">\n",
       "  <thead>\n",
       "    <tr style=\"text-align: right;\">\n",
       "      <th></th>\n",
       "      <th>0</th>\n",
       "      <th>1</th>\n",
       "      <th>2</th>\n",
       "    </tr>\n",
       "  </thead>\n",
       "  <tbody>\n",
       "    <tr>\n",
       "      <th>0</th>\n",
       "      <td>1.0</td>\n",
       "      <td>6.5</td>\n",
       "      <td>3.0</td>\n",
       "    </tr>\n",
       "    <tr>\n",
       "      <th>1</th>\n",
       "      <td>1.0</td>\n",
       "      <td>NaN</td>\n",
       "      <td>NaN</td>\n",
       "    </tr>\n",
       "    <tr>\n",
       "      <th>2</th>\n",
       "      <td>NaN</td>\n",
       "      <td>NaN</td>\n",
       "      <td>NaN</td>\n",
       "    </tr>\n",
       "  </tbody>\n",
       "</table>\n",
       "</div>"
      ],
      "text/plain": [
       "     0    1    2\n",
       "0  1.0  6.5  3.0\n",
       "1  1.0  NaN  NaN\n",
       "2  NaN  NaN  NaN"
      ]
     },
     "execution_count": 122,
     "metadata": {},
     "output_type": "execute_result"
    }
   ],
   "source": [
    "data2"
   ]
  },
  {
   "cell_type": "code",
   "execution_count": 123,
   "metadata": {},
   "outputs": [
    {
     "data": {
      "text/html": [
       "<div>\n",
       "<style scoped>\n",
       "    .dataframe tbody tr th:only-of-type {\n",
       "        vertical-align: middle;\n",
       "    }\n",
       "\n",
       "    .dataframe tbody tr th {\n",
       "        vertical-align: top;\n",
       "    }\n",
       "\n",
       "    .dataframe thead th {\n",
       "        text-align: right;\n",
       "    }\n",
       "</style>\n",
       "<table border=\"1\" class=\"dataframe\">\n",
       "  <thead>\n",
       "    <tr style=\"text-align: right;\">\n",
       "      <th></th>\n",
       "      <th>0</th>\n",
       "      <th>1</th>\n",
       "      <th>2</th>\n",
       "    </tr>\n",
       "  </thead>\n",
       "  <tbody>\n",
       "    <tr>\n",
       "      <th>0</th>\n",
       "      <td>1.0</td>\n",
       "      <td>6.5</td>\n",
       "      <td>3.0</td>\n",
       "    </tr>\n",
       "    <tr>\n",
       "      <th>1</th>\n",
       "      <td>1.0</td>\n",
       "      <td>NaN</td>\n",
       "      <td>NaN</td>\n",
       "    </tr>\n",
       "    <tr>\n",
       "      <th>2</th>\n",
       "      <td>NaN</td>\n",
       "      <td>NaN</td>\n",
       "      <td>NaN</td>\n",
       "    </tr>\n",
       "  </tbody>\n",
       "</table>\n",
       "</div>"
      ],
      "text/plain": [
       "     0    1    2\n",
       "0  1.0  6.5  3.0\n",
       "1  1.0  NaN  NaN\n",
       "2  NaN  NaN  NaN"
      ]
     },
     "execution_count": 123,
     "metadata": {},
     "output_type": "execute_result"
    }
   ],
   "source": [
    "data2.dropna(axis=1, how='all')"
   ]
  },
  {
   "cell_type": "code",
   "execution_count": 124,
   "metadata": {},
   "outputs": [
    {
     "data": {
      "text/html": [
       "<div>\n",
       "<style scoped>\n",
       "    .dataframe tbody tr th:only-of-type {\n",
       "        vertical-align: middle;\n",
       "    }\n",
       "\n",
       "    .dataframe tbody tr th {\n",
       "        vertical-align: top;\n",
       "    }\n",
       "\n",
       "    .dataframe thead th {\n",
       "        text-align: right;\n",
       "    }\n",
       "</style>\n",
       "<table border=\"1\" class=\"dataframe\">\n",
       "  <thead>\n",
       "    <tr style=\"text-align: right;\">\n",
       "      <th></th>\n",
       "      <th>0</th>\n",
       "      <th>1</th>\n",
       "      <th>2</th>\n",
       "    </tr>\n",
       "  </thead>\n",
       "  <tbody>\n",
       "    <tr>\n",
       "      <th>0</th>\n",
       "      <td>1.0</td>\n",
       "      <td>6.5</td>\n",
       "      <td>3.0</td>\n",
       "    </tr>\n",
       "    <tr>\n",
       "      <th>1</th>\n",
       "      <td>1.0</td>\n",
       "      <td>0.0</td>\n",
       "      <td>0.0</td>\n",
       "    </tr>\n",
       "    <tr>\n",
       "      <th>2</th>\n",
       "      <td>0.0</td>\n",
       "      <td>0.0</td>\n",
       "      <td>0.0</td>\n",
       "    </tr>\n",
       "  </tbody>\n",
       "</table>\n",
       "</div>"
      ],
      "text/plain": [
       "     0    1    2\n",
       "0  1.0  6.5  3.0\n",
       "1  1.0  0.0  0.0\n",
       "2  0.0  0.0  0.0"
      ]
     },
     "execution_count": 124,
     "metadata": {},
     "output_type": "execute_result"
    }
   ],
   "source": [
    "# 填充缺失值\n",
    "data2.fillna(0)"
   ]
  },
  {
   "cell_type": "code",
   "execution_count": 125,
   "metadata": {},
   "outputs": [
    {
     "data": {
      "text/html": [
       "<div>\n",
       "<style scoped>\n",
       "    .dataframe tbody tr th:only-of-type {\n",
       "        vertical-align: middle;\n",
       "    }\n",
       "\n",
       "    .dataframe tbody tr th {\n",
       "        vertical-align: top;\n",
       "    }\n",
       "\n",
       "    .dataframe thead th {\n",
       "        text-align: right;\n",
       "    }\n",
       "</style>\n",
       "<table border=\"1\" class=\"dataframe\">\n",
       "  <thead>\n",
       "    <tr style=\"text-align: right;\">\n",
       "      <th></th>\n",
       "      <th>0</th>\n",
       "      <th>1</th>\n",
       "      <th>2</th>\n",
       "    </tr>\n",
       "  </thead>\n",
       "  <tbody>\n",
       "    <tr>\n",
       "      <th>0</th>\n",
       "      <td>1.0</td>\n",
       "      <td>6.5</td>\n",
       "      <td>3.0</td>\n",
       "    </tr>\n",
       "    <tr>\n",
       "      <th>1</th>\n",
       "      <td>1.0</td>\n",
       "      <td>NaN</td>\n",
       "      <td>NaN</td>\n",
       "    </tr>\n",
       "    <tr>\n",
       "      <th>2</th>\n",
       "      <td>NaN</td>\n",
       "      <td>NaN</td>\n",
       "      <td>NaN</td>\n",
       "    </tr>\n",
       "  </tbody>\n",
       "</table>\n",
       "</div>"
      ],
      "text/plain": [
       "     0    1    2\n",
       "0  1.0  6.5  3.0\n",
       "1  1.0  NaN  NaN\n",
       "2  NaN  NaN  NaN"
      ]
     },
     "execution_count": 125,
     "metadata": {},
     "output_type": "execute_result"
    }
   ],
   "source": [
    "data2"
   ]
  },
  {
   "cell_type": "code",
   "execution_count": 126,
   "metadata": {},
   "outputs": [],
   "source": [
    "data2.fillna(0, inplace=True)"
   ]
  },
  {
   "cell_type": "code",
   "execution_count": 127,
   "metadata": {},
   "outputs": [
    {
     "data": {
      "text/html": [
       "<div>\n",
       "<style scoped>\n",
       "    .dataframe tbody tr th:only-of-type {\n",
       "        vertical-align: middle;\n",
       "    }\n",
       "\n",
       "    .dataframe tbody tr th {\n",
       "        vertical-align: top;\n",
       "    }\n",
       "\n",
       "    .dataframe thead th {\n",
       "        text-align: right;\n",
       "    }\n",
       "</style>\n",
       "<table border=\"1\" class=\"dataframe\">\n",
       "  <thead>\n",
       "    <tr style=\"text-align: right;\">\n",
       "      <th></th>\n",
       "      <th>0</th>\n",
       "      <th>1</th>\n",
       "      <th>2</th>\n",
       "    </tr>\n",
       "  </thead>\n",
       "  <tbody>\n",
       "    <tr>\n",
       "      <th>0</th>\n",
       "      <td>1.0</td>\n",
       "      <td>6.5</td>\n",
       "      <td>3.0</td>\n",
       "    </tr>\n",
       "    <tr>\n",
       "      <th>1</th>\n",
       "      <td>1.0</td>\n",
       "      <td>0.0</td>\n",
       "      <td>0.0</td>\n",
       "    </tr>\n",
       "    <tr>\n",
       "      <th>2</th>\n",
       "      <td>0.0</td>\n",
       "      <td>0.0</td>\n",
       "      <td>0.0</td>\n",
       "    </tr>\n",
       "  </tbody>\n",
       "</table>\n",
       "</div>"
      ],
      "text/plain": [
       "     0    1    2\n",
       "0  1.0  6.5  3.0\n",
       "1  1.0  0.0  0.0\n",
       "2  0.0  0.0  0.0"
      ]
     },
     "execution_count": 127,
     "metadata": {},
     "output_type": "execute_result"
    }
   ],
   "source": [
    "data2"
   ]
  },
  {
   "cell_type": "code",
   "execution_count": 128,
   "metadata": {},
   "outputs": [
    {
     "data": {
      "text/plain": [
       "a  1   -1.194710\n",
       "   2   -0.609115\n",
       "   3    1.052927\n",
       "b  1   -0.288856\n",
       "   2   -0.543601\n",
       "   3    0.487043\n",
       "c  1   -0.270111\n",
       "   2   -0.929719\n",
       "d  2    0.263725\n",
       "   3   -1.007620\n",
       "dtype: float64"
      ]
     },
     "execution_count": 128,
     "metadata": {},
     "output_type": "execute_result"
    }
   ],
   "source": [
    "# 层次化索引\n",
    "data3 = pd.Series(np.random.randn(10),\n",
    "                 index=[['a', 'a', 'a', 'b', 'b', 'b', 'c', 'c', 'd', 'd'],\n",
    "                       [1, 2, 3, 1, 2, 3, 1, 2, 2, 3]])\n",
    "data3"
   ]
  },
  {
   "cell_type": "code",
   "execution_count": 129,
   "metadata": {},
   "outputs": [
    {
     "data": {
      "text/plain": [
       "1   -0.288856\n",
       "2   -0.543601\n",
       "3    0.487043\n",
       "dtype: float64"
      ]
     },
     "execution_count": 129,
     "metadata": {},
     "output_type": "execute_result"
    }
   ],
   "source": [
    "data3['b']"
   ]
  },
  {
   "cell_type": "code",
   "execution_count": 130,
   "metadata": {},
   "outputs": [
    {
     "data": {
      "text/plain": [
       "b  1   -0.288856\n",
       "   2   -0.543601\n",
       "   3    0.487043\n",
       "c  1   -0.270111\n",
       "   2   -0.929719\n",
       "dtype: float64"
      ]
     },
     "execution_count": 130,
     "metadata": {},
     "output_type": "execute_result"
    }
   ],
   "source": [
    "data3['b':'c']"
   ]
  },
  {
   "cell_type": "code",
   "execution_count": 131,
   "metadata": {},
   "outputs": [
    {
     "data": {
      "text/html": [
       "<div>\n",
       "<style scoped>\n",
       "    .dataframe tbody tr th:only-of-type {\n",
       "        vertical-align: middle;\n",
       "    }\n",
       "\n",
       "    .dataframe tbody tr th {\n",
       "        vertical-align: top;\n",
       "    }\n",
       "\n",
       "    .dataframe thead th {\n",
       "        text-align: right;\n",
       "    }\n",
       "</style>\n",
       "<table border=\"1\" class=\"dataframe\">\n",
       "  <thead>\n",
       "    <tr style=\"text-align: right;\">\n",
       "      <th></th>\n",
       "      <th>1</th>\n",
       "      <th>2</th>\n",
       "      <th>3</th>\n",
       "    </tr>\n",
       "  </thead>\n",
       "  <tbody>\n",
       "    <tr>\n",
       "      <th>a</th>\n",
       "      <td>-1.194710</td>\n",
       "      <td>-0.609115</td>\n",
       "      <td>1.052927</td>\n",
       "    </tr>\n",
       "    <tr>\n",
       "      <th>b</th>\n",
       "      <td>-0.288856</td>\n",
       "      <td>-0.543601</td>\n",
       "      <td>0.487043</td>\n",
       "    </tr>\n",
       "    <tr>\n",
       "      <th>c</th>\n",
       "      <td>-0.270111</td>\n",
       "      <td>-0.929719</td>\n",
       "      <td>NaN</td>\n",
       "    </tr>\n",
       "    <tr>\n",
       "      <th>d</th>\n",
       "      <td>NaN</td>\n",
       "      <td>0.263725</td>\n",
       "      <td>-1.007620</td>\n",
       "    </tr>\n",
       "  </tbody>\n",
       "</table>\n",
       "</div>"
      ],
      "text/plain": [
       "          1         2         3\n",
       "a -1.194710 -0.609115  1.052927\n",
       "b -0.288856 -0.543601  0.487043\n",
       "c -0.270111 -0.929719       NaN\n",
       "d       NaN  0.263725 -1.007620"
      ]
     },
     "execution_count": 131,
     "metadata": {},
     "output_type": "execute_result"
    }
   ],
   "source": [
    "data3.unstack()"
   ]
  },
  {
   "cell_type": "code",
   "execution_count": 132,
   "metadata": {},
   "outputs": [
    {
     "data": {
      "text/plain": [
       "a  1   -1.194710\n",
       "   2   -0.609115\n",
       "   3    1.052927\n",
       "b  1   -0.288856\n",
       "   2   -0.543601\n",
       "   3    0.487043\n",
       "c  1   -0.270111\n",
       "   2   -0.929719\n",
       "d  2    0.263725\n",
       "   3   -1.007620\n",
       "dtype: float64"
      ]
     },
     "execution_count": 132,
     "metadata": {},
     "output_type": "execute_result"
    }
   ],
   "source": [
    "data3.unstack().stack()"
   ]
  },
  {
   "cell_type": "code",
   "execution_count": 137,
   "metadata": {},
   "outputs": [
    {
     "data": {
      "image/png": "[encoded data removed]",
      "text/plain": [
       "<Figure size 432x288 with 1 Axes>"
      ]
     },
     "metadata": {
      "needs_background": "light"
     },
     "output_type": "display_data"
    }
   ],
   "source": [
    "# matplotlib\n",
    "import matplotlib.pyplot as plt\n",
    "\n",
    "# 绘制简单曲线\n",
    "plt.plot([1, 2, 3], [4, 5, 6])\n",
    "plt.show()"
   ]
  },
  {
   "cell_type": "code",
   "execution_count": 138,
   "metadata": {},
   "outputs": [
    {
     "data": {
      "image/png": "[encoded data removed]",
      "text/plain": [
       "<Figure size 432x288 with 1 Axes>"
      ]
     },
     "metadata": {
      "needs_background": "light"
     },
     "output_type": "display_data"
    }
   ],
   "source": [
    "x = np.linspace(-np.pi, np.pi, 100)\n",
    "plt.plot(x, np.sin(x))\n",
    "plt.show()"
   ]
  },
  {
   "cell_type": "code",
   "execution_count": 139,
   "metadata": {},
   "outputs": [
    {
     "data": {
      "image/png": "[encoded data removed]",
      "text/plain": [
       "<Figure size 300x200 with 1 Axes>"
      ]
     },
     "metadata": {
      "needs_background": "light"
     },
     "output_type": "display_data"
    }
   ],
   "source": [
    "# 创建图表1\n",
    "plt.figure(1, dpi=50)\n",
    "# 画4条线\n",
    "for i in range(1, 5):\n",
    "    plt.plot(x, np.sin(x/i))\n",
    "plt.show()"
   ]
  },
  {
   "cell_type": "code",
   "execution_count": 4,
   "metadata": {},
   "outputs": [
    {
     "data": {
      "image/png": "[encoded data removed]",
      "text/plain": [
       "<Figure size 432x288 with 1 Axes>"
      ]
     },
     "metadata": {
      "needs_background": "light"
     },
     "output_type": "display_data"
    }
   ],
   "source": [
    "import matplotlib.pyplot as plt\n",
    "data = [1, 1, 1, 2, 2, 2, 3, 3, 4, 5, 5, 6, 4]\n",
    "plt.hist(data)\n",
    "plt.show()"
   ]
  },
  {
   "cell_type": "code",
   "execution_count": 5,
   "metadata": {},
   "outputs": [
    {
     "data": {
      "image/png": "[encoded data removed]",
      "text/plain": [
       "<Figure size 432x288 with 1 Axes>"
      ]
     },
     "metadata": {
      "needs_background": "light"
     },
     "output_type": "display_data"
    }
   ],
   "source": [
    "import numpy as np\n",
    "x = np.arange(10)\n",
    "y = x\n",
    "plt.scatter(x, y)\n",
    "plt.show()"
   ]
  },
  {
   "cell_type": "code",
   "execution_count": 10,
   "metadata": {},
   "outputs": [
    {
     "data": {
      "text/plain": [
       "'<!DOCTYPE html>\\n<!--STATUS OK-->\\n\\r\\n\\r\\n\\r\\n\\r\\n\\r\\n\\r\\n\\r\\n\\r\\n\\r\\n\\r\\n\\r\\n\\r\\n\\r\\n\\r\\n\\r\\n\\r\\n\\r\\n\\r\\n\\r\\n\\r\\n\\r\\n\\r\\n\\r\\n\\r\\n\\r\\n\\r\\n\\r\\n\\r\\n\\r\\n\\r\\n\\r\\n\\r\\n\\r\\n\\r\\n\\r\\n\\r\\n\\r\\n\\r\\n\\r\\n\\r\\n\\r\\n\\r\\n\\r\\n\\r\\n\\r\\n\\r\\n\\r\\n\\r\\n\\r\\n\\r\\n\\r\\n\\r\\n\\r\\n\\r\\n\\r\\n\\r\\n\\t\\r\\n\\r\\n\\r\\n\\r\\n\\r\\n\\r\\n\\r\\n\\r\\n\\r\\n\\r\\n\\r\\n\\r\\n\\r\\n\\r\\n\\r\\n\\r\\n\\r\\n\\r\\n\\r\\n\\r\\n\\r\\n\\r\\n\\r\\n\\r\\n\\r\\n\\r\\n\\r\\n\\r\\n\\r\\n\\r\\n\\r\\n\\r\\n\\r\\n\\t\\r\\n        \\r\\n\\t\\t\\t        \\r\\n\\t\\r\\n\\t\\t\\t        \\r\\n\\t\\r\\n\\t\\t\\t        \\r\\n\\t\\r\\n\\t\\t\\t        \\r\\n\\t\\t\\t    \\r\\n\\r\\n\\t\\r\\n        \\r\\n\\t\\t\\t        \\r\\n\\t\\r\\n\\t\\t\\t        \\r\\n\\t\\r\\n\\t\\t\\t        \\r\\n\\t\\r\\n\\t\\t\\t        \\r\\n\\t\\t\\t    \\r\\n\\r\\n\\r\\n\\n\\n\\n\\n\\n\\n\\n\\n\\n\\n\\n\\n\\n\\n\\n\\n\\n\\n\\n\\n\\n\\n<html>\\n<head>\\n    \\n    <meta http-equiv=\"content-type\" content=\"text/html;charset=utf-8\">\\n    <meta http-equiv=\"X-UA-Compatible\" content=\"IE=Edge\">\\n\\t<meta content=\"always\" name=\"referrer\">\\n    <meta name=\"theme-color\" content=\"#2932e1\">\\n    <link rel=\"shortcut icon\" href=\"/favicon.ico\" type=\"image/x-icon\" />\\n    <link rel=\"search\" type=\"application/opensearchdescription+xml\" href=\"/content-search.xml\" title=\"百度搜索\" />\\n    <link rel=\"icon\" sizes=\"any\" mask href=\"//www.baidu.com/img/baidu_85beaf5496f291521eb75ba38eacbd87.svg\">\\n\\t\\n\\t\\n\\t<link rel=\"dns-prefetch\" href=\"//s1.bdstatic.com\"/>\\n\\t<link rel=\"dns-prefetch\" href=\"//t1.baidu.com\"/>\\n\\t<link rel=\"dns-prefetch\" href=\"//t2.baidu.com\"/>\\n\\t<link rel=\"dns-prefetch\" href=\"//t3.baidu.com\"/>\\n\\t<link rel=\"dns-prefetch\" href=\"//t10.baidu.com\"/>\\n\\t<link rel=\"dns-prefetch\" href=\"//t11.baidu.com\"/>\\n\\t<link rel=\"dns-prefetch\" href=\"//t12.baidu.com\"/>\\n\\t<link rel=\"dns-prefetch\" href=\"//b1.bdstatic.com\"/>\\n    \\n    <title>百度一下，你就知道</title>\\n    \\n\\n<style id=\"css_index\" index=\"index\" type=\"text/css\">html,body{height:100%}\\nhtml{overflow-y:auto}\\nbody{font:12px arial;text-align:;background:#fff}\\nbody,p,form,ul,li{margin:0;padding:0;list-style:none}\\nbody,form,#fm{position:relative}\\ntd{text-align:left}\\nimg{border:0}\\na{color:#00c}\\na:active{color:#f60}\\ninput{border:0;padding:0}\\n#wrapper{position:relative;_position:;min-height:100%}\\n#head{padding-bottom:100px;text-align:center;*z-index:1}\\n#ftCon{height:50px;position:absolute;bottom:47px;text-align:left;width:100%;margin:0 auto;z-index:0;overflow:hidden}\\n.ftCon-Wrapper{overflow:hidden;margin:0 auto;text-align:center;*width:640px}\\n.qrcodeCon{text-align:center;position:absolute;bottom:132px;width:100%}\\n#qrcode{display:inline-block;*float:left;*margin-top:4px}\\n#qrcode .qrcode-item{float:left}\\n#qrcode .qrcode-item-2{margin-left:33px}\\n#qrcode .qrcode-img{width:106px;height:106px;margin:0 auto;padding:5px;border:1px solid #f3f3f3}\\n#qrcode .qrcode-item-1 .qrcode-img{background:url(http://s1.bdstatic.com/r/www/cache/static/home/img/qrcode/zbios_09b6296.png) 0 0 no-repeat;background-position:5px 5px}\\n#qrcode .qrcode-item-2 .qrcode-img{background:url(http://s1.bdstatic.com/r/www/cache/static/home/img/qrcode/nuomi_365eabd.png) 0 0 no-repeat;background-position:5px 5px}\\n@media only screen and (-webkit-min-device-pixel-ratio:2){#qrcode .qrcode-item-1 .qrcode-img{background-image:url(http://s1.bdstatic.com/r/www/cache/static/home/img/qrcode/zbios_x2_5869f49.png);background-size:106px 106px}\\n#qrcode .qrcode-item-2 .qrcode-img{background-image:url(http://s1.bdstatic.com/r/www/cache/static/home/img/qrcode/nuomi_x2_55dc5b7.png);background-size:106px 106px}}\\n#qrcode .qrcode-text{color:#999;line-height:23px}\\n#qrcode .qrcode-text a{color:#999;text-decoration:none}\\n#qrcode .qrcode-text p{text-align:center}\\n#qrcode .qrcode-text b{color:#666;font-weight:700}\\n#qrcode .qrcode-text span{letter-spacing:1px}\\n#qrcode .qrcode-text .title{color:#333;font-size:16px;line-height:32px;letter-spacing:3px}\\n#qrcode .qrcode-text .sub-title{color:#999;font-size:14px;line-height:14px;font-weight:300}\\n#ftConw{display:inline-block;text-align:left;margin-left:33px;line-height:22px;position:relative;top:-2px;*float:right;*margin-left:0;*position:static}\\n#ftConw,#ftConw a{color:#999}\\n#ftConw{text-align:center;margin-left:0}\\n.bg{background-image:url(http://s1.bdstatic.com/r/www/cache/static/global/img/icons_441e82f.png);background-repeat:no-repeat;_background-image:url(http://s1.bdstatic.com/r/www/cache/static/global/img/icons_d5b04cc.gif)}\\n.c-icon{display:inline-block;width:14px;height:14px;vertical-align:text-bottom;font-style:normal;overflow:hidden;background:url(http://s1.bdstatic.com/r/www/cache/static/global/img/icons_441e82f.png) no-repeat 0 0;_background-image:url(http://s1.bdstatic.com/r/www/cache/static/global/img/icons_d5b04cc.gif)}\\n.c-icon-triangle-down-blue{background-position:-480px -168px}\\n.c-icon-chevron-unfold2{background-position:-504px -168px}\\n#m{width:720px;margin:0 auto}\\n#nv a,#nv b,.btn,#lk{font-size:14px}\\n#nv{height:19px;font-size:16px;margin:0 0 4px;text-align:left;text-indent:137px}\\n.s_btn{width:95px;height:32px;padding-top:2px\\\\9;font-size:14px;background-color:#ddd;background-position:0 -48px;cursor:pointer}\\n.s_btn_h{background-position:-240px -48px}\\n.s_btn_wr{width:97px;height:34px;display:inline-block;background-position:-120px -48px;*position:relative;z-index:0;vertical-align:top}\\n#jgwab{margin-left:19px}\\n#cp .c-icon-icrlogo,.c-icon-jgwablogo{width:14px;height:17px;display:inline-block;overflow:hidden;background:url(http://s1.bdstatic.com/r/www/cache/static/global/img/icons_441e82f.png) no-repeat;_background-image:url(http://s1.bdstatic.com/r/www/cache/static/global/img/icons_d5b04cc.gif)}\\n#cp .c-icon-icrlogo{background-position:-600px -96px;position:relative;top:3px}\\n.c-icon-jgwablogo{background-position:-623px -96px;position:relative;top:3px}\\n#shouji{margin-right:14px}\\n#u{display:none}\\n#c-tips-container{display:none}\\n#wrapper{min-width:810px;height:100%;min-height:600px}\\n#head{position:relative;padding-bottom:0;height:100%;min-height:600px}\\n#head .head_wrapper{height:100%}\\n#m{position:relative}\\n#fm{padding-left:40px;top:-37px}\\n#lh a{margin-left:62px}\\n#lh #seth,#lh #setf{margin-left:0}\\n#lk{position:absolute;display:none;top:0;right:0;margin:33px 0}\\n#lk span{font:14px \"宋体\"}\\n#nv{position:absolute;display:none;top:0;right:0}\\n#lm{color:#666;width:100%;height:60px;margin-top:60px;line-height:15px;font-size:13px;position:absolute;top:0;left:0}\\n#lm a{color:#666}\\n#pad-version{line-height:40px}\\n.s_ipt_wr.bg,.s_btn_wr.bg,#su.bg{background-image:none}\\n.s_btn_wr{width:auto;height:auto;border-bottom:1px solid transparent;*border-bottom:0}\\n.s_btn{width:100px;height:36px;color:#fff;font-size:15px;letter-spacing:1px;background:#3385ff;border-bottom:1px solid #2d78f4;outline:medium;*border-bottom:0;-webkit-appearance:none;-webkit-border-radius:0}\\n.s_btn.btnhover{background:#317ef3;border-bottom:1px solid #2868c8;*border-bottom:0;box-shadow:1px 1px 1px #ccc}\\n.s_btn_h{background:#3075dc;box-shadow:inset 1px 1px 5px #2964bb;-webkit-box-shadow:inset 1px 1px 5px #2964bb;-moz-box-shadow:inset 1px 1px 5px #2964bb;-o-box-shadow:inset 1px 1px 5px #2964bb}\\n#result_logo{display:none}\\n#index_logo img{display:inline-block;width:270px;height:129px}\\n#s_tab{display:none}\\n.s_form{position:relative;top:38.2%}\\n.s_form_wrapper{position:relative;top:-191px}\\n.s_ipt_wr{height:34px}\\n#head .c-icon-bear-round{display:none}\\n#form{margin:22px auto 0;width:641px;text-align:left;z-index:100}\\n#form .bdsug,#fm .bdsug{top:35px}\\n.bdsug{display:none;position:absolute;width:538px;background:#fff;border:1px solid #ccc;_overflow:hidden;box-shadow:1px 1px 3px #ededed;-webkit-box-shadow:1px 1px 3px #ededed;-moz-box-shadow:1px 1px 3px #ededed;-o-box-shadow:1px 1px 3px #ededed}\\n.bdsug.bdsugbg ul{background:url(http://s1.bdstatic.com/r/www/cache/static/home/img/sugbg_1762fe7.png) 100% 100% no-repeat;background-size:100px 110px;background-image:url(http://s1.bdstatic.com/r/www/cache/static/home/img/sugbg_90fc9cf.gif)\\\\9}\\n.bdsug li{width:522px;color:#000;font:14px arial;line-height:25px;padding:0 8px;position:relative;cursor:default}\\n.bdsug li.bdsug-s{background:#f0f0f0}\\n.bdsug-store span,.bdsug-store b{color:#7A77C8}\\n.bdsug-store-del{font-size:12px;color:#666;text-decoration:underline;position:absolute;right:8px;top:0;cursor:pointer;display:none}\\n.bdsug-s .bdsug-store-del{display:inline-block}\\n.bdsug-ala{display:inline-block;border-bottom:1px solid #e6e6e6}\\n.bdsug-ala h3{line-height:14px;background:url(//www.baidu.com/img/sug_bd.png) no-repeat left center;margin:8px 0 5px;font-size:12px;font-weight:400;color:#7B7B7B;padding-left:20px}\\n.bdsug-ala p{font-size:14px;font-weight:700;padding-left:20px}\\n.bdsug .bdsug-direct{width:auto;padding:0;border-bottom:1px solid #f1f1f1}\\n.bdsug .bdsug-direct p{color:#00c;font-weight:700;line-height:34px;padding:0 8px;cursor:pointer;white-space:nowrap;overflow:hidden}\\n.bdsug .bdsug-direct p img{width:16px;height:16px;margin:7px 6px 9px 0;vertical-align:middle}\\n.bdsug .bdsug-direct p span{margin-left:8px}\\n.bdsug .bdsug-direct p i{font-size:12px;line-height:100%;font-style:normal;font-weight:400;color:#fff;background-color:#2b99ff;display:inline;text-align:center;padding:1px 5px;*padding:2px 5px 0;margin-left:8px;overflow:hidden}\\n.bdsug .bdsug-pcDirect{color:#000;font-size:14px;line-height:30px;height:30px;background-color:#f8f8f8}\\n.bdsug .bdsug-pc-direct-tip{position:absolute;right:15px;top:8px;width:55px;height:15px;display:block;background:url(http://s1.bdstatic.com/r/www/cache/static/global/img/pc_direct_42d6311.png) no-repeat 0 0}\\n.bdsug li.bdsug-pcDirect-s{background-color:#f0f0f0}\\n.bdsug .bdsug-pcDirect-is{color:#000;font-size:14px;line-height:22px;background-color:#f8f8f8}\\n.bdsug .bdsug-pc-direct-tip-is{position:absolute;right:15px;top:3px;width:55px;height:15px;display:block;background:url(http://s1.bdstatic.com/r/www/cache/static/global/img/pc_direct_42d6311.png) no-repeat 0 0}\\n.bdsug li.bdsug-pcDirect-is-s{background-color:#f0f0f0}\\n.bdsug .bdsug-pcDirect-s .bdsug-pc-direct-tip,.bdsug .bdsug-pcDirect-is-s .bdsug-pc-direct-tip-is{background-position:0 -15px}\\n.bdsug .bdsug-newicon{color:#929292;opacity:.7;font-size:12px;display:inline-block;line-height:22px;letter-spacing:2px}\\n.bdsug .bdsug-s .bdsug-newicon{opacity:1}\\n.bdsug .bdsug-newicon i{letter-spacing:0;font-style:normal}\\n.bdsug .bdsug-feedback-wrap{text-align:right;background:#fafafa;color:#666;height:25px;line-height:25px;display:none}\\n.bdsug .bdsug-feedback{margin-right:10px;text-decoration:underline;color:#666}\\n.toggle-underline{text-decoration:none}\\n.toggle-underline:hover{text-decoration:underline}\\n.tools{position:absolute;right:-75px}\\n#mHolder{width:62px;position:relative;z-index:296;display:none}\\n#mCon{height:18px;line-height:18px;position:absolute;cursor:pointer}\\n#mCon span{color:#00c;display:block;width:24px}\\n#mCon .hw{text-decoration:underline;cursor:pointer;display:inline-block}\\n#mCon .pinyin{display:inline-block}\\n#mCon .c-icon-chevron-unfold2{margin-left:5px}\\n#mMenu a{width:100%;height:100%;display:block;line-height:22px;text-indent:6px;text-decoration:none;filter:none\\\\9}\\n#mMenu,#user ul{box-shadow:1px 1px 2px #ccc;-moz-box-shadow:1px 1px 2px #ccc;-webkit-box-shadow:1px 1px 2px #ccc;filter:progid:DXImageTransform.Microsoft.Shadow(Strength=2, Direction=135, Color=#cccccc)\\\\9}\\n#mMenu{width:56px;border:1px solid #9b9b9b;list-style:none;position:absolute;right:27px;top:28px;display:none;background:#fff}\\n#mMenu a:hover{background:#ebebeb}\\n#mMenu .ln{height:1px;background:#ebebeb;overflow:hidden;font-size:1px;line-height:1px;margin-top:-1px}\\n#u1 a:link,#u1 a:visited{color:#666;text-decoration:none}\\n#u1 a:hover,#u1 a:active{text-decoration:underline}\\n#u1 a:active{color:#00c}\\n#u1{z-index:2;color:#fff;position:absolute;right:0;top:0;margin:19px 0 5px;padding:0 96px 0 0}\\n#u1 .reg{display:none}\\n#u1 a.pf,#u1 a.pf:visited{display:inline-block;float:left;color:#333;line-height:24px;font-size:13px;margin-left:20px;overflow:hidden;text-decoration:underline}\\n#u1 a.lb,#u1 a.lb:visited,#u1 a.username{display:inline-block;float:left;color:#333;font-size:13px;line-height:24px;margin-left:20px;text-decoration:underline}\\n#u1 a.bri,#u1 a.bri:visited{display:inline-block;position:absolute;right:10px;width:60px;height:23px;float:left;color:#fff;background:#38f;line-height:24px;font-size:13px;text-align:center;overflow:hidden;border-bottom:1px solid #38f;margin-left:19px;margin-right:2px}\\n#u1 a.bri.brihover{display:none;text-decoration:none;color:#333;background:0 0;border-bottom:1px solid transparent;margin-left:19px}\\n#u1 #lm a{color:#00c;text-decoration:underline}\\n#u1 a.mnav,#u1 a.mnav:visited{float:left;color:#333;font-weight:700;line-height:24px;margin-left:20px;font-size:13px;text-decoration:underline}\\n#u1 a.pf:hover,#u1 a.lb:hover,#u1 a.mnav:hover{color:#00c}\\n.briiconsbg{background-repeat:no-repeat;background-size:300px 18px;background-image:url(http://s1.bdstatic.com/r/www/cache/static/home/img/icons_0c37e9b.png);background-image:url(http://s1.bdstatic.com/r/www/cache/static/home/img/icons_809ae65.gif)\\\\9}\\n.bdpfmenu{background-color:#fff;border:1px solid #d1d1d1;position:absolute;right:160px;width:68px;top:36px;margin-top:-1px;_margin-top:-3px;z-index:2;box-shadow:1px 1px 5px #d1d1d1;-webkit-box-shadow:1px 1px 5px #d1d1d1;-moz-box-shadow:1px 1px 5px #d1d1d1;-o-box-shadow:1px 1px 5px #d1d1d1}\\n.bdpfmenu a{display:block;text-align:left;margin:0!important;padding:0 9px;line-height:26px;text-decoration:none}\\n#wrapper .bdpfmenu a:link,#wrapper .bdpfmenu a:visited{background:#fff;color:#333}\\n#wrapper .bdpfmenu a:hover,#wrapper .bdpfmenu a:active{background:#38f;text-decoration:none;color:#fff}\\n#wrapper .bdnuarrow{width:0;height:0;font-size:0;line-height:0;display:block;position:absolute;top:-10px;left:50%;margin-left:-5px}\\n#wrapper .bdnuarrow em,#wrapper .bdnuarrow i{width:0;height:0;font-size:0;line-height:0;display:block;position:absolute;border:5px solid transparent;border-style:dashed dashed solid}\\n#wrapper .bdnuarrow em{border-bottom-color:#d8d8d8;top:-1px}\\n#wrapper .bdnuarrow i{border-bottom-color:#fff;top:0}\\n.s-isindex-wrap #wrapper .bdnuarrow{height:13px;background:url(http://s1.bdstatic.com/r/www/cache/static/home/img/icons_0c37e9b.png) no-repeat -90px -1px}\\n#wrapper .bdnuarrow.bdbriarrow{right:104px;display:none!important}\\n#wrapper .bdbri{width:85px;min-height:100px;border-left:1px solid #e7e7e7;position:absolute;background-color:#f9f9f9;overflow:hidden;z-index:2;right:0;top:0}\\n#prefpanel{background:#fafafa;display:none;opacity:0;position:fixed;_position:absolute;top:-359px;z-index:1000;width:100%;min-width:960px;border-bottom:1px solid #ebebeb}\\n#prefpanel form{_width:850px}\\n#wrapper .bdbriimgtitle{color:#333;text-align:center;width:66px;height:43px;line-height:43px;padding-top:9px;margin:0 auto;border-bottom:#f0f0f0 1px solid;font-size:13px;cursor:default}\\n#wrapper .briscrollwrapper{overflow:hidden}\\n#wrapper .briscrollwrapperContainer{position:relative}\\n#wrapper .bdbri.bdbriimg .bdmainlink a,#wrapper .bdbri.bdbriimg .bdothlink a{display:block;text-align:center;width:66px;height:76px;margin:0 auto;border-bottom:#f0f0f0 1px solid;color:#666;text-decoration:none;overflow:hidden}\\n#wrapper .bdbri.bdbriimg .bdmainlink a:visited,#wrapper .bdbri.bdbriimg .bdothlink a:visited{color:#666}\\n#wrapper .bdbri.bdbriimg .bdmainlink a:hover,#wrapper .bdbri.bdbriimg .bdothlink a:hover{color:#666;text-decoration:underline}\\n#wrapper .bdbri.bdbriimg .bdmainlink a:active,#wrapper .bdbri.bdbriimg .bdothlink a:active{color:#00c;text-decoration:underline}\\n#wrapper .bdbri.bdbriimg span{width:36px;height:36px;display:block;margin:10px auto 5px;background:url(http://s1.bdstatic.com/r/www/cache/static/home/img/logos/bdbri_icons_194ae06.png) no-repeat;cursor:pointer}\\n#wrapper .bdbri.bdbriimg .bdbrimore,#wrapper .bdbri.bdbriimg .bdbrievenmore{clear:both;text-align:center}\\n#wrapper .bdbri.bdbriimg .bdbrievenmore{margin-top:15px;height:30px;width:85px;overflow:hidden}\\n#wrapper .bdbri.bdbriimg span.bdbriimgitem_1{background:url(http://s1.bdstatic.com/r/www/cache/static/home/img/logos/nuomi_7f5cd35.png) no-repeat;background-size:cover}\\n#wrapper .bdbri.bdbriimg span.bdbriimgitem_2{background:url(http://s1.bdstatic.com/r/www/cache/static/home/img/logos/zhidao_cbf2aff.png) no-repeat;background-size:cover}\\n#wrapper .bdbri.bdbriimg span.bdbriimgitem_3{width:36px;background:url(http://s1.bdstatic.com/r/www/cache/static/home/img/logos/qqjt_9809ca8.png) no-repeat;background-size:cover}\\n#wrapper .bdbri.bdbriimg span.bdbriimgitem_4{background:url(http://s1.bdstatic.com/r/www/cache/static/home/img/logos/image_55b5909.png) no-repeat;background-size:cover}\\n#wrapper .bdbri.bdbriimg span.bdbriimgitem_5{background:url(http://s1.bdstatic.com/r/www/cache/static/home/img/logos/wenku_aaf198d.png) no-repeat;background-size:cover}\\n#wrapper .bdbri.bdbriimg span.bdbriimgitem_6{background:url(http://s1.bdstatic.com/r/www/cache/static/home/img/logos/fengyunbang_1986a40.png) no-repeat;background-size:cover}\\n#wrapper .bdbri.bdbriimg span.bdbriimgitem_7{background-position:-220px 0}\\n#wrapper .bdbri.bdbriimg .bdbrievenmore a:link,#wrapper .bdbri.bdbriimg .bdbrievenmore a:visited{color:#666;text-decoration:underline}\\n#wrapper .bdbri.bdbriimg .bdbrievenmore a:hover{color:#666;text-decoration:underline}\\n#wrapper .bdbri.bdbriimg .bdbrievenmore a:active{color:#00c}\\n.bdbriscroll-ctrl-scroll{position:absolute;top:10px;right:1px;width:8px;border-top:1px solid #e4e4e4;border-left:1px solid #e4e4e4;cursor:default;-webkit-user-select:none;-moz-user-select:none}\\n.bdbriscroll-ctrl-scroll .bdbriscroll-axis{width:8px;left:0;z-index:0;position:absolute;background:#f2f2f2}\\n.bdbriscroll-ctrl-scroll-touch .bdbriscroll-axis{width:7px;background:#f2f2f2}\\n.bdbriscroll-ctrl-scroll-hover .bdbriscroll-axis{background:#f2f2f2}\\n.bdbriscroll-ctrl-scroll .bdbriscroll-slider{overflow:hidden;width:7px;height:14px;position:absolute;left:0;z-index:10;display:none;background:#d9d9d9;margin-top:-1px;margin-left:-1px;border-right:1px solid #cecece;border-bottom:1px solid #cecece;cursor:default}\\n.bdbriscroll-ctrl-scroll-touch .bdbriscroll-slider,.bdbriscroll-ctrl-scroll-hover .bdbriscroll-slider{background:#b8b8b8;border-right:1px solid #afafaf;border-bottom:1px solid #afafaf}\\n.s_ipt::-webkit-input-placeholder{padding-left:3px;color:#aaa;font-size:13px}\\n.s_ipt::-moz-placeholder{padding-left:3px;color:#aaa;font-size:13px}\\n.s_ipt:-ms-input-placeholder{padding-left:3px;color:#aaa;font-size:13px}\\n.s_ipt::placeholder{padding-left:3px;color:#aaa;font-size:13px}\\n.kw-placeholder{position:absolute;top:0;left:0;color:#aaa;font-size:13px;height:35px;line-height:35px;padding-left:10px;max-width:360px;z-index:99;pointer-events:none}\\n.kw-placeholder.placeholders-hidden{visibility:hidden}\\n.qrcode-chunwan{width:530px;height:90px;position:absolute;left:50%;margin-left:-265px;z-index:1;bottom:115px;background-size:100%;background-repeat:no-repeat;background-position:center}\\n.qrcode-chunwan .close-chunwan{width:23px;height:23px;position:absolute;top:0;right:0;display:none;_display:block;background-size:100%}\\n.qrcode-chunwan:hover .close-chunwan{display:block}</style>\\n\\n<!--[if lte IE 8]>\\n<style index=\"index\" data-compress=\"strip\">\\n.s_form{top:260px}\\n</style>\\n<![endif]-->\\n<!--[if IE 8]>\\n<style index=\"index\" data-compress=\"strip\">\\n#u1 a.mnav,#u1 a.mnav:visited,#u1 a.lb,#u1 a.lb:visited,#u1 a.pf,#u1 a.pf:visited,#u1 a.bri,#u1 a.bri:visited{font-family:simsun;}\\n</style>\\n<![endif]-->\\n<style data-for=\"debug\">\\n#debug{display:none!important;}\\n</style>\\n<style data-for=\"result\" id=\"css_index_result\" type=\"text/css\">#seth{display:inline;behavior:url(#default#homepage)}\\n#setf{display:inline}\\n#sekj{margin-left:14px}\\n#st,#sekj{display:none}\\n.s_ipt_wr{border:1px solid #b6b6b6;border-color:#7b7b7b #b6b6b6 #b6b6b6 #7b7b7b;background:#fff;display:inline-block;vertical-align:top;width:539px;margin-right:0;border-right-width:0;border-color:#b8b8b8 transparent #ccc #b8b8b8;overflow:hidden}\\n.wrapper_s .s_ipt_wr{width:439px}\\n.wrapper_s .s_ipt{width:434px}\\n.wrapper_s .s_ipt_tip{width:434px}\\n.s_ipt_wr:hover,.s_ipt_wr.ipthover{border-color:#999 transparent #b3b3b3 #999}\\n.s_ipt_wr.iptfocus{border-color:#4791ff transparent #4791ff #4791ff}\\n.s_ipt_tip{color:#aaa;position:absolute;z-index:-10;font:16px/22px arial;height:32px;line-height:32px;padding-left:7px;overflow:hidden;width:526px}\\n.s_ipt{width:526px;height:22px;font:16px/18px arial;line-height:22px;margin:6px 0 0 7px;padding:0;background:transparent;border:0;outline:0;-webkit-appearance:none}\\n#kw{position:relative}\\n#u .username i{background-position:-408px -144px}\\n.bdpfmenu,.usermenu{border:1px solid #d1d1d1;position:absolute;width:105px;top:36px;z-index:302;box-shadow:1px 1px 5px #d1d1d1;-webkit-box-shadow:1px 1px 5px #d1d1d1;-moz-box-shadow:1px 1px 5px #d1d1d1;-o-box-shadow:1px 1px 5px #d1d1d1}\\n.bdpfmenu{font-size:12px;background-color:#fff}\\n.bdpfmenu a,.usermenu a{display:block;text-align:left;margin:0!important;padding:0 9px;line-height:26px;text-decoration:none}\\n.briiconsbg{background-repeat:no-repeat;background-size:300px 18px;background-image:url(http://s1.bdstatic.com/r/www/cache/static/home/img/icons_0c37e9b.png);background-image:url(http://s1.bdstatic.com/r/www/cache/static/home/img/icons_809ae65.gif)\\\\9}\\n#u{z-index:301;position:absolute;right:0;top:0;margin:21px 9px 5px 0;padding:0}\\n.wrapper_s #u{margin-right:3px}\\n#u a{text-decoration:underline;color:#333;margin:0 7px}\\n.wrapper_s #u a{margin-right:0 6px}\\n#u div a{text-decoration:none}\\n#u a:hover{text-decoration:underline}\\n#u .back_org{color:#666;float:left;display:inline-block;height:24px;line-height:24px}\\n#u .bri{display:inline-block;width:24px;height:24px;float:left;line-height:24px;color:transparent;background:url(http://s1.bdstatic.com/r/www/cache/static/home/img/icons_0c37e9b.png) no-repeat 4px 3px;background-size:300px 18px;background-image:url(http://s1.bdstatic.com/r/www/cache/static/home/img/icons_809ae65.gif)\\\\9;overflow:hidden}\\n#u .bri:hover,#u .bri.brihover{background-position:-18px 3px}\\n#mCon #imeSIcon{background-position:-408px -144px;margin-left:0}\\n#mCon span{color:#333}\\n.bdpfmenu a:link,.bdpfmenu a:visited,#u .usermenu a:link,#u .usermenu a:visited{background:#fff;color:#333}\\n.bdpfmenu a:hover,.bdpfmenu a:active,#u .usermenu a:hover,#u .usermenu a:active{background:#38f;text-decoration:none;color:#fff}\\n.bdpfmenu{width:70px}\\n.usermenu{width:68px;right:8px}\\n#wrapper .bdnuarrow{width:0;height:0;font-size:0;line-height:0;display:block;position:absolute;top:-10px;left:50%;margin-left:-5px}\\n#wrapper .bdnuarrow em,#wrapper .bdnuarrow i{width:0;height:0;font-size:0;line-height:0;display:block;position:absolute;border:5px solid transparent;border-style:dashed dashed solid}\\n#wrapper .bdnuarrow em{border-bottom-color:#d8d8d8;top:-1px}\\n#wrapper .bdnuarrow i{border-bottom-color:#fff;top:0}\\n#prefpanel{background:#fafafa;display:none;opacity:0;position:fixed;_position:absolute;top:-359px;z-index:500;width:100%;min-width:960px;border-bottom:1px solid #ebebeb}\\n#prefpanel form{_width:850px}\\n#kw_tip{cursor:default;display:none;margin-top:1px}\\n#bds-message-wrapper{top:43px}\\n.quickdelete-wrap{position:relative}\\n.quickdelete-wrap input{width:500px}\\n.wrapper_l .quickdelete-wrap input{width:500px}\\n.wrapper_s .quickdelete-wrap input{width:402px}\\ninput::-ms-clear{display:none}\\n.quickdelete{width:32px;height:32px;background:url(http://s1.bdstatic.com/r/www/cache/static/global/img/quickdelete_33e3eb8.png) no-repeat;background-position:10px 10px;position:absolute;display:block}\\n.quickdelete:hover{background-position:10px -24px}\\n#lh a{margin-left:25px}\\n.bdbriwrapper-tuiguang{display:none!important}</style>\\n<!--[if IE 8]>\\n<style index=\"index\" data-compress=\"strip\">\\n.s_ipt{background-color:#FFF;}\\n</style>\\n<![endif]-->\\n\\n    \\n<script data-compress=\"strip\">\\r\\nfunction h(obj){\\r\\n    obj.style.behavior=\\'url(#default#homepage)\\';\\r\\n\\tvar a = obj.setHomePage(\\'//www.baidu.com/\\');\\r\\n}\\r\\n</script>\\n\\n<noscript>\\n    <meta http-equiv=\"refresh\" content=\"0; url=/baidu.html?from=noscript\"/>\\n</noscript>\\n\\n    <script>window._ASYNC_START=new Date().getTime();</script>\\n</head>\\n\\n<body link=\"#0000cc\">\\n\\t<script>\\n\\tif (/Chrome\\\\/37.0.2062.94/i.test(navigator.userAgent) && (/(windows 7)|(windows nt 6.1)/i.test(navigator.userAgent))) {\\n\\t\\tvar _chrome_37_fix = document.createElement(\"style\");\\n\\t\\t_chrome_37_fix.type=\"text/css\";\\n\\t\\t_chrome_37_fix.setAttribute(\"data-for\",\"result\");\\n\\t\\t_chrome_37_fix.innerHTML = \".t,.f16,#kw,.s_ipt,.c-title,.c-title-size,.to_zhidao,.to_tieba,.to_zhidao_bottom{font-size:15px;} .ec-hospital-info-main h2,.ad-widget-gx_sck-ylzx-doctor-info h2,.ec-card-main h2,.ad-widget-h1 h2,.ad-widget-title h2,.ad-widget-small-head h2,.ad-widget-small-head h2 a,.ad-widget-header .ec-figcaption h2{font-size: 15px !important;}\";\\n\\t\\tdocument.getElementsByTagName(\"head\")[0].appendChild(_chrome_37_fix);\\n\\t}\\n\\t</script>\\n    <div id=\"wrapper\" style=\"display:none;\">\\n        \\n\\n\\n        \\n\\n\\n<script>if(window.bds&&bds.util&&bds.util.setContainerWidth){bds.util.setContainerWidth();}</script><div id=\"head\"><div class=\"head_wrapper\"><div class=\"s_form\"><div class=\"s_form_wrapper\"><style>.index-logo-srcnew {display: none;}@media (-webkit-min-device-pixel-ratio: 2),(min--moz-device-pixel-ratio: 2),(-o-min-device-pixel-ratio: 2),(min-device-pixel-ratio: 2){.index-logo-src {display: none;}.index-logo-srcnew {display: inline;}}</style><div id=\"lg\"><img hidefocus=\"true\" class=\\'index-logo-src\\' src=\"//www.baidu.com/img/bd_logo1.png\" width=\"270\" height=\"129\" usemap=\"#mp\"><img hidefocus=\"true\" class=\\'index-logo-srcnew\\' src=\"//www.baidu.com/img/bd_logo1.png?qua=high\" width=\"270\" height=\"129\" usemap=\"#mp\"><map name=\"mp\"><area style=\"outline:none;\" hidefocus=\"true\" shape=\"rect\" coords=\"0,0,270,129\" href=\"//www.baidu.com/s?wd=%E4%BB%8A%E6%97%A5%E6%96%B0%E9%B2%9C%E4%BA%8B&tn=SE_PclogoS_8whnvm25&sa=ire_dl_gh_logo&rsv_dl=igh_logo_pcs\" onmousedown=\"return ns_c({fm: \\'tab\\', tab: \\'felogo\\', rsv_platform: \\'wwwhome\\' })\" target=\"_blank\" title=\"点击一下，了解更多\"onmousedown=\"return ns_c({\\'fm\\':\\'behs\\',\\'tab\\':\\'bdlogo\\'})\"></map></div><a href=\"/\" id=\"result_logo\" onmousedown=\"return c({\\'fm\\':\\'tab\\',\\'tab\\':\\'logo\\'})\"><img class=\\'index-logo-src\\' src=\"//www.baidu.com/img/baidu_jgylogo3.gif\" alt=\"到百度首页\" title=\"到百度首页\"><img class=\\'index-logo-srcnew\\' src=\"//www.baidu.com/img/baidu_resultlogo@2.png\" alt=\"到百度首页\" title=\"到百度首页\"></a><form id=\"form\" name=\"f\" action=\"/s\" class=\"fm\"><input type=\"hidden\" name=\"ie\" value=\"utf-8\"><input type=\"hidden\" name=\"f\" value=\"8\"><input type=\"hidden\" name=\"rsv_bp\" value=\"1\"><input type=\"hidden\" name=\"rsv_idx\" value=\"1\"><input type=hidden name=ch value=\"\"><input type=hidden name=tn value=\"baidu\"><input type=hidden name=bar value=\"\"><span class=\"bg s_ipt_wr\"><input id=\"kw\" name=\"wd\" class=\"s_ipt\" value=\"\" maxlength=\"255\" autocomplete=\"off\"></span><span class=\"bg s_btn_wr\"><input type=\"submit\" id=\"su\" value=\"百度一下\" class=\"bg s_btn\"></span><span class=\"tools\"><span id=\"mHolder\"><div id=\"mCon\"><span>输入法</span></div><ul id=\"mMenu\"><li><a href=\"javascript:;\" name=\"ime_hw\">手写</a></li><li><a href=\"javascript:;\" name=\"ime_py\">拼音</a></li><li class=\"ln\"></li><li><a href=\"javascript:;\" name=\"ime_cl\">关闭</a></li></ul></span></span><input type=\"hidden\" name=\"rn\" value=\"\"><input type=\"hidden\" name=\"oq\" value=\"\"><input type=\"hidden\" name=\"rsv_pq\" value=\"9be52e87000037b2\"><input type=\"hidden\" name=\"rsv_t\" value=\"c358OJuYEUMJPetbyJxNh71wmUfXb0rW2Bx4zpsNsm9oiYfaA8RV8zQmlWk\"><input type=\"hidden\" name=\"rqlang\" value=\"cn\"></form><div id=\"m\"></div></div></div><div id=\"u\"><a class=\"toindex\" href=\"/\">百度首页</a><a href=\"javascript:;\" name=\"tj_settingicon\" class=\"pf\">设置<i class=\"c-icon c-icon-triangle-down\"></i></a><a href=\"https://passport.baidu.com/v2/?login&tpl=mn&u=http%3A%2F%2Fwww.baidu.com%2F&sms=5\" name=\"tj_login\" class=\"lb\" onclick=\"return false;\">登录</a></div><div id=\"u1\"><a href=\"http://news.baidu.com\" name=\"tj_trnews\" class=\"mnav\">新闻</a><a href=\"https://www.hao123.com\" name=\"tj_trhao123\" class=\"mnav\">hao123</a><a href=\"http://map.baidu.com\" name=\"tj_trmap\" class=\"mnav\">地图</a><a href=\"http://v.baidu.com\" name=\"tj_trvideo\" class=\"mnav\">视频</a><a href=\"http://tieba.baidu.com\" name=\"tj_trtieba\" class=\"mnav\">贴吧</a><a href=\"http://xueshu.baidu.com\" name=\"tj_trxueshu\" class=\"mnav\">学术</a><a href=\"https://passport.baidu.com/v2/?login&tpl=mn&u=http%3A%2F%2Fwww.baidu.com%2F&sms=5\" name=\"tj_login\" class=\"lb\" onclick=\"return false;\">登录</a><a href=\"http://www.baidu.com/gaoji/preferences.html\" name=\"tj_settingicon\" class=\"pf\">设置</a><a href=\"http://www.baidu.com/more/\" name=\"tj_briicon\" class=\"bri\" style=\"display: block;\">更多产品</a></div></div></div>\\n\\n\\n\\n<div class=\"s_tab\" id=\"s_tab\">\\n<div class=\"s_tab_inner\">\\n    <b>网页</b>\\n    <a href=\"//www.baidu.com/s?rtt=1&bsst=1&cl=2&tn=news&word=\" wdfield=\"word\"  onmousedown=\"return c({\\'fm\\':\\'tab\\',\\'tab\\':\\'news\\'})\" sync=\"true\">资讯</a>\\n    <a href=\"http://tieba.baidu.com/f?kw=&fr=wwwt\" wdfield=\"kw\"  onmousedown=\"return c({\\'fm\\':\\'tab\\',\\'tab\\':\\'tieba\\'})\">贴吧</a>\\n    <a href=\"http://zhidao.baidu.com/q?ct=17&pn=0&tn=ikaslist&rn=10&word=&fr=wwwt\" wdfield=\"word\"  onmousedown=\"return c({\\'fm\\':\\'tab\\',\\'tab\\':\\'zhidao\\'})\">知道</a>\\n    <a href=\"http://music.taihe.com/search?fr=ps&ie=utf-8&key=\" wdfield=\"key\"  onmousedown=\"return c({\\'fm\\':\\'tab\\',\\'tab\\':\\'music\\'})\">音乐</a>\\n    <a href=\"http://image.baidu.com/search/index?tn=baiduimage&ps=1&ct=201326592&lm=-1&cl=2&nc=1&ie=utf-8&word=\" wdfield=\"word\"  onmousedown=\"return c({\\'fm\\':\\'tab\\',\\'tab\\':\\'pic\\'})\">图片</a>\\n    <a href=\"http://v.baidu.com/v?ct=301989888&rn=20&pn=0&db=0&s=25&ie=utf-8&word=\" wdfield=\"word\"   onmousedown=\"return c({\\'fm\\':\\'tab\\',\\'tab\\':\\'video\\'})\">视频</a>\\n    <a href=\"http://map.baidu.com/m?word=&fr=ps01000\" wdfield=\"word\"  onmousedown=\"return c({\\'fm\\':\\'tab\\',\\'tab\\':\\'map\\'})\">地图</a>\\n    <a href=\"http://wenku.baidu.com/search?word=&lm=0&od=0&ie=utf-8\" wdfield=\"word\"  onmousedown=\"return c({\\'fm\\':\\'tab\\',\\'tab\\':\\'wenku\\'})\">文库</a>\\n    <a href=\"//www.baidu.com/more/\"  onmousedown=\"return c({\\'fm\\':\\'tab\\',\\'tab\\':\\'more\\'})\">更多»</a>\\n</div>\\n</div>\\n\\n        \\n\\r\\n<div class=\"qrcodeCon\">\\r\\n\\t<div id=\"qrcode\">\\r\\n\\t\\t<div class=\"qrcode-item qrcode-item-1\">\\r\\n\\t\\t\\t<div class=\"qrcode-img\"></div>\\r\\n\\t\\t\\t<div class=\"qrcode-text\">\\r\\n\\t\\t\\t\\t<p class=\"title\">下载百度APP</p>\\r\\n\\t\\t\\t\\t<p class=\"sub-title\">有事搜一搜&nbsp;&nbsp;没事看一看</p>\\r\\n\\t\\t\\t</div>\\r\\n\\t\\t</div>\\r\\n\\t</div>\\r\\n</div>\\n\\r\\n<div id=\"ftCon\">\\r\\n\\r\\n<div class=\"ftCon-Wrapper\"><div id=\"ftConw\"><p id=\"lh\"><a id=\"setf\" href=\"//www.baidu.com/cache/sethelp/help.html\" onmousedown=\"return ns_c({\\'fm\\':\\'behs\\',\\'tab\\':\\'favorites\\',\\'pos\\':0})\" target=\"_blank\">把百度设为主页</a><a onmousedown=\"return ns_c({\\'fm\\':\\'behs\\',\\'tab\\':\\'tj_about\\'})\" href=\"http://home.baidu.com\">关于百度</a><a onmousedown=\"return ns_c({\\'fm\\':\\'behs\\',\\'tab\\':\\'tj_about_en\\'})\" href=\"http://ir.baidu.com\">About&nbsp;&nbsp;Baidu</a><a onmousedown=\"return ns_c({\\'fm\\':\\'behs\\',\\'tab\\':\\'tj_tuiguang\\'})\" href=\"http://e.baidu.com/?refer=888\">百度推广</a></p><p id=\"cp\">&copy;2019&nbsp;Baidu&nbsp;<a href=\"http://www.baidu.com/duty/\" onmousedown=\"return ns_c({\\'fm\\':\\'behs\\',\\'tab\\':\\'tj_duty\\'})\">使用百度前必读</a>&nbsp;<a href=\"http://jianyi.baidu.com/\" class=\"cp-feedback\" onmousedown=\"return ns_c({\\'fm\\':\\'behs\\',\\'tab\\':\\'tj_homefb\\'})\">意见反馈</a>&nbsp;京ICP证030173号&nbsp;<i class=\"c-icon-icrlogo\"></i>&nbsp;<a id=\"jgwab\"  target=\"_blank\" href=\"http://www.beian.gov.cn/portal/registerSystemInfo?recordcode=11000002000001\">京公网安备11000002000001号</a>&nbsp;<i class=\"c-icon-jgwablogo\"></i></p></div></div></div>\\n\\n        <div id=\"wrapper_wrapper\">\\n        </div>\\n    </div>\\n    <div class=\"c-tips-container\" id=\"c-tips-container\"></div>\\n    \\n    <script>\\n        window.__async_strategy=2;\\n    </script>\\n    \\n    \\n<script>\\nvar bds={\\n    se:{},\\n    su:{\\n        urdata:[],\\n                urSendClick:function(){}\\n    },\\n    util:{},\\n    use:{},\\n    comm : {\\n        domain:\"http://www.baidu.com\",\\n        ubsurl : \"http://sclick.baidu.com/w.gif\",\\n        tn:\"baidu\",\\n        queryEnc:\"\",\\n        queryId:\"\",\\n        inter:\"\",\\n        templateName:\"\",\\n        sugHost : \"http://suggestion.baidu.com/su\",\\n        query : \"\",\\n        dpquery: \"\",\\n        qid : \"9be52e87000037b2\",\\n        cid : \"0\",\\n        sid : \"1429_21103_29523_29520_29721_29567_29220_26350\",\\n        indexSid : \"1429_21103_29523_29520_29721_29567_29220_26350\",\\n        sampleval : [],\\n        stoken : \"\",\\n        serverTime : \"1568611852\",\\n        user : \"\",\\n        username : \"\",\\n        userid : \"0\",\\n        loginAction : [],\\n        useFavo : \"\",\\n        pinyin : \"\",\\n        favoOn : \"\",\\n        cookie : {\"sugstore\":\"0\",\"BDSVRTM\":\"0\",\"BD_HOME\":\"0\",\"BAIDUID\":\"718F2F740C9375D8C0608C854590848F:FG=1\",\"BIDUPSID\":\"4832C1BF0DDC1F5B769442C69D75B090\",\"PSTM\":\"1510392827\",\"MCITY\":\"-167:\",\"BDORZ\":\"FFFB88E999055A3F8A630C64834BD6D0\",\"BDRCVFR\":{\"q9-ujHA1ZQ3\":\"mk3SLVN4HKm\"},\"PSINO\":\"2\",\"ZD_ENTRY\":\"other\",\"delPer\":\"0\",\"H_PS_PSSID\":\"1429_21103_29523_29520_29721_29567_29220_26350\"},\\n        userAgent : \"test connect\",\\n                curResultNum:\"0\",\\n        rightResultExist:false,\\n        protectNum:0,\\n        zxlNum:0,\\n        pageNum:1,\\n        pageSize:10,\\n        newindex:0,\\n        async:2,\\n        maxPreloadThread:5,\\n        maxPreloadTimes:10,\\n        preloadMouseMoveDistance:5,\\n        switchAddMask:false,\\n        isDebug:false,\\n        ishome : 1,\\n        flagTranslateResult:0,\\n        globalLogFlag:0\\n\\t,encTn:\\'c358OJuYEUMJPetbyJxNh71wmUfXb0rW2Bx4zpsNsm9oiYfaA8RV8zQmlWk\\'    }\\n};\\n\\n\\n\\n    \\n\\n\\nvar name,navigate,al_arr=[];\\nvar selfOpen = window.open;eval(\"var open = selfOpen;\");\\nvar isIE=navigator.userAgent.indexOf(\"MSIE\")!=-1&&!window.opera;\\nvar E = bds.ecom= {};\\n\\nbds.se.mon = {\\'loadedItems\\':[],\\'load\\':function(){},\\'srvt\\':-1};\\n\\ntry {\\n    bds.se.mon.srvt = parseInt(document.cookie.match(new RegExp(\"(^| )BDSVRTM=([^;]*)(;|$)\"))[2]);\\n    document.cookie=\"BDSVRTM=;expires=Sat, 01 Jan 2000 00:00:00 GMT\";\\n}catch(e){}\\nvar\\nbdUser        = bds.comm.user?bds.comm.user:null,\\nbdQuery       = bds.comm.query,\\nbdUseFavo     = bds.comm.useFavo,\\nbdFavoOn      = bds.comm.favoOn,\\nbdCid         = bds.comm.cid,\\nbdSid         = bds.comm.sid,\\nbdServerTime  = bds.comm.serverTime,\\nbdQid         = bds.comm.queryId,\\nbdstoken      = bds.comm.stoken,\\nlogin_success = [];\\n\\n\\n</script>\\n<script>\\nbds.util.domain = (function(){\\n        \\t\\t\\t\\t\\t\\t\\t\\t\\t\\t\\t\\t\\t\\t\\t\\t\\t\\t\\t\\t\\t            \\t\\t\\t\\t\\t\\t\\t\\t\\t\\t\\t\\t\\t\\t\\t\\t\\t\\t\\t\\t\\t\\t\\tvar list = {\\n        \"graph.baidu.com\": \"http://graph.baidu.com\",\\n\\t\\t\"p.qiao.baidu.com\":\"http://p.qiao.baidu.com\",\\n\\t\\t\"vse.baidu.com\":\"http://vse.baidu.com\",\\n\\t\\t\"hdpreload.baidu.com\":\"http://hdpreload.baidu.com\",\\n\\t\\t\"lcr.open.baidu.com\":\"http://lcr.open.baidu.com\",\\n\\t\\t\"kankan.baidu.com\":\"http://kankan.baidu.com\",\\n\\t\\t\"xapp.baidu.com\":\"http://xapp.baidu.com\",\\n\\t\\t\"dr.dh.baidu.com\":\"http://dr.dh.baidu.com\",\\n\\t\\t\"xiaodu.baidu.com\":\"http://xiaodu.baidu.com\",\\n\\t\\t\"sensearch.baidu.com\":\"http://sensearch.baidu.com\",\\n\\t\\t\"s1.bdstatic.com\":\"http://s1.bdstatic.com\",\\n\\t\\t\"olime.baidu.com\":\"http://olime.baidu.com\",\\n\\t\\t\"app.baidu.com\":\"http://app.baidu.com\",\\n\\t\\t\"i.baidu.com\":\"http://i.baidu.com\",\\n\\t\\t\"c.baidu.com\":\"http://c.baidu.com\",\\n\\t\\t\"sclick.baidu.com\":\"http://sclick.baidu.com\",\\n\\t\\t\"nsclick.baidu.com\":\"http://nsclick.baidu.com\",\\n\\t\\t\"sestat.baidu.com\":\"http://sestat.baidu.com\",\\n\\t\\t\"eclick.baidu.com\":\"http://eclick.baidu.com\",\\n\\t\\t\"api.map.baidu.com\":\"http://api.map.baidu.com\",\\n\\t\\t\"ecma.bdimg.com\":\"http://ecma.bdimg.com\",\\n\\t\\t\"ecmb.bdimg.com\":\"http://ecmb.bdimg.com\",\\n        \"t1.baidu.com\":\"http://t1.baidu.com\",\\n        \"t2.baidu.com\":\"http://t2.baidu.com\",\\n        \"t3.baidu.com\":\"http://t3.baidu.com\",\\n\\t\\t\"t10.baidu.com\":\"http://t10.baidu.com\",\\n\\t\\t\"t11.baidu.com\":\"http://t11.baidu.com\",\\n\\t\\t\"t12.baidu.com\":\"http://t12.baidu.com\",\\n\\t\\t\"i7.baidu.com\":\"http://i7.baidu.com\",\\n\\t\\t\"i8.baidu.com\":\"http://i8.baidu.com\",\\n\\t\\t\"i9.baidu.com\":\"http://i9.baidu.com\",\\n\\t\\t\"b1.bdstatic.com\":\"http://b1.bdstatic.com\",\\n\\t\\t\"ss.bdimg.com\":\"http://ss.bdimg.com\",\\n\\t\\t\"opendata.baidu.com\":\"http://opendata.baidu.com\",\\n\\t\\t\"api.open.baidu.com\":\"http://api.open.baidu.com\",\\n\\t\\t\"tag.baidu.com\":\"http://tag.baidu.com\",\\n\\t\\t\"f3.baidu.com\":\"http://f3.baidu.com\",\\n\\t\\t\"s.share.baidu.com\":\"http://s.share.baidu.com\",\\t\\n\\t\\t\"bdimg.share.baidu.com\":\"http://bdimg.share.baidu.com\",\\n        \"1.su.bdimg.com\":\"http://1.su.bdimg.com\",\\n        \"2.su.bdimg.com\":\"http://2.su.bdimg.com\",\\n        \"3.su.bdimg.com\":\"http://3.su.bdimg.com\",\\n        \"4.su.bdimg.com\":\"http://4.su.bdimg.com\",\\n        \"5.su.bdimg.com\":\"http://5.su.bdimg.com\",\\n        \"6.su.bdimg.com\":\"http://6.su.bdimg.com\",\\n        \"7.su.bdimg.com\":\"http://7.su.bdimg.com\",\\n        \"8.su.bdimg.com\":\"http://8.su.bdimg.com\"\\n\\t};\\n\\r\\n\\n    var get = function(url) {\\n        if(location.protocol === \"http\") {\\n            return url;\\n        }\\n        var reg = /^(http[s]?:\\\\/\\\\/)?([^\\\\/]+)(.*)/,\\n        matches = url.match(reg);\\n        url = list.hasOwnProperty(matches[2])&&(list[matches[2]] + matches[3]) || url;\\n        return url;\\n    },\\n    set = function(kdomain,vdomain) {\\n        list[kdomain] = vdomain;\\n    };\\n    return {\\n        get : get,\\n        set : set\\n    }\\n})();\\n</script>\\n<script>\\nif(!location.hash.match(/[^a-zA-Z0-9]wd=/)){\\n    document.getElementById(\"wrapper\").style.display=\\'block\\';\\n    setTimeout(function(){\\n        try{\\n            var kw=document.getElementById(\"kw\");\\n            kw.focus();\\n\\t\\t\\tkw.parentNode.className=\"bg s_ipt_wr iptfocus quickdelete-wrap\";\\n        }catch(e){}\\n    },0);\\n}\\n\\n</script>\\n<script type=\"text/javascript\" src=\"http://s1.bdstatic.com/r/www/cache/static/jquery/jquery-1.10.2.min_65682a2.js\"></script>\\n\\n\\n\\n\\n<script>\\n(function(){\\n\\n    var result_common_css=\"<style data-for=\\\\\"result\\\\\" id=\\\\\"css_result\\\\\" type=\\\\\"text\\\\/css\\\\\">body{color:#333;background:#fff;padding:6px 0 0;margin:0;position:relative;min-width:900px}body,th,td,.p1,.p2{font-family:arial}p,form,ol,ul,li,dl,dt,dd,h3{margin:0;padding:0;list-style:none}input{padding-top:0;padding-bottom:0;-moz-box-sizing:border-box;-webkit-box-sizing:border-box;box-sizing:border-box}table,img{border:0}td{font-size:9pt;line-height:18px}em{font-style:normal;color:#c00}a em{text-decoration:underline}cite{font-style:normal;color:green}.m,a.m{color:#666}a.m:visited{color:#606}.g,a.g{color:green}.c{color:#77c}.f14{font-size:14px}.f10{font-size:10.5pt}.f16{font-size:16px}.f13{font-size:13px}.bg{background-image:url(http:\\\\/\\\\/s1.bdstatic.com\\\\/r\\\\/www\\\\/cache\\\\/static\\\\/global\\\\/img\\\\/icons_441e82f.png);_background-image:url(http:\\\\/\\\\/s1.bdstatic.com\\\\/r\\\\/www\\\\/cache\\\\/static\\\\/global\\\\/img\\\\/icons_d5b04cc.gif);background-repeat:no-repeat}#u,#head,#tool,#search,#foot{font-size:12px}.logo{width:117px;height:38px;cursor:pointer}.p1{line-height:120%;margin-left:-12pt}.p2{width:100%;line-height:120%;margin-left:-12pt}#wrapper{_zoom:1}#container{word-break:break-all;word-wrap:break-word;position:relative}.container_s{width:1002px}.container_l{width:1222px}#content_left{width:636px;float:left;padding-left:35px}#content_right{border-left:1px solid #e1e1e1;float:right}.container_s #content_right{width:271px}.container_l #content_right{width:434px}.content_none{padding-left:35px}#u{color:#999;white-space:nowrap;position:absolute;right:10px;top:4px;z-index:299}#u a{color:#00c;margin:0 5px}#u .reg{margin:0}#u .last{margin-right:0}#u .un{font-weight:700;margin-right:5px}#u ul{width:100%;background:#fff;border:1px solid #9b9b9b}#u li{height:25px}#u li a{width:100%;height:25px;line-height:25px;display:block;text-align:left;text-decoration:none;text-indent:6px;margin:0;filter:none\\\\\\\\9}#u li a:hover{background:#ebebeb}#u li.nl{border-top:1px solid #ebebeb}#user{display:inline-block}#user_center{position:relative;display:inline-block}#user_center .user_center_btn{margin-right:5px}.userMenu{width:64px;position:absolute;right:7px;_right:2px;top:15px;top:14px\\\\\\\\9;*top:15px;padding-top:4px;display:none;*background:#fff}#head{padding-left:35px;margin-bottom:20px;width:900px}.fm{clear:both;position:relative;z-index:297}.nv a,.nv b,.btn,#page,#more{font-size:14px}.s_nav{height:45px}.s_nav .s_logo{margin-right:20px;float:left}.s_nav .s_logo img{border:0;display:block}.s_tab{line-height:18px;padding:20px 0 0;float:left}.s_nav a{color:#00c;font-size:14px}.s_nav b{font-size:14px}.s_ipt_wr{width:536px;height:30px;display:inline-block;margin-right:5px;background-position:0 -96px;border:1px solid #b6b6b6;border-color:#7b7b7b #b6b6b6 #b6b6b6 #7b7b7b;vertical-align:top}.s_ipt{width:523px;height:22px;font:16px\\\\/18px arial;line-height:22px;margin:5px 0 0 7px;padding:0;background:#fff;border:0;outline:0;-webkit-appearance:none}.s_btn{width:95px;height:32px;padding-top:2px\\\\\\\\9;font-size:14px;padding:0;background-color:#ddd;background-position:0 -48px;border:0;cursor:pointer}.s_btn_h{background-position:-240px -48px}.s_btn_wr{width:97px;height:34px;display:inline-block;background-position:-120px -48px;*position:relative;z-index:0;vertical-align:top}.sethf{padding:0;margin:0;font-size:14px}.set_h{display:none;behavior:url(#default#homepage)}.set_f{display:none}.shouji{margin-left:19px}.shouji a{text-decoration:none}#head .bdsug{top:33px}#search form{position:relative}#search form .bdsug{bottom:33px}.bdsug{display:none;position:absolute;z-index:1;width:538px;background:#fff;border:1px solid #ccc;_overflow:hidden;box-shadow:1px 1px 3px #ededed;-webkit-box-shadow:1px 1px 3px #ededed;-moz-box-shadow:1px 1px 3px #ededed;-o-box-shadow:1px 1px 3px #ededed}.bdsug.bdsugbg ul{background:url(http:\\\\/\\\\/s1.bdstatic.com\\\\/r\\\\/www\\\\/cache\\\\/static\\\\/home\\\\/img\\\\/sugbg_1762fe7.png) 100% 100% no-repeat;background-size:100px 110px;background-image:url(http:\\\\/\\\\/s1.bdstatic.com\\\\/r\\\\/www\\\\/cache\\\\/static\\\\/home\\\\/img\\\\/sugbg_90fc9cf.gif)\\\\\\\\9}.bdsug li{width:522px;color:#000;font:14px arial;line-height:22px;padding:0 8px;position:relative;cursor:default}.bdsug li.bdsug-s{background:#f0f0f0}.bdsug-store span,.bdsug-store b{color:#7A77C8}.bdsug-store-del{font-size:12px;color:#666;text-decoration:underline;position:absolute;right:8px;top:0;cursor:pointer;display:none}.bdsug-s .bdsug-store-del{display:inline-block}.bdsug-ala{display:inline-block;border-bottom:1px solid #e6e6e6}.bdsug-ala h3{line-height:14px;background:url(\\\\/\\\\/www.baidu.com\\\\/img\\\\/sug_bd.png) no-repeat left center;margin:8px 0 5px;font-size:12px;font-weight:400;color:#7B7B7B;padding-left:20px}.bdsug-ala p{font-size:14px;font-weight:700;padding-left:20px}.bdsug .bdsug-direct{width:auto;padding:0;border-bottom:1px solid #f1f1f1}.bdsug .bdsug-direct p{color:#00c;font-weight:700;line-height:34px;padding:0 8px;cursor:pointer;white-space:nowrap;overflow:hidden}.bdsug .bdsug-direct p img{width:16px;height:16px;margin:7px 6px 9px 0;vertical-align:middle}.bdsug .bdsug-direct p span{margin-left:8px}.bdsug .bdsug-direct p i{font-size:12px;line-height:100%;font-style:normal;font-weight:400;color:#fff;background-color:#2b99ff;display:inline;text-align:center;padding:1px 5px;*padding:2px 5px 0;margin-left:8px;overflow:hidden}.bdsug .bdsug-pcDirect{color:#000;font-size:14px;line-height:30px;height:30px;background-color:#f8f8f8}.bdsug .bdsug-pc-direct-tip{position:absolute;right:15px;top:8px;width:55px;height:15px;display:block;background:url(http:\\\\/\\\\/s1.bdstatic.com\\\\/r\\\\/www\\\\/cache\\\\/static\\\\/global\\\\/img\\\\/pc_direct_42d6311.png) no-repeat 0 0}.bdsug li.bdsug-pcDirect-s{background-color:#f0f0f0}.bdsug .bdsug-pcDirect-is{color:#000;font-size:14px;line-height:22px;background-color:#f8f8f8}.bdsug .bdsug-pc-direct-tip-is{position:absolute;right:15px;top:3px;width:55px;height:15px;display:block;background:url(http:\\\\/\\\\/s1.bdstatic.com\\\\/r\\\\/www\\\\/cache\\\\/static\\\\/global\\\\/img\\\\/pc_direct_42d6311.png) no-repeat 0 0}.bdsug li.bdsug-pcDirect-is-s{background-color:#f0f0f0}.bdsug .bdsug-pcDirect-s .bdsug-pc-direct-tip,.bdsug .bdsug-pcDirect-is-s .bdsug-pc-direct-tip-is{background-position:0 -15px}.bdsug .bdsug-newicon{color:#929292;opacity:.7;font-size:12px;display:inline-block;line-height:22px;letter-spacing:2px}.bdsug .bdsug-s .bdsug-newicon{opacity:1}.bdsug .bdsug-newicon i{letter-spacing:0;font-style:normal}.bdsug .bdsug-feedback-wrap{text-align:right;background:#fafafa;color:#666;height:25px;line-height:27px}.bdsug .bdsug-feedback{margin-right:10px;text-decoration:underline;color:#666}.toggle-underline{text-decoration:none}.toggle-underline:hover{text-decoration:underline}#tb_mr{color:#00c;cursor:pointer;position:relative;z-index:298}#tb_mr b{font-weight:400;text-decoration:underline}#tb_mr small{font-size:11px}#page{font:14px arial;white-space:nowrap;padding-left:35px}#page a,#page strong{display:inline-block;vertical-align:text-bottom;height:66px;text-align:center;line-height:34px;text-decoration:none;overflow:hidden;margin-right:9px;background:#fff}#page a{cursor:pointer}#page a:hover{background:0 0}#page .n:hover,#page a:hover .pc{background:#f2f8ff;border:1px solid #38f}#page .n{height:34px;padding:0 18px;border:1px solid #e1e2e3}#page span{display:block}#page .pc{width:34px;height:34px;border:1px solid #e1e2e3;cursor:pointer}#page .fk{width:24px;height:24px;margin-bottom:6px;margin-left:6px;cursor:pointer}#page strong .fk,#page strong .pc{cursor:auto}#page .fk .c-icon-bear-pn{top:-3px;position:relative}#page .fkd .c-icon-bear-pn{top:3px;position:relative}#page .fk_cur .c-icon-bear-p{top:-2px;position:relative}#page strong .pc{border:0;width:36px;height:36px;line-height:36px}#page .nums{display:inline-block;vertical-align:text-bottom;height:36px;line-height:36px;margin-left:10px}#rs{width:900px;background:#fff;padding:8px 0;margin:20px 0 0 15px}#rs td{width:5%}#rs th{font-size:14px;font-weight:400;line-height:19px;white-space:nowrap;text-align:left;vertical-align:top}#rs .tt{font-weight:700;padding:0 10px 0 20px}#rs_top{font-size:14px;margin-bottom:22px}#rs_top a{margin-right:18px}#container .rs{margin:30px 0 20px;padding:5px 0 15px;font-size:14px;width:540px;padding-left:121px;position:relative;background-color:#fafafa}#container .noback{background-color:#fff}#content_left .rs{margin-left:-121px}#container .rs table{width:540px}#container .rs td{width:5px}#container .rs th{font-size:14px;font-weight:400;white-space:nowrap;text-align:left;vertical-align:top;width:175px;line-height:22px}#container .rs .tt{font-weight:700;padding:0 10px 0 20px;padding:0;line-height:30px;font-size:16px}#container .rs a{margin:0;height:24px;width:173px;display:inline-block;line-height:25px;border:1px solid #ebebeb;text-align:center;vertical-align:middle;overflow:hidden;outline:0;color:#333;background-color:#fff;text-decoration:none}#container .rs a:hover{border-color:#388bff}.c-tip-con .c-tip-menu-b ul{width:100px}.c-tip-con .c-tip-menu-b ul{text-align:center}.c-tip-con .c-tip-menu-b li a{display:block;text-decoration:none;cursor:pointer;background-color:#fff;padding:3px 0;color:#666}.c-tip-con .c-tip-menu-b li a:hover{display:block;background-color:#ebebeb}#search{width:900px;padding:35px 0 16px 35px}#search .s_help{position:relative;top:10px}#foot{height:20px;line-height:20px;color:#77c;background:#e6e6e6;text-align:center}#foot span{color:#666}.site_tip{font-size:12px;margin-bottom:20px}.site_tip_icon{width:56px;height:56px;background:url(\\\\/\\\\/www.baidu.com\\\\/aladdin\\\\/img\\\\/tools\\\\/tools-3.png) -288px 0 no-repeat}.to_zhidao,.to_tieba,.to_zhidao_bottom{font-size:16px;line-height:24px;margin:20px 0 0 35px}.to_tieba .c-icon-tieba{float:left}.f{line-height:115%;*line-height:120%;font-size:100%;width:33.7em;word-break:break-all;word-wrap:break-word}.h{margin-left:8px;width:100%}.r{word-break:break-all;cursor:hand;width:238px}.t{font-weight:400;font-size:medium;margin-bottom:1px}.pl{padding-left:3px;height:8px;padding-right:2px;font-size:14px}.mo,a.mo:link,a.mo:visited{color:#666;font-size:100%;line-height:10px}.htb{margin-bottom:5px}.jc a{color:#c00}a font[size=\\\\\"3\\\\\"] font,font[size=\\\\\"3\\\\\"] a font{text-decoration:underline}div.blog,div.bbs{color:#707070;padding-top:2px;font-size:13px}.result{width:33.7em;table-layout:fixed}.result-op .f{word-wrap:normal}.nums{font-size:12px;color:#999}.tools{position:absolute;top:10px;white-space:nowrap}#mHolder{width:62px;position:relative;z-index:296;top:-18px;margin-left:9px;margin-right:-12px;display:none}#mCon{height:18px;position:absolute;top:3px;top:6px\\\\\\\\9;cursor:pointer;line-height:18px}.wrapper_l #mCon{right:7px}#mCon span{color:#00c;display:block}#mCon .hw{text-decoration:underline;cursor:pointer;display:inline-block}#mCon .pinyin{display:inline-block}#mCon .c-icon-chevron-unfold2{margin-left:5px}#mMenu{width:56px;border:1px solid #9b9b9b;position:absolute;right:7px;top:23px;display:none;background:#fff}#mMenu a{width:100%;height:100%;color:#00c;display:block;line-height:22px;text-indent:6px;text-decoration:none;filter:none\\\\\\\\9}#mMenu a:hover{background:#ebebeb}#mMenu .ln{height:1px;background:#ebebeb;overflow:hidden;font-size:1px;line-height:1px;margin-top:-1px}.op_LAMP{background:url(\\\\/\\\\/www.baidu.com\\\\/cache\\\\/global\\\\/img\\\\/aladdinIcon-1.0.gif) no-repeat 0 2px;color:#77C;display:inline-block;font-size:13px;height:12px;*height:14px;width:16px;text-decoration:none;zoom:1}.EC_mr15{margin-left:0}.pd15{padding-left:0}.map_1{width:30em;font-size:80%;line-height:145%}.map_2{width:25em;font-size:80%;line-height:145%}.favurl{background-repeat:no-repeat;background-position:0 1px;padding-left:20px}.dan_tip{font-size:12px;margin-top:4px}.dan_tip a{color:#b95b07}#more,#u ul,#mMenu,.msg_holder{box-shadow:1px 1px 2px #ccc;-moz-box-shadow:1px 1px 2px #ccc;-webkit-box-shadow:1px 1px 2px #ccc;filter:progid:DXImageTransform.Microsoft.Shadow(Strength=2, Direction=135, Color=#cccccc)\\\\\\\\9}.hit_top{line-height:18px;margin:0 15px 10px 0;width:516px}.hit_top .c-icon-bear{height:18px;margin-right:4px}#rs_top_new,.hit_top_new{width:538px;font-size:13px;line-height:1.54;word-wrap:break-word;word-break:break-all;margin:0 0 14px}.zhannei-si{margin:0 0 10px 121px}.zhannei-si-none{margin:10px 0 -10px 121px}.zhannei-search{margin:10px 0 0 121px;color:#999;font-size:14px}.f a font[size=\\\\\"3\\\\\"] font,.f font[size=\\\\\"-1\\\\\"] a font{text-decoration:underline}h3 a font{text-decoration:underline}.c-title{font-weight:400;font-size:16px}.c-title-size{font-size:16px}.c-abstract{font-size:13px}.c-abstract-size{font-size:13px}.c-showurl{color:green;font-size:13px}.c-showurl-color{color:green}.c-cache-color{color:#666}.c-lightblue{color:#77c}.c-highlight-color{color:#c00}.c-clearfix:after{content:\\\\\".\\\\\";display:block;height:0;clear:both;visibility:hidden}.c-clearfix{zoom:1}.c-wrap{word-break:break-all;word-wrap:break-word}.c-icons-outer{overflow:hidden;display:inline-block;vertical-align:bottom;*vertical-align:-1px;_vertical-align:bottom}.c-icons-inner{margin-left:-4px;display:inline-block}.c-container table.result,.c-container table.result-op{width:100%}.c-container td.f{font-size:13px;line-height:1.54;width:auto}.c-container .vd_newest_main{width:auto}.c-customicon{display:inline-block;width:16px;height:16px;vertical-align:text-bottom;font-style:normal;overflow:hidden}.c-tip-icon i{display:inline-block;cursor:pointer}.c-tip-con{position:absolute;z-index:1;top:22px;left:-35px;background:#fff;border:1px solid #dcdcdc;border:1px solid rgba(0,0,0,.2);-webkit-transition:opacity .218s;transition:opacity .218s;-webkit-box-shadow:0 2px 4px rgba(0,0,0,.2);box-shadow:0 2px 4px rgba(0,0,0,.2);padding:5px 0;display:none;font-size:12px;line-height:20px}.c-tip-arrow{width:0;height:0;font-size:0;line-height:0;display:block;position:absolute;top:-16px}.c-tip-arrow-down{top:auto;bottom:0}.c-tip-arrow em,.c-tip-arrow ins{width:0;height:0;font-size:0;line-height:0;display:block;position:absolute;border:8px solid transparent;border-style:dashed dashed solid}.c-tip-arrow em{border-bottom-color:#d8d8d8}.c-tip-arrow ins{border-bottom-color:#fff;top:2px}.c-tip-arrow-down em,.c-tip-arrow-down ins{border-style:solid dashed dashed;border-color:transparent}.c-tip-arrow-down em{border-top-color:#d8d8d8}.c-tip-arrow-down ins{border-top-color:#fff;top:-2px}.c-tip-arrow .c-tip-arrow-r{border-bottom-color:#82c9fa;top:2px}.c-tip-arrow-down .c-tip-arrow-r{border-bottom-color:transparent;top:-2px}.c-tip-arrow .c-tip-arrow-c{border-bottom-color:#fecc47;top:2px}.c-tip-arrow-down .c-tip-arrow-c{border-bottom-color:transparent;top:-2px}.c-tip-con h3{font-size:12px}.c-tip-con .c-tip-title{margin:0 10px;display:inline-block;width:239px}.c-tip-con .c-tip-info{color:#666;margin:0 10px 1px;width:239px}.c-tip-con .c-tip-cer{width:370px;color:#666;margin:0 10px 1px}.c-tip-con .c-tip-title{width:auto;_width:354px}.c-tip-con .c-tip-item-i{padding:3px 0 3px 20px;line-height:14px}.c-tip-con .c-tip-item-i .c-tip-item-icon{margin-left:-20px}.c-tip-con .c-tip-menu ul{width:74px}.c-tip-con .c-tip-menu ul{text-align:center}.c-tip-con .c-tip-menu li a{display:block;text-decoration:none;cursor:pointer;background-color:#fff;padding:3px 0;color:#0000d0}.c-tip-con .c-tip-menu li a:hover{display:block;background-color:#ebebeb}.c-tip-con .c-tip-notice{width:239px;padding:0 10px}.c-tip-con .c-tip-notice .c-tip-notice-succ{color:#4cbd37}.c-tip-con .c-tip-notice .c-tip-notice-fail{color:#f13F40}.c-tip-con .c-tip-notice .c-tip-item-succ{color:#444}.c-tip-con .c-tip-notice .c-tip-item-fail{color:#aaa}.c-tip-con .c-tip-notice .c-tip-item-fail a{color:#aaa}.c-tip-close{right:10px;position:absolute;cursor:pointer}.ecard{height:86px;overflow:hidden}.c-tools{display:inline}.c-tools-share{width:239px;padding:0 10px}.c-fanyi{display:none;width:20px;height:20px;border:solid 1px #d1d1d1;cursor:pointer;position:absolute;margin-left:516px;text-align:center;color:#333;line-height:22px;opacity:.9;background-color:#fff}.c-fanyi:hover{background-color:#39f;color:#fff;border-color:#39f;opacity:1}.c-fanyi-title,.c-fanyi-abstract{display:none}.icp_info{color:#666;margin-top:2px;font-size:13px}.icon-gw,.icon-unsafe-icon{background:#2c99ff;vertical-align:text-bottom;*vertical-align:baseline;height:16px;padding-top:0;padding-bottom:0;padding-left:6px;padding-right:6px;line-height:16px;_padding-top:2px;_height:14px;_line-height:14px;font-size:12px;font-family:simsun;margin-left:10px;overflow:hidden;display:inline-block;-moz-border-radius:1px;-webkit-border-radius:1px;border-radius:1px;color:#fff}a.icon-gw{color:#fff;background:#2196ff;text-decoration:none;cursor:pointer}a.icon-gw:hover{background:#1e87ef}a.icon-gw:active{height:15px;_height:13px;line-height:15px;_line-height:13px;padding-left:5px;background:#1c80d9;border-left:1px solid #145997;border-top:1px solid #145997}.icon-unsafe-icon{background:#e54d4b}#con-at{margin-bottom:9px;padding-left:121px;border-bottom:1px #ebebeb solid}#con-at .result-op{font-size:13px;line-height:1.52em}.wrapper_l #con-at .result-op{width:1058px}.wrapper_s #con-at .result-op{width:869px}#con-ar{margin-bottom:40px}#con-ar .result-op{margin-bottom:28px;font-size:13px;line-height:1.52em}.result_hidden{position:absolute;top:-10000px;left:-10000px}#content_left .result-op,#content_left .result{margin-bottom:14px;border-collapse:collapse}#content_left .c-border .result-op,#content_left .c-border .result{margin-bottom:25px}#content_left .c-border .result-op:last-child,#content_left .c-border .result:last-child{margin-bottom:12px}#content_left .result .f,#content_left .result-op .f{padding:0}.subLink_factory{border-collapse:collapse}.subLink_factory td{padding:0}.subLink_factory td.middle,.subLink_factory td.last{color:#666}.subLink_factory td a{text-decoration:underline}.subLink_factory td.rightTd{text-align:right}.subLink_factory_right{width:100%}.subLink_factory_left td{padding-right:26px}.subLink_factory_left td.last{padding:0}.subLink_factory_left td.first{padding-right:75px}.subLink_factory_right td{width:90px}.subLink_factory_right td.first{width:auto}.subLink_answer{padding-top:4px}.subLink_answer li{margin-bottom:4px}.subLink_answer h4{margin:0;padding:0;font-weight:400}.subLink_answer .label_wrap span{display:inline-block;color:#666;margin-right:8px}.subLink_answer .label_wrap span em{color:#666;padding-left:8px}.subLink_answer span.c-icon{margin-right:4px}.subLink_answer_dis{padding:0 3px}.subLink_answer .date{color:#666}.general_image_pic a{background:#fff no-repeat center center;text-decoration:none;display:block;overflow:hidden;text-align:left}.res_top_banner{height:36px;text-align:left;border-bottom:1px solid #e3e3e3;background:#f7f7f7;font-size:13px;padding-left:8px;color:#333;position:relative;z-index:302}.res_top_banner span{_zoom:1}.res_top_banner .res_top_banner_icon{background-position:0 -216px;width:18px;height:18px;margin:9px 10px 0 0}.res_top_banner .res_top_banner_icon_baiduapp{background:url(http:\\\\/\\\\/s1.bdstatic.com\\\\/r\\\\/www\\\\/cache\\\\/static\\\\/global\\\\/img\\\\/baiduappLogo_de45621.png) no-repeat 0 0;width:24px;height:24px;margin:3px 10px 0 0;position:relative;top:3px}.res_top_banner .res_top_banner_icon_windows{background:url(http:\\\\/\\\\/s1.bdstatic.com\\\\/r\\\\/www\\\\/cache\\\\/static\\\\/global\\\\/img\\\\/winlogo_e925689.png) no-repeat 0 0;width:18px;height:18px;margin:9px 10px 0 0}.res_top_banner .res_top_banner_download{display:inline-block;width:65px;line-height:21px;_padding-top:1px;margin:0 0 0 10px;color:#333;background:#fbfbfb;border:1px solid #b4b6b8;text-align:center;text-decoration:none}.res_top_banner .res_top_banner_download:hover{border:1px solid #38f}.res_top_banner .res_top_banner_download:active{background:#f0f0f0;border:1px solid #b4b6b8}.res_top_banner .res_top_banner_close{background-position:-672px -144px;cursor:pointer;position:absolute;right:10px;top:10px}.res_top_banner_for_win{height:34px;text-align:left;border-bottom:1px solid #f0f0f0;background:#fdfdfd;font-size:13px;padding-left:12px;color:#333;position:relative;z-index:302}.res_top_banner_for_win span{_zoom:1;color:#666}.res_top_banner_for_win .res_top_banner_download{display:inline-block;width:auto;line-height:21px;_padding-top:1px;margin:0 0 0 16px;color:#333;text-align:left;text-decoration:underline}.res_top_banner_for_win .res_top_banner_icon_windows{background:url(http:\\\\/\\\\/s1.bdstatic.com\\\\/r\\\\/www\\\\/cache\\\\/static\\\\/global\\\\/img\\\\/winlogo_e925689.png) no-repeat 0 0;width:18px;height:18px;margin:8px 8px 0 0}.res_top_banner_for_win .res_top_banner_close{background-position:-672px -144px;cursor:pointer;position:absolute;right:10px;top:10px}.res-gap-right16{margin-right:16px}.res-border-top{border-top:1px solid #f3f3f3}.res-border-bottom{border-bottom:1px solid #f3f3f3}.res-queryext-pos{position:relative;top:1px;_top:0}.c-trust-ecard{height:86px;_height:97px;overflow:hidden}@-moz-document url-prefix(){.result,.f{width:538px}}body{min-width:1000px}#ftCon{display:none}#qrcode{display:none}#pad-version{display:none}#index_guide{display:none}#index_logo{display:none}#u1{display:none}.s_ipt_wr{height:32px}body{padding:0}.s_form:after,.s_tab:after{content:\\\\\".\\\\\";display:block;height:0;clear:both;visibility:hidden}.s_form{zoom:1;height:55px;padding:0 0 0 10px}#result_logo{float:left;margin:7px 0 0}#result_logo img{width:101px;height:33px}#head{padding:0;margin:0;width:100%;position:absolute;z-index:301;min-width:1000px;background:#fff;border-bottom:1px solid #ebebeb;position:fixed;_position:absolute;-webkit-transform:translateZ(0)}#head .head_wrapper{_width:1000px}#head.s_down{box-shadow:0 0 5px #888}.fm{clear:none;float:left;margin:11px 0 0 10px}#s_tab{background:#f8f8f8;line-height:36px;height:38px;padding:55px 0 0 121px;float:none;zoom:1}#s_tab a,#s_tab b{width:54px;display:inline-block;text-decoration:none;text-align:center;color:#666;font-size:14px}#s_tab b{border-bottom:2px solid #38f;font-weight:700;color:#323232}#s_tab a:hover{color:#323232}#content_left{width:540px;padding-left:121px;padding-top:5px}#content_right{margin-top:45px}#content_bottom{width:540px;padding-left:121px}#page{padding:0 0 0 121px;margin:30px 0 40px}.to_tieba,.to_zhidao_bottom{margin:10px 0 0 121px;padding-top:5px}.nums{margin:0 0 0 121px;height:42px;line-height:42px}#rs{padding:0;margin:6px 0 0 121px;width:600px}#rs th{width:175px;line-height:22px}#rs .tt{padding:0;line-height:30px}#rs td{width:5px}#rs table{width:540px}#help{background:#f5f6f5;zoom:1;padding:0 0 0 50px;float:right}#help a{color:#777;padding:0 15px;text-decoration:none}#help a:hover{color:#333}#foot{background:#f5f6f5;border-top:1px solid #ebebeb;text-align:left;height:42px;line-height:42px;margin-top:40px;*margin-top:0}#foot .foot_c{float:left;padding:0 0 0 121px}.content_none{padding:45px 0 25px 121px}.nors p{font-size:18px;font-family:microsoft yahei;color:#000}.nors p em{color:#c00}.nors .tip_head{color:#666;font-size:13px;line-height:28px}.nors li{color:#333;line-height:28px;font-size:13px;font-family:\\'\\\\u5b8b\\\\u4f53\\';padding-left:30px;list-style-position:inside;list-style-type:disc}#mCon{top:5px}.s_ipt_wr.bg,.s_btn_wr.bg,#su.bg{background-image:none}.s_ipt_wr.bg{background:0 0}.s_btn_wr{width:auto;height:auto;border-bottom:1px solid transparent;*border-bottom:0}.s_btn{width:100px;height:34px;color:#fff;letter-spacing:1px;background:#3385ff;border-bottom:1px solid #2d78f4;outline:medium;*border-bottom:0;-webkit-appearance:none;-webkit-border-radius:0}.s_btn.btnhover{background:#317ef3;border-bottom:1px solid #2868c8;*border-bottom:0;box-shadow:1px 1px 1px #ccc}.s_btn_h{background:#3075dc;box-shadow:inset 1px 1px 3px #2964bb;-webkit-box-shadow:inset 1px 1px 3px #2964bb;-moz-box-shadow:inset 1px 1px 3px #2964bb;-o-box-shadow:inset 1px 1px 3px #2964bb}#wrapper_wrapper .container_l .EC_ppim_top,#wrapper_wrapper .container_xl .EC_ppim_top{width:640px}#wrapper_wrapper .container_s .EC_ppim_top{width:570px}#head .c-icon-bear-round{display:none}.container_l #content_right{width:384px}.container_l{width:1212px}.container_xl #content_right{width:384px}.container_xl{width:1257px}.index_tab_top{display:none}.index_tab_bottom{display:none}#lg{display:none}#m{display:none}#ftCon{display:none}#ent_sug{position:absolute;margin:141px 0 0 130px;font-size:13px;color:#666}.foot_fixed_bottom{position:fixed;bottom:0;width:100%;_position:absolute;_bottom:auto}#head .headBlock{margin:-5px 0 6px 121px}#content_left .leftBlock{margin-bottom:14px;padding-bottom:5px;border-bottom:1px solid #f3f3f3}.hint_toprq_tips{position:relative;width:537px;height:19px;line-height:19px;overflow:hidden;display:none}.hint_toprq_tips span{color:#666}.hint_toprq_icon{margin:0 4px 0 0}.hint_toprq_tips_items{width:444px;_width:440px;max-height:38px;position:absolute;left:95px;top:1px}.hint_toprq_tips_items div{display:inline-block;float:left;height:19px;margin-right:18px;white-space:nowrap;word-break:keep-all}.translateContent{max-width:350px}.translateContent .translateTool{height:16px;margin:-3px 2px}.translateContent .action-translate,.translateContent .action-search{display:inline-block;width:20px;height:16px;background:url(http:\\\\/\\\\/s1.bdstatic.com\\\\/r\\\\/www\\\\/cache\\\\/static\\\\/global\\\\/img\\\\/translate_tool_icon_57087b6.gif) no-repeat}.translateContent .action-translate{background-position:0 0;border-right:1px solid #dcdcdc}.translateContent .action-translate:hover{background-position:0 -20px}.translateContent .action-search{background-position:-20px 0}.translateContent .action-search:hover{background-position:-20px -20px}.nums{width:538px}.search_tool{_padding-top:15px}.head_nums_cont_outer{height:40px;overflow:hidden;position:relative}.head_nums_cont_inner{position:relative}.search_tool_conter .c-gap-left{margin-left:23px}.search_tool_conter .c-icon-triangle-down{opacity:.6}.search_tool_conter .c-icon-triangle-down:hover{opacity:1}.search_tool,.search_tool_close{float:right}.search_tool,.search_tool_conter span{cursor:pointer;color:#666}.search_tool:hover,.search_tool_conter span:hover{color:#333}.search_tool_conter{font-size:12px;color:#666;margin:0 0 0 121px;height:42px;width:538px;line-height:42px;*height:auto;*line-height:normal;*padding:14px 0}.search_tool_conter span strong{color:#666}.c-tip-con .c-tip-langfilter ul{width:80px;text-align:left;color:#666}.c-tip-con .c-tip-langfilter li a{text-indent:15px;color:#666}.c-tip-con .c-tip-langfilter li span{text-indent:15px;padding:3px 0;color:#999;display:block}.c-tip-con .c-tip-timerfilter ul{width:115px;text-align:left;color:#666}.c-tip-con .c-tip-timerfilter-ft ul{width:180px}.c-tip-con .c-tip-timerfilter-si ul{width:206px;padding:7px 10px 10px}.c-tip-con .c-tip-timerfilter li a{text-indent:15px;color:#666}.c-tip-con .c-tip-timerfilter li span{text-indent:15px;padding:3px 0;color:#999;display:block}.c-tip-con .c-tip-timerfilter-ft li a,.c-tip-con .c-tip-timerfilter-ft li span{text-indent:20px}.c-tip-custom{padding:0 15px 10px;position:relative;zoom:1}.c-tip-custom hr{border:0;height:0;border-top:1px solid #ebebeb}.c-tip-custom p{color:#b6b6b6;height:25px;line-height:25px;margin:2px 0}.c-tip-custom .c-tip-custom-et{margin-bottom:7px}.c-tip-custom-input,.c-tip-si-input{display:inline-block;font-size:11px;color:#333;margin-left:4px;padding:0 2px;width:74%;height:16px;line-height:16px\\\\\\\\9;border:1px solid #ebebeb;outline:0;box-sizing:content-box;-webkit-box-sizing:content-box;-moz-box-sizing:content-box;overflow:hidden;position:relative}.c-tip-custom-input-init{color:#d4d4d4}.c-tip-custom-input-focus,.c-tip-si-input-focus{border:1px solid #3385ff}.c-tip-timerfilter-si .c-tip-si-input{width:138px;height:22px;line-height:22px;vertical-align:0;*vertical-align:-6px;_vertical-align:-5px;padding:0 5px;margin-left:0}.c-tip-con .c-tip-timerfilter li .c-tip-custom-submit,.c-tip-con .c-tip-timerfilter li .c-tip-timerfilter-si-submit{display:inline;padding:4px 10px;margin:0;color:#333;border:1px solid #d8d8d8;font-family:inherit;font-weight:400;text-align:center;vertical-align:0;background-color:#f9f9f9;outline:0}.c-tip-con .c-tip-timerfilter li .c-tip-custom-submit:hover,.c-tip-con .c-tip-timerfilter li .c-tip-timerfilter-si-submit:hover{display:inline;border-color:#388bff}.c-tip-timerfilter-si-error,.c-tip-timerfilter-custom-error{display:none;color:#3385FF;padding-left:4px}.c-tip-timerfilter-custom-error{padding:0;margin:-5px -13px 7px 0}#c-tip-custom-calenderCont{position:absolute;background:#fff;white-space:nowrap;padding:5px 10px;color:#000;border:1px solid #e4e4e4;-webkit-box-shadow:0 2px 4px rgba(0,0,0,.2);box-shadow:0 2px 4px rgba(0,0,0,.2)}#c-tip-custom-calenderCont p{text-align:center;padding:2px 0 4px;*padding:4px 0}#c-tip-custom-calenderCont p i{color:#8e9977;cursor:pointer;text-decoration:underline;font-size:13px}#c-tip-custom-calenderCont .op_cal{background:#fff}.op_cal table{background:#eeefea;margin:0;border-collapse:separate}.op_btn_pre_month,.op_btn_next_month{cursor:pointer;display:block;margin-top:6px}.op_btn_pre_month{float:left;background-position:0 -46px}.op_btn_next_month{float:right;background-position:-18px -46px}.op_cal .op_mon_pre1{padding:0}.op_mon th{text-align:center;font-size:12px;background:#FFF;font-weight:700;border:1px solid #FFF;padding:0}.op_mon td{text-align:center;cursor:pointer}.op_mon h5{margin:0;padding:0 4px;text-align:center;font-size:14px;background:#FFF;height:28px;line-height:28px;border-bottom:1px solid #f5f5f5;margin-bottom:5px}.op_mon strong{font-weight:700}.op_mon td{padding:0 5px;border:1px solid #fff;font-size:12px;background:#fff;height:100%}.op_mon td.op_mon_pre_month{color:#a4a4a4}.op_mon td.op_mon_cur_month{color:#00c}.op_mon td.op_mon_next_month{color:#a4a4a4}.op_mon td.op_mon_day_hover{color:#000;border:1px solid #278df2}.op_mon td.op_mon_day_selected{color:#FFF;border:1px solid #278df2;background:#278df2}.op_mon td.op_mon_day_disabled{cursor:not-allowed;color:#ddd}.zhannei-si-none,.zhannei-si,.hit_quet,.zhannei-search{display:none}#c-tip-custom-calenderCont .op_mon td.op_mon_cur_month{color:#000}#c-tip-custom-calenderCont .op_mon td.op_mon_day_selected{color:#fff}.c-icon-toen{width:24px;height:24px;line-height:24px;background-color:#1cb7fd;color:#fff;font-size:14px;font-weight:700;font-style:normal;display:block;display:inline-block;float:left;text-align:center}.hint_common_restop{width:538px;color:#999;font-size:12px;text-align:left;margin:5px 0 10px 121px}.hint_common_restop.hint-adrisk-pro{margin-top:4px;margin-bottom:13px}.hint_common_restop .hint-adrisk-title{color:#333;margin-bottom:3px}#con-at~#wrapper_wrapper .hint_common_restop{padding-top:7px}.sitelink{overflow:auto;zoom:1}.sitelink_summary{float:left;width:47%;padding-right:30px}.sitelink_summary a{font-size:1.1em;position:relative}.sitelink_summary_last{padding-right:0}.sitelink_en{overflow:auto;zoom:1}.sitelink_en_summary{float:left;width:47%;padding-right:30px}.sitelink_en_summary a{font-size:1.1em;position:relative}.sitelink_en_summary_last{padding-right:0}.sitelink_en_summary_title,.sitelink_en_summary .m{height:22px;overflow:hidden}.without-summary-sitelink-en-container{overflow:hidden;height:22px}.without-summary-sitelink-en{float:left}.without-summary-sitelink-en-delimiter{margin-right:5px;margin-left:5px}.wise-qrcode-wrapper{height:42px;line-height:42px;position:absolute;margin-left:8px;top:0;z-index:300}.wise-qrcode-icon-outer{overflow:hidden}.wise-qrcode-icon{position:relative;display:inline-block;width:15px;height:15px;vertical-align:text-bottom;overflow:hidden;opacity:.5;background:url(http:\\\\/\\\\/s1.bdstatic.com\\\\/r\\\\/www\\\\/cache\\\\/static\\\\/global\\\\/img\\\\/qrcode_icon_ae03227.png) no-repeat;-webkit-transform:translateY(42px);-ms-transform:translateY(42px);transform:translateY(42px);-webkit-background-size:100% 100%;background-size:100%}.wise-qrcode-container{padding:15px;background:#fff;display:none;top:61px;left:0;-webkit-transform:translateX(-50%);-ms-transform:translateX(-50%);transform:translateX(-50%);-webkit-box-shadow:0 0 1px rgba(0,0,0,.5);box-shadow:0 0 1px rgba(0,0,0,.5)}.wise-qrcode-wrapper.show:hover .wise-qrcode-container{display:block}.wise-qrcode-image{width:90px;height:90px;display:inline-block;vertical-align:middle}.wise-qrcode-image .wise-qrcode-canvas{width:100%;height:100%}.wise-qrcode-right{display:inline-block;vertical-align:middle;margin-left:15px}.wise-qrcode-title{font-size:16px;color:#000;line-height:26px}.wise-qrcode-text{font-size:12px;line-height:22px;color:#555}.c-frame{margin-bottom:18px}.c-offset{padding-left:10px}.c-gray{color:#666}.c-gap-top-small{margin-top:5px}.c-gap-top{margin-top:10px}.c-gap-bottom-small{margin-bottom:5px}.c-gap-bottom{margin-bottom:10px}.c-gap-left{margin-left:12px}.c-gap-left-small{margin-left:6px}.c-gap-right{margin-right:12px}.c-gap-right-small{margin-right:6px}.c-gap-right-large{margin-right:16px}.c-gap-left-large{margin-left:16px}.c-gap-icon-right-small{margin-right:5px}.c-gap-icon-right{margin-right:10px}.c-gap-icon-left-small{margin-left:5px}.c-gap-icon-left{margin-left:10px}.c-container{width:538px;font-size:13px;line-height:1.54;word-wrap:break-word;word-break:break-word}.c-container .c-container{width:auto}.c-container table{border-collapse:collapse;border-spacing:0}.c-container td{font-size:13px;line-height:1.54}.c-default{font-size:13px;line-height:1.54;word-wrap:break-word;word-break:break-all}.c-container .t,.c-default .t{line-height:1.54}.c-default .t{margin-bottom:0}.cr-content{width:259px;font-size:13px;line-height:1.54;color:#333;word-wrap:break-word;word-break:normal}.cr-content table{border-collapse:collapse;border-spacing:0}.cr-content td{font-size:13px;line-height:1.54;vertical-align:top}.cr-offset{padding-left:17px}.cr-title{font-size:14px;line-height:1.29;font-weight:700}.cr-title-sub{float:right;font-size:13px;font-weight:400}.c-row{*zoom:1}.c-row:after{display:block;height:0;content:\\\\\"\\\\\";clear:both;visibility:hidden}.c-span2{width:29px}.c-span3{width:52px}.c-span4{width:75px}.c-span5{width:98px}.c-span6{width:121px}.c-span7{width:144px}.c-span8{width:167px}.c-span9{width:190px}.c-span10{width:213px}.c-span11{width:236px}.c-span12{width:259px}.c-span13{width:282px}.c-span14{width:305px}.c-span15{width:328px}.c-span16{width:351px}.c-span17{width:374px}.c-span18{width:397px}.c-span19{width:420px}.c-span20{width:443px}.c-span21{width:466px}.c-span22{width:489px}.c-span23{width:512px}.c-span24{width:535px}.c-span2,.c-span3,.c-span4,.c-span5,.c-span6,.c-span7,.c-span8,.c-span9,.c-span10,.c-span11,.c-span12,.c-span13,.c-span14,.c-span15,.c-span16,.c-span17,.c-span18,.c-span19,.c-span20,.c-span21,.c-span22,.c-span23,.c-span24{float:left;_display:inline;margin-right:17px;list-style:none}.c-span-last{margin-right:0}.c-span-last-s{margin-right:0}.container_l .cr-content{width:351px}.container_l .cr-content .c-span-last-s{margin-right:17px}.container_l .cr-content-narrow{width:259px}.container_l .cr-content-narrow .c-span-last-s{margin-right:0}.c-border{width:518px;padding:9px;border:1px solid #e3e3e3;border-bottom-color:#e0e0e0;border-right-color:#ececec;box-shadow:1px 2px 1px rgba(0,0,0,.072);-webkit-box-shadow:1px 2px 1px rgba(0,0,0,.072);-moz-box-shadow:1px 2px 1px rgba(0,0,0,.072);-o-box-shadow:1px 2px 1px rgba(0,0,0,.072)}.c-border .c-gap-left{margin-left:10px}.c-border .c-gap-left-small{margin-left:5px}.c-border .c-gap-right{margin-right:10px}.c-border .c-gap-right-small{margin-right:5px}.c-border .c-border{width:auto;padding:0;border:0;box-shadow:none;-webkit-box-shadow:none;-moz-box-shadow:none;-o-box-shadow:none}.c-border .c-span2{width:34px}.c-border .c-span3{width:56px}.c-border .c-span4{width:78px}.c-border .c-span5{width:100px}.c-border .c-span6{width:122px}.c-border .c-span7{width:144px}.c-border .c-span8{width:166px}.c-border .c-span9{width:188px}.c-border .c-span10{width:210px}.c-border .c-span11{width:232px}.c-border .c-span12{width:254px}.c-border .c-span13{width:276px}.c-border .c-span14{width:298px}.c-border .c-span15{width:320px}.c-border .c-span16{width:342px}.c-border .c-span17{width:364px}.c-border .c-span18{width:386px}.c-border .c-span19{width:408px}.c-border .c-span20{width:430px}.c-border .c-span21{width:452px}.c-border .c-span22{width:474px}.c-border .c-span23{width:496px}.c-border .c-span24{width:518px}.c-border .c-span2,.c-border .c-span3,.c-border .c-span4,.c-border .c-span5,.c-border .c-span6,.c-border .c-span7,.c-border .c-span8,.c-border .c-span9,.c-border .c-span10,.c-border .c-span11,.c-border .c-span12,.c-border .c-span13,.c-border .c-span14,.c-border .c-span15,.c-border .c-span16,.c-border .c-span17,.c-border .c-span18,.c-border .c-span19,.c-border .c-span20,.c-border .c-span21,.c-border .c-span22,.c-border .c-span23,.c-border .c-span24{margin-right:10px}.c-border .c-span-last{margin-right:0}.c-loading{display:block;width:50px;height:50px;background:url(\\\\/\\\\/www.baidu.com\\\\/aladdin\\\\/img\\\\/tools\\\\/loading.gif) no-repeat 0 0}.c-vline{display:inline-block;margin:0 3px;border-left:1px solid #ddd;width:0;height:12px;_vertical-align:middle;_overflow:hidden}.c-icon{background:url(http:\\\\/\\\\/s1.bdstatic.com\\\\/r\\\\/www\\\\/cache\\\\/static\\\\/global\\\\/img\\\\/icons_441e82f.png) no-repeat 0 0;_background-image:url(http:\\\\/\\\\/s1.bdstatic.com\\\\/r\\\\/www\\\\/cache\\\\/static\\\\/global\\\\/img\\\\/icons_d5b04cc.gif)}.c-icon{display:inline-block;width:14px;height:14px;vertical-align:text-bottom;font-style:normal;overflow:hidden}.c-icon-unfold,.c-icon-fold,.c-icon-chevron-unfold,.c-icon-chevron-fold{width:12px;height:12px}.c-icon-star,.c-icon-star-gray{width:60px}.c-icon-qa-empty,.c-icon-safeguard,.c-icon-register-empty,.c-icon-zan,.c-icon-music,.c-icon-music-gray,.c-icon-location,.c-icon-warning,.c-icon-doc,.c-icon-xls,.c-icon-ppt,.c-icon-pdf,.c-icon-txt,.c-icon-play-black,.c-icon-gift,.c-icon-baidu-share,.c-icon-bear,.c-icon-bear-border,.c-icon-location-blue,.c-icon-hotAirBall,.c-icon-moon,.c-icon-streetMap,.c-icon-mv,.c-icon-zhidao-s,.c-icon-shopping{width:16px;height:16px}.c-icon-bear-circle,.c-icon-warning-circle,.c-icon-warning-triangle,.c-icon-warning-circle-gray{width:18px;height:18px}.c-icon-tieba,.c-icon-zhidao,.c-icon-bear-p,.c-icon-bear-pn{width:24px;height:24px}.c-icon-ball-blue,.c-icon-ball-red{width:38px;height:38px}.c-icon-unfold:hover,.c-icon-fold:hover,.c-icon-chevron-unfold:hover,.c-icon-chevron-fold:hover,.c-icon-download:hover,.c-icon-lyric:hover,.c-icon-v:hover,.c-icon-hui:hover,.c-icon-bao:hover,.c-icon-newbao:hover,.c-icon-person:hover,.c-icon-high-v:hover,.c-icon-phone:hover,.c-icon-nuo:hover,.c-icon-fan:hover,.c-icon-med:hover,.c-icon-air:hover,.c-icon-share2:hover,.c-icon-v1:hover,.c-icon-v2:hover,.c-icon-write:hover,.c-icon-R:hover{border-color:#388bff}.c-icon-unfold:active,.c-icon-fold:active,.c-icon-chevron-unfold:active,.c-icon-chevron-fold:active,.c-icon-download:active,.c-icon-lyric:active,.c-icon-v:active,.c-icon-hui:active,.c-icon-bao:active,.c-icon-newbao:active,.c-icon-person:active,.c-icon-high-v:active,.c-icon-phone:active,.c-icon-nuo:active,.c-icon-fan:active,.c-icon-med:active,.c-icon-air:active,.c-icon-share2:active,.c-icon-v1:active,.c-icon-v2:active,.c-icon-write:active,.c-icon-R:active{border-color:#a2a6ab;background-color:#f0f0f0;box-shadow:inset 1px 1px 1px #c7c7c7;-webkit-box-shadow:inset 1px 1px 1px #c7c7c7;-moz-box-shadow:inset 1px 1px 1px #c7c7c7;-o-box-shadow:inset 1px 1px 1px #c7c7c7}.c-icon-v3:hover{border-color:#ffb300}.c-icon-v3:active{border-color:#a2a6ab;background-color:#f0f0f0;box-shadow:inset 1px 1px 1px #c7c7c7;-webkit-box-shadow:inset 1px 1px 1px #c7c7c7;-moz-box-shadow:inset 1px 1px 1px #c7c7c7;-o-box-shadow:inset 1px 1px 1px #c7c7c7}.c-icon-unfold,.c-icon-fold,.c-icon-chevron-unfold,.c-icon-chevron-fold,.c-icon-download,.c-icon-lyric{border:1px solid #d8d8d8;cursor:pointer}.c-icon-v,.c-icon-hui,.c-icon-bao,.c-icon-newbao,.c-icon-person,.c-icon-high-v,.c-icon-phone,.c-icon-nuo,.c-icon-fan,.c-icon-med,.c-icon-air,.c-icon-share2,.c-icon-v1,.c-icon-v2,.c-icon-v3,.c-icon-write,.c-icon-R{border:1px solid #d8d8d8;cursor:pointer;border-color:transparent;_border-color:tomato;_filter:chroma(color=#ff6347)}.c-icon-v1,.c-icon-v2,.c-icon-v3,.c-icon-v1-noborder,.c-icon-v2-noborder,.c-icon-v3-noborder,.c-icon-v1-noborder-disable,.c-icon-v2-noborder-disable,.c-icon-v3-noborder-disable{width:19px}.c-icon-download,.c-icon-lyric{width:16px;height:16px}.c-icon-play-circle,.c-icon-stop-circle{width:18px;height:18px}.c-icon-play-circle-middle,.c-icon-stop-circle-middle{width:24px;height:24px}.c-icon-play-black-large,.c-icon-stop-black-large{width:36px;height:36px}.c-icon-play-black-larger,.c-icon-stop-black-larger{width:52px;height:52px}.c-icon-flag{background-position:0 -144px}.c-icon-bus{background-position:-24px -144px}.c-icon-calendar{background-position:-48px -144px}.c-icon-street{background-position:-72px -144px}.c-icon-map{background-position:-96px -144px}.c-icon-bag{background-position:-120px -144px}.c-icon-money{background-position:-144px -144px}.c-icon-game{background-position:-168px -144px}.c-icon-user{background-position:-192px -144px}.c-icon-globe{background-position:-216px -144px}.c-icon-lock{background-position:-240px -144px}.c-icon-plane{background-position:-264px -144px}.c-icon-list{background-position:-288px -144px}.c-icon-star-gray{background-position:-312px -144px}.c-icon-circle-gray{background-position:-384px -144px}.c-icon-triangle-down{background-position:-408px -144px}.c-icon-triangle-up{background-position:-432px -144px}.c-icon-triangle-up-empty{background-position:-456px -144px}.c-icon-sort-gray{background-position:-480px -144px}.c-icon-sort-up{background-position:-504px -144px}.c-icon-sort-down{background-position:-528px -144px}.c-icon-down-gray{background-position:-552px -144px}.c-icon-up-gray{background-position:-576px -144px}.c-icon-download-noborder{background-position:-600px -144px}.c-icon-lyric-noborder{background-position:-624px -144px}.c-icon-download-white{background-position:-648px -144px}.c-icon-close{background-position:-672px -144px}.c-icon-fail{background-position:-696px -144px}.c-icon-success{background-position:-720px -144px}.c-icon-triangle-down-g{background-position:-744px -144px}.c-icon-refresh{background-position:-768px -144px}.c-icon-chevron-left-gray{background-position:-816px -144px}.c-icon-chevron-right-gray{background-position:-840px -144px}.c-icon-setting{background-position:-864px -144px}.c-icon-close2{background-position:-888px -144px}.c-icon-chevron-top-gray-s{background-position:-912px -144px}.c-icon-fullscreen{background-position:0 -168px}.c-icon-safe{background-position:-24px -168px}.c-icon-exchange{background-position:-48px -168px}.c-icon-chevron-bottom{background-position:-72px -168px}.c-icon-chevron-top{background-position:-96px -168px}.c-icon-unfold{background-position:-120px -168px}.c-icon-fold{background-position:-144px -168px}.c-icon-chevron-unfold{background-position:-168px -168px}.c-icon-qa{background-position:-192px -168px}.c-icon-register{background-position:-216px -168px}.c-icon-star{background-position:-240px -168px}.c-icon-star-gray{position:relative}.c-icon-star-gray .c-icon-star{position:absolute;top:0;left:0}.c-icon-play-blue{background-position:-312px -168px}.c-icon-pic{width:16px;background-position:-336px -168px}.c-icon-chevron-fold{background-position:-360px -168px}.c-icon-video{width:18px;background-position:-384px -168px}.c-icon-circle-blue{background-position:-408px -168px}.c-icon-circle-yellow{background-position:-432px -168px}.c-icon-play-white{background-position:-456px -168px}.c-icon-triangle-down-blue{background-position:-480px -168px}.c-icon-chevron-unfold2{background-position:-504px -168px}.c-icon-right{background-position:-528px -168px}.c-icon-right-empty{background-position:-552px -168px}.c-icon-new-corner{width:15px;background-position:-576px -168px}.c-icon-horn{background-position:-600px -168px}.c-icon-right-large{width:18px;background-position:-624px -168px}.c-icon-wrong-large{background-position:-648px -168px}.c-icon-circle-blue-s{background-position:-672px -168px}.c-icon-play-gray{background-position:-696px -168px}.c-icon-up{background-position:-720px -168px}.c-icon-down{background-position:-744px -168px}.c-icon-stable{background-position:-768px -168px}.c-icon-calendar-blue{background-position:-792px -168px}.c-icon-triangle-down-blue2{background-position:-816px -168px}.c-icon-triangle-up-blue2{background-position:-840px -168px}.c-icon-down-blue{background-position:-864px -168px}.c-icon-up-blue{background-position:-888px -168px}.c-icon-ting{background-position:-912px -168px}.c-icon-piao{background-position:-936px -168px}.c-icon-wrong-empty{background-position:-960px -168px}.c-icon-warning-circle-s{background-position:-984px -168px}.c-icon-chevron-left{background-position:-1008px -168px}.c-icon-chevron-right{background-position:-1032px -168px}.c-icon-circle-gray-s{background-position:-1056px -168px}.c-icon-v,.c-icon-v-noborder{background-position:0 -192px}.c-icon-hui{background-position:-24px -192px}.c-icon-bao{background-position:-48px -192px}.c-icon-newbao{background-position:-97px -218px}.c-icon-phone{background-position:-72px -192px}.c-icon-qa-empty{background-position:-96px -192px}.c-icon-safeguard{background-position:-120px -192px}.c-icon-register-empty{background-position:-144px -192px}.c-icon-zan{background-position:-168px -192px}.c-icon-music{background-position:-192px -192px}.c-icon-music-gray{background-position:-216px -192px}.c-icon-location{background-position:-240px -192px}.c-icon-warning{background-position:-264px -192px}.c-icon-doc{background-position:-288px -192px}.c-icon-xls{background-position:-312px -192px}.c-icon-ppt{background-position:-336px -192px}.c-icon-pdf{background-position:-360px -192px}.c-icon-txt{background-position:-384px -192px}.c-icon-play-black{background-position:-408px -192px}.c-icon-play-black:hover{background-position:-432px -192px}.c-icon-gift{background-position:-456px -192px}.c-icon-baidu-share{background-position:-480px -192px}.c-icon-bear{background-position:-504px -192px}.c-icon-R{background-position:-528px -192px}.c-icon-bear-border{background-position:-576px -192px}.c-icon-person,.c-icon-person-noborder{background-position:-600px -192px}.c-icon-location-blue{background-position:-624px -192px}.c-icon-hotAirBall{background-position:-648px -192px}.c-icon-moon{background-position:-672px -192px}.c-icon-streetMap{background-position:-696px -192px}.c-icon-high-v,.c-icon-high-v-noborder{background-position:-720px -192px}.c-icon-nuo{background-position:-744px -192px}.c-icon-mv{background-position:-768px -192px}.c-icon-fan{background-position:-792px -192px}.c-icon-med{background-position:-816px -192px}.c-icon-air{background-position:-840px -192px}.c-icon-share2{background-position:-864px -192px}.c-icon-v1,.c-icon-v1-noborder{background-position:-888px -192px}.c-icon-v2,.c-icon-v2-noborder{background-position:-912px -192px}.c-icon-v3,.c-icon-v3-noborder{background-position:-936px -192px}.c-icon-v1-noborder-disable{background-position:-960px -192px}.c-icon-v2-noborder-disable{background-position:-984px -192px}.c-icon-v3-noborder-disable{background-position:-1008px -192px}.c-icon-write{background-position:-1032px -192px}.c-icon-zhidao-s{background-position:-1056px -192px}.c-icon-shopping{background-position:-1080px -192px}.c-icon-bear-circle{background-position:0 -216px}.c-icon-warning-circle{background-position:-24px -216px}.c-icon-warning-triangle{width:24px;background-position:-48px -216px}.c-icon-warning-circle-gray{background-position:-72px -216px}.c-icon-ball-red{background-position:0 -240px}.c-icon-ball-blue{background-position:-48px -240px}.c-icon-tieba{background-position:0 -288px}.c-icon-zhidao{background-position:-48px -288px}.c-icon-bear-p{background-position:-96px -288px}.c-icon-bear-pn{background-position:-144px -288px}.c-icon-download{background-position:0 -336px}.c-icon-lyric{background-position:-24px -336px}.c-icon-play-circle{background-position:-48px -336px}.c-icon-play-circle:hover{background-position:-72px -336px}.c-icon-stop-circle{background-position:-96px -336px}.c-icon-stop-circle:hover{background-position:-120px -336px}.c-icon-play-circle-middle{background-position:0 -360px}.c-icon-play-circle-middle:hover{background-position:-48px -360px}.c-icon-stop-circle-middle{background-position:-96px -360px}.c-icon-stop-circle-middle:hover{background-position:-144px -360px}.c-icon-play-black-large{background-position:0 -408px}.c-icon-play-black-large:hover{background-position:-48px -408px}.c-icon-stop-black-large{background-position:-96px -408px}.c-icon-stop-black-large:hover{background-position:-144px -408px}.c-icon-play-black-larger{background-position:0 -456px}.c-icon-play-black-larger:hover{background-position:-72px -456px}.c-icon-stop-black-larger{background-position:-144px -456px}.c-icon-stop-black-larger:hover{background-position:-216px -456px}.c-recommend{font-size:0;padding:5px 0;border:1px solid #f3f3f3;border-left:0;border-right:0}.c-recommend .c-icon{margin-bottom:-4px}.c-recommend .c-gray,.c-recommend a{font-size:13px}.c-recommend-notopline{padding-top:0;border-top:0}.c-recommend-vline{display:inline-block;margin:0 10px -2px;border-left:1px solid #d8d8d8;width:0;height:12px;_vertical-align:middle;_overflow:hidden}.c-text{display:inline-block;padding:2px;text-align:center;vertical-align:text-bottom;font-size:12px;line-height:100%;font-style:normal;font-weight:400;color:#fff;overflow:hidden}a.c-text{text-decoration:none}.c-text-new{background-color:#f13f40}.c-text-info{padding-left:0;padding-right:0;font-weight:700;color:#2b99ff;*vertical-align:baseline;_position:relative;_top:2px}.c-text-info b{_position:relative;_top:-1px}.c-text-info span{padding:0 2px;font-weight:400}.c-text-important{background-color:#1cb7fd}.c-text-public{background-color:#2b99ff}.c-text-warning{background-color:#ff830f}.c-text-prompt{background-color:#f5c537}.c-text-danger{background-color:#f13f40}.c-text-safe{background-color:#52c277}.c-text-empty{padding-top:1px;padding-bottom:1px;border:1px solid #d8d8d8;cursor:pointer;color:#23b9fd;background-color:#fff}.c-text-empty:hover{border-color:#388bff}.c-text-empty:active{border-color:#a2a6ab;background-color:#f0f0f0;box-shadow:inset 1px 1px 1px #c7c7c7;-webkit-box-shadow:inset 1px 1px 1px #c7c7c7;-moz-box-shadow:inset 1px 1px 1px #c7c7c7;-o-box-shadow:inset 1px 1px 1px #c7c7c7}.c-text-mult{padding-left:5px;padding-right:5px}.c-text-gray{background-color:#666}.c-btn,.c-btn:visited{color:#333!important}.c-btn{display:inline-block;padding:0 14px;margin:0;height:24px;line-height:25px;font-size:13px;filter:chroma(color=#000000);*zoom:1;border:1px solid #d8d8d8;cursor:pointer;font-family:inherit;font-weight:400;text-align:center;vertical-align:middle;background-color:#f9f9f9;overflow:hidden;outline:0}.c-btn:hover{border-color:#388bff}.c-btn:active{border-color:#a2a6ab;background-color:#f0f0f0;box-shadow:inset 1px 1px 1px #c7c7c7;-webkit-box-shadow:inset 1px 1px 1px #c7c7c7;-moz-box-shadow:inset 1px 1px 1px #c7c7c7;-o-box-shadow:inset 1px 1px 1px #c7c7c7}a.c-btn{text-decoration:none}button.c-btn{height:26px;_line-height:18px;*overflow:visible}button.c-btn::-moz-focus-inner{padding:0;border:0}.c-btn .c-icon{margin-top:5px}.c-btn-disable{color:#999!important}.c-btn-disable:visited{color:#999!important}.c-btn-disable:hover{border:1px solid #d8d8d8;cursor:default}.c-btn-disable:active{border-color:#d8d8d8;background-color:#f9f9f9;box-shadow:none;-webkit-box-shadow:none;-moz-box-shadow:none;-o-box-shadow:none}.c-btn-mini{padding-left:5px;padding-right:5px;height:18px;line-height:18px;font-size:12px}button.c-btn-mini{height:20px;_height:18px;_line-height:14px}.c-btn-mini .c-icon{margin-top:2px}.c-btn-large{height:28px;line-height:28px;font-size:14px;font-family:\\\\\"\\\\u5fae\\\\u8f6f\\\\u96c5\\\\u9ed1\\\\\",\\\\\"\\\\u9ed1\\\\u4f53\\\\\"}button.c-btn-large{height:30px;_line-height:24px}.c-btn-large .c-icon{margin-top:7px;_margin-top:6px}.c-btn-primary,.c-btn-primary:visited{color:#fff!important}.c-btn-primary{background-color:#388bff;border-color:#3c8dff #408ffe #3680e6}.c-btn-primary:hover{border-color:#2678ec #2575e7 #1c6fe2 #2677e7;background-color:#388bff;background-image:url(data:image\\\\/png;base64,iVBORw0KGgoAAAANSUhEUgAAAAEAAAACCAMAAACuX0YVAAAABlBMVEVnpv85i\\\\/9PO5r4AAAAD0lEQVR42gEEAPv\\\\/AAAAAQAFAAIros7PAAAAAElFTkSuQmCC);*background-image:none;background-repeat:repeat-x;box-shadow:1px 1px 1px rgba(0,0,0,.4);-webkit-box-shadow:1px 1px 1px rgba(0,0,0,.4);-moz-box-shadow:1px 1px 1px rgba(0,0,0,.4);-o-box-shadow:1px 1px 1px rgba(0,0,0,.4)}.c-btn-primary:active{border-color:#178ee3 #1784d0 #177bbf #1780ca;background-color:#388bff;background-image:none;box-shadow:inset 1px 1px 1px rgba(0,0,0,.15);-webkit-box-shadow:inset 1px 1px 1px rgba(0,0,0,.15);-moz-box-shadow:inset 1px 1px 1px rgba(0,0,0,.15);-o-box-shadow:inset 1px 1px 1px rgba(0,0,0,.15)}.c-btn .c-icon{float:left}.c-dropdown2{position:relative;display:inline-block;width:100%;height:26px;line-height:26px;font-size:13px;vertical-align:middle;outline:0;_font-family:SimSun;background-color:#fff;word-wrap:normal;word-break:normal}.c-dropdown2 .c-dropdown2-btn-group{position:relative;height:24px;border:1px solid #999;border-bottom-color:#d8d8d8;border-right-color:#d8d8d8;-moz-user-select:none;-webkit-user-select:none;user-select:none}.c-dropdown2:hover .c-dropdown2-btn-group,.c-dropdown2-hover .c-dropdown2-btn-group{box-shadow:inset 1px 1px 0 0 #d8d8d8;-webkit-box-shadow:inset 1px 1px 0 0 #d8d8d8;-moz-box-shadow:inset 1px 1px 0 0 #d8d8d8;-o-box-shadow:inset 1px 1px 0 0 #d8d8d8}.c-dropdown2:hover .c-dropdown2-btn-icon,.c-dropdown2-hover .c-dropdown2-btn-icon{box-shadow:inset 0 1px 0 0 #d8d8d8;-webkit-box-shadow:inset 0 1px 0 0 #d8d8d8;-moz-box-shadow:inset 0 1px 0 0 #d8d8d8;-o-box-shadow:inset 0 1px 0 0 #d8d8d8}.c-dropdown2:hover .c-dropdown2-btn-icon-border,.c-dropdown2-hover .c-dropdown2-btn-icon-border{background-color:#f2f2f2}.c-dropdown2 .c-dropdown2-btn{height:24px;padding-left:10px;padding-right:10px;cursor:default;overflow:hidden;white-space:nowrap}.c-dropdown2 .c-dropdown2-btn-icon{position:absolute;top:0;right:0;width:23px;height:24px;line-height:24px;background-color:#fff;padding:0 1px 0 10px}.c-dropdown2 .c-dropdown2-btn-icon-border{height:24px;width:23px;border-left:1px solid #d9d9d9;text-align:center;zoom:1}.c-dropdown2 .c-icon-triangle-down{*margin-top:5px;_margin-left:2px}.c-dropdown2 .c-dropdown2-menu{position:absolute;left:0;top:100%;_margin-top:0;width:100%;overflow:hidden;border:1px solid #bbb;background:#fff;visibility:hidden}.c-dropdown2 .c-dropdown2-menu-inner{overflow:hidden}.c-dropdown2 .c-dropdown2-option{background-color:#fff;cursor:pointer}.c-dropdown2 .c-dropdown2-selected{background-color:#f5f5f5}.c-dropdown2-common ul,.c-dropdown2-common li{margin:0;padding:0;list-style:none}.c-dropdown2-common .c-dropdown2-option{height:26px;line-height:26px;font-size:12px;color:#333;white-space:nowrap;cursor:pointer;padding-left:10px}.c-dropdown2-common .c-dropdown2-selected{background-color:#f5f5f5}.c-dropdown2-common .c-dropdown2-menu-group .c-dropdown2-group{padding-left:10px;font-weight:700;cursor:default}.c-dropdown2-common .c-dropdown2-menu-group .c-dropdown2-option{padding-left:20px}.c-img{display:block;min-height:1px;border:0 0}.c-img3{width:52px}.c-img4{width:75px}.c-img6{width:121px}.c-img7{width:144px}.c-img12{width:259px}.c-img15{width:328px}.c-img18{width:397px}.c-border .c-img3{width:56px}.c-border .c-img4{width:78px}.c-border .c-img7{width:144px}.c-border .c-img12{width:254px}.c-border .c-img15{width:320px}.c-border .c-img18{width:386px}.c-index{display:inline-block;padding:1px 0;color:#fff;width:14px;line-height:100%;font-size:12px;text-align:center;background-color:#8eb9f5}.c-index-hot,.c-index-hot1{background-color:#f54545}.c-index-hot2{background-color:#ff8547}.c-index-hot3{background-color:#ffac38}.c-input{display:inline-block;padding:0 4px;height:24px;line-height:24px\\\\\\\\9;font-size:13px;border:1px solid #999;border-bottom-color:#d8d8d8;border-right-color:#d8d8d8;outline:0;box-sizing:content-box;-webkit-box-sizing:content-box;-moz-box-sizing:content-box;vertical-align:top;overflow:hidden}.c-input:hover{box-shadow:inset 1px 1px 1px 0 #d8d8d8;-webkit-box-shadow:inset 1px 1px 1px 0 #d8d8d8;-moz-box-shadow:inset 1px 1px 1px 0 #d8d8d8;-o-box-shadow:inset 1px 1px 1px 0 #d8d8d8}.c-input .c-icon{float:right;margin-top:6px}.c-input .c-icon-left{float:left;margin-right:4px}.c-input input{float:left;height:22px;*padding-top:4px;margin-top:2px;font-size:13px;border:0;outline:0}.c-input{width:180px}.c-input input{width:162px}.c-input-xmini{width:65px}.c-input-xmini input{width:47px}.c-input-mini{width:88px}.c-input-mini input{width:70px}.c-input-small{width:157px}.c-input-small input{width:139px}.c-input-large{width:203px}.c-input-large input{width:185px}.c-input-xlarge{width:341px}.c-input-xlarge input{width:323px}.c-input12{width:249px}.c-input12 input{width:231px}.c-input20{width:433px}.c-input20 input{width:415px}.c-border .c-input{width:178px}.c-border .c-input input{width:160px}.c-border .c-input-xmini{width:68px}.c-border .c-input-xmini input{width:50px}.c-border .c-input-mini{width:90px}.c-border .c-input-mini input{width:72px}.c-border .c-input-small{width:156px}.c-border .c-input-small input{width:138px}.c-border .c-input-large{width:200px}.c-border .c-input-large input{width:182px}.c-border .c-input-xlarge{width:332px}.c-border .c-input-xlarge input{width:314px}.c-border .c-input12{width:244px}.c-border .c-input12 input{width:226px}.c-border .c-input20{width:420px}.c-border .c-input20 input{width:402px}.c-numberset{*zoom:1}.c-numberset:after{display:block;height:0;content:\\\\\"\\\\\";clear:both;visibility:hidden}.c-numberset li{float:left;margin-right:17px;list-style:none}.c-numberset .c-numberset-last{margin-right:0}.c-numberset a{display:block;width:50px;text-decoration:none;text-align:center;border:1px solid #d8d8d8;cursor:pointer}.c-numberset a:hover{border-color:#388bff}.c-border .c-numberset li{margin-right:10px}.c-border .c-numberset .c-numberset-last{margin-right:0}.c-border .c-numberset a{width:54px}.c-table{width:100%;border-collapse:collapse;border-spacing:0}.c-table th,.c-table td{padding-left:10px;line-height:1.54;font-size:13px;border-bottom:1px solid #f3f3f3;text-align:left}.cr-content .c-table th:first-child,.cr-content .c-table td:first-child{padding-left:0}.c-table th{padding-top:4px;padding-bottom:4px;font-weight:400;color:#666;border-color:#f0f0f0;white-space:nowrap;background-color:#fafafa}.c-table td{padding-top:6.5px;padding-bottom:6.5px}.c-table-hasimg td{padding-top:10px;padding-bottom:10px}.c-table a,.c-table em{text-decoration:none}.c-table a:hover,.c-table a:hover em{text-decoration:underline}.c-table a.c-icon:hover{text-decoration:none}.c-table .c-btn:hover,.c-table .c-btn:hover em{text-decoration:none}.c-table-nohihead th{background-color:transparent}.c-table-noborder td{border-bottom:0}.c-tabs-nav-movetop{margin:-10px -9px 0 -10px;position:relative}.c-tabs-nav{border-bottom:1px solid #d9d9d9;background-color:#fafafa;line-height:1.54;font-size:0;*zoom:1;_overflow-x:hidden;_position:relative}.c-tabs-nav:after{display:block;height:0;content:\\\\\"\\\\\";clear:both;visibility:hidden}.c-tabs-nav .c-tabs-nav-btn{float:right;_position:absolute;_top:0;_right:0;_z-index:1;background:#fafafa}.c-tabs-nav .c-tabs-nav-btn .c-tabs-nav-btn-prev,.c-tabs-nav .c-tabs-nav-btn .c-tabs-nav-btn-next{float:left;padding:6px 2px;cursor:pointer}.c-tabs-nav .c-tabs-nav-btn .c-tabs-nav-btn-disable{cursor:default}.c-tabs-nav .c-tabs-nav-view{_position:relative;overflow:hidden;*zoom:1;margin-bottom:-1px}.c-tabs-nav .c-tabs-nav-view .c-tabs-nav-li{margin-bottom:0}.c-tabs-nav .c-tabs-nav-more{float:left;white-space:nowrap}.c-tabs-nav li,.c-tabs-nav a{color:#666;font-size:13px;*zoom:1}.c-tabs-nav li{display:inline-block;margin-bottom:-1px;*display:inline;padding:3px 15px;vertical-align:bottom;border-style:solid;border-width:2px 1px 0;border-color:transparent;_border-color:tomato;_filter:chroma(color=#ff6347);list-style:none;cursor:pointer;white-space:nowrap;overflow:hidden}.c-tabs-nav a{text-decoration:none}.c-tabs-nav .c-tabs-nav-sep{height:16px;width:0;padding:0;margin-bottom:4px;border-style:solid;border-width:0 1px;border-color:transparent #fff transparent #dedede}.c-tabs-nav .c-tabs-nav-selected{_position:relative;border-color:#2c99ff #e4e4e4 #fff #dedede;background-color:#fff;color:#000;cursor:default}.c-tabs-nav-one .c-tabs-nav-selected{border-color:transparent;_border-color:tomato;_filter:chroma(color=#ff6347);background-color:transparent;color:#666}.c-tabs .c-tabs .c-tabs-nav{padding:10px 0 5px;border:0 0;background-color:#fff}.c-tabs .c-tabs .c-tabs-nav li,.c-tabs .c-tabs .c-tabs-nav a{color:#00c}.c-tabs .c-tabs .c-tabs-nav li{padding:0 5px;position:static;margin:0 10px;border:0 0;cursor:pointer;white-space:nowrap}.c-tabs .c-tabs .c-tabs-nav .c-tabs-nav-sep{height:11px;width:0;padding:0;margin:0 0 4px;border:0 0;border-left:1px solid #d8d8d8}.c-tabs .c-tabs .c-tabs-nav .c-tabs-nav-selected{background-color:#2c99ff;color:#fff;cursor:default}.c-tag{padding-top:3px;margin-bottom:3px;height:1.7em;font-size:13px;line-height:1.4em;transition:height .3s ease-in;-webkit-transition:height .3s ease-in;-moz-transition:height .3s ease-in;-ms-transition:height .3s ease-in;-o-transition:height .3s ease-in;*zoom:1;overflow:hidden}.c-tag:after{display:block;height:0;content:\\\\\"\\\\\";clear:both;visibility:hidden}.c-tag-cont{overflow:hidden;*zoom:1}.c-tag-type,.c-tag-li,.c-tag-more,.c-tag-cont span{margin:2px 0}.c-tag-type,.c-tag-li,.c-tag-cont span{float:left}.c-tag-type,.c-tag-more{color:#666}.c-tag-li,.c-tag-cont span{padding:0 4px;display:inline-block;margin-right:12px;white-space:nowrap;cursor:pointer;color:#00c}.c-tag .c-tag-selected{background:#388bff;color:#fff}.c-tag-more{float:right;background:#fff;cursor:pointer;*height:18px}.c-tool{display:inline-block;width:56px;height:56px;background:url(\\\\/\\\\/www.baidu.com\\\\/aladdin\\\\/img\\\\/tools\\\\/tools-5.png) no-repeat}.c-tool-region{background-position:0 0}.c-tool-calendar{background-position:-72px 0}.c-tool-city{background-position:-144px 0}.c-tool-phone-pos{background-position:-216px 0}.c-tool-other{background-position:-288px 0}.c-tool-midnight{background-position:-360px 0}.c-tool-kefu{width:121px;background-position:-432px 0}.c-tool-phone{background-position:-576px 0}.c-tool-car{background-position:-648px 0}.c-tool-station{background-position:0 -72px}.c-tool-cheat{background-position:-72px -72px}.c-tool-counter{background-position:-144px -72px}.c-tool-time{background-position:-216px -72px}.c-tool-zip{background-position:-288px -72px}.c-tool-warning{background-position:-360px -72px}.c-tool-ip{background-position:0 -144px}.c-tool-unit{background-position:-72px -144px}.c-tool-rate{background-position:-144px -144px}.c-tool-conversion{background-position:-288px -144px}.c-tool-ads{background-position:-360px -144px}.soutu-input{padding-left:55px!important}.soutu-input-image{position:absolute;left:1px;top:1px;height:28px;width:49px;z-index:1;padding:0;background:#e6e6e6;border:1px solid #e6e6e6}.soutu-input-thumb{height:28px;width:28px;min-width:1px}.soutu-input-close{position:absolute;right:0;top:0;cursor:pointer;display:block;width:22px;height:28px}.soutu-input-close::after{content:\\\\\" \\\\\";position:absolute;right:3px;top:50%;cursor:pointer;margin-top:-7px;display:block;width:14px;height:14px;background:url(http:\\\\/\\\\/s1.bdstatic.com\\\\/r\\\\/www\\\\/cache\\\\/static\\\\/soutu\\\\/img\\\\/soutu_icons_new_8abaf8a.png) no-repeat -163px 0}.soutu-input-image:hover .soutu-input-close::after{background-position:-215px 2px}.fb-hint{margin-top:5px;transition-duration:.9s;opacity:0;display:none;color:red}.fb-img{display:none}.fb-hint-tip{height:44px;line-height:24px;background-color:#38f;color:#fff;box-sizing:border-box;width:269px;font-size:16px;padding:10px;padding-left:14px;position:absolute;top:-65px;right:-15px;border-radius:3px;z-index:299}.fb-hint-tip::before{content:\\\\\"\\\\\";width:0;height:0;display:block;position:absolute;border-left:8px solid transparent;border-right:8px solid transparent;border-top:8px solid #38f;bottom:-8px;right:25px}.fb-mask,.fb-mask-light{position:fixed;top:0;left:0;bottom:0;right:0;z-index:296;background-color:#000;filter:alpha(opacity=60);background-color:rgba(0,0,0,.6)}.fb-mask-light{background-color:#fff;filter:alpha(opacity=0);background-color:rgba(255,255,255,0)}.fb-success .fb-success-text{text-align:center;color:#333;font-size:13px;margin-bottom:14px}.fb-success-text.fb-success-text-title{color:#3b6;font-size:16px;margin-bottom:16px}.fb-success-text-title i{width:16px;height:16px;margin-right:5px}.fb-list-container{box-sizing:border-box;padding:4px 8px;position:absolute;top:0;left:0;bottom:0;right:0;z-index:298;display:block;width:100%;cursor:pointer;margin-top:-5px;margin-left:-5px}.fb-list-container-hover{background-color:#fff;border:2px #38f solid}.fb-list-container-first{box-sizing:border-box;padding-left:10px;padding-top:5px;position:absolute;top:0;left:0;bottom:0;right:0;z-index:297;display:block;width:100%;cursor:pointer;margin-top:-5px;margin-left:-5px;border:3px #f5f5f5 dashed;border-radius:3px}.fb-des-content{font-size:13px!important;color:#000}.fb-des-content::-webkit-input-placeholder{font-size:13px!important;color:#9a9a9a}.fb-des-content:-moz-placeholder{font-size:13px!important;color:#9a9a9a}.fb-des-content::-moz-placeholder{font-size:13px!important;color:#9a9a9a}.fb-des-content:-ms-input-placeholder{font-size:13px!important;color:#9a9a9a}.fb-btn,.fb-btn:visited{color:#333!important}.fb-select{position:relative;background-color:#fff;border:1px solid #ccc}.fb-select i{position:absolute;right:2px;top:7px}.fb-type{width:350px;box-sizing:border-box;height:28px;font-size:13px;line-height:28px;border:0;word-break:normal;word-wrap:normal;position:relative;appearance:none;-moz-appearance:none;-webkit-appearance:none;display:inline-block;vertical-align:middle;line-height:normal;color:#333;background-color:transparent;border-radius:0;overflow:hidden;outline:0;padding-left:5px}.fb-type::-ms-expand{display:none}.fb-btn{display:inline-block;padding:0 14px;margin:0;height:24px;line-height:25px;font-size:13px;filter:chroma(color=#000000);*zoom:1;border:1px solid #d8d8d8;cursor:pointer;font-family:inherit;font-weight:400;text-align:center;vertical-align:middle;background-color:#f9f9f9;overflow:hidden;outline:0}.fb-btn:hover{border-color:#388bff}.fb-btn:active{border-color:#a2a6ab;background-color:#f0f0f0;box-shadow:inset 1px 1px 1px #c7c7c7;-webkit-box-shadow:inset 1px 1px 1px #c7c7c7;-moz-box-shadow:inset 1px 1px 1px #c7c7c7;-o-box-shadow:inset 1px 1px 1px #c7c7c7}a.fb-btn{text-decoration:none}button.fb-btn{height:26px;_line-height:18px;*overflow:visible}button.fb-btn::-moz-focus-inner{padding:0;border:0}.fb-btn .c-icon{margin-top:5px}.fb-btn-primary,.fb-btn-primary:visited{color:#fff!important}.fb-btn-primary{background-color:#388bff;_width:82px;border-color:#3c8dff #408ffe #3680e6}.fb-btn-primary:hover{border-color:#2678ec #2575e7 #1c6fe2 #2677e7;background-color:#388bff;background-image:url(data:image\\\\/png;base64,iVBORw0KGgoAAAANSUhEUgAAAAEAAAACCAMAAACuX0YVAAAABlBMVEVnpv85i\\\\/9PO5r4AAAAD0lEQVR42gEEAPv\\\\/AAAAAQAFAAIros7PAAAAAElFTkSuQmCC);background-repeat:repeat-x;box-shadow:1px 1px 1px rgba(0,0,0,.4);-webkit-box-shadow:1px 1px 1px rgba(0,0,0,.4);-moz-box-shadow:1px 1px 1px rgba(0,0,0,.4);-o-box-shadow:1px 1px 1px rgba(0,0,0,.4)}.fb-btn-primary:active{border-color:#178ee3 #1784d0 #177bbf #1780ca;background-color:#388bff;background-image:none;box-shadow:inset 1px 1px 1px rgba(0,0,0,.15);-webkit-box-shadow:inset 1px 1px 1px rgba(0,0,0,.15);-moz-box-shadow:inset 1px 1px 1px rgba(0,0,0,.15);-o-box-shadow:inset 1px 1px 1px rgba(0,0,0,.15)}.fb-feedback-right-dialog{position:fixed;z-index:299;bottom:0;right:0}.fb-feedback-list-dialog,.fb-feedback-list-dialog-left{position:absolute;z-index:299}.fb-feedback-list-dialog:before{content:\\\\\"\\\\\";width:0;height:0;display:block;position:absolute;top:15px;left:-6px;border-top:8px solid transparent;border-bottom:8px solid transparent;border-right:8px solid #fff}.fb-feedback-list-dialog-left:before{content:\\\\\"\\\\\";width:0;height:0;display:block;position:absolute;top:15px;right:-6px;border-top:8px solid transparent;border-bottom:8px solid transparent;border-left:8px solid #fff}.fb-header{padding-left:20px;padding-right:20px;margin-top:14px;text-align:left;-moz-user-select:none}.fb-header .fb-close{color:#e0e0e0}.fb-close{text-decoration:none;margin-top:2px;float:right;font-size:20px;font-weight:700;line-height:18px;color:#666;text-shadow:0 1px 0 #fff}.fb-photo-block{display:none}.fb-photo-block-title{font-size:13px;color:#333;padding-top:10px}.fb-photo-block-title-span{color:#999}.fb-photo-sub-block{margin-top:10px;margin-bottom:10px;width:60px;text-align:center}.fb-photo-sub-block-hide{display:none}.fb-photo-update-block{overflow:hidden}.fb-photo-update-item-block{width:100px;height:100px;background:red;border:solid 1px #ccc;margin-top:10px;float:left;margin-right:20px;position:relative;background:url(http:\\\\/\\\\/s1.bdstatic.com\\\\/r\\\\/www\\\\/cache\\\\/static\\\\/global\\\\/img\\\\/feedback_add_photo_69ff822.png);background-repeat:no-repeat;background-size:contain;background-position:center center;background-size:24px 24px}.fb-photo-block-title-ex{font-size:13px;float:right}.fb-photo-block-title-ex img{vertical-align:text-top;margin-right:4px}.fb-photo-block-title-span{margin-left:4px;color:#999}.fb-photo-update-item-show-img{width:100%;height:100%;display:none}.fb-photo-update-item-close{width:13px;height:13px;position:absolute;top:-6px;right:-6px;display:none}.fb-photo-block input{display:none}.fb-photo-update-hide{display:none}.fb-photo-update-item-block{width:60px;height:60px;border:solid 1px #ccc;float:left}.fb-photo-block-example{position:absolute;top:0;left:0;display:none;background-color:#fff;padding:14px;padding-top:0;width:392px}.fb-photo-block-example-header{padding-top:14px;overflow:hidden}.fb-photo-block-example-header p{float:left}.fb-photo-block-example-header img{float:right;width:13px;height:13px}.fb-photo-block-example-img img{margin:0 auto;margin-top:14px;display:block;width:200px}.fb-photo-block-example-title{text-align:center}.fb-photo-block-example-title-big{font-size:14px;color:#333}.fb-photo-block-example-title-small{font-size:13px;color:#666}.fb-header a.fb-close:hover{text-decoration:none}.fb-photo-block-upinfo{width:100%}.fb-header-tips{font-size:16px;margin:0;color:#333;text-rendering:optimizelegibility}.fb-body{margin-bottom:0;padding:20px;padding-top:10px;overflow:hidden;text-align:left}.fb-modal,.fb-success{background-color:#fff;cursor:default;top:100%;left:100%;width:390px;overflow:hidden;border:1px solid #999;*border:1px solid #ddd;font-size:13px;line-height:1.54}.fb-textarea textarea{width:350px;height:64px;padding:4px;margin:10px 0;vertical-align:top;resize:none;overflow:auto;box-sizing:border-box;display:inline-block;border:1px solid #ccc;-webkit-border-radius:0;-moz-border-radius:0;border-radius:0;-webkit-box-shadow:inset 0 1px 1px rgba(0,0,0,.075);-moz-box-shadow:inset 0 1px 1px rgba(0,0,0,.075);box-shadow:inset 0 1px 1px rgba(0,0,0,.075);-webkit-transition:border linear .2s,box-shadow linear .2s;-moz-transition:border linear .2s,box-shadow linear .2s;-ms-transition:border linear .2s,box-shadow linear .2s;-o-transition:border linear .2s,box-shadow linear .2s;transition:border linear .2s,box-shadow linear .2s}.fb-selected{display:none;width:12px;height:12px;background:url(data:image\\\\/png;base64,iVBORw0KGgoAAAANSUhEUgAAAAcAAAAFCAYAAACJmvbYAAAABGdBTUEAALGPC\\\\/xhBQAAACBjSFJNAAB6JgAAgIQAAPoAAACA6AAAdTAAAOpgAAA6mAAAF3CculE8AAAABmJLR0QAAAAAAAD5Q7t\\\\/AAAACXBIWXMAABYlAAAWJQFJUiTwAAAAJklEQVQI12NgwAEsuv\\\\/8xy9h3vX7P6oEKp\\\\/BHCqA0yhzdB0MDAwAFXkTK5la4mAAAAAASUVORK5CYII=) no-repeat 2px 3px}.fb-guide{padding-top:10px;color:#9a9a9a;margin-left:-20px;padding-left:20px;border-right-width:0;margin-right:-20px;padding-right:25px;margin-bottom:-20px;padding-bottom:15px}.fb-footer{padding-top:10px;text-align:left}.fb-block{overflow:hidden;position:relative}.fb-block .fb-email{height:28px;line-height:26px;width:350px;border:1px solid #ccc;padding:4px;padding-top:0;box-sizing:border-box;padding-bottom:0;display:inline-block;font-family:\\'Helvetica Neue\\',Helvetica,Arial,sans-serif;vertical-align:middle!important;-webkit-border-radius:0;-moz-border-radius:0;border-radius:0;-webkit-box-shadow:inset 0 1px 1px rgba(0,0,0,.075);-moz-box-shadow:inset 0 1px 1px rgba(0,0,0,.075);box-shadow:inset 0 1px 1px rgba(0,0,0,.075);-webkit-transition:border linear .2s,box-shadow linear .2s;-moz-transition:border linear .2s,box-shadow linear .2s;-ms-transition:border linear .2s,box-shadow linear .2s;-o-transition:border linear .2s,box-shadow linear .2s;transition:border linear .2s,box-shadow linear .2s}.fb-email{font-size:13px!important;color:#000}.fb-email::-webkit-input-placeholder{font-size:13px!important;color:#9a9a9a}.fb-email:-moz-placeholder{font-size:13px!important;color:#9a9a9a}.fb-email::-moz-placeholder{font-size:13px!important;color:#9a9a9a}.fb-email:-ms-input-placeholder{font-size:13px!important;color:#9a9a9a}.fb-cut-block{height:15px;padding-bottom:10px}.fb-canvas-block{height:172px;border:1px solid #ccc;margin-bottom:10px;position:relative;overflow:hidden;width:100%;background-position:center;box-sizing:border-box}.fb-canvas-block img{width:350px;position:absolute}.fb-canvas-block img[src=\\\\\"\\\\\"]{opacity:0}.fb-cut-input{width:14px;height:14px;margin:0;margin-right:10px;display:inline-block;border:1px solid #ccc}.fb-cut-btn{width:60px!important}#fb_tips_span{vertical-align:middle}#fb_popwindow{display:block;left:457px;top:69.5px;position:absolute;width:450px;z-index:999999;background:none repeat scroll 0 0 #fff;border:1px solid #999;border-radius:3px;box-shadow:0 0 9px #999;padding:0}#feedback_dialog_content{text-align:center}#fb_right_post_save:hover{background-image:url(data:image\\\\/png;base64,iVBORw0KGgoAAAANSUhEUgAAAAEAAAACCAMAAACuX0YVAAAABlBMVEVnpv85i\\\\/9PO5r4AAAAD0lEQVR42gEEAPv\\\\/AAAAAQAFAAIros7PAAAAAElFTkSuQmCC);background-repeat:repeat-x;box-shadow:1px 1px 1px rgba(0,0,0,.4);-webkit-box-shadow:1px 1px 1px rgba(0,0,0,.4);-moz-box-shadow:1px 1px 1px rgba(0,0,0,.4);-o-box-shadow:1px 1px 1px rgba(0,0,0,.4)}.fb-select-icon{position:absolute;bottom:6px;right:5px;width:16px;height:16px;box-sizing:content-box;background-position:center center;background-repeat:no-repeat;background-size:7px 4px;-webkit-background-size:7px 4px;background-image:url(data:image\\\\/png;base64,iVBORw0KGgoAAAANSUhEUgAAAAcAAAAECAYAAABCxiV9AAAABGdBTUEAALGPC\\\\/xhBQAAACBjSFJNAAB6JgAAgIQAAPoAAACA6AAAdTAAAOpgAAA6mAAAF3CculE8AAAABmJLR0QAAAAAAAD5Q7t\\\\/AAAACXBIWXMAAAsSAAALEgHS3X78AAAAKElEQVQI12Ps7Or6z4ADMDIwMDBgU1BeVsbICOMgKygvK2PEMAbdBAAhxA08t5Q3VgAAAABJRU5ErkJggg==)}.fb-select-shorter{position:relative;min-height:28px}.fb-type-container{line-height:28px;position:absolute;top:28px;width:100%;background-color:#fff;border:1px solid #ccc;z-index:300;margin-left:-1px;display:none}.fb-type-item,.fb-type-selected{height:28px;line-height:30px;padding-left:4px}.fb-type-item:hover{background:#f5F5F5}.fb-checkbox{position:relative;border-bottom:1px solid #eee;height:34px;line-height:35px}.fb-checkbox:last-child{border-bottom:0}.fb-list-wrapper{margin-top:-10px}.fb-textarea-sug textarea{margin-top:0}@media screen and (min-width:1921px){.slowmsg{left:50%!important;-webkit-transform:translateX(-50%);-ms-transform:translateX(-50%);transform:translateX(-50%)}.wrapper_l #head{-webkit-transform-style:preserve-3d;transform-style:preserve-3d}.head_wrapper{width:1196px;margin:0 auto;position:relative;-webkit-transform:translate3d(-52px,0,1px);transform:translate3d(-52px,0,1px)}#head .headBlock{-webkit-box-sizing:border-box;box-sizing:border-box;margin-left:auto;margin-right:auto;width:1196px;padding-left:121px;-webkit-transform:translate3d(-52px,0,0);transform:translate3d(-52px,0,0)}#s_tab.s_tab{padding-left:0}#s_tab.s_tab .s_tab_inner{display:block;-webkit-box-sizing:border-box;box-sizing:border-box;padding-left:77px;width:1212px;margin:0 auto}#con-at .result-op{margin-left:auto;margin-right:auto;-webkit-transform:translateX(-60px);-ms-transform:translateX(-60px);transform:translateX(-60px)}#wrapper_wrapper{margin-left:-88px}#container{-webkit-box-sizing:border-box;box-sizing:border-box;width:1212px;margin:0 auto}.foot-inner{width:1212px;margin:0 auto}}@font-face{font-family:cicons;font-weight:400;font-style:normal;src:url(\\\\/\\\\/m.baidu.com\\\\/se\\\\/static\\\\/font\\\\/cicon.eot?t=1567155793596#);src:url(\\\\/\\\\/m.baidu.com\\\\/se\\\\/static\\\\/font\\\\/cicon.eot?t=1567155793596#iefix) format(\\'embedded-opentype\\'),url(\\\\/\\\\/m.baidu.com\\\\/se\\\\/static\\\\/font\\\\/cicon.woff?t=1567155793596#) format(\\'woff\\'),url(\\\\/\\\\/m.baidu.com\\\\/se\\\\/static\\\\/font\\\\/cicon.ttf?t=1567155793596#) format(\\'truetype\\'),url(\\\\/\\\\/m.baidu.com\\\\/se\\\\/static\\\\/font\\\\/cicon.svg?t=1567155793596#cicons) format(\\'svg\\')}html{font-size:100px}html body{font-size:.14rem;font-size:14px}[data-pmd] a{color:#333;text-decoration:none;-webkit-tap-highlight-color:rgba(23,23,23,.1)}[data-pmd] .c-icon{display:inline;width:auto;height:auto;vertical-align:baseline;overflow:auto}[data-pmd] .c-row-tile{position:relative;margin:0 -9px}[data-pmd] .c-row-tile .c-row{padding:0 9px}[data-pmd] .c-row :last-child,[data-pmd] .c-row-tile :last-child{margin-right:0}[data-pmd] .c-row *,[data-pmd] .c-row-tile *{-webkit-box-sizing:border-box;box-sizing:border-box}[data-pmd] .c-icon{font-family:cicons!important;font-style:normal;-webkit-font-smoothing:antialiased}[data-pmd] .c-result{padding:0;margin:0;background:0 0;border:0 none}[data-pmd] .c-blocka{display:block}[data-pmd] a .c-title,[data-pmd] a.c-title{font:18px\\\\/26px Arial,Helvetica,sans-serif;color:#000}[data-pmd] a:visited .c-title,[data-pmd] a:visited.c-title{color:#999}[data-pmd] .sfa-view a:visited .c-title,[data-pmd] .sfa-view a:visited.c-title,[data-pmd] .sfa-view .c-title{color:#000;font:18px\\\\/26px Arial,Helvetica,sans-serif}[data-pmd] .c-title-noclick,[data-pmd] .c-title{font:18px\\\\/26px Arial,Helvetica,sans-serif;color:#999}[data-pmd] .c-title-nowrap{padding-right:33px;width:100%;position:relative;white-space:nowrap;box-sizing:border-box}[data-pmd] .c-title-nowrap .c-text{display:inline-block;vertical-align:middle}[data-pmd] .c-title-nowrap .c-title-text{display:inline-block;max-width:100%;white-space:nowrap;overflow:hidden;text-overflow:ellipsis;vertical-align:bottom}[data-pmd] .c-font-sigma{font:22px\\\\/30px Arial,Helvetica,sans-serif}[data-pmd] .c-font-large{font:18px\\\\/26px Arial,Helvetica,sans-serif}[data-pmd] .c-font-big{font:18px\\\\/26px Arial,Helvetica,sans-serif}[data-pmd] .c-font-medium{font:14px\\\\/22px Arial,Helvetica,sans-serif}[data-pmd] .c-font-normal{font:13px\\\\/21px Arial,Helvetica,sans-serif}[data-pmd] .c-font-small{font:12px\\\\/20px Arial,Helvetica,sans-serif}[data-pmd] .c-font-tiny{font:12px\\\\/20px Arial,Helvetica,sans-serif}[data-pmd] .c-price{font:18px\\\\/26px Arial,Helvetica,sans-serif;color:#f60}[data-pmd] .c-title-wrap{display:block}[data-pmd] .c-title-nowrap{display:none}@media (min-width:376px){[data-pmd] .c-title{display:block;max-width:100%;white-space:nowrap;overflow:hidden;text-overflow:ellipsis;vertical-align:middle}[data-pmd] .c-title-nowrap{display:block;overflow:visible}[data-pmd] .c-title-wrap{display:none}}[data-pmd] .c-abstract{color:#555}[data-pmd] .c-showurl{color:#999;font:13px\\\\/21px Arial,Helvetica,sans-serif}[data-pmd] .c-gray{color:#999;font:13px\\\\/21px Arial,Helvetica,sans-serif}[data-pmd] .c-moreinfo{color:#555;text-align:right;font:13px\\\\/21px Arial,Helvetica,sans-serif}[data-pmd] .c-foot-icon{display:inline-block;position:relative;top:.02rem;background:url(\\\\/\\\\/m.baidu.com\\\\/static\\\\/search\\\\/sprite.png) no-repeat;-webkit-background-size:1.9rem 1.42rem;background-size:1.9rem 1.42rem}[data-pmd] .c-foot-icon-16{width:.16rem;height:.13rem}[data-pmd] .c-foot-icon-16-aladdin{display:none;background-position:0 -.98rem}[data-pmd] .c-foot-icon-16-lightapp{background-position:-.2rem -.98rem}[data-pmd] .c-visited,[data-pmd] .c-visited .c-title,[data-pmd] .c-visited.c-title{color:#999!important}[data-pmd] .c-container{margin:8px 0;padding:10px 9px 15px;background-color:#fff;width:auto;color:#555;font:13px\\\\/21px Arial,Helvetica,sans-serif;word-break:break-word;word-wrap:break-word;border:0 none}[data-pmd] .c-container-tight{padding:10px 9px 15px;background-color:#fff;width:auto;color:#555;font:13px\\\\/21px Arial,Helvetica,sans-serif;word-break:break-word;word-wrap:break-word;border:0 none}[data-pmd] .c-container-tile{margin:0;padding:0}[data-pmd] .c-span-middle{display:-webkit-box;display:-moz-box;display:-ms-flexbox;display:-webkit-flex;display:flex;-webkit-box-orient:vertical;-moz-box-orient:vertical;-webkit-box-direction:normal;-moz-box-direction:normal;-webkit-flex-direction:column;-ms-flex-direction:column;flex-direction:column;-moz-box-pack:center;-webkit-box-pack:center;-ms-flex-pack:center;-webkit-justify-content:center;justify-content:center}[data-pmd] .c-line-clamp2,[data-pmd] .c-line-clamp3,[data-pmd] .c-line-clamp4,[data-pmd] .c-line-clamp5{display:-webkit-box;-webkit-box-orient:vertical;overflow:hidden;text-overflow:ellipsis;margin-bottom:4px;white-space:normal}[data-pmd] .c-line-clamp2{-webkit-line-clamp:2}[data-pmd] .c-line-clamp3{-webkit-line-clamp:3}[data-pmd] .c-line-clamp4{-webkit-line-clamp:4}[data-pmd] .c-line-clamp5{-webkit-line-clamp:5}[data-pmd] .c-line-clamp1{display:block;overflow:hidden;text-overflow:ellipsis;white-space:nowrap}[data-pmd] .c-line-top{border-top:1px solid #eee}[data-pmd] .c-line-dotted-top{border-top:1px dotted #eee}[data-pmd] .c-line-bottom{border-bottom:1px solid #eee}[data-pmd] .c-line-dotted-bottom{border-bottom:1px dotted #eee}[data-pmd] .c-color{color:#555}[data-pmd] .c-color-gray-a{color:#666}[data-pmd] .c-color-gray{color:#999}[data-pmd] .c-color-link{color:#000}[data-pmd] .c-color-noclick{color:#999}[data-pmd] .c-color-url{color:#999}[data-pmd] .c-color-red{color:#e43}[data-pmd] .c-color-red:visited{color:#e43}[data-pmd] .c-color-orange{color:#f60}[data-pmd] .c-color-orange:visited{color:#f60}[data-pmd] .c-color-icon-special{color:#b4b4b4}[data-pmd] .c-color-split{color:#eee}[data-pmd] .c-bg-color-white{background-color:#fff}[data-pmd] .c-bg-color-black{background-color:#000}[data-pmd] .se-page-bd .c-bg-color-gray{background-color:#f1f1f1}[data-pmd] .sfa-view .c-bg-color-gray{background-color:#f2f2f2}[data-pmd] .c-gap-top-zero{margin-top:0}[data-pmd] .c-gap-right-zero{margin-right:0}[data-pmd] .c-gap-bottom-zero{margin-bottom:0}[data-pmd] .c-gap-left-zero{margin-left:0}[data-pmd] .c-gap-top{margin-top:8px}[data-pmd] .c-gap-right{margin-right:8px}[data-pmd] .c-gap-bottom{margin-bottom:8px}[data-pmd] .c-gap-left{margin-left:8px}[data-pmd] .c-gap-top-small{margin-top:4px}[data-pmd] .c-gap-right-small{margin-right:4px}[data-pmd] .c-gap-bottom-small{margin-bottom:4px}[data-pmd] .c-gap-left-small{margin-left:4px}[data-pmd] .c-gap-top-large{margin-top:12px}[data-pmd] .c-gap-right-large{margin-right:12px}[data-pmd] .c-gap-bottom-large{margin-bottom:12px}[data-pmd] .c-gap-left-large{margin-left:12px}[data-pmd] .c-gap-left-middle{margin-left:8px}[data-pmd] .c-gap-right-middle{margin-right:8px}[data-pmd] .c-gap-inner-top-zero{padding-top:0}[data-pmd] .c-gap-inner-right-zero{padding-right:0}[data-pmd] .c-gap-inner-bottom-zero{padding-bottom:0}[data-pmd] .c-gap-inner-left-zero{padding-left:0}[data-pmd] .c-gap-inner-top{padding-top:8px}[data-pmd] .c-gap-inner-right{padding-right:8px}[data-pmd] .c-gap-inner-bottom{padding-bottom:8px}[data-pmd] .c-gap-inner-left{padding-left:8px}[data-pmd] .c-gap-inner-top-small{padding-top:4px}[data-pmd] .c-gap-inner-right-small{padding-right:4px}[data-pmd] .c-gap-inner-bottom-small{padding-bottom:4px}[data-pmd] .c-gap-inner-left-small{padding-left:4px}[data-pmd] .c-gap-inner-top-large{padding-top:12px}[data-pmd] .c-gap-inner-right-large{padding-right:12px}[data-pmd] .c-gap-inner-bottom-large{padding-bottom:12px}[data-pmd] .c-gap-inner-left-large{padding-left:12px}[data-pmd] .c-gap-inner-left-middle{padding-left:8px}[data-pmd] .c-gap-inner-right-middle{padding-right:8px}[data-pmd] .c-img{position:relative;display:block;width:100%;border:0 none;background:#f7f7f7 url(\\\\/\\\\/m.baidu.com\\\\/static\\\\/search\\\\/image_default.png) center center no-repeat;margin:4px 0}[data-pmd] .c-img img{width:100%}[data-pmd] .c-img .c-img-text{position:absolute;left:0;bottom:0;width:100%;height:.16rem;background:rgba(51,51,51,.4);font-size:.12rem;line-height:1.33333333;color:#fff;text-align:center}[data-pmd] .c-img-s,[data-pmd] .c-img-l,[data-pmd] .c-img-w,[data-pmd] .c-img-x,[data-pmd] .c-img-y,[data-pmd] .c-img-v,[data-pmd] .c-img-z{height:0;overflow:hidden}[data-pmd] .c-img-s{padding-bottom:100%}[data-pmd] .c-img-l{padding-bottom:133.33333333%}[data-pmd] .c-img-w{padding-bottom:56.25%}[data-pmd] .c-img-x{padding-bottom:75%}[data-pmd] .c-img-y{padding-bottom:66.66666667%}[data-pmd] .c-img-v{padding-bottom:33.33333333%}[data-pmd] .c-img-z{padding-bottom:40%}[data-pmd] .c-table{width:100%;border-collapse:collapse;border-spacing:0;color:#000}[data-pmd] .c-table th{color:#999}[data-pmd] .c-table th,[data-pmd] .c-table td{border-bottom:1px solid #eee;text-align:left;font-weight:400;padding:8px 0}[data-pmd] .c-table-hihead th{padding:0;border-bottom:0 none;background-color:#f6f6f6;line-height:.37rem}[data-pmd] .c-table-hihead div{background-color:#f6f6f6}[data-pmd] .c-table-hihead th:first-child div{margin-left:-9px;padding-left:9px}[data-pmd] .c-table-hihead th:last-child div{margin-right:-9px;padding-right:9px}[data-pmd] .c-table-noborder th,[data-pmd] .c-table-noborder td{border-bottom:0 none}[data-pmd] .c-table-slink tbody{color:#555;border-bottom:1px solid #eee}[data-pmd] .c-table-slink tbody th{border-bottom:1px solid #eee;padding:0}[data-pmd] .c-table-slink tbody td{border-bottom:0;padding:0}[data-pmd] .c-table-slink tbody td .c-slink-auto{margin:5px 0}[data-pmd] .c-table-slink tbody tr:first-child th,[data-pmd] .c-table-slink tbody tr:first-child td{padding:8px 0}[data-pmd] .c-table-slink tbody tr:nth-child(2) th,[data-pmd] .c-table-slink tbody tr:nth-child(2) td{padding-top:8px}[data-pmd] .c-table-slink tbody tr th,[data-pmd] .c-table-slink tbody tr td{padding-bottom:4px}[data-pmd] .c-table-slink tbody tr:last-child th,[data-pmd] .c-table-slink tbody tr:last-child td{padding-bottom:8px}[data-pmd] .c-table-abstract tbody{color:#555;border-bottom:1px solid #eee}[data-pmd] .c-table-abstract tbody th{border-bottom:1px solid #eee;padding:0}[data-pmd] .c-table-abstract tbody td{border-bottom:0;padding:0}[data-pmd] .c-table-abstract tbody tr:first-child th,[data-pmd] .c-table-abstract tbody tr:nth-child(2) th,[data-pmd] .c-table-abstract tbody tr:first-child td,[data-pmd] .c-table-abstract tbody tr:nth-child(2) td{padding-top:8px}[data-pmd] .c-table-abstract tbody tr th,[data-pmd] .c-table-abstract tbody tr td{padding-bottom:8px}[data-pmd] .c-table-abstract .c-table-gray{color:#999;font:12px\\\\/20px Arial,Helvetica,sans-serif}[data-pmd] .c-table-shaft th{color:#999}[data-pmd] .c-table-shaft td,[data-pmd] .c-table-shaft th{border-right:1px solid #eee;text-align:center}[data-pmd] .c-table-shaft td:last-child,[data-pmd] .c-table-shaft th:last-child{border-right:0}[data-pmd] .c-table-shaft tr:last-child td{border-bottom:0}[data-pmd] .c-slink{width:auto;display:-webkit-box;-webkit-box-orient:horizontal;-webkit-box-direction:normal;-webkit-box-pack:justify;-webkit-box-align:stretch;-webkit-box-lines:single;display:-webkit-flex;-webkit-flex-direction:row;-webkit-justify-content:space-between;-webkit-align-items:stretch;-webkit-align-content:flex-start;-webkit-flex-wrap:nowrap}[data-pmd] .c-slink a,[data-pmd] .c-slink .c-slink-elem{position:relative;display:block;-webkit-box-flex:1;-webkit-flex:1 1 auto;width:16.66666667%;height:.32rem;line-height:2.28571429;padding:0 .06rem;font-size:.14rem;text-align:center;text-decoration:none;color:#666;overflow:hidden;text-overflow:ellipsis;white-space:nowrap}[data-pmd] .c-slink a:first-child::before,[data-pmd] .c-slink .c-slink-elem:first-child::before,[data-pmd] .c-slink a::after,[data-pmd] .c-slink .c-slink-elem::after{content:\\\\\"\\\\\";width:1px;height:.1rem;background-color:#eee;position:absolute;top:.11rem;right:0}[data-pmd] .c-slink a:first-child::before,[data-pmd] .c-slink .c-slink-elem:first-child::before{left:0}[data-pmd] .c-slink-strong{margin-bottom:1px}[data-pmd] .c-slink-strong:last-child{margin-bottom:0}[data-pmd] .c-slink-strong:last-child a,[data-pmd] .c-slink-strong:last-child .c-slink-elem{border-bottom:1px solid #eee}[data-pmd] .c-slink-strong a,[data-pmd] .c-slink-strong .c-slink-elem{height:.3rem;margin-right:1px;line-height:.3rem;background-color:#f5f5f5}[data-pmd] .c-slink-strong a:last-child,[data-pmd] .c-slink-strong .c-slink-elem:last-child{margin-right:0}[data-pmd] .c-slink-strong a:first-child::before,[data-pmd] .c-slink-strong .c-slink-elem:first-child::before,[data-pmd] .c-slink-strong a::after,[data-pmd] .c-slink-strong .c-slink-elem::after{display:none}[data-pmd] .c-slink-new{display:block;width:100%;height:.3rem;line-height:.3rem;background-color:#f5f5f5;font-size:.14rem;color:#000;text-align:center;text-decoration:none;overflow:hidden;text-overflow:ellipsis;white-space:nowrap;padding:0 .08rem;border-radius:.03rem;vertical-align:middle;outline:0;-webkit-tap-highlight-color:rgba(0,0,0,0)}[data-pmd] .c-slink-new:visited{color:#000}[data-pmd] .c-slink-new:active{background-color:#e5e5e5}[data-pmd] .c-slink-new-strong{display:block;width:100%;background-color:#f5f5f5;font-size:.14rem;color:#000;text-align:center;text-decoration:none;overflow:hidden;text-overflow:ellipsis;white-space:nowrap;padding:0 .08rem;border-radius:.03rem;vertical-align:middle;outline:0;-webkit-tap-highlight-color:rgba(0,0,0,0);height:.3rem;line-height:.3rem}[data-pmd] .c-slink-new-strong:visited{color:#000}[data-pmd] .c-slink-new-strong:active{background-color:#e5e5e5}[data-pmd] .c-slink-auto{display:inline-block;max-width:100%;height:.3rem;line-height:.3rem;background-color:#f5f5f5;font-size:.14rem;color:#000;text-align:center;text-decoration:none;overflow:hidden;text-overflow:ellipsis;white-space:nowrap;padding:0 .1rem;border-radius:3px;vertical-align:middle;outline:0;-webkit-tap-highlight-color:rgba(0,0,0,0)}[data-pmd] .c-slink-auto:active{background-color:#e5e5e5}[data-pmd] .c-slink-auto:visited{color:#000}[data-pmd] .c-text{display:inline-block;height:14px;padding:0 2px;margin-bottom:2px;text-decoration:none;vertical-align:middle;color:#fff;font-size:10px;line-height:15px;font-style:normal;font-weight:400;overflow:hidden;border-radius:2px}[data-pmd] .c-text-danger{background-color:#f13f40}[data-pmd] .c-text-public{background-color:#2b99ff}[data-pmd] .c-text-box{display:inline-block;padding:1px 2px;margin-bottom:2px;text-decoration:none;vertical-align:middle;font-size:10px;line-height:11px;height:10px;font-style:normal;font-weight:400;overflow:hidden;-webkit-box-sizing:content-box;box-sizing:content-box;border-radius:2px}[data-pmd] .c-text-box-gray{color:#999;border:1px solid #e3e3e3}[data-pmd] .c-text-box-orange{color:#f60;border:1px solid #f3d9c5}[data-pmd] .c-text-box-pink{color:#ff4683;border:1px solid #ffc7da}[data-pmd] .c-text-box-red{color:#f13f40;border:1px solid #efb9b9}[data-pmd] .c-text-box-blue{color:#2b99ff;border:1px solid #b3d4f3}[data-pmd] .c-text-box-green{color:#65b12c;border:1px solid #d7efc6}[data-pmd] .c-text-box-yellow{color:#faa90e;border:1px solid #feecc9}[data-pmd] .c-text-info{display:inline;color:#999;font-style:normal;font-weight:400;font-family:sans-serif}[data-pmd] .c-index{display:inline-block;height:15px;margin:0 5px 3px 0;text-align:center;vertical-align:middle;color:#999;font-size:14px;line-height:15px;overflow:hidden}[data-pmd] .c-index-hot-common{font-size:12px;color:#fff;width:16px}[data-pmd] .c-index-hot,[data-pmd] .c-index-hot1{background-color:#ff2d46;font-size:12px;color:#fff;width:16px}[data-pmd] .c-index-hot2{background-color:#ff7f49;font-size:12px;color:#fff;width:16px}[data-pmd] .c-index-hot3{background-color:#ffaa3b;font-size:12px;color:#fff;width:16px}[data-pmd] .c-btn{display:inline-block;padding:0 .08rem;width:100%;height:.3rem;font:13px\\\\/21px Arial,Helvetica,sans-serif;line-height:.28rem;text-decoration:none;text-align:center;color:#000;background-color:#fff;border:1px solid #707379;border-radius:3px;vertical-align:middle;overflow:hidden;outline:0;-webkit-tap-highlight-color:rgba(0,0,0,0)}[data-pmd] .c-btn:visited{color:#000}[data-pmd] .c-btn:active{border-color:#707379;background-color:#f2f2f2}[data-pmd] .c-btn .c-icon{position:relative;top:-1px;vertical-align:middle;font-size:14px;margin-right:4px}[data-pmd] .c-btn-small{display:inline-block;padding:0 .08rem;width:100%;height:.3rem;line-height:.28rem;font-size:12px;font-weight:400;text-decoration:none;text-align:center;color:#000;background-color:#fff;border:1px solid #707379;border-radius:3px;vertical-align:middle;overflow:hidden;outline:0;-webkit-tap-highlight-color:rgba(0,0,0,0)}[data-pmd] .c-btn-small:visited{color:#000}[data-pmd] .c-btn-small:active{border-color:#707379;background-color:#f2f2f2}[data-pmd] .c-btn-small .c-icon{position:relative;top:-1px;vertical-align:middle;font-size:14px;margin-right:4px}@media screen and (max-width:360px){[data-pmd] .c-btn{padding:0 .05rem}}@media screen and (max-width:375px){[data-pmd] .c-btn-small{padding:0 .02rem}}[data-pmd] .c-btn-primary{background-color:#f8f8f8;border-color:#d0d0d0;border-bottom-color:#b2b2b2;-webkit-box-shadow:0 1px 1px 0 #e1e1e1;box-shadow:0 1px 1px 0 #e1e1e1}[data-pmd] .c-btn-primary .c-icon{color:#02aaf8}[data-pmd] .c-btn-disable{color:#999;background-color:#fff;border-color:#f1f1f1}[data-pmd] .c-btn-disable:visited{color:#999}[data-pmd] .c-btn-disable:active{border-color:#f1f1f1}[data-pmd] .c-btn-disable .c-icon{color:#999}[data-pmd] .c-btn-weak{height:.3rem;line-height:.3rem;border-width:0}[data-pmd] .c-btn-weak:active{background-color:#f2f2f2}[data-pmd] .c-btn-weak-auto{width:auto;height:.3rem;line-height:.3rem;border-width:0}[data-pmd] .c-btn-weak-auto:active{background-color:#f2f2f2}[data-pmd] .c-btn-weak-gray{height:.3rem;line-height:.3rem;background-color:#f8f8f8;border-width:0}[data-pmd] .c-btn-weak-gray:active{background-color:#e5e5e5}[data-pmd] .c-btn-pills{height:.2rem;padding:0 .08rem;border-width:0;border-radius:.2rem;line-height:.2rem;font-size:10px;background-color:rgba(0,0,0,.4);color:#fff;width:auto;word-spacing:-3px;letter-spacing:0}[data-pmd] .c-btn-pills span{position:relative;top:1px}[data-pmd] .c-btn-pills::selection{color:#fff}[data-pmd] .c-btn-pills:visited{color:#fff}[data-pmd] .c-btn-pills:active{background-color:rgba(0,0,0,.4);color:#fff}[data-pmd] .c-btn-pills .c-icon{font-size:10px;top:1px;margin-right:4px}[data-pmd] .c-btn-circle{height:.3rem;width:.3rem;border-radius:50%;color:#fff;background-color:rgba(0,0,0,.4);border:0;padding:0;line-height:.3rem;text-align:center;vertical-align:middle;white-space:nowrap}[data-pmd] .c-btn-circle:active{color:#fff;background-color:rgba(0,0,0,.4)}[data-pmd] .c-btn-circle .c-icon{top:0;margin:0;display:block;font-size:14px;color:#fff}[data-pmd] .c-btn-circle-big{height:.3rem;width:.3rem;border-radius:50%;background-color:rgba(0,0,0,.4);border:0;padding:0;line-height:.3rem;text-align:center;vertical-align:middle;white-space:nowrap;height:.48rem;width:.48rem;line-height:.48rem;font-size:18px;color:#fff}[data-pmd] .c-btn-circle-big:active{color:#fff;background-color:rgba(0,0,0,.4)}[data-pmd] .c-btn-circle-big .c-icon{top:0;margin:0;display:block;font-size:14px;color:#fff}[data-pmd] .c-btn-circle-big .c-icon{font-size:24px}[data-pmd] .c-input{word-break:normal;word-wrap:normal;-webkit-appearance:none;appearance:none;display:inline-block;padding:0 .08rem;width:100%;height:.3rem;vertical-align:middle;line-height:normal;font-size:.14rem;color:#000;background-color:#fff;border:1px solid #eee;border-radius:1px;overflow:hidden;outline:0}[data-pmd] .c-input::-webkit-input-placeholder{color:#999;border-color:#eee}[data-pmd] .c-input:focus{border-color:#000}[data-pmd] .c-input:focus .c-icon{color:#dbdbdb}[data-pmd] .c-input:disabled{color:#999;border-color:#f1f1f1}[data-pmd] .c-dropdown{position:relative;background-color:#fff}[data-pmd] .c-dropdown::before{font-family:cicons;content:\\\\\"\\\\\\\\e73c\\\\\";display:inline-block;position:absolute;bottom:0;right:.08rem;color:#555;font-size:.14rem;height:.3rem;line-height:.3rem}[data-pmd] .c-dropdown>label{display:block;color:#999;background-color:#fff;width:100%;height:.26rem}[data-pmd] .c-dropdown>select{word-break:normal;word-wrap:normal;position:relative;-webkit-appearance:none;appearance:none;display:inline-block;padding:0 .24rem 0 .08rem;width:100%;height:.3rem;vertical-align:middle;line-height:normal;font-size:.14rem;color:#000;background-color:transparent;border:1px solid #eee;border-radius:0;overflow:hidden;outline:0}[data-pmd] .c-dropdown>select:focus{border-color:#000}[data-pmd] .c-dropdown-disable{background-color:#fff}[data-pmd] .c-dropdown-disable::before{color:#999}[data-pmd] .c-dropdown-disable>label{color:#999}[data-pmd] .c-dropdown-disable>select{color:#999;border-color:#f1f1f1}[data-pmd] .c-btn-shaft{border:1px solid #f1f1f1;text-overflow:ellipsis;white-space:nowrap}[data-pmd] .c-btn-shaft:active{border-color:#f1f1f1}[data-pmd] .c-tab-select{background-color:#f5f5f5;height:.38rem;line-height:.38rem;font-size:.14rem;color:#000;text-align:center}[data-pmd] .c-tab-select .c-icon{display:inline-block;font-size:.14rem;color:#555}[data-pmd] .c-tab-select .c-span12{text-align:left}[data-pmd] .c-tab-select .c-span12 .c-icon{position:absolute;right:0;bottom:0}@-webkit-keyframes c-loading-rotation{from{-webkit-transform:rotate(1deg)}to{-webkit-transform:rotate(360deg)}}[data-pmd] .c-loading,[data-pmd] .c-loading-zbios{text-align:center}[data-pmd] .c-loading i{display:block;position:relative;font-size:.3rem;width:.54rem;height:.54rem;line-height:.52rem;color:#f3f3f3;margin:auto}[data-pmd] .c-loading i::before{content:\\\\\"\\\\\";display:block;position:absolute;width:.5rem;height:.5rem;margin:auto;border-radius:50%;border:.02rem solid #f3f3f3;border-top-color:#ddd;-webkit-transform-origin:50% 50%;-webkit-animation:c-loading-rotation 1s ease 0s infinite normal}[data-pmd] .c-loading-zbios i{display:block;position:relative;font-size:.48rem;width:.54rem;height:.54rem;line-height:.54rem;color:#f3f3f3;margin:auto;-webkit-transform-origin:50% 50%;-webkit-animation:c-loading-rotation .5s linear 0s infinite normal}[data-pmd] .c-loading p,[data-pmd] .c-loading-zbios p{color:#999;margin-top:.08rem;text-indent:.5em}[data-pmd] .c-tabs{position:relative}[data-pmd] .c-tabs-nav{position:relative;min-width:100%;height:.38rem;padding:0 9px;font-size:.14rem;white-space:nowrap;background-color:#f5f5f5;display:-webkit-box;-webkit-box-orient:horizontal;-webkit-box-direction:normal;-webkit-box-pack:justify;-webkit-box-align:stretch;-webkit-box-lines:single;display:-webkit-flex;-webkit-flex-direction:row;-webkit-justify-content:space-between;-webkit-align-items:stretch;-webkit-align-content:flex-start;-webkit-flex-wrap:nowrap;-webkit-user-select:none!important;user-select:none!important;-khtml-user-select:none!important;-webkit-touch-callout:none!important}[data-pmd] .c-tabs-nav *{-webkit-box-sizing:border-box;box-sizing:border-box}[data-pmd] .c-tabs-nav-li{display:block;-webkit-box-flex:1;-webkit-flex:1 1 auto;width:16.66666667%;list-style:none;text-decoration:none;height:.38rem;line-height:.38rem;color:#555;text-align:center;text-overflow:ellipsis;white-space:nowrap;overflow:hidden;-webkit-tap-highlight-color:rgba(0,0,0,0)}[data-pmd] .c-tabs-nav .c-tabs-nav-selected{color:#000;border-bottom:1px solid #000}[data-pmd] .c-tabs-nav-bottom{border-top:1px solid #f1f1f1;padding:0}[data-pmd] .c-tabs-nav-bottom .c-tabs-nav-li{color:#999}[data-pmd] .c-tabs-nav-bottom .c-tabs-nav-icon{display:none}[data-pmd] .c-tabs-nav-bottom .c-tabs-nav-selected{position:relative;top:-1px;height:.38rem;line-height:.39rem;color:#000;background-color:#fff;border-bottom:1px solid #000;border-top-color:#fff}[data-pmd] .c-tabs-nav-bottom .c-tabs-nav-selected:first-child{margin-left:-1px}[data-pmd] .c-tabs-nav-bottom .c-tabs-nav-selected .c-tabs-nav-icon{display:inline-block;width:.15rem;height:.15rem}[data-pmd] .c-tabs-nav-view{position:relative;height:.38rem;background-color:#f5f5f5;overflow:hidden}[data-pmd] .c-tabs-nav-view .c-tabs-nav{display:block}[data-pmd] .c-tabs-nav-view .c-tabs-nav .c-tabs-nav-li{display:inline-block;width:auto;padding:0 .17rem}[data-pmd] .c-tabs-nav-toggle{position:absolute;top:0;right:0;z-index:9;display:block;text-align:center;width:.38rem;height:.38rem;border-left:1px solid #eee;background-color:#f5f5f5}[data-pmd] .c-tabs-nav-toggle::before{display:inline-block;font-family:cicons;content:\\\\\"\\\\\\\\e73c\\\\\";font-size:.12rem;color:#333;line-height:.36rem}[data-pmd] .c-tabs-nav-layer{position:absolute;top:0;z-index:8;width:100%;background-color:#f5f5f5;border-bottom:1px solid #eee}[data-pmd] .c-tabs-nav-layer p{color:#999;height:.39rem;line-height:.39rem;padding:0 .17rem;border-bottom:1px solid #eee}[data-pmd] .c-tabs-nav-layer-ul .c-tabs-nav-li{display:inline-block;width:16.66666667%;padding:0}[data-pmd] .c-tabs-nav-layer-ul .c-tabs-nav-selected{color:#000}[data-pmd] .c-tabs2 .c-tabs-view-content{overflow:hidden}[data-pmd] .c-tabs2 .c-tabs-content{position:relative;float:left;display:none}[data-pmd] .c-tabs2 .c-tabs-selected{display:block}[data-pmd] .c-tabs2 .c-tabs-view-content-anim{transition:height .3s cubic-bezier(0.7,0,.3,1);-webkit-transition:height .3s cubic-bezier(0.7,0,.3,1);-moz-transition:height .3s cubic-bezier(0.7,0,.3,1);-o-transition:height .3s cubic-bezier(0.7,0,.3,1);transform:translate3d(0,0,0);-webkit-transform:translate3d(0,0,0);-moz-transition:translate3d(0,0,0);-o-transition:translate3d(0,0,0)}[data-pmd] .c-tabs2 .c-tabs-stopanimate{transition:none;-webkit-transition:none;transform:none;-webkit-transform:none;-moz-transition:none;-o-transition:none}[data-pmd] .c-tabs2 .c-tabs-tabcontent{transition:transform .3s cubic-bezier(0.7,0,.3,1);-webkit-transition:transform .3s cubic-bezier(0.7,0,.3,1);-moz-transition:transform .3s cubic-bezier(0.7,0,.3,1);-o-transition:transform .3s cubic-bezier(0.7,0,.3,1);transform:translate3d(0,0,0);-webkit-transform:translate3d(0,0,0);-moz-transition:translate3d(0,0,0);-o-transition:translate3d(0,0,0)}[data-pmd] .c-tabs-animation .c-tabs-view-content{margin:0 -.17rem;overflow:hidden}[data-pmd] .c-tabs-animation .c-tabs-content{position:relative;padding-left:.17rem;padding-right:.17rem;box-sizing:border-box;float:left;display:none}[data-pmd] .c-tabs-animation .c-tabs-selected{display:block}[data-pmd] .c-tabs-animation .c-tabs-view-content-anim{transition:height .3s cubic-bezier(0.7,0,.3,1);-webkit-transition:height .3s cubic-bezier(0.7,0,.3,1);-moz-transition:height .3s cubic-bezier(0.7,0,.3,1);-o-transition:height .3s cubic-bezier(0.7,0,.3,1);transform:translate3d(0,0,0);-webkit-transform:translate3d(0,0,0);-moz-transition:translate3d(0,0,0);-o-transition:translate3d(0,0,0)}[data-pmd] .c-tabs-animation .c-tabs-stopanimate{transition:none;-webkit-transition:none;transform:none;-webkit-transform:none;-moz-transition:none;-o-transition:none}[data-pmd] .c-tabs-animation .c-tabs-tabcontent{transition:transform .3s cubic-bezier(0.7,0,.3,1);-webkit-transition:transform .3s cubic-bezier(0.7,0,.3,1);-moz-transition:transform .3s cubic-bezier(0.7,0,.3,1);-o-transition:transform .3s cubic-bezier(0.7,0,.3,1);transform:translate3d(0,0,0);-webkit-transform:translate3d(0,0,0);-moz-transition:translate3d(0,0,0);-o-transition:translate3d(0,0,0)}[data-pmd] .c-scroll-wrapper,[data-pmd] .c-scroll-wrapper-new{position:relative;overflow:hidden}[data-pmd] .c-scroll-wrapper-new .c-scroll-touch{padding-left:9px;padding-right:9px}[data-pmd] .c-scroll-parent-gap{padding:0 .11rem 0 9px}[data-pmd] .c-scroll-parent-gap .c-scroll-element-gap{padding-right:.1rem}[data-pmd] .c-scroll-indicator-wrapper{text-align:center;height:6px}[data-pmd] .c-scroll-indicator-wrapper .c-scroll-indicator{vertical-align:top}[data-pmd] .c-scroll-indicator{display:inline-block;position:relative;height:6px}[data-pmd] .c-scroll-indicator .c-scroll-dotty{position:absolute;width:6px;height:6px;border-radius:50%;background-color:#999}[data-pmd] .c-scroll-indicator .c-scroll-dotty-now{background-color:#999}[data-pmd] .c-scroll-indicator span{display:block;float:left;width:6px;height:6px;border-radius:50%;background-color:#e1e1e1;margin-right:.07rem}[data-pmd] .c-scroll-indicator span:last-child{margin-right:0}[data-pmd] .c-scroll-touch{position:relative;overflow-x:auto;-webkit-overflow-scrolling:touch;padding-bottom:.3rem;margin-top:-.3rem;-webkit-transform:translateY(0.3rem);transform:translateY(0.3rem)}[data-pmd] .c-location-wrap{overflow:hidden;padding:0 .15rem;background-color:#f7f7f7}[data-pmd] .c-location-header-tips{font-size:.13rem}[data-pmd] .c-location-header-btn{padding-top:.08rem;-webkit-box-flex:0;-webkit-flex:none}[data-pmd] .c-location-header-btn div{display:inline-block}[data-pmd] .c-location-header-btn-reload:after{content:\\\\\"\\\\\";display:inline-block;overflow:hidden;width:1px;height:.1rem;margin:0 .08rem;background-color:#ccc}[data-pmd] .c-location-header-btn-788{display:none}[data-pmd] .c-location-header-btn-in,[data-pmd] .c-location-header-btn-reload{color:#333}[data-pmd] .c-location-header-btn .c-icon{color:#666;vertical-align:top}[data-pmd] .c-location-header-tips{color:#999}[data-pmd] .c-location-header-tips-err{color:#c00}[data-pmd] .c-location-header-tips-success{color:#38f}[data-pmd] .c-location-header-btn-reload-ing .c-location-header-btn-787{display:none}[data-pmd] .c-location-header-btn-reload-ing .c-location-header-btn-788{display:inline-block;color:#999;-webkit-animation-name:c_location_rotate;-webkit-animation-duration:1.5s;-webkit-animation-iteration-count:infinite;-webkit-animation-timing-function:linear}[data-pmd] .c-location-header-btn-reload-ing{color:#999}@-webkit-keyframes c_location_rotate{from{-webkit-transform:rotate(0deg)}to{-webkit-transform:rotate(360deg)}}@keyframes c_location_rotate{from{transform:rotate(0deg)}to{transform:rotate(360deg)}}[data-pmd] .c-location-header-btn-in-active,[data-pmd] .c-location-header-btn-in-active .c-icon{color:#38f}[data-pmd] .c-location-form{position:relative}[data-pmd] .c-location-form .c-input{padding-right:.7rem}[data-pmd] .c-location-input-close{position:absolute;z-index:10;top:1px;right:.37rem;display:none;width:.36rem;height:.36rem;line-height:.36rem;text-align:center;color:#ddd;font-size:.16rem}[data-pmd] .c-location-form .c-input:focus{border-color:#ddd #eee #eee #ddd;background-color:#fff}[data-pmd] .c-location-sub{position:absolute;z-index:10;top:1px;right:1px;width:.36rem;height:.36rem;border-left:1px solid #eee;line-height:.36rem;text-align:center;background-color:#fafafa}[data-pmd] .c-location-body{display:none;padding-bottom:.14rem}[data-pmd] .c-location-down{display:none;border:1px solid #eee;border-top:0;background-color:#fff;-webkit-tap-highlight-color:rgba(0,0,0,0)}[data-pmd] .c-location-down-tips{height:.38rem;padding-left:.12rem;line-height:.38rem;background-color:#fafafa}[data-pmd] .c-location-down-tips-close{padding-right:.12rem}[data-pmd] .c-location-down-tips-close:before{content:\\\\\"\\\\\";display:inline-block;width:1px;height:.1rem;margin-right:.08rem;background-color:#ddd}[data-pmd] .c-location-down ul{list-style:none}[data-pmd] .c-location-down li{padding:.04rem .12rem;border-top:1px solid #eee}[data-pmd] .c-navs{position:relative}[data-pmd] .c-navs-bar{position:relative;min-width:100%;height:40px;white-space:nowrap;display:-webkit-box;-webkit-box-orient:horizontal;-webkit-box-direction:normal;-webkit-box-pack:justify;-webkit-box-align:stretch;-webkit-box-lines:single;display:-webkit-flex;-webkit-flex-direction:row;-webkit-justify-content:space-between;-webkit-align-items:stretch;-webkit-align-content:flex-start;-webkit-flex-wrap:nowrap}[data-pmd] .c-navs .c-row-tile{border-bottom:1px solid #f1f1f1}[data-pmd] .c-navs-sub .c-navs-bar{height:38px}[data-pmd] .c-navs-bar *{-webkit-box-sizing:border-box;box-sizing:border-box}[data-pmd] .c-navs-bar-li{display:block;-webkit-box-flex:1;-webkit-flex:1 1 auto;width:16.66666667%;height:40px;line-height:40px;list-style:none;text-decoration:none;color:#666;text-align:center;font-size:15px;-webkit-tap-highlight-color:transparent;padding:0 17px}[data-pmd] .c-navs-sub .c-navs-bar-li{height:38px;line-height:38px}[data-pmd] .c-navs-bar-li span{height:100%;display:inline-block;max-width:100%;text-overflow:ellipsis;white-space:nowrap;overflow:hidden}[data-pmd] .c-navs-bar .c-navs-bar-selected span{color:#333;font-weight:700;border-bottom:2px solid #333}[data-pmd] .c-navs-bar-view{position:relative;overflow:hidden}[data-pmd] .c-navs-bar-view .c-navs-bar{display:block}[data-pmd] .c-navs-bar-view .c-navs-bar .c-navs-bar-li{display:inline-block;width:auto;padding:0 17px}[data-pmd] .c-navs-bar-toggle{position:absolute;top:0;right:0;width:34px;height:40px;background-color:#fff}[data-pmd] .c-navs-sub .c-navs-bar-toggle{height:38px}[data-pmd] .c-navs-bar-toggle i{width:0;height:0;right:17px;top:17px;border-right:5px solid transparent;border-top:5px solid #999;border-left:5px solid transparent;position:absolute}[data-pmd] .c-navs-bar-layer{position:absolute;top:0;z-index:8;width:100%;background-color:#fff;overflow-x:hidden}[data-pmd] .c-navs-bar-layer p{color:#999;padding:9px 17px 13px}[data-pmd] .c-navs-sub .c-navs-bar-layer p{padding:8px 17px 13px}[data-pmd] .c-navs-bar-layer .c-row{margin-bottom:17px}[data-pmd] .c-navs-sub .c-navs-bar-toggle i{top:16px}[data-pmd] .c-navs-bar-layer .c-navs-bar-toggle i{border-right:5px solid transparent;border-bottom:5px solid #999;border-left:5px solid transparent;border-top:0}[data-pmd] .c-navs-bar-layer .c-navs-bar-li{height:33px;line-height:33px;text-align:center;font-size:14px;color:#333;width:33.33333333%;-webkit-box-flex:4;-webkit-flex:4 4 auto;padding-right:1.55367232%;padding-left:1.55367232%}[data-pmd] .c-navs-bar-layer .c-span4.c-navs-bar-li span{display:inline-block;width:100%;border:1px solid #f1f1f1;border-bottom:1px solid #f1f1f1}[data-pmd] .c-navs-bar-layer .c-span4.c-navs-bar-selected span{border:2px solid #333;line-height:31px}[data-pmd] .c-navs-shadow{right:34px;position:absolute;top:0;width:10px;height:40px;background:-webkit-linear-gradient(left,rgba(255,255,255,0),#fff);background:linear-gradient(to right,rgba(255,255,255,0),#fff)}[data-pmd] .c-navs-sub .c-navs-shadow{height:38px}[data-pmd] .c-navs-bar-mask{position:absolute;z-index:7;top:0;left:0;background:rgba(0,0,0,.65);height:1024px;width:100%}[data-pmd] .c-navs-sub .c-navs-bar-li span{border-bottom:0;font-size:14px}<\\\\/style>\";\\n    result_common_css=$(result_common_css);\\n    result_common_css.attr(\"data-for\",\"result\");\\n\\n    var index_css= $(\\'head [index]\\');\\n    var wrapper=$(\"#wrapper\");\\n    window.index_on=function(){\\n        index_css.insertAfter(\"meta:eq(0)\");\\n        result_common_css.remove();\\n        wrapper.show();\\n        if(bds.su&&bds.su.U&&bds.su.U.homeInit){\\n            bds.su.U.homeInit();\\n        }\\n    };\\n    window.index_off=function(){\\n        result_common_css.insertAfter(\"meta:eq(0)\");\\n        wrapper.show();\\n        index_css.remove();\\n    };\\n})();\\n$(window).on(\"load\",function() {\\n\\n\\tvar rand = Math.random();\\n\\n\\tif(rand < 0.01) {\\n\\t\\ttry {\\n\\t\\tvar baseUrl = \"//www.baidu.com/nocache/fesplg/s.gif?log_type=hm&type=uamonitor&\",\\n\\t\\t\\tqueryString = \"\";\\n\\n\\t\\tqueryString += \"&c_ua=\" + encodeURIComponent(navigator.userAgent);\\n\\t\\tqueryString += \"&s_ua=\" + encodeURIComponent(bds.comm.userAgent);\\n\\n\\t\\tvar url=baseUrl+queryString,\\n\\t\\t\\timg = new Image(),\\n\\t\\t\\timg_rand=\"_LOG_\"+new Date().getTime();\\n\\t\\timg.onload=function(){\\n\\t\\t\\tdelete window[img_rand];\\n\\t\\t};\\n\\t\\twindow[img_rand]=img;\\n\\t\\timg.src=url;\\n\\t\\t} catch(e) {};\\n\\t}\\n});\\n\\n</script>\\n\\n<script type=\"text/javascript\">var Cookie={set:function(t,e,o,i,s,n){document.cookie=t+\"=\"+(n?e:escape(e))+(s?\"; expires=\"+s.toGMTString():\"\")+(i?\"; path=\"+i:\"; path=/\")+(o?\"; domain=\"+o:\"\")},get:function(t,e){var o=document.cookie.match(new RegExp(\"(^| )\"+t+\"=([^;]*)(;|$)\"));return null!=o?unescape(o[2]):e},clear:function(t,e,o){this.get(t)&&(document.cookie=t+\"=\"+(e?\"; path=\"+e:\"; path=/\")+(o?\"; domain=\"+o:\"\")+\";expires=Fri, 02-Jan-1970 00:00:00 GMT\")}};!function(){function save(t){var e=[];for(tmpName in options)options.hasOwnProperty(tmpName)&&\"duRobotState\"!==tmpName&&e.push(\\'\"\\'+tmpName+\\'\":\"\\'+options[tmpName]+\\'\"\\');\\nvar o=\"{\"+e.join(\",\")+\"}\";bds.comm.personalData?$.ajax({url:\"//www.baidu.com/ups/submit/addtips/?product=ps&tips=\"+encodeURIComponent(o)+\"&_r=\"+(new Date).getTime(),success:function(){writeCookie(),\"function\"==typeof t&&t()}}):(writeCookie(),\"function\"==typeof t&&setTimeout(t,0))}function set(t,e){options[t]=e}function get(t){return options[t]}function writeCookie(){if(options.hasOwnProperty(\"sugSet\")){var t=\"0\"==options.sugSet?\"0\":\"3\";clearCookie(\"sug\"),Cookie.set(\"sug\",t,document.domain,\"/\",expire30y)\\n}if(options.hasOwnProperty(\"sugStoreSet\")){var t=0==options.sugStoreSet?\"0\":\"1\";clearCookie(\"sugstore\"),Cookie.set(\"sugstore\",t,document.domain,\"/\",expire30y)}if(options.hasOwnProperty(\"isSwitch\")){var e={0:\"2\",1:\"0\",2:\"1\"},t=e[options.isSwitch];clearCookie(\"ORIGIN\"),Cookie.set(\"ORIGIN\",t,document.domain,\"/\",expire30y)}if(options.hasOwnProperty(\"imeSwitch\")){var t=options.imeSwitch;clearCookie(\"bdime\"),Cookie.set(\"bdime\",t,document.domain,\"/\",expire30y)}}function writeBAIDUID(){var t,e,o,i=Cookie.get(\"BAIDUID\");\\n/FG=(\\\\d+)/.test(i)&&(e=RegExp.$1),/SL=(\\\\d+)/.test(i)&&(o=RegExp.$1),/NR=(\\\\d+)/.test(i)&&(t=RegExp.$1),options.hasOwnProperty(\"resultNum\")&&(t=options.resultNum),options.hasOwnProperty(\"resultLang\")&&(o=options.resultLang),Cookie.set(\"BAIDUID\",i.replace(/:.*$/,\"\")+(\"undefined\"!=typeof o?\":SL=\"+o:\"\")+(\"undefined\"!=typeof t?\":NR=\"+t:\"\")+(\"undefined\"!=typeof e?\":FG=\"+e:\"\"),\".baidu.com\",\"/\",expire30y,!0)}function clearCookie(t){Cookie.clear(t,\"/\"),Cookie.clear(t,\"/\",document.domain),Cookie.clear(t,\"/\",\".\"+document.domain),Cookie.clear(t,\"/\",\".baidu.com\")\\n}function reset(t){options=defaultOptions,save(t)}var defaultOptions={sugSet:1,sugStoreSet:1,isSwitch:1,isJumpHttps:1,imeSwitch:0,resultNum:10,skinOpen:1,resultLang:0,duRobotState:\"000\"},options={},tmpName,expire30y=new Date;expire30y.setTime(expire30y.getTime()+94608e7);try{if(bds&&bds.comm&&bds.comm.personalData){if(\"string\"==typeof bds.comm.personalData&&(bds.comm.personalData=eval(\"(\"+bds.comm.personalData+\")\")),!bds.comm.personalData)return;for(tmpName in bds.comm.personalData)defaultOptions.hasOwnProperty(tmpName)&&bds.comm.personalData.hasOwnProperty(tmpName)&&\"SUCCESS\"==bds.comm.personalData[tmpName].ErrMsg&&(options[tmpName]=bds.comm.personalData[tmpName].value)\\n}try{parseInt(options.resultNum)||delete options.resultNum,parseInt(options.resultLang)||\"0\"==options.resultLang||delete options.resultLang}catch(e){}writeCookie(),\"sugSet\"in options||(options.sugSet=3!=Cookie.get(\"sug\",3)?0:1),\"sugStoreSet\"in options||(options.sugStoreSet=Cookie.get(\"sugstore\",0));var BAIDUID=Cookie.get(\"BAIDUID\");\"resultNum\"in options||(options.resultNum=/NR=(\\\\d+)/.test(BAIDUID)&&RegExp.$1?parseInt(RegExp.$1):10),\"resultLang\"in options||(options.resultLang=/SL=(\\\\d+)/.test(BAIDUID)&&RegExp.$1?parseInt(RegExp.$1):0),\"isSwitch\"in options||(options.isSwitch=2==Cookie.get(\"ORIGIN\",0)?0:1==Cookie.get(\"ORIGIN\",0)?2:1),\"imeSwitch\"in options||(options.imeSwitch=Cookie.get(\"bdime\",0))\\n}catch(e){}window.UPS={writeBAIDUID:writeBAIDUID,reset:reset,get:get,set:set,save:save}}(),function(){var t=\"http://s1.bdstatic.com/r/www/cache/static/plugins/every_cookie_4644b13.js\";(\"Mac68K\"==navigator.platform||\"MacPPC\"==navigator.platform||\"Macintosh\"==navigator.platform||\"MacIntel\"==navigator.platform)&&(t=\"http://s1.bdstatic.com/r/www/cache/static/plugins/every_cookie_mac_82990d4.js\"),setTimeout(function(){$.ajax({url:t,cache:!0,dataType:\"script\"})},0);var e=navigator&&navigator.userAgent?navigator.userAgent:\"\",o=document&&document.cookie?document.cookie:\"\",i=!!(e.match(/(msie [2-8])/i)||e.match(/windows.*safari/i)&&!e.match(/chrome/i)||e.match(/(linux.*firefox)/i)||e.match(/Chrome\\\\/29/i)||e.match(/mac os x.*firefox/i)||o.match(/\\\\bISSW=1/)||0==UPS.get(\"isSwitch\"));\\nbds&&bds.comm&&(bds.comm.supportis=!i,bds.comm.isui=!0),window.__restart_confirm_timeout=!0,window.__confirm_timeout=8e3,window.__disable_is_guide=!0,window.__disable_swap_to_empty=!0,window.__switch_add_mask=!0;var s=\"http://s1.bdstatic.com/r/www/cache/static/global/js/all_async_search_67a0787.js\",n=\"/script\";document.write(\"<script src=\\'\"+s+\"\\'><\"+n+\">\"),bds.comm.newindex&&$(window).on(\"index_off\",function(){$(\\'<div class=\"c-tips-container\" id=\"c-tips-container\"></div>\\').insertAfter(\"#wrapper\"),window.__sample_dynamic_tab&&$(\"#s_tab\").remove()\\n}),bds.comm&&bds.comm.ishome&&Cookie.get(\"H_PS_PSSID\")&&(bds.comm.indexSid=Cookie.get(\"H_PS_PSSID\"));var a=$(document).find(\"#s_tab\").find(\"a\");a&&a.length>0&&a.each(function(t,e){e.innerHTML&&e.innerHTML.match(/新闻/)&&(e.innerHTML=\"资讯\",e.href=\"//www.baidu.com/s?rtt=1&bsst=1&cl=2&tn=news&word=\",e.setAttribute(\"sync\",!0))})}();</script>\\n\\n\\n\\n<script>\\nif(bds.comm.supportis){\\n    window.__restart_confirm_timeout=true;\\n    window.__confirm_timeout=8000;\\n    window.__disable_is_guide=true;\\n    window.__disable_swap_to_empty=true;\\n}\\ninitPreload({\\n    \\'isui\\':true,\\n    \\'index_form\\':\"#form\",\\n    \\'index_kw\\':\"#kw\",\\n    \\'result_form\\':\"#form\",\\n    \\'result_kw\\':\"#kw\"\\n});\\n</script>\\n\\n<script>\\nif(navigator.cookieEnabled){\\n\\tdocument.cookie=\"NOJS=;expires=Sat, 01 Jan 2000 00:00:00 GMT\";\\n}\\n</script>\\n\\n\\n\\n</body>\\n</html>\\n\\n\\r\\n\\n\\n\\r\\n'"
      ]
     },
     "execution_count": 10,
     "metadata": {},
     "output_type": "execute_result"
    }
   ],
   "source": [
    "# urllib\n",
    "from urllib import request\n",
    "\n",
    "url = 'http://www.baidu.com'\n",
    "response = request.urlopen(url)\n",
    "response.read().decode('utf-8')"
   ]
  },
  {
   "cell_type": "code",
   "execution_count": 14,
   "metadata": {},
   "outputs": [
    {
     "data": {
      "text/plain": [
       "'{\\n  \"args\": {}, \\n  \"data\": \"\", \\n  \"files\": {}, \\n  \"form\": {\\n    \"hello\": \"world\"\\n  }, \\n  \"headers\": {\\n    \"Accept-Encoding\": \"identity\", \\n    \"Content-Length\": \"11\", \\n    \"Content-Type\": \"application/x-www-form-urlencoded\", \\n    \"Host\": \"httpbin.org\", \\n    \"User-Agent\": \"Python-urllib/3.6\"\\n  }, \\n  \"json\": null, \\n  \"origin\": \"222.128.93.90, 222.128.93.90\", \\n  \"url\": \"https://httpbin.org/post\"\\n}\\n'"
      ]
     },
     "execution_count": 14,
     "metadata": {},
     "output_type": "execute_result"
    }
   ],
   "source": [
    "from urllib import parse\n",
    "\n",
    "data = bytes(parse.urlencode({'hello': 'world'}), encoding='utf-8')\n",
    "response2 = request.urlopen('http://httpbin.org/post', data=data)\n",
    "response2.read().decode('utf-8')"
   ]
  },
  {
   "cell_type": "code",
   "execution_count": 15,
   "metadata": {},
   "outputs": [
    {
     "ename": "URLError",
     "evalue": "<urlopen error timed out>",
     "output_type": "error",
     "traceback": [
      "\u001b[0;31m---------------------------------------------------------------------------\u001b[0m",
      "\u001b[0;31mtimeout\u001b[0m                                   Traceback (most recent call last)",
      "\u001b[0;32m/anaconda3/lib/python3.6/urllib/request.py\u001b[0m in \u001b[0;36mdo_open\u001b[0;34m(self, http_class, req, **http_conn_args)\u001b[0m\n\u001b[1;32m   1317\u001b[0m                 h.request(req.get_method(), req.selector, req.data, headers,\n\u001b[0;32m-> 1318\u001b[0;31m                           encode_chunked=req.has_header('Transfer-encoding'))\n\u001b[0m\u001b[1;32m   1319\u001b[0m             \u001b[0;32mexcept\u001b[0m \u001b[0mOSError\u001b[0m \u001b[0;32mas\u001b[0m \u001b[0merr\u001b[0m\u001b[0;34m:\u001b[0m \u001b[0;31m# timeout error\u001b[0m\u001b[0;34m\u001b[0m\u001b[0;34m\u001b[0m\u001b[0m\n",
      "\u001b[0;32m/anaconda3/lib/python3.6/http/client.py\u001b[0m in \u001b[0;36mrequest\u001b[0;34m(self, method, url, body, headers, encode_chunked)\u001b[0m\n\u001b[1;32m   1238\u001b[0m         \u001b[0;34m\"\"\"Send a complete request to the server.\"\"\"\u001b[0m\u001b[0;34m\u001b[0m\u001b[0;34m\u001b[0m\u001b[0m\n\u001b[0;32m-> 1239\u001b[0;31m         \u001b[0mself\u001b[0m\u001b[0;34m.\u001b[0m\u001b[0m_send_request\u001b[0m\u001b[0;34m(\u001b[0m\u001b[0mmethod\u001b[0m\u001b[0;34m,\u001b[0m \u001b[0murl\u001b[0m\u001b[0;34m,\u001b[0m \u001b[0mbody\u001b[0m\u001b[0;34m,\u001b[0m \u001b[0mheaders\u001b[0m\u001b[0;34m,\u001b[0m \u001b[0mencode_chunked\u001b[0m\u001b[0;34m)\u001b[0m\u001b[0;34m\u001b[0m\u001b[0;34m\u001b[0m\u001b[0m\n\u001b[0m\u001b[1;32m   1240\u001b[0m \u001b[0;34m\u001b[0m\u001b[0m\n",
      "\u001b[0;32m/anaconda3/lib/python3.6/http/client.py\u001b[0m in \u001b[0;36m_send_request\u001b[0;34m(self, method, url, body, headers, encode_chunked)\u001b[0m\n\u001b[1;32m   1284\u001b[0m             \u001b[0mbody\u001b[0m \u001b[0;34m=\u001b[0m \u001b[0m_encode\u001b[0m\u001b[0;34m(\u001b[0m\u001b[0mbody\u001b[0m\u001b[0;34m,\u001b[0m \u001b[0;34m'body'\u001b[0m\u001b[0;34m)\u001b[0m\u001b[0;34m\u001b[0m\u001b[0;34m\u001b[0m\u001b[0m\n\u001b[0;32m-> 1285\u001b[0;31m         \u001b[0mself\u001b[0m\u001b[0;34m.\u001b[0m\u001b[0mendheaders\u001b[0m\u001b[0;34m(\u001b[0m\u001b[0mbody\u001b[0m\u001b[0;34m,\u001b[0m \u001b[0mencode_chunked\u001b[0m\u001b[0;34m=\u001b[0m\u001b[0mencode_chunked\u001b[0m\u001b[0;34m)\u001b[0m\u001b[0;34m\u001b[0m\u001b[0;34m\u001b[0m\u001b[0m\n\u001b[0m\u001b[1;32m   1286\u001b[0m \u001b[0;34m\u001b[0m\u001b[0m\n",
      "\u001b[0;32m/anaconda3/lib/python3.6/http/client.py\u001b[0m in \u001b[0;36mendheaders\u001b[0;34m(self, message_body, encode_chunked)\u001b[0m\n\u001b[1;32m   1233\u001b[0m             \u001b[0;32mraise\u001b[0m \u001b[0mCannotSendHeader\u001b[0m\u001b[0;34m(\u001b[0m\u001b[0;34m)\u001b[0m\u001b[0;34m\u001b[0m\u001b[0;34m\u001b[0m\u001b[0m\n\u001b[0;32m-> 1234\u001b[0;31m         \u001b[0mself\u001b[0m\u001b[0;34m.\u001b[0m\u001b[0m_send_output\u001b[0m\u001b[0;34m(\u001b[0m\u001b[0mmessage_body\u001b[0m\u001b[0;34m,\u001b[0m \u001b[0mencode_chunked\u001b[0m\u001b[0;34m=\u001b[0m\u001b[0mencode_chunked\u001b[0m\u001b[0;34m)\u001b[0m\u001b[0;34m\u001b[0m\u001b[0;34m\u001b[0m\u001b[0m\n\u001b[0m\u001b[1;32m   1235\u001b[0m \u001b[0;34m\u001b[0m\u001b[0m\n",
      "\u001b[0;32m/anaconda3/lib/python3.6/http/client.py\u001b[0m in \u001b[0;36m_send_output\u001b[0;34m(self, message_body, encode_chunked)\u001b[0m\n\u001b[1;32m   1025\u001b[0m         \u001b[0;32mdel\u001b[0m \u001b[0mself\u001b[0m\u001b[0;34m.\u001b[0m\u001b[0m_buffer\u001b[0m\u001b[0;34m[\u001b[0m\u001b[0;34m:\u001b[0m\u001b[0;34m]\u001b[0m\u001b[0;34m\u001b[0m\u001b[0;34m\u001b[0m\u001b[0m\n\u001b[0;32m-> 1026\u001b[0;31m         \u001b[0mself\u001b[0m\u001b[0;34m.\u001b[0m\u001b[0msend\u001b[0m\u001b[0;34m(\u001b[0m\u001b[0mmsg\u001b[0m\u001b[0;34m)\u001b[0m\u001b[0;34m\u001b[0m\u001b[0;34m\u001b[0m\u001b[0m\n\u001b[0m\u001b[1;32m   1027\u001b[0m \u001b[0;34m\u001b[0m\u001b[0m\n",
      "\u001b[0;32m/anaconda3/lib/python3.6/http/client.py\u001b[0m in \u001b[0;36msend\u001b[0;34m(self, data)\u001b[0m\n\u001b[1;32m    963\u001b[0m             \u001b[0;32mif\u001b[0m \u001b[0mself\u001b[0m\u001b[0;34m.\u001b[0m\u001b[0mauto_open\u001b[0m\u001b[0;34m:\u001b[0m\u001b[0;34m\u001b[0m\u001b[0;34m\u001b[0m\u001b[0m\n\u001b[0;32m--> 964\u001b[0;31m                 \u001b[0mself\u001b[0m\u001b[0;34m.\u001b[0m\u001b[0mconnect\u001b[0m\u001b[0;34m(\u001b[0m\u001b[0;34m)\u001b[0m\u001b[0;34m\u001b[0m\u001b[0;34m\u001b[0m\u001b[0m\n\u001b[0m\u001b[1;32m    965\u001b[0m             \u001b[0;32melse\u001b[0m\u001b[0;34m:\u001b[0m\u001b[0;34m\u001b[0m\u001b[0;34m\u001b[0m\u001b[0m\n",
      "\u001b[0;32m/anaconda3/lib/python3.6/http/client.py\u001b[0m in \u001b[0;36mconnect\u001b[0;34m(self)\u001b[0m\n\u001b[1;32m    935\u001b[0m         self.sock = self._create_connection(\n\u001b[0;32m--> 936\u001b[0;31m             (self.host,self.port), self.timeout, self.source_address)\n\u001b[0m\u001b[1;32m    937\u001b[0m         \u001b[0mself\u001b[0m\u001b[0;34m.\u001b[0m\u001b[0msock\u001b[0m\u001b[0;34m.\u001b[0m\u001b[0msetsockopt\u001b[0m\u001b[0;34m(\u001b[0m\u001b[0msocket\u001b[0m\u001b[0;34m.\u001b[0m\u001b[0mIPPROTO_TCP\u001b[0m\u001b[0;34m,\u001b[0m \u001b[0msocket\u001b[0m\u001b[0;34m.\u001b[0m\u001b[0mTCP_NODELAY\u001b[0m\u001b[0;34m,\u001b[0m \u001b[0;36m1\u001b[0m\u001b[0;34m)\u001b[0m\u001b[0;34m\u001b[0m\u001b[0;34m\u001b[0m\u001b[0m\n",
      "\u001b[0;32m/anaconda3/lib/python3.6/socket.py\u001b[0m in \u001b[0;36mcreate_connection\u001b[0;34m(address, timeout, source_address)\u001b[0m\n\u001b[1;32m    723\u001b[0m     \u001b[0;32mif\u001b[0m \u001b[0merr\u001b[0m \u001b[0;32mis\u001b[0m \u001b[0;32mnot\u001b[0m \u001b[0;32mNone\u001b[0m\u001b[0;34m:\u001b[0m\u001b[0;34m\u001b[0m\u001b[0;34m\u001b[0m\u001b[0m\n\u001b[0;32m--> 724\u001b[0;31m         \u001b[0;32mraise\u001b[0m \u001b[0merr\u001b[0m\u001b[0;34m\u001b[0m\u001b[0;34m\u001b[0m\u001b[0m\n\u001b[0m\u001b[1;32m    725\u001b[0m     \u001b[0;32melse\u001b[0m\u001b[0;34m:\u001b[0m\u001b[0;34m\u001b[0m\u001b[0;34m\u001b[0m\u001b[0m\n",
      "\u001b[0;32m/anaconda3/lib/python3.6/socket.py\u001b[0m in \u001b[0;36mcreate_connection\u001b[0;34m(address, timeout, source_address)\u001b[0m\n\u001b[1;32m    712\u001b[0m                 \u001b[0msock\u001b[0m\u001b[0;34m.\u001b[0m\u001b[0mbind\u001b[0m\u001b[0;34m(\u001b[0m\u001b[0msource_address\u001b[0m\u001b[0;34m)\u001b[0m\u001b[0;34m\u001b[0m\u001b[0;34m\u001b[0m\u001b[0m\n\u001b[0;32m--> 713\u001b[0;31m             \u001b[0msock\u001b[0m\u001b[0;34m.\u001b[0m\u001b[0mconnect\u001b[0m\u001b[0;34m(\u001b[0m\u001b[0msa\u001b[0m\u001b[0;34m)\u001b[0m\u001b[0;34m\u001b[0m\u001b[0;34m\u001b[0m\u001b[0m\n\u001b[0m\u001b[1;32m    714\u001b[0m             \u001b[0;31m# Break explicitly a reference cycle\u001b[0m\u001b[0;34m\u001b[0m\u001b[0;34m\u001b[0m\u001b[0;34m\u001b[0m\u001b[0m\n",
      "\u001b[0;31mtimeout\u001b[0m: timed out",
      "\nDuring handling of the above exception, another exception occurred:\n",
      "\u001b[0;31mURLError\u001b[0m                                  Traceback (most recent call last)",
      "\u001b[0;32m<ipython-input-15-d247dd91f9a2>\u001b[0m in \u001b[0;36m<module>\u001b[0;34m\u001b[0m\n\u001b[0;32m----> 1\u001b[0;31m \u001b[0mresponse3\u001b[0m \u001b[0;34m=\u001b[0m \u001b[0mrequest\u001b[0m\u001b[0;34m.\u001b[0m\u001b[0murlopen\u001b[0m\u001b[0;34m(\u001b[0m\u001b[0;34m'http://httpbin.org/get'\u001b[0m\u001b[0;34m,\u001b[0m \u001b[0mtimeout\u001b[0m\u001b[0;34m=\u001b[0m\u001b[0;36m0.1\u001b[0m\u001b[0;34m)\u001b[0m\u001b[0;34m\u001b[0m\u001b[0;34m\u001b[0m\u001b[0m\n\u001b[0m\u001b[1;32m      2\u001b[0m \u001b[0mresponse3\u001b[0m\u001b[0;34m.\u001b[0m\u001b[0mread\u001b[0m\u001b[0;34m(\u001b[0m\u001b[0;34m)\u001b[0m\u001b[0;34m\u001b[0m\u001b[0;34m\u001b[0m\u001b[0m\n",
      "\u001b[0;32m/anaconda3/lib/python3.6/urllib/request.py\u001b[0m in \u001b[0;36murlopen\u001b[0;34m(url, data, timeout, cafile, capath, cadefault, context)\u001b[0m\n\u001b[1;32m    221\u001b[0m     \u001b[0;32melse\u001b[0m\u001b[0;34m:\u001b[0m\u001b[0;34m\u001b[0m\u001b[0;34m\u001b[0m\u001b[0m\n\u001b[1;32m    222\u001b[0m         \u001b[0mopener\u001b[0m \u001b[0;34m=\u001b[0m \u001b[0m_opener\u001b[0m\u001b[0;34m\u001b[0m\u001b[0;34m\u001b[0m\u001b[0m\n\u001b[0;32m--> 223\u001b[0;31m     \u001b[0;32mreturn\u001b[0m \u001b[0mopener\u001b[0m\u001b[0;34m.\u001b[0m\u001b[0mopen\u001b[0m\u001b[0;34m(\u001b[0m\u001b[0murl\u001b[0m\u001b[0;34m,\u001b[0m \u001b[0mdata\u001b[0m\u001b[0;34m,\u001b[0m \u001b[0mtimeout\u001b[0m\u001b[0;34m)\u001b[0m\u001b[0;34m\u001b[0m\u001b[0;34m\u001b[0m\u001b[0m\n\u001b[0m\u001b[1;32m    224\u001b[0m \u001b[0;34m\u001b[0m\u001b[0m\n\u001b[1;32m    225\u001b[0m \u001b[0;32mdef\u001b[0m \u001b[0minstall_opener\u001b[0m\u001b[0;34m(\u001b[0m\u001b[0mopener\u001b[0m\u001b[0;34m)\u001b[0m\u001b[0;34m:\u001b[0m\u001b[0;34m\u001b[0m\u001b[0;34m\u001b[0m\u001b[0m\n",
      "\u001b[0;32m/anaconda3/lib/python3.6/urllib/request.py\u001b[0m in \u001b[0;36mopen\u001b[0;34m(self, fullurl, data, timeout)\u001b[0m\n\u001b[1;32m    524\u001b[0m             \u001b[0mreq\u001b[0m \u001b[0;34m=\u001b[0m \u001b[0mmeth\u001b[0m\u001b[0;34m(\u001b[0m\u001b[0mreq\u001b[0m\u001b[0;34m)\u001b[0m\u001b[0;34m\u001b[0m\u001b[0;34m\u001b[0m\u001b[0m\n\u001b[1;32m    525\u001b[0m \u001b[0;34m\u001b[0m\u001b[0m\n\u001b[0;32m--> 526\u001b[0;31m         \u001b[0mresponse\u001b[0m \u001b[0;34m=\u001b[0m \u001b[0mself\u001b[0m\u001b[0;34m.\u001b[0m\u001b[0m_open\u001b[0m\u001b[0;34m(\u001b[0m\u001b[0mreq\u001b[0m\u001b[0;34m,\u001b[0m \u001b[0mdata\u001b[0m\u001b[0;34m)\u001b[0m\u001b[0;34m\u001b[0m\u001b[0;34m\u001b[0m\u001b[0m\n\u001b[0m\u001b[1;32m    527\u001b[0m \u001b[0;34m\u001b[0m\u001b[0m\n\u001b[1;32m    528\u001b[0m         \u001b[0;31m# post-process response\u001b[0m\u001b[0;34m\u001b[0m\u001b[0;34m\u001b[0m\u001b[0;34m\u001b[0m\u001b[0m\n",
      "\u001b[0;32m/anaconda3/lib/python3.6/urllib/request.py\u001b[0m in \u001b[0;36m_open\u001b[0;34m(self, req, data)\u001b[0m\n\u001b[1;32m    542\u001b[0m         \u001b[0mprotocol\u001b[0m \u001b[0;34m=\u001b[0m \u001b[0mreq\u001b[0m\u001b[0;34m.\u001b[0m\u001b[0mtype\u001b[0m\u001b[0;34m\u001b[0m\u001b[0;34m\u001b[0m\u001b[0m\n\u001b[1;32m    543\u001b[0m         result = self._call_chain(self.handle_open, protocol, protocol +\n\u001b[0;32m--> 544\u001b[0;31m                                   '_open', req)\n\u001b[0m\u001b[1;32m    545\u001b[0m         \u001b[0;32mif\u001b[0m \u001b[0mresult\u001b[0m\u001b[0;34m:\u001b[0m\u001b[0;34m\u001b[0m\u001b[0;34m\u001b[0m\u001b[0m\n\u001b[1;32m    546\u001b[0m             \u001b[0;32mreturn\u001b[0m \u001b[0mresult\u001b[0m\u001b[0;34m\u001b[0m\u001b[0;34m\u001b[0m\u001b[0m\n",
      "\u001b[0;32m/anaconda3/lib/python3.6/urllib/request.py\u001b[0m in \u001b[0;36m_call_chain\u001b[0;34m(self, chain, kind, meth_name, *args)\u001b[0m\n\u001b[1;32m    502\u001b[0m         \u001b[0;32mfor\u001b[0m \u001b[0mhandler\u001b[0m \u001b[0;32min\u001b[0m \u001b[0mhandlers\u001b[0m\u001b[0;34m:\u001b[0m\u001b[0;34m\u001b[0m\u001b[0;34m\u001b[0m\u001b[0m\n\u001b[1;32m    503\u001b[0m             \u001b[0mfunc\u001b[0m \u001b[0;34m=\u001b[0m \u001b[0mgetattr\u001b[0m\u001b[0;34m(\u001b[0m\u001b[0mhandler\u001b[0m\u001b[0;34m,\u001b[0m \u001b[0mmeth_name\u001b[0m\u001b[0;34m)\u001b[0m\u001b[0;34m\u001b[0m\u001b[0;34m\u001b[0m\u001b[0m\n\u001b[0;32m--> 504\u001b[0;31m             \u001b[0mresult\u001b[0m \u001b[0;34m=\u001b[0m \u001b[0mfunc\u001b[0m\u001b[0;34m(\u001b[0m\u001b[0;34m*\u001b[0m\u001b[0margs\u001b[0m\u001b[0;34m)\u001b[0m\u001b[0;34m\u001b[0m\u001b[0;34m\u001b[0m\u001b[0m\n\u001b[0m\u001b[1;32m    505\u001b[0m             \u001b[0;32mif\u001b[0m \u001b[0mresult\u001b[0m \u001b[0;32mis\u001b[0m \u001b[0;32mnot\u001b[0m \u001b[0;32mNone\u001b[0m\u001b[0;34m:\u001b[0m\u001b[0;34m\u001b[0m\u001b[0;34m\u001b[0m\u001b[0m\n\u001b[1;32m    506\u001b[0m                 \u001b[0;32mreturn\u001b[0m \u001b[0mresult\u001b[0m\u001b[0;34m\u001b[0m\u001b[0;34m\u001b[0m\u001b[0m\n",
      "\u001b[0;32m/anaconda3/lib/python3.6/urllib/request.py\u001b[0m in \u001b[0;36mhttp_open\u001b[0;34m(self, req)\u001b[0m\n\u001b[1;32m   1344\u001b[0m \u001b[0;34m\u001b[0m\u001b[0m\n\u001b[1;32m   1345\u001b[0m     \u001b[0;32mdef\u001b[0m \u001b[0mhttp_open\u001b[0m\u001b[0;34m(\u001b[0m\u001b[0mself\u001b[0m\u001b[0;34m,\u001b[0m \u001b[0mreq\u001b[0m\u001b[0;34m)\u001b[0m\u001b[0;34m:\u001b[0m\u001b[0;34m\u001b[0m\u001b[0;34m\u001b[0m\u001b[0m\n\u001b[0;32m-> 1346\u001b[0;31m         \u001b[0;32mreturn\u001b[0m \u001b[0mself\u001b[0m\u001b[0;34m.\u001b[0m\u001b[0mdo_open\u001b[0m\u001b[0;34m(\u001b[0m\u001b[0mhttp\u001b[0m\u001b[0;34m.\u001b[0m\u001b[0mclient\u001b[0m\u001b[0;34m.\u001b[0m\u001b[0mHTTPConnection\u001b[0m\u001b[0;34m,\u001b[0m \u001b[0mreq\u001b[0m\u001b[0;34m)\u001b[0m\u001b[0;34m\u001b[0m\u001b[0;34m\u001b[0m\u001b[0m\n\u001b[0m\u001b[1;32m   1347\u001b[0m \u001b[0;34m\u001b[0m\u001b[0m\n\u001b[1;32m   1348\u001b[0m     \u001b[0mhttp_request\u001b[0m \u001b[0;34m=\u001b[0m \u001b[0mAbstractHTTPHandler\u001b[0m\u001b[0;34m.\u001b[0m\u001b[0mdo_request_\u001b[0m\u001b[0;34m\u001b[0m\u001b[0;34m\u001b[0m\u001b[0m\n",
      "\u001b[0;32m/anaconda3/lib/python3.6/urllib/request.py\u001b[0m in \u001b[0;36mdo_open\u001b[0;34m(self, http_class, req, **http_conn_args)\u001b[0m\n\u001b[1;32m   1318\u001b[0m                           encode_chunked=req.has_header('Transfer-encoding'))\n\u001b[1;32m   1319\u001b[0m             \u001b[0;32mexcept\u001b[0m \u001b[0mOSError\u001b[0m \u001b[0;32mas\u001b[0m \u001b[0merr\u001b[0m\u001b[0;34m:\u001b[0m \u001b[0;31m# timeout error\u001b[0m\u001b[0;34m\u001b[0m\u001b[0;34m\u001b[0m\u001b[0m\n\u001b[0;32m-> 1320\u001b[0;31m                 \u001b[0;32mraise\u001b[0m \u001b[0mURLError\u001b[0m\u001b[0;34m(\u001b[0m\u001b[0merr\u001b[0m\u001b[0;34m)\u001b[0m\u001b[0;34m\u001b[0m\u001b[0;34m\u001b[0m\u001b[0m\n\u001b[0m\u001b[1;32m   1321\u001b[0m             \u001b[0mr\u001b[0m \u001b[0;34m=\u001b[0m \u001b[0mh\u001b[0m\u001b[0;34m.\u001b[0m\u001b[0mgetresponse\u001b[0m\u001b[0;34m(\u001b[0m\u001b[0;34m)\u001b[0m\u001b[0;34m\u001b[0m\u001b[0;34m\u001b[0m\u001b[0m\n\u001b[1;32m   1322\u001b[0m         \u001b[0;32mexcept\u001b[0m\u001b[0;34m:\u001b[0m\u001b[0;34m\u001b[0m\u001b[0;34m\u001b[0m\u001b[0m\n",
      "\u001b[0;31mURLError\u001b[0m: <urlopen error timed out>"
     ]
    }
   ],
   "source": [
    "response3 = request.urlopen('http://httpbin.org/get', timeout=0.1)\n",
    "response3.read()"
   ]
  },
  {
   "cell_type": "code",
   "execution_count": 21,
   "metadata": {},
   "outputs": [
    {
     "name": "stdout",
     "output_type": "stream",
     "text": [
      "TIME OUT\n"
     ]
    }
   ],
   "source": [
    "import socket\n",
    "import urllib\n",
    "\n",
    "try:\n",
    "    response4 = request.urlopen('http://httpbin.org/get', timeout=0.1)\n",
    "    response4.read()\n",
    "except urllib.error.URLError as e:\n",
    "    if isinstance(e.reason, socket.timeout):\n",
    "        print('TIME OUT')"
   ]
  },
  {
   "cell_type": "code",
   "execution_count": 40,
   "metadata": {},
   "outputs": [
    {
     "name": "stdout",
     "output_type": "stream",
     "text": [
      "{\n",
      "  \"args\": {}, \n",
      "  \"data\": \"\", \n",
      "  \"files\": {}, \n",
      "  \"form\": {\n",
      "    \"hello\": \"world\"\n",
      "  }, \n",
      "  \"headers\": {\n",
      "    \"Accept\": \"text/html,application/xhtml+xml,application/xml;q=0.9,image/webp,image/apng,*/*;q=0.8,application/signed-exchange;v=b3\", \n",
      "    \"Accept-Encoding\": \"identity\", \n",
      "    \"Accept-Language\": \"zh-CN,zh;q=0.9,ja;q=0.8,en;q=0.7,zh-TW;q=0.6\", \n",
      "    \"Cache-Control\": \"max-age=0\", \n",
      "    \"Content-Length\": \"11\", \n",
      "    \"Content-Type\": \"application/x-www-form-urlencoded\", \n",
      "    \"Host\": \"httpbin.org\", \n",
      "    \"Upgrade-Insecure-Requests\": \"1\", \n",
      "    \"User-Agent\": \"Mozilla/5.0 (iPhone; CPU iPhone OS 11_0 like Mac OS X) AppleWebKit/604.1.38 (KHTML, like Gecko) Version/11.0 Mobile/15A372 Safari/604.1\"\n",
      "  }, \n",
      "  \"json\": null, \n",
      "  \"origin\": \"222.128.93.90, 222.128.93.90\", \n",
      "  \"url\": \"https://httpbin.org/post\"\n",
      "}\n",
      "\n"
     ]
    }
   ],
   "source": [
    "headers = {\n",
    "    \"Host\": \"httpbin.org\",\n",
    "\"Connection\": \"keep-alive\",\n",
    "\"Cache-Control\": \"max-age=0\",\n",
    "\"Upgrade-Insecure-Requests\": \"1\",\n",
    "\"User-Agent\": \"Mozilla/5.0 (iPhone; CPU iPhone OS 11_0 like Mac OS X) AppleWebKit/604.1.38 (KHTML, like Gecko) Version/11.0 Mobile/15A372 Safari/604.1\",\n",
    "\"Accept\": \"text/html,application/xhtml+xml,application/xml;q=0.9,image/webp,image/apng,*/*;q=0.8,application/signed-exchange;v=b3\",\n",
    "\"Accept-Language\": \"zh-CN,zh;q=0.9,ja;q=0.8,en;q=0.7,zh-TW;q=0.6\",\n",
    "}\n",
    "data = bytes(parse.urlencode({'hello': 'world'}), encoding='utf-8')\n",
    "req = request.Request(url='http://httpbin.org/post', headers=headers, data=data, method='POST')\n",
    "response = request.urlopen(req)\n",
    "print(response.read().decode())"
   ]
  },
  {
   "cell_type": "code",
   "execution_count": 44,
   "metadata": {},
   "outputs": [
    {
     "name": "stdout",
     "output_type": "stream",
     "text": [
      "{\n",
      "  \"args\": {}, \n",
      "  \"data\": \"\", \n",
      "  \"files\": {}, \n",
      "  \"form\": {\n",
      "    \"hey\": \"\\u732a\"\n",
      "  }, \n",
      "  \"headers\": {\n",
      "    \"Accept\": \"*/*\", \n",
      "    \"Accept-Encoding\": \"gzip, deflate\", \n",
      "    \"Content-Length\": \"13\", \n",
      "    \"Content-Type\": \"application/x-www-form-urlencoded\", \n",
      "    \"Host\": \"httpbin.org\", \n",
      "    \"User-Agent\": \"python-requests/2.21.0\"\n",
      "  }, \n",
      "  \"json\": null, \n",
      "  \"origin\": \"222.128.93.90, 222.128.93.90\", \n",
      "  \"url\": \"https://httpbin.org/post\"\n",
      "}\n",
      "\n"
     ]
    }
   ],
   "source": [
    "# requests\n",
    "import requests\n",
    "url = 'http://httpbin.org/post'\n",
    "data = {'hey':'猪'}\n",
    "response = requests.post(url=url, data=data)\n",
    "print(response.text)"
   ]
  },
  {
   "cell_type": "code",
   "execution_count": 50,
   "metadata": {},
   "outputs": [
    {
     "name": "stdout",
     "output_type": "stream",
     "text": [
      "<!doctype html>\r\n",
      "<html class=\"no-js\" >\r\n",
      "\r\n",
      "  <head>\r\n",
      "    <meta charset=\"utf-8\">\r\n",
      "    <title>\n",
      "        原创 - CNU视觉联盟 \n",
      "\n",
      "</title>\r\n",
      "    <meta name=\"keywords\" content=\" CNU,视觉,摄影,视觉联盟,照片,摄影师,摄影作品集,在线摄影作品集,照片精选,网络摄影作品集,在线照片展廊,分享图片,专业摄影,社会摄影,上传照片,分享照片,出色的摄影作品集,摄影社区,最新摄影作品,快速创建作品集,模特和摄影师,商业摄影,建筑摄影,专业作品集管理,视觉中国图库,视觉中国,视觉联盟,摄影作品,摄影作品欣赏,时尚摄影,时尚摄影作品,艺术,艺术作品,艺术摄影作品,人体艺术,时尚杂志,品牌广告,视觉,视觉艺术,视觉作品,视觉作品欣赏,时尚,设计,当代艺术 \" />\r\n",
      "    <meta name=\"description\" content=\" 中国视觉联盟cnu.cc-是一家致力于传播优秀视觉文化,研究视觉艺术、交流视觉理念、开拓大众审美视野的专业性视觉网站。 \">\r\n",
      "\r\n",
      "    <meta name=\"viewport\" content=\"width=device-width\">\r\n",
      "      <link rel=\"icon\" href=\"http://img.cnu.cc/assets/images/favicon.ico\" type=\"image/x-icon\" />\r\n",
      "      <link rel=\"shortcut icon\" href=\"http://img.cnu.cc/assets/images/favicon.ico\" type=\"image/x-icon\" />\r\n",
      "    <link rel=\"stylesheet\" href=\"http://www.cnu.cc/assets/font-awesome-4.4.0/css/font-awesome.css\">\r\n",
      "\r\n",
      "\r\n",
      "      <link rel=\"stylesheet\" href=\"http://img.cnu.cc/assets/bootstrap/css/bootstrap.min.css\">\r\n",
      "      <link rel=\"stylesheet\" href=\"http://img.cnu.cc/assets/styles/main.css\">\r\n",
      "      <!--[if lt IE 9]>\r\n",
      "      <!--\r\n",
      "      <script src=\"http://cdnjs.cloudflare.com/ajax/libs/respond.js/1.4.2/respond.min.js\"></script>\r\n",
      "      <script src=\"http://cdnjs.cloudflare.com/ajax/libs/html5shiv/3.7.2/html5shiv.min.js\"></script>\r\n",
      "      -->\r\n",
      "      <script src=\"http://img.cnu.cc/assets/scripts/lib/respond.min.js\"></script>\r\n",
      "      <script src=\"http://img.cnu.cc/assets/scripts/lib/html5shiv.min.js\"></script>\r\n",
      "      <![endif]-->\r\n",
      "    <script>\r\n",
      "        \r\n",
      "        Config = {\r\n",
      "            'cdnDomain': 'http://img.cnu.cc',\r\n",
      "            'user_id': 0,\r\n",
      "            'routes': {\r\n",
      "            },\r\n",
      "            'token': 'lkAixEJNxx5XEAhoMA20gQIHtYy4hrPIyO9NjOuo'\r\n",
      "        };\r\n",
      "    </script>\r\n",
      "      <script>\r\n",
      "          var _hmt = _hmt || [];\r\n",
      "          (function() {\r\n",
      "              var hm = document.createElement(\"script\");\r\n",
      "              hm.src = \"//hm.baidu.com/hm.js?debc91213222aae0abfdb6176ec8d28a\";\r\n",
      "              var s = document.getElementsByTagName(\"script\")[0];\r\n",
      "              s.parentNode.insertBefore(hm, s);\r\n",
      "          })();\r\n",
      "      </script>\r\n",
      "    \n",
      "    <link rel=\"stylesheet\" href=\"http://img.cnu.cc/assets/styles/discovery.css\">\n",
      "    <link rel=\"stylesheet\" href=\"http://img.cnu.cc/assets/styles/public.css\">\n",
      "\n",
      "\r\n",
      "  </head>\r\n",
      "\r\n",
      "  <body>\r\n",
      "        <nav class=\"navbar navbar-inverse navbar-fixed-top\">\n",
      "\n",
      "    <div class=\"navbar-header\">\n",
      "        <button type=\"button\" class=\"navbar-toggle\" data-toggle=\"collapse\" data-target=\".navbar-collapse\">\n",
      "            <span class=\"icon-bar\"></span>\n",
      "            <span class=\"icon-bar\"></span>\n",
      "            <span class=\"icon-bar\"></span>\n",
      "        </button>\n",
      "        <a class=\"navbar-brand\" style=\"padding: 0px 20px;\" href=\"http://www.cnu.cc\"><div id=\"logo\" ></div></a>\n",
      "    </div>\n",
      "    <div class=\"collapse navbar-collapse\">\n",
      "        <ul id=\"navbar\" class=\"nav navbar-nav\">\n",
      "            <li>\n",
      "                <a href=\"http://www.cnu.cc/selectedPage\"><i class=\"myicon icon-home\"></i> <span>首页</span></a>\n",
      "            </li>\n",
      "            <li>\n",
      "                <a href=\"http://www.cnu.cc/inspirationPage/recent-0\"><i class=\"myicon icon-inspiration\"></i> <span>灵感</span></a>\n",
      "            </li>\n",
      "\n",
      "            <li>\n",
      "                <a href=\"http://www.cnu.cc/discoveryPage/hot-0\"><i class=\"myicon icon-discovery\"></i> <span>原创</span></a>\n",
      "            </li>\n",
      "            \n",
      "        </ul>\n",
      "\n",
      "\n",
      "        <ul class=\"nav navbar-nav navbar-right\" style=\"margin-right: 10px;\">\n",
      "<li><form method=\"GET\" action=\"http://www.cnu.cc/search\" accept-charset=\"UTF-8\" id=\"searchForm\" autocomplete=\"off\" role=\"search\" class=\"navbar-form navbar-left\">\n",
      "\n",
      "    <div class=\"search-group\">\n",
      "        <input type=\"text\" id=\"keyword\" value=\"\" class=\"search-control\" placeholder=\"登录后搜索\">\n",
      "    </div>\n",
      "    </form>\n",
      "</li>\n",
      "\n",
      "\n",
      "                <li class=\"dropdown active publishBtn\">\n",
      "                    <a class=\"dropdown-toggle \" id=\"dropdownMenu1\" data-toggle=\"dropdown\" href=\"#\">\n",
      "                         投稿\n",
      "                        <span class=\"caret\"></span>\n",
      "                    </a>\n",
      "                    <ul class=\"dropdown-menu\" role=\"menu\" aria-labelledby=\"dropdownMenu1\">\n",
      "\n",
      "\n",
      "\n",
      "                        <li><a href=\"http://www.cnu.cc/works/create\"> 原创图集</a></li>\n",
      "                        <li><a href=\"http://www.cnu.cc/work/createTutorial\"> 原创教程</a></li>\n",
      "                       \n",
      "                                            </ul>\n",
      "                </li>\n",
      "                            <li ><a href=\"http://www.cnu.cc/signup\">注册</a></li>\n",
      "                <li ><a href=\"http://www.cnu.cc/login\">登录</a></li>\n",
      "            \n",
      "\n",
      "        </ul>\n",
      "    </div>\n",
      "\n",
      "</nav>\n",
      "\n",
      "\n",
      "        \r\n",
      "\r\n",
      "\r\n",
      "      <div style =\"display:none\">\n",
      "         \n",
      "         </div>\n",
      "\n",
      "    <div class=\"page-header second-nav\" >\n",
      "\n",
      "        <ul class=\"container nav nav-pills\">\n",
      "            <li class=\"select\"><a href=\"http://www.cnu.cc/discoveryPage/hot-0\">发现</a></li>\n",
      "            <li ><a href=\"http://www.cnu.cc/activities\">动态</a></li>\n",
      "            <li ><a href=\"http://www.cnu.cc/following\">我的关注</a></li>\n",
      "        </ul>\n",
      "    </div>\n",
      "\n",
      "    <div class=\"container pc\" >\n",
      "        <form method=\"POST\" action=\"http://www.cnu.cc/works/recommend\" accept-charset=\"UTF-8\" id=\"recommendForm\" class=\"recommendForm\"><input name=\"_token\" type=\"hidden\" value=\"lkAixEJNxx5XEAhoMA20gQIHtYy4hrPIyO9NjOuo\">\n",
      "\n",
      "\n",
      "    <div class=\"grid\">\n",
      "        <div class=\"grid-item\">\n",
      "            <div class=\"menu\">\n",
      "                <a href=\"http://www.cnu.cc/discoveryPage/hot-%E4%BA%BA%E5%83%8F\" class='orderType selected'><h3>热门</h3></a>\n",
      "                <a href=\"http://www.cnu.cc/discoveryPage/recommend-%E4%BA%BA%E5%83%8F\" class='orderType '><h3>推荐</h3></a>\n",
      "                <a href=\"http://www.cnu.cc/discoveryPage/recent-%E4%BA%BA%E5%83%8F\" class='orderType '><h3>最新</h3></a>\n",
      "\n",
      "                    <hr>\n",
      "                    <div class=\"all\">\n",
      "                        <a  class=\"category\" category_id=\"0\" href=\"http://www.cnu.cc/discoveryPage/hot-0\"><h4><span class=\"\">全部</span></h4></a>\n",
      "                    </div>\n",
      "                    <div class=\"group row\">\n",
      "                        <a  class=\"category col-xs-6\" category_id=\"220\" href=\"http://www.cnu.cc/discoveryPage/hot-%E4%BA%BA%E5%83%8F\"><span class=\"\">人像</span></a>\n",
      "                        <a  class=\"category col-xs-6\" category_id=\"220\" href=\"http://www.cnu.cc/discoveryPage/hot-%E8%83%B6%E7%89%87\"><span class=\"\">胶片</span></a>\n",
      "                        <a  class=\"category col-xs-6\" category_id=\"220\" href=\"http://www.cnu.cc/discoveryPage/hot-%E8%87%AA%E7%84%B6\"><span class=\"\">自然</span></a>\n",
      "                        <a  class=\"category col-xs-6\" category_id=\"220\" href=\"http://www.cnu.cc/discoveryPage/hot-%E8%89%BA%E6%9C%AF\"><span class=\"\">艺术</span></a>\n",
      "                        <a  class=\"category col-xs-6\" category_id=\"220\" href=\"http://www.cnu.cc/discoveryPage/hot-%E8%A1%97%E9%81%93\"><span class=\"\">街道</span></a>\n",
      "                        <a  class=\"category col-xs-6\" category_id=\"220\" href=\"http://www.cnu.cc/discoveryPage/hot-%E8%A1%A8%E6%BC%94\"><span class=\"\">表演</span></a>\n",
      "                        <a  class=\"category col-xs-6\" category_id=\"220\" href=\"http://www.cnu.cc/discoveryPage/hot-%E9%9D%99%E7%89%A9\"><span class=\"\">静物</span></a>\n",
      "                        <a  class=\"category col-xs-6\" category_id=\"220\" href=\"http://www.cnu.cc/discoveryPage/hot-%E9%A3%8E%E5%85%89\"><span class=\"\">风光</span></a>\n",
      "                        <a  class=\"category col-xs-6\" category_id=\"220\" href=\"http://www.cnu.cc/discoveryPage/hot-%E9%BB%91%E7%99%BD\"><span class=\"\">黑白</span></a>\n",
      "                        <a class=\"category col-xs-6\" category_id=\"220\" href=\"http://www.cnu.cc/discoveryPage/hot-%E6%97%B6%E5%B0%9A\"><span class=\"\">时尚</span></a>\n",
      "                        <a class=\"category col-xs-6\" category_id=\"220\" href=\"http://www.cnu.cc/discoveryPage/hot-%E6%97%85%E8%A1%8C\"><span class=\"\">旅行</span></a>\n",
      "                        <a class=\"category col-xs-6\" category_id=\"220\" href=\"http://www.cnu.cc/discoveryPage/hot-%E6%96%B0%E9%97%BB\"><span class=\"\">新闻</span></a>\n",
      "                        <a class=\"category col-xs-6\" category_id=\"220\" href=\"http://www.cnu.cc/discoveryPage/hot-%E5%8A%A8%E7%89%A9\"><span class=\"\">动物</span></a>\n",
      "                        <a class=\"category col-xs-6\" category_id=\"220\" href=\"http://www.cnu.cc/discoveryPage/hot-%E5%BB%BA%E7%AD%91\"><span class=\"\">建筑</span></a>\n",
      "                        <a  class=\"category col-xs-6\" category_id=\"220\" href=\"http://www.cnu.cc/discoveryPage/hot-%E5%A9%9A%E7%A4%BC\"><span class=\"\">婚礼</span></a>\n",
      "                        <a class=\"category col-xs-6\" category_id=\"220\" href=\"http://www.cnu.cc/discoveryPage/hot-%E5%AE%B6%E5%BA%AD\"><span class=\"\">家庭</span></a>\n",
      "                        <a class=\"category col-xs-6\" category_id=\"220\" href=\"http://www.cnu.cc/discoveryPage/hot-%E5%B9%BF%E5%91%8A\"><span class=\"\">广告</span></a>\n",
      "                        <a class=\"category col-xs-6\" category_id=\"220\" href=\"http://www.cnu.cc/discoveryPage/hot-%E5%BE%AE%E8%B7%9D\"><span class=\"\">微距</span></a>\n",
      "                        <a class=\"category col-xs-6\" category_id=\"220\" href=\"http://www.cnu.cc/discoveryPage/hot-%E6%8A%BD%E8%B1%A1\"><span class=\"\">抽象</span></a>\n",
      "                        <a  class=\"category col-xs-6\" category_id=\"220\" href=\"http://www.cnu.cc/discoveryPage/hot-%E4%BA%BA%E6%96%87\"><span class=\"\">人文</span></a>\n",
      "                    </div>\n",
      "                                </div>\n",
      "\n",
      "            </div>\n",
      "                                                <div class=\"grid-item work-thumbnail\">\n",
      "                    <a href=\"http://www.cnu.cc/works/371297\" class=\"thumbnail\" target=\"_blank\">\n",
      "                        <div class=\"title\">\n",
      "                            Robe de mariée\n",
      "                            </div>\n",
      "                        <div class=\"author\">\n",
      "                            源er爷\n",
      "\n",
      "                        </div>\n",
      "                                                                        <img src=\"http://img.cnu.cc/uploads/images/flow/1909/10/26e15646469b3cd09bd35f1be40bc47c.jpg?width=4000&amp;height=6000\" alt=\"Robe de mariée\">\n",
      "                    </a>\n",
      "                </div>\n",
      "\n",
      "                            <div class=\"grid-item work-thumbnail\">\n",
      "                    <a href=\"http://www.cnu.cc/works/371126\" class=\"thumbnail\" target=\"_blank\">\n",
      "                        <div class=\"title\">\n",
      "                            白夜\n",
      "                            </div>\n",
      "                        <div class=\"author\">\n",
      "                            月降昂\n",
      "\n",
      "                        </div>\n",
      "                                                                        <img src=\"http://img.cnu.cc/uploads/images/flow/1909/08/55182c3bd0163163927abcea282a5f55.jpg?width=1600&amp;height=2240\" alt=\"白夜\">\n",
      "                    </a>\n",
      "                </div>\n",
      "\n",
      "                            <div class=\"grid-item work-thumbnail\">\n",
      "                    <a href=\"http://www.cnu.cc/works/370704\" class=\"thumbnail\" target=\"_blank\">\n",
      "                        <div class=\"title\">\n",
      "                            花鸟后记\n",
      "                            </div>\n",
      "                        <div class=\"author\">\n",
      "                            清水孝正\n",
      "\n",
      "                        </div>\n",
      "                                                                        <img src=\"http://img.cnu.cc/uploads/images/flow/1909/05/255b399024e03474a2743248cf1036aa.jpg?width=6580&amp;height=3701\" alt=\"花鸟后记\">\n",
      "                    </a>\n",
      "                </div>\n",
      "\n",
      "                            <div class=\"grid-item work-thumbnail\">\n",
      "                    <a href=\"http://www.cnu.cc/works/369958\" class=\"thumbnail\" target=\"_blank\">\n",
      "                        <div class=\"title\">\n",
      "                            \"在这片荒原上，没有情感！ “\n",
      "                            </div>\n",
      "                        <div class=\"author\">\n",
      "                            安正圆\n",
      "\n",
      "                        </div>\n",
      "                                                                        <img src=\"http://img.cnu.cc/uploads/images/flow/1908/29/b8bebb3824c93ee8832e5f2dc946d9dc.jpg?width=3155&amp;height=4763\" alt=\"\"在这片荒原上，没有情感！ “\">\n",
      "                    </a>\n",
      "                </div>\n",
      "\n",
      "                            <div class=\"grid-item work-thumbnail\">\n",
      "                    <a href=\"http://www.cnu.cc/works/369460\" class=\"thumbnail\" target=\"_blank\">\n",
      "                        <div class=\"title\">\n",
      "                            \"现在的我，和当初的你一样！如此践踏一切的真心实意。”\n",
      "                            </div>\n",
      "                        <div class=\"author\">\n",
      "                            安正圆\n",
      "\n",
      "                        </div>\n",
      "                                                                        <img src=\"http://img.cnu.cc/uploads/images/flow/1908/25/121284cba4903fbc9856f6c299204883.jpg?width=4928&amp;height=2772\" alt=\"\"现在的我，和当初的你一样！如此践踏一切的真心实意。”\">\n",
      "                    </a>\n",
      "                </div>\n",
      "\n",
      "                            <div class=\"grid-item work-thumbnail\">\n",
      "                    <a href=\"http://www.cnu.cc/works/367713\" class=\"thumbnail\" target=\"_blank\">\n",
      "                        <div class=\"title\">\n",
      "                            “Smoke get in your eyes”\n",
      "                            </div>\n",
      "                        <div class=\"author\">\n",
      "                            安正圆\n",
      "\n",
      "                        </div>\n",
      "                                                                        <img src=\"http://img.cnu.cc/uploads/images/flow/1908/13/ce30ae98b23b3e5a8d060132303750c8.jpg?width=2882&amp;height=4351\" alt=\"“Smoke get in your eyes”\">\n",
      "                    </a>\n",
      "                </div>\n",
      "\n",
      "                            <div class=\"grid-item work-thumbnail\">\n",
      "                    <a href=\"http://www.cnu.cc/works/366922\" class=\"thumbnail\" target=\"_blank\">\n",
      "                        <div class=\"title\">\n",
      "                            瘾\n",
      "                            </div>\n",
      "                        <div class=\"author\">\n",
      "                            米斯特古德卡特\n",
      "\n",
      "                        </div>\n",
      "                                                                        <img src=\"http://img.cnu.cc/uploads/images/flow/1908/07/7106145a44ad387dbc0dd2b686405ea9.jpg?width=5037&amp;height=2833\" alt=\"瘾\">\n",
      "                    </a>\n",
      "                </div>\n",
      "\n",
      "                            <div class=\"grid-item work-thumbnail\">\n",
      "                    <a href=\"http://www.cnu.cc/works/366031\" class=\"thumbnail\" target=\"_blank\">\n",
      "                        <div class=\"title\">\n",
      "                            最后的纪念\n",
      "                            </div>\n",
      "                        <div class=\"author\">\n",
      "                            林喜山\n",
      "\n",
      "                        </div>\n",
      "                                                                        <img src=\"http://img.cnu.cc/uploads/images/flow/1908/01/ec42bd76fbc93f45a1654e43850abfef.jpg?width=1000&amp;height=1500\" alt=\"最后的纪念\">\n",
      "                    </a>\n",
      "                </div>\n",
      "\n",
      "                            <div class=\"grid-item work-thumbnail\">\n",
      "                    <a href=\"http://www.cnu.cc/works/366066\" class=\"thumbnail\" target=\"_blank\">\n",
      "                        <div class=\"title\">\n",
      "                            Little Red Riding Hood\n",
      "                            </div>\n",
      "                        <div class=\"author\">\n",
      "                            鲁子烨\n",
      "\n",
      "                        </div>\n",
      "                                                                        <img src=\"http://img.cnu.cc/uploads/images/flow/1908/01/9f8b2b02dbb73bc5b699918cfbbb9960.jpg?width=1080&amp;height=1512\" alt=\"Little Red Riding Hood\">\n",
      "                    </a>\n",
      "                </div>\n",
      "\n",
      "                            <div class=\"grid-item work-thumbnail\">\n",
      "                    <a href=\"http://www.cnu.cc/works/364609\" class=\"thumbnail\" target=\"_blank\">\n",
      "                        <div class=\"title\">\n",
      "                            IMPETUOUS.\n",
      "                            </div>\n",
      "                        <div class=\"author\">\n",
      "                            快门怪咖\n",
      "\n",
      "                        </div>\n",
      "                                                                        <img src=\"http://img.cnu.cc/uploads/images/flow/1907/23/64603963141735a08d0624d34e303c08.jpg?width=2832&amp;height=4240\" alt=\"IMPETUOUS.\">\n",
      "                    </a>\n",
      "                </div>\n",
      "\n",
      "                            <div class=\"grid-item work-thumbnail\">\n",
      "                    <a href=\"http://www.cnu.cc/works/363572\" class=\"thumbnail\" target=\"_blank\">\n",
      "                        <div class=\"title\">\n",
      "                            安全出口\n",
      "                            </div>\n",
      "                        <div class=\"author\">\n",
      "                            月降昂\n",
      "\n",
      "                        </div>\n",
      "                                                                        <img src=\"http://img.cnu.cc/uploads/images/flow/1907/17/bc6e13c98b4531c8a74820a369911546.jpg?width=1600&amp;height=2400\" alt=\"安全出口\">\n",
      "                    </a>\n",
      "                </div>\n",
      "\n",
      "                            <div class=\"grid-item work-thumbnail\">\n",
      "                    <a href=\"http://www.cnu.cc/works/360384\" class=\"thumbnail\" target=\"_blank\">\n",
      "                        <div class=\"title\">\n",
      "                            “日落前夕。”\n",
      "                            </div>\n",
      "                        <div class=\"author\">\n",
      "                            快门怪咖\n",
      "\n",
      "                        </div>\n",
      "                                                                        <img src=\"http://img.cnu.cc/uploads/images/flow/1906/25/9151514aca7b35ada577731713362d54.jpg?width=4109&amp;height=2744\" alt=\"“日落前夕。”\">\n",
      "                    </a>\n",
      "                </div>\n",
      "\n",
      "                            <div class=\"grid-item work-thumbnail\">\n",
      "                    <a href=\"http://www.cnu.cc/works/360612\" class=\"thumbnail\" target=\"_blank\">\n",
      "                        <div class=\"title\">\n",
      "                            溪水探险\n",
      "                            </div>\n",
      "                        <div class=\"author\">\n",
      "                            宣大咕\n",
      "\n",
      "                        </div>\n",
      "                                                                        <img src=\"http://img.cnu.cc/uploads/images/flow/1906/27/d0a3820c29763dc98d59929482068624.jpg?width=3525&amp;height=5287\" alt=\"溪水探险\">\n",
      "                    </a>\n",
      "                </div>\n",
      "\n",
      "                            <div class=\"grid-item work-thumbnail\">\n",
      "                    <a href=\"http://www.cnu.cc/works/359811\" class=\"thumbnail\" target=\"_blank\">\n",
      "                        <div class=\"title\">\n",
      "                            Flora \n",
      "                            </div>\n",
      "                        <div class=\"author\">\n",
      "                            月降昂\n",
      "\n",
      "                        </div>\n",
      "                                                                        <img src=\"http://img.cnu.cc/uploads/images/flow/1906/22/e8a4c65f05033baba0c94bd383d109ca.jpg?width=1600&amp;height=1066\" alt=\"Flora \">\n",
      "                    </a>\n",
      "                </div>\n",
      "\n",
      "                            <div class=\"grid-item work-thumbnail\">\n",
      "                    <a href=\"http://www.cnu.cc/works/359586\" class=\"thumbnail\" target=\"_blank\">\n",
      "                        <div class=\"title\">\n",
      "                            差旅人\n",
      "                            </div>\n",
      "                        <div class=\"author\">\n",
      "                            月降昂\n",
      "\n",
      "                        </div>\n",
      "                                                                        <img src=\"http://img.cnu.cc/uploads/images/flow/1906/20/64c056b5dd7d365f8a16d037642a2703.jpg?width=1600&amp;height=2400\" alt=\"差旅人\">\n",
      "                    </a>\n",
      "                </div>\n",
      "\n",
      "                            <div class=\"grid-item work-thumbnail\">\n",
      "                    <a href=\"http://www.cnu.cc/works/358747\" class=\"thumbnail\" target=\"_blank\">\n",
      "                        <div class=\"title\">\n",
      "                            Marry in blue  Lover be true\n",
      "                            </div>\n",
      "                        <div class=\"author\">\n",
      "                            鲁子烨\n",
      "\n",
      "                        </div>\n",
      "                                                                        <img src=\"http://img.cnu.cc/uploads/images/flow/1906/14/98522f2a6af83ed88098984b108695fe.jpg?width=1080&amp;height=1512\" alt=\"Marry in blue  Lover be true\">\n",
      "                    </a>\n",
      "                </div>\n",
      "\n",
      "                            <div class=\"grid-item work-thumbnail\">\n",
      "                    <a href=\"http://www.cnu.cc/works/356574\" class=\"thumbnail\" target=\"_blank\">\n",
      "                        <div class=\"title\">\n",
      "                            童趣or童酷\n",
      "                            </div>\n",
      "                        <div class=\"author\">\n",
      "                            爬pazheng\n",
      "\n",
      "                        </div>\n",
      "                                                                        <img src=\"http://img.cnu.cc/uploads/images/flow/1905/29/c1753eab37303d04af4f5d50a1309457.jpg?width=3840&amp;height=5760\" alt=\"童趣or童酷\">\n",
      "                    </a>\n",
      "                </div>\n",
      "\n",
      "                            <div class=\"grid-item work-thumbnail\">\n",
      "                    <a href=\"http://www.cnu.cc/works/356429\" class=\"thumbnail\" target=\"_blank\">\n",
      "                        <div class=\"title\">\n",
      "                            旧照记录册\n",
      "                            </div>\n",
      "                        <div class=\"author\">\n",
      "                            月降昂\n",
      "\n",
      "                        </div>\n",
      "                                                                        <img src=\"http://img.cnu.cc/uploads/images/flow/1905/28/0ae5865920c0395c9e30c8641a311d7e.jpg?width=1600&amp;height=900\" alt=\"旧照记录册\">\n",
      "                    </a>\n",
      "                </div>\n",
      "\n",
      "                            <div class=\"grid-item work-thumbnail\">\n",
      "                    <a href=\"http://www.cnu.cc/works/355057\" class=\"thumbnail\" target=\"_blank\">\n",
      "                        <div class=\"title\">\n",
      "                            47\n",
      "                            </div>\n",
      "                        <div class=\"author\">\n",
      "                            米斯特古德卡特\n",
      "\n",
      "                        </div>\n",
      "                                                                        <img src=\"http://img.cnu.cc/uploads/images/flow/1905/24/ceb39ba7501c3cdd9f6f3d39c602958a.jpg?width=6412&amp;height=3816\" alt=\"47\">\n",
      "                    </a>\n",
      "                </div>\n",
      "\n",
      "                            <div class=\"grid-item work-thumbnail\">\n",
      "                    <a href=\"http://www.cnu.cc/works/354262\" class=\"thumbnail\" target=\"_blank\">\n",
      "                        <div class=\"title\">\n",
      "                            病鱼枯鹤\n",
      "                            </div>\n",
      "                        <div class=\"author\">\n",
      "                            三更过客\n",
      "\n",
      "                        </div>\n",
      "                                                                        <img src=\"http://img.cnu.cc/uploads/images/flow/1905/15/919ef99e372e36e6a8c23aef0cde3afa.jpg?width=920&amp;height=1374\" alt=\"病鱼枯鹤\">\n",
      "                    </a>\n",
      "                </div>\n",
      "\n",
      "                            <div class=\"grid-item work-thumbnail\">\n",
      "                    <a href=\"http://www.cnu.cc/works/354367\" class=\"thumbnail\" target=\"_blank\">\n",
      "                        <div class=\"title\">\n",
      "                            山涧漫游\n",
      "                            </div>\n",
      "                        <div class=\"author\">\n",
      "                            creep2\n",
      "\n",
      "                        </div>\n",
      "                                                                        <img src=\"http://img.cnu.cc/uploads/images/flow/1905/15/c1bf01ce07343581a947badfb37706fc.jpg?width=920&amp;height=1150\" alt=\"山涧漫游\">\n",
      "                    </a>\n",
      "                </div>\n",
      "\n",
      "                            <div class=\"grid-item work-thumbnail\">\n",
      "                    <a href=\"http://www.cnu.cc/works/354003\" class=\"thumbnail\" target=\"_blank\">\n",
      "                        <div class=\"title\">\n",
      "                            \"你知道不知道”\n",
      "                            </div>\n",
      "                        <div class=\"author\">\n",
      "                            安正圆\n",
      "\n",
      "                        </div>\n",
      "                                                                        <img src=\"http://img.cnu.cc/uploads/images/flow/1905/13/6033fa01cce7300087c74c0dc4f7a92a.jpg?width=2409&amp;height=3578\" alt=\"\"你知道不知道”\">\n",
      "                    </a>\n",
      "                </div>\n",
      "\n",
      "                            <div class=\"grid-item work-thumbnail\">\n",
      "                    <a href=\"http://www.cnu.cc/works/353410\" class=\"thumbnail\" target=\"_blank\">\n",
      "                        <div class=\"title\">\n",
      "                            秀\n",
      "                            </div>\n",
      "                        <div class=\"author\">\n",
      "                            米斯特古德卡特\n",
      "\n",
      "                        </div>\n",
      "                                                                        <img src=\"http://img.cnu.cc/uploads/images/flow/1905/09/354467d879e1316395e069abb9376788.jpg?width=2857&amp;height=4000\" alt=\"秀\">\n",
      "                    </a>\n",
      "                </div>\n",
      "\n",
      "                            <div class=\"grid-item work-thumbnail\">\n",
      "                    <a href=\"http://www.cnu.cc/works/353459\" class=\"thumbnail\" target=\"_blank\">\n",
      "                        <div class=\"title\">\n",
      "                            \"今生缘不尽”\n",
      "                            </div>\n",
      "                        <div class=\"author\">\n",
      "                            安正圆\n",
      "\n",
      "                        </div>\n",
      "                                                                        <img src=\"http://img.cnu.cc/uploads/images/flow/1905/12/5a1b139285623b56aa9c7002ce45e69c.jpg?width=3514&amp;height=1976\" alt=\"\"今生缘不尽”\">\n",
      "                    </a>\n",
      "                </div>\n",
      "\n",
      "                            <div class=\"grid-item work-thumbnail\">\n",
      "                    <a href=\"http://www.cnu.cc/works/351070\" class=\"thumbnail\" target=\"_blank\">\n",
      "                        <div class=\"title\">\n",
      "                            \"广州森林“\n",
      "                            </div>\n",
      "                        <div class=\"author\">\n",
      "                            安正圆\n",
      "\n",
      "                        </div>\n",
      "                                                                        <img src=\"http://img.cnu.cc/uploads/images/flow/1904/26/b0bb0ccad62b3b1992f4d4249433c528.jpg?width=2983&amp;height=1678\" alt=\"\"广州森林“\">\n",
      "                    </a>\n",
      "                </div>\n",
      "\n",
      "                            <div class=\"grid-item work-thumbnail\">\n",
      "                    <a href=\"http://www.cnu.cc/works/350775\" class=\"thumbnail\" target=\"_blank\">\n",
      "                        <div class=\"title\">\n",
      "                            天真有邪\n",
      "                            </div>\n",
      "                        <div class=\"author\">\n",
      "                            小泽Leo_\n",
      "\n",
      "                        </div>\n",
      "                                                                        <img src=\"http://img.cnu.cc/uploads/images/flow/1904/24/2788933e52343243a588176ffe73796b.jpg?width=1080&amp;height=1620\" alt=\"天真有邪\">\n",
      "                    </a>\n",
      "                </div>\n",
      "\n",
      "                            <div class=\"grid-item work-thumbnail\">\n",
      "                    <a href=\"http://www.cnu.cc/works/350089\" class=\"thumbnail\" target=\"_blank\">\n",
      "                        <div class=\"title\">\n",
      "                            \"在初恋结束的那个雨季“\n",
      "                            </div>\n",
      "                        <div class=\"author\">\n",
      "                            安正圆\n",
      "\n",
      "                        </div>\n",
      "                                                                        <img src=\"http://img.cnu.cc/uploads/images/flow/1904/20/184b8e52143e3176b8051eacba93d7ba.jpg?width=3242&amp;height=1824\" alt=\"\"在初恋结束的那个雨季“\">\n",
      "                    </a>\n",
      "                </div>\n",
      "\n",
      "                            <div class=\"grid-item work-thumbnail\">\n",
      "                    <a href=\"http://www.cnu.cc/works/349722\" class=\"thumbnail\" target=\"_blank\">\n",
      "                        <div class=\"title\">\n",
      "                            丹丹丹\n",
      "                            </div>\n",
      "                        <div class=\"author\">\n",
      "                            腾不疼啊\n",
      "\n",
      "                        </div>\n",
      "                                                                        <img src=\"http://img.cnu.cc/uploads/images/flow/1904/18/2c40c4d7783638dfaac6e24e05d501d8.jpg?width=5616&amp;height=3744\" alt=\"丹丹丹\">\n",
      "                    </a>\n",
      "                </div>\n",
      "\n",
      "                            <div class=\"grid-item work-thumbnail\">\n",
      "                    <a href=\"http://www.cnu.cc/works/338160\" class=\"thumbnail\" target=\"_blank\">\n",
      "                        <div class=\"title\">\n",
      "                            《某处》\n",
      "                            </div>\n",
      "                        <div class=\"author\">\n",
      "                            桃质\n",
      "\n",
      "                        </div>\n",
      "                                                                        <img src=\"http://img.cnu.cc/uploads/images/flow/1903/19/8dbe7a3b6aa33d21a716c131a6ccc8b1.jpg?width=3165&amp;height=2110\" alt=\"《某处》\">\n",
      "                    </a>\n",
      "                </div>\n",
      "\n",
      "                            <div class=\"grid-item work-thumbnail\">\n",
      "                    <a href=\"http://www.cnu.cc/works/336928\" class=\"thumbnail\" target=\"_blank\">\n",
      "                        <div class=\"title\">\n",
      "                            无关痛痒\n",
      "                            </div>\n",
      "                        <div class=\"author\">\n",
      "                            无趣铭\n",
      "\n",
      "                        </div>\n",
      "                                                                        <img src=\"http://img.cnu.cc/uploads/images/flow/1903/12/8de9912061873fcca4267ae6d8d1e522.jpg?width=1472&amp;height=1920\" alt=\"无关痛痒\">\n",
      "                    </a>\n",
      "                </div>\n",
      "\n",
      "                            <div class=\"grid-item work-thumbnail\">\n",
      "                    <a href=\"http://www.cnu.cc/works/336905\" class=\"thumbnail\" target=\"_blank\">\n",
      "                        <div class=\"title\">\n",
      "                            女孩与花\n",
      "                            </div>\n",
      "                        <div class=\"author\">\n",
      "                            Serendipity_zx\n",
      "\n",
      "                        </div>\n",
      "                                                                        <img src=\"http://img.cnu.cc/uploads/images/flow/1903/12/78a5a446f12e38bcbc347cd0956650c7.jpg?width=920&amp;height=1466\" alt=\"女孩与花\">\n",
      "                    </a>\n",
      "                </div>\n",
      "\n",
      "                            <div class=\"grid-item work-thumbnail\">\n",
      "                    <a href=\"http://www.cnu.cc/works/335746\" class=\"thumbnail\" target=\"_blank\">\n",
      "                        <div class=\"title\">\n",
      "                            \"摄影里的民谣爱情故事”\n",
      "                            </div>\n",
      "                        <div class=\"author\">\n",
      "                            安正圆\n",
      "\n",
      "                        </div>\n",
      "                                                                        <img src=\"http://img.cnu.cc/uploads/images/flow/1903/05/45a69eb60a3e3e93beddbf900178210e.jpg?width=2400&amp;height=1350\" alt=\"\"摄影里的民谣爱情故事”\">\n",
      "                    </a>\n",
      "                </div>\n",
      "\n",
      "                            <div class=\"grid-item work-thumbnail\">\n",
      "                    <a href=\"http://www.cnu.cc/works/335224\" class=\"thumbnail\" target=\"_blank\">\n",
      "                        <div class=\"title\">\n",
      "                            不渝\n",
      "                            </div>\n",
      "                        <div class=\"author\">\n",
      "                            拍照的古德卡特\n",
      "\n",
      "                        </div>\n",
      "                                                                        <img src=\"http://img.cnu.cc/uploads/images/flow/1903/05/f26d24119f283f5cbc5d8a3ae11b2ed2.jpg?width=2872&amp;height=3869\" alt=\"不渝\">\n",
      "                    </a>\n",
      "                </div>\n",
      "\n",
      "                            <div class=\"grid-item work-thumbnail\">\n",
      "                    <a href=\"http://www.cnu.cc/works/334692\" class=\"thumbnail\" target=\"_blank\">\n",
      "                        <div class=\"title\">\n",
      "                            妖怪也喜欢小朋友啊\n",
      "                            </div>\n",
      "                        <div class=\"author\">\n",
      "                            食物的小剧场\n",
      "\n",
      "                        </div>\n",
      "                                                                        <img src=\"http://img.cnu.cc/uploads/images/flow/1902/27/36091f982de63833bd39a0bf26d477d7.jpg?width=4896&amp;height=3264\" alt=\"妖怪也喜欢小朋友啊\">\n",
      "                    </a>\n",
      "                </div>\n",
      "\n",
      "                            <div class=\"grid-item work-thumbnail\">\n",
      "                    <a href=\"http://www.cnu.cc/works/333806\" class=\"thumbnail\" target=\"_blank\">\n",
      "                        <div class=\"title\">\n",
      "                            一颗草莓。\n",
      "                            </div>\n",
      "                        <div class=\"author\">\n",
      "                            蔬茉\n",
      "\n",
      "                        </div>\n",
      "                                                                        <img src=\"http://img.cnu.cc/uploads/images/flow/1902/21/85087fc9bfee3cd4b3ffb8cad1af398a.jpg?width=1000&amp;height=1620\" alt=\"一颗草莓。\">\n",
      "                    </a>\n",
      "                </div>\n",
      "\n",
      "                            <div class=\"grid-item work-thumbnail\">\n",
      "                    <a href=\"http://www.cnu.cc/works/333607\" class=\"thumbnail\" target=\"_blank\">\n",
      "                        <div class=\"title\">\n",
      "                            住在村里的人\n",
      "                            </div>\n",
      "                        <div class=\"author\">\n",
      "                            食物的小剧场\n",
      "\n",
      "                        </div>\n",
      "                                                                        <img src=\"http://img.cnu.cc/uploads/images/flow/1902/20/a3473448e65437ecbfa4151b1437dd78.jpg?width=4896&amp;height=3264\" alt=\"住在村里的人\">\n",
      "                    </a>\n",
      "                </div>\n",
      "\n",
      "                            <div class=\"grid-item work-thumbnail\">\n",
      "                    <a href=\"http://www.cnu.cc/works/332291\" class=\"thumbnail\" target=\"_blank\">\n",
      "                        <div class=\"title\">\n",
      "                            #On the STREET of daylight. \n",
      "                            </div>\n",
      "                        <div class=\"author\">\n",
      "                            摄影师Gin\n",
      "\n",
      "                        </div>\n",
      "                                                                        <img src=\"http://img.cnu.cc/uploads/images/flow/1902/12/aa5c7cb485813dd3bebe9c0204364f58.jpg?width=893&amp;height=1339\" alt=\"#On the STREET of daylight. \">\n",
      "                    </a>\n",
      "                </div>\n",
      "\n",
      "                            <div class=\"grid-item work-thumbnail\">\n",
      "                    <a href=\"http://www.cnu.cc/works/332289\" class=\"thumbnail\" target=\"_blank\">\n",
      "                        <div class=\"title\">\n",
      "                            《流浪又自由》\n",
      "                            </div>\n",
      "                        <div class=\"author\">\n",
      "                            寒photo\n",
      "\n",
      "                        </div>\n",
      "                                                                        <img src=\"http://img.cnu.cc/uploads/images/flow/1902/12/7134e5470a6038f39260c9e0874ae6fc.jpg?width=1417&amp;height=944\" alt=\"《流浪又自由》\">\n",
      "                    </a>\n",
      "                </div>\n",
      "\n",
      "                            <div class=\"grid-item work-thumbnail\">\n",
      "                    <a href=\"http://www.cnu.cc/works/332090\" class=\"thumbnail\" target=\"_blank\">\n",
      "                        <div class=\"title\">\n",
      "                            黑白肖像\n",
      "                            </div>\n",
      "                        <div class=\"author\">\n",
      "                            两脚兽\n",
      "\n",
      "                        </div>\n",
      "                                                                        <img src=\"http://img.cnu.cc/uploads/images/flow/1902/10/d085e51540ea3fd6a7bf29f8f33612d4.jpg?width=5165&amp;height=7747\" alt=\"黑白肖像\">\n",
      "                    </a>\n",
      "                </div>\n",
      "\n",
      "                            <div class=\"grid-item work-thumbnail\">\n",
      "                    <a href=\"http://www.cnu.cc/works/331443\" class=\"thumbnail\" target=\"_blank\">\n",
      "                        <div class=\"title\">\n",
      "                            FRONT风尚周刊 X 吴莫愁\n",
      "                            </div>\n",
      "                        <div class=\"author\">\n",
      "                            MeirJin\n",
      "\n",
      "                        </div>\n",
      "                                                                        <img src=\"http://img.cnu.cc/uploads/images/flow/1902/03/f3542eac8b9c3d59b8cf430ced080584.jpg?width=4480&amp;height=6720\" alt=\"FRONT风尚周刊 X 吴莫愁\">\n",
      "                    </a>\n",
      "                </div>\n",
      "\n",
      "                    \n",
      "        </div>\n",
      "\n",
      "            </form>\n",
      "\n",
      "        <div class=\"pager_box\">\n",
      "            \n",
      "                <ul class=\"pagination\">\n",
      "\t\t\t<li class=\"disabled\"><span>&laquo;</span></li><li class=\"active\"><span>1</span></li><li><a href=\"http://www.cnu.cc/discoveryPage/hot-%E4%BA%BA%E5%83%8F?page=2\">2</a></li><li><a href=\"http://www.cnu.cc/discoveryPage/hot-%E4%BA%BA%E5%83%8F?page=2\" rel=\"next\">&raquo;</a></li>\t</ul>\n",
      "\n",
      "                    </div>\n",
      "\n",
      "\n",
      "    </div>\n",
      "    <!--\n",
      "        <div class=\"view-mask\"></div>\n",
      "        <div class=\"view\">\n",
      "            <div class=\"view-header\">\n",
      "                <span class=\"title\">图片标题1</span>\n",
      "\n",
      "                <div class=\"right\">\n",
      "                    <span class=\"icon-a share\"></span>\n",
      "                    <span class=\"vote\"><span class=\"icon-a\"></span><span>投一票</span></span>\n",
      "                    <span class=\"icon-a tip-l\"></span>\n",
      "                    <span class=\"icon-a tip-r\"></span>\n",
      "                    <div class=\"float-l\">\n",
      "                        <span class=\"icon-b close\"></span>\n",
      "                        <span class=\"icon-b big\"></span>\n",
      "                    </div>\n",
      "                </div>\n",
      "            </div>\n",
      "            <div class=\"view-box\">\n",
      "\n",
      "                <div class=\"multi\" ></div>\n",
      "\n",
      "            </div>\n",
      "\n",
      "            <div  class=\"view-list\">\n",
      "                <ul></ul>\n",
      "            </div>\n",
      "        </div>-->\n",
      "    \r\n",
      "\r\n",
      "\r\n",
      "\r\n",
      "\r\n",
      "\r\n",
      "  \r\n",
      "    <div class=\"pageFooter\">\r\n",
      "        <span>@ CNU视觉联盟（www.cnu.cc）</span><span><a target=\"_blank\" href=\"http://www.miitbeian.gov.cn/\" style=\"color:#666666\">粤ICP备10023979号-3</a></span>\r\n",
      "\r\n",
      "  </div>\r\n",
      "  </body>\r\n",
      "  <!--\r\n",
      "    <script src=\"http://cdnjs.cloudflare.com/ajax/libs/jquery/1.11.3/jquery.js\"></script>\r\n",
      "    <script src=\"http://cdnjs.cloudflare.com/ajax/libs/twitter-bootstrap/3.3.5/js/bootstrap.js\"></script>\r\n",
      "    <script src=\"http://cdnjs.cloudflare.com/ajax/libs/moment.js/2.8.3/moment.js\"></script>\r\n",
      "-->\r\n",
      "  <script src=\"http://img.cnu.cc/assets/scripts/lib/jquery.js\"></script>\r\n",
      "  <script src=\"http://img.cnu.cc/assets/scripts/lib/bootstrap.js\"></script>\r\n",
      "  <script src=\"http://img.cnu.cc/assets/scripts/lib/moment.js\"></script>\r\n",
      "    <script src=\"http://img.cnu.cc/assets/scripts/jquery.pjax.js\"></script>\r\n",
      "    <script src=\"http://img.cnu.cc/assets/scripts/jquery.scrollUp.js\"></script>\r\n",
      "    <script src=\"http://img.cnu.cc/assets/scripts/nprogress.js\"></script>\r\n",
      "    <script src=\"http://img.cnu.cc/assets/scripts/main.js\"></script>\r\n",
      "\r\n",
      "            <script>\n",
      "            var category = \"人像\";\n",
      "            if(category==\"0\"){\n",
      "                $(\".menu .all span\").addClass(\"badge\");\n",
      "            }else{\n",
      "                $(\".menu .group span\").each(function(){\n",
      "                    if($(this).text()==category){\n",
      "                        $(this).addClass(\"badge\");\n",
      "                        return;\n",
      "                    }\n",
      "                });\n",
      "            }\n",
      "        </script>\n",
      "        <script type=\"text/javascript\" src=\"http://img.cnu.cc/assets/scripts/user_index.js\"></script>\n",
      "        <script type=\"text/javascript\" src=\"http://img.cnu.cc/assets/scripts/lib/unslider.min.js\"></script>\n",
      "        <script type=\"text/javascript\" src=\"http://img.cnu.cc/assets/masonry/masonry.pkgd.min.js\"></script>\n",
      "        <script type=\"text/javascript\" src=\"http://img.cnu.cc/assets/scripts/imagesLoaded.min.js\"></script>\n",
      "        <script >\n",
      "            $(\"#navbar li\")[2].className = \"active\";\n",
      "\n",
      "            var cdn = \"http://img.cnu.cc/uploads/images/\";\n",
      "            var works=new Array();\n",
      "            var workIDs=new Array();\n",
      "\n",
      "\n",
      "            $('.banner').unslider({\n",
      "                speed: 500,               //  The speed to animate each slide (in milliseconds)\n",
      "                delay: 5000,              //  The delay between slide animations (in milliseconds)\n",
      "                complete: function() {},  //  A function that gets called after every slide animation\n",
      "                keys: true,               //  Enable keyboard (left, right) arrow shortcuts\n",
      "                dots: true,               //  Display dot navigation\n",
      "                fluid: false,              //  Support responsive design. May break non-responsive designs\n",
      "                arrows:true\n",
      "            }).hover(function(){\n",
      "                $(this).find(\".arrow\").show();\n",
      "            },function(){\n",
      "                $(this).find(\".arrow\").hide();\n",
      "            });\n",
      "\n",
      "\n",
      "\n",
      "            $(document).ready(function() {\n",
      "\n",
      "\n",
      "                var $grid = $('.grid').imagesLoaded(function () {\n",
      "\n",
      "                    // init Masonry after all images have loaded\n",
      "                    $grid.masonry({\n",
      "                        itemSelector: '.grid-item'\n",
      "                    });\n",
      "\n",
      "                });\n",
      "\n",
      "            });\n",
      "\n",
      "\n",
      "            Array.prototype.contains = function(item){\n",
      "                return RegExp(\"\\\\b\"+item+\"\\\\b\").test(this);\n",
      "            };\n",
      "\n",
      "\n",
      "\n",
      "\n",
      "        </script>\n",
      "\n",
      "        <script type=\"text/javascript\" src=\"http://img.cnu.cc/assets/scripts/public.js\"></script>\n",
      "\n",
      "      \n",
      "<script>\n",
      "\n",
      "    $(\"#searchForm\").submit(function(){\n",
      "        var input = $(this).find(\"#keyword\");\n",
      "        var keyword =input.val();\n",
      "        if($.trim(keyword)==\"\"){\n",
      "            return false;\n",
      "        }\n",
      "        $(this).attr(\"action\",$(this).attr(\"action\")+\"/\"+keyword);\n",
      "\n",
      "    });\n",
      "    </script>\n",
      "\n",
      "\r\n",
      "\r\n",
      "\r\n",
      "</html>\r\n",
      "\n"
     ]
    }
   ],
   "source": [
    "import requests\n",
    "import re\n",
    "\n",
    "content = requests.get('http://www.cnu.cc/discoveryPage/hot-人像').text\n",
    "print(content)"
   ]
  },
  {
   "cell_type": "code",
   "execution_count": 67,
   "metadata": {},
   "outputs": [
    {
     "data": {
      "text/plain": [
       "[('\\n                            Robe de mariée\\n                            ',\n",
       "  '\\n                            源er爷\\n\\n                        ',\n",
       "  'http://img.cnu.cc/uploads/images/flow/1909/10/26e15646469b3cd09bd35f1be40bc47c.jpg?width=4000&amp;height=6000'),\n",
       " ('\\n                            白夜\\n                            ',\n",
       "  '\\n                            月降昂\\n\\n                        ',\n",
       "  'http://img.cnu.cc/uploads/images/flow/1909/08/55182c3bd0163163927abcea282a5f55.jpg?width=1600&amp;height=2240'),\n",
       " ('\\n                            花鸟后记\\n                            ',\n",
       "  '\\n                            清水孝正\\n\\n                        ',\n",
       "  'http://img.cnu.cc/uploads/images/flow/1909/05/255b399024e03474a2743248cf1036aa.jpg?width=6580&amp;height=3701'),\n",
       " ('\\n                            \"在这片荒原上，没有情感！ “\\n                            ',\n",
       "  '\\n                            安正圆\\n\\n                        ',\n",
       "  'http://img.cnu.cc/uploads/images/flow/1908/29/b8bebb3824c93ee8832e5f2dc946d9dc.jpg?width=3155&amp;height=4763'),\n",
       " ('\\n                            \"现在的我，和当初的你一样！如此践踏一切的真心实意。”\\n                            ',\n",
       "  '\\n                            安正圆\\n\\n                        ',\n",
       "  'http://img.cnu.cc/uploads/images/flow/1908/25/121284cba4903fbc9856f6c299204883.jpg?width=4928&amp;height=2772'),\n",
       " ('\\n                            “Smoke get in your eyes”\\n                            ',\n",
       "  '\\n                            安正圆\\n\\n                        ',\n",
       "  'http://img.cnu.cc/uploads/images/flow/1908/13/ce30ae98b23b3e5a8d060132303750c8.jpg?width=2882&amp;height=4351'),\n",
       " ('\\n                            瘾\\n                            ',\n",
       "  '\\n                            米斯特古德卡特\\n\\n                        ',\n",
       "  'http://img.cnu.cc/uploads/images/flow/1908/07/7106145a44ad387dbc0dd2b686405ea9.jpg?width=5037&amp;height=2833'),\n",
       " ('\\n                            最后的纪念\\n                            ',\n",
       "  '\\n                            林喜山\\n\\n                        ',\n",
       "  'http://img.cnu.cc/uploads/images/flow/1908/01/ec42bd76fbc93f45a1654e43850abfef.jpg?width=1000&amp;height=1500'),\n",
       " ('\\n                            Little Red Riding Hood\\n                            ',\n",
       "  '\\n                            鲁子烨\\n\\n                        ',\n",
       "  'http://img.cnu.cc/uploads/images/flow/1908/01/9f8b2b02dbb73bc5b699918cfbbb9960.jpg?width=1080&amp;height=1512'),\n",
       " ('\\n                            IMPETUOUS.\\n                            ',\n",
       "  '\\n                            快门怪咖\\n\\n                        ',\n",
       "  'http://img.cnu.cc/uploads/images/flow/1907/23/64603963141735a08d0624d34e303c08.jpg?width=2832&amp;height=4240'),\n",
       " ('\\n                            安全出口\\n                            ',\n",
       "  '\\n                            月降昂\\n\\n                        ',\n",
       "  'http://img.cnu.cc/uploads/images/flow/1907/17/bc6e13c98b4531c8a74820a369911546.jpg?width=1600&amp;height=2400'),\n",
       " ('\\n                            “日落前夕。”\\n                            ',\n",
       "  '\\n                            快门怪咖\\n\\n                        ',\n",
       "  'http://img.cnu.cc/uploads/images/flow/1906/25/9151514aca7b35ada577731713362d54.jpg?width=4109&amp;height=2744'),\n",
       " ('\\n                            溪水探险\\n                            ',\n",
       "  '\\n                            宣大咕\\n\\n                        ',\n",
       "  'http://img.cnu.cc/uploads/images/flow/1906/27/d0a3820c29763dc98d59929482068624.jpg?width=3525&amp;height=5287'),\n",
       " ('\\n                            Flora \\n                            ',\n",
       "  '\\n                            月降昂\\n\\n                        ',\n",
       "  'http://img.cnu.cc/uploads/images/flow/1906/22/e8a4c65f05033baba0c94bd383d109ca.jpg?width=1600&amp;height=1066'),\n",
       " ('\\n                            差旅人\\n                            ',\n",
       "  '\\n                            月降昂\\n\\n                        ',\n",
       "  'http://img.cnu.cc/uploads/images/flow/1906/20/64c056b5dd7d365f8a16d037642a2703.jpg?width=1600&amp;height=2400'),\n",
       " ('\\n                            Marry in blue  Lover be true\\n                            ',\n",
       "  '\\n                            鲁子烨\\n\\n                        ',\n",
       "  'http://img.cnu.cc/uploads/images/flow/1906/14/98522f2a6af83ed88098984b108695fe.jpg?width=1080&amp;height=1512'),\n",
       " ('\\n                            童趣or童酷\\n                            ',\n",
       "  '\\n                            爬pazheng\\n\\n                        ',\n",
       "  'http://img.cnu.cc/uploads/images/flow/1905/29/c1753eab37303d04af4f5d50a1309457.jpg?width=3840&amp;height=5760'),\n",
       " ('\\n                            旧照记录册\\n                            ',\n",
       "  '\\n                            月降昂\\n\\n                        ',\n",
       "  'http://img.cnu.cc/uploads/images/flow/1905/28/0ae5865920c0395c9e30c8641a311d7e.jpg?width=1600&amp;height=900'),\n",
       " ('\\n                            47\\n                            ',\n",
       "  '\\n                            米斯特古德卡特\\n\\n                        ',\n",
       "  'http://img.cnu.cc/uploads/images/flow/1905/24/ceb39ba7501c3cdd9f6f3d39c602958a.jpg?width=6412&amp;height=3816'),\n",
       " ('\\n                            病鱼枯鹤\\n                            ',\n",
       "  '\\n                            三更过客\\n\\n                        ',\n",
       "  'http://img.cnu.cc/uploads/images/flow/1905/15/919ef99e372e36e6a8c23aef0cde3afa.jpg?width=920&amp;height=1374'),\n",
       " ('\\n                            山涧漫游\\n                            ',\n",
       "  '\\n                            creep2\\n\\n                        ',\n",
       "  'http://img.cnu.cc/uploads/images/flow/1905/15/c1bf01ce07343581a947badfb37706fc.jpg?width=920&amp;height=1150'),\n",
       " ('\\n                            \"你知道不知道”\\n                            ',\n",
       "  '\\n                            安正圆\\n\\n                        ',\n",
       "  'http://img.cnu.cc/uploads/images/flow/1905/13/6033fa01cce7300087c74c0dc4f7a92a.jpg?width=2409&amp;height=3578'),\n",
       " ('\\n                            秀\\n                            ',\n",
       "  '\\n                            米斯特古德卡特\\n\\n                        ',\n",
       "  'http://img.cnu.cc/uploads/images/flow/1905/09/354467d879e1316395e069abb9376788.jpg?width=2857&amp;height=4000'),\n",
       " ('\\n                            \"今生缘不尽”\\n                            ',\n",
       "  '\\n                            安正圆\\n\\n                        ',\n",
       "  'http://img.cnu.cc/uploads/images/flow/1905/12/5a1b139285623b56aa9c7002ce45e69c.jpg?width=3514&amp;height=1976'),\n",
       " ('\\n                            \"广州森林“\\n                            ',\n",
       "  '\\n                            安正圆\\n\\n                        ',\n",
       "  'http://img.cnu.cc/uploads/images/flow/1904/26/b0bb0ccad62b3b1992f4d4249433c528.jpg?width=2983&amp;height=1678'),\n",
       " ('\\n                            天真有邪\\n                            ',\n",
       "  '\\n                            小泽Leo_\\n\\n                        ',\n",
       "  'http://img.cnu.cc/uploads/images/flow/1904/24/2788933e52343243a588176ffe73796b.jpg?width=1080&amp;height=1620'),\n",
       " ('\\n                            \"在初恋结束的那个雨季“\\n                            ',\n",
       "  '\\n                            安正圆\\n\\n                        ',\n",
       "  'http://img.cnu.cc/uploads/images/flow/1904/20/184b8e52143e3176b8051eacba93d7ba.jpg?width=3242&amp;height=1824'),\n",
       " ('\\n                            丹丹丹\\n                            ',\n",
       "  '\\n                            腾不疼啊\\n\\n                        ',\n",
       "  'http://img.cnu.cc/uploads/images/flow/1904/18/2c40c4d7783638dfaac6e24e05d501d8.jpg?width=5616&amp;height=3744'),\n",
       " ('\\n                            《某处》\\n                            ',\n",
       "  '\\n                            桃质\\n\\n                        ',\n",
       "  'http://img.cnu.cc/uploads/images/flow/1903/19/8dbe7a3b6aa33d21a716c131a6ccc8b1.jpg?width=3165&amp;height=2110'),\n",
       " ('\\n                            无关痛痒\\n                            ',\n",
       "  '\\n                            无趣铭\\n\\n                        ',\n",
       "  'http://img.cnu.cc/uploads/images/flow/1903/12/8de9912061873fcca4267ae6d8d1e522.jpg?width=1472&amp;height=1920'),\n",
       " ('\\n                            女孩与花\\n                            ',\n",
       "  '\\n                            Serendipity_zx\\n\\n                        ',\n",
       "  'http://img.cnu.cc/uploads/images/flow/1903/12/78a5a446f12e38bcbc347cd0956650c7.jpg?width=920&amp;height=1466'),\n",
       " ('\\n                            \"摄影里的民谣爱情故事”\\n                            ',\n",
       "  '\\n                            安正圆\\n\\n                        ',\n",
       "  'http://img.cnu.cc/uploads/images/flow/1903/05/45a69eb60a3e3e93beddbf900178210e.jpg?width=2400&amp;height=1350'),\n",
       " ('\\n                            不渝\\n                            ',\n",
       "  '\\n                            拍照的古德卡特\\n\\n                        ',\n",
       "  'http://img.cnu.cc/uploads/images/flow/1903/05/f26d24119f283f5cbc5d8a3ae11b2ed2.jpg?width=2872&amp;height=3869'),\n",
       " ('\\n                            妖怪也喜欢小朋友啊\\n                            ',\n",
       "  '\\n                            食物的小剧场\\n\\n                        ',\n",
       "  'http://img.cnu.cc/uploads/images/flow/1902/27/36091f982de63833bd39a0bf26d477d7.jpg?width=4896&amp;height=3264'),\n",
       " ('\\n                            一颗草莓。\\n                            ',\n",
       "  '\\n                            蔬茉\\n\\n                        ',\n",
       "  'http://img.cnu.cc/uploads/images/flow/1902/21/85087fc9bfee3cd4b3ffb8cad1af398a.jpg?width=1000&amp;height=1620'),\n",
       " ('\\n                            住在村里的人\\n                            ',\n",
       "  '\\n                            食物的小剧场\\n\\n                        ',\n",
       "  'http://img.cnu.cc/uploads/images/flow/1902/20/a3473448e65437ecbfa4151b1437dd78.jpg?width=4896&amp;height=3264'),\n",
       " ('\\n                            #On the STREET of daylight. \\n                            ',\n",
       "  '\\n                            摄影师Gin\\n\\n                        ',\n",
       "  'http://img.cnu.cc/uploads/images/flow/1902/12/aa5c7cb485813dd3bebe9c0204364f58.jpg?width=893&amp;height=1339'),\n",
       " ('\\n                            《流浪又自由》\\n                            ',\n",
       "  '\\n                            寒photo\\n\\n                        ',\n",
       "  'http://img.cnu.cc/uploads/images/flow/1902/12/7134e5470a6038f39260c9e0874ae6fc.jpg?width=1417&amp;height=944'),\n",
       " ('\\n                            黑白肖像\\n                            ',\n",
       "  '\\n                            两脚兽\\n\\n                        ',\n",
       "  'http://img.cnu.cc/uploads/images/flow/1902/10/d085e51540ea3fd6a7bf29f8f33612d4.jpg?width=5165&amp;height=7747'),\n",
       " ('\\n                            FRONT风尚周刊 X 吴莫愁\\n                            ',\n",
       "  '\\n                            MeirJin\\n\\n                        ',\n",
       "  'http://img.cnu.cc/uploads/images/flow/1902/03/f3542eac8b9c3d59b8cf430ced080584.jpg?width=4480&amp;height=6720')]"
      ]
     },
     "execution_count": 67,
     "metadata": {},
     "output_type": "execute_result"
    }
   ],
   "source": [
    "pattern = re.compile(r'class=\"grid-item work-thumbnail.*?class=\"title\">(.*?)</div>.*?class=\"author\">(.*?)</div>.*?src=\"(.*?)\"', re.S)\n",
    "# pattern = re.compile(r'class=\"grid-item work-thumbnail.*?class=\"title\">(.*?)</div>')\n",
    "res = re.findall(pattern, content)\n",
    "res"
   ]
  },
  {
   "cell_type": "code",
   "execution_count": 87,
   "metadata": {},
   "outputs": [
    {
     "data": {
      "text/plain": [
       "'<!DOCTYPE html><html><head><meta charset=utf-8><meta name=viewport content=\"width=device-width,initial-scale=1,maximum-scale=1,minimum-scale=1,user-scalable=no\"><link rel=icon type=image/png sizes=32x32 href=//static001.infoq.cn/static/infoq/www/img/InfoQ-share-icon2.jpg><link rel=icon type=image/png sizes=16x16 href=//static001.infoq.cn/static/infoq/www/img/InfoQ-share-icon2.jpg><meta name=Keywords content=InfoQ,InfoQ中文站,架构,云计算,AI,前端,运维,开源,Java,.net,SOA,软件开发,编程,极客邦 id=metakeywords><meta name=description content=InfoQ是一个实践驱动的社区资讯站点，致力于促进软件开发领域知识与创新的传播。提供架构，云计算，AI，前端，大数据，Java，软件开发，编程等技术资讯及技术会议，搭建连接中国技术高端社区与国际主流技术社区的桥梁。 id=metadesc><meta name=baidu-site-verification content=wvSZwd5oTf><meta http-equiv=X-UA-Compatible content=\"IE=edge,chrome=1\"><meta name=format-detection content=\"telephone=no\"><meta name=applicable-device content=pc,mobile><meta http-equiv=Cache-Control content=no-transform><meta http-equiv=Cache-Control content=no-siteapp><title>InfoQ - 促进软件开发领域知识与创新的传播-极客邦</title><script type=text/javascript src=//res.wx.qq.com/open/js/jweixin-1.4.0.js></script><script type=text/javascript src=\"https://webapi.amap.com/maps?v=1.4.14&key=6d1d81fa024c8843534d7317b7551f5e&plugin=AMap.PlaceSearch,AMap.Geolocation\"></script><script src=//at.alicdn.com/t/font_823612_nxpasx62hqk.js></script><link rel=dns-prefetch href=//cdn.mathjax.org><script type=text/x-mathjax-config>MathJax.Hub.Config({\\n      showProcessingMessages: false,\\n      messageStyle: \"none\",\\n      tex2jax: {\\n        inlineMath: [[\\'$\\',\\'$\\'], [\\'\\\\\\\\(\\',\\'\\\\\\\\)\\']],\\n        displayMath: [ [\"$$\",\"$$\"] ],\\n        skipTags: [\\'script\\', \\'noscript\\', \\'style\\', \\'textarea\\', \\'pre\\', \\'code\\', \\'a\\']\\n      }\\n    });\\n    MathJax.Hub.Register.MessageHook(\"End Process\", function (message) {\\n      var eve = new Event(\\'mathjaxfini\\')\\n      window.dispatchEvent(eve)\\n    })</script><script type=text/javascript>if (!(\\'flex\\' in document.documentElement.style) && !navigator.userAgent.match(/spider|googlebot|bingbot|geekbang|yahoo! Slurp/i)) {\\n      window.location.href = \\'https://static001.geekbang.org/static/common/browser_update/index.html\\'\\n    }</script><script>(function(){\\n        var bp = document.createElement(\\'script\\');\\n        var curProtocol = window.location.protocol.split(\\':\\')[0];\\n        if (curProtocol === \\'https\\'){\\n       bp.src = \\'https://zz.bdstatic.com/linksubmit/push.js\\';\\n      }\\n      else{\\n      bp.src = \\'http://push.zhanzhang.baidu.com/push.js\\';\\n      }\\n        var s = document.getElementsByTagName(\"script\")[0];\\n        s.parentNode.insertBefore(bp, s);\\n    })();</script><link href=https://static001.geekbang.org/static/infoq/www/css/app.19772bb53ab759882d230010563b6d03.css rel=stylesheet></head><body><div id=app></div><script>(function (i, s, o, g, r, a, m) {\\n      i[\\'GoogleAnalyticsObject\\'] = r; i[r] = i[r] || function () {\\n        (i[r].q = i[r].q || []).push(arguments)\\n      }, i[r].l = 1 * new Date(); a = s.createElement(o),\\n        m = s.getElementsByTagName(o)[0]; a.async = 1; a.src = g; m.parentNode.insertBefore(a, m)\\n      })(window, document, \\'script\\', \\'https://www.google-analytics.com/analytics.js\\', \\'ga\\');\\n      ga(\\'create\\', \\'UA-103082599-11\\', \\'auto\\');\\n      ga(\\'send\\', \\'pageview\\');</script><script>// window.dataLayer = window.dataLayer || [];\\n    // function gtag() { dataLayer.push(arguments); }\\n    // gtag(\\'js\\', new Date());\\n\\n    // gtag(\\'config\\', \\'UA-103082599-11\\');\\n\\n    var _hmt = _hmt || [];\\n    (function() {\\n      var hm = document.createElement(\"script\");\\n      hm.src = \"https://hm.baidu.com/hm.js?094d2af1d9a57fd9249b3fa259428445\";\\n      var s = document.getElementsByTagName(\"script\")[0]; \\n      s.parentNode.insertBefore(hm, s);\\n    })();</script><script type=text/javascript src=https://static001.geekbang.org/static/infoq/www/js/manifest.550b6ec93eee4028ee96.js></script><script type=text/javascript src=https://static001.geekbang.org/static/infoq/www/js/vendor.8ef1a60bb914d02c182f.js></script><script type=text/javascript src=https://static001.geekbang.org/static/infoq/www/js/app.443bb825824f4345f427.js></script></body></html>'"
      ]
     },
     "execution_count": 87,
     "metadata": {},
     "output_type": "execute_result"
    }
   ],
   "source": [
    "from bs4 import BeautifulSoup\n",
    "\n",
    "url = 'http://www.infoq.cn'\n",
    "headers = {\n",
    "\"Referer\": \"https://www.infoq.cn/\",\n",
    "\"Sec-Fetch-Mode\": \"navigate\",\n",
    "\"Sec-Fetch-User\": \"?1\",\n",
    "\"Upgrade-Insecure-Requests\": \"1\",\n",
    "\"User-Agent\": \"Mozilla/5.0 (iPhone; CPU iPhone OS 11_0 like Mac OS X) AppleWebKit/604.1.38 (KHTML, like Gecko) Version/11.0 Mobile/15A372 Safari/604.1\",\n",
    "}\n",
    "response = requests.get(url, headers=headers)\n",
    "response.content.decode('utf8')"
   ]
  },
  {
   "cell_type": "code",
   "execution_count": 99,
   "metadata": {},
   "outputs": [
    {
     "name": "stdout",
     "output_type": "stream",
     "text": [
      "The history saving thread hit an unexpected error (OperationalError('database or disk is full',)).History will not be written to the database.\n"
     ]
    }
   ],
   "source": [
    "response = requests.get(url='http://img.cnu.cc/uploads/images/flow/1902/10/d085e51540ea3fd6a7bf29f8f33612d4.jpg?width=5165&amp;height=7747')\n",
    "import os\n",
    "with open(os.path.join(os.path.abspath('.'), 'test.jpg'), 'wb') as f:\n",
    "    f.write(response.content)"
   ]
  },
  {
   "cell_type": "code",
   "execution_count": null,
   "metadata": {},
   "outputs": [],
   "source": []
  }
 ],
 "metadata": {
  "kernelspec": {
   "display_name": "Python 3",
   "language": "python",
   "name": "python3"
  },
  "language_info": {
   "codemirror_mode": {
    "name": "ipython",
    "version": 3
   },
   "file_extension": ".py",
   "mimetype": "text/x-python",
   "name": "python",
   "nbconvert_exporter": "python",
   "pygments_lexer": "ipython3",
   "version": "3.6.8"
  }
 },
 "nbformat": 4,
 "nbformat_minor": 2
}

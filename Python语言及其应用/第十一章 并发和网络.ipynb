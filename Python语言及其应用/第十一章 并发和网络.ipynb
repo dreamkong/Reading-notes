{
 "cells": [
  {
   "cell_type": "markdown",
   "metadata": {},
   "source": [
    "## 第十一章 并发和网络"
   ]
  },
  {
   "cell_type": "markdown",
   "metadata": {},
   "source": [
    "`时间是大自然防止所有事情同时发生的一种方法.空间是防止所有事情都发生在我身上的方法`"
   ]
  },
  {
   "cell_type": "markdown",
   "metadata": {},
   "source": [
    "### 并发"
   ]
  },
  {
   "cell_type": "markdown",
   "metadata": {},
   "source": [
    "* 队列\n",
    "\n",
    "队列有点像列表:从一头添加事物,从另一头取出事物.这种队列被称为FIFO(先进先出)"
   ]
  },
  {
   "cell_type": "markdown",
   "metadata": {},
   "source": [
    "* 进程\n",
    "\n",
    "可以用很多方法实现队列,下面模拟一个洗盘子的人和多个烘干过程"
   ]
  },
  {
   "cell_type": "code",
   "execution_count": 3,
   "metadata": {},
   "outputs": [
    {
     "name": "stdout",
     "output_type": "stream",
     "text": [
      "Drying salad dish\n",
      "Drying bread dish\n",
      "Drying entree dish\n",
      "Drying dessert dish\n",
      "Washing salad dish\n",
      "Washing bread dish\n",
      "Washing entree dish\n",
      "Washing dessert dish\n"
     ]
    }
   ],
   "source": [
    "import multiprocessing as mp\n",
    "\n",
    "def washer(dishes,output):\n",
    "    for dish in dishes:\n",
    "        print('Washing',dish,'dish')\n",
    "        output.put(dish)\n",
    "        \n",
    "def dryer(input):\n",
    "    while True:\n",
    "        dish = input.get()\n",
    "        print('Drying',dish,'dish')\n",
    "        input.task_done()\n",
    "        \n",
    "dish_queue = mp.JoinableQueue()\n",
    "dryer_proc = mp.Process(target=dryer,args=(dish_queue,))\n",
    "dryer_proc.daemon = True\n",
    "dryer_proc.start()\n",
    "\n",
    "dishes = ['salad','bread','entree','dessert']\n",
    "washer(dishes,dish_queue)\n",
    "dish_queue.join()"
   ]
  },
  {
   "cell_type": "markdown",
   "metadata": {},
   "source": [
    "* 线程"
   ]
  },
  {
   "cell_type": "code",
   "execution_count": 6,
   "metadata": {},
   "outputs": [
    {
     "name": "stdout",
     "output_type": "stream",
     "text": [
      "Thread <_MainThread(MainThread, started 140736963982272)> says: I'm the main program\n",
      "Thread <Thread(Thread-12, started 123145384677376)> says: I'm function 0\n",
      "Thread <Thread(Thread-13, started 123145389932544)> says: I'm function 1\n",
      "Thread <Thread(Thread-14, started 123145384677376)> says: I'm function 2\n",
      "Thread <Thread(Thread-15, started 123145384677376)> says: I'm function 3\n"
     ]
    }
   ],
   "source": [
    "# 进程示例\n",
    "import threading\n",
    "\n",
    "def do_this(what):\n",
    "    whoami(what)\n",
    "    \n",
    "def whoami(what):\n",
    "    print('Thread %s says: %s'%(threading.current_thread(),what))\n",
    "    \n",
    "if __name__ == '__main__':\n",
    "    whoami(\"I'm the main program\")\n",
    "    for n in range(4):\n",
    "        p = threading.Thread(target=do_this,args=(\"I'm function %s\"%n,))\n",
    "        p.start()"
   ]
  },
  {
   "cell_type": "code",
   "execution_count": 8,
   "metadata": {},
   "outputs": [
    {
     "name": "stdout",
     "output_type": "stream",
     "text": [
      "Washing salad\n",
      "Drying salad\n",
      "Washing bread\n",
      "DryingWashing  breadentree\n",
      "\n",
      "WashingDrying  desertentree\n",
      "\n",
      "Drying desert\n"
     ]
    }
   ],
   "source": [
    "# 用线程改写\n",
    "import threading, queue\n",
    "import time\n",
    "\n",
    "def washer(dishes,dish_queue):\n",
    "    for dish in dishes:\n",
    "        print('Washing',dish)\n",
    "        time.sleep(5)\n",
    "        dish_queue.put(dish)\n",
    "        \n",
    "def dryer(dish_queue):\n",
    "    while True:\n",
    "        dish = dish_queue.get()\n",
    "        print('Drying',dish)\n",
    "        time.sleep(10)\n",
    "        dish_queue.task_done()\n",
    "        \n",
    "dish_queue = queue.Queue()\n",
    "for n in range(2):\n",
    "    dryer_thread = threading.Thread(target=dryer, args=(dish_queue,))\n",
    "    dryer_thread.start()\n",
    "dishes = ['salad','bread','entree','desert']\n",
    "washer(dishes,dish_queue)\n",
    "dish_queue.join()"
   ]
  },
  {
   "cell_type": "markdown",
   "metadata": {},
   "source": [
    "### 网络"
   ]
  },
  {
   "cell_type": "code",
   "execution_count": null,
   "metadata": {},
   "outputs": [],
   "source": []
  }
 ],
 "metadata": {
  "kernelspec": {
   "display_name": "Python 3",
   "language": "python",
   "name": "python3"
  },
  "language_info": {
   "codemirror_mode": {
    "name": "ipython",
    "version": 3
   },
   "file_extension": ".py",
   "mimetype": "text/x-python",
   "name": "python",
   "nbconvert_exporter": "python",
   "pygments_lexer": "ipython3",
   "version": "3.5.2"
  }
 },
 "nbformat": 4,
 "nbformat_minor": 2
}

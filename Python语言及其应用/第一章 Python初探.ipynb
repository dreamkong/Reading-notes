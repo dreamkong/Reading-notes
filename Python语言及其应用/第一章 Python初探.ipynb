{
 "cells": [
  {
   "cell_type": "markdown",
   "metadata": {},
   "source": [
    "## 第一章 Python初探"
   ]
  },
  {
   "cell_type": "code",
   "execution_count": 10,
   "metadata": {},
   "outputs": [
    {
     "name": "stdout",
     "output_type": "stream",
     "text": [
      "秋田犬\n",
      "阿拉斯加雪橇犬\n",
      "美国爱斯基摩犬\n",
      "杜宾犬\n",
      "英国可卡犬\n",
      "法国斗牛犬\n",
      "德国牧羊犬\n",
      "大丹犬\n",
      "日本狆\n",
      "拉布拉多寻回犬\n"
     ]
    }
   ],
   "source": [
    "import json\n",
    "from urllib.request import urlopen\n",
    "\n",
    "url = 'http://www.bsbj.net/iv/data.json'\n",
    "response = urlopen(url)\n",
    "contents = response.read()\n",
    "text = contents.decode('utf-8')\n",
    "data = json.loads(text)\n",
    "data\n",
    "for dog in data['dogs']:\n",
    "    print(dog['name'])"
   ]
  },
  {
   "cell_type": "code",
   "execution_count": 12,
   "metadata": {},
   "outputs": [
    {
     "name": "stdout",
     "output_type": "stream",
     "text": [
      "秋田犬\n",
      "阿拉斯加雪橇犬\n",
      "美国爱斯基摩犬\n",
      "杜宾犬\n",
      "英国可卡犬\n",
      "法国斗牛犬\n",
      "德国牧羊犬\n",
      "大丹犬\n",
      "日本狆\n",
      "拉布拉多寻回犬\n"
     ]
    }
   ],
   "source": [
    "import requests\n",
    "\n",
    "url = 'http://www.bsbj.net/iv/data.json'\n",
    "response = requests.get(url)\n",
    "data = response.json()\n",
    "for dog in data['dogs']:\n",
    "    print(dog['name']) "
   ]
  },
  {
   "cell_type": "code",
   "execution_count": null,
   "metadata": {},
   "outputs": [],
   "source": []
  },
  {
   "cell_type": "code",
   "execution_count": null,
   "metadata": {},
   "outputs": [],
   "source": []
  }
 ],
 "metadata": {
  "kernelspec": {
   "display_name": "Python 3",
   "language": "python",
   "name": "python3"
  },
  "language_info": {
   "codemirror_mode": {
    "name": "ipython",
    "version": 3
   },
   "file_extension": ".py",
   "mimetype": "text/x-python",
   "name": "python",
   "nbconvert_exporter": "python",
   "pygments_lexer": "ipython3",
   "version": "3.5.2"
  }
 },
 "nbformat": 4,
 "nbformat_minor": 2
}

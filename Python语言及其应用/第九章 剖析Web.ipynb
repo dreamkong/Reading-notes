{
 "cells": [
  {
   "cell_type": "markdown",
   "metadata": {},
   "source": [
    "## 第九章 剖析Web"
   ]
  },
  {
   "cell_type": "markdown",
   "metadata": {},
   "source": [
    "### Python的标准Web库"
   ]
  },
  {
   "cell_type": "markdown",
   "metadata": {},
   "source": [
    "![](http://owz0zbwsq.bkt.clouddn.com/%E6%A0%87%E5%87%86Web%E5%BA%93.png)"
   ]
  },
  {
   "cell_type": "code",
   "execution_count": 2,
   "metadata": {},
   "outputs": [
    {
     "name": "stdout",
     "output_type": "stream",
     "text": [
      "<http.client.HTTPResponse object at 0x104923390>\n"
     ]
    }
   ],
   "source": [
    "import urllib.request as ur\n",
    "url = 'http://www.baidu.com'\n",
    "conn = ur.urlopen(url)\n",
    "print(conn)"
   ]
  },
  {
   "cell_type": "code",
   "execution_count": 3,
   "metadata": {},
   "outputs": [
    {
     "data": {
      "text/plain": [
       "200"
      ]
     },
     "execution_count": 3,
     "metadata": {},
     "output_type": "execute_result"
    }
   ],
   "source": [
    "conn.status"
   ]
  },
  {
   "cell_type": "code",
   "execution_count": 4,
   "metadata": {},
   "outputs": [
    {
     "data": {
      "text/plain": [
       "'text/html; charset=utf-8'"
      ]
     },
     "execution_count": 4,
     "metadata": {},
     "output_type": "execute_result"
    }
   ],
   "source": [
    "conn.getheader('Content-Type')"
   ]
  },
  {
   "cell_type": "code",
   "execution_count": 8,
   "metadata": {},
   "outputs": [
    {
     "name": "stdout",
     "output_type": "stream",
     "text": [
      "Date - Fri, 03 Nov 2017 08:37:54 GMT\n",
      "Content-Type - text/html; charset=utf-8\n",
      "Transfer-Encoding - chunked\n",
      "Connection - Close\n",
      "Vary - Accept-Encoding\n",
      "Set-Cookie - BAIDUID=BA1FB49112BDD8E34E7BEFE2285885BE:FG=1; expires=Thu, 31-Dec-37 23:55:55 GMT; max-age=2147483647; path=/; domain=.baidu.com\n",
      "Set-Cookie - BIDUPSID=BA1FB49112BDD8E34E7BEFE2285885BE; expires=Thu, 31-Dec-37 23:55:55 GMT; max-age=2147483647; path=/; domain=.baidu.com\n",
      "Set-Cookie - PSTM=1509698274; expires=Thu, 31-Dec-37 23:55:55 GMT; max-age=2147483647; path=/; domain=.baidu.com\n",
      "Set-Cookie - BDSVRTM=0; path=/\n",
      "Set-Cookie - BD_HOME=0; path=/\n",
      "Set-Cookie - H_PS_PSSID=1462_24569_21111_18560_17001_24879; path=/; domain=.baidu.com\n",
      "P3P - CP=\" OTI DSP COR IVA OUR IND COM \"\n",
      "Cache-Control - private\n",
      "Cxy_all - baidu+9a17faefaa9b4b9fb421f19e0bbcfd1f\n",
      "Expires - Fri, 03 Nov 2017 08:37:13 GMT\n",
      "X-Powered-By - HPHP\n",
      "Server - BWS/1.1\n",
      "X-UA-Compatible - IE=Edge,chrome=1\n",
      "BDPAGETYPE - 1\n",
      "BDQID - 0xb7b6209700019e88\n",
      "BDUSERID - 0\n"
     ]
    }
   ],
   "source": [
    "for key ,value in conn.getheaders():\n",
    "    print(key, '-', value)"
   ]
  },
  {
   "cell_type": "markdown",
   "metadata": {},
   "source": [
    "* 抛开标准库:requests"
   ]
  },
  {
   "cell_type": "code",
   "execution_count": 9,
   "metadata": {},
   "outputs": [
    {
     "data": {
      "text/plain": [
       "<Response [200]>"
      ]
     },
     "execution_count": 9,
     "metadata": {},
     "output_type": "execute_result"
    }
   ],
   "source": [
    "import requests\n",
    "url = 'http://www.baidu.com'\n",
    "resp = requests.get(url)\n",
    "resp"
   ]
  },
  {
   "cell_type": "code",
   "execution_count": 10,
   "metadata": {},
   "outputs": [
    {
     "data": {
      "text/plain": [
       "'<!DOCTYPE html>\\r\\n<!--STATUS OK--><html> <head><meta http-equiv=content-type content=text/html;charset=utf-8><meta http-equiv=X-UA-Compatible content=IE=Edge><meta content=always name=referrer><link rel=stylesheet type=text/css href=http://s1.bdstatic.com/r/www/cache/bdorz/baidu.min.css><title>ç\\x99¾åº¦ä¸\\x80ä¸\\x8bï¼\\x8cä½\\xa0å°±ç\\x9f¥é\\x81\\x93</title></head> <body link=#0000cc> <div id=wrapper> <div id=head> <div class=head_wrapper> <div class=s_form> <div class=s_form_wrapper> <div id=lg> <img hidefocus=true src=//www.baidu.com/img/bd_logo1.png width=270 height=129> </div> <form id=form name=f action=//www.baidu.com/s class=fm> <input type=hidden name=bdorz_come value=1> <input type=hidden name=ie value=utf-8> <input type=hidden name=f value=8> <input type=hidden name=rsv_bp value=1> <input type=hidden name=rsv_idx value=1> <input type=hidden name=tn value=baidu><span class=\"bg s_ipt_wr\"><input id=kw name=wd class=s_ipt value maxlength=255 autocomplete=off autofocus></span><span class=\"bg s_btn_wr\"><input type=submit id=su value=ç\\x99¾åº¦ä¸\\x80ä¸\\x8b class=\"bg s_btn\"></span> </form> </div> </div> <div id=u1> <a href=http://news.baidu.com name=tj_trnews class=mnav>æ\\x96°é\\x97»</a> <a href=http://www.hao123.com name=tj_trhao123 class=mnav>hao123</a> <a href=http://map.baidu.com name=tj_trmap class=mnav>å\\x9c°å\\x9b¾</a> <a href=http://v.baidu.com name=tj_trvideo class=mnav>è§\\x86é¢\\x91</a> <a href=http://tieba.baidu.com name=tj_trtieba class=mnav>è´´å\\x90§</a> <noscript> <a href=http://www.baidu.com/bdorz/login.gif?login&amp;tpl=mn&amp;u=http%3A%2F%2Fwww.baidu.com%2f%3fbdorz_come%3d1 name=tj_login class=lb>ç\\x99»å½\\x95</a> </noscript> <script>document.write(\\'<a href=\"http://www.baidu.com/bdorz/login.gif?login&tpl=mn&u=\\'+ encodeURIComponent(window.location.href+ (window.location.search === \"\" ? \"?\" : \"&\")+ \"bdorz_come=1\")+ \\'\" name=\"tj_login\" class=\"lb\">ç\\x99»å½\\x95</a>\\');</script> <a href=//www.baidu.com/more/ name=tj_briicon class=bri style=\"display: block;\">æ\\x9b´å¤\\x9aäº§å\\x93\\x81</a> </div> </div> </div> <div id=ftCon> <div id=ftConw> <p id=lh> <a href=http://home.baidu.com>å\\x85³äº\\x8eç\\x99¾åº¦</a> <a href=http://ir.baidu.com>About Baidu</a> </p> <p id=cp>&copy;2017&nbsp;Baidu&nbsp;<a href=http://www.baidu.com/duty/>ä½¿ç\\x94¨ç\\x99¾åº¦å\\x89\\x8då¿\\x85è¯»</a>&nbsp; <a href=http://jianyi.baidu.com/ class=cp-feedback>æ\\x84\\x8fè§\\x81å\\x8f\\x8dé¦\\x88</a>&nbsp;äº¬ICPè¯\\x81030173å\\x8f·&nbsp; <img src=//www.baidu.com/img/gs.gif> </p> </div> </div> </div> </body> </html>\\r\\n'"
      ]
     },
     "execution_count": 10,
     "metadata": {},
     "output_type": "execute_result"
    }
   ],
   "source": [
    "resp.text"
   ]
  },
  {
   "cell_type": "markdown",
   "metadata": {},
   "source": [
    "### Web服务端"
   ]
  },
  {
   "cell_type": "markdown",
   "metadata": {},
   "source": [
    "* 最简单的Python Web服务器\n",
    "\n",
    "$ python -m http.server 9999"
   ]
  },
  {
   "cell_type": "markdown",
   "metadata": {},
   "source": [
    "* Web服务器网关接口\n",
    "![](http://owz0zbwsq.bkt.clouddn.com/Web%E6%9C%8D%E5%8A%A1%E5%99%A8%E7%BD%91%E5%85%B3%E6%8E%A5%E5%8F%A3.png)"
   ]
  },
  {
   "cell_type": "markdown",
   "metadata": {},
   "source": [
    "* 框架\n",
    "    \n",
    " 框架可能具有下面这些特性的一种或多种\n",
    "    * 路由\n",
    "    * 模板\n",
    "    * 认证和授权\n",
    "    * Session"
   ]
  },
  {
   "cell_type": "markdown",
   "metadata": {},
   "source": [
    "* Bottle"
   ]
  },
  {
   "cell_type": "code",
   "execution_count": 1,
   "metadata": {},
   "outputs": [
    {
     "name": "stderr",
     "output_type": "stream",
     "text": [
      "Bottle v0.12.13 server starting up (using WSGIRefServer())...\n",
      "Listening on http://localhost:9999/\n",
      "Hit Ctrl-C to quit.\n",
      "\n",
      "127.0.0.1 - - [03/Nov/2017 17:11:17] \"GET / HTTP/1.1\" 200 37\n",
      "127.0.0.1 - - [03/Nov/2017 17:11:21] \"GET /echo/Mothra HTTP/1.1\" 200 6\n"
     ]
    }
   ],
   "source": [
    "from bottle import route, run\n",
    "\n",
    "@route('/')\n",
    "def home():\n",
    "    return 'It isn\\'t fancy, but it\\'s my home page'\n",
    "\n",
    "@route('/echo/<thing>')\n",
    "def echo(thing):\n",
    "    return thing\n",
    "\n",
    "run(host='localhost',port=9999)"
   ]
  },
  {
   "cell_type": "markdown",
   "metadata": {},
   "source": [
    "* Flask"
   ]
  },
  {
   "cell_type": "code",
   "execution_count": 1,
   "metadata": {},
   "outputs": [
    {
     "name": "stderr",
     "output_type": "stream",
     "text": [
      " * Running on http://127.0.0.1:6666/ (Press CTRL+C to quit)\n",
      " * Restarting with stat\n"
     ]
    },
    {
     "ename": "SystemExit",
     "evalue": "1",
     "output_type": "error",
     "traceback": [
      "An exception has occurred, use %tb to see the full traceback.\n",
      "\u001b[0;31mSystemExit\u001b[0m\u001b[0;31m:\u001b[0m 1\n"
     ]
    },
    {
     "name": "stderr",
     "output_type": "stream",
     "text": [
      "/Users/zhangmingshan/Desktop/PythonTest/vir/py3/lib/python3.5/site-packages/IPython/core/interactiveshell.py:2918: UserWarning: To exit: use 'exit', 'quit', or Ctrl-D.\n",
      "  warn(\"To exit: use 'exit', 'quit', or Ctrl-D.\", stacklevel=1)\n"
     ]
    }
   ],
   "source": [
    "from flask import Flask\n",
    "\n",
    "app  = Flask(__name__,static_folder='.',static_url_path='')\n",
    "\n",
    "@app.route('/')\n",
    "def home():\n",
    "    return app.send_static_file('index.html')\n",
    "\n",
    "@app.route('/echo/<thing>')\n",
    "def echo(thing):\n",
    "    return \"Say hello to my little friend: %s\" %thing\n",
    "\n",
    "app.run(port=6666,debug=True)"
   ]
  },
  {
   "cell_type": "code",
   "execution_count": null,
   "metadata": {},
   "outputs": [],
   "source": []
  }
 ],
 "metadata": {
  "kernelspec": {
   "display_name": "Python 3",
   "language": "python",
   "name": "python3"
  },
  "language_info": {
   "codemirror_mode": {
    "name": "ipython",
    "version": 3
   },
   "file_extension": ".py",
   "mimetype": "text/x-python",
   "name": "python",
   "nbconvert_exporter": "python",
   "pygments_lexer": "ipython3",
   "version": "3.5.2"
  }
 },
 "nbformat": 4,
 "nbformat_minor": 2
}

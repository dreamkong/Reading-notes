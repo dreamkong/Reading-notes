{
 "cells": [
  {
   "cell_type": "markdown",
   "metadata": {},
   "source": [
    "## 第八章 数据的归宿"
   ]
  },
  {
   "cell_type": "markdown",
   "metadata": {},
   "source": [
    "#### 文件输入/输出\n",
    "* fileobj = open(filename,mode)\n",
    "\n",
    "![open](http://owz0zbwsq.bkt.clouddn.com/file_open.png)"
   ]
  },
  {
   "cell_type": "markdown",
   "metadata": {},
   "source": [
    "* 使用write()写文本文件"
   ]
  },
  {
   "cell_type": "code",
   "execution_count": 3,
   "metadata": {},
   "outputs": [
    {
     "data": {
      "text/plain": [
       "150"
      ]
     },
     "execution_count": 3,
     "metadata": {},
     "output_type": "execute_result"
    }
   ],
   "source": [
    "poem = '''There was a young lady named Bright,\n",
    "Whose speed was far faster than light;\n",
    "She started one day\n",
    "In a relative way,\n",
    "And returned on the previous night.'''\n",
    "len(poem)"
   ]
  },
  {
   "cell_type": "code",
   "execution_count": 4,
   "metadata": {},
   "outputs": [],
   "source": [
    "fout = open('relativity','wt')\n",
    "fout.write(poem)\n",
    "fout.close()"
   ]
  },
  {
   "cell_type": "code",
   "execution_count": 7,
   "metadata": {},
   "outputs": [],
   "source": [
    "fout = open('relativity','wt')\n",
    "print(poem,file=fout,sep='',end='')\n",
    "fout.close()"
   ]
  },
  {
   "cell_type": "markdown",
   "metadata": {},
   "source": [
    "* 如果源字符串非常大,可以将数据分块.直到所有字符被写入"
   ]
  },
  {
   "cell_type": "code",
   "execution_count": 12,
   "metadata": {},
   "outputs": [],
   "source": [
    "fout = open('relativity','wt')\n",
    "size = len(poem)\n",
    "offset = 0\n",
    "chunk = 100\n",
    "while True:\n",
    "    if offset > size:\n",
    "        break\n",
    "    fout.write(poem[offset:offset+chunk])\n",
    "    offset += chunk\n",
    "fout.close()"
   ]
  },
  {
   "cell_type": "markdown",
   "metadata": {},
   "source": [
    "* 使用read() readline()或者readlines()读取文本文件"
   ]
  },
  {
   "cell_type": "code",
   "execution_count": 15,
   "metadata": {},
   "outputs": [
    {
     "data": {
      "text/plain": [
       "150"
      ]
     },
     "execution_count": 15,
     "metadata": {},
     "output_type": "execute_result"
    }
   ],
   "source": [
    "fin = open('relativity','rt')\n",
    "poem = fin.read()\n",
    "fin.close()\n",
    "len(poem)"
   ]
  },
  {
   "cell_type": "code",
   "execution_count": 16,
   "metadata": {},
   "outputs": [
    {
     "data": {
      "text/plain": [
       "150"
      ]
     },
     "execution_count": 16,
     "metadata": {},
     "output_type": "execute_result"
    }
   ],
   "source": [
    "poem = ''\n",
    "fin = open('relativity','rt')\n",
    "chunk = 100\n",
    "while True:\n",
    "    fragment = fin.read(chunk)\n",
    "    if not fragment:\n",
    "        break\n",
    "    poem += fragment\n",
    "fin.close()\n",
    "len(poem)"
   ]
  },
  {
   "cell_type": "code",
   "execution_count": 17,
   "metadata": {},
   "outputs": [
    {
     "data": {
      "text/plain": [
       "150"
      ]
     },
     "execution_count": 17,
     "metadata": {},
     "output_type": "execute_result"
    }
   ],
   "source": [
    "poem = ''\n",
    "fin = open('relativity','rt')\n",
    "while True:\n",
    "    fragment = fin.readline()\n",
    "    if not fragment:\n",
    "        break\n",
    "    poem += fragment\n",
    "fin.close()\n",
    "len(poem)"
   ]
  },
  {
   "cell_type": "markdown",
   "metadata": {},
   "source": [
    "* 读取文本文件最简单的方式是使用一个迭代器"
   ]
  },
  {
   "cell_type": "code",
   "execution_count": 18,
   "metadata": {},
   "outputs": [
    {
     "data": {
      "text/plain": [
       "150"
      ]
     },
     "execution_count": 18,
     "metadata": {},
     "output_type": "execute_result"
    }
   ],
   "source": [
    "poem = ''\n",
    "fin = open('relativity','rt')\n",
    "for line in fin:\n",
    "    poem += line\n",
    "fin.close()\n",
    "len(poem)"
   ]
  },
  {
   "cell_type": "markdown",
   "metadata": {},
   "source": [
    "* 使用write()写二进制文件"
   ]
  },
  {
   "cell_type": "code",
   "execution_count": 2,
   "metadata": {},
   "outputs": [
    {
     "data": {
      "text/plain": [
       "256"
      ]
     },
     "execution_count": 2,
     "metadata": {},
     "output_type": "execute_result"
    }
   ],
   "source": [
    "bdata = bytes(range(0,256))\n",
    "len(bdata)"
   ]
  },
  {
   "cell_type": "code",
   "execution_count": 5,
   "metadata": {},
   "outputs": [],
   "source": [
    "fout = open('bfile','wb')\n",
    "size = len(bdata)\n",
    "offset = 0\n",
    "chunk = 100\n",
    "while True:\n",
    "    if offset > size:\n",
    "        break\n",
    "    fout.write(bdata[offset:offset+chunk])\n",
    "    offset += chunk\n",
    "fout.close()"
   ]
  },
  {
   "cell_type": "markdown",
   "metadata": {},
   "source": [
    "* 使用read()读取二进制文件"
   ]
  },
  {
   "cell_type": "code",
   "execution_count": 11,
   "metadata": {},
   "outputs": [
    {
     "data": {
      "text/plain": [
       "256"
      ]
     },
     "execution_count": 11,
     "metadata": {},
     "output_type": "execute_result"
    }
   ],
   "source": [
    "fin = open('bfile','rb')\n",
    "bdata = fin.read()\n",
    "fin.close()\n",
    "len(bdata)"
   ]
  },
  {
   "cell_type": "markdown",
   "metadata": {},
   "source": [
    "* 使用with自动关闭文件"
   ]
  },
  {
   "cell_type": "code",
   "execution_count": 12,
   "metadata": {},
   "outputs": [],
   "source": [
    "with open('bfile','rb') as f:\n",
    "    f.read()"
   ]
  },
  {
   "cell_type": "markdown",
   "metadata": {},
   "source": [
    "* 使用seek()改变位置"
   ]
  },
  {
   "cell_type": "code",
   "execution_count": 13,
   "metadata": {},
   "outputs": [
    {
     "data": {
      "text/plain": [
       "0"
      ]
     },
     "execution_count": 13,
     "metadata": {},
     "output_type": "execute_result"
    }
   ],
   "source": [
    "fin = open('bfile','rb')\n",
    "fin.tell()"
   ]
  },
  {
   "cell_type": "code",
   "execution_count": 14,
   "metadata": {},
   "outputs": [
    {
     "data": {
      "text/plain": [
       "111"
      ]
     },
     "execution_count": 14,
     "metadata": {},
     "output_type": "execute_result"
    }
   ],
   "source": [
    "fin.seek(111)"
   ]
  },
  {
   "cell_type": "code",
   "execution_count": 15,
   "metadata": {},
   "outputs": [
    {
     "data": {
      "text/plain": [
       "111"
      ]
     },
     "execution_count": 15,
     "metadata": {},
     "output_type": "execute_result"
    }
   ],
   "source": [
    "fin.tell()"
   ]
  },
  {
   "cell_type": "markdown",
   "metadata": {},
   "source": [
    "* seek(offset,origin) offset偏移量 origin起始位置"
   ]
  },
  {
   "cell_type": "markdown",
   "metadata": {},
   "source": [
    "#### 结构和文本文件"
   ]
  },
  {
   "cell_type": "markdown",
   "metadata": {},
   "source": [
    "* CSV"
   ]
  },
  {
   "cell_type": "code",
   "execution_count": 17,
   "metadata": {},
   "outputs": [],
   "source": [
    "import csv\n",
    "villains = [\n",
    "    ['Doctor', 'No'],\n",
    "    ['Rosa', 'Klebb'],\n",
    "    ['Mister', 'Big'],\n",
    "    ['Auric', 'Goldfinger'],\n",
    "    ['Ernst', 'Blofeld'],\n",
    "]\n",
    "with open('villains','wt') as fout:\n",
    "    csvout = csv.writer(fout)\n",
    "    csvout.writerows(villains)"
   ]
  },
  {
   "cell_type": "code",
   "execution_count": 18,
   "metadata": {},
   "outputs": [
    {
     "data": {
      "text/plain": [
       "[['Doctor', 'No'],\n",
       " ['Rosa', 'Klebb'],\n",
       " ['Mister', 'Big'],\n",
       " ['Auric', 'Goldfinger'],\n",
       " ['Ernst', 'Blofeld']]"
      ]
     },
     "execution_count": 18,
     "metadata": {},
     "output_type": "execute_result"
    }
   ],
   "source": [
    "import csv\n",
    "with open('villains','rt') as fin:\n",
    "    cin = csv.reader(fin)\n",
    "    villains = [row for row in cin]\n",
    "villains"
   ]
  },
  {
   "cell_type": "markdown",
   "metadata": {},
   "source": [
    "* 数据不仅仅是列表的集合,也可以是字典的集合 "
   ]
  },
  {
   "cell_type": "code",
   "execution_count": 20,
   "metadata": {},
   "outputs": [
    {
     "data": {
      "text/plain": [
       "[{'first': 'Doctor', 'last': 'No'},\n",
       " {'first': 'Rosa', 'last': 'Klebb'},\n",
       " {'first': 'Mister', 'last': 'Big'},\n",
       " {'first': 'Auric', 'last': 'Goldfinger'},\n",
       " {'first': 'Ernst', 'last': 'Blofeld'}]"
      ]
     },
     "execution_count": 20,
     "metadata": {},
     "output_type": "execute_result"
    }
   ],
   "source": [
    "import csv\n",
    "with open('villains','rt') as fin:\n",
    "    cin = csv.DictReader(fin,fieldnames=['first','last'])\n",
    "    villains = [row for row in cin]\n",
    "    \n",
    "villains"
   ]
  },
  {
   "cell_type": "code",
   "execution_count": 24,
   "metadata": {},
   "outputs": [],
   "source": [
    "import csv\n",
    "villains = [{'first': 'Doctor', 'last': 'No'},\n",
    " {'first': 'Rosa', 'last': 'Klebb'},\n",
    " {'first': 'Mister', 'last': 'Big'},\n",
    " {'first': 'Auric', 'last': 'Goldfinger'},\n",
    " {'first': 'Ernst', 'last': 'Blofeld'}]\n",
    "\n",
    "with open('villains','wt') as fout:\n",
    "    cout = csv.DictWriter(fout,['first','last'])\n",
    "    cout.writeheader()\n",
    "    cout.writerows(villains)"
   ]
  },
  {
   "cell_type": "markdown",
   "metadata": {},
   "source": [
    "* XML"
   ]
  },
  {
   "cell_type": "code",
   "execution_count": 25,
   "metadata": {},
   "outputs": [
    {
     "data": {
      "text/plain": [
       "'menu'"
      ]
     },
     "execution_count": 25,
     "metadata": {},
     "output_type": "execute_result"
    }
   ],
   "source": [
    "import xml.etree.ElementTree as et\n",
    "\n",
    "tree = et.ElementTree(file='menu.xml')\n",
    "root = tree.getroot()\n",
    "root.tag"
   ]
  },
  {
   "cell_type": "code",
   "execution_count": 27,
   "metadata": {},
   "outputs": [
    {
     "name": "stdout",
     "output_type": "stream",
     "text": [
      "tag: breakfast attributes: {'hours': '7-11'}\n",
      "\ttag: item attributes: {'price': '$6.00'}\n",
      "\ttag: item attributes: {'price': '$4.00'}\n",
      "tag: lunch attributes: {'hours': '11-3'}\n",
      "\ttag: item attributes: {'price': '$5.00'}\n",
      "tag: dinner attributes: {'hours': '3-10'}\n",
      "\ttag: item attributes: {'price': '8.00'}\n"
     ]
    }
   ],
   "source": [
    "for child in root:\n",
    "    print('tag:',child.tag,'attributes:',child.attrib)\n",
    "    for grandchild in child:\n",
    "        print('\\ttag:',grandchild.tag,'attributes:',grandchild.attrib)"
   ]
  },
  {
   "cell_type": "code",
   "execution_count": 28,
   "metadata": {},
   "outputs": [
    {
     "data": {
      "text/plain": [
       "3"
      ]
     },
     "execution_count": 28,
     "metadata": {},
     "output_type": "execute_result"
    }
   ],
   "source": [
    "# 菜单选择的数目\n",
    "len(root)"
   ]
  },
  {
   "cell_type": "code",
   "execution_count": 29,
   "metadata": {},
   "outputs": [
    {
     "data": {
      "text/plain": [
       "2"
      ]
     },
     "execution_count": 29,
     "metadata": {},
     "output_type": "execute_result"
    }
   ],
   "source": [
    "# 早餐项的数目\n",
    "len(root[0])"
   ]
  },
  {
   "cell_type": "markdown",
   "metadata": {},
   "source": [
    "其他标准的Python XML库如下:\n",
    "* xml.dom\n",
    "* xml.sax"
   ]
  },
  {
   "cell_type": "markdown",
   "metadata": {},
   "source": [
    "* JSON"
   ]
  },
  {
   "cell_type": "code",
   "execution_count": 36,
   "metadata": {},
   "outputs": [
    {
     "data": {
      "text/plain": [
       "'{\"dogs\": [{\"dog_id\": 1, \"image\": \"http://www.bsbj.net/iv/dogs/dog1.jpg\", \"sort\": 6, \"date\": \"2016-08-08 16:12:47\", \"detail\": \"\\\\u79cb\\\\u7530\\\\u72ac\\\\uff08\\\\u65e5\\\\u8bed\\\\uff1a\\\\u79cb\\\\u7530\\\\u72ac\\\\uff0f\\\\u3042\\\\u304d\\\\u305f\\\\u3044\\\\u306c\\\\uff0f\\\\u30a2\\\\u30ad\\\\u30bf\\\\u30a4\\\\u30cc Akita Inu *\\\\uff09\\\\u662f\\\\u65e5\\\\u672c\\\\u72ac\\\\u7684\\\\u4e00\\\\u79cd\\\\uff0c\\\\u662f\\\\u56fd\\\\u5bb6\\\\u5929\\\\u7136\\\\u7eaa\\\\u5ff5\\\\u7269\\\\u4e4b\\\\u516d\\\\u79cd\\\\u65e5\\\\u672c\\\\u72ac\\\\u4e2d\\\\u552f\\\\u4e00\\\\u7684\\\\u5927\\\\u578b\\\\u72ac\\\\u79cd\\\\u3002\", \"name\": \"\\\\u79cb\\\\u7530\\\\u72ac\"}, {\"dog_id\": 2, \"image\": \"http://www.bsbj.net/iv/dogs/dog2.jpg\", \"sort\": 8, \"date\": \"2016-08-08 16:12:47\", \"detail\": \"\\\\u963f\\\\u62c9\\\\u65af\\\\u52a0\\\\u96ea\\\\u6a47\\\\u72ac\\\\uff08\\\\u82f1\\\\u8bed\\\\uff1aAlaskan Malamute\\\\uff09\\\\u53c8\\\\u79f0\\\\u963f\\\\u62c9\\\\u65af\\\\u52a0\\\\u9a6c\\\\u62c9\\\\u7a46\\\\uff0c\\\\u662f\\\\u6700\\\\u53e4\\\\u8001\\\\u7684\\\\u96ea\\\\u6a47\\\\u72ac\\\\u4e4b\\\\u4e00\\\\u3002\", \"name\": \"\\\\u963f\\\\u62c9\\\\u65af\\\\u52a0\\\\u96ea\\\\u6a47\\\\u72ac\"}, {\"dog_id\": 3, \"image\": \"http://www.bsbj.net/iv/dogs/dog3.jpg\", \"sort\": 9, \"date\": \"2016-08-08 16:12:47\", \"detail\": \"\\\\u7f8e\\\\u56fd\\\\u7231\\\\u65af\\\\u57fa\\\\u6469\\\\u72ac\\\\uff08\\\\u82f1\\\\u8bed\\\\uff1aAmerican Eskimo Dog\\\\uff09\\\\u662f\\\\u4e00\\\\u79cd\\\\u6765\\\\u81ea\\\\u5fb7\\\\u56fd\\\\u7684\\\\u73a9\\\\u8d4f\\\\u72ac\\\\u72ac\\\\u79cd\\\\u3002\", \"name\": \"\\\\u7f8e\\\\u56fd\\\\u7231\\\\u65af\\\\u57fa\\\\u6469\\\\u72ac\"}, {\"dog_id\": 4, \"image\": \"http://www.bsbj.net/iv/dogs/dog4.jpg\", \"sort\": 7, \"date\": \"2016-08-08 16:12:47\", \"detail\": \"\\\\u90fd\\\\u67cf\\\\u6587\\\\uff0c\\\\u53c8\\\\u79f0\\\\u675c\\\\u5bbe\\\\u72ac\\\\uff08\\\\u5fb7\\\\u8bed\\\\uff1aDobermann\\\\uff0c\\\\u82f1\\\\u8bed\\\\uff1aDoberman Pinscher\\\\uff09\\\\u662f\\\\u539f\\\\u4ea7\\\\u4e8e\\\\u5fb7\\\\u56fd\\\\u7684\\\\u4e00\\\\u79cd\\\\u4e2d\\\\u5927\\\\u578b\\\\u72ac\\\\uff0c\\\\u5927\\\\u7ea6\\\\u57281890\\\\u5e74\\\\u7531Karl Friedrich Louis Dobermann\\\\u6240\\\\u57f9\\\\u80b2\\\\u51fa\\\\u6765\\\\u3002\\\\u662f\\\\u6700\\\\u5e38\\\\u88ab\\\\u7528\\\\u6765\\\\u4f5c\\\\u4e3a\\\\u519b\\\\u4e8b\\\\u7528\\\\u9014\\\\u7684\\\\u519b\\\\u72ac\\\\u3002\", \"name\": \"\\\\u675c\\\\u5bbe\\\\u72ac\"}, {\"dog_id\": 5, \"image\": \"http://www.bsbj.net/iv/dogs/dog5.jpg\", \"sort\": 4, \"date\": \"2016-08-08 16:12:47\", \"detail\": \"\\\\u82f1\\\\u56fd\\\\u53ef\\\\u5361\\\\u72ac\\\\u662f\\\\u730e\\\\u72ac\\\\u7684\\\\u4e00\\\\u4e2a\\\\u54c1\\\\u79cd\\\\u3002\\\\u82f1\\\\u56fd\\\\u53ef\\\\u5361\\\\u72ac\\\\u662f\\\\u4e00\\\\u4e2a\\\\u6d3b\\\\u8dc3\\\\u7684\\\\u3001\\\\u548c\\\\u853c\\\\u7684\\\\u730e\\\\u72ac\\\\uff0c\\\\u6709\\\\u7740\\\\u5f88\\\\u597d\\\\u7684\\\\u8eab\\\\u6750\\\\u548c \\\\u9a6c\\\\u80a9\\\\u9686\\\\u3002\", \"name\": \"\\\\u82f1\\\\u56fd\\\\u53ef\\\\u5361\\\\u72ac\"}, {\"dog_id\": 6, \"image\": \"http://www.bsbj.net/iv/dogs/dog6.jpg\", \"sort\": 5, \"date\": \"2016-08-08 16:12:47\", \"detail\": \"\\\\u6cd5\\\\u56fd\\\\u6597\\\\u725b\\\\u72ac\\\\uff08\\\\u82f1\\\\u8bed\\\\uff1aFrench Bulldog\\\\uff0c\\\\u6cd5\\\\u8bed\\\\uff1abouledogue fran\\\\u00e7ais\\\\uff0c\\\\u6216bouledogue\\\\uff09\\\\uff0c\\\\u4e00\\\\u79cd\\\\u5c0f\\\\u578b\\\\u72ac\\\\u79cd\\\\uff0c\\\\u57281800\\\\u5e74\\\\u4ee3\\\\uff0c\\\\u5229\\\\u7528\\\\u82f1\\\\u56fd\\\\u8fdb\\\\u53e3\\\\u7684\\\\u6597\\\\u725b\\\\u72ac\\\\uff0c\\\\u4e0e\\\\u5df4\\\\u9ece\\\\u672c\\\\u5730\\\\u7684\\\\u5c0f\\\\u578b\\\\u72ac\\\\uff0c\\\\u5728\\\\u6cd5\\\\u56fd\\\\u57f9\\\\u80b2\\\\u51fa\\\\u6765\\\\u3002\", \"name\": \"\\\\u6cd5\\\\u56fd\\\\u6597\\\\u725b\\\\u72ac\"}, {\"dog_id\": 7, \"image\": \"http://www.bsbj.net/iv/dogs/dog7.jpg\", \"sort\": 3, \"date\": \"2016-08-08 16:12:47\", \"detail\": \"\\\\u5fb7\\\\u56fd\\\\u7267\\\\u7f8a\\\\u72ac\\\\u53c8\\\\u79f0\\\\u5fb7\\\\u56fd\\\\u72fc\\\\u72ac\\\\u3008\\\\u82f1\\\\u6587\\\\uff1aGerman Shepherd Dog\\\\u3009\\\\uff0c\\\\u662f\\\\u72d7\\\\u7684\\\\u4e00\\\\u4e2a\\\\u54c1\\\\u79cd\\\\uff0c\\\\u5fb7\\\\u56fd\\\\u7267\\\\u7f8a\\\\u72ac\\\\u5f88\\\\u806a\\\\u660e\\\\uff0c\\\\u5728\\\\u6240\\\\u6709\\\\u72ac\\\\u7c7b\\\\u7684\\\\u667a\\\\u5546\\\\u6392\\\\u540d\\\\u4e2d\\\\u6392\\\\u884c\\\\u7b2c\\\\u4e09\\\\u3002\", \"name\": \"\\\\u5fb7\\\\u56fd\\\\u7267\\\\u7f8a\\\\u72ac\"}, {\"dog_id\": 8, \"image\": \"http://www.bsbj.net/iv/dogs/dog8.jpg\", \"sort\": 10, \"date\": \"2016-08-08 16:12:47\", \"detail\": \"\\\\u5927\\\\u4e39\\\\u72ac\\\\uff08\\\\u82f1\\\\u8bed\\\\uff1aGreat Dane\\\\uff09\\\\uff0c\\\\u4e5f\\\\u79f0\\\\u505a\\\\u5927\\\\u4e39\\\\u72d7\\\\u3001\\\\u5fb7\\\\u56fd\\\\u7352\\\\uff08\\\\u5fb7\\\\u8bed\\\\uff1aDeutsche Dogge\\\\uff09\\\\u3001\\\\u4e39\\\\u9ea6\\\\u730e\\\\u72ac\\\\uff08\\\\u5fb7\\\\u8bed\\\\uff1aD\\\\u00e4nischer Hund\\\\uff09\\\\u66fe\\\\u88ab\\\\u6b27\\\\u6d32\\\\u738b\\\\u5ba4\\\\u53ca\\\\u8d35\\\\u65cf\\\\u9972\\\\u517b\\\\uff0c\\\\u662f\\\\u8d35\\\\u65cf\\\\u8eab\\\\u4efd\\\\u5730\\\\u4f4d\\\\u7684\\\\u8c61\\\\u5f81\\\\u3002\", \"name\": \"\\\\u5927\\\\u4e39\\\\u72ac\"}, {\"dog_id\": 9, \"image\": \"http://www.bsbj.net/iv/dogs/dog9.jpg\", \"sort\": 2, \"date\": \"2016-08-08 16:12:47\", \"detail\": \"\\\\u72c6\\\\uff08\\\\u65e5\\\\u8bed\\\\uff1a\\\\u72c6\\\\uff0c\\\\u82f1\\\\u8bed\\\\uff1aJapanese Chin\\\\uff09\\\\u662f\\\\u539f\\\\u4ea7\\\\u4e8e\\\\u65e5\\\\u672c\\\\u7684\\\\u4e00\\\\u79cd\\\\u5c0f\\\\u578b\\\\u72ac\\\\u3002\\\\u5934\\\\u5927\\\\u3001\\\\u5bbd\\\\u4e14\\\\u5e73\\\\u3002\\\\u9f3b\\\\u5b50\\\\u5bbd\\\\u800c\\\\u4e14\\\\u77ed\\\\uff0c\\\\u9f3b\\\\u6881\\\\u660e\\\\u663e\\\\uff0c\\\\u9f3b\\\\u5b50\\\\u4e0e\\\\u773c\\\\u775b\\\\u5728\\\\u4e00\\\\u4e2a\\\\u6c34\\\\u5e73\\\\u7ebf\\\\u4e0a\\\\uff0c\\\\u9ed1\\\\u4eae\\\\u7684\\\\u773c\\\\u775b\\\\u5927\\\\u53c8\\\\u5706\\\\uff0c\\\\u9694\\\\u7740\\\\u9f3b\\\\u5b50\\\\u76f8\\\\u5bf9\\\\u5e94\\\\u3002\", \"name\": \"\\\\u65e5\\\\u672c\\\\u72c6\"}, {\"dog_id\": 10, \"image\": \"http://www.bsbj.net/iv/dogs/dog10.jpg\", \"sort\": 1, \"date\": \"2016-08-08 16:12:47\", \"detail\": \"\\\\u62c9\\\\u5e03\\\\u62c9\\\\u591a\\\\u72ac\\\\u6216\\\\u79f0\\\\u62c9\\\\u5e03\\\\u62c9\\\\u591a\\\\u62fe\\\\u730e\\\\u72ac\\\\uff08\\\\u7b80\\\\u79f0\\\\u62c9\\\\u5e03\\\\u62c9\\\\u591a\\\\uff1b\\\\u82f1\\\\u8bed\\\\uff1aLabrador Retriever\\\\uff09\\\\u662f\\\\u4e00\\\\u79cd\\\\u4e2d\\\\u5927\\\\u578b\\\\u72ac\\\\u7c7b\\\\uff0c\\\\u5929\\\\u751f\\\\u4e2a\\\\u6027\\\\u6e29\\\\u548c\\\\u3001\\\\u6d3b\\\\u6cfc\\\\u3001\\\\u6ca1\\\\u6709\\\\u653b\\\\u51fb\\\\u6027\\\\u548c\\\\u667a\\\\u80fd\\\\u9ad8\\\\u3002\", \"name\": \"\\\\u62c9\\\\u5e03\\\\u62c9\\\\u591a\\\\u5bfb\\\\u56de\\\\u72ac\"}]}'"
      ]
     },
     "execution_count": 36,
     "metadata": {},
     "output_type": "execute_result"
    }
   ],
   "source": [
    "import requests\n",
    "import json\n",
    "\n",
    "response = requests.get('http://www.bsbj.net/iv/data.json')\n",
    "data = response.json()\n",
    "dogs_json = json.dumps(data)\n",
    "dogs_json"
   ]
  },
  {
   "cell_type": "code",
   "execution_count": 38,
   "metadata": {},
   "outputs": [
    {
     "data": {
      "text/plain": [
       "{'dogs': [{'date': '2016-08-08 16:12:47',\n",
       "   'detail': '秋田犬（日语：秋田犬／あきたいぬ／アキタイヌ Akita Inu *）是日本犬的一种，是国家天然纪念物之六种日本犬中唯一的大型犬种。',\n",
       "   'dog_id': 1,\n",
       "   'image': 'http://www.bsbj.net/iv/dogs/dog1.jpg',\n",
       "   'name': '秋田犬',\n",
       "   'sort': 6},\n",
       "  {'date': '2016-08-08 16:12:47',\n",
       "   'detail': '阿拉斯加雪橇犬（英语：Alaskan Malamute）又称阿拉斯加马拉穆，是最古老的雪橇犬之一。',\n",
       "   'dog_id': 2,\n",
       "   'image': 'http://www.bsbj.net/iv/dogs/dog2.jpg',\n",
       "   'name': '阿拉斯加雪橇犬',\n",
       "   'sort': 8},\n",
       "  {'date': '2016-08-08 16:12:47',\n",
       "   'detail': '美国爱斯基摩犬（英语：American Eskimo Dog）是一种来自德国的玩赏犬犬种。',\n",
       "   'dog_id': 3,\n",
       "   'image': 'http://www.bsbj.net/iv/dogs/dog3.jpg',\n",
       "   'name': '美国爱斯基摩犬',\n",
       "   'sort': 9},\n",
       "  {'date': '2016-08-08 16:12:47',\n",
       "   'detail': '都柏文，又称杜宾犬（德语：Dobermann，英语：Doberman Pinscher）是原产于德国的一种中大型犬，大约在1890年由Karl Friedrich Louis Dobermann所培育出来。是最常被用来作为军事用途的军犬。',\n",
       "   'dog_id': 4,\n",
       "   'image': 'http://www.bsbj.net/iv/dogs/dog4.jpg',\n",
       "   'name': '杜宾犬',\n",
       "   'sort': 7},\n",
       "  {'date': '2016-08-08 16:12:47',\n",
       "   'detail': '英国可卡犬是猎犬的一个品种。英国可卡犬是一个活跃的、和蔼的猎犬，有着很好的身材和 马肩隆。',\n",
       "   'dog_id': 5,\n",
       "   'image': 'http://www.bsbj.net/iv/dogs/dog5.jpg',\n",
       "   'name': '英国可卡犬',\n",
       "   'sort': 4},\n",
       "  {'date': '2016-08-08 16:12:47',\n",
       "   'detail': '法国斗牛犬（英语：French Bulldog，法语：bouledogue français，或bouledogue），一种小型犬种，在1800年代，利用英国进口的斗牛犬，与巴黎本地的小型犬，在法国培育出来。',\n",
       "   'dog_id': 6,\n",
       "   'image': 'http://www.bsbj.net/iv/dogs/dog6.jpg',\n",
       "   'name': '法国斗牛犬',\n",
       "   'sort': 5},\n",
       "  {'date': '2016-08-08 16:12:47',\n",
       "   'detail': '德国牧羊犬又称德国狼犬〈英文：German Shepherd Dog〉，是狗的一个品种，德国牧羊犬很聪明，在所有犬类的智商排名中排行第三。',\n",
       "   'dog_id': 7,\n",
       "   'image': 'http://www.bsbj.net/iv/dogs/dog7.jpg',\n",
       "   'name': '德国牧羊犬',\n",
       "   'sort': 3},\n",
       "  {'date': '2016-08-08 16:12:47',\n",
       "   'detail': '大丹犬（英语：Great Dane），也称做大丹狗、德国獒（德语：Deutsche Dogge）、丹麦猎犬（德语：Dänischer Hund）曾被欧洲王室及贵族饲养，是贵族身份地位的象征。',\n",
       "   'dog_id': 8,\n",
       "   'image': 'http://www.bsbj.net/iv/dogs/dog8.jpg',\n",
       "   'name': '大丹犬',\n",
       "   'sort': 10},\n",
       "  {'date': '2016-08-08 16:12:47',\n",
       "   'detail': '狆（日语：狆，英语：Japanese Chin）是原产于日本的一种小型犬。头大、宽且平。鼻子宽而且短，鼻梁明显，鼻子与眼睛在一个水平线上，黑亮的眼睛大又圆，隔着鼻子相对应。',\n",
       "   'dog_id': 9,\n",
       "   'image': 'http://www.bsbj.net/iv/dogs/dog9.jpg',\n",
       "   'name': '日本狆',\n",
       "   'sort': 2},\n",
       "  {'date': '2016-08-08 16:12:47',\n",
       "   'detail': '拉布拉多犬或称拉布拉多拾猎犬（简称拉布拉多；英语：Labrador Retriever）是一种中大型犬类，天生个性温和、活泼、没有攻击性和智能高。',\n",
       "   'dog_id': 10,\n",
       "   'image': 'http://www.bsbj.net/iv/dogs/dog10.jpg',\n",
       "   'name': '拉布拉多寻回犬',\n",
       "   'sort': 1}]}"
      ]
     },
     "execution_count": 38,
     "metadata": {},
     "output_type": "execute_result"
    }
   ],
   "source": [
    "dogs = json.loads(dogs_json)\n",
    "dogs"
   ]
  },
  {
   "cell_type": "markdown",
   "metadata": {},
   "source": [
    "* YAMlk\n",
    "和JSON类似,YAML同样有键值,但主要是用来处理日期和时间这样的数据类型,标准的Python库没有处理YAML的模块,因此需要安装第三方库yaml操作数据"
   ]
  },
  {
   "cell_type": "code",
   "execution_count": 7,
   "metadata": {},
   "outputs": [
    {
     "data": {
      "text/plain": [
       "{'bearded': True, 'themes': ['cheese', 'Canada']}"
      ]
     },
     "execution_count": 7,
     "metadata": {},
     "output_type": "execute_result"
    }
   ],
   "source": [
    "import yaml\n",
    "with open('mcintyre.yaml','rt') as fin:\n",
    "    text = fin.read()\n",
    "\n",
    "data = yaml.load(text)\n",
    "data['details']"
   ]
  },
  {
   "cell_type": "code",
   "execution_count": 9,
   "metadata": {},
   "outputs": [
    {
     "data": {
      "text/plain": [
       "2"
      ]
     },
     "execution_count": 9,
     "metadata": {},
     "output_type": "execute_result"
    }
   ],
   "source": [
    "len(data['poems'])"
   ]
  },
  {
   "cell_type": "markdown",
   "metadata": {},
   "source": [
    "* 安全提示"
   ]
  },
  {
   "cell_type": "code",
   "execution_count": 13,
   "metadata": {},
   "outputs": [
    {
     "ename": "NameError",
     "evalue": "name 'xmlfile' is not defined",
     "output_type": "error",
     "traceback": [
      "\u001b[0;31m---------------------------------------------------------------------------\u001b[0m",
      "\u001b[0;31mNameError\u001b[0m                                 Traceback (most recent call last)",
      "\u001b[0;32m<ipython-input-13-cb28598f3d1a>\u001b[0m in \u001b[0;36m<module>\u001b[0;34m()\u001b[0m\n\u001b[1;32m      1\u001b[0m \u001b[0;31m# 不安全:\u001b[0m\u001b[0;34m\u001b[0m\u001b[0;34m\u001b[0m\u001b[0m\n\u001b[1;32m      2\u001b[0m \u001b[0;32mfrom\u001b[0m \u001b[0mxml\u001b[0m\u001b[0;34m.\u001b[0m\u001b[0metree\u001b[0m\u001b[0;34m.\u001b[0m\u001b[0mElementTree\u001b[0m \u001b[0;32mimport\u001b[0m \u001b[0mparse\u001b[0m\u001b[0;34m\u001b[0m\u001b[0m\n\u001b[0;32m----> 3\u001b[0;31m \u001b[0met\u001b[0m \u001b[0;34m=\u001b[0m \u001b[0mparse\u001b[0m\u001b[0;34m(\u001b[0m\u001b[0mxmlfile\u001b[0m\u001b[0;34m)\u001b[0m\u001b[0;34m\u001b[0m\u001b[0m\n\u001b[0m\u001b[1;32m      4\u001b[0m \u001b[0;34m\u001b[0m\u001b[0m\n\u001b[1;32m      5\u001b[0m \u001b[0;31m# 受保护:\u001b[0m\u001b[0;34m\u001b[0m\u001b[0;34m\u001b[0m\u001b[0m\n",
      "\u001b[0;31mNameError\u001b[0m: name 'xmlfile' is not defined"
     ]
    }
   ],
   "source": [
    "# 不安全:\n",
    "from xml.etree.ElementTree import parse\n",
    "et = parse(xmlfile)\n",
    "\n",
    "# 受保护:\n",
    "from defusedxml.ElementTree import parse\n",
    "et = parse(xmlfile)"
   ]
  },
  {
   "cell_type": "markdown",
   "metadata": {},
   "source": [
    "* 配置文件"
   ]
  },
  {
   "cell_type": "code",
   "execution_count": 16,
   "metadata": {},
   "outputs": [
    {
     "data": {
      "text/plain": [
       "<configparser.ConfigParser at 0x104db2550>"
      ]
     },
     "execution_count": 16,
     "metadata": {},
     "output_type": "execute_result"
    }
   ],
   "source": [
    "import configparser\n",
    "cfg = configparser.ConfigParser()\n",
    "cfg.read('setting.cfg')\n",
    "cfg"
   ]
  },
  {
   "cell_type": "code",
   "execution_count": 19,
   "metadata": {},
   "outputs": [
    {
     "data": {
      "text/plain": [
       "<Section: french>"
      ]
     },
     "execution_count": 19,
     "metadata": {},
     "output_type": "execute_result"
    }
   ],
   "source": [
    "cfg['french']"
   ]
  },
  {
   "cell_type": "code",
   "execution_count": 20,
   "metadata": {},
   "outputs": [
    {
     "data": {
      "text/plain": [
       "'Bonjour'"
      ]
     },
     "execution_count": 20,
     "metadata": {},
     "output_type": "execute_result"
    }
   ],
   "source": [
    "cfg['french']['greeting']"
   ]
  },
  {
   "cell_type": "code",
   "execution_count": 21,
   "metadata": {},
   "outputs": [
    {
     "data": {
      "text/plain": [
       "'/usr/local/bin'"
      ]
     },
     "execution_count": 21,
     "metadata": {},
     "output_type": "execute_result"
    }
   ],
   "source": [
    "cfg['files']['bin']"
   ]
  },
  {
   "cell_type": "markdown",
   "metadata": {},
   "source": [
    "#### 使用pickle序列化"
   ]
  },
  {
   "cell_type": "code",
   "execution_count": 24,
   "metadata": {},
   "outputs": [
    {
     "data": {
      "text/plain": [
       "datetime.datetime(2017, 11, 3, 5, 50, 3, 604812)"
      ]
     },
     "execution_count": 24,
     "metadata": {},
     "output_type": "execute_result"
    }
   ],
   "source": [
    "import pickle\n",
    "import datetime\n",
    "\n",
    "now1 = datetime.datetime.utcnow()\n",
    "pickled = pickle.dumps(now1)\n",
    "now2 = pickle.loads(pickled)\n",
    "now1"
   ]
  },
  {
   "cell_type": "code",
   "execution_count": 25,
   "metadata": {},
   "outputs": [
    {
     "data": {
      "text/plain": [
       "datetime.datetime(2017, 11, 3, 5, 50, 3, 604812)"
      ]
     },
     "execution_count": 25,
     "metadata": {},
     "output_type": "execute_result"
    }
   ],
   "source": [
    "now2"
   ]
  },
  {
   "cell_type": "markdown",
   "metadata": {},
   "source": [
    "#### 结构化二进制文件"
   ]
  },
  {
   "cell_type": "markdown",
   "metadata": {},
   "source": [
    "* 电子数据表 Microsoft Excel\\ CSV\n",
    "* 层次数据表 层次数据格式(HDF5)是一种用于多维数据或者层次数值数据的二进制数据格式 主要用在科学计算领域,快速读取海量数据集(GB或TB)是常见的需求,即使某些情况下HDF5能很好地替代数据库,但它在商业应用上也是默默无闻.它能适用于WORM(Write Once/Read Many;一次写入,多次读取)应用,不用担心写操作冲突的数据保护,下面是两个可能有用的模块:\n",
    "    * h5py\n",
    "    * PyTables"
   ]
  },
  {
   "cell_type": "markdown",
   "metadata": {},
   "source": [
    "### 关系型数据库"
   ]
  },
  {
   "cell_type": "markdown",
   "metadata": {},
   "source": [
    "关系型数据库虽然只有 40 多年的历史，却无处不在。你一定曾经和它打过交道，使用时\n",
    " 你会体会到它提供的如下功能:\n",
    "* 多用户同时访问数据;\n",
    "* 用户使用数据的保护;\n",
    "* 高效地存储和检索数据;\n",
    "* 数据被模式定义以及被约束限制;\n",
    "* Joins 通过连接发现不同数据之间的关系;\n",
    "* 声明式(非命令式)查询语言，SQL(Structured Query Language)。\n",
    "\n",
    "之所以被称为关系型(relational)是因为数据库展现了表单(table)形式的不同类型数据 之间的关系。例如之前菜单的例子中，每一项和它的价格是有对应关系的。"
   ]
  },
  {
   "cell_type": "markdown",
   "metadata": {},
   "source": [
    "#### SQLite"
   ]
  },
  {
   "cell_type": "code",
   "execution_count": 46,
   "metadata": {},
   "outputs": [],
   "source": [
    "import sqlite3\n",
    "conn = sqlite3.connect('enterprise.db')\n",
    "curs = conn.cursor()\n",
    "# curs.execute('''CREATE TABLE zoo\n",
    "# (critter VARCHAR(20) PRIMARY KEY,\n",
    "#  count INT,\n",
    "#  damages FLOAT)''')"
   ]
  },
  {
   "cell_type": "code",
   "execution_count": 47,
   "metadata": {},
   "outputs": [
    {
     "ename": "OperationalError",
     "evalue": "database is locked",
     "output_type": "error",
     "traceback": [
      "\u001b[0;31m---------------------------------------------------------------------------\u001b[0m",
      "\u001b[0;31mOperationalError\u001b[0m                          Traceback (most recent call last)",
      "\u001b[0;32m<ipython-input-47-7696e0238589>\u001b[0m in \u001b[0;36m<module>\u001b[0;34m()\u001b[0m\n\u001b[0;32m----> 1\u001b[0;31m \u001b[0mcurs\u001b[0m\u001b[0;34m.\u001b[0m\u001b[0mexecute\u001b[0m\u001b[0;34m(\u001b[0m\u001b[0;34m'INSERT INTO zoo VALUES(\"monkey\",10,2.0)'\u001b[0m\u001b[0;34m)\u001b[0m\u001b[0;34m\u001b[0m\u001b[0m\n\u001b[0m",
      "\u001b[0;31mOperationalError\u001b[0m: database is locked"
     ]
    }
   ],
   "source": [
    "curs.execute('INSERT INTO zoo VALUES(\"monkey\",10,2.0)')"
   ]
  },
  {
   "cell_type": "markdown",
   "metadata": {},
   "source": [
    "* 使用placeholder是一种更安全的 插入数据的方法"
   ]
  },
  {
   "cell_type": "code",
   "execution_count": null,
   "metadata": {},
   "outputs": [],
   "source": [
    "ins = 'INSERT INTO zoo (critter,count,damages) VALUES(?,?,?)'\n",
    "curs.execute(ins,('weasel',1,2000.0))"
   ]
  },
  {
   "cell_type": "code",
   "execution_count": 43,
   "metadata": {},
   "outputs": [
    {
     "data": {
      "text/plain": [
       "<sqlite3.Cursor at 0x104dbb340>"
      ]
     },
     "execution_count": 43,
     "metadata": {},
     "output_type": "execute_result"
    }
   ],
   "source": [
    "curs.execute('SELECT * FROM zoo')"
   ]
  },
  {
   "cell_type": "code",
   "execution_count": null,
   "metadata": {},
   "outputs": [],
   "source": [
    "rows = curs.fetchall()\n",
    "print(rows)"
   ]
  },
  {
   "cell_type": "code",
   "execution_count": 49,
   "metadata": {},
   "outputs": [],
   "source": [
    "curs.close()\n",
    "conn.close()"
   ]
  },
  {
   "cell_type": "markdown",
   "metadata": {},
   "source": [
    "#### MySQL"
   ]
  },
  {
   "cell_type": "markdown",
   "metadata": {},
   "source": [
    "![](http://owz0zbwsq.bkt.clouddn.com/MySQL.png)"
   ]
  },
  {
   "cell_type": "markdown",
   "metadata": {},
   "source": [
    "#### PostgreSQL\n",
    "![](http://owz0zbwsq.bkt.clouddn.com/PostgreSQL.png)"
   ]
  },
  {
   "cell_type": "markdown",
   "metadata": {},
   "source": [
    "#### SQLAlchemy"
   ]
  },
  {
   "cell_type": "markdown",
   "metadata": {},
   "source": [
    "* 引擎层"
   ]
  },
  {
   "cell_type": "code",
   "execution_count": 52,
   "metadata": {},
   "outputs": [
    {
     "data": {
      "text/plain": [
       "<sqlalchemy.engine.result.ResultProxy at 0x104dad828>"
      ]
     },
     "execution_count": 52,
     "metadata": {},
     "output_type": "execute_result"
    }
   ],
   "source": [
    "import sqlalchemy as sa\n",
    "\n",
    "conn  = sa.create_engine('sqlite://')\n",
    "conn.execute('''CREATE TABLE zoo\n",
    "(critter VARCHER(20) PRIMARY KEY,\n",
    "count INT,\n",
    "damages FLOAT)''')"
   ]
  },
  {
   "cell_type": "code",
   "execution_count": 53,
   "metadata": {},
   "outputs": [
    {
     "data": {
      "text/plain": [
       "<sqlalchemy.engine.result.ResultProxy at 0x105826400>"
      ]
     },
     "execution_count": 53,
     "metadata": {},
     "output_type": "execute_result"
    }
   ],
   "source": [
    "ins = 'INSERT INTO zoo (critter,count,damages) VALUES(?,?,?)'\n",
    "conn.execute(ins,'duck',10,0.0)\n",
    "conn.execute(ins,'money',100,20.0)\n",
    "conn.execute(ins,'bear',8,50.0)"
   ]
  },
  {
   "cell_type": "code",
   "execution_count": 54,
   "metadata": {},
   "outputs": [],
   "source": [
    "rows = conn.execute('SELECT * FROM zoo')"
   ]
  },
  {
   "cell_type": "code",
   "execution_count": 55,
   "metadata": {},
   "outputs": [
    {
     "name": "stdout",
     "output_type": "stream",
     "text": [
      "<sqlalchemy.engine.result.ResultProxy object at 0x105825898>\n"
     ]
    }
   ],
   "source": [
    "print(rows)"
   ]
  },
  {
   "cell_type": "code",
   "execution_count": 56,
   "metadata": {},
   "outputs": [
    {
     "name": "stdout",
     "output_type": "stream",
     "text": [
      "('duck', 10, 0.0)\n",
      "('money', 100, 20.0)\n",
      "('bear', 8, 50.0)\n"
     ]
    }
   ],
   "source": [
    "for row in rows:\n",
    "    print(row)"
   ]
  },
  {
   "cell_type": "markdown",
   "metadata": {},
   "source": [
    "* SQL表达式语言"
   ]
  },
  {
   "cell_type": "code",
   "execution_count": 58,
   "metadata": {},
   "outputs": [],
   "source": [
    "import sqlalchemy as sa\n",
    "\n",
    "conn  = sa.create_engine('sqlite://')\n",
    "meta = sa.MetaData()\n",
    "zoo = sa.Table('zoo',meta,\n",
    "               sa.Column('critter',sa.String,primary_key=True),\n",
    "               sa.Column('count',sa.Integer),\n",
    "               sa.Column('damages',sa.Float))\n",
    "meta.create_all(conn)"
   ]
  },
  {
   "cell_type": "code",
   "execution_count": 60,
   "metadata": {},
   "outputs": [
    {
     "data": {
      "text/plain": [
       "<sqlalchemy.engine.result.ResultProxy at 0x10640cd68>"
      ]
     },
     "execution_count": 60,
     "metadata": {},
     "output_type": "execute_result"
    }
   ],
   "source": [
    "conn.execute(zoo.insert(('chicken',33,2.0)))"
   ]
  },
  {
   "cell_type": "code",
   "execution_count": 62,
   "metadata": {},
   "outputs": [
    {
     "name": "stdout",
     "output_type": "stream",
     "text": [
      "[('chicken', 33, 2.0)]\n"
     ]
    }
   ],
   "source": [
    "result = conn.execute(zoo.select())\n",
    "rows = result.fetchall()\n",
    "print(rows)"
   ]
  },
  {
   "cell_type": "markdown",
   "metadata": {},
   "source": [
    "* 对象关系映射(ORM)"
   ]
  },
  {
   "cell_type": "code",
   "execution_count": 63,
   "metadata": {},
   "outputs": [],
   "source": [
    "import sqlalchemy as sa\n",
    "from sqlalchemy.ext.declarative import declarative_base\n",
    "\n",
    "conn = sa.create_engine('sqlite:///zoo.db')\n",
    "\n",
    "Base = declarative_base()\n",
    "class Zoo(Base):\n",
    "    __tablename__ = 'zoo'\n",
    "    critter = sa.Column('critter',sa.String,primary_key=True)\n",
    "    count = sa.Column('count',sa.Integer)\n",
    "    damages = sa.Column('damages',sa.Float)\n",
    "    \n",
    "    def __init__(self,critter,count,damages):\n",
    "        self.critter = critter\n",
    "        self.count = count\n",
    "        self.damages = damages\n",
    "        \n",
    "    def __repr__(self):\n",
    "        return '<Zoo({},{},{})>'.format(self.critter,self.count,self.damages)\n",
    "    "
   ]
  },
  {
   "cell_type": "code",
   "execution_count": 64,
   "metadata": {},
   "outputs": [],
   "source": [
    "# 下面这行代码可以很神奇地创建数据库和表单\n",
    "Base.metadata.create_all(conn)"
   ]
  },
  {
   "cell_type": "code",
   "execution_count": 65,
   "metadata": {},
   "outputs": [
    {
     "data": {
      "text/plain": [
       "<Zoo(duck,20,0.0)>"
      ]
     },
     "execution_count": 65,
     "metadata": {},
     "output_type": "execute_result"
    }
   ],
   "source": [
    "first = Zoo('duck',20,0.0)\n",
    "first"
   ]
  },
  {
   "cell_type": "code",
   "execution_count": 66,
   "metadata": {},
   "outputs": [],
   "source": [
    "# 接下来,利用ORM接触SQL,创建连接到数据库的会话(session)\n",
    "from sqlalchemy.orm import sessionmaker\n",
    "\n",
    "Session = sessionmaker(bind=conn)\n",
    "session = Session()\n",
    "session.add(first)\n",
    "# session.add_all()\n",
    "session.commit()"
   ]
  },
  {
   "cell_type": "markdown",
   "metadata": {},
   "source": [
    "### NoSQL数据存储"
   ]
  },
  {
   "cell_type": "markdown",
   "metadata": {},
   "source": [
    "#### dbm family"
   ]
  },
  {
   "cell_type": "markdown",
   "metadata": {},
   "source": [
    "从以下角度看，dbm 数据库和 Python 字典是类似的:\n",
    "* 给一个键赋值,自动保存到磁盘中的数据\n",
    "* 通过键得到对应的值"
   ]
  },
  {
   "cell_type": "code",
   "execution_count": 67,
   "metadata": {},
   "outputs": [
    {
     "data": {
      "text/plain": [
       "3"
      ]
     },
     "execution_count": 67,
     "metadata": {},
     "output_type": "execute_result"
    }
   ],
   "source": [
    "# 下面简单的例子中，open() 方法的第二个参数 'r' 代表读;'w' 代表写;'c' 表示读和写， 如果文件不存在则创建之\n",
    "import dbm\n",
    "\n",
    "db = dbm.open('definitions','c')\n",
    "db['mustard'] = 'yellow'\n",
    "db['ketchup'] = 'red'\n",
    "db['pesto'] = 'green'\n",
    "\n",
    "len(db)"
   ]
  },
  {
   "cell_type": "code",
   "execution_count": 68,
   "metadata": {},
   "outputs": [
    {
     "data": {
      "text/plain": [
       "b'green'"
      ]
     },
     "execution_count": 68,
     "metadata": {},
     "output_type": "execute_result"
    }
   ],
   "source": [
    "db['pesto']"
   ]
  },
  {
   "cell_type": "code",
   "execution_count": 69,
   "metadata": {},
   "outputs": [],
   "source": [
    "db.close()"
   ]
  },
  {
   "cell_type": "code",
   "execution_count": 70,
   "metadata": {},
   "outputs": [
    {
     "data": {
      "text/plain": [
       "b'red'"
      ]
     },
     "execution_count": 70,
     "metadata": {},
     "output_type": "execute_result"
    }
   ],
   "source": [
    "db = dbm.open('definitions','r')\n",
    "db['ketchup']"
   ]
  },
  {
   "cell_type": "markdown",
   "metadata": {},
   "source": [
    "* 键和值都以字节保存,因此不能对数据库对象db进行迭代,但是可以使用函数len()得到键的数目\n",
    "* 注意get()和setdefault()函数只能用于字典的方法"
   ]
  },
  {
   "cell_type": "markdown",
   "metadata": {},
   "source": [
    "#### memcached\n",
    "\n",
    "数据在 memcached 并不是持久化保存的，后面的可能会覆盖早些写入的数据，这本来就是 它的固有特性，因为它作为一个缓存服务器，通过舍弃旧数据避免程序运行时内存不足的问题。"
   ]
  },
  {
   "cell_type": "code",
   "execution_count": 74,
   "metadata": {},
   "outputs": [
    {
     "data": {
      "text/plain": [
       "0"
      ]
     },
     "execution_count": 74,
     "metadata": {},
     "output_type": "execute_result"
    }
   ],
   "source": [
    "import memcache\n",
    "\n",
    "db = memcache.Client(['127.0.0.1:11211'])\n",
    "db.set('marco','polo')"
   ]
  },
  {
   "cell_type": "code",
   "execution_count": 75,
   "metadata": {},
   "outputs": [],
   "source": [
    "db.get('marco')"
   ]
  },
  {
   "cell_type": "markdown",
   "metadata": {},
   "source": [
    "#### Redis"
   ]
  },
  {
   "cell_type": "markdown",
   "metadata": {},
   "source": [
    "![](http://owz0zbwsq.bkt.clouddn.com/Redis.png)"
   ]
  },
  {
   "cell_type": "markdown",
   "metadata": {},
   "source": [
    "* 字符串\n",
    "\n",
    "具有单一值的一个键被称作Redis的字符串"
   ]
  },
  {
   "cell_type": "code",
   "execution_count": 82,
   "metadata": {},
   "outputs": [
    {
     "ename": "ConnectionError",
     "evalue": "Error 61 connecting to localhost:6379. Connection refused.",
     "output_type": "error",
     "traceback": [
      "\u001b[0;31m---------------------------------------------------------------------------\u001b[0m",
      "\u001b[0;31mConnectionRefusedError\u001b[0m                    Traceback (most recent call last)",
      "\u001b[0;32m~/Desktop/PythonTest/vir/py3/lib/python3.5/site-packages/redis/connection.py\u001b[0m in \u001b[0;36mconnect\u001b[0;34m(self)\u001b[0m\n\u001b[1;32m    483\u001b[0m         \u001b[0;32mtry\u001b[0m\u001b[0;34m:\u001b[0m\u001b[0;34m\u001b[0m\u001b[0m\n\u001b[0;32m--> 484\u001b[0;31m             \u001b[0msock\u001b[0m \u001b[0;34m=\u001b[0m \u001b[0mself\u001b[0m\u001b[0;34m.\u001b[0m\u001b[0m_connect\u001b[0m\u001b[0;34m(\u001b[0m\u001b[0;34m)\u001b[0m\u001b[0;34m\u001b[0m\u001b[0m\n\u001b[0m\u001b[1;32m    485\u001b[0m         \u001b[0;32mexcept\u001b[0m \u001b[0msocket\u001b[0m\u001b[0;34m.\u001b[0m\u001b[0mtimeout\u001b[0m\u001b[0;34m:\u001b[0m\u001b[0;34m\u001b[0m\u001b[0m\n",
      "\u001b[0;32m~/Desktop/PythonTest/vir/py3/lib/python3.5/site-packages/redis/connection.py\u001b[0m in \u001b[0;36m_connect\u001b[0;34m(self)\u001b[0m\n\u001b[1;32m    540\u001b[0m         \u001b[0;32mif\u001b[0m \u001b[0merr\u001b[0m \u001b[0;32mis\u001b[0m \u001b[0;32mnot\u001b[0m \u001b[0;32mNone\u001b[0m\u001b[0;34m:\u001b[0m\u001b[0;34m\u001b[0m\u001b[0m\n\u001b[0;32m--> 541\u001b[0;31m             \u001b[0;32mraise\u001b[0m \u001b[0merr\u001b[0m\u001b[0;34m\u001b[0m\u001b[0m\n\u001b[0m\u001b[1;32m    542\u001b[0m         \u001b[0;32mraise\u001b[0m \u001b[0msocket\u001b[0m\u001b[0;34m.\u001b[0m\u001b[0merror\u001b[0m\u001b[0;34m(\u001b[0m\u001b[0;34m\"socket.getaddrinfo returned an empty list\"\u001b[0m\u001b[0;34m)\u001b[0m\u001b[0;34m\u001b[0m\u001b[0m\n",
      "\u001b[0;32m~/Desktop/PythonTest/vir/py3/lib/python3.5/site-packages/redis/connection.py\u001b[0m in \u001b[0;36m_connect\u001b[0;34m(self)\u001b[0m\n\u001b[1;32m    528\u001b[0m                 \u001b[0;31m# connect\u001b[0m\u001b[0;34m\u001b[0m\u001b[0;34m\u001b[0m\u001b[0m\n\u001b[0;32m--> 529\u001b[0;31m                 \u001b[0msock\u001b[0m\u001b[0;34m.\u001b[0m\u001b[0mconnect\u001b[0m\u001b[0;34m(\u001b[0m\u001b[0msocket_address\u001b[0m\u001b[0;34m)\u001b[0m\u001b[0;34m\u001b[0m\u001b[0m\n\u001b[0m\u001b[1;32m    530\u001b[0m \u001b[0;34m\u001b[0m\u001b[0m\n",
      "\u001b[0;31mConnectionRefusedError\u001b[0m: [Errno 61] Connection refused",
      "\nDuring handling of the above exception, another exception occurred:\n",
      "\u001b[0;31mConnectionError\u001b[0m                           Traceback (most recent call last)",
      "\u001b[0;32m~/Desktop/PythonTest/vir/py3/lib/python3.5/site-packages/redis/client.py\u001b[0m in \u001b[0;36mexecute_command\u001b[0;34m(self, *args, **options)\u001b[0m\n\u001b[1;32m    666\u001b[0m         \u001b[0;32mtry\u001b[0m\u001b[0;34m:\u001b[0m\u001b[0;34m\u001b[0m\u001b[0m\n\u001b[0;32m--> 667\u001b[0;31m             \u001b[0mconnection\u001b[0m\u001b[0;34m.\u001b[0m\u001b[0msend_command\u001b[0m\u001b[0;34m(\u001b[0m\u001b[0;34m*\u001b[0m\u001b[0margs\u001b[0m\u001b[0;34m)\u001b[0m\u001b[0;34m\u001b[0m\u001b[0m\n\u001b[0m\u001b[1;32m    668\u001b[0m             \u001b[0;32mreturn\u001b[0m \u001b[0mself\u001b[0m\u001b[0;34m.\u001b[0m\u001b[0mparse_response\u001b[0m\u001b[0;34m(\u001b[0m\u001b[0mconnection\u001b[0m\u001b[0;34m,\u001b[0m \u001b[0mcommand_name\u001b[0m\u001b[0;34m,\u001b[0m \u001b[0;34m**\u001b[0m\u001b[0moptions\u001b[0m\u001b[0;34m)\u001b[0m\u001b[0;34m\u001b[0m\u001b[0m\n",
      "\u001b[0;32m~/Desktop/PythonTest/vir/py3/lib/python3.5/site-packages/redis/connection.py\u001b[0m in \u001b[0;36msend_command\u001b[0;34m(self, *args)\u001b[0m\n\u001b[1;32m    609\u001b[0m         \u001b[0;34m\"Pack and send a command to the Redis server\"\u001b[0m\u001b[0;34m\u001b[0m\u001b[0m\n\u001b[0;32m--> 610\u001b[0;31m         \u001b[0mself\u001b[0m\u001b[0;34m.\u001b[0m\u001b[0msend_packed_command\u001b[0m\u001b[0;34m(\u001b[0m\u001b[0mself\u001b[0m\u001b[0;34m.\u001b[0m\u001b[0mpack_command\u001b[0m\u001b[0;34m(\u001b[0m\u001b[0;34m*\u001b[0m\u001b[0margs\u001b[0m\u001b[0;34m)\u001b[0m\u001b[0;34m)\u001b[0m\u001b[0;34m\u001b[0m\u001b[0m\n\u001b[0m\u001b[1;32m    611\u001b[0m \u001b[0;34m\u001b[0m\u001b[0m\n",
      "\u001b[0;32m~/Desktop/PythonTest/vir/py3/lib/python3.5/site-packages/redis/connection.py\u001b[0m in \u001b[0;36msend_packed_command\u001b[0;34m(self, command)\u001b[0m\n\u001b[1;32m    584\u001b[0m         \u001b[0;32mif\u001b[0m \u001b[0;32mnot\u001b[0m \u001b[0mself\u001b[0m\u001b[0;34m.\u001b[0m\u001b[0m_sock\u001b[0m\u001b[0;34m:\u001b[0m\u001b[0;34m\u001b[0m\u001b[0m\n\u001b[0;32m--> 585\u001b[0;31m             \u001b[0mself\u001b[0m\u001b[0;34m.\u001b[0m\u001b[0mconnect\u001b[0m\u001b[0;34m(\u001b[0m\u001b[0;34m)\u001b[0m\u001b[0;34m\u001b[0m\u001b[0m\n\u001b[0m\u001b[1;32m    586\u001b[0m         \u001b[0;32mtry\u001b[0m\u001b[0;34m:\u001b[0m\u001b[0;34m\u001b[0m\u001b[0m\n",
      "\u001b[0;32m~/Desktop/PythonTest/vir/py3/lib/python3.5/site-packages/redis/connection.py\u001b[0m in \u001b[0;36mconnect\u001b[0;34m(self)\u001b[0m\n\u001b[1;32m    488\u001b[0m             \u001b[0me\u001b[0m \u001b[0;34m=\u001b[0m \u001b[0msys\u001b[0m\u001b[0;34m.\u001b[0m\u001b[0mexc_info\u001b[0m\u001b[0;34m(\u001b[0m\u001b[0;34m)\u001b[0m\u001b[0;34m[\u001b[0m\u001b[0;36m1\u001b[0m\u001b[0;34m]\u001b[0m\u001b[0;34m\u001b[0m\u001b[0m\n\u001b[0;32m--> 489\u001b[0;31m             \u001b[0;32mraise\u001b[0m \u001b[0mConnectionError\u001b[0m\u001b[0;34m(\u001b[0m\u001b[0mself\u001b[0m\u001b[0;34m.\u001b[0m\u001b[0m_error_message\u001b[0m\u001b[0;34m(\u001b[0m\u001b[0me\u001b[0m\u001b[0;34m)\u001b[0m\u001b[0;34m)\u001b[0m\u001b[0;34m\u001b[0m\u001b[0m\n\u001b[0m\u001b[1;32m    490\u001b[0m \u001b[0;34m\u001b[0m\u001b[0m\n",
      "\u001b[0;31mConnectionError\u001b[0m: Error 61 connecting to localhost:6379. Connection refused.",
      "\nDuring handling of the above exception, another exception occurred:\n",
      "\u001b[0;31mConnectionRefusedError\u001b[0m                    Traceback (most recent call last)",
      "\u001b[0;32m~/Desktop/PythonTest/vir/py3/lib/python3.5/site-packages/redis/connection.py\u001b[0m in \u001b[0;36mconnect\u001b[0;34m(self)\u001b[0m\n\u001b[1;32m    483\u001b[0m         \u001b[0;32mtry\u001b[0m\u001b[0;34m:\u001b[0m\u001b[0;34m\u001b[0m\u001b[0m\n\u001b[0;32m--> 484\u001b[0;31m             \u001b[0msock\u001b[0m \u001b[0;34m=\u001b[0m \u001b[0mself\u001b[0m\u001b[0;34m.\u001b[0m\u001b[0m_connect\u001b[0m\u001b[0;34m(\u001b[0m\u001b[0;34m)\u001b[0m\u001b[0;34m\u001b[0m\u001b[0m\n\u001b[0m\u001b[1;32m    485\u001b[0m         \u001b[0;32mexcept\u001b[0m \u001b[0msocket\u001b[0m\u001b[0;34m.\u001b[0m\u001b[0mtimeout\u001b[0m\u001b[0;34m:\u001b[0m\u001b[0;34m\u001b[0m\u001b[0m\n",
      "\u001b[0;32m~/Desktop/PythonTest/vir/py3/lib/python3.5/site-packages/redis/connection.py\u001b[0m in \u001b[0;36m_connect\u001b[0;34m(self)\u001b[0m\n\u001b[1;32m    540\u001b[0m         \u001b[0;32mif\u001b[0m \u001b[0merr\u001b[0m \u001b[0;32mis\u001b[0m \u001b[0;32mnot\u001b[0m \u001b[0;32mNone\u001b[0m\u001b[0;34m:\u001b[0m\u001b[0;34m\u001b[0m\u001b[0m\n\u001b[0;32m--> 541\u001b[0;31m             \u001b[0;32mraise\u001b[0m \u001b[0merr\u001b[0m\u001b[0;34m\u001b[0m\u001b[0m\n\u001b[0m\u001b[1;32m    542\u001b[0m         \u001b[0;32mraise\u001b[0m \u001b[0msocket\u001b[0m\u001b[0;34m.\u001b[0m\u001b[0merror\u001b[0m\u001b[0;34m(\u001b[0m\u001b[0;34m\"socket.getaddrinfo returned an empty list\"\u001b[0m\u001b[0;34m)\u001b[0m\u001b[0;34m\u001b[0m\u001b[0m\n",
      "\u001b[0;32m~/Desktop/PythonTest/vir/py3/lib/python3.5/site-packages/redis/connection.py\u001b[0m in \u001b[0;36m_connect\u001b[0;34m(self)\u001b[0m\n\u001b[1;32m    528\u001b[0m                 \u001b[0;31m# connect\u001b[0m\u001b[0;34m\u001b[0m\u001b[0;34m\u001b[0m\u001b[0m\n\u001b[0;32m--> 529\u001b[0;31m                 \u001b[0msock\u001b[0m\u001b[0;34m.\u001b[0m\u001b[0mconnect\u001b[0m\u001b[0;34m(\u001b[0m\u001b[0msocket_address\u001b[0m\u001b[0;34m)\u001b[0m\u001b[0;34m\u001b[0m\u001b[0m\n\u001b[0m\u001b[1;32m    530\u001b[0m \u001b[0;34m\u001b[0m\u001b[0m\n",
      "\u001b[0;31mConnectionRefusedError\u001b[0m: [Errno 61] Connection refused",
      "\nDuring handling of the above exception, another exception occurred:\n",
      "\u001b[0;31mConnectionError\u001b[0m                           Traceback (most recent call last)",
      "\u001b[0;32m<ipython-input-82-1b83ae43665f>\u001b[0m in \u001b[0;36m<module>\u001b[0;34m()\u001b[0m\n\u001b[1;32m      3\u001b[0m \u001b[0mconn\u001b[0m \u001b[0;34m=\u001b[0m \u001b[0mredis\u001b[0m\u001b[0;34m.\u001b[0m\u001b[0mRedis\u001b[0m\u001b[0;34m(\u001b[0m\u001b[0;34m'localhost'\u001b[0m\u001b[0;34m,\u001b[0m\u001b[0;36m6379\u001b[0m\u001b[0;34m)\u001b[0m\u001b[0;34m\u001b[0m\u001b[0m\n\u001b[1;32m      4\u001b[0m \u001b[0;31m# conn.keys('*')\u001b[0m\u001b[0;34m\u001b[0m\u001b[0;34m\u001b[0m\u001b[0m\n\u001b[0;32m----> 5\u001b[0;31m \u001b[0mconn\u001b[0m\u001b[0;34m.\u001b[0m\u001b[0mset\u001b[0m\u001b[0;34m(\u001b[0m\u001b[0;34m'secret'\u001b[0m\u001b[0;34m,\u001b[0m\u001b[0;34m'ni!'\u001b[0m\u001b[0;34m)\u001b[0m\u001b[0;34m\u001b[0m\u001b[0m\n\u001b[0m",
      "\u001b[0;32m~/Desktop/PythonTest/vir/py3/lib/python3.5/site-packages/redis/client.py\u001b[0m in \u001b[0;36mset\u001b[0;34m(self, name, value, ex, px, nx, xx)\u001b[0m\n\u001b[1;32m   1169\u001b[0m         \u001b[0;32mif\u001b[0m \u001b[0mxx\u001b[0m\u001b[0;34m:\u001b[0m\u001b[0;34m\u001b[0m\u001b[0m\n\u001b[1;32m   1170\u001b[0m             \u001b[0mpieces\u001b[0m\u001b[0;34m.\u001b[0m\u001b[0mappend\u001b[0m\u001b[0;34m(\u001b[0m\u001b[0;34m'XX'\u001b[0m\u001b[0;34m)\u001b[0m\u001b[0;34m\u001b[0m\u001b[0m\n\u001b[0;32m-> 1171\u001b[0;31m         \u001b[0;32mreturn\u001b[0m \u001b[0mself\u001b[0m\u001b[0;34m.\u001b[0m\u001b[0mexecute_command\u001b[0m\u001b[0;34m(\u001b[0m\u001b[0;34m'SET'\u001b[0m\u001b[0;34m,\u001b[0m \u001b[0;34m*\u001b[0m\u001b[0mpieces\u001b[0m\u001b[0;34m)\u001b[0m\u001b[0;34m\u001b[0m\u001b[0m\n\u001b[0m\u001b[1;32m   1172\u001b[0m \u001b[0;34m\u001b[0m\u001b[0m\n\u001b[1;32m   1173\u001b[0m     \u001b[0;32mdef\u001b[0m \u001b[0m__setitem__\u001b[0m\u001b[0;34m(\u001b[0m\u001b[0mself\u001b[0m\u001b[0;34m,\u001b[0m \u001b[0mname\u001b[0m\u001b[0;34m,\u001b[0m \u001b[0mvalue\u001b[0m\u001b[0;34m)\u001b[0m\u001b[0;34m:\u001b[0m\u001b[0;34m\u001b[0m\u001b[0m\n",
      "\u001b[0;32m~/Desktop/PythonTest/vir/py3/lib/python3.5/site-packages/redis/client.py\u001b[0m in \u001b[0;36mexecute_command\u001b[0;34m(self, *args, **options)\u001b[0m\n\u001b[1;32m    671\u001b[0m             \u001b[0;32mif\u001b[0m \u001b[0;32mnot\u001b[0m \u001b[0mconnection\u001b[0m\u001b[0;34m.\u001b[0m\u001b[0mretry_on_timeout\u001b[0m \u001b[0;32mand\u001b[0m \u001b[0misinstance\u001b[0m\u001b[0;34m(\u001b[0m\u001b[0me\u001b[0m\u001b[0;34m,\u001b[0m \u001b[0mTimeoutError\u001b[0m\u001b[0;34m)\u001b[0m\u001b[0;34m:\u001b[0m\u001b[0;34m\u001b[0m\u001b[0m\n\u001b[1;32m    672\u001b[0m                 \u001b[0;32mraise\u001b[0m\u001b[0;34m\u001b[0m\u001b[0m\n\u001b[0;32m--> 673\u001b[0;31m             \u001b[0mconnection\u001b[0m\u001b[0;34m.\u001b[0m\u001b[0msend_command\u001b[0m\u001b[0;34m(\u001b[0m\u001b[0;34m*\u001b[0m\u001b[0margs\u001b[0m\u001b[0;34m)\u001b[0m\u001b[0;34m\u001b[0m\u001b[0m\n\u001b[0m\u001b[1;32m    674\u001b[0m             \u001b[0;32mreturn\u001b[0m \u001b[0mself\u001b[0m\u001b[0;34m.\u001b[0m\u001b[0mparse_response\u001b[0m\u001b[0;34m(\u001b[0m\u001b[0mconnection\u001b[0m\u001b[0;34m,\u001b[0m \u001b[0mcommand_name\u001b[0m\u001b[0;34m,\u001b[0m \u001b[0;34m**\u001b[0m\u001b[0moptions\u001b[0m\u001b[0;34m)\u001b[0m\u001b[0;34m\u001b[0m\u001b[0m\n\u001b[1;32m    675\u001b[0m         \u001b[0;32mfinally\u001b[0m\u001b[0;34m:\u001b[0m\u001b[0;34m\u001b[0m\u001b[0m\n",
      "\u001b[0;32m~/Desktop/PythonTest/vir/py3/lib/python3.5/site-packages/redis/connection.py\u001b[0m in \u001b[0;36msend_command\u001b[0;34m(self, *args)\u001b[0m\n\u001b[1;32m    608\u001b[0m     \u001b[0;32mdef\u001b[0m \u001b[0msend_command\u001b[0m\u001b[0;34m(\u001b[0m\u001b[0mself\u001b[0m\u001b[0;34m,\u001b[0m \u001b[0;34m*\u001b[0m\u001b[0margs\u001b[0m\u001b[0;34m)\u001b[0m\u001b[0;34m:\u001b[0m\u001b[0;34m\u001b[0m\u001b[0m\n\u001b[1;32m    609\u001b[0m         \u001b[0;34m\"Pack and send a command to the Redis server\"\u001b[0m\u001b[0;34m\u001b[0m\u001b[0m\n\u001b[0;32m--> 610\u001b[0;31m         \u001b[0mself\u001b[0m\u001b[0;34m.\u001b[0m\u001b[0msend_packed_command\u001b[0m\u001b[0;34m(\u001b[0m\u001b[0mself\u001b[0m\u001b[0;34m.\u001b[0m\u001b[0mpack_command\u001b[0m\u001b[0;34m(\u001b[0m\u001b[0;34m*\u001b[0m\u001b[0margs\u001b[0m\u001b[0;34m)\u001b[0m\u001b[0;34m)\u001b[0m\u001b[0;34m\u001b[0m\u001b[0m\n\u001b[0m\u001b[1;32m    611\u001b[0m \u001b[0;34m\u001b[0m\u001b[0m\n\u001b[1;32m    612\u001b[0m     \u001b[0;32mdef\u001b[0m \u001b[0mcan_read\u001b[0m\u001b[0;34m(\u001b[0m\u001b[0mself\u001b[0m\u001b[0;34m,\u001b[0m \u001b[0mtimeout\u001b[0m\u001b[0;34m=\u001b[0m\u001b[0;36m0\u001b[0m\u001b[0;34m)\u001b[0m\u001b[0;34m:\u001b[0m\u001b[0;34m\u001b[0m\u001b[0m\n",
      "\u001b[0;32m~/Desktop/PythonTest/vir/py3/lib/python3.5/site-packages/redis/connection.py\u001b[0m in \u001b[0;36msend_packed_command\u001b[0;34m(self, command)\u001b[0m\n\u001b[1;32m    583\u001b[0m         \u001b[0;34m\"Send an already packed command to the Redis server\"\u001b[0m\u001b[0;34m\u001b[0m\u001b[0m\n\u001b[1;32m    584\u001b[0m         \u001b[0;32mif\u001b[0m \u001b[0;32mnot\u001b[0m \u001b[0mself\u001b[0m\u001b[0;34m.\u001b[0m\u001b[0m_sock\u001b[0m\u001b[0;34m:\u001b[0m\u001b[0;34m\u001b[0m\u001b[0m\n\u001b[0;32m--> 585\u001b[0;31m             \u001b[0mself\u001b[0m\u001b[0;34m.\u001b[0m\u001b[0mconnect\u001b[0m\u001b[0;34m(\u001b[0m\u001b[0;34m)\u001b[0m\u001b[0;34m\u001b[0m\u001b[0m\n\u001b[0m\u001b[1;32m    586\u001b[0m         \u001b[0;32mtry\u001b[0m\u001b[0;34m:\u001b[0m\u001b[0;34m\u001b[0m\u001b[0m\n\u001b[1;32m    587\u001b[0m             \u001b[0;32mif\u001b[0m \u001b[0misinstance\u001b[0m\u001b[0;34m(\u001b[0m\u001b[0mcommand\u001b[0m\u001b[0;34m,\u001b[0m \u001b[0mstr\u001b[0m\u001b[0;34m)\u001b[0m\u001b[0;34m:\u001b[0m\u001b[0;34m\u001b[0m\u001b[0m\n",
      "\u001b[0;32m~/Desktop/PythonTest/vir/py3/lib/python3.5/site-packages/redis/connection.py\u001b[0m in \u001b[0;36mconnect\u001b[0;34m(self)\u001b[0m\n\u001b[1;32m    487\u001b[0m         \u001b[0;32mexcept\u001b[0m \u001b[0msocket\u001b[0m\u001b[0;34m.\u001b[0m\u001b[0merror\u001b[0m\u001b[0;34m:\u001b[0m\u001b[0;34m\u001b[0m\u001b[0m\n\u001b[1;32m    488\u001b[0m             \u001b[0me\u001b[0m \u001b[0;34m=\u001b[0m \u001b[0msys\u001b[0m\u001b[0;34m.\u001b[0m\u001b[0mexc_info\u001b[0m\u001b[0;34m(\u001b[0m\u001b[0;34m)\u001b[0m\u001b[0;34m[\u001b[0m\u001b[0;36m1\u001b[0m\u001b[0;34m]\u001b[0m\u001b[0;34m\u001b[0m\u001b[0m\n\u001b[0;32m--> 489\u001b[0;31m             \u001b[0;32mraise\u001b[0m \u001b[0mConnectionError\u001b[0m\u001b[0;34m(\u001b[0m\u001b[0mself\u001b[0m\u001b[0;34m.\u001b[0m\u001b[0m_error_message\u001b[0m\u001b[0;34m(\u001b[0m\u001b[0me\u001b[0m\u001b[0;34m)\u001b[0m\u001b[0;34m)\u001b[0m\u001b[0;34m\u001b[0m\u001b[0m\n\u001b[0m\u001b[1;32m    490\u001b[0m \u001b[0;34m\u001b[0m\u001b[0m\n\u001b[1;32m    491\u001b[0m         \u001b[0mself\u001b[0m\u001b[0;34m.\u001b[0m\u001b[0m_sock\u001b[0m \u001b[0;34m=\u001b[0m \u001b[0msock\u001b[0m\u001b[0;34m\u001b[0m\u001b[0m\n",
      "\u001b[0;31mConnectionError\u001b[0m: Error 61 connecting to localhost:6379. Connection refused."
     ]
    }
   ],
   "source": [
    "import redis\n",
    "\n",
    "conn = redis.Redis('localhost',6379)\n",
    "# conn.keys('*')\n",
    "conn.set('secret','ni!')"
   ]
  },
  {
   "cell_type": "code",
   "execution_count": null,
   "metadata": {},
   "outputs": [],
   "source": []
  }
 ],
 "metadata": {
  "kernelspec": {
   "display_name": "Python 3",
   "language": "python",
   "name": "python3"
  },
  "language_info": {
   "codemirror_mode": {
    "name": "ipython",
    "version": 3
   },
   "file_extension": ".py",
   "mimetype": "text/x-python",
   "name": "python",
   "nbconvert_exporter": "python",
   "pygments_lexer": "ipython3",
   "version": "3.5.2"
  }
 },
 "nbformat": 4,
 "nbformat_minor": 2
}

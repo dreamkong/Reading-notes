{
 "cells": [
  {
   "cell_type": "markdown",
   "metadata": {},
   "source": [
    "## 第八章 数据的归宿"
   ]
  },
  {
   "cell_type": "markdown",
   "metadata": {},
   "source": [
    "#### 文件输入/输出\n",
    "* fileobj = open(filename,mode)\n",
    "\n",
    "![open](http://owz0zbwsq.bkt.clouddn.com/file_open.png)"
   ]
  },
  {
   "cell_type": "markdown",
   "metadata": {},
   "source": [
    "* 使用write()写文本文件"
   ]
  },
  {
   "cell_type": "code",
   "execution_count": 3,
   "metadata": {},
   "outputs": [
    {
     "data": {
      "text/plain": [
       "150"
      ]
     },
     "execution_count": 3,
     "metadata": {},
     "output_type": "execute_result"
    }
   ],
   "source": [
    "poem = '''There was a young lady named Bright,\n",
    "Whose speed was far faster than light;\n",
    "She started one day\n",
    "In a relative way,\n",
    "And returned on the previous night.'''\n",
    "len(poem)"
   ]
  },
  {
   "cell_type": "code",
   "execution_count": 4,
   "metadata": {},
   "outputs": [],
   "source": [
    "fout = open('relativity','wt')\n",
    "fout.write(poem)\n",
    "fout.close()"
   ]
  },
  {
   "cell_type": "code",
   "execution_count": 7,
   "metadata": {},
   "outputs": [],
   "source": [
    "fout = open('relativity','wt')\n",
    "print(poem,file=fout,sep='',end='')\n",
    "fout.close()"
   ]
  },
  {
   "cell_type": "markdown",
   "metadata": {},
   "source": [
    "* 如果源字符串非常大,可以将数据分块.直到所有字符被写入"
   ]
  },
  {
   "cell_type": "code",
   "execution_count": 12,
   "metadata": {},
   "outputs": [],
   "source": [
    "fout = open('relativity','wt')\n",
    "size = len(poem)\n",
    "offset = 0\n",
    "chunk = 100\n",
    "while True:\n",
    "    if offset > size:\n",
    "        break\n",
    "    fout.write(poem[offset:offset+chunk])\n",
    "    offset += chunk\n",
    "fout.close()"
   ]
  },
  {
   "cell_type": "markdown",
   "metadata": {},
   "source": [
    "* 使用read() readline()或者readlines()读取文本文件"
   ]
  },
  {
   "cell_type": "code",
   "execution_count": 15,
   "metadata": {},
   "outputs": [
    {
     "data": {
      "text/plain": [
       "150"
      ]
     },
     "execution_count": 15,
     "metadata": {},
     "output_type": "execute_result"
    }
   ],
   "source": [
    "fin = open('relativity','rt')\n",
    "poem = fin.read()\n",
    "fin.close()\n",
    "len(poem)"
   ]
  },
  {
   "cell_type": "code",
   "execution_count": 16,
   "metadata": {},
   "outputs": [
    {
     "data": {
      "text/plain": [
       "150"
      ]
     },
     "execution_count": 16,
     "metadata": {},
     "output_type": "execute_result"
    }
   ],
   "source": [
    "poem = ''\n",
    "fin = open('relativity','rt')\n",
    "chunk = 100\n",
    "while True:\n",
    "    fragment = fin.read(chunk)\n",
    "    if not fragment:\n",
    "        break\n",
    "    poem += fragment\n",
    "fin.close()\n",
    "len(poem)"
   ]
  },
  {
   "cell_type": "code",
   "execution_count": 17,
   "metadata": {},
   "outputs": [
    {
     "data": {
      "text/plain": [
       "150"
      ]
     },
     "execution_count": 17,
     "metadata": {},
     "output_type": "execute_result"
    }
   ],
   "source": [
    "poem = ''\n",
    "fin = open('relativity','rt')\n",
    "while True:\n",
    "    fragment = fin.readline()\n",
    "    if not fragment:\n",
    "        break\n",
    "    poem += fragment\n",
    "fin.close()\n",
    "len(poem)"
   ]
  },
  {
   "cell_type": "markdown",
   "metadata": {},
   "source": [
    "* 读取文本文件最简单的方式是使用一个迭代器"
   ]
  },
  {
   "cell_type": "code",
   "execution_count": 18,
   "metadata": {},
   "outputs": [
    {
     "data": {
      "text/plain": [
       "150"
      ]
     },
     "execution_count": 18,
     "metadata": {},
     "output_type": "execute_result"
    }
   ],
   "source": [
    "poem = ''\n",
    "fin = open('relativity','rt')\n",
    "for line in fin:\n",
    "    poem += line\n",
    "fin.close()\n",
    "len(poem)"
   ]
  },
  {
   "cell_type": "markdown",
   "metadata": {},
   "source": [
    "* 使用write()写二进制文件"
   ]
  },
  {
   "cell_type": "code",
   "execution_count": 2,
   "metadata": {},
   "outputs": [
    {
     "data": {
      "text/plain": [
       "256"
      ]
     },
     "execution_count": 2,
     "metadata": {},
     "output_type": "execute_result"
    }
   ],
   "source": [
    "bdata = bytes(range(0,256))\n",
    "len(bdata)"
   ]
  },
  {
   "cell_type": "code",
   "execution_count": 5,
   "metadata": {},
   "outputs": [],
   "source": [
    "fout = open('bfile','wb')\n",
    "size = len(bdata)\n",
    "offset = 0\n",
    "chunk = 100\n",
    "while True:\n",
    "    if offset > size:\n",
    "        break\n",
    "    fout.write(bdata[offset:offset+chunk])\n",
    "    offset += chunk\n",
    "fout.close()"
   ]
  },
  {
   "cell_type": "markdown",
   "metadata": {},
   "source": [
    "* 使用read()读取二进制文件"
   ]
  },
  {
   "cell_type": "code",
   "execution_count": 11,
   "metadata": {},
   "outputs": [
    {
     "data": {
      "text/plain": [
       "256"
      ]
     },
     "execution_count": 11,
     "metadata": {},
     "output_type": "execute_result"
    }
   ],
   "source": [
    "fin = open('bfile','rb')\n",
    "bdata = fin.read()\n",
    "fin.close()\n",
    "len(bdata)"
   ]
  },
  {
   "cell_type": "markdown",
   "metadata": {},
   "source": [
    "* 使用with自动关闭文件"
   ]
  },
  {
   "cell_type": "code",
   "execution_count": 12,
   "metadata": {},
   "outputs": [],
   "source": [
    "with open('bfile','rb') as f:\n",
    "    f.read()"
   ]
  },
  {
   "cell_type": "markdown",
   "metadata": {},
   "source": [
    "* 使用seek()改变位置"
   ]
  },
  {
   "cell_type": "code",
   "execution_count": 13,
   "metadata": {},
   "outputs": [
    {
     "data": {
      "text/plain": [
       "0"
      ]
     },
     "execution_count": 13,
     "metadata": {},
     "output_type": "execute_result"
    }
   ],
   "source": [
    "fin = open('bfile','rb')\n",
    "fin.tell()"
   ]
  },
  {
   "cell_type": "code",
   "execution_count": 14,
   "metadata": {},
   "outputs": [
    {
     "data": {
      "text/plain": [
       "111"
      ]
     },
     "execution_count": 14,
     "metadata": {},
     "output_type": "execute_result"
    }
   ],
   "source": [
    "fin.seek(111)"
   ]
  },
  {
   "cell_type": "code",
   "execution_count": 15,
   "metadata": {},
   "outputs": [
    {
     "data": {
      "text/plain": [
       "111"
      ]
     },
     "execution_count": 15,
     "metadata": {},
     "output_type": "execute_result"
    }
   ],
   "source": [
    "fin.tell()"
   ]
  },
  {
   "cell_type": "markdown",
   "metadata": {},
   "source": [
    "* seek(offset,origin) offset偏移量 origin起始位置"
   ]
  },
  {
   "cell_type": "markdown",
   "metadata": {},
   "source": [
    "#### 结构和文本文件"
   ]
  },
  {
   "cell_type": "markdown",
   "metadata": {},
   "source": [
    "* CSV"
   ]
  },
  {
   "cell_type": "code",
   "execution_count": 17,
   "metadata": {},
   "outputs": [],
   "source": [
    "import csv\n",
    "villains = [\n",
    "    ['Doctor', 'No'],\n",
    "    ['Rosa', 'Klebb'],\n",
    "    ['Mister', 'Big'],\n",
    "    ['Auric', 'Goldfinger'],\n",
    "    ['Ernst', 'Blofeld'],\n",
    "]\n",
    "with open('villains','wt') as fout:\n",
    "    csvout = csv.writer(fout)\n",
    "    csvout.writerows(villains)"
   ]
  },
  {
   "cell_type": "code",
   "execution_count": 18,
   "metadata": {},
   "outputs": [
    {
     "data": {
      "text/plain": [
       "[['Doctor', 'No'],\n",
       " ['Rosa', 'Klebb'],\n",
       " ['Mister', 'Big'],\n",
       " ['Auric', 'Goldfinger'],\n",
       " ['Ernst', 'Blofeld']]"
      ]
     },
     "execution_count": 18,
     "metadata": {},
     "output_type": "execute_result"
    }
   ],
   "source": [
    "import csv\n",
    "with open('villains','rt') as fin:\n",
    "    cin = csv.reader(fin)\n",
    "    villains = [row for row in cin]\n",
    "villains"
   ]
  },
  {
   "cell_type": "markdown",
   "metadata": {},
   "source": [
    "* 数据不仅仅是列表的集合,也可以是字典的集合 "
   ]
  },
  {
   "cell_type": "code",
   "execution_count": 20,
   "metadata": {},
   "outputs": [
    {
     "data": {
      "text/plain": [
       "[{'first': 'Doctor', 'last': 'No'},\n",
       " {'first': 'Rosa', 'last': 'Klebb'},\n",
       " {'first': 'Mister', 'last': 'Big'},\n",
       " {'first': 'Auric', 'last': 'Goldfinger'},\n",
       " {'first': 'Ernst', 'last': 'Blofeld'}]"
      ]
     },
     "execution_count": 20,
     "metadata": {},
     "output_type": "execute_result"
    }
   ],
   "source": [
    "import csv\n",
    "with open('villains','rt') as fin:\n",
    "    cin = csv.DictReader(fin,fieldnames=['first','last'])\n",
    "    villains = [row for row in cin]\n",
    "    \n",
    "villains"
   ]
  },
  {
   "cell_type": "code",
   "execution_count": 24,
   "metadata": {},
   "outputs": [],
   "source": [
    "import csv\n",
    "villains = [{'first': 'Doctor', 'last': 'No'},\n",
    " {'first': 'Rosa', 'last': 'Klebb'},\n",
    " {'first': 'Mister', 'last': 'Big'},\n",
    " {'first': 'Auric', 'last': 'Goldfinger'},\n",
    " {'first': 'Ernst', 'last': 'Blofeld'}]\n",
    "\n",
    "with open('villains','wt') as fout:\n",
    "    cout = csv.DictWriter(fout,['first','last'])\n",
    "    cout.writeheader()\n",
    "    cout.writerows(villains)"
   ]
  },
  {
   "cell_type": "markdown",
   "metadata": {},
   "source": [
    "* XML"
   ]
  },
  {
   "cell_type": "code",
   "execution_count": 25,
   "metadata": {},
   "outputs": [
    {
     "data": {
      "text/plain": [
       "'menu'"
      ]
     },
     "execution_count": 25,
     "metadata": {},
     "output_type": "execute_result"
    }
   ],
   "source": [
    "import xml.etree.ElementTree as et\n",
    "\n",
    "tree = et.ElementTree(file='menu.xml')\n",
    "root = tree.getroot()\n",
    "root.tag"
   ]
  },
  {
   "cell_type": "code",
   "execution_count": 27,
   "metadata": {},
   "outputs": [
    {
     "name": "stdout",
     "output_type": "stream",
     "text": [
      "tag: breakfast attributes: {'hours': '7-11'}\n",
      "\ttag: item attributes: {'price': '$6.00'}\n",
      "\ttag: item attributes: {'price': '$4.00'}\n",
      "tag: lunch attributes: {'hours': '11-3'}\n",
      "\ttag: item attributes: {'price': '$5.00'}\n",
      "tag: dinner attributes: {'hours': '3-10'}\n",
      "\ttag: item attributes: {'price': '8.00'}\n"
     ]
    }
   ],
   "source": [
    "for child in root:\n",
    "    print('tag:',child.tag,'attributes:',child.attrib)\n",
    "    for grandchild in child:\n",
    "        print('\\ttag:',grandchild.tag,'attributes:',grandchild.attrib)"
   ]
  },
  {
   "cell_type": "code",
   "execution_count": 28,
   "metadata": {},
   "outputs": [
    {
     "data": {
      "text/plain": [
       "3"
      ]
     },
     "execution_count": 28,
     "metadata": {},
     "output_type": "execute_result"
    }
   ],
   "source": [
    "# 菜单选择的数目\n",
    "len(root)"
   ]
  },
  {
   "cell_type": "code",
   "execution_count": 29,
   "metadata": {},
   "outputs": [
    {
     "data": {
      "text/plain": [
       "2"
      ]
     },
     "execution_count": 29,
     "metadata": {},
     "output_type": "execute_result"
    }
   ],
   "source": [
    "# 早餐项的数目\n",
    "len(root[0])"
   ]
  },
  {
   "cell_type": "markdown",
   "metadata": {},
   "source": [
    "其他标准的Python XML库如下:\n",
    "* xml.dom\n",
    "* xml.sax"
   ]
  },
  {
   "cell_type": "markdown",
   "metadata": {},
   "source": [
    "* JSON"
   ]
  },
  {
   "cell_type": "code",
   "execution_count": 36,
   "metadata": {},
   "outputs": [
    {
     "data": {
      "text/plain": [
       "'{\"dogs\": [{\"dog_id\": 1, \"image\": \"http://www.bsbj.net/iv/dogs/dog1.jpg\", \"sort\": 6, \"date\": \"2016-08-08 16:12:47\", \"detail\": \"\\\\u79cb\\\\u7530\\\\u72ac\\\\uff08\\\\u65e5\\\\u8bed\\\\uff1a\\\\u79cb\\\\u7530\\\\u72ac\\\\uff0f\\\\u3042\\\\u304d\\\\u305f\\\\u3044\\\\u306c\\\\uff0f\\\\u30a2\\\\u30ad\\\\u30bf\\\\u30a4\\\\u30cc Akita Inu *\\\\uff09\\\\u662f\\\\u65e5\\\\u672c\\\\u72ac\\\\u7684\\\\u4e00\\\\u79cd\\\\uff0c\\\\u662f\\\\u56fd\\\\u5bb6\\\\u5929\\\\u7136\\\\u7eaa\\\\u5ff5\\\\u7269\\\\u4e4b\\\\u516d\\\\u79cd\\\\u65e5\\\\u672c\\\\u72ac\\\\u4e2d\\\\u552f\\\\u4e00\\\\u7684\\\\u5927\\\\u578b\\\\u72ac\\\\u79cd\\\\u3002\", \"name\": \"\\\\u79cb\\\\u7530\\\\u72ac\"}, {\"dog_id\": 2, \"image\": \"http://www.bsbj.net/iv/dogs/dog2.jpg\", \"sort\": 8, \"date\": \"2016-08-08 16:12:47\", \"detail\": \"\\\\u963f\\\\u62c9\\\\u65af\\\\u52a0\\\\u96ea\\\\u6a47\\\\u72ac\\\\uff08\\\\u82f1\\\\u8bed\\\\uff1aAlaskan Malamute\\\\uff09\\\\u53c8\\\\u79f0\\\\u963f\\\\u62c9\\\\u65af\\\\u52a0\\\\u9a6c\\\\u62c9\\\\u7a46\\\\uff0c\\\\u662f\\\\u6700\\\\u53e4\\\\u8001\\\\u7684\\\\u96ea\\\\u6a47\\\\u72ac\\\\u4e4b\\\\u4e00\\\\u3002\", \"name\": \"\\\\u963f\\\\u62c9\\\\u65af\\\\u52a0\\\\u96ea\\\\u6a47\\\\u72ac\"}, {\"dog_id\": 3, \"image\": \"http://www.bsbj.net/iv/dogs/dog3.jpg\", \"sort\": 9, \"date\": \"2016-08-08 16:12:47\", \"detail\": \"\\\\u7f8e\\\\u56fd\\\\u7231\\\\u65af\\\\u57fa\\\\u6469\\\\u72ac\\\\uff08\\\\u82f1\\\\u8bed\\\\uff1aAmerican Eskimo Dog\\\\uff09\\\\u662f\\\\u4e00\\\\u79cd\\\\u6765\\\\u81ea\\\\u5fb7\\\\u56fd\\\\u7684\\\\u73a9\\\\u8d4f\\\\u72ac\\\\u72ac\\\\u79cd\\\\u3002\", \"name\": \"\\\\u7f8e\\\\u56fd\\\\u7231\\\\u65af\\\\u57fa\\\\u6469\\\\u72ac\"}, {\"dog_id\": 4, \"image\": \"http://www.bsbj.net/iv/dogs/dog4.jpg\", \"sort\": 7, \"date\": \"2016-08-08 16:12:47\", \"detail\": \"\\\\u90fd\\\\u67cf\\\\u6587\\\\uff0c\\\\u53c8\\\\u79f0\\\\u675c\\\\u5bbe\\\\u72ac\\\\uff08\\\\u5fb7\\\\u8bed\\\\uff1aDobermann\\\\uff0c\\\\u82f1\\\\u8bed\\\\uff1aDoberman Pinscher\\\\uff09\\\\u662f\\\\u539f\\\\u4ea7\\\\u4e8e\\\\u5fb7\\\\u56fd\\\\u7684\\\\u4e00\\\\u79cd\\\\u4e2d\\\\u5927\\\\u578b\\\\u72ac\\\\uff0c\\\\u5927\\\\u7ea6\\\\u57281890\\\\u5e74\\\\u7531Karl Friedrich Louis Dobermann\\\\u6240\\\\u57f9\\\\u80b2\\\\u51fa\\\\u6765\\\\u3002\\\\u662f\\\\u6700\\\\u5e38\\\\u88ab\\\\u7528\\\\u6765\\\\u4f5c\\\\u4e3a\\\\u519b\\\\u4e8b\\\\u7528\\\\u9014\\\\u7684\\\\u519b\\\\u72ac\\\\u3002\", \"name\": \"\\\\u675c\\\\u5bbe\\\\u72ac\"}, {\"dog_id\": 5, \"image\": \"http://www.bsbj.net/iv/dogs/dog5.jpg\", \"sort\": 4, \"date\": \"2016-08-08 16:12:47\", \"detail\": \"\\\\u82f1\\\\u56fd\\\\u53ef\\\\u5361\\\\u72ac\\\\u662f\\\\u730e\\\\u72ac\\\\u7684\\\\u4e00\\\\u4e2a\\\\u54c1\\\\u79cd\\\\u3002\\\\u82f1\\\\u56fd\\\\u53ef\\\\u5361\\\\u72ac\\\\u662f\\\\u4e00\\\\u4e2a\\\\u6d3b\\\\u8dc3\\\\u7684\\\\u3001\\\\u548c\\\\u853c\\\\u7684\\\\u730e\\\\u72ac\\\\uff0c\\\\u6709\\\\u7740\\\\u5f88\\\\u597d\\\\u7684\\\\u8eab\\\\u6750\\\\u548c \\\\u9a6c\\\\u80a9\\\\u9686\\\\u3002\", \"name\": \"\\\\u82f1\\\\u56fd\\\\u53ef\\\\u5361\\\\u72ac\"}, {\"dog_id\": 6, \"image\": \"http://www.bsbj.net/iv/dogs/dog6.jpg\", \"sort\": 5, \"date\": \"2016-08-08 16:12:47\", \"detail\": \"\\\\u6cd5\\\\u56fd\\\\u6597\\\\u725b\\\\u72ac\\\\uff08\\\\u82f1\\\\u8bed\\\\uff1aFrench Bulldog\\\\uff0c\\\\u6cd5\\\\u8bed\\\\uff1abouledogue fran\\\\u00e7ais\\\\uff0c\\\\u6216bouledogue\\\\uff09\\\\uff0c\\\\u4e00\\\\u79cd\\\\u5c0f\\\\u578b\\\\u72ac\\\\u79cd\\\\uff0c\\\\u57281800\\\\u5e74\\\\u4ee3\\\\uff0c\\\\u5229\\\\u7528\\\\u82f1\\\\u56fd\\\\u8fdb\\\\u53e3\\\\u7684\\\\u6597\\\\u725b\\\\u72ac\\\\uff0c\\\\u4e0e\\\\u5df4\\\\u9ece\\\\u672c\\\\u5730\\\\u7684\\\\u5c0f\\\\u578b\\\\u72ac\\\\uff0c\\\\u5728\\\\u6cd5\\\\u56fd\\\\u57f9\\\\u80b2\\\\u51fa\\\\u6765\\\\u3002\", \"name\": \"\\\\u6cd5\\\\u56fd\\\\u6597\\\\u725b\\\\u72ac\"}, {\"dog_id\": 7, \"image\": \"http://www.bsbj.net/iv/dogs/dog7.jpg\", \"sort\": 3, \"date\": \"2016-08-08 16:12:47\", \"detail\": \"\\\\u5fb7\\\\u56fd\\\\u7267\\\\u7f8a\\\\u72ac\\\\u53c8\\\\u79f0\\\\u5fb7\\\\u56fd\\\\u72fc\\\\u72ac\\\\u3008\\\\u82f1\\\\u6587\\\\uff1aGerman Shepherd Dog\\\\u3009\\\\uff0c\\\\u662f\\\\u72d7\\\\u7684\\\\u4e00\\\\u4e2a\\\\u54c1\\\\u79cd\\\\uff0c\\\\u5fb7\\\\u56fd\\\\u7267\\\\u7f8a\\\\u72ac\\\\u5f88\\\\u806a\\\\u660e\\\\uff0c\\\\u5728\\\\u6240\\\\u6709\\\\u72ac\\\\u7c7b\\\\u7684\\\\u667a\\\\u5546\\\\u6392\\\\u540d\\\\u4e2d\\\\u6392\\\\u884c\\\\u7b2c\\\\u4e09\\\\u3002\", \"name\": \"\\\\u5fb7\\\\u56fd\\\\u7267\\\\u7f8a\\\\u72ac\"}, {\"dog_id\": 8, \"image\": \"http://www.bsbj.net/iv/dogs/dog8.jpg\", \"sort\": 10, \"date\": \"2016-08-08 16:12:47\", \"detail\": \"\\\\u5927\\\\u4e39\\\\u72ac\\\\uff08\\\\u82f1\\\\u8bed\\\\uff1aGreat Dane\\\\uff09\\\\uff0c\\\\u4e5f\\\\u79f0\\\\u505a\\\\u5927\\\\u4e39\\\\u72d7\\\\u3001\\\\u5fb7\\\\u56fd\\\\u7352\\\\uff08\\\\u5fb7\\\\u8bed\\\\uff1aDeutsche Dogge\\\\uff09\\\\u3001\\\\u4e39\\\\u9ea6\\\\u730e\\\\u72ac\\\\uff08\\\\u5fb7\\\\u8bed\\\\uff1aD\\\\u00e4nischer Hund\\\\uff09\\\\u66fe\\\\u88ab\\\\u6b27\\\\u6d32\\\\u738b\\\\u5ba4\\\\u53ca\\\\u8d35\\\\u65cf\\\\u9972\\\\u517b\\\\uff0c\\\\u662f\\\\u8d35\\\\u65cf\\\\u8eab\\\\u4efd\\\\u5730\\\\u4f4d\\\\u7684\\\\u8c61\\\\u5f81\\\\u3002\", \"name\": \"\\\\u5927\\\\u4e39\\\\u72ac\"}, {\"dog_id\": 9, \"image\": \"http://www.bsbj.net/iv/dogs/dog9.jpg\", \"sort\": 2, \"date\": \"2016-08-08 16:12:47\", \"detail\": \"\\\\u72c6\\\\uff08\\\\u65e5\\\\u8bed\\\\uff1a\\\\u72c6\\\\uff0c\\\\u82f1\\\\u8bed\\\\uff1aJapanese Chin\\\\uff09\\\\u662f\\\\u539f\\\\u4ea7\\\\u4e8e\\\\u65e5\\\\u672c\\\\u7684\\\\u4e00\\\\u79cd\\\\u5c0f\\\\u578b\\\\u72ac\\\\u3002\\\\u5934\\\\u5927\\\\u3001\\\\u5bbd\\\\u4e14\\\\u5e73\\\\u3002\\\\u9f3b\\\\u5b50\\\\u5bbd\\\\u800c\\\\u4e14\\\\u77ed\\\\uff0c\\\\u9f3b\\\\u6881\\\\u660e\\\\u663e\\\\uff0c\\\\u9f3b\\\\u5b50\\\\u4e0e\\\\u773c\\\\u775b\\\\u5728\\\\u4e00\\\\u4e2a\\\\u6c34\\\\u5e73\\\\u7ebf\\\\u4e0a\\\\uff0c\\\\u9ed1\\\\u4eae\\\\u7684\\\\u773c\\\\u775b\\\\u5927\\\\u53c8\\\\u5706\\\\uff0c\\\\u9694\\\\u7740\\\\u9f3b\\\\u5b50\\\\u76f8\\\\u5bf9\\\\u5e94\\\\u3002\", \"name\": \"\\\\u65e5\\\\u672c\\\\u72c6\"}, {\"dog_id\": 10, \"image\": \"http://www.bsbj.net/iv/dogs/dog10.jpg\", \"sort\": 1, \"date\": \"2016-08-08 16:12:47\", \"detail\": \"\\\\u62c9\\\\u5e03\\\\u62c9\\\\u591a\\\\u72ac\\\\u6216\\\\u79f0\\\\u62c9\\\\u5e03\\\\u62c9\\\\u591a\\\\u62fe\\\\u730e\\\\u72ac\\\\uff08\\\\u7b80\\\\u79f0\\\\u62c9\\\\u5e03\\\\u62c9\\\\u591a\\\\uff1b\\\\u82f1\\\\u8bed\\\\uff1aLabrador Retriever\\\\uff09\\\\u662f\\\\u4e00\\\\u79cd\\\\u4e2d\\\\u5927\\\\u578b\\\\u72ac\\\\u7c7b\\\\uff0c\\\\u5929\\\\u751f\\\\u4e2a\\\\u6027\\\\u6e29\\\\u548c\\\\u3001\\\\u6d3b\\\\u6cfc\\\\u3001\\\\u6ca1\\\\u6709\\\\u653b\\\\u51fb\\\\u6027\\\\u548c\\\\u667a\\\\u80fd\\\\u9ad8\\\\u3002\", \"name\": \"\\\\u62c9\\\\u5e03\\\\u62c9\\\\u591a\\\\u5bfb\\\\u56de\\\\u72ac\"}]}'"
      ]
     },
     "execution_count": 36,
     "metadata": {},
     "output_type": "execute_result"
    }
   ],
   "source": [
    "import requests\n",
    "import json\n",
    "\n",
    "response = requests.get('http://www.bsbj.net/iv/data.json')\n",
    "data = response.json()\n",
    "dogs_json = json.dumps(data)\n",
    "dogs_json"
   ]
  },
  {
   "cell_type": "code",
   "execution_count": 38,
   "metadata": {},
   "outputs": [
    {
     "data": {
      "text/plain": [
       "{'dogs': [{'date': '2016-08-08 16:12:47',\n",
       "   'detail': '秋田犬（日语：秋田犬／あきたいぬ／アキタイヌ Akita Inu *）是日本犬的一种，是国家天然纪念物之六种日本犬中唯一的大型犬种。',\n",
       "   'dog_id': 1,\n",
       "   'image': 'http://www.bsbj.net/iv/dogs/dog1.jpg',\n",
       "   'name': '秋田犬',\n",
       "   'sort': 6},\n",
       "  {'date': '2016-08-08 16:12:47',\n",
       "   'detail': '阿拉斯加雪橇犬（英语：Alaskan Malamute）又称阿拉斯加马拉穆，是最古老的雪橇犬之一。',\n",
       "   'dog_id': 2,\n",
       "   'image': 'http://www.bsbj.net/iv/dogs/dog2.jpg',\n",
       "   'name': '阿拉斯加雪橇犬',\n",
       "   'sort': 8},\n",
       "  {'date': '2016-08-08 16:12:47',\n",
       "   'detail': '美国爱斯基摩犬（英语：American Eskimo Dog）是一种来自德国的玩赏犬犬种。',\n",
       "   'dog_id': 3,\n",
       "   'image': 'http://www.bsbj.net/iv/dogs/dog3.jpg',\n",
       "   'name': '美国爱斯基摩犬',\n",
       "   'sort': 9},\n",
       "  {'date': '2016-08-08 16:12:47',\n",
       "   'detail': '都柏文，又称杜宾犬（德语：Dobermann，英语：Doberman Pinscher）是原产于德国的一种中大型犬，大约在1890年由Karl Friedrich Louis Dobermann所培育出来。是最常被用来作为军事用途的军犬。',\n",
       "   'dog_id': 4,\n",
       "   'image': 'http://www.bsbj.net/iv/dogs/dog4.jpg',\n",
       "   'name': '杜宾犬',\n",
       "   'sort': 7},\n",
       "  {'date': '2016-08-08 16:12:47',\n",
       "   'detail': '英国可卡犬是猎犬的一个品种。英国可卡犬是一个活跃的、和蔼的猎犬，有着很好的身材和 马肩隆。',\n",
       "   'dog_id': 5,\n",
       "   'image': 'http://www.bsbj.net/iv/dogs/dog5.jpg',\n",
       "   'name': '英国可卡犬',\n",
       "   'sort': 4},\n",
       "  {'date': '2016-08-08 16:12:47',\n",
       "   'detail': '法国斗牛犬（英语：French Bulldog，法语：bouledogue français，或bouledogue），一种小型犬种，在1800年代，利用英国进口的斗牛犬，与巴黎本地的小型犬，在法国培育出来。',\n",
       "   'dog_id': 6,\n",
       "   'image': 'http://www.bsbj.net/iv/dogs/dog6.jpg',\n",
       "   'name': '法国斗牛犬',\n",
       "   'sort': 5},\n",
       "  {'date': '2016-08-08 16:12:47',\n",
       "   'detail': '德国牧羊犬又称德国狼犬〈英文：German Shepherd Dog〉，是狗的一个品种，德国牧羊犬很聪明，在所有犬类的智商排名中排行第三。',\n",
       "   'dog_id': 7,\n",
       "   'image': 'http://www.bsbj.net/iv/dogs/dog7.jpg',\n",
       "   'name': '德国牧羊犬',\n",
       "   'sort': 3},\n",
       "  {'date': '2016-08-08 16:12:47',\n",
       "   'detail': '大丹犬（英语：Great Dane），也称做大丹狗、德国獒（德语：Deutsche Dogge）、丹麦猎犬（德语：Dänischer Hund）曾被欧洲王室及贵族饲养，是贵族身份地位的象征。',\n",
       "   'dog_id': 8,\n",
       "   'image': 'http://www.bsbj.net/iv/dogs/dog8.jpg',\n",
       "   'name': '大丹犬',\n",
       "   'sort': 10},\n",
       "  {'date': '2016-08-08 16:12:47',\n",
       "   'detail': '狆（日语：狆，英语：Japanese Chin）是原产于日本的一种小型犬。头大、宽且平。鼻子宽而且短，鼻梁明显，鼻子与眼睛在一个水平线上，黑亮的眼睛大又圆，隔着鼻子相对应。',\n",
       "   'dog_id': 9,\n",
       "   'image': 'http://www.bsbj.net/iv/dogs/dog9.jpg',\n",
       "   'name': '日本狆',\n",
       "   'sort': 2},\n",
       "  {'date': '2016-08-08 16:12:47',\n",
       "   'detail': '拉布拉多犬或称拉布拉多拾猎犬（简称拉布拉多；英语：Labrador Retriever）是一种中大型犬类，天生个性温和、活泼、没有攻击性和智能高。',\n",
       "   'dog_id': 10,\n",
       "   'image': 'http://www.bsbj.net/iv/dogs/dog10.jpg',\n",
       "   'name': '拉布拉多寻回犬',\n",
       "   'sort': 1}]}"
      ]
     },
     "execution_count": 38,
     "metadata": {},
     "output_type": "execute_result"
    }
   ],
   "source": [
    "dogs = json.loads(dogs_json)\n",
    "dogs"
   ]
  },
  {
   "cell_type": "markdown",
   "metadata": {},
   "source": [
    "* YAMl"
   ]
  },
  {
   "cell_type": "code",
   "execution_count": null,
   "metadata": {},
   "outputs": [],
   "source": []
  }
 ],
 "metadata": {
  "kernelspec": {
   "display_name": "Python 3",
   "language": "python",
   "name": "python3"
  },
  "language_info": {
   "codemirror_mode": {
    "name": "ipython",
    "version": 3
   },
   "file_extension": ".py",
   "mimetype": "text/x-python",
   "name": "python",
   "nbconvert_exporter": "python",
   "pygments_lexer": "ipython3",
   "version": "3.5.2"
  }
 },
 "nbformat": 4,
 "nbformat_minor": 2
}

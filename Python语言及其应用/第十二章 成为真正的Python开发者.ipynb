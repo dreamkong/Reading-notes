{
 "cells": [
  {
   "cell_type": "markdown",
   "metadata": {},
   "source": [
    "## 第十二章 成为真正的Python开发者"
   ]
  },
  {
   "cell_type": "markdown",
   "metadata": {},
   "source": [
    "### 寻找Python代码"
   ]
  },
  {
   "cell_type": "markdown",
   "metadata": {},
   "source": [
    "* Python标准库(http://docs.python.org/3/library/)\n",
    "* Python包索引(PyPi，https://pypi.python.org/pypi)\n",
    "* GitHub(https://github.com/trending?l=python)"
   ]
  },
  {
   "cell_type": "markdown",
   "metadata": {},
   "source": [
    "### 安装包"
   ]
  },
  {
   "cell_type": "markdown",
   "metadata": {},
   "source": [
    "* 推荐使用pip\n",
    "* 有时可以使用操作系统自带的包管理工具\n",
    "* 从源代码安装\n",
    "\n",
    "![](http://owz0zbwsq.bkt.clouddn.com/%E5%AE%89%E8%A3%85%E5%8C%851.png)\n",
    "![](http://owz0zbwsq.bkt.clouddn.com/%E5%AE%89%E8%A3%85%E5%8C%852.png)\n"
   ]
  },
  {
   "cell_type": "code",
   "execution_count": null,
   "metadata": {},
   "outputs": [],
   "source": []
  }
 ],
 "metadata": {
  "kernelspec": {
   "display_name": "Python 3",
   "language": "python",
   "name": "python3"
  },
  "language_info": {
   "codemirror_mode": {
    "name": "ipython",
    "version": 3
   },
   "file_extension": ".py",
   "mimetype": "text/x-python",
   "name": "python",
   "nbconvert_exporter": "python",
   "pygments_lexer": "ipython3",
   "version": "3.5.2"
  }
 },
 "nbformat": 4,
 "nbformat_minor": 2
}

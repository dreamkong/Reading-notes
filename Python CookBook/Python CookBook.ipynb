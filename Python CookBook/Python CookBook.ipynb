{
 "cells": [
  {
   "cell_type": "markdown",
   "metadata": {},
   "source": [
    "## 第一章 数据结构和算法\n",
    "\n",
    "#### 将序列分解为单独的变量"
   ]
  },
  {
   "cell_type": "code",
   "execution_count": 5,
   "metadata": {},
   "outputs": [
    {
     "data": {
      "text/plain": [
       "2017"
      ]
     },
     "execution_count": 5,
     "metadata": {},
     "output_type": "execute_result"
    }
   ],
   "source": [
    "p = (4,5)\n",
    "a,b = p\n",
    "\n",
    "# 引申出任意长度的可迭代对象中分解元素\n",
    "\n",
    "\n",
    "*first,last = [x for x in range(1,100)]\n",
    "first,*middle,last = [x for x in range(1,100)]\n",
    "first,*last = [x for x in range(1,100)]\n",
    "\n",
    "# eg:\n",
    "record = ('ACME',50,123.45,(10,26,2017))\n",
    "name,*_,(*_,year) = record\n",
    "name\n",
    "year"
   ]
  },
  {
   "cell_type": "markdown",
   "metadata": {},
   "source": [
    "#### 保存最后N个元素"
   ]
  },
  {
   "cell_type": "code",
   "execution_count": 49,
   "metadata": {},
   "outputs": [
    {
     "name": "stdout",
     "output_type": "stream",
     "text": [
      "* The Zen of Python, by Tim Peters\n",
      "* \n",
      "Beautiful is better than ugly.\n",
      "-----------------------------------\n",
      "* The Zen of Python, by Tim Peters\n",
      "* \n",
      "* Beautiful is better than ugly.\n",
      "Explicit is better than implicit.\n",
      "-----------------------------------\n",
      "* The Zen of Python, by Tim Peters\n",
      "* \n",
      "* Beautiful is better than ugly.\n",
      "* Explicit is better than implicit.\n",
      "Simple is better than complex.\n",
      "-----------------------------------\n",
      "* The Zen of Python, by Tim Peters\n",
      "* \n",
      "* Beautiful is better than ugly.\n",
      "* Explicit is better than implicit.\n",
      "* Simple is better than complex.\n",
      "Complex is better than complicated.\n",
      "-----------------------------------\n",
      "* \n",
      "* Beautiful is better than ugly.\n",
      "* Explicit is better than implicit.\n",
      "* Simple is better than complex.\n",
      "* Complex is better than complicated.\n",
      "Flat is better than nested.\n",
      "-----------------------------------\n",
      "* Beautiful is better than ugly.\n",
      "* Explicit is better than implicit.\n",
      "* Simple is better than complex.\n",
      "* Complex is better than complicated.\n",
      "* Flat is better than nested.\n",
      "Sparse is better than dense.\n",
      "-----------------------------------\n",
      "* Errors should never pass silently.\n",
      "* Unless explicitly silenced.\n",
      "* In the face of ambiguity, refuse the temptation to guess.\n",
      "* There should be one-- and preferably only one --obvious way to do it.\n",
      "* Although that way may not be obvious at first unless you're Dutch.\n",
      "Now is better than never.\n",
      "-----------------------------------\n",
      "* Unless explicitly silenced.\n",
      "* In the face of ambiguity, refuse the temptation to guess.\n",
      "* There should be one-- and preferably only one --obvious way to do it.\n",
      "* Although that way may not be obvious at first unless you're Dutch.\n",
      "* Now is better than never.\n",
      "Although never is often better than *right* now.\n",
      "-----------------------------------\n"
     ]
    }
   ],
   "source": [
    "from collections import deque\n",
    "\n",
    "def search(lines,pattern,history = 5):\n",
    "    previous_lines = deque(maxlen = history)\n",
    "    for line in lines:\n",
    "        if pattern in line:\n",
    "            yield line,previous_lines\n",
    "        previous_lines.append(line)\n",
    "        \n",
    "with open('test.txt') as f:\n",
    "    for line, prevlines in search(f,'better',5):\n",
    "        for pline in prevlines:\n",
    "            print('*',pline,end = '')\n",
    "        print(line,end = '')\n",
    "        print('-'*35)"
   ]
  },
  {
   "cell_type": "markdown",
   "metadata": {},
   "source": [
    "#### 找到最大或最小的N个元素"
   ]
  },
  {
   "cell_type": "code",
   "execution_count": 69,
   "metadata": {},
   "outputs": [
    {
     "name": "stdout",
     "output_type": "stream",
     "text": [
      "[33, 22, 11]\n",
      "[1, 2, 3]\n",
      "[{'price': 25.364, 'name': 'Jack2'}, {'price': 123.4, 'name': 'Jack1'}]\n"
     ]
    },
    {
     "data": {
      "text/plain": [
       "8388"
      ]
     },
     "execution_count": 69,
     "metadata": {},
     "output_type": "execute_result"
    }
   ],
   "source": [
    "import heapq\n",
    "\n",
    "nums = [1,5,9,2,3,6,8,7,4,11,22,33]\n",
    "print(heapq.nlargest(3,nums))\n",
    "print(heapq.nsmallest(3,nums))\n",
    "\n",
    "portfolio = [\n",
    "    {'name':'Jack1','price':123.4},\n",
    "    {'name':'Jack2','price':25.364},\n",
    "    {'name':'Jack3','price':4552.2},\n",
    "    {'name':'Jack4','price':4123.4},\n",
    "    {'name':'Jack5','price':124}\n",
    "]\n",
    "cheap = heapq.nsmallest(2,portfolio,key = lambda s:s['price'])\n",
    "print(cheap)\n",
    "\n",
    "# 将最小值放置到首位\n",
    "heapq.heapify(nums)\n",
    "nums\n",
    "# 每次弹出最小值\n",
    "heapq.heappop(nums)\n",
    "2796*3"
   ]
  },
  {
   "cell_type": "markdown",
   "metadata": {},
   "source": [
    "* 当要找的元素数量相对较小时 用nlargest() nsamllest()\n",
    "* 如果只是想简单的找到最大最小 用max() min()\n",
    "* 如果N 和 集合本身的大小差不多的话 用sorted(items)[:N]\n",
    "\n"
   ]
  }
 ],
 "metadata": {
  "kernelspec": {
   "display_name": "Python 3",
   "language": "python",
   "name": "python3"
  },
  "language_info": {
   "codemirror_mode": {
    "name": "ipython",
    "version": 3
   },
   "file_extension": ".py",
   "mimetype": "text/x-python",
   "name": "python",
   "nbconvert_exporter": "python",
   "pygments_lexer": "ipython3",
   "version": "3.5.2"
  }
 },
 "nbformat": 4,
 "nbformat_minor": 2
}

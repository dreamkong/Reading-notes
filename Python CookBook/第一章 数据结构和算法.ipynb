{
 "cells": [
  {
   "cell_type": "markdown",
   "metadata": {},
   "source": [
    "## 第一章 数据结构和算法\n",
    "\n",
    "#### 将序列分解为单独的变量"
   ]
  },
  {
   "cell_type": "code",
   "execution_count": 5,
   "metadata": {},
   "outputs": [
    {
     "data": {
      "text/plain": [
       "2017"
      ]
     },
     "execution_count": 5,
     "metadata": {},
     "output_type": "execute_result"
    }
   ],
   "source": [
    "p = (4,5)\n",
    "a,b = p\n",
    "\n",
    "# 引申出任意长度的可迭代对象中分解元素\n",
    "\n",
    "\n",
    "*first,last = [x for x in range(1,100)]\n",
    "first,*middle,last = [x for x in range(1,100)]\n",
    "first,*last = [x for x in range(1,100)]\n",
    "\n",
    "# eg:\n",
    "record = ('ACME',50,123.45,(10,26,2017))\n",
    "name,*_,(*_,year) = record\n",
    "name\n",
    "year"
   ]
  },
  {
   "cell_type": "markdown",
   "metadata": {},
   "source": [
    "#### 保存最后N个元素"
   ]
  },
  {
   "cell_type": "code",
   "execution_count": 49,
   "metadata": {},
   "outputs": [
    {
     "name": "stdout",
     "output_type": "stream",
     "text": [
      "* The Zen of Python, by Tim Peters\n",
      "* \n",
      "Beautiful is better than ugly.\n",
      "-----------------------------------\n",
      "* The Zen of Python, by Tim Peters\n",
      "* \n",
      "* Beautiful is better than ugly.\n",
      "Explicit is better than implicit.\n",
      "-----------------------------------\n",
      "* The Zen of Python, by Tim Peters\n",
      "* \n",
      "* Beautiful is better than ugly.\n",
      "* Explicit is better than implicit.\n",
      "Simple is better than complex.\n",
      "-----------------------------------\n",
      "* The Zen of Python, by Tim Peters\n",
      "* \n",
      "* Beautiful is better than ugly.\n",
      "* Explicit is better than implicit.\n",
      "* Simple is better than complex.\n",
      "Complex is better than complicated.\n",
      "-----------------------------------\n",
      "* \n",
      "* Beautiful is better than ugly.\n",
      "* Explicit is better than implicit.\n",
      "* Simple is better than complex.\n",
      "* Complex is better than complicated.\n",
      "Flat is better than nested.\n",
      "-----------------------------------\n",
      "* Beautiful is better than ugly.\n",
      "* Explicit is better than implicit.\n",
      "* Simple is better than complex.\n",
      "* Complex is better than complicated.\n",
      "* Flat is better than nested.\n",
      "Sparse is better than dense.\n",
      "-----------------------------------\n",
      "* Errors should never pass silently.\n",
      "* Unless explicitly silenced.\n",
      "* In the face of ambiguity, refuse the temptation to guess.\n",
      "* There should be one-- and preferably only one --obvious way to do it.\n",
      "* Although that way may not be obvious at first unless you're Dutch.\n",
      "Now is better than never.\n",
      "-----------------------------------\n",
      "* Unless explicitly silenced.\n",
      "* In the face of ambiguity, refuse the temptation to guess.\n",
      "* There should be one-- and preferably only one --obvious way to do it.\n",
      "* Although that way may not be obvious at first unless you're Dutch.\n",
      "* Now is better than never.\n",
      "Although never is often better than *right* now.\n",
      "-----------------------------------\n"
     ]
    }
   ],
   "source": [
    "from collections import deque\n",
    "\n",
    "def search(lines,pattern,history = 5):\n",
    "    previous_lines = deque(maxlen = history)\n",
    "    for line in lines:\n",
    "        if pattern in line:\n",
    "            yield line,previous_lines\n",
    "        previous_lines.append(line)\n",
    "        \n",
    "with open('test.txt') as f:\n",
    "    for line, prevlines in search(f,'better',5):\n",
    "        for pline in prevlines:\n",
    "            print('*',pline,end = '')\n",
    "        print(line,end = '')\n",
    "        print('-'*35)"
   ]
  },
  {
   "cell_type": "markdown",
   "metadata": {},
   "source": [
    "#### 找到最大或最小的N个元素"
   ]
  },
  {
   "cell_type": "code",
   "execution_count": 69,
   "metadata": {},
   "outputs": [
    {
     "name": "stdout",
     "output_type": "stream",
     "text": [
      "[33, 22, 11]\n",
      "[1, 2, 3]\n",
      "[{'price': 25.364, 'name': 'Jack2'}, {'price': 123.4, 'name': 'Jack1'}]\n"
     ]
    },
    {
     "data": {
      "text/plain": [
       "8388"
      ]
     },
     "execution_count": 69,
     "metadata": {},
     "output_type": "execute_result"
    }
   ],
   "source": [
    "import heapq\n",
    "\n",
    "nums = [1,5,9,2,3,6,8,7,4,11,22,33]\n",
    "print(heapq.nlargest(3,nums))\n",
    "print(heapq.nsmallest(3,nums))\n",
    "\n",
    "portfolio = [\n",
    "    {'name':'Jack1','price':123.4},\n",
    "    {'name':'Jack2','price':25.364},\n",
    "    {'name':'Jack3','price':4552.2},\n",
    "    {'name':'Jack4','price':4123.4},\n",
    "    {'name':'Jack5','price':124}\n",
    "]\n",
    "cheap = heapq.nsmallest(2,portfolio,key = lambda s:s['price'])\n",
    "print(cheap)\n",
    "\n",
    "# 将最小值放置到首位\n",
    "heapq.heapify(nums)\n",
    "nums\n",
    "# 每次弹出最小值\n",
    "heapq.heappop(nums)\n",
    "2796*3"
   ]
  },
  {
   "cell_type": "markdown",
   "metadata": {},
   "source": [
    "* 当要找的元素数量相对较小时 用nlargest() nsamllest()\n",
    "* 如果只是想简单的找到最大最小 用max() min()\n",
    "* 如果N 和 集合本身的大小差不多的话 用sorted(items)[:N]"
   ]
  },
  {
   "cell_type": "markdown",
   "metadata": {},
   "source": [
    "#### 找出序列中出现次数最多的元素"
   ]
  },
  {
   "cell_type": "code",
   "execution_count": 7,
   "metadata": {},
   "outputs": [
    {
     "data": {
      "text/plain": [
       "[('zoo', 3), ('hello', 2), ('are', 2)]"
      ]
     },
     "execution_count": 7,
     "metadata": {},
     "output_type": "execute_result"
    }
   ],
   "source": [
    "words = [\n",
    "    'i','am','hello','hello','world','zoo','zoo','zoo',\n",
    "    'you','are','are'\n",
    "]\n",
    "\n",
    "from collections import Counter\n",
    "\n",
    "word_counts = Counter(words)\n",
    "top_three = word_counts.most_common(3)\n",
    "top_three"
   ]
  },
  {
   "cell_type": "markdown",
   "metadata": {},
   "source": [
    "#### 通过公共键对字典列表排序"
   ]
  },
  {
   "cell_type": "code",
   "execution_count": 15,
   "metadata": {},
   "outputs": [
    {
     "name": "stdout",
     "output_type": "stream",
     "text": [
      "[{'id': 1002, 'name': 'Abc'}, {'id': 1001, 'name': 'Jack'}, {'id': 1005, 'name': 'Tom'}]\n",
      "[{'id': 1001, 'name': 'Jack'}, {'id': 1002, 'name': 'Abc'}, {'id': 1005, 'name': 'Tom'}]\n"
     ]
    }
   ],
   "source": [
    "rows = [\n",
    "    {'name':'Abc','id':1002},\n",
    "    {'name':'Jack','id':1001},\n",
    "    {'name':'Tom','id':1005}\n",
    "]\n",
    "from operator import itemgetter\n",
    "\n",
    "rows_by_name = sorted(rows,key=itemgetter('name'))\n",
    "print(rows_by_name)\n",
    "rows_by_uid = sorted(rows,key=itemgetter('id'))\n",
    "print(rows_by_uid)"
   ]
  },
  {
   "cell_type": "markdown",
   "metadata": {},
   "source": [
    "* 还可以使用lambda表达式"
   ]
  },
  {
   "cell_type": "code",
   "execution_count": 20,
   "metadata": {},
   "outputs": [
    {
     "data": {
      "text/plain": [
       "[{'id': 1001, 'name': 'Jack'},\n",
       " {'id': 1002, 'name': 'Abc'},\n",
       " {'id': 1005, 'name': 'Tom'}]"
      ]
     },
     "execution_count": 20,
     "metadata": {},
     "output_type": "execute_result"
    }
   ],
   "source": [
    "rows_by_uid = sorted(rows,key=lambda r: r['id'])\n",
    "rows_by_uid"
   ]
  },
  {
   "cell_type": "markdown",
   "metadata": {},
   "source": [
    "* 同样适用于max() min()"
   ]
  },
  {
   "cell_type": "code",
   "execution_count": 23,
   "metadata": {},
   "outputs": [
    {
     "data": {
      "text/plain": [
       "{'id': 1005, 'name': 'Tom'}"
      ]
     },
     "execution_count": 23,
     "metadata": {},
     "output_type": "execute_result"
    }
   ],
   "source": [
    "min(rows,key=itemgetter('id'))\n",
    "max(rows,key=lambda r:r['name'])"
   ]
  },
  {
   "cell_type": "markdown",
   "metadata": {},
   "source": [
    "#### 对原生不支持比较操作的对象排序"
   ]
  },
  {
   "cell_type": "code",
   "execution_count": 29,
   "metadata": {},
   "outputs": [
    {
     "data": {
      "text/plain": [
       "[User(3), User(12), User(25)]"
      ]
     },
     "execution_count": 29,
     "metadata": {},
     "output_type": "execute_result"
    }
   ],
   "source": [
    "class User:\n",
    "    def __init__(self,user_id):\n",
    "        self.user_id = user_id\n",
    "    def __repr__(self):\n",
    "        return \"User({})\".format(self.user_id)\n",
    "\n",
    "users = [User(12),User(3),User(25)]\n",
    "users\n",
    "sorted(users,key=lambda u:u.user_id)"
   ]
  },
  {
   "cell_type": "markdown",
   "metadata": {},
   "source": [
    "* 除了lambda还可以用operator.attrgetter()"
   ]
  },
  {
   "cell_type": "code",
   "execution_count": 31,
   "metadata": {},
   "outputs": [
    {
     "data": {
      "text/plain": [
       "[User(3), User(12), User(25)]"
      ]
     },
     "execution_count": 31,
     "metadata": {},
     "output_type": "execute_result"
    }
   ],
   "source": [
    "from operator import attrgetter\n",
    "\n",
    "sorted(users,key=attrgetter('user_id'))"
   ]
  },
  {
   "cell_type": "markdown",
   "metadata": {},
   "source": [
    "使用lambda还是attrgetter取决于自身喜好 通常attrgetter要快一些,而且attr具有同时提取多个字段值的能力\n",
    "* attrgetter也可以用于min()和max()"
   ]
  },
  {
   "cell_type": "markdown",
   "metadata": {},
   "source": [
    "#### 根据字段将记录分组"
   ]
  },
  {
   "cell_type": "code",
   "execution_count": 54,
   "metadata": {},
   "outputs": [
    {
     "name": "stdout",
     "output_type": "stream",
     "text": [
      "09/20/2017\n",
      "     {'date': '09/20/2017', 'phone': 13456}\n",
      "10/15/2017\n",
      "     {'date': '10/15/2017', 'phone': 1236}\n",
      "10/25/2017\n",
      "     {'date': '10/25/2017', 'phone': 55}\n",
      "10/30/2017\n",
      "     {'date': '10/30/2017', 'phone': 123456}\n",
      "11/05/2017\n",
      "     {'date': '11/05/2017', 'phone': 156}\n"
     ]
    }
   ],
   "source": [
    "rows = [\n",
    "    {'phone':123456,'date':'10/30/2017'},\n",
    "    {'phone':55,'date':'10/25/2017'},\n",
    "    {'phone':156,'date':'11/05/2017'},\n",
    "    {'phone':13456,'date':'09/20/2017'},\n",
    "    {'phone':1236,'date':'10/15/2017'}\n",
    "]\n",
    "\n",
    "from operator import itemgetter\n",
    "from itertools import groupby\n",
    "\n",
    "# 列表按date排序\n",
    "rows.sort(key=itemgetter('date'))\n",
    "\n",
    "for date,items in groupby(rows,key=itemgetter('date')):\n",
    "    print(date)\n",
    "    for i in items:\n",
    "        print('    ',i)"
   ]
  },
  {
   "cell_type": "markdown",
   "metadata": {},
   "source": [
    "#### 筛选序列中的元素"
   ]
  },
  {
   "cell_type": "code",
   "execution_count": 56,
   "metadata": {},
   "outputs": [
    {
     "data": {
      "text/plain": [
       "[1, 2, 3]"
      ]
     },
     "execution_count": 56,
     "metadata": {},
     "output_type": "execute_result"
    }
   ],
   "source": [
    "mylist = [1,2,3,-1,-2,-10]\n",
    "[n for n in mylist if n>0]"
   ]
  },
  {
   "cell_type": "markdown",
   "metadata": {},
   "source": [
    "#### 将名称映射到序列的元素中"
   ]
  },
  {
   "cell_type": "code",
   "execution_count": 59,
   "metadata": {},
   "outputs": [
    {
     "data": {
      "text/plain": [
       "'2017-10-30'"
      ]
     },
     "execution_count": 59,
     "metadata": {},
     "output_type": "execute_result"
    }
   ],
   "source": [
    "from collections import namedtuple\n",
    "\n",
    "Subscriber = namedtuple('Subscriber',['addr','joined'])\n",
    "sub = Subscriber('123@abc.net','2017-10-30')\n",
    "sub.joined"
   ]
  },
  {
   "cell_type": "markdown",
   "metadata": {},
   "source": [
    "* 如果需要涉及字典的大型数据结构,使用namedtuple会更加有效,但是需要注意的是namedtuple是不可变的\n",
    "* 如果需要修改任何属性通过_replace()实现 该方法会创建一个全新的命名元组"
   ]
  },
  {
   "cell_type": "code",
   "execution_count": 62,
   "metadata": {},
   "outputs": [
    {
     "data": {
      "text/plain": [
       "Subscriber(addr='456@123.net', joined='2017-10-30')"
      ]
     },
     "execution_count": 62,
     "metadata": {},
     "output_type": "execute_result"
    }
   ],
   "source": [
    "sub = sub._replace(addr='456@123.net')\n",
    "sub"
   ]
  },
  {
   "cell_type": "markdown",
   "metadata": {},
   "source": [
    "#### 将多个映射合并为单个映射"
   ]
  },
  {
   "cell_type": "code",
   "execution_count": 79,
   "metadata": {},
   "outputs": [
    {
     "name": "stdout",
     "output_type": "stream",
     "text": [
      "ChainMap({'x': 1, 'y': 3}, {'z': 5, 'y': 2})\n",
      "ChainMap({'x': 1}, {'z': 5, 'y': 2})\n"
     ]
    },
    {
     "data": {
      "text/plain": [
       "{'x': 1, 'y': 2, 'z': 5}"
      ]
     },
     "execution_count": 79,
     "metadata": {},
     "output_type": "execute_result"
    }
   ],
   "source": [
    "a = {'x':1,'y':3}\n",
    "b = {'y':2,'z':5}\n",
    "\n",
    "# 第一种\n",
    "from collections import ChainMap\n",
    "c = ChainMap(a,b)\n",
    "print(c)\n",
    "del c['y']\n",
    "print(c)\n",
    "c['y']\n",
    "\n",
    "# 第二种 \n",
    "c = a\n",
    "# update()会改变原始数据\n",
    "c.update(b)\n",
    "c"
   ]
  },
  {
   "cell_type": "code",
   "execution_count": null,
   "metadata": {},
   "outputs": [],
   "source": []
  }
 ],
 "metadata": {
  "kernelspec": {
   "display_name": "Python 3",
   "language": "python",
   "name": "python3"
  },
  "language_info": {
   "codemirror_mode": {
    "name": "ipython",
    "version": 3
   },
   "file_extension": ".py",
   "mimetype": "text/x-python",
   "name": "python",
   "nbconvert_exporter": "python",
   "pygments_lexer": "ipython3",
   "version": "3.5.2"
  }
 },
 "nbformat": 4,
 "nbformat_minor": 2
}
